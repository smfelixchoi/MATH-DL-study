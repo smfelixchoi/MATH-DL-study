{
 "cells": [
  {
   "cell_type": "markdown",
   "metadata": {
    "id": "aENjWha3KApZ"
   },
   "source": [
    "Basic MLP with MNIST data\n",
    "==========="
   ]
  },
  {
   "cell_type": "markdown",
   "metadata": {},
   "source": [
    "Import pakages\n",
    "-----"
   ]
  },
  {
   "cell_type": "code",
   "execution_count": 1,
   "metadata": {
    "id": "c8EdXUqvIEVe"
   },
   "outputs": [],
   "source": [
    "import numpy as np\n",
    "import matplotlib.pyplot as plt\n",
    "from sklearn.datasets import fetch_openml"
   ]
  },
  {
   "cell_type": "markdown",
   "metadata": {},
   "source": [
    "Download datas\n",
    "-----"
   ]
  },
  {
   "cell_type": "code",
   "execution_count": 2,
   "metadata": {
    "id": "d6kxGFAqIETZ"
   },
   "outputs": [],
   "source": [
    "mnist = fetch_openml('mnist_784', version=1, cache=True, as_frame=False)"
   ]
  },
  {
   "cell_type": "code",
   "execution_count": 3,
   "metadata": {
    "colab": {
     "base_uri": "https://localhost:8080/"
    },
    "id": "_jd13ayRIxKw",
    "outputId": "7c6cf5a3-c28c-4d31-cdb6-8beac2315e85",
    "scrolled": true
   },
   "outputs": [
    {
     "name": "stdout",
     "output_type": "stream",
     "text": [
      "[  0.   0.   0.   0.   0.   0.   0.   0.   0.   0.   0.   0.   0.   0.\n",
      "   0.   0.   0.   0.   0.   0.   0.   0.   0.   0.   0.   0.   0.   0.\n",
      "   0.   0.   0.   0.   0.   0.   0.   0.   0.   0.   0.   0.   0.   0.\n",
      "   0.   0.   0.   0.   0.   0.   0.   0.   0.   0.   0.   0.   0.   0.\n",
      "   0.   0.   0.   0.   0.   0.   0.   0.   0.   0.   0.   0.   0.   0.\n",
      "   0.   0.   0.   0.   0.   0.   0.   0.   0.   0.   0.   0.   0.   0.\n",
      "   0.   0.   0.   0.   0.   0.   0.   0.   0.   0.   0.   0.   0.   0.\n",
      "   0.   0.   0.   0.   0.   0.   0.   0.   0.   0.   0.   0.   0.   0.\n",
      "   0.   0.   0.   0.   0.   0.   0.   0.   0.   0.   0.   0.   0.   0.\n",
      "   0.   0.   0.   0.   0.   0.   0.   0.   0.   0.   0.   0.   0.   0.\n",
      "   0.   0.   0.   0.   0.   0.   0.   0.   0.   0.   0.   0.   3.  18.\n",
      "  18.  18. 126. 136. 175.  26. 166. 255. 247. 127.   0.   0.   0.   0.\n",
      "   0.   0.   0.   0.   0.   0.   0.   0.  30.  36.  94. 154. 170. 253.\n",
      " 253. 253. 253. 253. 225. 172. 253. 242. 195.  64.   0.   0.   0.   0.\n",
      "   0.   0.   0.   0.   0.   0.   0.  49. 238. 253. 253. 253. 253. 253.\n",
      " 253. 253. 253. 251.  93.  82.  82.  56.  39.   0.   0.   0.   0.   0.\n",
      "   0.   0.   0.   0.   0.   0.   0.  18. 219. 253. 253. 253. 253. 253.\n",
      " 198. 182. 247. 241.   0.   0.   0.   0.   0.   0.   0.   0.   0.   0.\n",
      "   0.   0.   0.   0.   0.   0.   0.   0.  80. 156. 107. 253. 253. 205.\n",
      "  11.   0.  43. 154.   0.   0.   0.   0.   0.   0.   0.   0.   0.   0.\n",
      "   0.   0.   0.   0.   0.   0.   0.   0.   0.  14.   1. 154. 253.  90.\n",
      "   0.   0.   0.   0.   0.   0.   0.   0.   0.   0.   0.   0.   0.   0.\n",
      "   0.   0.   0.   0.   0.   0.   0.   0.   0.   0.   0. 139. 253. 190.\n",
      "   2.   0.   0.   0.   0.   0.   0.   0.   0.   0.   0.   0.   0.   0.\n",
      "   0.   0.   0.   0.   0.   0.   0.   0.   0.   0.   0.  11. 190. 253.\n",
      "  70.   0.   0.   0.   0.   0.   0.   0.   0.   0.   0.   0.   0.   0.\n",
      "   0.   0.   0.   0.   0.   0.   0.   0.   0.   0.   0.   0.  35. 241.\n",
      " 225. 160. 108.   1.   0.   0.   0.   0.   0.   0.   0.   0.   0.   0.\n",
      "   0.   0.   0.   0.   0.   0.   0.   0.   0.   0.   0.   0.   0.  81.\n",
      " 240. 253. 253. 119.  25.   0.   0.   0.   0.   0.   0.   0.   0.   0.\n",
      "   0.   0.   0.   0.   0.   0.   0.   0.   0.   0.   0.   0.   0.   0.\n",
      "  45. 186. 253. 253. 150.  27.   0.   0.   0.   0.   0.   0.   0.   0.\n",
      "   0.   0.   0.   0.   0.   0.   0.   0.   0.   0.   0.   0.   0.   0.\n",
      "   0.  16.  93. 252. 253. 187.   0.   0.   0.   0.   0.   0.   0.   0.\n",
      "   0.   0.   0.   0.   0.   0.   0.   0.   0.   0.   0.   0.   0.   0.\n",
      "   0.   0.   0. 249. 253. 249.  64.   0.   0.   0.   0.   0.   0.   0.\n",
      "   0.   0.   0.   0.   0.   0.   0.   0.   0.   0.   0.   0.   0.   0.\n",
      "  46. 130. 183. 253. 253. 207.   2.   0.   0.   0.   0.   0.   0.   0.\n",
      "   0.   0.   0.   0.   0.   0.   0.   0.   0.   0.   0.   0.  39. 148.\n",
      " 229. 253. 253. 253. 250. 182.   0.   0.   0.   0.   0.   0.   0.   0.\n",
      "   0.   0.   0.   0.   0.   0.   0.   0.   0.   0.  24. 114. 221. 253.\n",
      " 253. 253. 253. 201.  78.   0.   0.   0.   0.   0.   0.   0.   0.   0.\n",
      "   0.   0.   0.   0.   0.   0.   0.   0.  23.  66. 213. 253. 253. 253.\n",
      " 253. 198.  81.   2.   0.   0.   0.   0.   0.   0.   0.   0.   0.   0.\n",
      "   0.   0.   0.   0.   0.   0.  18. 171. 219. 253. 253. 253. 253. 195.\n",
      "  80.   9.   0.   0.   0.   0.   0.   0.   0.   0.   0.   0.   0.   0.\n",
      "   0.   0.   0.   0.  55. 172. 226. 253. 253. 253. 253. 244. 133.  11.\n",
      "   0.   0.   0.   0.   0.   0.   0.   0.   0.   0.   0.   0.   0.   0.\n",
      "   0.   0.   0.   0. 136. 253. 253. 253. 212. 135. 132.  16.   0.   0.\n",
      "   0.   0.   0.   0.   0.   0.   0.   0.   0.   0.   0.   0.   0.   0.\n",
      "   0.   0.   0.   0.   0.   0.   0.   0.   0.   0.   0.   0.   0.   0.\n",
      "   0.   0.   0.   0.   0.   0.   0.   0.   0.   0.   0.   0.   0.   0.\n",
      "   0.   0.   0.   0.   0.   0.   0.   0.   0.   0.   0.   0.   0.   0.\n",
      "   0.   0.   0.   0.   0.   0.   0.   0.   0.   0.   0.   0.   0.   0.\n",
      "   0.   0.   0.   0.   0.   0.   0.   0.   0.   0.   0.   0.   0.   0.\n",
      "   0.   0.   0.   0.   0.   0.   0.   0.   0.   0.   0.   0.   0.   0.]\n",
      "<class 'numpy.ndarray'>\n"
     ]
    }
   ],
   "source": [
    "print(mnist.data[0])\n",
    "print(type(mnist.data[0]))"
   ]
  },
  {
   "cell_type": "code",
   "execution_count": 4,
   "metadata": {
    "colab": {
     "base_uri": "https://localhost:8080/"
    },
    "id": "9sJgCBSZI0bd",
    "outputId": "7eb94a7d-b5fc-4f32-8874-6ca22f75d7d4"
   },
   "outputs": [
    {
     "name": "stdout",
     "output_type": "stream",
     "text": [
      "5\n",
      "<class 'str'>\n"
     ]
    }
   ],
   "source": [
    "print(mnist.target[0])\n",
    "print(type(mnist.target[0]))"
   ]
  },
  {
   "cell_type": "markdown",
   "metadata": {},
   "source": [
    "Preprocess datas\n",
    "----"
   ]
  },
  {
   "cell_type": "code",
   "execution_count": 5,
   "metadata": {
    "id": "N82C-hZPI3D5"
   },
   "outputs": [],
   "source": [
    "mnist.target = mnist.target.astype(np.int8) # Target이 지금 'str'형으로 되어 있는데 이를 'int'형으로 바꿈\n"
   ]
  },
  {
   "cell_type": "code",
   "execution_count": 6,
   "metadata": {
    "id": "Qx9eW1foJ35J"
   },
   "outputs": [],
   "source": [
    "X = mnist.data / 255  # 0-255값을 [0,1] 구간으로 정규화\n",
    "y = mnist.target"
   ]
  },
  {
   "cell_type": "code",
   "execution_count": 7,
   "metadata": {
    "colab": {
     "base_uri": "https://localhost:8080/",
     "height": 283
    },
    "id": "YFb79ONkJ7wb",
    "outputId": "81a3d121-33aa-4c74-89df-d03b61991ecf"
   },
   "outputs": [
    {
     "name": "stdout",
     "output_type": "stream",
     "text": [
      "이 이미지 데이터의 레이블은 5이다\n"
     ]
    },
    {
     "data": {
      "image/png": "[encoded data removed]",
      "text/plain": [
       "<Figure size 640x480 with 1 Axes>"
      ]
     },
     "metadata": {},
     "output_type": "display_data"
    }
   ],
   "source": [
    "plt.imshow(X[0].reshape(28, 28), cmap='gray')\n",
    "print(\"이 이미지 데이터의 레이블은 {:.0f}이다\".format(y[0]))"
   ]
  },
  {
   "cell_type": "code",
   "execution_count": 8,
   "metadata": {
    "id": "KQoHcLTZKrWi"
   },
   "outputs": [],
   "source": [
    "import torch\n",
    "from torch.utils.data import TensorDataset, DataLoader\n",
    "from sklearn.model_selection import train_test_split\n",
    "from torch import nn\n",
    "from torchsummary import summary as summary_\n"
   ]
  },
  {
   "cell_type": "code",
   "execution_count": 9,
   "metadata": {
    "id": "RXZfZfk_KuIM"
   },
   "outputs": [],
   "source": [
    "X_train, X_test, y_train, y_test = train_test_split(X, y, test_size=1/7, random_state=0)\n",
    "\n",
    "X_train = torch.Tensor(X_train)\n",
    "X_test = torch.Tensor(X_test)\n",
    "y_train = torch.LongTensor(y_train)\n",
    "y_test = torch.LongTensor(y_test)\n",
    "\n",
    "ds_train = TensorDataset(X_train, y_train)\n",
    "ds_test = TensorDataset(X_test, y_test)\n",
    "\n",
    "loader_train = DataLoader(ds_train, batch_size=64, shuffle=True)\n",
    "loader_test = DataLoader(ds_test, batch_size=64, shuffle=False)"
   ]
  },
  {
   "cell_type": "code",
   "execution_count": 35,
   "metadata": {
    "colab": {
     "base_uri": "https://localhost:8080/"
    },
    "id": "JxB0RIFZKvrP",
    "outputId": "935c198b-65d2-46f0-bea7-a4f6551041ba"
   },
   "outputs": [
    {
     "name": "stdout",
     "output_type": "stream",
     "text": [
      "----------------------------------------------------------------\n",
      "        Layer (type)               Output Shape         Param #\n",
      "================================================================\n",
      "            Linear-1                  [-1, 512]         401,920\n",
      "              ReLU-2                  [-1, 512]               0\n",
      "            Linear-3                  [-1, 256]         131,328\n",
      "              ReLU-4                  [-1, 256]               0\n",
      "            Linear-5                  [-1, 256]          65,792\n",
      "              ReLU-6                  [-1, 256]               0\n",
      "            Linear-7                  [-1, 128]          32,896\n",
      "              ReLU-8                  [-1, 128]               0\n",
      "            Linear-9                  [-1, 128]          16,512\n",
      "             ReLU-10                  [-1, 128]               0\n",
      "           Linear-11                   [-1, 64]           8,256\n",
      "             ReLU-12                   [-1, 64]               0\n",
      "           Linear-13                   [-1, 10]             650\n",
      "================================================================\n",
      "Total params: 657,354\n",
      "Trainable params: 657,354\n",
      "Non-trainable params: 0\n",
      "----------------------------------------------------------------\n",
      "Input size (MB): 0.00\n",
      "Forward/backward pass size (MB): 0.02\n",
      "Params size (MB): 2.51\n",
      "Estimated Total Size (MB): 2.53\n",
      "----------------------------------------------------------------\n"
     ]
    }
   ],
   "source": [
    "model = nn.Sequential()\n",
    "model.add_module('fc1', nn.Linear(28*28*1, 512))\n",
    "model.add_module('relu1', nn.ReLU())\n",
    "model.add_module('fc2', nn.Linear(512, 256))\n",
    "model.add_module('relu2', nn.ReLU())\n",
    "model.add_module('fc3', nn.Linear(256, 256))\n",
    "model.add_module('relu3', nn.ReLU())\n",
    "model.add_module('fc4', nn.Linear(256, 128))\n",
    "model.add_module('relu4', nn.ReLU())\n",
    "model.add_module('fc5', nn.Linear(128, 128))\n",
    "model.add_module('relu5', nn.ReLU())\n",
    "model.add_module('fc6', nn.Linear(128, 64))\n",
    "model.add_module('relu6', nn.ReLU())\n",
    "model.add_module('fc7', nn.Linear(64, 10))\n",
    "\n",
    "summary_(model,input_size=(28*28,))"
   ]
  },
  {
   "cell_type": "code",
   "execution_count": 36,
   "metadata": {
    "id": "sVFu4BykKytd"
   },
   "outputs": [],
   "source": [
    "from torch import optim\n",
    "\n",
    "# 오차함수 선택\n",
    "loss_fn = nn.CrossEntropyLoss()\n",
    "\n",
    "# 가중치를 학습하기 위한 최적화 기법 선택\n",
    "optimizer = optim.Adam(model.parameters(), lr=0.001)"
   ]
  },
  {
   "cell_type": "code",
   "execution_count": 37,
   "metadata": {
    "id": "bnWQPYfyK53N"
   },
   "outputs": [],
   "source": [
    "def train(epoch):\n",
    "    model.train()  # 신경망을 학습 모드로 전환\n",
    "    \n",
    "    correct = 0\n",
    "\n",
    "    # 데이터로더에서 미니배치를 하나씩 꺼내 학습을 수행\n",
    "    for data, targets in loader_train:\n",
    "\n",
    "        optimizer.zero_grad()  # 경사를 0으로 초기화\n",
    "        outputs = model(data)  # 데이터를 입력하고 출력을 계산\n",
    "        loss = loss_fn(outputs, targets)  # 출력과 훈련 데이터 정답 간의 오차를 계산\n",
    "        loss.backward()  # 오차를 역전파 계산\n",
    "        optimizer.step()  # 역전파 계산한 값으로 가중치를 수정\n",
    "        \n",
    "        with torch.no_grad():\n",
    "            outputs = model(data)\n",
    "            _, predicted = torch.max(outputs.data, 1)\n",
    "            correct += predicted.eq(targets.data.view_as(predicted)).sum()\n",
    "            \n",
    "    data_num = len(loader_train.dataset)  # 데이터 총 건수\n",
    "    print('\\n학습 데이터에서 예측 정확도: {}/{} ({:.2f}%)\\n'.format(correct,\n",
    "                                                   data_num, 100. * float(correct) / float(data_num)))\n",
    "\n",
    "    print(\"epoch{}：완료\\n\".format(epoch))"
   ]
  },
  {
   "cell_type": "code",
   "execution_count": 38,
   "metadata": {
    "id": "aSQNpDsDK7b7"
   },
   "outputs": [],
   "source": [
    "def test():\n",
    "    model.eval()  # 신경망을 추론 모드로 전환\n",
    "    correct = 0\n",
    "\n",
    "    # 데이터로더에서 미니배치를 하나씩 꺼내 추론을 수행\n",
    "    with torch.no_grad():  # 추론 과정에는 미분이 필요없음\n",
    "        for data, targets in loader_test:\n",
    "\n",
    "            outputs = model(data)  # 데이터를 입력하고 출력을 계산\n",
    "\n",
    "            # 추론 계산\n",
    "            _, predicted = torch.max(outputs.data, 1)  # 확률이 가장 높은 레이블이 무엇인지 계산\n",
    "            correct += predicted.eq(targets.data.view_as(predicted)).sum()  # 정답과 일치한 경우 정답 카운트를 증가\n",
    "\n",
    "    # 정확도 출력\n",
    "    data_num = len(loader_test.dataset)  # 데이터 총 건수\n",
    "    print('\\n테스트 데이터에서 예측 정확도: {}/{} ({:.2f}%)\\n'.format(correct,\n",
    "                                                   data_num, 100. * float(correct) / float(data_num)))\n",
    "    return float(correct) / float(data_num)"
   ]
  },
  {
   "cell_type": "code",
   "execution_count": 39,
   "metadata": {
    "colab": {
     "base_uri": "https://localhost:8080/"
    },
    "id": "NBTyrwJUK9iv",
    "outputId": "b6f2596b-8c7a-4e0e-d4f5-e23f763d29ef"
   },
   "outputs": [
    {
     "name": "stdout",
     "output_type": "stream",
     "text": [
      "\n",
      "테스트 데이터에서 예측 정확도: 963/10000 (9.63%)\n",
      "\n"
     ]
    },
    {
     "data": {
      "text/plain": [
       "0.0963"
      ]
     },
     "execution_count": 39,
     "metadata": {},
     "output_type": "execute_result"
    }
   ],
   "source": [
    "test()\n"
   ]
  },
  {
   "cell_type": "code",
   "execution_count": 40,
   "metadata": {
    "colab": {
     "base_uri": "https://localhost:8080/"
    },
    "id": "6BYZnrHiMknN",
    "outputId": "f25ab683-4f23-41e6-eb77-fcc2e58b5dd5"
   },
   "outputs": [
    {
     "name": "stdout",
     "output_type": "stream",
     "text": [
      "\n",
      "학습 데이터에서 예측 정확도: 54190/60000 (90.32%)\n",
      "\n",
      "epoch1：완료\n",
      "\n",
      "\n",
      "테스트 데이터에서 예측 정확도: 9562/10000 (95.62%)\n",
      "\n",
      "====================\n",
      "\n",
      "학습 데이터에서 예측 정확도: 58594/60000 (97.66%)\n",
      "\n",
      "epoch2：완료\n",
      "\n",
      "\n",
      "테스트 데이터에서 예측 정확도: 9694/10000 (96.94%)\n",
      "\n",
      "====================\n",
      "\n",
      "학습 데이터에서 예측 정확도: 59131/60000 (98.55%)\n",
      "\n",
      "epoch3：완료\n",
      "\n",
      "\n",
      "테스트 데이터에서 예측 정확도: 9694/10000 (96.94%)\n",
      "\n",
      "====================\n",
      "\n",
      "학습 데이터에서 예측 정확도: 59370/60000 (98.95%)\n",
      "\n",
      "epoch4：완료\n",
      "\n",
      "\n",
      "테스트 데이터에서 예측 정확도: 9707/10000 (97.07%)\n",
      "\n",
      "====================\n",
      "\n",
      "학습 데이터에서 예측 정확도: 59506/60000 (99.18%)\n",
      "\n",
      "epoch5：완료\n",
      "\n",
      "\n",
      "테스트 데이터에서 예측 정확도: 9738/10000 (97.38%)\n",
      "\n",
      "====================\n",
      "\n",
      "학습 데이터에서 예측 정확도: 59637/60000 (99.39%)\n",
      "\n",
      "epoch6：완료\n",
      "\n",
      "\n",
      "테스트 데이터에서 예측 정확도: 9748/10000 (97.48%)\n",
      "\n",
      "====================\n",
      "\n",
      "학습 데이터에서 예측 정확도: 59715/60000 (99.53%)\n",
      "\n",
      "epoch7：완료\n",
      "\n",
      "\n",
      "테스트 데이터에서 예측 정확도: 9768/10000 (97.68%)\n",
      "\n",
      "====================\n",
      "\n",
      "학습 데이터에서 예측 정확도: 59764/60000 (99.61%)\n",
      "\n",
      "epoch8：완료\n",
      "\n",
      "\n",
      "테스트 데이터에서 예측 정확도: 9764/10000 (97.64%)\n",
      "\n",
      "====================\n",
      "\n",
      "학습 데이터에서 예측 정확도: 59760/60000 (99.60%)\n",
      "\n",
      "epoch9：완료\n",
      "\n",
      "\n",
      "테스트 데이터에서 예측 정확도: 9780/10000 (97.80%)\n",
      "\n",
      "====================\n",
      "\n",
      "학습 데이터에서 예측 정확도: 59804/60000 (99.67%)\n",
      "\n",
      "epoch10：완료\n",
      "\n",
      "\n",
      "테스트 데이터에서 예측 정확도: 9768/10000 (97.68%)\n",
      "\n",
      "====================\n",
      "\n",
      "학습 데이터에서 예측 정확도: 59847/60000 (99.75%)\n",
      "\n",
      "epoch11：완료\n",
      "\n",
      "\n",
      "테스트 데이터에서 예측 정확도: 9774/10000 (97.74%)\n",
      "\n",
      "====================\n",
      "\n",
      "학습 데이터에서 예측 정확도: 59844/60000 (99.74%)\n",
      "\n",
      "epoch12：완료\n",
      "\n",
      "\n",
      "테스트 데이터에서 예측 정확도: 9757/10000 (97.57%)\n",
      "\n",
      "====================\n",
      "\n",
      "학습 데이터에서 예측 정확도: 59871/60000 (99.78%)\n",
      "\n",
      "epoch13：완료\n",
      "\n",
      "\n",
      "테스트 데이터에서 예측 정확도: 9759/10000 (97.59%)\n",
      "\n",
      "====================\n",
      "\n",
      "학습 데이터에서 예측 정확도: 59887/60000 (99.81%)\n",
      "\n",
      "epoch14：완료\n",
      "\n",
      "\n",
      "테스트 데이터에서 예측 정확도: 9802/10000 (98.02%)\n",
      "\n",
      "====================\n",
      "\n",
      "학습 데이터에서 예측 정확도: 59877/60000 (99.80%)\n",
      "\n",
      "epoch15：완료\n",
      "\n",
      "\n",
      "테스트 데이터에서 예측 정확도: 9758/10000 (97.58%)\n",
      "\n",
      "====================\n",
      "\n",
      "학습 데이터에서 예측 정확도: 59871/60000 (99.78%)\n",
      "\n",
      "epoch16：완료\n",
      "\n",
      "\n",
      "테스트 데이터에서 예측 정확도: 9782/10000 (97.82%)\n",
      "\n",
      "====================\n",
      "\n",
      "학습 데이터에서 예측 정확도: 59905/60000 (99.84%)\n",
      "\n",
      "epoch17：완료\n",
      "\n",
      "\n",
      "테스트 데이터에서 예측 정확도: 9782/10000 (97.82%)\n",
      "\n",
      "====================\n",
      "\n",
      "학습 데이터에서 예측 정확도: 59912/60000 (99.85%)\n",
      "\n",
      "epoch18：완료\n",
      "\n",
      "\n",
      "테스트 데이터에서 예측 정확도: 9782/10000 (97.82%)\n",
      "\n",
      "====================\n",
      "\n",
      "학습 데이터에서 예측 정확도: 59929/60000 (99.88%)\n",
      "\n",
      "epoch19：완료\n",
      "\n",
      "\n",
      "테스트 데이터에서 예측 정확도: 9814/10000 (98.14%)\n",
      "\n",
      "====================\n",
      "\n",
      "학습 데이터에서 예측 정확도: 59937/60000 (99.89%)\n",
      "\n",
      "epoch20：완료\n",
      "\n",
      "\n",
      "테스트 데이터에서 예측 정확도: 9811/10000 (98.11%)\n",
      "\n",
      "====================\n"
     ]
    }
   ],
   "source": [
    "acc = []\n",
    "MAX_ITERATION=20\n",
    "for epoch in range(MAX_ITERATION):\n",
    "    train(epoch+1)\n",
    "    acc.append(test())\n",
    "    print('====================')\n"
   ]
  },
  {
   "cell_type": "code",
   "execution_count": 41,
   "metadata": {
    "colab": {
     "base_uri": "https://localhost:8080/",
     "height": 283
    },
    "id": "Rx3WD5hcMzHB",
    "outputId": "5527b01c-9e69-42af-d1d9-ed1be7b93fc3"
   },
   "outputs": [
    {
     "data": {
      "text/plain": [
       "[<matplotlib.lines.Line2D at 0x7f7d76ae1e20>]"
      ]
     },
     "execution_count": 41,
     "metadata": {},
     "output_type": "execute_result"
    },
    {
     "data": {
      "image/png": "[encoded data removed]",
      "text/plain": [
       "<Figure size 640x480 with 1 Axes>"
      ]
     },
     "metadata": {},
     "output_type": "display_data"
    }
   ],
   "source": [
    "plt.plot(acc)"
   ]
  },
  {
   "cell_type": "code",
   "execution_count": 42,
   "metadata": {},
   "outputs": [
    {
     "name": "stdout",
     "output_type": "stream",
     "text": [
      "[[0.         0.         0.         0.         0.         0.\n",
      "  0.         0.         0.         0.         0.         0.\n",
      "  0.         0.         0.         0.         0.         0.\n",
      "  0.         0.         0.         0.         0.         0.\n",
      "  0.         0.         0.         0.        ]\n",
      " [0.         0.         0.         0.         0.         0.\n",
      "  0.         0.         0.         0.         0.         0.\n",
      "  0.         0.         0.         0.         0.         0.\n",
      "  0.         0.         0.         0.         0.         0.\n",
      "  0.         0.         0.         0.        ]\n",
      " [0.         0.         0.         0.         0.         0.\n",
      "  0.         0.         0.         0.         0.         0.\n",
      "  0.         0.         0.         0.         0.         0.\n",
      "  0.         0.         0.         0.         0.         0.\n",
      "  0.         0.         0.         0.        ]\n",
      " [0.         0.         0.         0.         0.         0.\n",
      "  0.         0.         0.         0.         0.         0.\n",
      "  0.         0.         0.         0.         0.         0.\n",
      "  0.         0.         0.         0.         0.         0.\n",
      "  0.         0.         0.         0.        ]\n",
      " [0.         0.         0.         0.         0.         0.\n",
      "  0.         0.         0.         0.         0.         0.\n",
      "  0.         0.         0.         0.         0.         0.\n",
      "  0.         0.         0.         0.         0.         0.\n",
      "  0.         0.         0.         0.        ]\n",
      " [0.         0.         0.         0.         0.         0.\n",
      "  0.         0.         0.         0.         0.         0.\n",
      "  0.         0.         0.         0.         0.         0.\n",
      "  0.         0.         0.         0.         0.         0.\n",
      "  0.         0.         0.         0.        ]\n",
      " [0.         0.         0.         0.         0.         0.\n",
      "  0.         0.         0.         0.         0.         0.\n",
      "  0.         0.         0.         0.         0.         0.\n",
      "  0.         0.         0.         0.         0.         0.\n",
      "  0.         0.         0.         0.        ]\n",
      " [0.         0.         0.         0.         0.         0.\n",
      "  0.         0.         0.         0.         0.         0.\n",
      "  0.         0.         0.         0.         0.         0.\n",
      "  0.         0.         0.         0.         0.         0.\n",
      "  0.         0.         0.         0.        ]\n",
      " [0.         0.         0.         0.         0.         0.\n",
      "  0.         0.         0.         0.         0.         0.\n",
      "  0.         0.         0.         0.         0.00392157 0.\n",
      "  0.         0.         0.         0.00784314 0.         0.\n",
      "  0.         0.01568627 0.         0.        ]\n",
      " [0.         0.         0.         0.         0.         0.\n",
      "  0.         0.         0.         0.         0.         0.\n",
      "  0.         0.         0.         0.         0.         0.03137255\n",
      "  0.         0.         0.         0.00392157 0.00392157 0.01176471\n",
      "  0.00784314 0.         0.01568627 0.00392157]\n",
      " [0.         0.         0.         0.         0.         0.\n",
      "  0.         0.         0.         0.         0.         0.\n",
      "  0.         0.         0.         0.         0.         0.00392157\n",
      "  0.         0.         0.02352941 0.         0.         0.\n",
      "  0.00392157 0.         0.         0.        ]\n",
      " [0.         0.         0.         0.         0.         0.\n",
      "  0.         0.         0.         0.         0.         0.\n",
      "  0.         0.         0.         0.         0.00784314 0.01568627\n",
      "  0.00392157 0.01176471 0.         0.00392157 0.         0.\n",
      "  0.01568627 0.         0.00784314 0.        ]\n",
      " [0.         0.         0.         0.         0.         0.\n",
      "  0.         0.         0.         0.         0.         0.\n",
      "  0.         0.         0.         0.         0.         0.\n",
      "  0.         0.         0.00392157 0.00784314 0.00784314 0.\n",
      "  0.         0.00784314 0.         0.00392157]\n",
      " [0.         0.         0.         0.         0.         0.\n",
      "  0.         0.         0.         0.         0.         0.\n",
      "  0.         0.         0.         0.         0.01960784 0.\n",
      "  0.         0.         0.         0.         0.00784314 0.\n",
      "  0.00784314 0.00784314 0.01176471 0.00392157]\n",
      " [0.         0.         0.         0.         0.         0.\n",
      "  0.         0.         0.         0.         0.         0.\n",
      "  0.         0.         0.         0.         0.         0.00392157\n",
      "  0.         0.00784314 0.00392157 0.         0.         0.38431373\n",
      "  0.74901961 0.36862745 0.         0.        ]\n",
      " [0.         0.         0.         0.         0.         0.\n",
      "  0.         0.         0.         0.         0.         0.\n",
      "  0.         0.         0.         0.         0.00392157 0.27843137\n",
      "  0.75294118 0.36862745 0.00784314 0.00392157 0.4        0.99607843\n",
      "  1.         0.96862745 0.03529412 0.00392157]\n",
      " [0.         0.         0.         0.         0.         0.\n",
      "  0.         0.         0.00392157 0.         0.00392157 0.\n",
      "  0.01176471 0.         0.         0.00784314 0.28235294 0.9372549\n",
      "  1.         0.97647059 0.         0.28627451 0.94509804 0.99607843\n",
      "  1.         0.64705882 0.         0.00392157]\n",
      " [0.         0.         0.         0.         0.         0.\n",
      "  0.         0.         0.         0.         0.         0.\n",
      "  0.         0.         0.01568627 0.         0.91372549 1.\n",
      "  1.         0.99607843 0.         0.91764706 0.98431373 1.\n",
      "  1.         0.03529412 0.00784314 0.        ]\n",
      " [0.         0.         0.         0.         0.         0.\n",
      "  0.         0.         0.00392157 0.00392157 0.00784314 0.01568627\n",
      "  0.         0.         0.         0.28627451 0.98823529 1.\n",
      "  1.         0.57647059 0.00392157 1.         0.98431373 1.\n",
      "  0.57647059 0.00784314 0.01176471 0.        ]\n",
      " [0.         0.         0.         0.         0.         0.\n",
      "  0.         0.         0.         0.         0.         0.\n",
      "  0.         0.01176471 0.01176471 0.89803922 1.         1.\n",
      "  0.99215686 1.         0.99215686 1.         1.         0.99215686\n",
      "  0.89411765 0.36078431 0.         0.01568627]\n",
      " [0.         0.         0.         0.         0.         0.\n",
      "  0.         0.         0.         0.00784314 0.01176471 0.01176471\n",
      "  0.         0.         0.         0.96078431 0.97647059 0.99607843\n",
      "  1.         0.98823529 1.         0.99607843 1.         0.99215686\n",
      "  1.         0.96078431 0.01176471 0.        ]\n",
      " [0.         0.         0.         0.         0.         0.\n",
      "  0.         0.         0.         0.00784314 0.         0.\n",
      "  0.00784314 0.         0.01568627 0.46666667 1.         1.\n",
      "  1.         0.97647059 1.         1.         0.98823529 1.\n",
      "  1.         0.59215686 0.         0.        ]\n",
      " [0.         0.         0.         0.         0.         0.\n",
      "  0.         0.         0.         0.00784314 0.         0.00784314\n",
      "  0.02745098 0.         0.         0.         0.         0.\n",
      "  0.         0.30196078 1.         0.98823529 0.99215686 0.00784314\n",
      "  0.         0.01176471 0.00784314 0.01960784]\n",
      " [0.         0.         0.         0.         0.         0.\n",
      "  0.         0.         0.         0.         0.00784314 0.\n",
      "  0.         0.         0.00784314 0.         0.00392157 0.\n",
      "  0.28235294 0.92941176 1.         1.         1.         0.\n",
      "  0.         0.01176471 0.         0.        ]\n",
      " [0.         0.         0.         0.         0.         0.\n",
      "  0.         0.         0.         0.         0.         0.\n",
      "  0.         0.         0.         0.         0.00392157 0.\n",
      "  0.90588235 0.98823529 1.         1.         0.58823529 0.\n",
      "  0.         0.         0.         0.        ]\n",
      " [0.         0.         0.         0.         0.         0.\n",
      "  0.         0.         0.         0.         0.         0.\n",
      "  0.         0.         0.         0.         0.         0.00784314\n",
      "  0.98431373 1.         0.99607843 0.58823529 0.01960784 0.\n",
      "  0.         0.         0.         0.        ]\n",
      " [0.         0.         0.         0.         0.         0.\n",
      "  0.         0.         0.         0.         0.         0.\n",
      "  0.         0.         0.         0.         0.         0.\n",
      "  0.45882353 1.         0.6        0.         0.01176471 0.\n",
      "  0.         0.         0.         0.        ]\n",
      " [0.         0.         0.         0.         0.         0.\n",
      "  0.         0.         0.         0.         0.         0.\n",
      "  0.         0.         0.         0.         0.01960784 0.\n",
      "  0.00784314 0.00392157 0.00392157 0.         0.01960784 0.\n",
      "  0.         0.         0.         0.        ]]\n"
     ]
    }
   ],
   "source": [
    "from PIL import Image\n",
    "model.eval()\n",
    "\n",
    "img = Image.open('4-1.jpeg').convert(\"L\")\n",
    "img = np.array(img)\n",
    "img = img / 255.0\n",
    "img = 1 - img\n",
    "print(img)"
   ]
  },
  {
   "cell_type": "code",
   "execution_count": 43,
   "metadata": {},
   "outputs": [
    {
     "name": "stdout",
     "output_type": "stream",
     "text": [
      "예측 결과 : 5\n"
     ]
    },
    {
     "data": {
      "text/plain": [
       "<matplotlib.image.AxesImage at 0x7f7d771f3610>"
      ]
     },
     "execution_count": 43,
     "metadata": {},
     "output_type": "execute_result"
    },
    {
     "data": {
      "image/png": "[encoded data removed]",
      "text/plain": [
       "<Figure size 640x480 with 1 Axes>"
      ]
     },
     "metadata": {},
     "output_type": "display_data"
    }
   ],
   "source": [
    "img = img.flatten()\n",
    "\n",
    "\n",
    "data = torch.tensor(img, dtype=torch.float32)\n",
    "output = model(data)  # 데이터를 입력하고 출력을 계산\n",
    "_, predicted = torch.max(output.data, 0)  # 확률이 가장 높은 레이블이 무엇인지 계산\n",
    "print(\"예측 결과 : {}\".format(predicted))\n",
    "\n",
    "plt.imshow(img.reshape(28, 28), cmap='gray')"
   ]
  },
  {
   "cell_type": "code",
   "execution_count": null,
   "metadata": {},
   "outputs": [],
   "source": []
  },
  {
   "cell_type": "markdown",
   "metadata": {},
   "source": [
    "Model with Regularization\n",
    "=====\n",
    "Pytorch gives L2 regularization basically by weight_decay in optimization.\n"
   ]
  },
  {
   "cell_type": "code",
   "execution_count": 17,
   "metadata": {},
   "outputs": [
    {
     "name": "stdout",
     "output_type": "stream",
     "text": [
      "----------------------------------------------------------------\n",
      "        Layer (type)               Output Shape         Param #\n",
      "================================================================\n",
      "            Linear-1                  [-1, 512]         401,920\n",
      "              ReLU-2                  [-1, 512]               0\n",
      "            Linear-3                  [-1, 256]         131,328\n",
      "              ReLU-4                  [-1, 256]               0\n",
      "            Linear-5                  [-1, 256]          65,792\n",
      "              ReLU-6                  [-1, 256]               0\n",
      "            Linear-7                  [-1, 128]          32,896\n",
      "              ReLU-8                  [-1, 128]               0\n",
      "            Linear-9                  [-1, 128]          16,512\n",
      "             ReLU-10                  [-1, 128]               0\n",
      "           Linear-11                   [-1, 64]           8,256\n",
      "             ReLU-12                   [-1, 64]               0\n",
      "           Linear-13                   [-1, 10]             650\n",
      "================================================================\n",
      "Total params: 657,354\n",
      "Trainable params: 657,354\n",
      "Non-trainable params: 0\n",
      "----------------------------------------------------------------\n",
      "Input size (MB): 0.00\n",
      "Forward/backward pass size (MB): 0.02\n",
      "Params size (MB): 2.51\n",
      "Estimated Total Size (MB): 2.53\n",
      "----------------------------------------------------------------\n"
     ]
    }
   ],
   "source": [
    "model_r = nn.Sequential()\n",
    "model_r.add_module('fc1', nn.Linear(28*28*1, 512))\n",
    "model_r.add_module('relu1', nn.ReLU())\n",
    "model_r.add_module('fc2', nn.Linear(512, 256))\n",
    "model_r.add_module('relu2', nn.ReLU())\n",
    "model_r.add_module('fc3', nn.Linear(256, 256))\n",
    "model_r.add_module('relu3', nn.ReLU())\n",
    "model_r.add_module('fc4', nn.Linear(256, 128))\n",
    "model_r.add_module('relu4', nn.ReLU())\n",
    "model_r.add_module('fc5', nn.Linear(128, 128))\n",
    "model_r.add_module('relu5', nn.ReLU())\n",
    "model_r.add_module('fc6', nn.Linear(128, 64))\n",
    "model_r.add_module('relu6', nn.ReLU())\n",
    "model_r.add_module('fc7', nn.Linear(64, 10))\n",
    "\n",
    "summary_(model_r,input_size=(28*28,))"
   ]
  },
  {
   "cell_type": "code",
   "execution_count": 18,
   "metadata": {},
   "outputs": [],
   "source": [
    "# 오차함수 선택\n",
    "loss_fn_r = nn.CrossEntropyLoss()\n",
    "\n",
    "# 가중치를 학습하기 위한 최적화 기법 선택\n",
    "optimizer_r = optim.Adam(model_r.parameters(), lr=0.01,weight_decay=0.0001)"
   ]
  },
  {
   "cell_type": "code",
   "execution_count": 19,
   "metadata": {},
   "outputs": [],
   "source": [
    "def train_r(epoch):\n",
    "    model_r.train()  # 신경망을 학습 모드로 전환\n",
    "\n",
    "    # 데이터로더에서 미니배치를 하나씩 꺼내 학습을 수행\n",
    "    for data, targets in loader_train:\n",
    "\n",
    "        optimizer_r.zero_grad()  # 경사를 0으로 초기화\n",
    "        outputs = model_r(data)  # 데이터를 입력하고 출력을 계산\n",
    "        loss3 = loss_fn_r(outputs, targets)  # 출력과 훈련 데이터 정답 간의 오차를 계산\n",
    "        loss3.backward()  # 오차를 역전파 계산\n",
    "        optimizer_r.step()  # 역전파 계산한 값으로 가중치를 수정\n",
    "\n",
    "    print(\"epoch{}：완료\\n\".format(epoch))"
   ]
  },
  {
   "cell_type": "code",
   "execution_count": 20,
   "metadata": {},
   "outputs": [],
   "source": [
    "def test_r():\n",
    "    model_r.eval()  # 신경망을 추론 모드로 전환\n",
    "    correct = 0\n",
    "\n",
    "    # 데이터로더에서 미니배치를 하나씩 꺼내 추론을 수행\n",
    "    with torch.no_grad():  # 추론 과정에는 미분이 필요없음\n",
    "        for data, targets in loader_test:\n",
    "\n",
    "            outputs = model_r(data)  # 데이터를 입력하고 출력을 계산\n",
    "\n",
    "            # 추론 계산\n",
    "            _, predicted = torch.max(outputs.data, 1)  # 확률이 가장 높은 레이블이 무엇인지 계산\n",
    "            correct += predicted.eq(targets.data.view_as(predicted)).sum()  # 정답과 일치한 경우 정답 카운트를 증가\n",
    "\n",
    "    # 정확도 출력\n",
    "    data_num = len(loader_test.dataset)  # 데이터 총 건수\n",
    "    print('\\n테스트 데이터에서 예측 정확도: {}/{} ({:.2f}%)\\n'.format(correct,\n",
    "                                                   data_num, 100. * correct / data_num))\n",
    "    \n",
    "    return float(correct) / float(data_num)"
   ]
  },
  {
   "cell_type": "code",
   "execution_count": 21,
   "metadata": {},
   "outputs": [
    {
     "name": "stdout",
     "output_type": "stream",
     "text": [
      "\n",
      "테스트 데이터에서 예측 정확도: 963/10000 (9.63%)\n",
      "\n"
     ]
    },
    {
     "data": {
      "text/plain": [
       "0.0963"
      ]
     },
     "execution_count": 21,
     "metadata": {},
     "output_type": "execute_result"
    }
   ],
   "source": [
    "test_r()"
   ]
  },
  {
   "cell_type": "code",
   "execution_count": 22,
   "metadata": {},
   "outputs": [
    {
     "name": "stdout",
     "output_type": "stream",
     "text": [
      "epoch0：완료\n",
      "\n",
      "\n",
      "테스트 데이터에서 예측 정확도: 9342/10000 (93.42%)\n",
      "\n",
      "epoch1：완료\n",
      "\n",
      "\n",
      "테스트 데이터에서 예측 정확도: 9263/10000 (92.63%)\n",
      "\n",
      "epoch2：완료\n",
      "\n",
      "\n",
      "테스트 데이터에서 예측 정확도: 9420/10000 (94.20%)\n",
      "\n",
      "epoch3：완료\n",
      "\n",
      "\n",
      "테스트 데이터에서 예측 정확도: 9518/10000 (95.18%)\n",
      "\n",
      "epoch4：완료\n",
      "\n",
      "\n",
      "테스트 데이터에서 예측 정확도: 9526/10000 (95.26%)\n",
      "\n",
      "epoch5：완료\n",
      "\n",
      "\n",
      "테스트 데이터에서 예측 정확도: 9547/10000 (95.47%)\n",
      "\n",
      "epoch6：완료\n",
      "\n",
      "\n",
      "테스트 데이터에서 예측 정확도: 9533/10000 (95.33%)\n",
      "\n",
      "epoch7：완료\n",
      "\n",
      "\n",
      "테스트 데이터에서 예측 정확도: 9396/10000 (93.96%)\n",
      "\n",
      "epoch8：완료\n",
      "\n",
      "\n",
      "테스트 데이터에서 예측 정확도: 9492/10000 (94.92%)\n",
      "\n",
      "epoch9：완료\n",
      "\n",
      "\n",
      "테스트 데이터에서 예측 정확도: 9599/10000 (95.99%)\n",
      "\n"
     ]
    },
    {
     "data": {
      "text/plain": [
       "[<matplotlib.lines.Line2D at 0x2488514bdf0>]"
      ]
     },
     "execution_count": 22,
     "metadata": {},
     "output_type": "execute_result"
    },
    {
     "data": {
      "image/png": "[encoded data removed]",
      "text/plain": [
       "<Figure size 432x288 with 1 Axes>"
      ]
     },
     "metadata": {
      "needs_background": "light"
     },
     "output_type": "display_data"
    }
   ],
   "source": [
    "acc_r = []\n",
    "\n",
    "for epoch in range(MAX_ITERATION):\n",
    "    train_r(epoch)\n",
    "    acc_r.append(test_r())\n",
    "\n",
    "plt.plot(acc_r)"
   ]
  },
  {
   "cell_type": "code",
   "execution_count": 23,
   "metadata": {},
   "outputs": [
    {
     "data": {
      "text/plain": [
       "[<matplotlib.lines.Line2D at 0x24885161e80>,\n",
       " <matplotlib.lines.Line2D at 0x2488517f0a0>]"
      ]
     },
     "execution_count": 23,
     "metadata": {},
     "output_type": "execute_result"
    },
    {
     "data": {
      "image/png": "[encoded data removed]",
      "text/plain": [
       "<Figure size 432x288 with 1 Axes>"
      ]
     },
     "metadata": {
      "needs_background": "light"
     },
     "output_type": "display_data"
    }
   ],
   "source": [
    "T = np.arange(MAX_ITERATION)\n",
    "plt.plot(T, acc, 'r', T, acc_r, 'b')"
   ]
  }
 ],
 "metadata": {
  "colab": {
   "provenance": []
  },
  "kernelspec": {
   "display_name": "MathDLstudy",
   "language": "python",
   "name": "mathdl"
  },
  "language_info": {
   "codemirror_mode": {
    "name": "ipython",
    "version": 3
   },
   "file_extension": ".py",
   "mimetype": "text/x-python",
   "name": "python",
   "nbconvert_exporter": "python",
   "pygments_lexer": "ipython3",
   "version": "3.8.13"
  },
  "vscode": {
   "interpreter": {
    "hash": "b45ccf6fd3c8427b2d1b5e880d896f46770117107f616a4b6b7de4d4387dfaf4"
   }
  }
 },
 "nbformat": 4,
 "nbformat_minor": 1
}
