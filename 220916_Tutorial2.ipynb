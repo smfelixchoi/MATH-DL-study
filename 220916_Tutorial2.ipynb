{
 "cells": [
  {
   "cell_type": "markdown",
   "id": "0e858af7",
   "metadata": {},
   "source": [
    "## if / elif / else 문\n",
    "`if <참 거짓 판단 문장> :\n",
    "    수행할 문장 1\n",
    "    수행할 문장 2`\n",
    "\n",
    "- if, elif, else 뒤에는 항상 colon (:)이 필수입니다.\n",
    "- 들여쓰기를 주의해야 합니다."
   ]
  },
  {
   "cell_type": "code",
   "execution_count": 1,
   "id": "86b3e6b8",
   "metadata": {},
   "outputs": [
    {
     "name": "stdout",
     "output_type": "stream",
     "text": [
      "I am hungry.\n"
     ]
    }
   ],
   "source": [
    "hungry = True\n",
    "\n",
    "if hungry:\n",
    "    print('I am hungry.')"
   ]
  },
  {
   "cell_type": "code",
   "execution_count": 2,
   "id": "3b010b9d",
   "metadata": {},
   "outputs": [],
   "source": [
    "old = False\n",
    "\n",
    "if old:\n",
    "    print('I am old.')"
   ]
  },
  {
   "cell_type": "code",
   "execution_count": 3,
   "id": "d4567662",
   "metadata": {},
   "outputs": [
    {
     "name": "stdout",
     "output_type": "stream",
     "text": [
      "4 is not in the list.\n"
     ]
    }
   ],
   "source": [
    "x = [1,2,3]\n",
    "\n",
    "if 4 in x:\n",
    "    print('4 is in the list.')\n",
    "\n",
    "else:\n",
    "    print('4 is not in the list.')"
   ]
  },
  {
   "cell_type": "code",
   "execution_count": 7,
   "id": "3a361a30",
   "metadata": {},
   "outputs": [
    {
     "name": "stdout",
     "output_type": "stream",
     "text": [
      "Take a taxi.\n",
      "Take a bus.\n"
     ]
    }
   ],
   "source": [
    "money = 30000\n",
    "\n",
    "if money > 10000:\n",
    "    print('Take a taxi.')\n",
    "    \n",
    "if money > 1500:\n",
    "    print('Take a bus.')\n",
    "\n",
    "else:\n",
    "    print('Walk home.')"
   ]
  },
  {
   "cell_type": "code",
   "execution_count": 8,
   "id": "69b18795",
   "metadata": {},
   "outputs": [
    {
     "name": "stdout",
     "output_type": "stream",
     "text": [
      "Take a taxi.\n"
     ]
    }
   ],
   "source": [
    "money = 3000\n",
    "card = True\n",
    "\n",
    "if money > 10000 or card:\n",
    "    print('Take a taxi.')\n",
    "    \n",
    "elif money > 1500:\n",
    "    print('Take a bus.')\n",
    "\n",
    "else:\n",
    "    print('Walk home.')"
   ]
  },
  {
   "cell_type": "code",
   "execution_count": null,
   "id": "f512053d",
   "metadata": {},
   "outputs": [],
   "source": []
  },
  {
   "cell_type": "code",
   "execution_count": 9,
   "id": "b4d13676",
   "metadata": {},
   "outputs": [
    {
     "data": {
      "text/plain": [
       "False"
      ]
     },
     "execution_count": 9,
     "metadata": {},
     "output_type": "execute_result"
    }
   ],
   "source": [
    "# bool 자료형에는 and/or 연산을 적용할 수 있습니다.\n",
    "\n",
    "money < 2000 and card"
   ]
  },
  {
   "cell_type": "code",
   "execution_count": 12,
   "id": "7abae9c0",
   "metadata": {},
   "outputs": [
    {
     "name": "stdout",
     "output_type": "stream",
     "text": [
      "돈을 꺼내라\n"
     ]
    }
   ],
   "source": [
    "# 조건문에서 아무것도 하고 싶지 않을 때\n",
    "\n",
    "pocket = ['paper', 'money', 'cellphone']\n",
    "\n",
    "if 'money' in pocket: \n",
    "    print('돈을 꺼내라')\n",
    "else:\n",
    "    pass"
   ]
  },
  {
   "cell_type": "code",
   "execution_count": null,
   "id": "0dad1d52",
   "metadata": {},
   "outputs": [],
   "source": []
  },
  {
   "cell_type": "markdown",
   "id": "5adcb6bc",
   "metadata": {},
   "source": [
    "## while 반복문\n",
    "\n",
    "`while <참 거짓 판단 문장> :\n",
    "    위 문장이 참인 경우 실행`\n",
    "\n",
    "- while 에서 제시된 조건문이 참인 동안에 아래의 문장이 계속 반복됩니다.\n",
    "- if문과 마찬가지로 들여쓰기가 중요합니다."
   ]
  },
  {
   "cell_type": "code",
   "execution_count": 5,
   "id": "39fee6c1",
   "metadata": {},
   "outputs": [
    {
     "name": "stdout",
     "output_type": "stream",
     "text": [
      "3\n",
      "6\n",
      "9\n",
      "12\n",
      "15\n",
      "18\n",
      "21\n",
      "24\n",
      "27\n"
     ]
    }
   ],
   "source": [
    "# threshold 이하의 3의 배수들을 출력.\n",
    "\n",
    "threshold = 30\n",
    "\n",
    "i = 1\n",
    "\n",
    "while i < threshold:\n",
    "    if i % 3 == 0:\n",
    "        print(i)\n",
    "        \n",
    "#     i = i + 1 # 없을 때 무한 루프에 주의!\n",
    "    \n",
    "    i += 1"
   ]
  },
  {
   "cell_type": "markdown",
   "id": "4189fd32",
   "metadata": {},
   "source": [
    "### break를 통해 while문 빠져나오기"
   ]
  },
  {
   "cell_type": "code",
   "execution_count": 6,
   "id": "fb5a6ed2",
   "metadata": {
    "scrolled": true
   },
   "outputs": [],
   "source": [
    "threshold = 50\n",
    "num = 1\n",
    "nums = []\n",
    "\n",
    "while True:\n",
    "    if num % 4 == 0 or num % 5 == 0:\n",
    "        nums.append(num)\n",
    "    \n",
    "    if num >= threshold:\n",
    "        break\n",
    "    else: \n",
    "        num += 1"
   ]
  },
  {
   "cell_type": "code",
   "execution_count": 7,
   "id": "d0a60b4c",
   "metadata": {
    "scrolled": true
   },
   "outputs": [
    {
     "data": {
      "text/plain": [
       "[4, 5, 8, 10, 12, 15, 16, 20, 24, 25, 28, 30, 32, 35, 36, 40, 44, 45, 48, 50]"
      ]
     },
     "execution_count": 7,
     "metadata": {},
     "output_type": "execute_result"
    }
   ],
   "source": [
    "nums"
   ]
  },
  {
   "cell_type": "markdown",
   "id": "2a13223f",
   "metadata": {},
   "source": [
    "### continue를 이용해 반복문 처음으로 돌아오기"
   ]
  },
  {
   "cell_type": "code",
   "execution_count": 8,
   "id": "1ebb8ad2",
   "metadata": {},
   "outputs": [],
   "source": [
    "# 자연수에서 가장 작은 10개의 홀수 찾기\n",
    "\n",
    "odds = []\n",
    "n=0\n",
    "\n",
    "while len(odds) < 10:\n",
    "    n += 1 # 맨 앞에 두는 경우와 맨 뒤에 두는 경우의 차이 꼭 확인!!\n",
    "    \n",
    "    if n % 2 == 0:\n",
    "        continue\n",
    "    else:\n",
    "        odds.append(n)\n",
    "        "
   ]
  },
  {
   "cell_type": "code",
   "execution_count": 9,
   "id": "08eff215",
   "metadata": {},
   "outputs": [
    {
     "data": {
      "text/plain": [
       "[1, 3, 5, 7, 9, 11, 13, 15, 17, 19]"
      ]
     },
     "execution_count": 9,
     "metadata": {},
     "output_type": "execute_result"
    }
   ],
   "source": [
    "odds"
   ]
  },
  {
   "cell_type": "markdown",
   "id": "c80dbd5a",
   "metadata": {},
   "source": [
    "## for 문\n",
    "`for 변수 in 리스트(튜플, 문자열):\n",
    "    수행할 문장 1\n",
    "    수행할 문장 2\n",
    "    ...`\n",
    "   "
   ]
  },
  {
   "cell_type": "code",
   "execution_count": 10,
   "id": "51e038e5",
   "metadata": {},
   "outputs": [],
   "source": [
    "subjects = ['topology', 'analysis', 'algebra', 'geometry', 'applied math']"
   ]
  },
  {
   "cell_type": "code",
   "execution_count": 11,
   "id": "c517b8ed",
   "metadata": {},
   "outputs": [
    {
     "name": "stdout",
     "output_type": "stream",
     "text": [
      "topology\n",
      "analysis\n",
      "algebra\n",
      "geometry\n",
      "applied math\n"
     ]
    }
   ],
   "source": [
    "for subject in subjects:\n",
    "    \n",
    "    print(subject)"
   ]
  },
  {
   "cell_type": "code",
   "execution_count": 12,
   "id": "3bc37407",
   "metadata": {},
   "outputs": [
    {
     "name": "stdout",
     "output_type": "stream",
     "text": [
      "topology\n",
      "analysis\n",
      "algebra\n",
      "geometry\n",
      "applied math\n"
     ]
    }
   ],
   "source": [
    "for i in subjects:\n",
    "    print(i)"
   ]
  },
  {
   "cell_type": "code",
   "execution_count": 13,
   "id": "196ebbdb",
   "metadata": {},
   "outputs": [
    {
     "data": {
      "text/plain": [
       "'applied math'"
      ]
     },
     "execution_count": 13,
     "metadata": {},
     "output_type": "execute_result"
    }
   ],
   "source": [
    "i"
   ]
  },
  {
   "cell_type": "markdown",
   "id": "8276195a",
   "metadata": {},
   "source": [
    "- subjects 리스트 안에 있는 원소에 subject라는 변수를 대응시킨 후, 들여쓰기 내의 문장을 수행합니다. \n",
    "- 즉 subject는 dummy variable의 역할과 비슷하게 아무거나 사용될 수 있지만, for 문이 끝난 후에도 변수는 살아있습니다."
   ]
  },
  {
   "cell_type": "code",
   "execution_count": 14,
   "id": "e48c90b1",
   "metadata": {},
   "outputs": [
    {
     "name": "stdout",
     "output_type": "stream",
     "text": [
      "applied math\n"
     ]
    }
   ],
   "source": [
    "print(subject)"
   ]
  },
  {
   "cell_type": "code",
   "execution_count": 15,
   "id": "5cbe05eb",
   "metadata": {},
   "outputs": [
    {
     "name": "stdout",
     "output_type": "stream",
     "text": [
      "1\n",
      "2\n",
      "3\n",
      "4\n",
      "5\n"
     ]
    }
   ],
   "source": [
    "# 튜플\n",
    "\n",
    "for i in (1,2,3,4,5):\n",
    "    print(i)"
   ]
  },
  {
   "cell_type": "code",
   "execution_count": 16,
   "id": "bc88f6c1",
   "metadata": {},
   "outputs": [
    {
     "name": "stdout",
     "output_type": "stream",
     "text": [
      "K\n",
      "O\n",
      "R\n",
      "E\n",
      "A\n",
      " \n",
      "U\n",
      "N\n",
      "I\n",
      "V\n",
      "E\n",
      "R\n",
      "S\n",
      "I\n",
      "T\n",
      "Y\n"
     ]
    }
   ],
   "source": [
    "# 문자열\n",
    "\n",
    "for a in 'KOREA UNIVERSITY':\n",
    "    print(a)"
   ]
  },
  {
   "cell_type": "markdown",
   "id": "174b95bf",
   "metadata": {},
   "source": [
    "### for문에서 주로 사용되는 `range` 함수"
   ]
  },
  {
   "cell_type": "code",
   "execution_count": 17,
   "id": "c904373a",
   "metadata": {},
   "outputs": [
    {
     "data": {
      "text/plain": [
       "range(0, 10)"
      ]
     },
     "execution_count": 17,
     "metadata": {},
     "output_type": "execute_result"
    }
   ],
   "source": [
    "range(10)"
   ]
  },
  {
   "cell_type": "code",
   "execution_count": 18,
   "id": "cf43ec92",
   "metadata": {},
   "outputs": [
    {
     "data": {
      "text/plain": [
       "range"
      ]
     },
     "execution_count": 18,
     "metadata": {},
     "output_type": "execute_result"
    }
   ],
   "source": [
    "type(range(10))"
   ]
  },
  {
   "cell_type": "code",
   "execution_count": 19,
   "id": "c15130df",
   "metadata": {},
   "outputs": [
    {
     "name": "stdout",
     "output_type": "stream",
     "text": [
      "0\n",
      "1\n",
      "2\n",
      "3\n",
      "4\n",
      "5\n",
      "6\n",
      "7\n",
      "8\n",
      "9\n"
     ]
    }
   ],
   "source": [
    "for i in range(10):\n",
    "    print(i)"
   ]
  },
  {
   "cell_type": "code",
   "execution_count": 20,
   "id": "c0edf3af",
   "metadata": {},
   "outputs": [
    {
     "name": "stdout",
     "output_type": "stream",
     "text": [
      "2\n",
      "3\n",
      "4\n",
      "5\n",
      "6\n",
      "7\n"
     ]
    }
   ],
   "source": [
    "for k in range(2,8):\n",
    "    print(k)"
   ]
  },
  {
   "cell_type": "code",
   "execution_count": 21,
   "id": "4d1a89b3",
   "metadata": {},
   "outputs": [
    {
     "name": "stdout",
     "output_type": "stream",
     "text": [
      "2\n",
      "4\n",
      "6\n",
      "8\n"
     ]
    }
   ],
   "source": [
    "for z in range(2,10,2):\n",
    "    print(z)"
   ]
  },
  {
   "cell_type": "code",
   "execution_count": 22,
   "id": "38caabc0",
   "metadata": {},
   "outputs": [],
   "source": [
    "for z in range(5,1):\n",
    "    print(z)"
   ]
  },
  {
   "cell_type": "code",
   "execution_count": 23,
   "id": "a43373ca",
   "metadata": {},
   "outputs": [
    {
     "name": "stdout",
     "output_type": "stream",
     "text": [
      "10\n",
      "9\n",
      "8\n",
      "7\n",
      "6\n",
      "5\n",
      "4\n",
      "3\n"
     ]
    }
   ],
   "source": [
    "for a in range(10,2,-1):\n",
    "    print(a)"
   ]
  },
  {
   "cell_type": "code",
   "execution_count": 24,
   "id": "89b9307b",
   "metadata": {},
   "outputs": [
    {
     "name": "stdout",
     "output_type": "stream",
     "text": [
      "10\n",
      "8\n",
      "6\n",
      "4\n"
     ]
    }
   ],
   "source": [
    "for a in range(10, 2, -2):\n",
    "    print(a)"
   ]
  },
  {
   "cell_type": "markdown",
   "id": "2b613ae3",
   "metadata": {},
   "source": [
    "## 리스트 내포 사용하기"
   ]
  },
  {
   "cell_type": "code",
   "execution_count": 25,
   "id": "b6dd523d",
   "metadata": {},
   "outputs": [],
   "source": [
    "x = []\n",
    "for i in range(1, 101):\n",
    "    x.append(i)"
   ]
  },
  {
   "cell_type": "code",
   "execution_count": 26,
   "id": "d834693c",
   "metadata": {
    "scrolled": true
   },
   "outputs": [
    {
     "data": {
      "text/plain": [
       "[1,\n",
       " 2,\n",
       " 3,\n",
       " 4,\n",
       " 5,\n",
       " 6,\n",
       " 7,\n",
       " 8,\n",
       " 9,\n",
       " 10,\n",
       " 11,\n",
       " 12,\n",
       " 13,\n",
       " 14,\n",
       " 15,\n",
       " 16,\n",
       " 17,\n",
       " 18,\n",
       " 19,\n",
       " 20,\n",
       " 21,\n",
       " 22,\n",
       " 23,\n",
       " 24,\n",
       " 25,\n",
       " 26,\n",
       " 27,\n",
       " 28,\n",
       " 29,\n",
       " 30,\n",
       " 31,\n",
       " 32,\n",
       " 33,\n",
       " 34,\n",
       " 35,\n",
       " 36,\n",
       " 37,\n",
       " 38,\n",
       " 39,\n",
       " 40,\n",
       " 41,\n",
       " 42,\n",
       " 43,\n",
       " 44,\n",
       " 45,\n",
       " 46,\n",
       " 47,\n",
       " 48,\n",
       " 49,\n",
       " 50,\n",
       " 51,\n",
       " 52,\n",
       " 53,\n",
       " 54,\n",
       " 55,\n",
       " 56,\n",
       " 57,\n",
       " 58,\n",
       " 59,\n",
       " 60,\n",
       " 61,\n",
       " 62,\n",
       " 63,\n",
       " 64,\n",
       " 65,\n",
       " 66,\n",
       " 67,\n",
       " 68,\n",
       " 69,\n",
       " 70,\n",
       " 71,\n",
       " 72,\n",
       " 73,\n",
       " 74,\n",
       " 75,\n",
       " 76,\n",
       " 77,\n",
       " 78,\n",
       " 79,\n",
       " 80,\n",
       " 81,\n",
       " 82,\n",
       " 83,\n",
       " 84,\n",
       " 85,\n",
       " 86,\n",
       " 87,\n",
       " 88,\n",
       " 89,\n",
       " 90,\n",
       " 91,\n",
       " 92,\n",
       " 93,\n",
       " 94,\n",
       " 95,\n",
       " 96,\n",
       " 97,\n",
       " 98,\n",
       " 99,\n",
       " 100]"
      ]
     },
     "execution_count": 26,
     "metadata": {},
     "output_type": "execute_result"
    }
   ],
   "source": [
    "x"
   ]
  },
  {
   "cell_type": "code",
   "execution_count": 27,
   "id": "3ef246ef",
   "metadata": {},
   "outputs": [],
   "source": [
    "y = [j for j in range(1,101)]"
   ]
  },
  {
   "cell_type": "code",
   "execution_count": 28,
   "id": "5dba6c46",
   "metadata": {
    "scrolled": true
   },
   "outputs": [
    {
     "data": {
      "text/plain": [
       "[1,\n",
       " 2,\n",
       " 3,\n",
       " 4,\n",
       " 5,\n",
       " 6,\n",
       " 7,\n",
       " 8,\n",
       " 9,\n",
       " 10,\n",
       " 11,\n",
       " 12,\n",
       " 13,\n",
       " 14,\n",
       " 15,\n",
       " 16,\n",
       " 17,\n",
       " 18,\n",
       " 19,\n",
       " 20,\n",
       " 21,\n",
       " 22,\n",
       " 23,\n",
       " 24,\n",
       " 25,\n",
       " 26,\n",
       " 27,\n",
       " 28,\n",
       " 29,\n",
       " 30,\n",
       " 31,\n",
       " 32,\n",
       " 33,\n",
       " 34,\n",
       " 35,\n",
       " 36,\n",
       " 37,\n",
       " 38,\n",
       " 39,\n",
       " 40,\n",
       " 41,\n",
       " 42,\n",
       " 43,\n",
       " 44,\n",
       " 45,\n",
       " 46,\n",
       " 47,\n",
       " 48,\n",
       " 49,\n",
       " 50,\n",
       " 51,\n",
       " 52,\n",
       " 53,\n",
       " 54,\n",
       " 55,\n",
       " 56,\n",
       " 57,\n",
       " 58,\n",
       " 59,\n",
       " 60,\n",
       " 61,\n",
       " 62,\n",
       " 63,\n",
       " 64,\n",
       " 65,\n",
       " 66,\n",
       " 67,\n",
       " 68,\n",
       " 69,\n",
       " 70,\n",
       " 71,\n",
       " 72,\n",
       " 73,\n",
       " 74,\n",
       " 75,\n",
       " 76,\n",
       " 77,\n",
       " 78,\n",
       " 79,\n",
       " 80,\n",
       " 81,\n",
       " 82,\n",
       " 83,\n",
       " 84,\n",
       " 85,\n",
       " 86,\n",
       " 87,\n",
       " 88,\n",
       " 89,\n",
       " 90,\n",
       " 91,\n",
       " 92,\n",
       " 93,\n",
       " 94,\n",
       " 95,\n",
       " 96,\n",
       " 97,\n",
       " 98,\n",
       " 99,\n",
       " 100]"
      ]
     },
     "execution_count": 28,
     "metadata": {},
     "output_type": "execute_result"
    }
   ],
   "source": [
    "y"
   ]
  },
  {
   "cell_type": "code",
   "execution_count": null,
   "id": "d1c968b1",
   "metadata": {},
   "outputs": [],
   "source": []
  },
  {
   "cell_type": "markdown",
   "id": "c899f066",
   "metadata": {},
   "source": [
    "## 파이썬 함수 정의하기\n",
    "\n",
    "`def <함수명>(매개변수):\n",
    "    <수행할 문장1>\n",
    "    <수행할 문장2>`"
   ]
  },
  {
   "cell_type": "code",
   "execution_count": 29,
   "id": "6ec79baa",
   "metadata": {},
   "outputs": [],
   "source": [
    "def add(a,b):\n",
    "    result = a+b\n",
    "    return result"
   ]
  },
  {
   "cell_type": "code",
   "execution_count": 31,
   "id": "50bb3ffd",
   "metadata": {},
   "outputs": [],
   "source": [
    "def add2(a,b):\n",
    "    return a+b"
   ]
  },
  {
   "cell_type": "code",
   "execution_count": 30,
   "id": "ae12efcd",
   "metadata": {},
   "outputs": [
    {
     "data": {
      "text/plain": [
       "7"
      ]
     },
     "execution_count": 30,
     "metadata": {},
     "output_type": "execute_result"
    }
   ],
   "source": [
    "num = add(3,4)\n",
    "num"
   ]
  },
  {
   "cell_type": "code",
   "execution_count": 32,
   "id": "f9e9e3e5",
   "metadata": {},
   "outputs": [
    {
     "data": {
      "text/plain": [
       "7"
      ]
     },
     "execution_count": 32,
     "metadata": {},
     "output_type": "execute_result"
    }
   ],
   "source": [
    "add2(3,4)"
   ]
  },
  {
   "cell_type": "markdown",
   "id": "c5c8d779",
   "metadata": {},
   "source": [
    "- `return`이라는 명령어를 통해 결과값을 출력합니다.\n",
    "- 함수에서 input으로 받아들이는 `a`와 `b`는 **매개변수(parameters)** 라고 부르고, 실제로 대입한 3과 4는 **인수(arguments)** 라고 부릅니다."
   ]
  },
  {
   "cell_type": "code",
   "execution_count": 33,
   "id": "41ee7fc3",
   "metadata": {},
   "outputs": [
    {
     "data": {
      "text/plain": [
       "6"
      ]
     },
     "execution_count": 33,
     "metadata": {},
     "output_type": "execute_result"
    }
   ],
   "source": [
    "# 함수에서의 매개변수는 dummy variable이므로 무엇을 써도 상관없고, 함수 밖에 있는 변수에도 영향을 주지 않습니다.\n",
    "\n",
    "a= 3\n",
    "\n",
    "add(a=5,b=1)"
   ]
  },
  {
   "cell_type": "code",
   "execution_count": 34,
   "id": "38a8ad97",
   "metadata": {},
   "outputs": [
    {
     "data": {
      "text/plain": [
       "3"
      ]
     },
     "execution_count": 34,
     "metadata": {},
     "output_type": "execute_result"
    }
   ],
   "source": [
    "a"
   ]
  },
  {
   "cell_type": "markdown",
   "id": "6cd064b0",
   "metadata": {},
   "source": [
    "### 입력값이 없는 함수"
   ]
  },
  {
   "cell_type": "code",
   "execution_count": 35,
   "id": "9c3b4c50",
   "metadata": {},
   "outputs": [],
   "source": [
    "def say_hi():\n",
    "    print('Hi!')"
   ]
  },
  {
   "cell_type": "code",
   "execution_count": 36,
   "id": "ad47a472",
   "metadata": {},
   "outputs": [
    {
     "name": "stdout",
     "output_type": "stream",
     "text": [
      "Hi!\n"
     ]
    }
   ],
   "source": [
    "say_hi()"
   ]
  },
  {
   "cell_type": "markdown",
   "id": "d976e3df",
   "metadata": {},
   "source": [
    "### 결과값이 없는 함수\n",
    "\n",
    "- 함수의 결과는 항상 `return`을 통해서만 얻어질 수 있습니다."
   ]
  },
  {
   "cell_type": "code",
   "execution_count": 37,
   "id": "6fb203d7",
   "metadata": {},
   "outputs": [],
   "source": [
    "def multiply(a,b):\n",
    "    result = a*b\n",
    "    print(result)"
   ]
  },
  {
   "cell_type": "code",
   "execution_count": 38,
   "id": "3dcf21ac",
   "metadata": {},
   "outputs": [
    {
     "name": "stdout",
     "output_type": "stream",
     "text": [
      "15\n"
     ]
    }
   ],
   "source": [
    "multiply(5,3)"
   ]
  },
  {
   "cell_type": "code",
   "execution_count": 39,
   "id": "e8ac1c7d",
   "metadata": {},
   "outputs": [
    {
     "name": "stdout",
     "output_type": "stream",
     "text": [
      "15\n"
     ]
    }
   ],
   "source": [
    "z = multiply(5,3)"
   ]
  },
  {
   "cell_type": "code",
   "execution_count": 40,
   "id": "36cccb08",
   "metadata": {},
   "outputs": [],
   "source": [
    "z"
   ]
  },
  {
   "cell_type": "code",
   "execution_count": 41,
   "id": "664e18cd",
   "metadata": {},
   "outputs": [
    {
     "data": {
      "text/plain": [
       "NoneType"
      ]
     },
     "execution_count": 41,
     "metadata": {},
     "output_type": "execute_result"
    }
   ],
   "source": [
    "type(z)"
   ]
  },
  {
   "cell_type": "markdown",
   "id": "ca6eeea5",
   "metadata": {},
   "source": [
    "### 입력값도, 결과값도 없는 함수"
   ]
  },
  {
   "cell_type": "code",
   "execution_count": 42,
   "id": "ccc1508d",
   "metadata": {},
   "outputs": [],
   "source": [
    "def do_nothing():\n",
    "    print('blah blah')"
   ]
  },
  {
   "cell_type": "code",
   "execution_count": 43,
   "id": "ad1d59d6",
   "metadata": {},
   "outputs": [
    {
     "name": "stdout",
     "output_type": "stream",
     "text": [
      "blah blah\n"
     ]
    }
   ],
   "source": [
    "do_nothing()"
   ]
  },
  {
   "cell_type": "markdown",
   "id": "19cdeb5e",
   "metadata": {},
   "source": [
    "### 매개변수 지정하기"
   ]
  },
  {
   "cell_type": "code",
   "execution_count": 44,
   "id": "f049068e",
   "metadata": {},
   "outputs": [],
   "source": [
    "def linear_sum(a,b):\n",
    "    return 3*a-6*b"
   ]
  },
  {
   "cell_type": "code",
   "execution_count": 47,
   "id": "0629cee1",
   "metadata": {},
   "outputs": [
    {
     "data": {
      "text/plain": [
       "-9"
      ]
     },
     "execution_count": 47,
     "metadata": {},
     "output_type": "execute_result"
    }
   ],
   "source": [
    "linear_sum(1,2)"
   ]
  },
  {
   "cell_type": "code",
   "execution_count": 45,
   "id": "e50806e2",
   "metadata": {},
   "outputs": [
    {
     "data": {
      "text/plain": [
       "-9"
      ]
     },
     "execution_count": 45,
     "metadata": {},
     "output_type": "execute_result"
    }
   ],
   "source": [
    "linear_sum(a=1,b=2)"
   ]
  },
  {
   "cell_type": "code",
   "execution_count": 46,
   "id": "9a47e14b",
   "metadata": {},
   "outputs": [
    {
     "data": {
      "text/plain": [
       "0"
      ]
     },
     "execution_count": 46,
     "metadata": {},
     "output_type": "execute_result"
    }
   ],
   "source": [
    "linear_sum(b=1, a=2)"
   ]
  },
  {
   "cell_type": "markdown",
   "id": "e4580c53",
   "metadata": {},
   "source": [
    "### 함수 정의할 때 기본값(default) 설정하기\n",
    "\n",
    "- 주로 바뀌지 않는 매개변수의 경우 기본값 인자를 설정할 수 있습니다.\n",
    "- 기본값을 설정할 매개변수의 경우, 기본값이 설정되지 않는 매개변수보다 뒤에 쓰여야합니다."
   ]
  },
  {
   "cell_type": "code",
   "execution_count": 48,
   "id": "50a79c57",
   "metadata": {},
   "outputs": [],
   "source": [
    "def show_id(name, major, school='Korea University'):\n",
    "    z = 'My name is '+name+'. '\n",
    "    z += 'My major is '+major+', and I am '+school+' student.'\n",
    "    return z"
   ]
  },
  {
   "cell_type": "code",
   "execution_count": 50,
   "id": "ba07d42d",
   "metadata": {},
   "outputs": [
    {
     "data": {
      "text/plain": [
       "'My name is 최선묵. My major is 수학, and I am Korea University student.'"
      ]
     },
     "execution_count": 50,
     "metadata": {},
     "output_type": "execute_result"
    }
   ],
   "source": [
    "show_id('최선묵', '수학')"
   ]
  },
  {
   "cell_type": "code",
   "execution_count": 51,
   "id": "502c798d",
   "metadata": {},
   "outputs": [
    {
     "ename": "SyntaxError",
     "evalue": "non-default argument follows default argument (3467750979.py, line 1)",
     "output_type": "error",
     "traceback": [
      "\u001b[0;36m  Cell \u001b[0;32mIn [51], line 1\u001b[0;36m\u001b[0m\n\u001b[0;31m    def show_id(name, major='math', school):\u001b[0m\n\u001b[0m                ^\u001b[0m\n\u001b[0;31mSyntaxError\u001b[0m\u001b[0;31m:\u001b[0m non-default argument follows default argument\n"
     ]
    }
   ],
   "source": [
    "def show_id(name, major='math', school):\n",
    "    z = 'My name is '+name+'. '\n",
    "    z += 'My major is '+major+', and I am '+school+' student.'\n",
    "    return z"
   ]
  },
  {
   "cell_type": "markdown",
   "id": "9a99430d",
   "metadata": {},
   "source": [
    "## lambda 예약어를 통해 만드는 함수\n",
    "\n",
    "- `lambda`를 통해 만든 함수는 `return`이 없어도 **결과값**을 얻을 수 있다."
   ]
  },
  {
   "cell_type": "code",
   "execution_count": 52,
   "id": "4d61569f",
   "metadata": {},
   "outputs": [],
   "source": [
    "add = lambda a, b: a+b"
   ]
  },
  {
   "cell_type": "code",
   "execution_count": 53,
   "id": "1042c028",
   "metadata": {},
   "outputs": [],
   "source": [
    "x = add(3,4)"
   ]
  },
  {
   "cell_type": "code",
   "execution_count": 54,
   "id": "0936aeda",
   "metadata": {},
   "outputs": [
    {
     "data": {
      "text/plain": [
       "7"
      ]
     },
     "execution_count": 54,
     "metadata": {},
     "output_type": "execute_result"
    }
   ],
   "source": [
    "x"
   ]
  },
  {
   "cell_type": "code",
   "execution_count": null,
   "id": "d54fddb9",
   "metadata": {},
   "outputs": [],
   "source": []
  }
 ],
 "metadata": {
  "kernelspec": {
   "display_name": "MathDLstudy",
   "language": "python",
   "name": "mathdl"
  },
  "language_info": {
   "codemirror_mode": {
    "name": "ipython",
    "version": 3
   },
   "file_extension": ".py",
   "mimetype": "text/x-python",
   "name": "python",
   "nbconvert_exporter": "python",
   "pygments_lexer": "ipython3",
   "version": "3.8.13"
  }
 },
 "nbformat": 4,
 "nbformat_minor": 5
}
