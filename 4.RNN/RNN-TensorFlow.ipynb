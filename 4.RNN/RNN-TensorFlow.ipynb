{
 "cells": [
  {
   "cell_type": "code",
   "execution_count": 25,
   "id": "68d4a237",
   "metadata": {},
   "outputs": [],
   "source": [
    "import tensorflow as tf\n",
    "from tensorflow.keras.models import Sequential\n",
    "from tensorflow.keras.layers import Dense, Activation, SimpleRNN\n",
    "from tensorflow.keras import initializers\n",
    "from tensorflow.keras.optimizers import Adam\n",
    "\n",
    "import numpy as np"
   ]
  },
  {
   "cell_type": "code",
   "execution_count": 2,
   "id": "6e6a33bd",
   "metadata": {},
   "outputs": [
    {
     "name": "stdout",
     "output_type": "stream",
     "text": [
      "The number of names in Czech is 519\n",
      "The number of names in German is 724\n",
      "The number of names in Arabic is 2000\n",
      "The number of names in Japanese is 991\n",
      "The number of names in Chinese is 268\n",
      "The number of names in Vietnamese is 73\n",
      "The number of names in Russian is 9408\n",
      "The number of names in French is 277\n",
      "The number of names in Irish is 232\n",
      "The number of names in English is 3668\n",
      "The number of names in Spanish is 298\n",
      "The number of names in Greek is 203\n",
      "The number of names in Italian is 709\n",
      "The number of names in Portuguese is 74\n",
      "The number of names in Scottish is 100\n",
      "The number of names in Dutch is 297\n",
      "The number of names in Korean is 94\n",
      "The number of names in Polish is 139\n",
      "========================================\n",
      "Total number of data is 20074\n"
     ]
    }
   ],
   "source": [
    "import DataPreprocess\n",
    "from DataPreprocess import all_letters, n_letters, category_lines, all_categories, n_categories, num_data"
   ]
  },
  {
   "cell_type": "code",
   "execution_count": 20,
   "id": "0d122067",
   "metadata": {},
   "outputs": [],
   "source": [
    "def letterToIndex(letter):\n",
    "    return all_letters.find(letter)\n",
    "\n",
    "def letterToArray(letter):\n",
    "    array = np.zeros((1, n_letters))\n",
    "    array[0][letterToIndex(letter)] = 1\n",
    "    return array\n",
    "\n",
    "def lineToArray(line):\n",
    "    array = np.zeros((len(line), 1, n_letters))\n",
    "    for li, letter in enumerate(line):\n",
    "        array[li][0][letterToIndex(letter)] = 1\n",
    "    return array"
   ]
  },
  {
   "cell_type": "code",
   "execution_count": 18,
   "id": "30a8200d",
   "metadata": {},
   "outputs": [
    {
     "name": "stdout",
     "output_type": "stream",
     "text": [
      "[[0. 0. 0. 0. 0. 0. 0. 0. 0. 0. 0. 0. 0. 0. 0. 0. 0. 0. 0. 0. 0. 0. 0. 0.\n",
      "  0. 0. 0. 0. 0. 0. 0. 0. 0. 0. 0. 1. 0. 0. 0. 0. 0. 0. 0. 0. 0. 0. 0. 0.\n",
      "  0. 0. 0. 0. 0. 0. 0. 0. 0.]]\n"
     ]
    }
   ],
   "source": [
    "print(letterToArray('J'))"
   ]
  },
  {
   "cell_type": "code",
   "execution_count": 23,
   "id": "51388555",
   "metadata": {},
   "outputs": [
    {
     "name": "stdout",
     "output_type": "stream",
     "text": [
      "[[[0. 0. 0. 0. 0. 0. 0. 0. 0. 0. 0. 0. 0. 0. 0. 0. 0. 0. 0. 0. 0. 0. 0.\n",
      "   0. 0. 0. 0. 0. 0. 0. 0. 0. 0. 0. 0. 1. 0. 0. 0. 0. 0. 0. 0. 0. 0. 0.\n",
      "   0. 0. 0. 0. 0. 0. 0. 0. 0. 0. 0.]]\n",
      "\n",
      " [[0. 0. 0. 0. 0. 0. 0. 0. 0. 0. 0. 0. 0. 0. 1. 0. 0. 0. 0. 0. 0. 0. 0.\n",
      "   0. 0. 0. 0. 0. 0. 0. 0. 0. 0. 0. 0. 0. 0. 0. 0. 0. 0. 0. 0. 0. 0. 0.\n",
      "   0. 0. 0. 0. 0. 0. 0. 0. 0. 0. 0.]]\n",
      "\n",
      " [[0. 0. 0. 0. 0. 0. 0. 0. 0. 0. 0. 0. 0. 1. 0. 0. 0. 0. 0. 0. 0. 0. 0.\n",
      "   0. 0. 0. 0. 0. 0. 0. 0. 0. 0. 0. 0. 0. 0. 0. 0. 0. 0. 0. 0. 0. 0. 0.\n",
      "   0. 0. 0. 0. 0. 0. 0. 0. 0. 0. 0.]]\n",
      "\n",
      " [[0. 0. 0. 0. 1. 0. 0. 0. 0. 0. 0. 0. 0. 0. 0. 0. 0. 0. 0. 0. 0. 0. 0.\n",
      "   0. 0. 0. 0. 0. 0. 0. 0. 0. 0. 0. 0. 0. 0. 0. 0. 0. 0. 0. 0. 0. 0. 0.\n",
      "   0. 0. 0. 0. 0. 0. 0. 0. 0. 0. 0.]]\n",
      "\n",
      " [[0. 0. 0. 0. 0. 0. 0. 0. 0. 0. 0. 0. 0. 0. 0. 0. 0. 0. 1. 0. 0. 0. 0.\n",
      "   0. 0. 0. 0. 0. 0. 0. 0. 0. 0. 0. 0. 0. 0. 0. 0. 0. 0. 0. 0. 0. 0. 0.\n",
      "   0. 0. 0. 0. 0. 0. 0. 0. 0. 0. 0.]]]\n",
      "\n",
      "\n",
      "Array Size: (5, 1, 57)\n"
     ]
    }
   ],
   "source": [
    "print(lineToArray('Jones'))\n",
    "print('\\n')\n",
    "print('Array Size:', lineToArray('Jones').shape)"
   ]
  },
  {
   "cell_type": "code",
   "execution_count": 24,
   "id": "e35a14f5",
   "metadata": {},
   "outputs": [
    {
     "data": {
      "text/plain": [
       "57"
      ]
     },
     "execution_count": 24,
     "metadata": {},
     "output_type": "execute_result"
    }
   ],
   "source": [
    "n_letters"
   ]
  },
  {
   "cell_type": "code",
   "execution_count": 28,
   "id": "1301f36e",
   "metadata": {},
   "outputs": [],
   "source": [
    "n_hidden = 128\n",
    "\n",
    "# Building the network\n",
    "model = Sequential()\n",
    "model.add(SimpleRNN(n_hidden))\n",
    "model.add(Dense(n_categories))\n",
    "model.add(Activation(\"softmax\"))\n",
    "\n",
    "adam = Adam(lr = 1e-2)\n",
    "model.compile(loss = \"categorical_crossentropy\",\n",
    "              optimizer = adam,\n",
    "              metrics = [\"accuracy\"])"
   ]
  },
  {
   "cell_type": "code",
   "execution_count": null,
   "id": "857aa5d2",
   "metadata": {},
   "outputs": [],
   "source": []
  }
 ],
 "metadata": {
  "kernelspec": {
   "display_name": "MathDLstudy",
   "language": "python",
   "name": "mathdl"
  },
  "language_info": {
   "codemirror_mode": {
    "name": "ipython",
    "version": 3
   },
   "file_extension": ".py",
   "mimetype": "text/x-python",
   "name": "python",
   "nbconvert_exporter": "python",
   "pygments_lexer": "ipython3",
   "version": "3.8.13"
  }
 },
 "nbformat": 4,
 "nbformat_minor": 5
}
