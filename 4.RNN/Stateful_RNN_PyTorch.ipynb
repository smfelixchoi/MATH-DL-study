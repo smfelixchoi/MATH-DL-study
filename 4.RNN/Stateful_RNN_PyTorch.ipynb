{
 "cells": [
  {
   "attachments": {},
   "cell_type": "markdown",
   "metadata": {},
   "source": [
    "# Stateful LSTM using PyTorch\n",
    "\n",
    "[References]\n",
    "- [PyTorch Discussion](https://discuss.pytorch.org/t/confusion-regarding-pytorch-lstms-compared-to-keras-stateful-lstm/44502)\n",
    "- [PyTorch LSTM](https://pytorch.org/docs/stable/generated/torch.nn.LSTM.html)"
   ]
  },
  {
   "attachments": {},
   "cell_type": "markdown",
   "metadata": {},
   "source": [
    "## What is stateful LSTM?"
   ]
  },
  {
   "cell_type": "code",
   "execution_count": 1,
   "metadata": {},
   "outputs": [
    {
     "name": "stdout",
     "output_type": "stream",
     "text": [
      "num_train_samples: 252270\n",
      "num_val_samples: 84090\n",
      "num_test_samples: 84091\n"
     ]
    }
   ],
   "source": [
    "import torch\n",
    "from torch import nn\n",
    "from torch import optim\n",
    "from torch.utils.data import Dataset, DataLoader\n",
    "\n",
    "from torchinfo import summary\n",
    "\n",
    "from data_preprocess import X, y, num_train_samples, num_val_samples, num_test_samples\n",
    "\n",
    "import numpy as np \n",
    "import matplotlib.pyplot as plt\n",
    "from tqdm import tqdm"
   ]
  },
  {
   "cell_type": "code",
   "execution_count": 2,
   "metadata": {},
   "outputs": [
    {
     "name": "stdout",
     "output_type": "stream",
     "text": [
      "cpu\n",
      "Number of features: 14\n"
     ]
    }
   ],
   "source": [
    "device = torch.device('cuda' if torch.cuda.is_available() else 'cpu')\n",
    "print(device)\n",
    "\n",
    "num_features = X.shape[1]\n",
    "print('Number of features:', num_features)"
   ]
  },
  {
   "attachments": {},
   "cell_type": "markdown",
   "metadata": {},
   "source": [
    "## Data Loader for Stateful-LSTM"
   ]
  },
  {
   "cell_type": "code",
   "execution_count": 3,
   "metadata": {},
   "outputs": [],
   "source": [
    "class SequenceDataset(Dataset):\n",
    "    def __init__(self, X_array, y_array, sampling_rate, sequence_stride, sequence_length, delay):\n",
    "        super(Dataset, self).__init__()\n",
    "\n",
    "        self.sr = sampling_rate\n",
    "        self.seq_stride = sequence_stride\n",
    "        self.seq_len = sequence_length\n",
    "        self.delay = delay\n",
    "        self.X = torch.tensor(X_array).float()\n",
    "        self.y = torch.tensor(y_array).float()\n",
    "\n",
    "    def __len__(self):\n",
    "        return (self.X.size(0) - self.delay)//self.seq_stride\n",
    "\n",
    "    def __getitem__(self, i): \n",
    "        idx = np.arange(i*self.seq_stride, i*self.seq_stride + self.sr*self.seq_len, self.sr)\n",
    "        return self.X[idx], self.y[i*self.seq_stride + self.delay]"
   ]
  },
  {
   "cell_type": "code",
   "execution_count": 4,
   "metadata": {},
   "outputs": [],
   "source": [
    "int_sequence = np.arange(130)\n",
    "dummy_dataset = SequenceDataset(int_sequence, int_sequence,\n",
    "                                sampling_rate=3, sequence_stride=3, sequence_length=5, \n",
    "                                delay=20)\n",
    "dummy_loader = DataLoader(dummy_dataset, batch_size=5, shuffle=False)"
   ]
  },
  {
   "cell_type": "code",
   "execution_count": 5,
   "metadata": {},
   "outputs": [
    {
     "name": "stdout",
     "output_type": "stream",
     "text": [
      "====================\n",
      "[0, 3, 6, 9, 12] 20\n",
      "[3, 6, 9, 12, 15] 23\n",
      "[6, 9, 12, 15, 18] 26\n",
      "[9, 12, 15, 18, 21] 29\n",
      "[12, 15, 18, 21, 24] 32\n",
      "====================\n",
      "[15, 18, 21, 24, 27] 35\n",
      "[18, 21, 24, 27, 30] 38\n",
      "[21, 24, 27, 30, 33] 41\n",
      "[24, 27, 30, 33, 36] 44\n",
      "[27, 30, 33, 36, 39] 47\n",
      "====================\n",
      "[30, 33, 36, 39, 42] 50\n",
      "[33, 36, 39, 42, 45] 53\n",
      "[36, 39, 42, 45, 48] 56\n",
      "[39, 42, 45, 48, 51] 59\n",
      "[42, 45, 48, 51, 54] 62\n",
      "====================\n",
      "[45, 48, 51, 54, 57] 65\n",
      "[48, 51, 54, 57, 60] 68\n",
      "[51, 54, 57, 60, 63] 71\n",
      "[54, 57, 60, 63, 66] 74\n",
      "[57, 60, 63, 66, 69] 77\n",
      "====================\n",
      "[60, 63, 66, 69, 72] 80\n",
      "[63, 66, 69, 72, 75] 83\n",
      "[66, 69, 72, 75, 78] 86\n",
      "[69, 72, 75, 78, 81] 89\n",
      "[72, 75, 78, 81, 84] 92\n",
      "====================\n",
      "[75, 78, 81, 84, 87] 95\n",
      "[78, 81, 84, 87, 90] 98\n",
      "[81, 84, 87, 90, 93] 101\n",
      "[84, 87, 90, 93, 96] 104\n",
      "[87, 90, 93, 96, 99] 107\n",
      "====================\n",
      "[90, 93, 96, 99, 102] 110\n",
      "[93, 96, 99, 102, 105] 113\n",
      "[96, 99, 102, 105, 108] 116\n",
      "[99, 102, 105, 108, 111] 119\n",
      "[102, 105, 108, 111, 114] 122\n",
      "====================\n",
      "[105, 108, 111, 114, 117] 125\n"
     ]
    }
   ],
   "source": [
    "for inputs, targets in dummy_loader:\n",
    "    # inputs shape : (batch_size, sequence_length)\n",
    "    # targets shape : (batch_size, )\n",
    "    print(\"====================\")\n",
    "    for i in range(inputs.shape[0]):\n",
    "        print([int(x) for x in inputs[i]], int(targets[i]))"
   ]
  },
  {
   "attachments": {},
   "cell_type": "markdown",
   "metadata": {},
   "source": [
    "**To use `stateful=True` mode in LSTM (RNN), you should follow the rules below:**\n",
    "\n",
    "- Do **NOT** shuffle the dataset\n",
    "- `sequence_stride` $\\times$ `batch_size` = `sequence_length` $\\times$ `sampling_rate`\n",
    "- Each batch need to have the same number of samples, i.e., the number of samples needs to divisible by `batch_size`."
   ]
  },
  {
   "cell_type": "code",
   "execution_count": 6,
   "metadata": {},
   "outputs": [],
   "source": [
    "# Observations will be sampled at one data point per hour\n",
    "sampling_rate=6\n",
    "\n",
    "# Observations will go back 5 days (120 hours)\n",
    "sequence_length = 120\n",
    "\n",
    "# The target for a sequence will be the temperature 24 hours after the end of the sequence.\n",
    "delay = sampling_rate * (sequence_length + 24 - 1)\n",
    "\n",
    "sequence_stride=1\n",
    "batch_size = sampling_rate*sequence_length\n",
    "\n",
    "train_dataset = SequenceDataset(X[132:num_train_samples], \n",
    "                                y[132:num_train_samples], \n",
    "                                sampling_rate=sampling_rate, \n",
    "                                sequence_stride=1,\n",
    "                                sequence_length=sequence_length,\n",
    "                                delay = delay)\n",
    "\n",
    "valid_dataset = SequenceDataset(X[432+num_train_samples:num_train_samples+num_val_samples], \n",
    "                                y[432+num_train_samples:num_train_samples+num_val_samples], \n",
    "                                sampling_rate=sampling_rate, \n",
    "                                sequence_stride=1,\n",
    "                                sequence_length=sequence_length,\n",
    "                                delay = delay)\n",
    "\n",
    "test_dataset = SequenceDataset(X[433+num_train_samples + num_val_samples:],\n",
    "                               y[433+num_train_samples + num_val_samples:], \n",
    "                               sampling_rate=sampling_rate, \n",
    "                               sequence_stride=1,\n",
    "                               sequence_length=sequence_length,\n",
    "                               delay = delay)\n"
   ]
  },
  {
   "cell_type": "code",
   "execution_count": 7,
   "metadata": {},
   "outputs": [],
   "source": [
    "train_loader = DataLoader(train_dataset, batch_size=batch_size, shuffle=False)\n",
    "valid_loader = DataLoader(valid_dataset, batch_size=batch_size, shuffle=False)\n",
    "test_loader = DataLoader(test_dataset, batch_size=batch_size, shuffle=False)"
   ]
  },
  {
   "cell_type": "code",
   "execution_count": 8,
   "metadata": {},
   "outputs": [
    {
     "name": "stdout",
     "output_type": "stream",
     "text": [
      "samples shape: torch.Size([720, 120, 14])\n",
      "targets shape: torch.Size([720])\n"
     ]
    }
   ],
   "source": [
    "for samples, targets in test_loader:\n",
    "    print('samples shape:', samples.shape)\n",
    "    print('targets shape:', targets.shape)\n",
    "    break"
   ]
  },
  {
   "attachments": {},
   "cell_type": "markdown",
   "metadata": {},
   "source": [
    "## Stateful LSTM model\n",
    "\n",
    "- Using PyTorch, we store the hidden/cell state vectors from the previous batch. Then we use the vectors as the initial hidden/cell state vectors in the next batch.\n",
    "- `train` and `test` functions should be changed from those for the original LSTM models."
   ]
  },
  {
   "cell_type": "code",
   "execution_count": 9,
   "metadata": {},
   "outputs": [],
   "source": [
    "class stateful_LSTM_model(nn.Module):\n",
    "    def __init__(self, input_size, hidden_size):\n",
    "        super(stateful_LSTM_model, self).__init__()\n",
    "\n",
    "        self.hidden_size = hidden_size\n",
    "\n",
    "        self.lstm = nn.LSTM(input_size  = input_size,\n",
    "                            hidden_size = hidden_size,\n",
    "                            num_layers  = 1,     # The number of stacked RNN layers\n",
    "                            batch_first = True            # Default: False\n",
    "                            )\n",
    "        self.linear = nn.Linear(in_features = hidden_size, \n",
    "                                out_features=1, \n",
    "                                bias=True\n",
    "                                )\n",
    "\n",
    "    def forward(self, x, h_n, c_n):\n",
    "        output, (h_n, c_n) = self.lstm(x, (h_n.detach(), c_n.detach()))\n",
    "        '''\n",
    "        output size : (batch_size, sequence_length, num_layers * hidden_size)\n",
    "        -> hidden state vectors (NOT CELL STATE VECTORS) for each time step, for each layer.\n",
    "        h_n : (num_layers, batch_size, hidden_size) \n",
    "        c_n : (num_layers, batch_size, hidden_size)\n",
    "        '''\n",
    "        x = h_n.view(-1, self.hidden_size)\n",
    "        '''\n",
    "        Reshape to (batch_size, hidden_size) : appropriate shape as linear layer input\n",
    "        '''\n",
    "        x = self.linear(x)\n",
    "        return x, h_n, c_n"
   ]
  },
  {
   "cell_type": "code",
   "execution_count": 10,
   "metadata": {},
   "outputs": [],
   "source": [
    "hidden_size=16\n",
    "model = stateful_LSTM_model(input_size=num_features, hidden_size=hidden_size).to(device)\n",
    "criterion = nn.MSELoss()\n",
    "optimizer = optim.Adam(model.parameters(), lr=1e-3)\n",
    "EPOCHS = 30"
   ]
  },
  {
   "cell_type": "code",
   "execution_count": 11,
   "metadata": {},
   "outputs": [],
   "source": [
    "def train(model, trainloader, validloader, criterion, optimizer, epoch, device):\n",
    "    \n",
    "    losses = []\n",
    "    val_losses = []\n",
    "    model.to(device)\n",
    "    model.train()\n",
    "\n",
    "    for i in range(1, epoch+1):\n",
    "        count = 0\n",
    "        train_loss = 0\n",
    "        h_n = torch.zeros(1, batch_size, hidden_size).to(device)\n",
    "        c_n = torch.zeros(1, batch_size, hidden_size).to(device)\n",
    "        for X, y in tqdm(trainloader):\n",
    "            X = X.to(device)\n",
    "            y = y.to(device)\n",
    "\n",
    "            output, h_n, c_n = model(X, h_n, c_n)\n",
    "            loss = criterion(output.view(-1), y)\n",
    "\n",
    "            optimizer.zero_grad()\n",
    "            loss.backward()\n",
    "            optimizer.step()\n",
    "\n",
    "            train_loss += loss.item()\n",
    "            count += 1\n",
    "\n",
    "        train_loss /= count\n",
    "        losses.append(train_loss)\n",
    "\n",
    "        count = 0\n",
    "        valid_loss = 0\n",
    "        h_n = torch.zeros(1, batch_size, hidden_size).to(device)\n",
    "        c_n = torch.zeros(1, batch_size, hidden_size).to(device)\n",
    "        with torch.no_grad():\n",
    "            for X, y in validloader:\n",
    "                X = X.to(device)\n",
    "                y = y.to(device)\n",
    "\n",
    "                output, h_n, c_n = model(X, h_n, c_n)\n",
    "                loss = criterion(output.view(-1), y)\n",
    "                valid_loss += loss.item()\n",
    "                count += 1\n",
    "            \n",
    "        valid_loss /= count\n",
    "        val_losses.append(valid_loss)\n",
    "\n",
    "        print('EPOCH %d Completed. \\n Training Loss: %.3f, Validation Loss: %.3f \\n' \n",
    "              %(i, train_loss, valid_loss))\n",
    "\n",
    "    return losses, val_losses"
   ]
  },
  {
   "cell_type": "code",
   "execution_count": 12,
   "metadata": {},
   "outputs": [],
   "source": [
    "def test(model, evalloader, criterion, device):\n",
    "    eval_loss = 0\n",
    "    count = 0\n",
    "    model.eval()\n",
    "    predictions = np.empty([0])\n",
    "\n",
    "    h_n = torch.zeros(1, batch_size, hidden_size).to(device)\n",
    "    c_n = torch.zeros(1, batch_size, hidden_size).to(device)\n",
    "    with torch.no_grad():\n",
    "        for X, y in evalloader:\n",
    "            X = X.to(device)\n",
    "            y = y.to(device)\n",
    "\n",
    "            output, h_n, c_n = model(X, h_n, c_n)\n",
    "            predictions = np.append(predictions, output.view(-1).numpy())\n",
    "\n",
    "            loss = criterion(output.view(-1), y)\n",
    "            eval_loss += loss.item()\n",
    "            count += 1\n",
    "        \n",
    "    eval_loss /= count\n",
    "    \n",
    "    return predictions, eval_loss"
   ]
  },
  {
   "cell_type": "code",
   "execution_count": 13,
   "metadata": {},
   "outputs": [
    {
     "name": "stderr",
     "output_type": "stream",
     "text": [
      "100%|██████████| 349/349 [01:20<00:00,  4.36it/s]\n"
     ]
    },
    {
     "name": "stdout",
     "output_type": "stream",
     "text": [
      "EPOCH 1 Completed. \n",
      " Training Loss: 110.723, Validation Loss: 50.985 \n",
      "\n"
     ]
    },
    {
     "name": "stderr",
     "output_type": "stream",
     "text": [
      "100%|██████████| 349/349 [01:21<00:00,  4.30it/s]\n"
     ]
    },
    {
     "name": "stdout",
     "output_type": "stream",
     "text": [
      "EPOCH 2 Completed. \n",
      " Training Loss: 51.880, Validation Loss: 29.329 \n",
      "\n"
     ]
    },
    {
     "name": "stderr",
     "output_type": "stream",
     "text": [
      "100%|██████████| 349/349 [00:56<00:00,  6.19it/s]\n"
     ]
    },
    {
     "name": "stdout",
     "output_type": "stream",
     "text": [
      "EPOCH 3 Completed. \n",
      " Training Loss: 32.636, Validation Loss: 20.304 \n",
      "\n"
     ]
    },
    {
     "name": "stderr",
     "output_type": "stream",
     "text": [
      "100%|██████████| 349/349 [00:54<00:00,  6.42it/s]\n"
     ]
    },
    {
     "name": "stdout",
     "output_type": "stream",
     "text": [
      "EPOCH 4 Completed. \n",
      " Training Loss: 23.305, Validation Loss: 15.667 \n",
      "\n"
     ]
    },
    {
     "name": "stderr",
     "output_type": "stream",
     "text": [
      "100%|██████████| 349/349 [00:52<00:00,  6.63it/s]\n"
     ]
    },
    {
     "name": "stdout",
     "output_type": "stream",
     "text": [
      "EPOCH 5 Completed. \n",
      " Training Loss: 18.380, Validation Loss: 13.477 \n",
      "\n"
     ]
    },
    {
     "name": "stderr",
     "output_type": "stream",
     "text": [
      "100%|██████████| 349/349 [00:52<00:00,  6.62it/s]\n"
     ]
    },
    {
     "name": "stdout",
     "output_type": "stream",
     "text": [
      "EPOCH 6 Completed. \n",
      " Training Loss: 15.624, Validation Loss: 12.231 \n",
      "\n"
     ]
    },
    {
     "name": "stderr",
     "output_type": "stream",
     "text": [
      "100%|██████████| 349/349 [00:51<00:00,  6.73it/s]\n"
     ]
    },
    {
     "name": "stdout",
     "output_type": "stream",
     "text": [
      "EPOCH 7 Completed. \n",
      " Training Loss: 13.939, Validation Loss: 11.528 \n",
      "\n"
     ]
    },
    {
     "name": "stderr",
     "output_type": "stream",
     "text": [
      "100%|██████████| 349/349 [00:51<00:00,  6.75it/s]\n"
     ]
    },
    {
     "name": "stdout",
     "output_type": "stream",
     "text": [
      "EPOCH 8 Completed. \n",
      " Training Loss: 12.897, Validation Loss: 11.067 \n",
      "\n"
     ]
    },
    {
     "name": "stderr",
     "output_type": "stream",
     "text": [
      "100%|██████████| 349/349 [00:52<00:00,  6.69it/s]\n"
     ]
    },
    {
     "name": "stdout",
     "output_type": "stream",
     "text": [
      "EPOCH 9 Completed. \n",
      " Training Loss: 12.168, Validation Loss: 10.759 \n",
      "\n"
     ]
    },
    {
     "name": "stderr",
     "output_type": "stream",
     "text": [
      "100%|██████████| 349/349 [00:52<00:00,  6.65it/s]\n"
     ]
    },
    {
     "name": "stdout",
     "output_type": "stream",
     "text": [
      "EPOCH 10 Completed. \n",
      " Training Loss: 11.668, Validation Loss: 10.546 \n",
      "\n"
     ]
    },
    {
     "name": "stderr",
     "output_type": "stream",
     "text": [
      "100%|██████████| 349/349 [00:53<00:00,  6.55it/s]\n"
     ]
    },
    {
     "name": "stdout",
     "output_type": "stream",
     "text": [
      "EPOCH 11 Completed. \n",
      " Training Loss: 11.312, Validation Loss: 10.402 \n",
      "\n"
     ]
    },
    {
     "name": "stderr",
     "output_type": "stream",
     "text": [
      "100%|██████████| 349/349 [00:58<00:00,  5.96it/s]\n"
     ]
    },
    {
     "name": "stdout",
     "output_type": "stream",
     "text": [
      "EPOCH 12 Completed. \n",
      " Training Loss: 11.044, Validation Loss: 10.260 \n",
      "\n"
     ]
    },
    {
     "name": "stderr",
     "output_type": "stream",
     "text": [
      "100%|██████████| 349/349 [00:58<00:00,  6.00it/s]\n"
     ]
    },
    {
     "name": "stdout",
     "output_type": "stream",
     "text": [
      "EPOCH 13 Completed. \n",
      " Training Loss: 10.840, Validation Loss: 10.196 \n",
      "\n"
     ]
    },
    {
     "name": "stderr",
     "output_type": "stream",
     "text": [
      "100%|██████████| 349/349 [00:53<00:00,  6.50it/s]\n"
     ]
    },
    {
     "name": "stdout",
     "output_type": "stream",
     "text": [
      "EPOCH 14 Completed. \n",
      " Training Loss: 10.683, Validation Loss: 10.067 \n",
      "\n"
     ]
    },
    {
     "name": "stderr",
     "output_type": "stream",
     "text": [
      "100%|██████████| 349/349 [00:55<00:00,  6.33it/s]\n"
     ]
    },
    {
     "name": "stdout",
     "output_type": "stream",
     "text": [
      "EPOCH 15 Completed. \n",
      " Training Loss: 10.547, Validation Loss: 9.927 \n",
      "\n"
     ]
    },
    {
     "name": "stderr",
     "output_type": "stream",
     "text": [
      "100%|██████████| 349/349 [00:52<00:00,  6.65it/s]\n"
     ]
    },
    {
     "name": "stdout",
     "output_type": "stream",
     "text": [
      "EPOCH 16 Completed. \n",
      " Training Loss: 10.401, Validation Loss: 9.903 \n",
      "\n"
     ]
    },
    {
     "name": "stderr",
     "output_type": "stream",
     "text": [
      "100%|██████████| 349/349 [00:53<00:00,  6.50it/s]\n"
     ]
    },
    {
     "name": "stdout",
     "output_type": "stream",
     "text": [
      "EPOCH 17 Completed. \n",
      " Training Loss: 10.292, Validation Loss: 9.942 \n",
      "\n"
     ]
    },
    {
     "name": "stderr",
     "output_type": "stream",
     "text": [
      "100%|██████████| 349/349 [00:54<00:00,  6.41it/s]\n"
     ]
    },
    {
     "name": "stdout",
     "output_type": "stream",
     "text": [
      "EPOCH 18 Completed. \n",
      " Training Loss: 10.202, Validation Loss: 9.791 \n",
      "\n"
     ]
    },
    {
     "name": "stderr",
     "output_type": "stream",
     "text": [
      "100%|██████████| 349/349 [00:53<00:00,  6.53it/s]\n"
     ]
    },
    {
     "name": "stdout",
     "output_type": "stream",
     "text": [
      "EPOCH 19 Completed. \n",
      " Training Loss: 10.104, Validation Loss: 9.808 \n",
      "\n"
     ]
    },
    {
     "name": "stderr",
     "output_type": "stream",
     "text": [
      "100%|██████████| 349/349 [00:53<00:00,  6.48it/s]\n"
     ]
    },
    {
     "name": "stdout",
     "output_type": "stream",
     "text": [
      "EPOCH 20 Completed. \n",
      " Training Loss: 10.059, Validation Loss: 9.704 \n",
      "\n"
     ]
    },
    {
     "name": "stderr",
     "output_type": "stream",
     "text": [
      "100%|██████████| 349/349 [00:53<00:00,  6.58it/s]\n"
     ]
    },
    {
     "name": "stdout",
     "output_type": "stream",
     "text": [
      "EPOCH 21 Completed. \n",
      " Training Loss: 9.977, Validation Loss: 9.677 \n",
      "\n"
     ]
    },
    {
     "name": "stderr",
     "output_type": "stream",
     "text": [
      "100%|██████████| 349/349 [00:50<00:00,  6.94it/s]\n"
     ]
    },
    {
     "name": "stdout",
     "output_type": "stream",
     "text": [
      "EPOCH 22 Completed. \n",
      " Training Loss: 9.922, Validation Loss: 9.671 \n",
      "\n"
     ]
    },
    {
     "name": "stderr",
     "output_type": "stream",
     "text": [
      "100%|██████████| 349/349 [00:50<00:00,  6.91it/s]\n"
     ]
    },
    {
     "name": "stdout",
     "output_type": "stream",
     "text": [
      "EPOCH 23 Completed. \n",
      " Training Loss: 9.864, Validation Loss: 9.618 \n",
      "\n"
     ]
    },
    {
     "name": "stderr",
     "output_type": "stream",
     "text": [
      "100%|██████████| 349/349 [00:50<00:00,  6.95it/s]\n"
     ]
    },
    {
     "name": "stdout",
     "output_type": "stream",
     "text": [
      "EPOCH 24 Completed. \n",
      " Training Loss: 9.798, Validation Loss: 9.605 \n",
      "\n"
     ]
    },
    {
     "name": "stderr",
     "output_type": "stream",
     "text": [
      "100%|██████████| 349/349 [00:50<00:00,  6.95it/s]\n"
     ]
    },
    {
     "name": "stdout",
     "output_type": "stream",
     "text": [
      "EPOCH 25 Completed. \n",
      " Training Loss: 9.749, Validation Loss: 9.600 \n",
      "\n"
     ]
    },
    {
     "name": "stderr",
     "output_type": "stream",
     "text": [
      "100%|██████████| 349/349 [00:50<00:00,  6.93it/s]\n"
     ]
    },
    {
     "name": "stdout",
     "output_type": "stream",
     "text": [
      "EPOCH 26 Completed. \n",
      " Training Loss: 9.714, Validation Loss: 9.578 \n",
      "\n"
     ]
    },
    {
     "name": "stderr",
     "output_type": "stream",
     "text": [
      "100%|██████████| 349/349 [00:50<00:00,  6.94it/s]\n"
     ]
    },
    {
     "name": "stdout",
     "output_type": "stream",
     "text": [
      "EPOCH 27 Completed. \n",
      " Training Loss: 9.689, Validation Loss: 9.737 \n",
      "\n"
     ]
    },
    {
     "name": "stderr",
     "output_type": "stream",
     "text": [
      "100%|██████████| 349/349 [00:50<00:00,  6.95it/s]\n"
     ]
    },
    {
     "name": "stdout",
     "output_type": "stream",
     "text": [
      "EPOCH 28 Completed. \n",
      " Training Loss: 9.665, Validation Loss: 9.611 \n",
      "\n"
     ]
    },
    {
     "name": "stderr",
     "output_type": "stream",
     "text": [
      "100%|██████████| 349/349 [00:50<00:00,  6.93it/s]\n"
     ]
    },
    {
     "name": "stdout",
     "output_type": "stream",
     "text": [
      "EPOCH 29 Completed. \n",
      " Training Loss: 9.609, Validation Loss: 9.593 \n",
      "\n"
     ]
    },
    {
     "name": "stderr",
     "output_type": "stream",
     "text": [
      "100%|██████████| 349/349 [00:53<00:00,  6.56it/s]\n"
     ]
    },
    {
     "name": "stdout",
     "output_type": "stream",
     "text": [
      "EPOCH 30 Completed. \n",
      " Training Loss: 9.541, Validation Loss: 9.598 \n",
      "\n"
     ]
    }
   ],
   "source": [
    "train_loss, val_loss = train(model, train_loader, valid_loader, criterion, optimizer, EPOCHS, device)"
   ]
  },
  {
   "cell_type": "code",
   "execution_count": 14,
   "metadata": {},
   "outputs": [],
   "source": [
    "predictions, eval_loss = test(model, test_loader, criterion, device)"
   ]
  },
  {
   "cell_type": "code",
   "execution_count": 15,
   "metadata": {},
   "outputs": [
    {
     "name": "stdout",
     "output_type": "stream",
     "text": [
      "82800\n"
     ]
    }
   ],
   "source": [
    "test_targets = np.empty([0])\n",
    "\n",
    "for X, y in test_loader:\n",
    "    test_targets = np.append(test_targets, y.numpy())\n",
    "\n",
    "test_num = test_targets.shape[0]\n",
    "print(test_num)"
   ]
  },
  {
   "cell_type": "code",
   "execution_count": 16,
   "metadata": {},
   "outputs": [
    {
     "data": {
      "image/png": "[encoded data removed]",
      "text/plain": [
       "<Figure size 640x480 with 1 Axes>"
      ]
     },
     "metadata": {},
     "output_type": "display_data"
    }
   ],
   "source": [
    "x = np.arange(test_num)\n",
    "plt.plot(x, test_targets, label = 'target values', color='b')\n",
    "plt.plot(x, predictions, label = 'predictions', color='r')\n",
    "plt.title('Stateful LSTM prediction')\n",
    "plt.legend()\n",
    "plt.show()"
   ]
  },
  {
   "cell_type": "code",
   "execution_count": 17,
   "metadata": {},
   "outputs": [
    {
     "data": {
      "image/png": "[encoded data removed]",
      "text/plain": [
       "<Figure size 640x480 with 1 Axes>"
      ]
     },
     "metadata": {},
     "output_type": "display_data"
    }
   ],
   "source": [
    "x = np.arange(1440)\n",
    "plt.plot(x, test_targets[:1440], label = 'target values', color='b')\n",
    "plt.plot(x, predictions[:1440], label = 'predictions', color='r')\n",
    "plt.title('Stateful LSTM prediction')\n",
    "plt.legend()\n",
    "plt.show()"
   ]
  },
  {
   "attachments": {},
   "cell_type": "markdown",
   "metadata": {},
   "source": [
    "## Future Works\n",
    "\n",
    "Compare between stateful LSTM with `shorter sequence length` and that with `longer sequence length`."
   ]
  }
 ],
 "metadata": {
  "kernelspec": {
   "display_name": "mathdl",
   "language": "python",
   "name": "python3"
  },
  "language_info": {
   "codemirror_mode": {
    "name": "ipython",
    "version": 3
   },
   "file_extension": ".py",
   "mimetype": "text/x-python",
   "name": "python",
   "nbconvert_exporter": "python",
   "pygments_lexer": "ipython3",
   "version": "3.8.13"
  },
  "orig_nbformat": 4,
  "vscode": {
   "interpreter": {
    "hash": "9e59e1ea385b879f446154c61f2f6127b4872fff981994bd2fbd456f7f8f6770"
   }
  }
 },
 "nbformat": 4,
 "nbformat_minor": 2
}
