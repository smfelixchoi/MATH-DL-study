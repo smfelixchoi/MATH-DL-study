{
 "cells": [
  {
   "attachments": {},
   "cell_type": "markdown",
   "metadata": {},
   "source": [
    "# Stateful LSTM using PyTorch\n",
    "\n",
    "[References]\n",
    "- [PyTorch Discussion](https://discuss.pytorch.org/t/confusion-regarding-pytorch-lstms-compared-to-keras-stateful-lstm/44502)\n",
    "- [PyTorch LSTM](https://pytorch.org/docs/stable/generated/torch.nn.LSTM.html)"
   ]
  },
  {
   "attachments": {},
   "cell_type": "markdown",
   "metadata": {},
   "source": [
    "## What is stateful LSTM?"
   ]
  },
  {
   "cell_type": "code",
   "execution_count": 1,
   "metadata": {},
   "outputs": [
    {
     "name": "stdout",
     "output_type": "stream",
     "text": [
      "num_train_samples: 252270\n",
      "num_val_samples: 84090\n",
      "num_test_samples: 84091\n"
     ]
    }
   ],
   "source": [
    "import torch\n",
    "from torch import nn\n",
    "from torch import optim\n",
    "from torch.utils.data import Dataset, DataLoader\n",
    "\n",
    "from torchinfo import summary\n",
    "\n",
    "from data_preprocess import X, y, num_train_samples, num_val_samples, num_test_samples\n",
    "\n",
    "import numpy as np \n",
    "import matplotlib.pyplot as plt\n",
    "from tqdm import tqdm"
   ]
  },
  {
   "cell_type": "code",
   "execution_count": 2,
   "metadata": {},
   "outputs": [
    {
     "name": "stdout",
     "output_type": "stream",
     "text": [
      "cpu\n",
      "Number of features: 14\n"
     ]
    }
   ],
   "source": [
    "device = torch.device('cuda' if torch.cuda.is_available() else 'cpu')\n",
    "print(device)\n",
    "\n",
    "num_features = X.shape[1]\n",
    "print('Number of features:', num_features)"
   ]
  },
  {
   "attachments": {},
   "cell_type": "markdown",
   "metadata": {},
   "source": [
    "## Data Loader for Stateful-LSTM"
   ]
  },
  {
   "cell_type": "code",
   "execution_count": 3,
   "metadata": {},
   "outputs": [],
   "source": [
    "class SequenceDataset(Dataset):\n",
    "    def __init__(self, X_array, y_array, sampling_rate, sequence_length, delay):\n",
    "        super(Dataset, self).__init__()\n",
    "\n",
    "        self.sr = sampling_rate\n",
    "        self.seq_len = sequence_length\n",
    "        self.delay = delay\n",
    "        self.X = torch.tensor(X_array).float()\n",
    "        self.y = torch.tensor(y_array).float()\n",
    "\n",
    "    def __len__(self):\n",
    "        return (self.X.size(0) - self.delay)//self.seq_len\n",
    "\n",
    "    def __getitem__(self, i): \n",
    "        idx = np.arange(i*self.seq_len, i*self.seq_len + self.sr*self.seq_len, self.sr)\n",
    "        return self.X[idx], self.y[i*self.seq_len+self.delay]"
   ]
  },
  {
   "cell_type": "code",
   "execution_count": 4,
   "metadata": {},
   "outputs": [],
   "source": [
    "int_sequence = np.arange(130)\n",
    "dummy_dataset = SequenceDataset(int_sequence, int_sequence,\n",
    "                                sampling_rate=3, sequence_length=7, \n",
    "                                delay=20)\n",
    "dummy_loader = DataLoader(dummy_dataset, batch_size=3, shuffle=False)"
   ]
  },
  {
   "cell_type": "code",
   "execution_count": 5,
   "metadata": {},
   "outputs": [
    {
     "name": "stdout",
     "output_type": "stream",
     "text": [
      "====================\n",
      "[0, 3, 6, 9, 12, 15, 18] 20\n",
      "[7, 10, 13, 16, 19, 22, 25] 27\n",
      "[14, 17, 20, 23, 26, 29, 32] 34\n",
      "====================\n",
      "[21, 24, 27, 30, 33, 36, 39] 41\n",
      "[28, 31, 34, 37, 40, 43, 46] 48\n",
      "[35, 38, 41, 44, 47, 50, 53] 55\n",
      "====================\n",
      "[42, 45, 48, 51, 54, 57, 60] 62\n",
      "[49, 52, 55, 58, 61, 64, 67] 69\n",
      "[56, 59, 62, 65, 68, 71, 74] 76\n",
      "====================\n",
      "[63, 66, 69, 72, 75, 78, 81] 83\n",
      "[70, 73, 76, 79, 82, 85, 88] 90\n",
      "[77, 80, 83, 86, 89, 92, 95] 97\n",
      "====================\n",
      "[84, 87, 90, 93, 96, 99, 102] 104\n",
      "[91, 94, 97, 100, 103, 106, 109] 111\n",
      "[98, 101, 104, 107, 110, 113, 116] 118\n"
     ]
    }
   ],
   "source": [
    "for inputs, targets in dummy_loader:\n",
    "    # inputs shape : (batch_size, sequence_length)\n",
    "    # targets shape : (batch_size, )\n",
    "    print(\"====================\")\n",
    "    for i in range(inputs.shape[0]):\n",
    "        print([int(x) for x in inputs[i]], int(targets[i]))"
   ]
  },
  {
   "attachments": {},
   "cell_type": "markdown",
   "metadata": {},
   "source": [
    "**To use `stateful=True` mode in LSTM (RNN), you should follow the rules below:**\n",
    "\n",
    "- Do **NOT** shuffle the dataset\n",
    "- `sequence_stride` = `sequence_length`\n",
    "- `batch_size` = `sampling_rate`\n",
    "- Each batch need to have the same number of samples, i.e., the number of samples needs to divisible by `batch_size`."
   ]
  },
  {
   "cell_type": "code",
   "execution_count": 6,
   "metadata": {},
   "outputs": [],
   "source": [
    "# Observations will be sampled at one data point per hour\n",
    "sampling_rate=6\n",
    "\n",
    "# Observations will go back 5 days (120 hours)\n",
    "sequence_length = 120\n",
    "\n",
    "# The target for a sequence will be the temperature 24 hours after the end of the sequence.\n",
    "delay = sampling_rate * (sequence_length + 24 - 1)\n",
    "batch_size = sampling_rate\n",
    "\n",
    "train_dataset = SequenceDataset(X[:num_train_samples-sequence_length], \n",
    "                                y[:num_train_samples-sequence_length], \n",
    "                                sampling_rate=sampling_rate, sequence_length=sequence_length,\n",
    "                                delay = delay)\n",
    "\n",
    "valid_dataset = SequenceDataset(X[num_train_samples:num_train_samples+num_val_samples-sequence_length*3], \n",
    "                                y[num_train_samples:num_train_samples+num_val_samples-sequence_length*3], \n",
    "                                sampling_rate=sampling_rate, sequence_length=sequence_length,\n",
    "                                delay = delay)\n",
    "\n",
    "test_dataset = SequenceDataset(X[num_train_samples + num_val_samples-delay*2:-sequence_length*5],\n",
    "                               y[num_train_samples + num_val_samples-delay*2:-sequence_length*5], \n",
    "                               sampling_rate=sampling_rate, sequence_length=sequence_length,\n",
    "                               delay = delay)\n"
   ]
  },
  {
   "cell_type": "code",
   "execution_count": 7,
   "metadata": {},
   "outputs": [],
   "source": [
    "train_loader = DataLoader(train_dataset, batch_size=sampling_rate, shuffle=False)\n",
    "valid_loader = DataLoader(valid_dataset, batch_size=sampling_rate, shuffle=False)\n",
    "test_loader = DataLoader(test_dataset, batch_size=sampling_rate, shuffle=False)"
   ]
  },
  {
   "cell_type": "code",
   "execution_count": 8,
   "metadata": {},
   "outputs": [
    {
     "name": "stdout",
     "output_type": "stream",
     "text": [
      "samples shape: torch.Size([6, 120, 14])\n",
      "targets shape: torch.Size([6])\n"
     ]
    }
   ],
   "source": [
    "for samples, targets in test_loader:\n",
    "    print('samples shape:', samples.shape)\n",
    "    print('targets shape:', targets.shape)\n",
    "    break"
   ]
  },
  {
   "attachments": {},
   "cell_type": "markdown",
   "metadata": {},
   "source": [
    "## Stateful LSTM model\n",
    "\n",
    "- Using PyTorch, we store the hidden/cell state vectors from the previous batch. Then we use the vectors as the initial hidden/cell state vectors in the next batch.\n",
    "- `train` and `test` functions should be changed from those for the original LSTM models."
   ]
  },
  {
   "cell_type": "code",
   "execution_count": 9,
   "metadata": {},
   "outputs": [],
   "source": [
    "class stateful_LSTM_model(nn.Module):\n",
    "    def __init__(self, input_size, hidden_size):\n",
    "        super(stateful_LSTM_model, self).__init__()\n",
    "\n",
    "        self.hidden_size = hidden_size\n",
    "\n",
    "        self.lstm = nn.LSTM(input_size  = input_size,\n",
    "                            hidden_size = hidden_size,\n",
    "                            num_layers  = 1,     # The number of stacked RNN layers\n",
    "                            batch_first = True            # Default: False\n",
    "                            )\n",
    "        self.linear = nn.Linear(in_features = hidden_size, \n",
    "                                out_features=1, \n",
    "                                bias=True\n",
    "                                )\n",
    "\n",
    "    def forward(self, x, h_n, c_n):\n",
    "        output, (h_n, c_n) = self.lstm(x, (h_n.detach(), c_n.detach()))\n",
    "        '''\n",
    "        output size : (batch_size, sequence_length, num_layers * hidden_size)\n",
    "        -> hidden state vectors (NOT CELL STATE VECTORS) for each time step, for each layer.\n",
    "        h_n : (num_layers, batch_size, hidden_size) \n",
    "        c_n : (num_layers, batch_size, hidden_size)\n",
    "        '''\n",
    "        x = h_n.view(-1, self.hidden_size)\n",
    "        '''\n",
    "        Reshape to (batch_size, hidden_size) : appropriate shape as linear layer input\n",
    "        '''\n",
    "        x = self.linear(x)\n",
    "        return x, h_n, c_n"
   ]
  },
  {
   "cell_type": "code",
   "execution_count": 10,
   "metadata": {},
   "outputs": [],
   "source": [
    "hidden_size=16\n",
    "model = stateful_LSTM_model(input_size=num_features, hidden_size=hidden_size).to(device)\n",
    "criterion = nn.MSELoss()\n",
    "optimizer = optim.Adam(model.parameters(), lr=1e-3)\n",
    "EPOCHS = 30"
   ]
  },
  {
   "cell_type": "code",
   "execution_count": 11,
   "metadata": {},
   "outputs": [],
   "source": [
    "batch_size=sampling_rate\n",
    "\n",
    "def train(model, trainloader, validloader, criterion, optimizer, epoch, device):\n",
    "    \n",
    "    losses = []\n",
    "    val_losses = []\n",
    "    model.to(device)\n",
    "    model.train()\n",
    "\n",
    "    for i in range(1, epoch+1):\n",
    "        count = 0\n",
    "        train_loss = 0\n",
    "        h_n = torch.zeros(1, batch_size, hidden_size).to(device)\n",
    "        c_n = torch.zeros(1, batch_size, hidden_size).to(device)\n",
    "        for X, y in tqdm(trainloader):\n",
    "            X = X.to(device)\n",
    "            y = y.to(device)\n",
    "\n",
    "            output, h_n, c_n = model(X, h_n, c_n)\n",
    "            loss = criterion(output.view(-1), y)\n",
    "\n",
    "            optimizer.zero_grad()\n",
    "            loss.backward()\n",
    "            optimizer.step()\n",
    "\n",
    "            train_loss += loss.item()\n",
    "            count += 1\n",
    "\n",
    "        train_loss /= count\n",
    "        losses.append(train_loss)\n",
    "\n",
    "        count = 0\n",
    "        valid_loss = 0\n",
    "        h_n = torch.zeros(1, batch_size, hidden_size).to(device)\n",
    "        c_n = torch.zeros(1, batch_size, hidden_size).to(device)\n",
    "        with torch.no_grad():\n",
    "            for X, y in validloader:\n",
    "                X = X.to(device)\n",
    "                y = y.to(device)\n",
    "\n",
    "                output, h_n, c_n = model(X, h_n, c_n)\n",
    "                loss = criterion(output.view(-1), y)\n",
    "                valid_loss += loss.item()\n",
    "                count += 1\n",
    "            \n",
    "        valid_loss /= count\n",
    "        val_losses.append(valid_loss)\n",
    "\n",
    "        print('EPOCH %d Completed. \\n Training Loss: %.3f, Validation Loss: %.3f \\n' \n",
    "              %(i, train_loss, valid_loss))\n",
    "\n",
    "    return losses, val_losses"
   ]
  },
  {
   "cell_type": "code",
   "execution_count": 12,
   "metadata": {},
   "outputs": [],
   "source": [
    "def test(model, evalloader, criterion, device):\n",
    "    eval_loss = 0\n",
    "    count = 0\n",
    "    model.eval()\n",
    "    predictions = np.empty([0])\n",
    "\n",
    "    h_n = torch.zeros(1, batch_size, hidden_size).to(device)\n",
    "    c_n = torch.zeros(1, batch_size, hidden_size).to(device)\n",
    "    with torch.no_grad():\n",
    "        for X, y in evalloader:\n",
    "            X = X.to(device)\n",
    "            y = y.to(device)\n",
    "\n",
    "            output, h_n, c_n = model(X, h_n, c_n)\n",
    "            predictions = np.append(predictions, output.view(-1).numpy())\n",
    "\n",
    "            loss = criterion(output.view(-1), y)\n",
    "            eval_loss += loss.item()\n",
    "            count += 1\n",
    "        \n",
    "    eval_loss /= count\n",
    "    \n",
    "    return predictions, eval_loss"
   ]
  },
  {
   "cell_type": "code",
   "execution_count": 13,
   "metadata": {},
   "outputs": [
    {
     "name": "stderr",
     "output_type": "stream",
     "text": [
      "100%|██████████| 349/349 [00:08<00:00, 41.75it/s]\n"
     ]
    },
    {
     "name": "stdout",
     "output_type": "stream",
     "text": [
      "EPOCH 1 Completed. \n",
      " Training Loss: 108.287, Validation Loss: 49.367 \n",
      "\n"
     ]
    },
    {
     "name": "stderr",
     "output_type": "stream",
     "text": [
      "100%|██████████| 349/349 [00:08<00:00, 42.71it/s]\n"
     ]
    },
    {
     "name": "stdout",
     "output_type": "stream",
     "text": [
      "EPOCH 2 Completed. \n",
      " Training Loss: 49.837, Validation Loss: 29.091 \n",
      "\n"
     ]
    },
    {
     "name": "stderr",
     "output_type": "stream",
     "text": [
      "100%|██████████| 349/349 [00:08<00:00, 38.79it/s]\n"
     ]
    },
    {
     "name": "stdout",
     "output_type": "stream",
     "text": [
      "EPOCH 3 Completed. \n",
      " Training Loss: 32.235, Validation Loss: 20.605 \n",
      "\n"
     ]
    },
    {
     "name": "stderr",
     "output_type": "stream",
     "text": [
      "100%|██████████| 349/349 [00:11<00:00, 29.81it/s]\n"
     ]
    },
    {
     "name": "stdout",
     "output_type": "stream",
     "text": [
      "EPOCH 4 Completed. \n",
      " Training Loss: 23.256, Validation Loss: 16.501 \n",
      "\n"
     ]
    },
    {
     "name": "stderr",
     "output_type": "stream",
     "text": [
      "100%|██████████| 349/349 [00:10<00:00, 32.48it/s]\n"
     ]
    },
    {
     "name": "stdout",
     "output_type": "stream",
     "text": [
      "EPOCH 5 Completed. \n",
      " Training Loss: 18.392, Validation Loss: 13.818 \n",
      "\n"
     ]
    },
    {
     "name": "stderr",
     "output_type": "stream",
     "text": [
      "100%|██████████| 349/349 [00:09<00:00, 38.32it/s]\n"
     ]
    },
    {
     "name": "stdout",
     "output_type": "stream",
     "text": [
      "EPOCH 6 Completed. \n",
      " Training Loss: 15.651, Validation Loss: 12.614 \n",
      "\n"
     ]
    },
    {
     "name": "stderr",
     "output_type": "stream",
     "text": [
      "100%|██████████| 349/349 [00:08<00:00, 39.53it/s]\n"
     ]
    },
    {
     "name": "stdout",
     "output_type": "stream",
     "text": [
      "EPOCH 7 Completed. \n",
      " Training Loss: 14.011, Validation Loss: 11.773 \n",
      "\n"
     ]
    },
    {
     "name": "stderr",
     "output_type": "stream",
     "text": [
      "100%|██████████| 349/349 [00:08<00:00, 39.06it/s]\n"
     ]
    },
    {
     "name": "stdout",
     "output_type": "stream",
     "text": [
      "EPOCH 8 Completed. \n",
      " Training Loss: 13.072, Validation Loss: 11.261 \n",
      "\n"
     ]
    },
    {
     "name": "stderr",
     "output_type": "stream",
     "text": [
      "100%|██████████| 349/349 [00:09<00:00, 37.78it/s]\n"
     ]
    },
    {
     "name": "stdout",
     "output_type": "stream",
     "text": [
      "EPOCH 9 Completed. \n",
      " Training Loss: 12.367, Validation Loss: 10.901 \n",
      "\n"
     ]
    },
    {
     "name": "stderr",
     "output_type": "stream",
     "text": [
      "100%|██████████| 349/349 [00:09<00:00, 38.23it/s]\n"
     ]
    },
    {
     "name": "stdout",
     "output_type": "stream",
     "text": [
      "EPOCH 10 Completed. \n",
      " Training Loss: 11.819, Validation Loss: 10.672 \n",
      "\n"
     ]
    },
    {
     "name": "stderr",
     "output_type": "stream",
     "text": [
      "100%|██████████| 349/349 [00:08<00:00, 42.40it/s]\n"
     ]
    },
    {
     "name": "stdout",
     "output_type": "stream",
     "text": [
      "EPOCH 11 Completed. \n",
      " Training Loss: 11.470, Validation Loss: 10.597 \n",
      "\n"
     ]
    },
    {
     "name": "stderr",
     "output_type": "stream",
     "text": [
      "100%|██████████| 349/349 [00:08<00:00, 39.82it/s]\n"
     ]
    },
    {
     "name": "stdout",
     "output_type": "stream",
     "text": [
      "EPOCH 12 Completed. \n",
      " Training Loss: 11.106, Validation Loss: 10.462 \n",
      "\n"
     ]
    },
    {
     "name": "stderr",
     "output_type": "stream",
     "text": [
      "100%|██████████| 349/349 [00:08<00:00, 39.20it/s]\n"
     ]
    },
    {
     "name": "stdout",
     "output_type": "stream",
     "text": [
      "EPOCH 13 Completed. \n",
      " Training Loss: 10.876, Validation Loss: 10.355 \n",
      "\n"
     ]
    },
    {
     "name": "stderr",
     "output_type": "stream",
     "text": [
      "100%|██████████| 349/349 [00:08<00:00, 41.08it/s]\n"
     ]
    },
    {
     "name": "stdout",
     "output_type": "stream",
     "text": [
      "EPOCH 14 Completed. \n",
      " Training Loss: 10.683, Validation Loss: 10.344 \n",
      "\n"
     ]
    },
    {
     "name": "stderr",
     "output_type": "stream",
     "text": [
      "100%|██████████| 349/349 [00:08<00:00, 41.27it/s]\n"
     ]
    },
    {
     "name": "stdout",
     "output_type": "stream",
     "text": [
      "EPOCH 15 Completed. \n",
      " Training Loss: 10.532, Validation Loss: 10.338 \n",
      "\n"
     ]
    },
    {
     "name": "stderr",
     "output_type": "stream",
     "text": [
      "100%|██████████| 349/349 [00:08<00:00, 42.34it/s]\n"
     ]
    },
    {
     "name": "stdout",
     "output_type": "stream",
     "text": [
      "EPOCH 16 Completed. \n",
      " Training Loss: 10.398, Validation Loss: 10.340 \n",
      "\n"
     ]
    },
    {
     "name": "stderr",
     "output_type": "stream",
     "text": [
      "100%|██████████| 349/349 [00:08<00:00, 43.23it/s]\n"
     ]
    },
    {
     "name": "stdout",
     "output_type": "stream",
     "text": [
      "EPOCH 17 Completed. \n",
      " Training Loss: 10.286, Validation Loss: 10.419 \n",
      "\n"
     ]
    },
    {
     "name": "stderr",
     "output_type": "stream",
     "text": [
      "100%|██████████| 349/349 [00:08<00:00, 41.79it/s]\n"
     ]
    },
    {
     "name": "stdout",
     "output_type": "stream",
     "text": [
      "EPOCH 18 Completed. \n",
      " Training Loss: 10.180, Validation Loss: 10.429 \n",
      "\n"
     ]
    },
    {
     "name": "stderr",
     "output_type": "stream",
     "text": [
      "100%|██████████| 349/349 [00:08<00:00, 43.07it/s]\n"
     ]
    },
    {
     "name": "stdout",
     "output_type": "stream",
     "text": [
      "EPOCH 19 Completed. \n",
      " Training Loss: 10.082, Validation Loss: 10.440 \n",
      "\n"
     ]
    },
    {
     "name": "stderr",
     "output_type": "stream",
     "text": [
      "100%|██████████| 349/349 [00:08<00:00, 41.78it/s]\n"
     ]
    },
    {
     "name": "stdout",
     "output_type": "stream",
     "text": [
      "EPOCH 20 Completed. \n",
      " Training Loss: 9.984, Validation Loss: 10.401 \n",
      "\n"
     ]
    },
    {
     "name": "stderr",
     "output_type": "stream",
     "text": [
      "100%|██████████| 349/349 [00:08<00:00, 42.76it/s]\n"
     ]
    },
    {
     "name": "stdout",
     "output_type": "stream",
     "text": [
      "EPOCH 21 Completed. \n",
      " Training Loss: 9.881, Validation Loss: 10.377 \n",
      "\n"
     ]
    },
    {
     "name": "stderr",
     "output_type": "stream",
     "text": [
      "100%|██████████| 349/349 [00:08<00:00, 42.37it/s]\n"
     ]
    },
    {
     "name": "stdout",
     "output_type": "stream",
     "text": [
      "EPOCH 22 Completed. \n",
      " Training Loss: 9.791, Validation Loss: 10.377 \n",
      "\n"
     ]
    },
    {
     "name": "stderr",
     "output_type": "stream",
     "text": [
      "100%|██████████| 349/349 [00:08<00:00, 41.85it/s]\n"
     ]
    },
    {
     "name": "stdout",
     "output_type": "stream",
     "text": [
      "EPOCH 23 Completed. \n",
      " Training Loss: 9.684, Validation Loss: 10.431 \n",
      "\n"
     ]
    },
    {
     "name": "stderr",
     "output_type": "stream",
     "text": [
      "100%|██████████| 349/349 [00:08<00:00, 40.65it/s]\n"
     ]
    },
    {
     "name": "stdout",
     "output_type": "stream",
     "text": [
      "EPOCH 24 Completed. \n",
      " Training Loss: 9.631, Validation Loss: 10.622 \n",
      "\n"
     ]
    },
    {
     "name": "stderr",
     "output_type": "stream",
     "text": [
      "100%|██████████| 349/349 [00:08<00:00, 42.36it/s]\n"
     ]
    },
    {
     "name": "stdout",
     "output_type": "stream",
     "text": [
      "EPOCH 25 Completed. \n",
      " Training Loss: 9.543, Validation Loss: 10.457 \n",
      "\n"
     ]
    },
    {
     "name": "stderr",
     "output_type": "stream",
     "text": [
      "100%|██████████| 349/349 [00:08<00:00, 41.71it/s]\n"
     ]
    },
    {
     "name": "stdout",
     "output_type": "stream",
     "text": [
      "EPOCH 26 Completed. \n",
      " Training Loss: 9.431, Validation Loss: 10.465 \n",
      "\n"
     ]
    },
    {
     "name": "stderr",
     "output_type": "stream",
     "text": [
      "100%|██████████| 349/349 [00:08<00:00, 41.27it/s]\n"
     ]
    },
    {
     "name": "stdout",
     "output_type": "stream",
     "text": [
      "EPOCH 27 Completed. \n",
      " Training Loss: 9.417, Validation Loss: 10.535 \n",
      "\n"
     ]
    },
    {
     "name": "stderr",
     "output_type": "stream",
     "text": [
      "100%|██████████| 349/349 [00:08<00:00, 39.95it/s]\n"
     ]
    },
    {
     "name": "stdout",
     "output_type": "stream",
     "text": [
      "EPOCH 28 Completed. \n",
      " Training Loss: 9.387, Validation Loss: 10.355 \n",
      "\n"
     ]
    },
    {
     "name": "stderr",
     "output_type": "stream",
     "text": [
      "100%|██████████| 349/349 [00:08<00:00, 40.61it/s]\n"
     ]
    },
    {
     "name": "stdout",
     "output_type": "stream",
     "text": [
      "EPOCH 29 Completed. \n",
      " Training Loss: 9.252, Validation Loss: 10.369 \n",
      "\n"
     ]
    },
    {
     "name": "stderr",
     "output_type": "stream",
     "text": [
      "100%|██████████| 349/349 [00:08<00:00, 41.01it/s]\n"
     ]
    },
    {
     "name": "stdout",
     "output_type": "stream",
     "text": [
      "EPOCH 30 Completed. \n",
      " Training Loss: 9.216, Validation Loss: 10.363 \n",
      "\n"
     ]
    }
   ],
   "source": [
    "train_loss, val_loss = train(model, train_loader, valid_loader, criterion, optimizer, EPOCHS, device)"
   ]
  },
  {
   "cell_type": "code",
   "execution_count": 14,
   "metadata": {},
   "outputs": [],
   "source": [
    "predictions, eval_loss = test(model, test_loader, criterion, device)"
   ]
  },
  {
   "cell_type": "code",
   "execution_count": 15,
   "metadata": {},
   "outputs": [
    {
     "name": "stdout",
     "output_type": "stream",
     "text": [
      "702\n"
     ]
    }
   ],
   "source": [
    "test_targets = np.empty([0])\n",
    "\n",
    "for X, y in test_loader:\n",
    "    test_targets = np.append(test_targets, y.numpy())\n",
    "\n",
    "test_num = test_targets.shape[0]\n",
    "print(test_num)"
   ]
  },
  {
   "cell_type": "code",
   "execution_count": 16,
   "metadata": {},
   "outputs": [
    {
     "data": {
      "image/png": "[encoded data removed]",
      "text/plain": [
       "<Figure size 640x480 with 1 Axes>"
      ]
     },
     "metadata": {},
     "output_type": "display_data"
    }
   ],
   "source": [
    "x = np.arange(test_num)\n",
    "plt.plot(x, test_targets, label = 'target values', color='b')\n",
    "plt.plot(x, predictions, label = 'predictions', color='r')\n",
    "plt.title('Stateful LSTM prediction')\n",
    "plt.legend()\n",
    "plt.show()"
   ]
  },
  {
   "cell_type": "code",
   "execution_count": 17,
   "metadata": {},
   "outputs": [
    {
     "data": {
      "image/png": "[encoded data removed]",
      "text/plain": [
       "<Figure size 640x480 with 1 Axes>"
      ]
     },
     "metadata": {},
     "output_type": "display_data"
    }
   ],
   "source": [
    "x = np.arange(120)\n",
    "plt.plot(x, test_targets[:120], label = 'target values', color='b')\n",
    "plt.plot(x, predictions[:120], label = 'predictions', color='r')\n",
    "plt.title('Stateful LSTM prediction')\n",
    "plt.legend()\n",
    "plt.show()"
   ]
  }
 ],
 "metadata": {
  "kernelspec": {
   "display_name": "MathDLstudy",
   "language": "python",
   "name": "mathdl"
  },
  "language_info": {
   "codemirror_mode": {
    "name": "ipython",
    "version": 3
   },
   "file_extension": ".py",
   "mimetype": "text/x-python",
   "name": "python",
   "nbconvert_exporter": "python",
   "pygments_lexer": "ipython3",
   "version": "3.8.13"
  },
  "orig_nbformat": 4,
  "vscode": {
   "interpreter": {
    "hash": "9e59e1ea385b879f446154c61f2f6127b4872fff981994bd2fbd456f7f8f6770"
   }
  }
 },
 "nbformat": 4,
 "nbformat_minor": 2
}
