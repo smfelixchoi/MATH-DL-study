{
 "cells": [
  {
   "cell_type": "markdown",
   "id": "e2c961c8",
   "metadata": {},
   "source": [
    "# MNIST classification with TensorFlow"
   ]
  },
  {
   "cell_type": "code",
   "execution_count": 1,
   "id": "95b795a5",
   "metadata": {},
   "outputs": [],
   "source": [
    "import tensorflow as tf\n",
    "import numpy as np"
   ]
  },
  {
   "cell_type": "code",
   "execution_count": 2,
   "id": "45709c94",
   "metadata": {},
   "outputs": [],
   "source": [
    "(x_train, y_train), (x_test, y_test) = tf.keras.datasets.mnist.load_data()\n",
    "\n",
    "x_train, x_valid = x_train[:50000], x_train[50000:]\n",
    "y_train, y_valid = y_train[:50000], y_train[50000:]\n",
    "\n",
    "x_train = x_train.reshape(50000,28*28)/256\n",
    "x_valid = x_valid.reshape(-1, 28*28)/256\n",
    "x_test  = x_test.reshape(-1, 28*28)/256\n",
    "\n",
    "y_train_one_hot = np.eye(10)[y_train]\n",
    "y_valid_one_hot = np.eye(10)[y_valid]"
   ]
  },
  {
   "cell_type": "code",
   "execution_count": 3,
   "id": "3bd69cf8",
   "metadata": {},
   "outputs": [],
   "source": [
    "from tensorflow.keras.layers import Input, Dense\n",
    "from tensorflow.keras.models import Model"
   ]
  },
  {
   "cell_type": "markdown",
   "id": "6e406726",
   "metadata": {},
   "source": [
    "## Define 2-Layer MLP"
   ]
  },
  {
   "cell_type": "code",
   "execution_count": 4,
   "id": "628ca124",
   "metadata": {},
   "outputs": [],
   "source": [
    "input_tensor = Input(28*28)\n",
    "x = Dense(100, activation='sigmoid')(input_tensor)\n",
    "x = Dense(10, activation='softmax')(x)\n",
    "\n",
    "model = Model(inputs=input_tensor, outputs=x)\n",
    "optim = tf.keras.optimizers.SGD(learning_rate=0.01)\n",
    "model.compile(loss='categorical_crossentropy', optimizer=optim, metrics=['accuracy'])"
   ]
  },
  {
   "cell_type": "markdown",
   "id": "ae344a41",
   "metadata": {},
   "source": [
    "## Train and Predict"
   ]
  },
  {
   "cell_type": "code",
   "execution_count": 5,
   "id": "f8f05976",
   "metadata": {
    "scrolled": true
   },
   "outputs": [
    {
     "name": "stdout",
     "output_type": "stream",
     "text": [
      "Epoch 1/20\n",
      "200/200 [==============================] - 2s 4ms/step - loss: 2.3075 - accuracy: 0.2275 - val_loss: 2.0561 - val_accuracy: 0.5604\n",
      "Epoch 2/20\n",
      "200/200 [==============================] - 0s 2ms/step - loss: 2.0043 - accuracy: 0.5884 - val_loss: 1.8324 - val_accuracy: 0.6917\n",
      "Epoch 3/20\n",
      "200/200 [==============================] - 0s 2ms/step - loss: 1.7924 - accuracy: 0.6803 - val_loss: 1.6279 - val_accuracy: 0.7269\n",
      "Epoch 4/20\n",
      "200/200 [==============================] - 0s 2ms/step - loss: 1.5983 - accuracy: 0.7141 - val_loss: 1.4451 - val_accuracy: 0.7639\n",
      "Epoch 5/20\n",
      "200/200 [==============================] - 0s 2ms/step - loss: 1.4278 - accuracy: 0.7406 - val_loss: 1.2885 - val_accuracy: 0.7874\n",
      "Epoch 6/20\n",
      "200/200 [==============================] - 0s 2ms/step - loss: 1.2785 - accuracy: 0.7671 - val_loss: 1.1574 - val_accuracy: 0.8027\n",
      "Epoch 7/20\n",
      "200/200 [==============================] - 0s 2ms/step - loss: 1.1636 - accuracy: 0.7796 - val_loss: 1.0492 - val_accuracy: 0.8192\n",
      "Epoch 8/20\n",
      "200/200 [==============================] - 0s 2ms/step - loss: 1.0577 - accuracy: 0.7992 - val_loss: 0.9601 - val_accuracy: 0.8293\n",
      "Epoch 9/20\n",
      "200/200 [==============================] - 0s 2ms/step - loss: 0.9792 - accuracy: 0.8105 - val_loss: 0.8865 - val_accuracy: 0.8372\n",
      "Epoch 10/20\n",
      "200/200 [==============================] - 0s 2ms/step - loss: 0.9083 - accuracy: 0.8200 - val_loss: 0.8254 - val_accuracy: 0.8476\n",
      "Epoch 11/20\n",
      "200/200 [==============================] - 0s 2ms/step - loss: 0.8543 - accuracy: 0.8251 - val_loss: 0.7738 - val_accuracy: 0.8532\n",
      "Epoch 12/20\n",
      "200/200 [==============================] - 0s 2ms/step - loss: 0.8032 - accuracy: 0.8340 - val_loss: 0.7304 - val_accuracy: 0.8565\n",
      "Epoch 13/20\n",
      "200/200 [==============================] - 0s 2ms/step - loss: 0.7655 - accuracy: 0.8392 - val_loss: 0.6930 - val_accuracy: 0.8610\n",
      "Epoch 14/20\n",
      "200/200 [==============================] - 0s 2ms/step - loss: 0.7233 - accuracy: 0.8469 - val_loss: 0.6603 - val_accuracy: 0.8654\n",
      "Epoch 15/20\n",
      "200/200 [==============================] - 0s 2ms/step - loss: 0.6967 - accuracy: 0.8509 - val_loss: 0.6321 - val_accuracy: 0.8684\n",
      "Epoch 16/20\n",
      "200/200 [==============================] - 0s 2ms/step - loss: 0.6672 - accuracy: 0.8537 - val_loss: 0.6073 - val_accuracy: 0.8723\n",
      "Epoch 17/20\n",
      "200/200 [==============================] - 0s 2ms/step - loss: 0.6423 - accuracy: 0.8565 - val_loss: 0.5853 - val_accuracy: 0.8748\n",
      "Epoch 18/20\n",
      "200/200 [==============================] - 0s 2ms/step - loss: 0.6265 - accuracy: 0.8613 - val_loss: 0.5661 - val_accuracy: 0.8781\n",
      "Epoch 19/20\n",
      "200/200 [==============================] - 0s 2ms/step - loss: 0.6059 - accuracy: 0.8598 - val_loss: 0.5484 - val_accuracy: 0.8807\n",
      "Epoch 20/20\n",
      "200/200 [==============================] - 0s 2ms/step - loss: 0.5924 - accuracy: 0.8623 - val_loss: 0.5327 - val_accuracy: 0.8821\n"
     ]
    },
    {
     "data": {
      "text/plain": [
       "<tensorflow.python.keras.callbacks.History at 0x7fd79b2d8350>"
      ]
     },
     "execution_count": 5,
     "metadata": {},
     "output_type": "execute_result"
    }
   ],
   "source": [
    "model.fit(x_train, y_train_one_hot, batch_size=250, epochs=20, validation_data=(x_valid, y_valid_one_hot))"
   ]
  },
  {
   "cell_type": "code",
   "execution_count": 6,
   "id": "6daacf99",
   "metadata": {},
   "outputs": [
    {
     "name": "stdout",
     "output_type": "stream",
     "text": [
      "Test Accuracy: 87.75 %\n"
     ]
    }
   ],
   "source": [
    "pred = model.predict(x_test)\n",
    "pred_label = np.argmax(pred, axis = 1)\n",
    "test_acc = np.sum(pred_label==y_test)/y_test.shape[0]\n",
    "print('Test Accuracy:', test_acc*100, '%')"
   ]
  },
  {
   "cell_type": "code",
   "execution_count": null,
   "id": "f0226fff",
   "metadata": {},
   "outputs": [],
   "source": []
  }
 ],
 "metadata": {
  "kernelspec": {
   "display_name": "Environment (conda_tensorflow2.4_p37)",
   "language": "python",
   "name": "conda_tensorflow2.4_p37"
  },
  "language_info": {
   "codemirror_mode": {
    "name": "ipython",
    "version": 3
   },
   "file_extension": ".py",
   "mimetype": "text/x-python",
   "name": "python",
   "nbconvert_exporter": "python",
   "pygments_lexer": "ipython3",
   "version": "3.7.10"
  }
 },
 "nbformat": 4,
 "nbformat_minor": 5
}
