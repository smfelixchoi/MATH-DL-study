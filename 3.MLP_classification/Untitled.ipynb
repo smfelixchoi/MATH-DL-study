{
 "cells": [
  {
   "cell_type": "code",
   "execution_count": 1,
   "id": "15a1e0e6",
   "metadata": {},
   "outputs": [],
   "source": [
    "import numpy as np\n",
    "from datetime import datetime"
   ]
  },
  {
   "cell_type": "markdown",
   "id": "0516dd3f",
   "metadata": {},
   "source": [
    "## Activation Functions\n",
    "\n",
    "- Sigmoid Function:\n",
    "$$ \\sigma(z) = \\frac{1}{1+e^{-z}}$$\n",
    "\n",
    "- ReLU:\n",
    "$$ ReLU(z) = \\max(0, z) = \\begin{cases} z & \\text{if }\\, z \\geq 0 \\\\ 0 & \\text{if }\\, z < 0 \\end{cases}.$$\n"
   ]
  },
  {
   "cell_type": "code",
   "execution_count": 3,
   "id": "a163f93e",
   "metadata": {},
   "outputs": [],
   "source": [
    "def sigmoid(z):\n",
    "    return 1 / (1+ np.exp(-z))\n",
    "\n",
    "def relu(z):\n",
    "    return np.maximum(0,z)\n"
   ]
  },
  {
   "cell_type": "markdown",
   "id": "e1e6c4d6",
   "metadata": {},
   "source": []
  }
 ],
 "metadata": {
  "kernelspec": {
   "display_name": "MathDLstudy",
   "language": "python",
   "name": "mathdl"
  },
  "language_info": {
   "codemirror_mode": {
    "name": "ipython",
    "version": 3
   },
   "file_extension": ".py",
   "mimetype": "text/x-python",
   "name": "python",
   "nbconvert_exporter": "python",
   "pygments_lexer": "ipython3",
   "version": "3.8.13"
  }
 },
 "nbformat": 4,
 "nbformat_minor": 5
}
