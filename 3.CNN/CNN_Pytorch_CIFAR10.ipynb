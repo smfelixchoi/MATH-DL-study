{
 "cells": [
  {
   "cell_type": "markdown",
   "metadata": {
    "id": "aENjWha3KApZ"
   },
   "source": [
    "# Convolutional Neural Networks "
   ]
  },
  {
   "cell_type": "markdown",
   "metadata": {},
   "source": [
    "## Import packages"
   ]
  },
  {
   "cell_type": "code",
   "execution_count": 1,
   "metadata": {
    "id": "c8EdXUqvIEVe"
   },
   "outputs": [],
   "source": [
    "import numpy as np\n",
    "import matplotlib.pyplot as plt\n",
    "\n",
    "import torch\n",
    "from torch import nn\n",
    "from torch import optim\n",
    "from torchsummary import summary\n",
    "\n",
    "import torchvision\n",
    "import torchvision.transforms as transforms\n",
    "from torchvision.datasets import CIFAR10\n",
    "from torch.utils.data import DataLoader\n",
    "from torch.utils.data import random_split"
   ]
  },
  {
   "cell_type": "code",
   "execution_count": 2,
   "metadata": {},
   "outputs": [
    {
     "name": "stdout",
     "output_type": "stream",
     "text": [
      "cuda\n"
     ]
    }
   ],
   "source": [
    "device = torch.device('cuda' if torch.cuda.is_available() else 'cpu')\n",
    "print(device)"
   ]
  },
  {
   "cell_type": "markdown",
   "metadata": {},
   "source": [
    "## Download CIFAR & Define DataLoader\n",
    "\n",
    "- `ToTensor()` transforms data into `Tensor` type and also normalizes into `[0,1]` range."
   ]
  },
  {
   "cell_type": "code",
   "execution_count": 3,
   "metadata": {
    "id": "d6kxGFAqIETZ"
   },
   "outputs": [
    {
     "name": "stdout",
     "output_type": "stream",
     "text": [
      "Files already downloaded and verified\n",
      "Files already downloaded and verified\n"
     ]
    }
   ],
   "source": [
    "transform = transforms.Compose([transforms.ToTensor()])\n",
    "\n",
    "dataset = CIFAR10(root='/home/ubuntu/Data/', train=True, download=True, transform=transform)\n",
    "testset = CIFAR10(root='/home/ubuntu/Data/', train=False, download=True, transform=transform)"
   ]
  },
  {
   "cell_type": "code",
   "execution_count": 4,
   "metadata": {
    "id": "N82C-hZPI3D5"
   },
   "outputs": [
    {
     "data": {
      "text/plain": [
       "(50000, 32, 32, 3)"
      ]
     },
     "execution_count": 4,
     "metadata": {},
     "output_type": "execute_result"
    }
   ],
   "source": [
    "dataset.data.shape"
   ]
  },
  {
   "cell_type": "code",
   "execution_count": 5,
   "metadata": {
    "scrolled": true
   },
   "outputs": [
    {
     "data": {
      "text/plain": [
       "array([[[ 59,  62,  63],\n",
       "        [ 43,  46,  45],\n",
       "        [ 50,  48,  43],\n",
       "        ...,\n",
       "        [158, 132, 108],\n",
       "        [152, 125, 102],\n",
       "        [148, 124, 103]],\n",
       "\n",
       "       [[ 16,  20,  20],\n",
       "        [  0,   0,   0],\n",
       "        [ 18,   8,   0],\n",
       "        ...,\n",
       "        [123,  88,  55],\n",
       "        [119,  83,  50],\n",
       "        [122,  87,  57]],\n",
       "\n",
       "       [[ 25,  24,  21],\n",
       "        [ 16,   7,   0],\n",
       "        [ 49,  27,   8],\n",
       "        ...,\n",
       "        [118,  84,  50],\n",
       "        [120,  84,  50],\n",
       "        [109,  73,  42]],\n",
       "\n",
       "       ...,\n",
       "\n",
       "       [[208, 170,  96],\n",
       "        [201, 153,  34],\n",
       "        [198, 161,  26],\n",
       "        ...,\n",
       "        [160, 133,  70],\n",
       "        [ 56,  31,   7],\n",
       "        [ 53,  34,  20]],\n",
       "\n",
       "       [[180, 139,  96],\n",
       "        [173, 123,  42],\n",
       "        [186, 144,  30],\n",
       "        ...,\n",
       "        [184, 148,  94],\n",
       "        [ 97,  62,  34],\n",
       "        [ 83,  53,  34]],\n",
       "\n",
       "       [[177, 144, 116],\n",
       "        [168, 129,  94],\n",
       "        [179, 142,  87],\n",
       "        ...,\n",
       "        [216, 184, 140],\n",
       "        [151, 118,  84],\n",
       "        [123,  92,  72]]], dtype=uint8)"
      ]
     },
     "execution_count": 5,
     "metadata": {},
     "output_type": "execute_result"
    }
   ],
   "source": [
    "dataset.data[0]"
   ]
  },
  {
   "cell_type": "code",
   "execution_count": 6,
   "metadata": {
    "scrolled": false
   },
   "outputs": [
    {
     "data": {
      "text/plain": [
       "['airplane',\n",
       " 'automobile',\n",
       " 'bird',\n",
       " 'cat',\n",
       " 'deer',\n",
       " 'dog',\n",
       " 'frog',\n",
       " 'horse',\n",
       " 'ship',\n",
       " 'truck']"
      ]
     },
     "execution_count": 6,
     "metadata": {},
     "output_type": "execute_result"
    }
   ],
   "source": [
    "dataset.classes"
   ]
  },
  {
   "cell_type": "code",
   "execution_count": 7,
   "metadata": {},
   "outputs": [
    {
     "data": {
      "text/plain": [
       "50000"
      ]
     },
     "execution_count": 7,
     "metadata": {},
     "output_type": "execute_result"
    }
   ],
   "source": [
    "len(dataset)"
   ]
  },
  {
   "cell_type": "code",
   "execution_count": 8,
   "metadata": {},
   "outputs": [],
   "source": [
    "train_num = int(len(dataset)*0.9)\n",
    "valid_num = len(dataset) - train_num"
   ]
  },
  {
   "cell_type": "code",
   "execution_count": 9,
   "metadata": {},
   "outputs": [],
   "source": [
    "trainset, validset = random_split(dataset, [train_num, valid_num])"
   ]
  },
  {
   "cell_type": "code",
   "execution_count": 10,
   "metadata": {},
   "outputs": [],
   "source": [
    "batch_size = 128\n",
    "trainloader = DataLoader(trainset, batch_size=batch_size, shuffle=True, num_workers=4)\n",
    "validloader = DataLoader(validset, batch_size=batch_size, shuffle=False, num_workers=4)\n",
    "testloader = DataLoader(testset, batch_size=batch_size, shuffle=False, num_workers=4)"
   ]
  },
  {
   "cell_type": "code",
   "execution_count": 11,
   "metadata": {},
   "outputs": [],
   "source": [
    "data, label = next(iter(trainloader))"
   ]
  },
  {
   "cell_type": "markdown",
   "metadata": {},
   "source": [
    "Construct model\n",
    "-----\n",
    "\n"
   ]
  },
  {
   "cell_type": "code",
   "execution_count": 53,
   "metadata": {
    "colab": {
     "base_uri": "https://localhost:8080/"
    },
    "id": "JxB0RIFZKvrP",
    "outputId": "935c198b-65d2-46f0-bea7-a4f6551041ba"
   },
   "outputs": [],
   "source": [
    "model = nn.Sequential()\n",
    "model.add_module('conv1',nn.Conv2d(in_channels=3, out_channels=16, kernel_size=3, padding=1))\n",
    "model.add_module('relu1',nn.ReLU())\n",
    "model.add_module('pool1',nn.MaxPool2d(2,2))\n",
    "model.add_module('conv2',nn.Conv2d(in_channels=16, out_channels=32, kernel_size=3, padding=1))\n",
    "model.add_module('relu2',nn.ReLU())\n",
    "model.add_module('pool2',nn.MaxPool2d(2,2))\n",
    "model.add_module('conv3',nn.Conv2d(in_channels=32, out_channels=64, kernel_size=3, padding=1))\n",
    "model.add_module('relu2',nn.ReLU())\n",
    "model.add_module('pool3',nn.MaxPool2d(2,2))\n",
    "model.add_module('flatten',nn.Flatten())\n",
    "model.add_module('fc1', nn.Linear(in_features=64*4*4, out_features=32))\n",
    "model.add_module('relu4', nn.ReLU())\n",
    "model.add_module('fc3', nn.Linear(in_features=32, out_features=10))"
   ]
  },
  {
   "cell_type": "code",
   "execution_count": 54,
   "metadata": {},
   "outputs": [
    {
     "data": {
      "text/plain": [
       "Sequential(\n",
       "  (conv1): Conv2d(3, 16, kernel_size=(3, 3), stride=(1, 1), padding=(1, 1))\n",
       "  (relu1): ReLU()\n",
       "  (pool1): MaxPool2d(kernel_size=2, stride=2, padding=0, dilation=1, ceil_mode=False)\n",
       "  (conv2): Conv2d(16, 32, kernel_size=(3, 3), stride=(1, 1), padding=(1, 1))\n",
       "  (relu2): ReLU()\n",
       "  (pool2): MaxPool2d(kernel_size=2, stride=2, padding=0, dilation=1, ceil_mode=False)\n",
       "  (conv3): Conv2d(32, 64, kernel_size=(3, 3), stride=(1, 1), padding=(1, 1))\n",
       "  (pool3): MaxPool2d(kernel_size=2, stride=2, padding=0, dilation=1, ceil_mode=False)\n",
       "  (flatten): Flatten(start_dim=1, end_dim=-1)\n",
       "  (fc1): Linear(in_features=1024, out_features=32, bias=True)\n",
       "  (relu4): ReLU()\n",
       "  (fc3): Linear(in_features=32, out_features=10, bias=True)\n",
       ")"
      ]
     },
     "execution_count": 54,
     "metadata": {},
     "output_type": "execute_result"
    }
   ],
   "source": [
    "model.to(device)"
   ]
  },
  {
   "cell_type": "code",
   "execution_count": 55,
   "metadata": {},
   "outputs": [
    {
     "name": "stdout",
     "output_type": "stream",
     "text": [
      "----------------------------------------------------------------\n",
      "        Layer (type)               Output Shape         Param #\n",
      "================================================================\n",
      "            Conv2d-1           [-1, 16, 32, 32]             448\n",
      "              ReLU-2           [-1, 16, 32, 32]               0\n",
      "         MaxPool2d-3           [-1, 16, 16, 16]               0\n",
      "            Conv2d-4           [-1, 32, 16, 16]           4,640\n",
      "              ReLU-5           [-1, 32, 16, 16]               0\n",
      "         MaxPool2d-6             [-1, 32, 8, 8]               0\n",
      "            Conv2d-7             [-1, 64, 8, 8]          18,496\n",
      "         MaxPool2d-8             [-1, 64, 4, 4]               0\n",
      "           Flatten-9                 [-1, 1024]               0\n",
      "           Linear-10                   [-1, 32]          32,800\n",
      "             ReLU-11                   [-1, 32]               0\n",
      "           Linear-12                   [-1, 10]             330\n",
      "================================================================\n",
      "Total params: 56,714\n",
      "Trainable params: 56,714\n",
      "Non-trainable params: 0\n",
      "----------------------------------------------------------------\n",
      "Input size (MB): 0.01\n",
      "Forward/backward pass size (MB): 0.47\n",
      "Params size (MB): 0.22\n",
      "Estimated Total Size (MB): 0.70\n",
      "----------------------------------------------------------------\n"
     ]
    }
   ],
   "source": [
    "summary(model,input_size=(3,32,32))"
   ]
  },
  {
   "cell_type": "code",
   "execution_count": 56,
   "metadata": {
    "id": "sVFu4BykKytd"
   },
   "outputs": [
    {
     "name": "stdout",
     "output_type": "stream",
     "text": [
      "Adjusting learning rate of group 0 to 1.0000e-02.\n"
     ]
    }
   ],
   "source": [
    "loss_ftn = nn.CrossEntropyLoss()\n",
    "\n",
    "optimizer = optim.Adam(model.parameters(), lr=0.01)\n",
    "\n",
    "scheduler = optim.lr_scheduler.LambdaLR(optimizer=optimizer,\n",
    "                                        lr_lambda=lambda epoch: 0.95 ** epoch,\n",
    "                                        last_epoch=-1,\n",
    "                                        verbose=True)"
   ]
  },
  {
   "cell_type": "code",
   "execution_count": 57,
   "metadata": {
    "id": "bnWQPYfyK53N"
   },
   "outputs": [],
   "source": [
    "def train(net, trainloader, validloader, epochs, device, loss_ftn, optimizer, scheduler=None, temperature=None):\n",
    "    losses = []\n",
    "    accs = []\n",
    "    valid_losses = []\n",
    "    valid_accs = []\n",
    "    \n",
    "    for epoch in range(epochs):\n",
    "        running_loss = 0\n",
    "        valid_loss = 0\n",
    "        correct = 0\n",
    "        total = 0\n",
    "        valid_correct = 0\n",
    "        valid_total = 0\n",
    "        num_iter = 0\n",
    "\n",
    "        for i, data in enumerate(trainloader, 0):\n",
    "            inputs, labels = data\n",
    "\n",
    "            inputs = inputs.to(device)\n",
    "            labels = labels.to(device)\n",
    "\n",
    "            optimizer.zero_grad()\n",
    "\n",
    "            outputs = net(inputs)\n",
    "            loss = loss_ftn(outputs, labels)\n",
    "            loss.backward()\n",
    "            optimizer.step()\n",
    "\n",
    "            num_iter += 1\n",
    "            running_loss += loss.item()\n",
    "\n",
    "            _, predicted = torch.max(outputs.data, 1)\n",
    "            total += labels.size(0)\n",
    "            correct += (predicted == labels).sum().item()\n",
    "\n",
    "        accuracy = (correct/total)*100\n",
    "        losses.append(running_loss/num_iter)\n",
    "        accs.append(accuracy)\n",
    "        \n",
    "        valid_num_iter = 0\n",
    "        with torch.no_grad():\n",
    "            for data in validloader:\n",
    "                images, labels = data\n",
    "\n",
    "                images = images.to(device)\n",
    "                labels = labels.to(device)\n",
    "\n",
    "                # calculate outputs by running images through the network\n",
    "                outputs = net(images)\n",
    "                loss = loss_ftn(outputs, labels)\n",
    "                \n",
    "                valid_num_iter += 1\n",
    "                valid_loss += loss.item()\n",
    "\n",
    "                # the class with the highest energy is what we choose as prediction\n",
    "                _, predicted = torch.max(outputs.data, 1)\n",
    "                valid_total += labels.size(0)\n",
    "                valid_correct += (predicted == labels).sum().item()\n",
    "\n",
    "        valid_accuracy = (valid_correct/valid_total)*100\n",
    "        valid_losses.append(valid_loss/valid_num_iter)\n",
    "        valid_accs.append(valid_accuracy)\n",
    "\n",
    "        print('EPOCH %d Completed. \\n Training Loss: %.3f, Training Accuracy: %.2f, Validation Loss: %.3f, Validation Accuracy: %.2f \\n' \n",
    "              %(epoch+1, running_loss/num_iter, accuracy, valid_loss/valid_num_iter, valid_accuracy))\n",
    "        \n",
    "        if temperature is not None:\n",
    "            net.update_temperature()\n",
    "            \n",
    "        if scheduler is not None:\n",
    "            scheduler.step()\n",
    "                        \n",
    "    return losses, accs, valid_losses, valid_accs"
   ]
  },
  {
   "cell_type": "code",
   "execution_count": 58,
   "metadata": {
    "id": "aSQNpDsDK7b7"
   },
   "outputs": [],
   "source": [
    "def test(net, testloader, device):\n",
    "    correct = 0\n",
    "    total = 0\n",
    "    \n",
    "    with torch.no_grad():\n",
    "        for data in testloader:\n",
    "            images, labels = data\n",
    "\n",
    "            images = images.to(device)\n",
    "            labels = labels.to(device)\n",
    "\n",
    "            # calculate outputs by running images through the network\n",
    "            outputs = net(images)\n",
    "\n",
    "            # the class with the highest energy is what we choose as prediction\n",
    "            _, predicted = torch.max(outputs.data, 1)\n",
    "            total += labels.size(0)\n",
    "            correct += (predicted == labels).sum().item()\n",
    "\n",
    "    print(f'Accuracy of the network on the 10000 test images: {100 * correct / total} %')"
   ]
  },
  {
   "cell_type": "code",
   "execution_count": 59,
   "metadata": {
    "scrolled": true
   },
   "outputs": [
    {
     "name": "stdout",
     "output_type": "stream",
     "text": [
      "EPOCH 1 Completed. \n",
      " Training Loss: 1.669, Training Accuracy: 38.33, Validation Loss: 1.445, Validation Accuracy: 47.02 \n",
      "\n",
      "Adjusting learning rate of group 0 to 9.5000e-03.\n",
      "EPOCH 2 Completed. \n",
      " Training Loss: 1.351, Training Accuracy: 51.20, Validation Loss: 1.313, Validation Accuracy: 53.48 \n",
      "\n",
      "Adjusting learning rate of group 0 to 9.0250e-03.\n",
      "EPOCH 3 Completed. \n",
      " Training Loss: 1.248, Training Accuracy: 55.43, Validation Loss: 1.229, Validation Accuracy: 55.58 \n",
      "\n",
      "Adjusting learning rate of group 0 to 8.5737e-03.\n",
      "EPOCH 4 Completed. \n",
      " Training Loss: 1.178, Training Accuracy: 58.06, Validation Loss: 1.172, Validation Accuracy: 58.12 \n",
      "\n",
      "Adjusting learning rate of group 0 to 8.1451e-03.\n",
      "EPOCH 5 Completed. \n",
      " Training Loss: 1.120, Training Accuracy: 60.52, Validation Loss: 1.255, Validation Accuracy: 56.00 \n",
      "\n",
      "Adjusting learning rate of group 0 to 7.7378e-03.\n",
      "EPOCH 6 Completed. \n",
      " Training Loss: 1.076, Training Accuracy: 61.83, Validation Loss: 1.162, Validation Accuracy: 58.94 \n",
      "\n",
      "Adjusting learning rate of group 0 to 7.3509e-03.\n",
      "EPOCH 7 Completed. \n",
      " Training Loss: 1.032, Training Accuracy: 63.73, Validation Loss: 1.222, Validation Accuracy: 57.94 \n",
      "\n",
      "Adjusting learning rate of group 0 to 6.9834e-03.\n",
      "EPOCH 8 Completed. \n",
      " Training Loss: 0.991, Training Accuracy: 65.25, Validation Loss: 1.193, Validation Accuracy: 59.00 \n",
      "\n",
      "Adjusting learning rate of group 0 to 6.6342e-03.\n",
      "EPOCH 9 Completed. \n",
      " Training Loss: 0.958, Training Accuracy: 66.07, Validation Loss: 1.189, Validation Accuracy: 59.10 \n",
      "\n",
      "Adjusting learning rate of group 0 to 6.3025e-03.\n",
      "EPOCH 10 Completed. \n",
      " Training Loss: 0.933, Training Accuracy: 67.17, Validation Loss: 1.172, Validation Accuracy: 60.70 \n",
      "\n",
      "Adjusting learning rate of group 0 to 5.9874e-03.\n",
      "EPOCH 11 Completed. \n",
      " Training Loss: 0.902, Training Accuracy: 67.87, Validation Loss: 1.192, Validation Accuracy: 59.80 \n",
      "\n",
      "Adjusting learning rate of group 0 to 5.6880e-03.\n",
      "EPOCH 12 Completed. \n",
      " Training Loss: 0.860, Training Accuracy: 69.54, Validation Loss: 1.235, Validation Accuracy: 59.26 \n",
      "\n",
      "Adjusting learning rate of group 0 to 5.4036e-03.\n",
      "EPOCH 13 Completed. \n",
      " Training Loss: 0.836, Training Accuracy: 70.31, Validation Loss: 1.229, Validation Accuracy: 59.82 \n",
      "\n",
      "Adjusting learning rate of group 0 to 5.1334e-03.\n",
      "EPOCH 14 Completed. \n",
      " Training Loss: 0.812, Training Accuracy: 70.94, Validation Loss: 1.243, Validation Accuracy: 59.76 \n",
      "\n",
      "Adjusting learning rate of group 0 to 4.8767e-03.\n",
      "EPOCH 15 Completed. \n",
      " Training Loss: 0.781, Training Accuracy: 72.31, Validation Loss: 1.251, Validation Accuracy: 60.04 \n",
      "\n",
      "Adjusting learning rate of group 0 to 4.6329e-03.\n",
      "EPOCH 16 Completed. \n",
      " Training Loss: 0.753, Training Accuracy: 73.30, Validation Loss: 1.244, Validation Accuracy: 61.74 \n",
      "\n",
      "Adjusting learning rate of group 0 to 4.4013e-03.\n",
      "EPOCH 17 Completed. \n",
      " Training Loss: 0.735, Training Accuracy: 74.08, Validation Loss: 1.325, Validation Accuracy: 59.84 \n",
      "\n",
      "Adjusting learning rate of group 0 to 4.1812e-03.\n",
      "EPOCH 18 Completed. \n",
      " Training Loss: 0.715, Training Accuracy: 74.45, Validation Loss: 1.342, Validation Accuracy: 59.98 \n",
      "\n",
      "Adjusting learning rate of group 0 to 3.9721e-03.\n",
      "EPOCH 19 Completed. \n",
      " Training Loss: 0.689, Training Accuracy: 75.41, Validation Loss: 1.322, Validation Accuracy: 60.40 \n",
      "\n",
      "Adjusting learning rate of group 0 to 3.7735e-03.\n",
      "EPOCH 20 Completed. \n",
      " Training Loss: 0.673, Training Accuracy: 76.12, Validation Loss: 1.367, Validation Accuracy: 60.16 \n",
      "\n",
      "Adjusting learning rate of group 0 to 3.5849e-03.\n",
      "EPOCH 21 Completed. \n",
      " Training Loss: 0.648, Training Accuracy: 76.82, Validation Loss: 1.401, Validation Accuracy: 59.48 \n",
      "\n",
      "Adjusting learning rate of group 0 to 3.4056e-03.\n",
      "EPOCH 22 Completed. \n",
      " Training Loss: 0.625, Training Accuracy: 77.68, Validation Loss: 1.427, Validation Accuracy: 60.30 \n",
      "\n",
      "Adjusting learning rate of group 0 to 3.2353e-03.\n",
      "EPOCH 23 Completed. \n",
      " Training Loss: 0.610, Training Accuracy: 78.10, Validation Loss: 1.490, Validation Accuracy: 58.74 \n",
      "\n",
      "Adjusting learning rate of group 0 to 3.0736e-03.\n",
      "EPOCH 24 Completed. \n",
      " Training Loss: 0.590, Training Accuracy: 78.74, Validation Loss: 1.514, Validation Accuracy: 59.08 \n",
      "\n",
      "Adjusting learning rate of group 0 to 2.9199e-03.\n",
      "EPOCH 25 Completed. \n",
      " Training Loss: 0.573, Training Accuracy: 79.37, Validation Loss: 1.538, Validation Accuracy: 59.28 \n",
      "\n",
      "Adjusting learning rate of group 0 to 2.7739e-03.\n",
      "EPOCH 26 Completed. \n",
      " Training Loss: 0.560, Training Accuracy: 79.82, Validation Loss: 1.574, Validation Accuracy: 59.62 \n",
      "\n",
      "Adjusting learning rate of group 0 to 2.6352e-03.\n",
      "EPOCH 27 Completed. \n",
      " Training Loss: 0.544, Training Accuracy: 80.46, Validation Loss: 1.596, Validation Accuracy: 58.90 \n",
      "\n",
      "Adjusting learning rate of group 0 to 2.5034e-03.\n",
      "EPOCH 28 Completed. \n",
      " Training Loss: 0.527, Training Accuracy: 81.00, Validation Loss: 1.641, Validation Accuracy: 59.68 \n",
      "\n",
      "Adjusting learning rate of group 0 to 2.3783e-03.\n",
      "EPOCH 29 Completed. \n",
      " Training Loss: 0.507, Training Accuracy: 81.89, Validation Loss: 1.718, Validation Accuracy: 58.74 \n",
      "\n",
      "Adjusting learning rate of group 0 to 2.2594e-03.\n",
      "EPOCH 30 Completed. \n",
      " Training Loss: 0.494, Training Accuracy: 82.35, Validation Loss: 1.784, Validation Accuracy: 58.38 \n",
      "\n",
      "Adjusting learning rate of group 0 to 2.1464e-03.\n"
     ]
    }
   ],
   "source": [
    "EPOCHS=30\n",
    "\n",
    "losses, accs, valid_losses, valid_accs = train(model, trainloader, validloader, EPOCHS, device, \n",
    "                                               loss_ftn, optimizer, scheduler=scheduler, temperature=None)"
   ]
  },
  {
   "cell_type": "code",
   "execution_count": 60,
   "metadata": {},
   "outputs": [
    {
     "name": "stdout",
     "output_type": "stream",
     "text": [
      "Accuracy of the network on the 10000 test images: 59.31 %\n"
     ]
    }
   ],
   "source": [
    "test(model, testloader, device)"
   ]
  },
  {
   "cell_type": "code",
   "execution_count": 61,
   "metadata": {},
   "outputs": [
    {
     "data": {
      "image/png": "[encoded data removed]",
      "text/plain": [
       "<Figure size 432x288 with 1 Axes>"
      ]
     },
     "metadata": {
      "needs_background": "light"
     },
     "output_type": "display_data"
    }
   ],
   "source": [
    "x = [i for i in range(EPOCHS)]\n",
    "plt.plot(x, losses, label='Training Loss')\n",
    "plt.plot(x, valid_losses, label='Validation Loss')\n",
    "plt.xlabel('epochs')\n",
    "plt.ylabel('Loss')\n",
    "plt.title('Train/Validation Loss Comparison')\n",
    "plt.legend()\n",
    "plt.show()"
   ]
  },
  {
   "cell_type": "code",
   "execution_count": 62,
   "metadata": {},
   "outputs": [
    {
     "data": {
      "image/png": "[encoded data removed]",
      "text/plain": [
       "<Figure size 432x288 with 1 Axes>"
      ]
     },
     "metadata": {
      "needs_background": "light"
     },
     "output_type": "display_data"
    }
   ],
   "source": [
    "x = [i for i in range(EPOCHS)]\n",
    "plt.plot(x, accs, label='Training Accuracy')\n",
    "plt.plot(x, valid_accs, label='Validation Accuracy')\n",
    "plt.xlabel('epochs')\n",
    "plt.ylabel('accuracy')\n",
    "plt.title('Train/Validation Accuracy Comparison')\n",
    "plt.legend()\n",
    "plt.show()"
   ]
  },
  {
   "cell_type": "code",
   "execution_count": null,
   "metadata": {},
   "outputs": [],
   "source": []
  },
  {
   "cell_type": "code",
   "execution_count": null,
   "metadata": {},
   "outputs": [],
   "source": []
  },
  {
   "cell_type": "code",
   "execution_count": null,
   "metadata": {},
   "outputs": [],
   "source": []
  },
  {
   "cell_type": "code",
   "execution_count": null,
   "metadata": {},
   "outputs": [],
   "source": []
  },
  {
   "cell_type": "code",
   "execution_count": 15,
   "metadata": {},
   "outputs": [
    {
     "name": "stdout",
     "output_type": "stream",
     "text": [
      "예측 결과 : 5\n",
      "이 이미지 데이터의 정답 레이블 : 7\n"
     ]
    }
   ],
   "source": [
    "index = np.random.randint(10000)\n",
    "\n",
    "model.eval()  # 신경망을 추론 모드로 전환\n",
    "data = X_test[index]\n",
    "data = data.view([-1,3,32,32])\n",
    "output = model(data)  # 데이터를 입력하고 출력을 계산\n",
    "_, predicted = torch.max(output.data, 1)  # 확률이 가장 높은 레이블이 무엇인지 계산\n",
    "\n",
    "print(\"예측 결과 : \" + str(predicted.item()))\n",
    "print(\"이 이미지 데이터의 정답 레이블 : \" + str(y_test[index].item()))"
   ]
  },
  {
   "cell_type": "markdown",
   "metadata": {},
   "source": [
    "Before training\n",
    "-----\n",
    "We can test the model before training."
   ]
  },
  {
   "cell_type": "code",
   "execution_count": 16,
   "metadata": {
    "colab": {
     "base_uri": "https://localhost:8080/"
    },
    "id": "NBTyrwJUK9iv",
    "outputId": "b6f2596b-8c7a-4e0e-d4f5-e23f763d29ef"
   },
   "outputs": [
    {
     "name": "stdout",
     "output_type": "stream",
     "text": [
      "\n",
      "테스트 데이터에서 예측 정확도: 1000/10000 (10.00%)\n",
      "\n"
     ]
    },
    {
     "data": {
      "text/plain": [
       "0.1"
      ]
     },
     "execution_count": 16,
     "metadata": {},
     "output_type": "execute_result"
    }
   ],
   "source": [
    "test()"
   ]
  },
  {
   "cell_type": "markdown",
   "metadata": {},
   "source": [
    "Training\n",
    "-----"
   ]
  },
  {
   "cell_type": "code",
   "execution_count": 17,
   "metadata": {
    "colab": {
     "base_uri": "https://localhost:8080/"
    },
    "id": "6BYZnrHiMknN",
    "outputId": "f25ab683-4f23-41e6-eb77-fcc2e58b5dd5"
   },
   "outputs": [
    {
     "name": "stdout",
     "output_type": "stream",
     "text": [
      "epoch1：완료\n",
      "\n",
      "\n",
      "테스트 데이터에서 예측 정확도: 4170/10000 (41.70%)\n",
      "\n",
      "epoch2：완료\n",
      "\n",
      "\n",
      "테스트 데이터에서 예측 정확도: 4475/10000 (44.75%)\n",
      "\n",
      "epoch3：완료\n",
      "\n",
      "\n",
      "테스트 데이터에서 예측 정확도: 4903/10000 (49.03%)\n",
      "\n",
      "epoch4：완료\n",
      "\n",
      "\n",
      "테스트 데이터에서 예측 정확도: 5091/10000 (50.91%)\n",
      "\n",
      "epoch5：완료\n",
      "\n",
      "\n",
      "테스트 데이터에서 예측 정확도: 5114/10000 (51.14%)\n",
      "\n"
     ]
    }
   ],
   "source": [
    "acc = []\n",
    "MAX_ITERATION=5\n",
    "for epoch in range(MAX_ITERATION):\n",
    "    train(epoch)\n",
    "    acc.append(test())\n"
   ]
  },
  {
   "cell_type": "code",
   "execution_count": 18,
   "metadata": {
    "colab": {
     "base_uri": "https://localhost:8080/",
     "height": 283
    },
    "id": "Rx3WD5hcMzHB",
    "outputId": "5527b01c-9e69-42af-d1d9-ed1be7b93fc3"
   },
   "outputs": [
    {
     "data": {
      "text/plain": [
       "[<matplotlib.lines.Line2D at 0x2373e86b3a0>]"
      ]
     },
     "execution_count": 18,
     "metadata": {},
     "output_type": "execute_result"
    },
    {
     "data": {
      "image/png": "[encoded data removed]",
      "text/plain": [
       "<Figure size 432x288 with 1 Axes>"
      ]
     },
     "metadata": {
      "needs_background": "light"
     },
     "output_type": "display_data"
    }
   ],
   "source": [
    "plt.plot(acc)"
   ]
  },
  {
   "cell_type": "markdown",
   "metadata": {},
   "source": [
    "Check the model with data in testset\n",
    "------"
   ]
  },
  {
   "cell_type": "code",
   "execution_count": 19,
   "metadata": {},
   "outputs": [
    {
     "name": "stdout",
     "output_type": "stream",
     "text": [
      "예측 결과 : 7\n",
      "이 이미지 데이터의 정답 레이블 : 7\n"
     ]
    }
   ],
   "source": [
    "model.eval()  # 신경망을 추론 모드로 전환\n",
    "data = X_test[index]\n",
    "data = data.view([-1,3,32,32])\n",
    "output = model(data)  # 데이터를 입력하고 출력을 계산\n",
    "_, predicted = torch.max(output.data, 1)  # 확률이 가장 높은 레이블이 무엇인지 계산\n",
    "\n",
    "print(\"예측 결과 : \" + str(predicted.item()))\n",
    "print(\"이 이미지 데이터의 정답 레이블 : \" + str(y_test[index].item()))\n"
   ]
  }
 ],
 "metadata": {
  "colab": {
   "provenance": []
  },
  "kernelspec": {
   "display_name": "MathDLstudy",
   "language": "python",
   "name": "mathdl"
  },
  "language_info": {
   "codemirror_mode": {
    "name": "ipython",
    "version": 3
   },
   "file_extension": ".py",
   "mimetype": "text/x-python",
   "name": "python",
   "nbconvert_exporter": "python",
   "pygments_lexer": "ipython3",
   "version": "3.8.13"
  },
  "vscode": {
   "interpreter": {
    "hash": "b45ccf6fd3c8427b2d1b5e880d896f46770117107f616a4b6b7de4d4387dfaf4"
   }
  }
 },
 "nbformat": 4,
 "nbformat_minor": 1
}
