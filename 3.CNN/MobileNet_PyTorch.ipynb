{
 "cells": [
  {
   "cell_type": "markdown",
   "id": "4b7d0d1e",
   "metadata": {},
   "source": [
    "# MobileNet Implementation with PyTorch"
   ]
  },
  {
   "cell_type": "code",
   "execution_count": 1,
   "id": "3942a5ac",
   "metadata": {},
   "outputs": [
    {
     "data": {
      "text/plain": [
       "'1.7.1'"
      ]
     },
     "execution_count": 1,
     "metadata": {},
     "output_type": "execute_result"
    }
   ],
   "source": [
    "import torch\n",
    "torch.__version__"
   ]
  },
  {
   "cell_type": "code",
   "execution_count": 2,
   "id": "d866ba22",
   "metadata": {},
   "outputs": [],
   "source": [
    "import numpy as np\n",
    "import matplotlib.pyplot as plt\n",
    "\n",
    "import torch\n",
    "from torch import nn\n",
    "from torch import optim\n",
    "from torchsummary import summary\n",
    "\n",
    "import torchvision\n",
    "import torchvision.transforms as transforms\n",
    "from torchvision.datasets import CIFAR10\n",
    "from torch.utils.data import DataLoader\n",
    "from torch.utils.data import random_split"
   ]
  },
  {
   "cell_type": "code",
   "execution_count": 3,
   "id": "64bc3e5e",
   "metadata": {},
   "outputs": [
    {
     "name": "stdout",
     "output_type": "stream",
     "text": [
      "cuda\n"
     ]
    }
   ],
   "source": [
    "device = torch.device('cuda' if torch.cuda.is_available() else 'cpu')\n",
    "print(device)"
   ]
  },
  {
   "cell_type": "markdown",
   "id": "2ac313aa",
   "metadata": {},
   "source": [
    "## Download CIFAR10 & Define DataLoader\n",
    "\n",
    "- `ToTensor()` transforms data into `Tensor` type and also normalizes into `[0,1]` range."
   ]
  },
  {
   "cell_type": "code",
   "execution_count": 5,
   "id": "749279ef",
   "metadata": {
    "id": "d6kxGFAqIETZ"
   },
   "outputs": [
    {
     "name": "stdout",
     "output_type": "stream",
     "text": [
      "Files already downloaded and verified\n",
      "Files already downloaded and verified\n"
     ]
    }
   ],
   "source": [
    "transform = transforms.Compose([transforms.ToTensor()])\n",
    "\n",
    "dataset = CIFAR10(root='./', train=True, download=True, transform=transform)\n",
    "testset = CIFAR10(root='./', train=False, download=True, transform=transform)"
   ]
  },
  {
   "cell_type": "code",
   "execution_count": 6,
   "id": "70e1f78c",
   "metadata": {
    "id": "N82C-hZPI3D5"
   },
   "outputs": [
    {
     "data": {
      "text/plain": [
       "(50000, 32, 32, 3)"
      ]
     },
     "execution_count": 6,
     "metadata": {},
     "output_type": "execute_result"
    }
   ],
   "source": [
    "dataset.data.shape"
   ]
  },
  {
   "cell_type": "code",
   "execution_count": 7,
   "id": "6ce37fb8",
   "metadata": {},
   "outputs": [
    {
     "data": {
      "text/plain": [
       "(10000, 32, 32, 3)"
      ]
     },
     "execution_count": 7,
     "metadata": {},
     "output_type": "execute_result"
    }
   ],
   "source": [
    "testset.data.shape"
   ]
  },
  {
   "cell_type": "code",
   "execution_count": 8,
   "id": "c7407ba5",
   "metadata": {},
   "outputs": [
    {
     "data": {
      "text/plain": [
       "['airplane',\n",
       " 'automobile',\n",
       " 'bird',\n",
       " 'cat',\n",
       " 'deer',\n",
       " 'dog',\n",
       " 'frog',\n",
       " 'horse',\n",
       " 'ship',\n",
       " 'truck']"
      ]
     },
     "execution_count": 8,
     "metadata": {},
     "output_type": "execute_result"
    }
   ],
   "source": [
    "dataset.classes"
   ]
  },
  {
   "cell_type": "code",
   "execution_count": 10,
   "id": "4e7981e4",
   "metadata": {},
   "outputs": [],
   "source": [
    "train_num = int(len(dataset)*0.9)\n",
    "valid_num = len(dataset) - train_num\n",
    "\n",
    "trainset, validset = random_split(dataset, [train_num, valid_num])"
   ]
  },
  {
   "cell_type": "code",
   "execution_count": 11,
   "id": "6394d454",
   "metadata": {},
   "outputs": [],
   "source": [
    "batch_size = 128\n",
    "trainloader = DataLoader(trainset, batch_size=batch_size, shuffle=True, num_workers=2)\n",
    "validloader = DataLoader(validset, batch_size=batch_size, shuffle=False, num_workers=2)\n",
    "testloader = DataLoader(testset, batch_size=batch_size, shuffle=False, num_workers=2)"
   ]
  },
  {
   "cell_type": "markdown",
   "id": "ac7d31d6",
   "metadata": {},
   "source": [
    "## Construct Model"
   ]
  },
  {
   "cell_type": "code",
   "execution_count": 18,
   "id": "11ba5566",
   "metadata": {},
   "outputs": [],
   "source": [
    "class MobileNet(nn.Module):\n",
    "    def __init__(self, channels, init_weights=True):\n",
    "        super(MobileNet,self).__init__()\n",
    "        \n",
    "        self.conv = nn.Conv2d(3, channels[0], kernel_size=7, stride=1, padding=3, bias=False)\n",
    "        self.bn = nn.BatchNorm2d(channels[0])\n",
    "        self.relu = nn.ReLU()\n",
    "        \n",
    "        self.maxpool = nn.MaxPool2d(kernel_size=(2,2))\n",
    "        \n",
    "        self.dwconv1 = nn.Conv2d(channels[0], channels[0], kernel_size=3, stride=1, \n",
    "                                 padding=1, groups=channels[0], bias=False)\n",
    "        self.bn11 = nn.BatchNorm2d(channels[0])\n",
    "        self.ptconv1 = nn.Conv2d(channels[0], channels[1], kernel_size=1, stride=1, padding=0, bias=False)\n",
    "        self.bn12 = nn.BatchNorm2d(channels[1])\n",
    "        \n",
    "        self.dwconv2 = nn.Conv2d(channels[1], channels[1], kernel_size=3, stride=1, padding=1, groups=channels[1], bias=False)\n",
    "        self.bn21 = nn.BatchNorm2d(channels[1])\n",
    "        self.ptconv2 = nn.Conv2d(channels[1], channels[2], kernel_size=1, stride=1, padding=0, bias=False)\n",
    "        self.bn22 = nn.BatchNorm2d(channels[2])\n",
    "\n",
    "        self.dwconv3 = nn.Conv2d(channels[2], channels[2], kernel_size=3, stride=1, padding=1, groups=channels[2], bias=False)\n",
    "        self.bn31 = nn.BatchNorm2d(channels[2])\n",
    "        self.ptconv3 = nn.Conv2d(channels[2], channels[3], kernel_size=1, stride=1, padding=0, bias=False)\n",
    "        self.bn32 = nn.BatchNorm2d(channels[3])\n",
    "\n",
    "        self.dwconv4 = nn.Conv2d(channels[3], channels[3], kernel_size=3, stride=1, padding=1, groups=channels[3], bias=False)\n",
    "        self.bn41 = nn.BatchNorm2d(channels[3])\n",
    "        self.ptconv4 = nn.Conv2d(channels[3], channels[4], kernel_size=1, stride=1, padding=0, bias=False)\n",
    "        self.bn42 = nn.BatchNorm2d(channels[4])\n",
    "\n",
    "        self.avgpool = nn.AvgPool2d(kernel_size=(4,4))\n",
    "        \n",
    "        self.fc1 = nn.Linear(channels[4], channels[4]//4, bias=False)\n",
    "        self.bn1 = nn.BatchNorm1d(channels[4]//4)\n",
    "        self.fc2 = nn.Linear(channels[4]//4, 10, bias=True)\n",
    "        \n",
    "        if init_weights:\n",
    "            self.initialize_weights()\n",
    "        \n",
    "    def forward(self, x):\n",
    "        x = self.conv(x)\n",
    "        x = self.bn(x)\n",
    "        x = self.relu(x)\n",
    "\n",
    "        x = self.dwconv1(x)\n",
    "        x = self.bn11(x)\n",
    "        x = self.relu(x)\n",
    "        x = self.ptconv1(x)\n",
    "        x = self.bn12(x)\n",
    "        x = self.relu(x)\n",
    "        \n",
    "        x = self.maxpool(x)\n",
    "        \n",
    "        x = self.dwconv2(x)\n",
    "        x = self.bn21(x)\n",
    "        x = self.relu(x)\n",
    "        x = self.ptconv2(x)\n",
    "        x = self.bn22(x)\n",
    "        x = self.relu(x)\n",
    "        \n",
    "        x = self.maxpool(x)\n",
    "        \n",
    "        x = self.dwconv3(x)\n",
    "        x = self.bn31(x)\n",
    "        x = self.relu(x)\n",
    "        x = self.ptconv3(x)\n",
    "        x = self.bn32(x)\n",
    "        x = self.relu(x)\n",
    "        \n",
    "        x = self.maxpool(x)\n",
    "        \n",
    "        x = self.dwconv4(x)\n",
    "        x = self.bn41(x)\n",
    "        x = self.relu(x)\n",
    "        x = self.ptconv4(x)\n",
    "        x = self.bn42(x)\n",
    "        x = self.relu(x)\n",
    "        \n",
    "        x = self.avgpool(x)\n",
    "        x = x.view(x.size(0), -1)\n",
    "        \n",
    "        x = self.fc1(x)\n",
    "        x = self.bn1(x)\n",
    "        x = self.relu(x)\n",
    "        x = self.fc2(x)\n",
    "        \n",
    "        return x\n",
    "    \n",
    "    def initialize_weights(self):\n",
    "        for m in self.modules():\n",
    "            if isinstance(m, nn.Conv2d):\n",
    "                nn.init.kaiming_normal_(m.weight, mode='fan_out', nonlinearity='relu')\n",
    "                if m.bias is not None:\n",
    "                    nn.init.constant_(m.bias,0)\n",
    "            elif isinstance(m, nn.BatchNorm2d):\n",
    "                nn.init.constant_(m.weight, 1)\n",
    "                nn.init.constant_(m.bias, 0)\n",
    "            elif isinstance(m, nn.BatchNorm1d):\n",
    "                nn.init.constant_(m.weight, 1)\n",
    "                nn.init.constant_(m.bias, 0)\n",
    "            elif isinstance(m, nn.Linear):\n",
    "                nn.init.kaiming_normal_(m.weight, mode='fan_out', nonlinearity='relu')\n",
    "                if m.bias is not None:\n",
    "                    nn.init.constant_(m.bias,0)"
   ]
  },
  {
   "cell_type": "code",
   "execution_count": 19,
   "id": "420a4f94",
   "metadata": {},
   "outputs": [],
   "source": [
    "model = MobileNet(channels=[16,16,32,64,128])"
   ]
  },
  {
   "cell_type": "code",
   "execution_count": 20,
   "id": "709d7340",
   "metadata": {},
   "outputs": [
    {
     "data": {
      "text/plain": [
       "MobileNet(\n",
       "  (conv): Conv2d(3, 16, kernel_size=(7, 7), stride=(1, 1), padding=(3, 3), bias=False)\n",
       "  (bn): BatchNorm2d(16, eps=1e-05, momentum=0.1, affine=True, track_running_stats=True)\n",
       "  (relu): ReLU()\n",
       "  (maxpool): MaxPool2d(kernel_size=(2, 2), stride=(2, 2), padding=0, dilation=1, ceil_mode=False)\n",
       "  (dwconv1): Conv2d(16, 16, kernel_size=(3, 3), stride=(1, 1), padding=(1, 1), groups=16, bias=False)\n",
       "  (bn11): BatchNorm2d(16, eps=1e-05, momentum=0.1, affine=True, track_running_stats=True)\n",
       "  (ptconv1): Conv2d(16, 16, kernel_size=(1, 1), stride=(1, 1), bias=False)\n",
       "  (bn12): BatchNorm2d(16, eps=1e-05, momentum=0.1, affine=True, track_running_stats=True)\n",
       "  (dwconv2): Conv2d(16, 16, kernel_size=(3, 3), stride=(1, 1), padding=(1, 1), groups=16, bias=False)\n",
       "  (bn21): BatchNorm2d(16, eps=1e-05, momentum=0.1, affine=True, track_running_stats=True)\n",
       "  (ptconv2): Conv2d(16, 32, kernel_size=(1, 1), stride=(1, 1), bias=False)\n",
       "  (bn22): BatchNorm2d(32, eps=1e-05, momentum=0.1, affine=True, track_running_stats=True)\n",
       "  (dwconv3): Conv2d(32, 32, kernel_size=(3, 3), stride=(1, 1), padding=(1, 1), groups=32, bias=False)\n",
       "  (bn31): BatchNorm2d(32, eps=1e-05, momentum=0.1, affine=True, track_running_stats=True)\n",
       "  (ptconv3): Conv2d(32, 64, kernel_size=(1, 1), stride=(1, 1), bias=False)\n",
       "  (bn32): BatchNorm2d(64, eps=1e-05, momentum=0.1, affine=True, track_running_stats=True)\n",
       "  (dwconv4): Conv2d(64, 64, kernel_size=(3, 3), stride=(1, 1), padding=(1, 1), groups=64, bias=False)\n",
       "  (bn41): BatchNorm2d(64, eps=1e-05, momentum=0.1, affine=True, track_running_stats=True)\n",
       "  (ptconv4): Conv2d(64, 128, kernel_size=(1, 1), stride=(1, 1), bias=False)\n",
       "  (bn42): BatchNorm2d(128, eps=1e-05, momentum=0.1, affine=True, track_running_stats=True)\n",
       "  (avgpool): AvgPool2d(kernel_size=(4, 4), stride=(4, 4), padding=0)\n",
       "  (fc1): Linear(in_features=128, out_features=32, bias=False)\n",
       "  (bn1): BatchNorm1d(32, eps=1e-05, momentum=0.1, affine=True, track_running_stats=True)\n",
       "  (fc2): Linear(in_features=32, out_features=10, bias=True)\n",
       ")"
      ]
     },
     "execution_count": 20,
     "metadata": {},
     "output_type": "execute_result"
    }
   ],
   "source": [
    "model.to(device)"
   ]
  },
  {
   "cell_type": "code",
   "execution_count": 21,
   "id": "a8c0e8aa",
   "metadata": {},
   "outputs": [
    {
     "name": "stdout",
     "output_type": "stream",
     "text": [
      "----------------------------------------------------------------\n",
      "        Layer (type)               Output Shape         Param #\n",
      "================================================================\n",
      "            Conv2d-1           [-1, 16, 32, 32]           2,352\n",
      "       BatchNorm2d-2           [-1, 16, 32, 32]              32\n",
      "              ReLU-3           [-1, 16, 32, 32]               0\n",
      "            Conv2d-4           [-1, 16, 32, 32]             144\n",
      "       BatchNorm2d-5           [-1, 16, 32, 32]              32\n",
      "              ReLU-6           [-1, 16, 32, 32]               0\n",
      "            Conv2d-7           [-1, 16, 32, 32]             256\n",
      "       BatchNorm2d-8           [-1, 16, 32, 32]              32\n",
      "              ReLU-9           [-1, 16, 32, 32]               0\n",
      "        MaxPool2d-10           [-1, 16, 16, 16]               0\n",
      "           Conv2d-11           [-1, 16, 16, 16]             144\n",
      "      BatchNorm2d-12           [-1, 16, 16, 16]              32\n",
      "             ReLU-13           [-1, 16, 16, 16]               0\n",
      "           Conv2d-14           [-1, 32, 16, 16]             512\n",
      "      BatchNorm2d-15           [-1, 32, 16, 16]              64\n",
      "             ReLU-16           [-1, 32, 16, 16]               0\n",
      "        MaxPool2d-17             [-1, 32, 8, 8]               0\n",
      "           Conv2d-18             [-1, 32, 8, 8]             288\n",
      "      BatchNorm2d-19             [-1, 32, 8, 8]              64\n",
      "             ReLU-20             [-1, 32, 8, 8]               0\n",
      "           Conv2d-21             [-1, 64, 8, 8]           2,048\n",
      "      BatchNorm2d-22             [-1, 64, 8, 8]             128\n",
      "             ReLU-23             [-1, 64, 8, 8]               0\n",
      "        MaxPool2d-24             [-1, 64, 4, 4]               0\n",
      "           Conv2d-25             [-1, 64, 4, 4]             576\n",
      "      BatchNorm2d-26             [-1, 64, 4, 4]             128\n",
      "             ReLU-27             [-1, 64, 4, 4]               0\n",
      "           Conv2d-28            [-1, 128, 4, 4]           8,192\n",
      "      BatchNorm2d-29            [-1, 128, 4, 4]             256\n",
      "             ReLU-30            [-1, 128, 4, 4]               0\n",
      "        AvgPool2d-31            [-1, 128, 1, 1]               0\n",
      "           Linear-32                   [-1, 32]           4,096\n",
      "      BatchNorm1d-33                   [-1, 32]              64\n",
      "             ReLU-34                   [-1, 32]               0\n",
      "           Linear-35                   [-1, 10]             330\n",
      "================================================================\n",
      "Total params: 19,770\n",
      "Trainable params: 19,770\n",
      "Non-trainable params: 0\n",
      "----------------------------------------------------------------\n",
      "Input size (MB): 0.01\n",
      "Forward/backward pass size (MB): 1.67\n",
      "Params size (MB): 0.08\n",
      "Estimated Total Size (MB): 1.76\n",
      "----------------------------------------------------------------\n"
     ]
    }
   ],
   "source": [
    "summary(model, input_size=(3,32,32))"
   ]
  },
  {
   "cell_type": "code",
   "execution_count": 22,
   "id": "e28c32c2",
   "metadata": {},
   "outputs": [
    {
     "name": "stdout",
     "output_type": "stream",
     "text": [
      "Adjusting learning rate of group 0 to 1.0000e-02.\n"
     ]
    }
   ],
   "source": [
    "loss_ftn = nn.CrossEntropyLoss()\n",
    "\n",
    "optimizer = optim.Adam(model.parameters(), lr=0.01)\n",
    "\n",
    "scheduler = optim.lr_scheduler.LambdaLR(optimizer=optimizer,\n",
    "                                        lr_lambda=lambda epoch: 0.95 ** epoch,\n",
    "                                        last_epoch=-1,\n",
    "                                        verbose=True)"
   ]
  },
  {
   "cell_type": "code",
   "execution_count": 24,
   "id": "c6dc11b1",
   "metadata": {},
   "outputs": [],
   "source": [
    "from tqdm import tqdm\n",
    "\n",
    "def train(net, trainloader, validloader, epochs, device, loss_ftn, optimizer, scheduler=None):\n",
    "    losses = []\n",
    "    accs = []\n",
    "    valid_losses = []\n",
    "    valid_accs = []\n",
    "    \n",
    "    for epoch in range(epochs):\n",
    "        running_loss = 0\n",
    "        valid_loss = 0\n",
    "        correct = 0\n",
    "        total = 0\n",
    "        valid_correct = 0\n",
    "        valid_total = 0\n",
    "        num_iter = 0\n",
    "\n",
    "        for i, data in tqdm(enumerate(trainloader, 0)):\n",
    "            inputs, labels = data\n",
    "\n",
    "            inputs = inputs.to(device)\n",
    "            labels = labels.to(device)\n",
    "\n",
    "            optimizer.zero_grad()\n",
    "\n",
    "            outputs = net(inputs)\n",
    "            loss = loss_ftn(outputs, labels)\n",
    "            loss.backward()\n",
    "            optimizer.step()\n",
    "\n",
    "            num_iter += 1\n",
    "            running_loss += loss.item()\n",
    "\n",
    "            _, predicted = torch.max(outputs.data, 1)\n",
    "            total += labels.size(0)\n",
    "            correct += (predicted == labels).sum().item()\n",
    "\n",
    "        accuracy = (correct/total)*100\n",
    "        losses.append(running_loss/num_iter)\n",
    "        accs.append(accuracy)\n",
    "        \n",
    "        valid_num_iter = 0\n",
    "        with torch.no_grad():\n",
    "            for data in validloader:\n",
    "                images, labels = data\n",
    "\n",
    "                images = images.to(device)\n",
    "                labels = labels.to(device)\n",
    "\n",
    "                # calculate outputs by running images through the network\n",
    "                outputs = net(images)\n",
    "                loss = loss_ftn(outputs, labels)\n",
    "                \n",
    "                valid_num_iter += 1\n",
    "                valid_loss += loss.item()\n",
    "\n",
    "                # the class with the highest energy is what we choose as prediction\n",
    "                _, predicted = torch.max(outputs.data, 1)\n",
    "                valid_total += labels.size(0)\n",
    "                valid_correct += (predicted == labels).sum().item()\n",
    "\n",
    "        valid_accuracy = (valid_correct/valid_total)*100\n",
    "        valid_losses.append(valid_loss/valid_num_iter)\n",
    "        valid_accs.append(valid_accuracy)\n",
    "\n",
    "        print('EPOCH %d Completed. \\n Training Loss: %.3f, Training Accuracy: %.2f, Validation Loss: %.3f, Validation Accuracy: %.2f \\n' \n",
    "              %(epoch+1, running_loss/num_iter, accuracy, valid_loss/valid_num_iter, valid_accuracy))\n",
    "                    \n",
    "        if scheduler is not None:\n",
    "            scheduler.step()\n",
    "                        \n",
    "    return losses, accs, valid_losses, valid_accs"
   ]
  },
  {
   "cell_type": "code",
   "execution_count": 25,
   "id": "fad17e48",
   "metadata": {},
   "outputs": [],
   "source": [
    "def test(net, testloader, device):\n",
    "    correct = 0\n",
    "    total = 0\n",
    "    \n",
    "    with torch.no_grad():\n",
    "        for data in testloader:\n",
    "            images, labels = data\n",
    "\n",
    "            images = images.to(device)\n",
    "            labels = labels.to(device)\n",
    "\n",
    "            # calculate outputs by running images through the network\n",
    "            outputs = net(images)\n",
    "\n",
    "            # the class with the highest energy is what we choose as prediction\n",
    "            _, predicted = torch.max(outputs.data, 1)\n",
    "            total += labels.size(0)\n",
    "            correct += (predicted == labels).sum().item()\n",
    "\n",
    "    print(f'Accuracy of the network on 10000 test images: {100 * correct / total} %')"
   ]
  },
  {
   "cell_type": "code",
   "execution_count": 26,
   "id": "70c94782",
   "metadata": {
    "scrolled": true
   },
   "outputs": [
    {
     "name": "stderr",
     "output_type": "stream",
     "text": [
      "352it [00:03, 99.33it/s] \n"
     ]
    },
    {
     "name": "stdout",
     "output_type": "stream",
     "text": [
      "EPOCH 1 Completed. \n",
      " Training Loss: 1.593, Training Accuracy: 41.81, Validation Loss: 1.393, Validation Accuracy: 49.36 \n",
      "\n",
      "Adjusting learning rate of group 0 to 9.5000e-03.\n"
     ]
    },
    {
     "name": "stderr",
     "output_type": "stream",
     "text": [
      "352it [00:03, 98.75it/s] \n"
     ]
    },
    {
     "name": "stdout",
     "output_type": "stream",
     "text": [
      "EPOCH 2 Completed. \n",
      " Training Loss: 1.231, Training Accuracy: 55.71, Validation Loss: 1.176, Validation Accuracy: 58.52 \n",
      "\n",
      "Adjusting learning rate of group 0 to 9.0250e-03.\n"
     ]
    },
    {
     "name": "stderr",
     "output_type": "stream",
     "text": [
      "352it [00:03, 97.10it/s] \n"
     ]
    },
    {
     "name": "stdout",
     "output_type": "stream",
     "text": [
      "EPOCH 3 Completed. \n",
      " Training Loss: 1.078, Training Accuracy: 61.09, Validation Loss: 1.082, Validation Accuracy: 62.18 \n",
      "\n",
      "Adjusting learning rate of group 0 to 8.5737e-03.\n"
     ]
    },
    {
     "name": "stderr",
     "output_type": "stream",
     "text": [
      "352it [00:03, 99.88it/s] \n"
     ]
    },
    {
     "name": "stdout",
     "output_type": "stream",
     "text": [
      "EPOCH 4 Completed. \n",
      " Training Loss: 0.987, Training Accuracy: 64.94, Validation Loss: 1.034, Validation Accuracy: 63.60 \n",
      "\n",
      "Adjusting learning rate of group 0 to 8.1451e-03.\n"
     ]
    },
    {
     "name": "stderr",
     "output_type": "stream",
     "text": [
      "352it [00:03, 99.77it/s] \n"
     ]
    },
    {
     "name": "stdout",
     "output_type": "stream",
     "text": [
      "EPOCH 5 Completed. \n",
      " Training Loss: 0.907, Training Accuracy: 67.54, Validation Loss: 0.998, Validation Accuracy: 65.12 \n",
      "\n",
      "Adjusting learning rate of group 0 to 7.7378e-03.\n"
     ]
    },
    {
     "name": "stderr",
     "output_type": "stream",
     "text": [
      "352it [00:03, 96.94it/s]\n"
     ]
    },
    {
     "name": "stdout",
     "output_type": "stream",
     "text": [
      "EPOCH 6 Completed. \n",
      " Training Loss: 0.854, Training Accuracy: 69.43, Validation Loss: 0.949, Validation Accuracy: 66.98 \n",
      "\n",
      "Adjusting learning rate of group 0 to 7.3509e-03.\n"
     ]
    },
    {
     "name": "stderr",
     "output_type": "stream",
     "text": [
      "352it [00:03, 101.33it/s]\n"
     ]
    },
    {
     "name": "stdout",
     "output_type": "stream",
     "text": [
      "EPOCH 7 Completed. \n",
      " Training Loss: 0.806, Training Accuracy: 71.31, Validation Loss: 0.916, Validation Accuracy: 68.26 \n",
      "\n",
      "Adjusting learning rate of group 0 to 6.9834e-03.\n"
     ]
    },
    {
     "name": "stderr",
     "output_type": "stream",
     "text": [
      "352it [00:03, 97.47it/s]\n"
     ]
    },
    {
     "name": "stdout",
     "output_type": "stream",
     "text": [
      "EPOCH 8 Completed. \n",
      " Training Loss: 0.769, Training Accuracy: 72.60, Validation Loss: 0.894, Validation Accuracy: 69.42 \n",
      "\n",
      "Adjusting learning rate of group 0 to 6.6342e-03.\n"
     ]
    },
    {
     "name": "stderr",
     "output_type": "stream",
     "text": [
      "352it [00:03, 96.59it/s]\n"
     ]
    },
    {
     "name": "stdout",
     "output_type": "stream",
     "text": [
      "EPOCH 9 Completed. \n",
      " Training Loss: 0.732, Training Accuracy: 74.08, Validation Loss: 0.875, Validation Accuracy: 70.44 \n",
      "\n",
      "Adjusting learning rate of group 0 to 6.3025e-03.\n"
     ]
    },
    {
     "name": "stderr",
     "output_type": "stream",
     "text": [
      "352it [00:03, 96.56it/s]\n"
     ]
    },
    {
     "name": "stdout",
     "output_type": "stream",
     "text": [
      "EPOCH 10 Completed. \n",
      " Training Loss: 0.703, Training Accuracy: 75.05, Validation Loss: 0.874, Validation Accuracy: 69.84 \n",
      "\n",
      "Adjusting learning rate of group 0 to 5.9874e-03.\n"
     ]
    },
    {
     "name": "stderr",
     "output_type": "stream",
     "text": [
      "352it [00:03, 97.00it/s]\n"
     ]
    },
    {
     "name": "stdout",
     "output_type": "stream",
     "text": [
      "EPOCH 11 Completed. \n",
      " Training Loss: 0.680, Training Accuracy: 75.84, Validation Loss: 0.835, Validation Accuracy: 71.40 \n",
      "\n",
      "Adjusting learning rate of group 0 to 5.6880e-03.\n"
     ]
    },
    {
     "name": "stderr",
     "output_type": "stream",
     "text": [
      "352it [00:03, 100.77it/s]\n"
     ]
    },
    {
     "name": "stdout",
     "output_type": "stream",
     "text": [
      "EPOCH 12 Completed. \n",
      " Training Loss: 0.658, Training Accuracy: 76.59, Validation Loss: 0.824, Validation Accuracy: 71.62 \n",
      "\n",
      "Adjusting learning rate of group 0 to 5.4036e-03.\n"
     ]
    },
    {
     "name": "stderr",
     "output_type": "stream",
     "text": [
      "352it [00:03, 99.90it/s] \n"
     ]
    },
    {
     "name": "stdout",
     "output_type": "stream",
     "text": [
      "EPOCH 13 Completed. \n",
      " Training Loss: 0.637, Training Accuracy: 77.21, Validation Loss: 0.826, Validation Accuracy: 71.86 \n",
      "\n",
      "Adjusting learning rate of group 0 to 5.1334e-03.\n"
     ]
    },
    {
     "name": "stderr",
     "output_type": "stream",
     "text": [
      "352it [00:03, 97.58it/s]\n"
     ]
    },
    {
     "name": "stdout",
     "output_type": "stream",
     "text": [
      "EPOCH 14 Completed. \n",
      " Training Loss: 0.615, Training Accuracy: 78.15, Validation Loss: 0.848, Validation Accuracy: 71.70 \n",
      "\n",
      "Adjusting learning rate of group 0 to 4.8767e-03.\n"
     ]
    },
    {
     "name": "stderr",
     "output_type": "stream",
     "text": [
      "352it [00:03, 96.61it/s]\n"
     ]
    },
    {
     "name": "stdout",
     "output_type": "stream",
     "text": [
      "EPOCH 15 Completed. \n",
      " Training Loss: 0.599, Training Accuracy: 78.67, Validation Loss: 0.835, Validation Accuracy: 72.04 \n",
      "\n",
      "Adjusting learning rate of group 0 to 4.6329e-03.\n"
     ]
    },
    {
     "name": "stderr",
     "output_type": "stream",
     "text": [
      "352it [00:03, 97.01it/s] \n"
     ]
    },
    {
     "name": "stdout",
     "output_type": "stream",
     "text": [
      "EPOCH 16 Completed. \n",
      " Training Loss: 0.585, Training Accuracy: 79.31, Validation Loss: 0.814, Validation Accuracy: 71.62 \n",
      "\n",
      "Adjusting learning rate of group 0 to 4.4013e-03.\n"
     ]
    },
    {
     "name": "stderr",
     "output_type": "stream",
     "text": [
      "352it [00:03, 97.36it/s] \n"
     ]
    },
    {
     "name": "stdout",
     "output_type": "stream",
     "text": [
      "EPOCH 17 Completed. \n",
      " Training Loss: 0.567, Training Accuracy: 79.94, Validation Loss: 0.826, Validation Accuracy: 71.60 \n",
      "\n",
      "Adjusting learning rate of group 0 to 4.1812e-03.\n"
     ]
    },
    {
     "name": "stderr",
     "output_type": "stream",
     "text": [
      "352it [00:03, 97.82it/s] \n"
     ]
    },
    {
     "name": "stdout",
     "output_type": "stream",
     "text": [
      "EPOCH 18 Completed. \n",
      " Training Loss: 0.553, Training Accuracy: 80.42, Validation Loss: 0.826, Validation Accuracy: 72.20 \n",
      "\n",
      "Adjusting learning rate of group 0 to 3.9721e-03.\n"
     ]
    },
    {
     "name": "stderr",
     "output_type": "stream",
     "text": [
      "352it [00:03, 97.93it/s] \n"
     ]
    },
    {
     "name": "stdout",
     "output_type": "stream",
     "text": [
      "EPOCH 19 Completed. \n",
      " Training Loss: 0.535, Training Accuracy: 80.98, Validation Loss: 0.832, Validation Accuracy: 71.86 \n",
      "\n",
      "Adjusting learning rate of group 0 to 3.7735e-03.\n"
     ]
    },
    {
     "name": "stderr",
     "output_type": "stream",
     "text": [
      "352it [00:03, 97.63it/s] \n"
     ]
    },
    {
     "name": "stdout",
     "output_type": "stream",
     "text": [
      "EPOCH 20 Completed. \n",
      " Training Loss: 0.523, Training Accuracy: 81.46, Validation Loss: 0.834, Validation Accuracy: 72.46 \n",
      "\n",
      "Adjusting learning rate of group 0 to 3.5849e-03.\n"
     ]
    }
   ],
   "source": [
    "EPOCHS=20\n",
    "\n",
    "losses, accs, valid_losses, valid_accs = train(model, trainloader, validloader, EPOCHS, device, \n",
    "                                               loss_ftn, optimizer, scheduler=scheduler)"
   ]
  },
  {
   "cell_type": "code",
   "execution_count": 27,
   "id": "7d7463eb",
   "metadata": {},
   "outputs": [
    {
     "name": "stdout",
     "output_type": "stream",
     "text": [
      "Accuracy of the network on 10000 test images: 73.78 %\n"
     ]
    }
   ],
   "source": [
    "test(model, testloader, device)"
   ]
  },
  {
   "cell_type": "markdown",
   "id": "76e4c15b",
   "metadata": {},
   "source": [
    "## Plot Training Loss and Validation loss "
   ]
  },
  {
   "cell_type": "code",
   "execution_count": 29,
   "id": "c16f9ef0",
   "metadata": {},
   "outputs": [
    {
     "data": {
      "image/png": "[encoded data removed]",
      "text/plain": [
       "<Figure size 432x288 with 1 Axes>"
      ]
     },
     "metadata": {
      "needs_background": "light"
     },
     "output_type": "display_data"
    }
   ],
   "source": [
    "plt.figure()\n",
    "plt.plot(np.arange(1,EPOCHS+1), losses, label='training loss')\n",
    "plt.plot(np.arange(1,EPOCHS+1), valid_losses, label='validation loss')\n",
    "plt.legend()\n",
    "plt.show()"
   ]
  },
  {
   "cell_type": "code",
   "execution_count": 31,
   "id": "b8ceb999",
   "metadata": {},
   "outputs": [
    {
     "data": {
      "image/png": "[encoded data removed]",
      "text/plain": [
       "<Figure size 432x288 with 1 Axes>"
      ]
     },
     "metadata": {
      "needs_background": "light"
     },
     "output_type": "display_data"
    }
   ],
   "source": [
    "plt.figure()\n",
    "plt.plot(np.arange(1,EPOCHS+1), accs, label='training accuracy')\n",
    "plt.plot(np.arange(1,EPOCHS+1), valid_accs, label='validation accuracy')\n",
    "plt.legend()\n",
    "plt.show()"
   ]
  },
  {
   "cell_type": "code",
   "execution_count": null,
   "id": "bc3ea85c",
   "metadata": {},
   "outputs": [],
   "source": []
  }
 ],
 "metadata": {
  "kernelspec": {
   "display_name": "Environment (conda_pytorch1.7.1_p37)",
   "language": "python",
   "name": "conda_pytorch1.7.1_p37"
  },
  "language_info": {
   "codemirror_mode": {
    "name": "ipython",
    "version": 3
   },
   "file_extension": ".py",
   "mimetype": "text/x-python",
   "name": "python",
   "nbconvert_exporter": "python",
   "pygments_lexer": "ipython3",
   "version": "3.7.10"
  }
 },
 "nbformat": 4,
 "nbformat_minor": 5
}
