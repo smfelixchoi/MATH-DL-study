{
 "cells": [
  {
   "cell_type": "markdown",
   "id": "35f7297a",
   "metadata": {},
   "source": [
    "# MobileNet Implementation with TensorFlow"
   ]
  },
  {
   "cell_type": "markdown",
   "id": "569bd9d0",
   "metadata": {},
   "source": [
    "## Download CIFAR10"
   ]
  },
  {
   "cell_type": "code",
   "execution_count": 1,
   "id": "b43462ba",
   "metadata": {},
   "outputs": [],
   "source": [
    "import numpy as np\n",
    "from tensorflow.keras.datasets.cifar10 import load_data"
   ]
  },
  {
   "cell_type": "code",
   "execution_count": 2,
   "id": "98eb9014",
   "metadata": {},
   "outputs": [],
   "source": [
    "(trainX, trainY), (testX, testY) = load_data()"
   ]
  },
  {
   "cell_type": "code",
   "execution_count": 3,
   "id": "379dc7ac",
   "metadata": {},
   "outputs": [
    {
     "name": "stdout",
     "output_type": "stream",
     "text": [
      "(50000, 32, 32, 3)\n",
      "(10000, 32, 32, 3)\n"
     ]
    }
   ],
   "source": [
    "print(trainX.shape)\n",
    "print(testX.shape)"
   ]
  },
  {
   "cell_type": "code",
   "execution_count": 4,
   "id": "28dc3e58",
   "metadata": {},
   "outputs": [
    {
     "name": "stdout",
     "output_type": "stream",
     "text": [
      "(50000, 1)\n",
      "(10000, 1)\n"
     ]
    }
   ],
   "source": [
    "print(trainY.shape)\n",
    "print(testY.shape)"
   ]
  },
  {
   "cell_type": "code",
   "execution_count": 5,
   "id": "b9f3afbd",
   "metadata": {},
   "outputs": [],
   "source": [
    "train_num = int(len(trainX)*0.9)\n",
    "valid_num = len(trainX) - train_num"
   ]
  },
  {
   "cell_type": "code",
   "execution_count": 6,
   "id": "bd32f2a5",
   "metadata": {},
   "outputs": [],
   "source": [
    "validX = trainX[-valid_num:]\n",
    "validY = trainY[-valid_num:]\n",
    "\n",
    "trainX = trainX[:train_num]\n",
    "trainY = trainY[:train_num]"
   ]
  },
  {
   "cell_type": "markdown",
   "id": "82aab102",
   "metadata": {},
   "source": [
    "## Construct Model"
   ]
  },
  {
   "cell_type": "code",
   "execution_count": 7,
   "id": "3c52ff2d",
   "metadata": {},
   "outputs": [],
   "source": [
    "import tensorflow as tf"
   ]
  },
  {
   "cell_type": "code",
   "execution_count": 8,
   "id": "5d3c3f50",
   "metadata": {},
   "outputs": [],
   "source": [
    "from tensorflow.keras.layers import Input, Conv2D, DepthwiseConv2D, MaxPool2D, Dense\n",
    "from tensorflow.keras.layers import BatchNormalization, GlobalAveragePooling2D\n",
    "from tensorflow.keras.activations import relu\n",
    "from tensorflow.keras.models import Model\n",
    "from tensorflow.keras.optimizers import Adam"
   ]
  },
  {
   "cell_type": "code",
   "execution_count": 9,
   "id": "a550e7e3",
   "metadata": {},
   "outputs": [],
   "source": [
    "input_shape = trainX.shape[1:]\n",
    "channels=[16,16,32,64,128]"
   ]
  },
  {
   "cell_type": "code",
   "execution_count": 10,
   "id": "6927e76a",
   "metadata": {
    "scrolled": true
   },
   "outputs": [
    {
     "name": "stdout",
     "output_type": "stream",
     "text": [
      "Model: \"model\"\n",
      "_________________________________________________________________\n",
      "Layer (type)                 Output Shape              Param #   \n",
      "=================================================================\n",
      "input_1 (InputLayer)         [(None, 32, 32, 3)]       0         \n",
      "_________________________________________________________________\n",
      "conv2d (Conv2D)              (None, 32, 32, 16)        2352      \n",
      "_________________________________________________________________\n",
      "batch_normalization (BatchNo (None, 32, 32, 16)        64        \n",
      "_________________________________________________________________\n",
      "tf.nn.relu (TFOpLambda)      (None, 32, 32, 16)        0         \n",
      "_________________________________________________________________\n",
      "depthwise_conv2d (DepthwiseC (None, 32, 32, 16)        144       \n",
      "_________________________________________________________________\n",
      "batch_normalization_1 (Batch (None, 32, 32, 16)        64        \n",
      "_________________________________________________________________\n",
      "tf.nn.relu_1 (TFOpLambda)    (None, 32, 32, 16)        0         \n",
      "_________________________________________________________________\n",
      "conv2d_1 (Conv2D)            (None, 32, 32, 16)        256       \n",
      "_________________________________________________________________\n",
      "batch_normalization_2 (Batch (None, 32, 32, 16)        64        \n",
      "_________________________________________________________________\n",
      "tf.nn.relu_2 (TFOpLambda)    (None, 32, 32, 16)        0         \n",
      "_________________________________________________________________\n",
      "max_pooling2d (MaxPooling2D) (None, 16, 16, 16)        0         \n",
      "_________________________________________________________________\n",
      "depthwise_conv2d_1 (Depthwis (None, 16, 16, 16)        144       \n",
      "_________________________________________________________________\n",
      "batch_normalization_3 (Batch (None, 16, 16, 16)        64        \n",
      "_________________________________________________________________\n",
      "tf.nn.relu_3 (TFOpLambda)    (None, 16, 16, 16)        0         \n",
      "_________________________________________________________________\n",
      "conv2d_2 (Conv2D)            (None, 16, 16, 32)        512       \n",
      "_________________________________________________________________\n",
      "batch_normalization_4 (Batch (None, 16, 16, 32)        128       \n",
      "_________________________________________________________________\n",
      "tf.nn.relu_4 (TFOpLambda)    (None, 16, 16, 32)        0         \n",
      "_________________________________________________________________\n",
      "max_pooling2d_1 (MaxPooling2 (None, 8, 8, 32)          0         \n",
      "_________________________________________________________________\n",
      "depthwise_conv2d_2 (Depthwis (None, 8, 8, 32)          288       \n",
      "_________________________________________________________________\n",
      "batch_normalization_5 (Batch (None, 8, 8, 32)          128       \n",
      "_________________________________________________________________\n",
      "tf.nn.relu_5 (TFOpLambda)    (None, 8, 8, 32)          0         \n",
      "_________________________________________________________________\n",
      "conv2d_3 (Conv2D)            (None, 8, 8, 64)          2048      \n",
      "_________________________________________________________________\n",
      "batch_normalization_6 (Batch (None, 8, 8, 64)          256       \n",
      "_________________________________________________________________\n",
      "tf.nn.relu_6 (TFOpLambda)    (None, 8, 8, 64)          0         \n",
      "_________________________________________________________________\n",
      "max_pooling2d_2 (MaxPooling2 (None, 4, 4, 64)          0         \n",
      "_________________________________________________________________\n",
      "depthwise_conv2d_3 (Depthwis (None, 4, 4, 64)          576       \n",
      "_________________________________________________________________\n",
      "batch_normalization_7 (Batch (None, 4, 4, 64)          256       \n",
      "_________________________________________________________________\n",
      "tf.nn.relu_7 (TFOpLambda)    (None, 4, 4, 64)          0         \n",
      "_________________________________________________________________\n",
      "conv2d_4 (Conv2D)            (None, 4, 4, 128)         8192      \n",
      "_________________________________________________________________\n",
      "batch_normalization_8 (Batch (None, 4, 4, 128)         512       \n",
      "_________________________________________________________________\n",
      "tf.nn.relu_8 (TFOpLambda)    (None, 4, 4, 128)         0         \n",
      "_________________________________________________________________\n",
      "global_average_pooling2d (Gl (None, 128)               0         \n",
      "_________________________________________________________________\n",
      "dense (Dense)                (None, 32)                4096      \n",
      "_________________________________________________________________\n",
      "batch_normalization_9 (Batch (None, 32)                128       \n",
      "_________________________________________________________________\n",
      "tf.nn.relu_9 (TFOpLambda)    (None, 32)                0         \n",
      "_________________________________________________________________\n",
      "dense_1 (Dense)              (None, 10)                330       \n",
      "=================================================================\n",
      "Total params: 20,602\n",
      "Trainable params: 19,770\n",
      "Non-trainable params: 832\n",
      "_________________________________________________________________\n"
     ]
    }
   ],
   "source": [
    "input_tensor = Input(input_shape)\n",
    "\n",
    "x = Conv2D(filters=channels[0], kernel_size=(7,7), padding='same', activation=None, use_bias=False, kernel_initializer='he_uniform')(input_tensor)\n",
    "x = BatchNormalization()(x)\n",
    "x = relu(x)\n",
    "\n",
    "x = DepthwiseConv2D(kernel_size=(3,3), padding='same', activation=None, use_bias=False, kernel_initializer='he_uniform')(x)\n",
    "x = BatchNormalization()(x)\n",
    "x = relu(x)\n",
    "x = Conv2D(filters=channels[1], kernel_size=(1,1), padding='same', activation=None, use_bias=False, kernel_initializer='he_uniform')(x)\n",
    "x = BatchNormalization()(x)\n",
    "x = relu(x)\n",
    "\n",
    "x = MaxPool2D((2,2))(x)\n",
    "\n",
    "x = DepthwiseConv2D(kernel_size=(3,3), padding='same', activation=None, use_bias=False, kernel_initializer='he_uniform')(x)\n",
    "x = BatchNormalization()(x)\n",
    "x = relu(x)\n",
    "x = Conv2D(filters=channels[2], kernel_size=(1,1), padding='same', activation=None, use_bias=False, kernel_initializer='he_uniform')(x)\n",
    "x = BatchNormalization()(x)\n",
    "x = relu(x)\n",
    "\n",
    "x = MaxPool2D((2,2))(x)\n",
    "\n",
    "x = DepthwiseConv2D(kernel_size=(3,3), padding='same', activation=None, use_bias=False, kernel_initializer='he_uniform')(x)\n",
    "x = BatchNormalization()(x)\n",
    "x = relu(x)\n",
    "x = Conv2D(filters=channels[3], kernel_size=(1,1), padding='same', activation=None, use_bias=False, kernel_initializer='he_uniform')(x)\n",
    "x = BatchNormalization()(x)\n",
    "x = relu(x)\n",
    "\n",
    "x = MaxPool2D((2,2))(x)\n",
    "\n",
    "x = DepthwiseConv2D(kernel_size=(3,3), padding='same', activation=None, use_bias=False, kernel_initializer='he_uniform')(x)\n",
    "x = BatchNormalization()(x)\n",
    "x = relu(x)\n",
    "x = Conv2D(filters=channels[4], kernel_size=(1,1), padding='same', activation=None, use_bias=False, kernel_initializer='he_uniform')(x)\n",
    "x = BatchNormalization()(x)\n",
    "x = relu(x)\n",
    "\n",
    "x = GlobalAveragePooling2D()(x)\n",
    "\n",
    "x = Dense(channels[4]//4, activation=None, use_bias=False, kernel_initializer='he_uniform')(x)\n",
    "x = BatchNormalization()(x)\n",
    "x = relu(x)\n",
    "x = Dense(10, activation='softmax')(x)\n",
    "\n",
    "model = Model(inputs=input_tensor, outputs=x)\n",
    "\n",
    "optimizer = Adam(learning_rate=0.01)\n",
    "model.compile(optimizer=optimizer, loss='sparse_categorical_crossentropy', metrics=['accuracy'])\n",
    "\n",
    "model.summary()"
   ]
  },
  {
   "cell_type": "code",
   "execution_count": 11,
   "id": "4e5ab94e",
   "metadata": {},
   "outputs": [],
   "source": [
    "from tensorflow.keras.callbacks import LearningRateScheduler\n",
    "\n",
    "lr = LearningRateScheduler(lambda epoch: 0.01*(0.95 ** epoch), verbose=1)"
   ]
  },
  {
   "cell_type": "code",
   "execution_count": 12,
   "id": "7b3998b6",
   "metadata": {
    "scrolled": true
   },
   "outputs": [
    {
     "name": "stdout",
     "output_type": "stream",
     "text": [
      "Epoch 1/20\n",
      "\n",
      "Epoch 00001: LearningRateScheduler reducing learning rate to 0.01.\n",
      "352/352 [==============================] - 6s 7ms/step - loss: 1.6900 - accuracy: 0.3735 - val_loss: 1.7157 - val_accuracy: 0.4294\n",
      "Epoch 2/20\n",
      "\n",
      "Epoch 00002: LearningRateScheduler reducing learning rate to 0.0095.\n",
      "352/352 [==============================] - 2s 5ms/step - loss: 1.1806 - accuracy: 0.5726 - val_loss: 2.4498 - val_accuracy: 0.4014\n",
      "Epoch 3/20\n",
      "\n",
      "Epoch 00003: LearningRateScheduler reducing learning rate to 0.009025.\n",
      "352/352 [==============================] - 2s 5ms/step - loss: 1.0336 - accuracy: 0.6317 - val_loss: 1.0829 - val_accuracy: 0.6214\n",
      "Epoch 4/20\n",
      "\n",
      "Epoch 00004: LearningRateScheduler reducing learning rate to 0.00857375.\n",
      "352/352 [==============================] - 2s 5ms/step - loss: 0.9257 - accuracy: 0.6698 - val_loss: 1.0641 - val_accuracy: 0.6266\n",
      "Epoch 5/20\n",
      "\n",
      "Epoch 00005: LearningRateScheduler reducing learning rate to 0.0081450625.\n",
      "352/352 [==============================] - 2s 5ms/step - loss: 0.8538 - accuracy: 0.6996 - val_loss: 1.0676 - val_accuracy: 0.6470\n",
      "Epoch 6/20\n",
      "\n",
      "Epoch 00006: LearningRateScheduler reducing learning rate to 0.007737809374999998.\n",
      "352/352 [==============================] - 2s 5ms/step - loss: 0.8094 - accuracy: 0.7136 - val_loss: 1.2595 - val_accuracy: 0.5836\n",
      "Epoch 7/20\n",
      "\n",
      "Epoch 00007: LearningRateScheduler reducing learning rate to 0.007350918906249998.\n",
      "352/352 [==============================] - 2s 5ms/step - loss: 0.7742 - accuracy: 0.7288 - val_loss: 1.0817 - val_accuracy: 0.6370\n",
      "Epoch 8/20\n",
      "\n",
      "Epoch 00008: LearningRateScheduler reducing learning rate to 0.006983372960937498.\n",
      "352/352 [==============================] - 2s 5ms/step - loss: 0.7263 - accuracy: 0.7439 - val_loss: 0.9955 - val_accuracy: 0.6524\n",
      "Epoch 9/20\n",
      "\n",
      "Epoch 00009: LearningRateScheduler reducing learning rate to 0.006634204312890623.\n",
      "352/352 [==============================] - 2s 5ms/step - loss: 0.6890 - accuracy: 0.7587 - val_loss: 1.0117 - val_accuracy: 0.6470\n",
      "Epoch 10/20\n",
      "\n",
      "Epoch 00010: LearningRateScheduler reducing learning rate to 0.006302494097246091.\n",
      "352/352 [==============================] - 2s 5ms/step - loss: 0.6651 - accuracy: 0.7642 - val_loss: 0.9880 - val_accuracy: 0.6678\n",
      "Epoch 11/20\n",
      "\n",
      "Epoch 00011: LearningRateScheduler reducing learning rate to 0.005987369392383787.\n",
      "352/352 [==============================] - 2s 5ms/step - loss: 0.6423 - accuracy: 0.7698 - val_loss: 0.9464 - val_accuracy: 0.6834\n",
      "Epoch 12/20\n",
      "\n",
      "Epoch 00012: LearningRateScheduler reducing learning rate to 0.005688000922764597.\n",
      "352/352 [==============================] - 2s 5ms/step - loss: 0.6162 - accuracy: 0.7836 - val_loss: 0.8675 - val_accuracy: 0.7148\n",
      "Epoch 13/20\n",
      "\n",
      "Epoch 00013: LearningRateScheduler reducing learning rate to 0.005403600876626367.\n",
      "352/352 [==============================] - 2s 5ms/step - loss: 0.6059 - accuracy: 0.7856 - val_loss: 0.9624 - val_accuracy: 0.6832\n",
      "Epoch 14/20\n",
      "\n",
      "Epoch 00014: LearningRateScheduler reducing learning rate to 0.005133420832795048.\n",
      "352/352 [==============================] - 2s 5ms/step - loss: 0.5777 - accuracy: 0.7939 - val_loss: 0.9979 - val_accuracy: 0.6736\n",
      "Epoch 15/20\n",
      "\n",
      "Epoch 00015: LearningRateScheduler reducing learning rate to 0.0048767497911552955.\n",
      "352/352 [==============================] - 2s 5ms/step - loss: 0.5645 - accuracy: 0.7982 - val_loss: 0.8434 - val_accuracy: 0.7120\n",
      "Epoch 16/20\n",
      "\n",
      "Epoch 00016: LearningRateScheduler reducing learning rate to 0.00463291230159753.\n",
      "352/352 [==============================] - 2s 5ms/step - loss: 0.5483 - accuracy: 0.8060 - val_loss: 0.9876 - val_accuracy: 0.6846\n",
      "Epoch 17/20\n",
      "\n",
      "Epoch 00017: LearningRateScheduler reducing learning rate to 0.0044012666865176535.\n",
      "352/352 [==============================] - 2s 5ms/step - loss: 0.5309 - accuracy: 0.8110 - val_loss: 0.8865 - val_accuracy: 0.7130\n",
      "Epoch 18/20\n",
      "\n",
      "Epoch 00018: LearningRateScheduler reducing learning rate to 0.004181203352191771.\n",
      "352/352 [==============================] - 2s 5ms/step - loss: 0.5110 - accuracy: 0.8186 - val_loss: 0.9933 - val_accuracy: 0.6720\n",
      "Epoch 19/20\n",
      "\n",
      "Epoch 00019: LearningRateScheduler reducing learning rate to 0.003972143184582182.\n",
      "352/352 [==============================] - 2s 5ms/step - loss: 0.4979 - accuracy: 0.8240 - val_loss: 0.8005 - val_accuracy: 0.7368\n",
      "Epoch 20/20\n",
      "\n",
      "Epoch 00020: LearningRateScheduler reducing learning rate to 0.0037735360253530726.\n",
      "352/352 [==============================] - 2s 5ms/step - loss: 0.4954 - accuracy: 0.8266 - val_loss: 0.9243 - val_accuracy: 0.7116\n"
     ]
    }
   ],
   "source": [
    "EPOCHS=20\n",
    "\n",
    "history=model.fit(trainX, trainY, batch_size=128, epochs=EPOCHS, validation_data=(validX, validY), callbacks=[lr])"
   ]
  },
  {
   "cell_type": "code",
   "execution_count": 13,
   "id": "22a458e8",
   "metadata": {},
   "outputs": [
    {
     "name": "stdout",
     "output_type": "stream",
     "text": [
      "313/313 [==============================] - 1s 2ms/step - loss: 0.9433 - accuracy: 0.6998\n"
     ]
    }
   ],
   "source": [
    "test_loss, test_acc = model.evaluate(testX, testY, verbose=1)"
   ]
  },
  {
   "cell_type": "code",
   "execution_count": 14,
   "id": "d3377eac",
   "metadata": {},
   "outputs": [
    {
     "data": {
      "text/plain": [
       "dict_keys(['loss', 'accuracy', 'val_loss', 'val_accuracy', 'lr'])"
      ]
     },
     "execution_count": 14,
     "metadata": {},
     "output_type": "execute_result"
    }
   ],
   "source": [
    "history.history.keys()"
   ]
  },
  {
   "cell_type": "markdown",
   "id": "6c6d9200",
   "metadata": {},
   "source": [
    "## Plot Training Loss and Validation loss "
   ]
  },
  {
   "cell_type": "code",
   "execution_count": 15,
   "id": "1f51f725",
   "metadata": {},
   "outputs": [],
   "source": [
    "import matplotlib.pyplot as plt\n",
    "import numpy as np"
   ]
  },
  {
   "cell_type": "code",
   "execution_count": 16,
   "id": "3f78d5ad",
   "metadata": {},
   "outputs": [
    {
     "data": {
      "image/png": "[encoded data removed]",
      "text/plain": [
       "<Figure size 432x288 with 1 Axes>"
      ]
     },
     "metadata": {
      "needs_background": "light"
     },
     "output_type": "display_data"
    }
   ],
   "source": [
    "plt.figure()\n",
    "plt.plot(np.arange(1,EPOCHS+1), history.history['loss'], label='training loss')\n",
    "plt.plot(np.arange(1,EPOCHS+1), history.history['val_loss'], label='validation loss')\n",
    "plt.legend()\n",
    "plt.show()"
   ]
  },
  {
   "cell_type": "code",
   "execution_count": 17,
   "id": "c3b3102f",
   "metadata": {},
   "outputs": [
    {
     "data": {
      "image/png": "[encoded data removed]",
      "text/plain": [
       "<Figure size 432x288 with 1 Axes>"
      ]
     },
     "metadata": {
      "needs_background": "light"
     },
     "output_type": "display_data"
    }
   ],
   "source": [
    "plt.figure()\n",
    "plt.plot(np.arange(1,EPOCHS+1), history.history['accuracy'], label='training accuracy')\n",
    "plt.plot(np.arange(1,EPOCHS+1), history.history['val_accuracy'], label='validation accuracy')\n",
    "plt.legend()\n",
    "plt.show()"
   ]
  },
  {
   "cell_type": "code",
   "execution_count": null,
   "id": "3c359f8d",
   "metadata": {},
   "outputs": [],
   "source": []
  }
 ],
 "metadata": {
  "kernelspec": {
   "display_name": "Environment (conda_tensorflow2.4_p37)",
   "language": "python",
   "name": "conda_tensorflow2.4_p37"
  },
  "language_info": {
   "codemirror_mode": {
    "name": "ipython",
    "version": 3
   },
   "file_extension": ".py",
   "mimetype": "text/x-python",
   "name": "python",
   "nbconvert_exporter": "python",
   "pygments_lexer": "ipython3",
   "version": "3.7.10"
  }
 },
 "nbformat": 4,
 "nbformat_minor": 5
}
