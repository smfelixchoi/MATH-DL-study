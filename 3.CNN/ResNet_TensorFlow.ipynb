{
 "cells": [
  {
   "cell_type": "markdown",
   "id": "855900bd",
   "metadata": {},
   "source": [
    "# ResNet Implementation with TensorFlow"
   ]
  },
  {
   "cell_type": "markdown",
   "id": "3142e787",
   "metadata": {},
   "source": [
    "## Download CIFAR10"
   ]
  },
  {
   "cell_type": "code",
   "execution_count": 1,
   "id": "9f1f6dd6",
   "metadata": {},
   "outputs": [],
   "source": [
    "import numpy as np\n",
    "from tensorflow.keras.datasets.cifar10 import load_data"
   ]
  },
  {
   "cell_type": "code",
   "execution_count": 2,
   "id": "22c27e67",
   "metadata": {},
   "outputs": [],
   "source": [
    "(trainX, trainY), (testX, testY) = load_data()"
   ]
  },
  {
   "cell_type": "code",
   "execution_count": 3,
   "id": "379dc7ac",
   "metadata": {},
   "outputs": [
    {
     "name": "stdout",
     "output_type": "stream",
     "text": [
      "(50000, 32, 32, 3)\n",
      "(10000, 32, 32, 3)\n"
     ]
    }
   ],
   "source": [
    "print(trainX.shape)\n",
    "print(testX.shape)"
   ]
  },
  {
   "cell_type": "code",
   "execution_count": 4,
   "id": "28dc3e58",
   "metadata": {},
   "outputs": [
    {
     "name": "stdout",
     "output_type": "stream",
     "text": [
      "(50000, 1)\n",
      "(10000, 1)\n"
     ]
    }
   ],
   "source": [
    "print(trainY.shape)\n",
    "print(testY.shape)"
   ]
  },
  {
   "cell_type": "code",
   "execution_count": 5,
   "id": "80939294",
   "metadata": {},
   "outputs": [],
   "source": [
    "train_num = int(len(trainX)*0.9)\n",
    "valid_num = len(trainX) - train_num"
   ]
  },
  {
   "cell_type": "code",
   "execution_count": 6,
   "id": "bd32f2a5",
   "metadata": {},
   "outputs": [],
   "source": [
    "validX = trainX[-valid_num:]\n",
    "validY = trainY[-valid_num:]\n",
    "\n",
    "trainX = trainX[:train_num]\n",
    "trainY = trainY[:train_num]"
   ]
  },
  {
   "cell_type": "markdown",
   "id": "010a7ece",
   "metadata": {},
   "source": [
    "## Construct Model"
   ]
  },
  {
   "cell_type": "code",
   "execution_count": 7,
   "id": "ea140bdd",
   "metadata": {},
   "outputs": [],
   "source": [
    "input_shape = trainX.shape[1:]"
   ]
  },
  {
   "cell_type": "code",
   "execution_count": 8,
   "id": "d94cb749",
   "metadata": {},
   "outputs": [],
   "source": [
    "import numpy as np\n",
    "import matplotlib.pyplot as plt\n",
    "\n",
    "import tensorflow as tf\n",
    "from tensorflow.keras.layers import Input, Conv2D, DepthwiseConv2D, MaxPool2D, Dense\n",
    "from tensorflow.keras.layers import BatchNormalization, GlobalAveragePooling2D\n",
    "from tensorflow.keras.layers import add\n",
    "from tensorflow.keras.activations import relu\n",
    "from tensorflow.keras.models import Model\n",
    "from tensorflow.keras.optimizers import Adam"
   ]
  },
  {
   "cell_type": "code",
   "execution_count": 9,
   "id": "05f03c3c",
   "metadata": {},
   "outputs": [],
   "source": [
    "# Basic Block\n",
    "\n",
    "def make_residual(num_filters, stride):\n",
    "    def f(x):\n",
    "        x = Conv2D(filters=num_filters,\n",
    "                   kernel_size=(3,3),\n",
    "                   strides=stride, padding='same',\n",
    "                   activation=None,\n",
    "                   use_bias=False, kernel_initializer='he_uniform')(x)\n",
    "        x = BatchNormalization()(x)\n",
    "        x = relu(x)\n",
    "        x = Conv2D(filters=num_filters,\n",
    "                   kernel_size=(3,3),\n",
    "                   strides=1, padding='same',\n",
    "                   use_bias=False, kernel_initializer='he_uniform')(x)\n",
    "        x = BatchNormalization()(x)\n",
    "        \n",
    "        return x\n",
    "    \n",
    "    return f"
   ]
  },
  {
   "cell_type": "code",
   "execution_count": 10,
   "id": "936addf4",
   "metadata": {},
   "outputs": [],
   "source": [
    "channels=[16,16,32,64,128]"
   ]
  },
  {
   "cell_type": "code",
   "execution_count": 11,
   "id": "456d2acf",
   "metadata": {},
   "outputs": [
    {
     "data": {
      "text/plain": [
       "(32, 32, 3)"
      ]
     },
     "execution_count": 11,
     "metadata": {},
     "output_type": "execute_result"
    }
   ],
   "source": [
    "input_shape"
   ]
  },
  {
   "cell_type": "code",
   "execution_count": 12,
   "id": "66c0cfa3",
   "metadata": {},
   "outputs": [
    {
     "name": "stdout",
     "output_type": "stream",
     "text": [
      "Model: \"model\"\n",
      "__________________________________________________________________________________________________\n",
      "Layer (type)                    Output Shape         Param #     Connected to                     \n",
      "==================================================================================================\n",
      "input_1 (InputLayer)            [(None, 32, 32, 3)]  0                                            \n",
      "__________________________________________________________________________________________________\n",
      "conv2d (Conv2D)                 (None, 32, 32, 16)   2352        input_1[0][0]                    \n",
      "__________________________________________________________________________________________________\n",
      "batch_normalization (BatchNorma (None, 32, 32, 16)   64          conv2d[0][0]                     \n",
      "__________________________________________________________________________________________________\n",
      "tf.nn.relu (TFOpLambda)         (None, 32, 32, 16)   0           batch_normalization[0][0]        \n",
      "__________________________________________________________________________________________________\n",
      "conv2d_1 (Conv2D)               (None, 32, 32, 16)   2304        tf.nn.relu[0][0]                 \n",
      "__________________________________________________________________________________________________\n",
      "batch_normalization_1 (BatchNor (None, 32, 32, 16)   64          conv2d_1[0][0]                   \n",
      "__________________________________________________________________________________________________\n",
      "tf.nn.relu_1 (TFOpLambda)       (None, 32, 32, 16)   0           batch_normalization_1[0][0]      \n",
      "__________________________________________________________________________________________________\n",
      "conv2d_2 (Conv2D)               (None, 32, 32, 16)   2304        tf.nn.relu_1[0][0]               \n",
      "__________________________________________________________________________________________________\n",
      "batch_normalization_2 (BatchNor (None, 32, 32, 16)   64          conv2d_2[0][0]                   \n",
      "__________________________________________________________________________________________________\n",
      "add (Add)                       (None, 32, 32, 16)   0           batch_normalization_2[0][0]      \n",
      "                                                                 tf.nn.relu[0][0]                 \n",
      "__________________________________________________________________________________________________\n",
      "conv2d_3 (Conv2D)               (None, 16, 16, 16)   2304        add[0][0]                        \n",
      "__________________________________________________________________________________________________\n",
      "batch_normalization_3 (BatchNor (None, 16, 16, 16)   64          conv2d_3[0][0]                   \n",
      "__________________________________________________________________________________________________\n",
      "tf.nn.relu_2 (TFOpLambda)       (None, 16, 16, 16)   0           batch_normalization_3[0][0]      \n",
      "__________________________________________________________________________________________________\n",
      "conv2d_4 (Conv2D)               (None, 16, 16, 16)   2304        tf.nn.relu_2[0][0]               \n",
      "__________________________________________________________________________________________________\n",
      "batch_normalization_4 (BatchNor (None, 16, 16, 16)   64          conv2d_4[0][0]                   \n",
      "__________________________________________________________________________________________________\n",
      "conv2d_5 (Conv2D)               (None, 16, 16, 16)   272         add[0][0]                        \n",
      "__________________________________________________________________________________________________\n",
      "add_1 (Add)                     (None, 16, 16, 16)   0           batch_normalization_4[0][0]      \n",
      "                                                                 conv2d_5[0][0]                   \n",
      "__________________________________________________________________________________________________\n",
      "conv2d_6 (Conv2D)               (None, 16, 16, 32)   4608        add_1[0][0]                      \n",
      "__________________________________________________________________________________________________\n",
      "batch_normalization_5 (BatchNor (None, 16, 16, 32)   128         conv2d_6[0][0]                   \n",
      "__________________________________________________________________________________________________\n",
      "tf.nn.relu_3 (TFOpLambda)       (None, 16, 16, 32)   0           batch_normalization_5[0][0]      \n",
      "__________________________________________________________________________________________________\n",
      "conv2d_7 (Conv2D)               (None, 16, 16, 32)   9216        tf.nn.relu_3[0][0]               \n",
      "__________________________________________________________________________________________________\n",
      "batch_normalization_6 (BatchNor (None, 16, 16, 32)   128         conv2d_7[0][0]                   \n",
      "__________________________________________________________________________________________________\n",
      "conv2d_8 (Conv2D)               (None, 16, 16, 32)   544         add_1[0][0]                      \n",
      "__________________________________________________________________________________________________\n",
      "add_2 (Add)                     (None, 16, 16, 32)   0           batch_normalization_6[0][0]      \n",
      "                                                                 conv2d_8[0][0]                   \n",
      "__________________________________________________________________________________________________\n",
      "conv2d_9 (Conv2D)               (None, 8, 8, 64)     18432       add_2[0][0]                      \n",
      "__________________________________________________________________________________________________\n",
      "batch_normalization_7 (BatchNor (None, 8, 8, 64)     256         conv2d_9[0][0]                   \n",
      "__________________________________________________________________________________________________\n",
      "tf.nn.relu_4 (TFOpLambda)       (None, 8, 8, 64)     0           batch_normalization_7[0][0]      \n",
      "__________________________________________________________________________________________________\n",
      "conv2d_10 (Conv2D)              (None, 8, 8, 64)     36864       tf.nn.relu_4[0][0]               \n",
      "__________________________________________________________________________________________________\n",
      "batch_normalization_8 (BatchNor (None, 8, 8, 64)     256         conv2d_10[0][0]                  \n",
      "__________________________________________________________________________________________________\n",
      "conv2d_11 (Conv2D)              (None, 8, 8, 64)     2112        add_2[0][0]                      \n",
      "__________________________________________________________________________________________________\n",
      "add_3 (Add)                     (None, 8, 8, 64)     0           batch_normalization_8[0][0]      \n",
      "                                                                 conv2d_11[0][0]                  \n",
      "__________________________________________________________________________________________________\n",
      "conv2d_12 (Conv2D)              (None, 4, 4, 128)    73728       add_3[0][0]                      \n",
      "__________________________________________________________________________________________________\n",
      "batch_normalization_9 (BatchNor (None, 4, 4, 128)    512         conv2d_12[0][0]                  \n",
      "__________________________________________________________________________________________________\n",
      "tf.nn.relu_5 (TFOpLambda)       (None, 4, 4, 128)    0           batch_normalization_9[0][0]      \n",
      "__________________________________________________________________________________________________\n",
      "conv2d_13 (Conv2D)              (None, 4, 4, 128)    147456      tf.nn.relu_5[0][0]               \n",
      "__________________________________________________________________________________________________\n",
      "batch_normalization_10 (BatchNo (None, 4, 4, 128)    512         conv2d_13[0][0]                  \n",
      "__________________________________________________________________________________________________\n",
      "conv2d_14 (Conv2D)              (None, 4, 4, 128)    8320        add_3[0][0]                      \n",
      "__________________________________________________________________________________________________\n",
      "add_4 (Add)                     (None, 4, 4, 128)    0           batch_normalization_10[0][0]     \n",
      "                                                                 conv2d_14[0][0]                  \n",
      "__________________________________________________________________________________________________\n",
      "conv2d_15 (Conv2D)              (None, 4, 4, 128)    147456      add_4[0][0]                      \n",
      "__________________________________________________________________________________________________\n",
      "batch_normalization_11 (BatchNo (None, 4, 4, 128)    512         conv2d_15[0][0]                  \n",
      "__________________________________________________________________________________________________\n",
      "tf.nn.relu_6 (TFOpLambda)       (None, 4, 4, 128)    0           batch_normalization_11[0][0]     \n",
      "__________________________________________________________________________________________________\n",
      "conv2d_16 (Conv2D)              (None, 4, 4, 128)    147456      tf.nn.relu_6[0][0]               \n",
      "__________________________________________________________________________________________________\n",
      "batch_normalization_12 (BatchNo (None, 4, 4, 128)    512         conv2d_16[0][0]                  \n",
      "__________________________________________________________________________________________________\n",
      "add_5 (Add)                     (None, 4, 4, 128)    0           batch_normalization_12[0][0]     \n",
      "                                                                 add_4[0][0]                      \n",
      "__________________________________________________________________________________________________\n",
      "global_average_pooling2d (Globa (None, 128)          0           add_5[0][0]                      \n",
      "__________________________________________________________________________________________________\n",
      "dense (Dense)                   (None, 32)           4096        global_average_pooling2d[0][0]   \n",
      "__________________________________________________________________________________________________\n",
      "batch_normalization_13 (BatchNo (None, 32)           128         dense[0][0]                      \n",
      "__________________________________________________________________________________________________\n",
      "tf.nn.relu_7 (TFOpLambda)       (None, 32)           0           batch_normalization_13[0][0]     \n",
      "__________________________________________________________________________________________________\n",
      "dense_1 (Dense)                 (None, 10)           330         tf.nn.relu_7[0][0]               \n",
      "==================================================================================================\n",
      "Total params: 615,722\n",
      "Trainable params: 614,090\n",
      "Non-trainable params: 1,632\n",
      "__________________________________________________________________________________________________\n"
     ]
    }
   ],
   "source": [
    "input_tensor=Input(input_shape)\n",
    "\n",
    "x = Conv2D(filters=channels[0], kernel_size=(7,7), padding='same', activation=None, use_bias=False, kernel_initializer='he_uniform')(input_tensor)\n",
    "x = BatchNormalization()(x)\n",
    "x = relu(x)\n",
    "\n",
    "# Block 1\n",
    "x = add([make_residual(channels[0], 1)(x), x])\n",
    "\n",
    "# Block 2\n",
    "y = make_residual(channels[1], 2)(x)\n",
    "z = Conv2D(filters=channels[1], kernel_size=(1,1), strides=2, padding='same', activation=None)(x)\n",
    "x = add([y,z])\n",
    "\n",
    "# Block 3\n",
    "y = make_residual(channels[2], 1)(x)\n",
    "z = Conv2D(filters=channels[2], kernel_size=(1,1), strides=1, padding='same', activation=None)(x)\n",
    "x = add([y,z])\n",
    "\n",
    "# Block 4\n",
    "y = make_residual(channels[3], 2)(x)\n",
    "z = Conv2D(filters=channels[3], kernel_size=(1,1), strides=2, padding='same', activation=None)(x)\n",
    "x = add([y,z])\n",
    "\n",
    "# Block 5\n",
    "y = make_residual(channels[4], 2)(x)\n",
    "z = Conv2D(filters=channels[4], kernel_size=(1,1), strides=2, padding='same', activation=None)(x)\n",
    "x = add([y,z])\n",
    "\n",
    "# Block 6\n",
    "x = add([make_residual(channels[4], 1)(x), x])\n",
    "\n",
    "x = GlobalAveragePooling2D()(x)\n",
    "\n",
    "x = Dense(channels[4]//4, activation=None, use_bias=False, kernel_initializer='he_uniform')(x)\n",
    "x = BatchNormalization()(x)\n",
    "x = relu(x)\n",
    "x = Dense(10, activation='softmax')(x)\n",
    "\n",
    "model = Model(inputs=input_tensor, outputs=x)\n",
    "\n",
    "optimizer = Adam(learning_rate=0.01)\n",
    "model.compile(optimizer=optimizer, loss='sparse_categorical_crossentropy', metrics=['accuracy'])\n",
    "\n",
    "model.summary()"
   ]
  },
  {
   "cell_type": "code",
   "execution_count": 13,
   "id": "fdf1da42",
   "metadata": {},
   "outputs": [],
   "source": [
    "from tensorflow.keras.callbacks import LearningRateScheduler\n",
    "\n",
    "lr = LearningRateScheduler(lambda epoch: 0.01*(0.95 ** epoch), verbose=1)"
   ]
  },
  {
   "cell_type": "code",
   "execution_count": 14,
   "id": "1f05a01d",
   "metadata": {
    "scrolled": true
   },
   "outputs": [
    {
     "name": "stdout",
     "output_type": "stream",
     "text": [
      "Epoch 1/30\n",
      "\n",
      "Epoch 00001: LearningRateScheduler reducing learning rate to 0.01.\n",
      "352/352 [==============================] - 9s 11ms/step - loss: 1.7809 - accuracy: 0.3302 - val_loss: 2.1099 - val_accuracy: 0.3120\n",
      "Epoch 2/30\n",
      "\n",
      "Epoch 00002: LearningRateScheduler reducing learning rate to 0.0095.\n",
      "352/352 [==============================] - 3s 9ms/step - loss: 1.3248 - accuracy: 0.5202 - val_loss: 1.7828 - val_accuracy: 0.3878\n",
      "Epoch 3/30\n",
      "\n",
      "Epoch 00003: LearningRateScheduler reducing learning rate to 0.009025.\n",
      "352/352 [==============================] - 3s 9ms/step - loss: 1.0894 - accuracy: 0.6125 - val_loss: 1.5944 - val_accuracy: 0.4918\n",
      "Epoch 4/30\n",
      "\n",
      "Epoch 00004: LearningRateScheduler reducing learning rate to 0.00857375.\n",
      "352/352 [==============================] - 3s 9ms/step - loss: 0.9273 - accuracy: 0.6704 - val_loss: 1.1660 - val_accuracy: 0.5990\n",
      "Epoch 5/30\n",
      "\n",
      "Epoch 00005: LearningRateScheduler reducing learning rate to 0.0081450625.\n",
      "352/352 [==============================] - 3s 9ms/step - loss: 0.8065 - accuracy: 0.7155 - val_loss: 1.3586 - val_accuracy: 0.5652\n",
      "Epoch 6/30\n",
      "\n",
      "Epoch 00006: LearningRateScheduler reducing learning rate to 0.007737809374999998.\n",
      "352/352 [==============================] - 3s 9ms/step - loss: 0.7175 - accuracy: 0.7480 - val_loss: 1.0910 - val_accuracy: 0.6386\n",
      "Epoch 7/30\n",
      "\n",
      "Epoch 00007: LearningRateScheduler reducing learning rate to 0.007350918906249998.\n",
      "352/352 [==============================] - 3s 9ms/step - loss: 0.6334 - accuracy: 0.7752 - val_loss: 0.9797 - val_accuracy: 0.6764\n",
      "Epoch 8/30\n",
      "\n",
      "Epoch 00008: LearningRateScheduler reducing learning rate to 0.006983372960937498.\n",
      "352/352 [==============================] - 3s 9ms/step - loss: 0.5661 - accuracy: 0.8022 - val_loss: 1.0282 - val_accuracy: 0.6788\n",
      "Epoch 9/30\n",
      "\n",
      "Epoch 00009: LearningRateScheduler reducing learning rate to 0.006634204312890623.\n",
      "352/352 [==============================] - 3s 9ms/step - loss: 0.4994 - accuracy: 0.8276 - val_loss: 0.8194 - val_accuracy: 0.7318\n",
      "Epoch 10/30\n",
      "\n",
      "Epoch 00010: LearningRateScheduler reducing learning rate to 0.006302494097246091.\n",
      "352/352 [==============================] - 3s 9ms/step - loss: 0.4510 - accuracy: 0.8430 - val_loss: 0.9670 - val_accuracy: 0.6996\n",
      "Epoch 11/30\n",
      "\n",
      "Epoch 00011: LearningRateScheduler reducing learning rate to 0.005987369392383787.\n",
      "352/352 [==============================] - 3s 9ms/step - loss: 0.3958 - accuracy: 0.8647 - val_loss: 0.8881 - val_accuracy: 0.7156\n",
      "Epoch 12/30\n",
      "\n",
      "Epoch 00012: LearningRateScheduler reducing learning rate to 0.005688000922764597.\n",
      "352/352 [==============================] - 3s 9ms/step - loss: 0.3459 - accuracy: 0.8775 - val_loss: 0.8059 - val_accuracy: 0.7564\n",
      "Epoch 13/30\n",
      "\n",
      "Epoch 00013: LearningRateScheduler reducing learning rate to 0.005403600876626367.\n",
      "352/352 [==============================] - 3s 9ms/step - loss: 0.2975 - accuracy: 0.8965 - val_loss: 1.2961 - val_accuracy: 0.6536\n",
      "Epoch 14/30\n",
      "\n",
      "Epoch 00014: LearningRateScheduler reducing learning rate to 0.005133420832795048.\n",
      "352/352 [==============================] - 3s 9ms/step - loss: 0.2503 - accuracy: 0.9126 - val_loss: 0.7815 - val_accuracy: 0.7722\n",
      "Epoch 15/30\n",
      "\n",
      "Epoch 00015: LearningRateScheduler reducing learning rate to 0.0048767497911552955.\n",
      "352/352 [==============================] - 3s 9ms/step - loss: 0.2156 - accuracy: 0.9242 - val_loss: 0.7674 - val_accuracy: 0.7864\n",
      "Epoch 16/30\n",
      "\n",
      "Epoch 00016: LearningRateScheduler reducing learning rate to 0.00463291230159753.\n",
      "352/352 [==============================] - 3s 9ms/step - loss: 0.1671 - accuracy: 0.9438 - val_loss: 0.9341 - val_accuracy: 0.7586\n",
      "Epoch 17/30\n",
      "\n",
      "Epoch 00017: LearningRateScheduler reducing learning rate to 0.0044012666865176535.\n",
      "352/352 [==============================] - 3s 9ms/step - loss: 0.1539 - accuracy: 0.9458 - val_loss: 0.9579 - val_accuracy: 0.7664\n",
      "Epoch 18/30\n",
      "\n",
      "Epoch 00018: LearningRateScheduler reducing learning rate to 0.004181203352191771.\n",
      "352/352 [==============================] - 3s 9ms/step - loss: 0.1187 - accuracy: 0.9595 - val_loss: 1.0766 - val_accuracy: 0.7582\n",
      "Epoch 19/30\n",
      "\n",
      "Epoch 00019: LearningRateScheduler reducing learning rate to 0.003972143184582182.\n",
      "352/352 [==============================] - 3s 9ms/step - loss: 0.1038 - accuracy: 0.9637 - val_loss: 1.0007 - val_accuracy: 0.7808\n",
      "Epoch 20/30\n",
      "\n",
      "Epoch 00020: LearningRateScheduler reducing learning rate to 0.0037735360253530726.\n",
      "352/352 [==============================] - 3s 9ms/step - loss: 0.0876 - accuracy: 0.9700 - val_loss: 1.0818 - val_accuracy: 0.7832\n",
      "Epoch 21/30\n",
      "\n",
      "Epoch 00021: LearningRateScheduler reducing learning rate to 0.0035848592240854188.\n",
      "352/352 [==============================] - 3s 9ms/step - loss: 0.0674 - accuracy: 0.9768 - val_loss: 1.1637 - val_accuracy: 0.7672\n",
      "Epoch 22/30\n",
      "\n",
      "Epoch 00022: LearningRateScheduler reducing learning rate to 0.003405616262881148.\n",
      "352/352 [==============================] - 3s 9ms/step - loss: 0.0618 - accuracy: 0.9779 - val_loss: 1.4126 - val_accuracy: 0.7456\n",
      "Epoch 23/30\n",
      "\n",
      "Epoch 00023: LearningRateScheduler reducing learning rate to 0.0032353354497370902.\n",
      "352/352 [==============================] - 3s 9ms/step - loss: 0.0559 - accuracy: 0.9805 - val_loss: 1.1749 - val_accuracy: 0.7750\n",
      "Epoch 24/30\n",
      "\n",
      "Epoch 00024: LearningRateScheduler reducing learning rate to 0.003073568677250236.\n",
      "352/352 [==============================] - 3s 9ms/step - loss: 0.0419 - accuracy: 0.9861 - val_loss: 1.1966 - val_accuracy: 0.7818\n",
      "Epoch 25/30\n",
      "\n",
      "Epoch 00025: LearningRateScheduler reducing learning rate to 0.002919890243387724.\n",
      "352/352 [==============================] - 3s 9ms/step - loss: 0.0384 - accuracy: 0.9876 - val_loss: 1.2625 - val_accuracy: 0.7820\n",
      "Epoch 26/30\n",
      "\n",
      "Epoch 00026: LearningRateScheduler reducing learning rate to 0.002773895731218338.\n",
      "352/352 [==============================] - 3s 9ms/step - loss: 0.0276 - accuracy: 0.9907 - val_loss: 1.2953 - val_accuracy: 0.7868\n",
      "Epoch 27/30\n",
      "\n",
      "Epoch 00027: LearningRateScheduler reducing learning rate to 0.0026352009446574203.\n",
      "352/352 [==============================] - 3s 9ms/step - loss: 0.0292 - accuracy: 0.9905 - val_loss: 1.1989 - val_accuracy: 0.7920\n",
      "Epoch 28/30\n",
      "\n",
      "Epoch 00028: LearningRateScheduler reducing learning rate to 0.002503440897424549.\n",
      "352/352 [==============================] - 3s 9ms/step - loss: 0.0259 - accuracy: 0.9912 - val_loss: 1.3055 - val_accuracy: 0.7804\n",
      "Epoch 29/30\n",
      "\n",
      "Epoch 00029: LearningRateScheduler reducing learning rate to 0.0023782688525533216.\n",
      "352/352 [==============================] - 3s 9ms/step - loss: 0.0227 - accuracy: 0.9926 - val_loss: 1.4242 - val_accuracy: 0.7678\n",
      "Epoch 30/30\n",
      "\n",
      "Epoch 00030: LearningRateScheduler reducing learning rate to 0.0022593554099256557.\n",
      "352/352 [==============================] - 3s 9ms/step - loss: 0.0209 - accuracy: 0.9926 - val_loss: 1.7516 - val_accuracy: 0.7394\n"
     ]
    }
   ],
   "source": [
    "EPOCHS=30\n",
    "\n",
    "history=model.fit(trainX, trainY, batch_size=128, epochs=EPOCHS, validation_data=(validX, validY), callbacks=[lr])"
   ]
  },
  {
   "cell_type": "code",
   "execution_count": 15,
   "id": "cb70243d",
   "metadata": {},
   "outputs": [
    {
     "name": "stdout",
     "output_type": "stream",
     "text": [
      "313/313 [==============================] - 1s 3ms/step - loss: 1.8325 - accuracy: 0.7265\n"
     ]
    }
   ],
   "source": [
    "test_loss, test_acc = model.evaluate(testX, testY, verbose=1)"
   ]
  },
  {
   "cell_type": "markdown",
   "id": "83af7399",
   "metadata": {},
   "source": [
    "## Plot Training Loss and Validation loss "
   ]
  },
  {
   "cell_type": "code",
   "execution_count": 16,
   "id": "5c025255",
   "metadata": {},
   "outputs": [
    {
     "data": {
      "image/png": "[encoded data removed]",
      "text/plain": [
       "<Figure size 432x288 with 1 Axes>"
      ]
     },
     "metadata": {
      "needs_background": "light"
     },
     "output_type": "display_data"
    }
   ],
   "source": [
    "plt.figure()\n",
    "plt.plot(np.arange(1, EPOCHS+1), history.history['loss'])\n",
    "plt.plot(np.arange(1, EPOCHS+1), history.history['val_loss'])\n",
    "plt.show()"
   ]
  },
  {
   "cell_type": "code",
   "execution_count": 17,
   "id": "f0aa940e",
   "metadata": {},
   "outputs": [
    {
     "data": {
      "image/png": "[encoded data removed]",
      "text/plain": [
       "<Figure size 432x288 with 1 Axes>"
      ]
     },
     "metadata": {
      "needs_background": "light"
     },
     "output_type": "display_data"
    }
   ],
   "source": [
    "plt.figure()\n",
    "plt.plot(np.arange(1, EPOCHS+1), history.history['accuracy'])\n",
    "plt.plot(np.arange(1, EPOCHS+1), history.history['val_accuracy'])\n",
    "plt.show()"
   ]
  }
 ],
 "metadata": {
  "kernelspec": {
   "display_name": "Environment (conda_tensorflow2.4_p37)",
   "language": "python",
   "name": "conda_tensorflow2.4_p37"
  },
  "language_info": {
   "codemirror_mode": {
    "name": "ipython",
    "version": 3
   },
   "file_extension": ".py",
   "mimetype": "text/x-python",
   "name": "python",
   "nbconvert_exporter": "python",
   "pygments_lexer": "ipython3",
   "version": "3.7.10"
  }
 },
 "nbformat": 4,
 "nbformat_minor": 5
}
