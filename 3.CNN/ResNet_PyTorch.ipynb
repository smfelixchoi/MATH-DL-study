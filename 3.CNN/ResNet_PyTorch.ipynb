{
 "cells": [
  {
   "cell_type": "markdown",
   "id": "d0decea1",
   "metadata": {},
   "source": [
    "# ResNet Implementation with PyTorch\n"
   ]
  },
  {
   "cell_type": "code",
   "execution_count": 1,
   "id": "c438aa2d",
   "metadata": {},
   "outputs": [],
   "source": [
    "import numpy as np\n",
    "import matplotlib.pyplot as plt\n",
    "\n",
    "import torch\n",
    "from torch import nn\n",
    "from torch import optim\n",
    "from torchsummary import summary\n",
    "\n",
    "import torchvision\n",
    "import torchvision.transforms as transforms\n",
    "from torchvision.datasets import CIFAR10\n",
    "from torch.utils.data import DataLoader\n",
    "from torch.utils.data import random_split"
   ]
  },
  {
   "cell_type": "code",
   "execution_count": 2,
   "id": "746d9501",
   "metadata": {},
   "outputs": [
    {
     "name": "stdout",
     "output_type": "stream",
     "text": [
      "cuda\n"
     ]
    }
   ],
   "source": [
    "device = torch.device('cuda' if torch.cuda.is_available() else 'cpu')\n",
    "print(device)"
   ]
  },
  {
   "cell_type": "markdown",
   "id": "26121aef",
   "metadata": {},
   "source": [
    "## Download CIFAR10 & Define DataLoader\n",
    "\n",
    "- `ToTensor()` transforms data into `Tensor` type and also normalizes into `[0,1]` range."
   ]
  },
  {
   "cell_type": "code",
   "execution_count": 3,
   "id": "33b14c93",
   "metadata": {
    "id": "d6kxGFAqIETZ"
   },
   "outputs": [
    {
     "name": "stdout",
     "output_type": "stream",
     "text": [
      "Files already downloaded and verified\n",
      "Files already downloaded and verified\n"
     ]
    }
   ],
   "source": [
    "transform = transforms.Compose([transforms.ToTensor()])\n",
    "\n",
    "dataset = CIFAR10(root='', train=True, download=True, transform=transform)\n",
    "testset = CIFAR10(root='', train=False, download=True, transform=transform)"
   ]
  },
  {
   "cell_type": "code",
   "execution_count": 4,
   "id": "1bfabb8d",
   "metadata": {
    "id": "N82C-hZPI3D5"
   },
   "outputs": [
    {
     "data": {
      "text/plain": [
       "(50000, 32, 32, 3)"
      ]
     },
     "execution_count": 4,
     "metadata": {},
     "output_type": "execute_result"
    }
   ],
   "source": [
    "dataset.data.shape"
   ]
  },
  {
   "cell_type": "code",
   "execution_count": 5,
   "id": "6df86e4e",
   "metadata": {},
   "outputs": [
    {
     "data": {
      "text/plain": [
       "(10000, 32, 32, 3)"
      ]
     },
     "execution_count": 5,
     "metadata": {},
     "output_type": "execute_result"
    }
   ],
   "source": [
    "testset.data.shape"
   ]
  },
  {
   "cell_type": "code",
   "execution_count": 6,
   "id": "a25bd687",
   "metadata": {},
   "outputs": [
    {
     "data": {
      "text/plain": [
       "['airplane',\n",
       " 'automobile',\n",
       " 'bird',\n",
       " 'cat',\n",
       " 'deer',\n",
       " 'dog',\n",
       " 'frog',\n",
       " 'horse',\n",
       " 'ship',\n",
       " 'truck']"
      ]
     },
     "execution_count": 6,
     "metadata": {},
     "output_type": "execute_result"
    }
   ],
   "source": [
    "dataset.classes"
   ]
  },
  {
   "cell_type": "code",
   "execution_count": 7,
   "id": "d81a58b2",
   "metadata": {},
   "outputs": [],
   "source": [
    "train_num = int(len(dataset)*0.9)\n",
    "valid_num = len(dataset) - train_num\n",
    "\n",
    "trainset, validset = random_split(dataset, [train_num, valid_num])"
   ]
  },
  {
   "cell_type": "code",
   "execution_count": 8,
   "id": "6aac73e8",
   "metadata": {},
   "outputs": [],
   "source": [
    "batch_size = 128\n",
    "trainloader = DataLoader(trainset, batch_size=batch_size, shuffle=True, num_workers=4)\n",
    "validloader = DataLoader(validset, batch_size=batch_size, shuffle=False, num_workers=4)\n",
    "testloader = DataLoader(testset, batch_size=batch_size, shuffle=False, num_workers=4)"
   ]
  },
  {
   "cell_type": "markdown",
   "id": "253146cc",
   "metadata": {},
   "source": [
    "## Construct Model"
   ]
  },
  {
   "cell_type": "code",
   "execution_count": 9,
   "id": "b6ebab96",
   "metadata": {},
   "outputs": [],
   "source": [
    "class BasicBlock(nn.Module):\n",
    "    def __init__(self, in_planes, out_planes, stride=1):\n",
    "        super(BasicBlock, self).__init__()\n",
    "        \n",
    "        self.residual = nn.Sequential(\n",
    "            nn.Conv2d(in_planes, out_planes, kernel_size=(3,3), stride=stride, padding=1, bias=False),\n",
    "            nn.BatchNorm2d(out_planes),\n",
    "            nn.ReLU(),\n",
    "            nn.Conv2d(out_planes, out_planes, kernel_size=(3,3), stride=1, padding=1, bias=False),\n",
    "            nn.BatchNorm2d(out_planes)\n",
    "        )\n",
    "        \n",
    "        self.shortcut = nn.Sequential()\n",
    "        self.relu = nn.ReLU()\n",
    "        \n",
    "        if stride != 1 or in_planes != out_planes:\n",
    "            self.shortcut.add_module('conv', nn.Conv2d(in_planes, out_planes, kernel_size=1, stride=stride, bias=True))                                     \n",
    "        \n",
    "    def forward(self, x):\n",
    "        x = self.residual(x) + self.shortcut(x)\n",
    "        x = self.relu(x)\n",
    "        return x\n",
    "    "
   ]
  },
  {
   "cell_type": "code",
   "execution_count": 10,
   "id": "c166308b",
   "metadata": {},
   "outputs": [],
   "source": [
    "'''\n",
    "숙제!\n",
    "'''\n",
    "\n",
    "class BottleNeck(nn.Module):\n",
    "    def __init__(self, in_planes, out_planes, stride=1):\n",
    "        super(BottleNeck, self).__init__()\n",
    "        \n",
    "        self.residual = nn.Sequential(\n",
    "            nn.Conv2d(in_planes, out_planes//4, kernel_size=(1,1), stride=stride, padding=0, bias=False),\n",
    "            nn.BatchNorm2d(out_planes//4),\n",
    "            nn.ReLU(),\n",
    "            nn.Conv2d(out_planes//4, out_planes//4, kernel_size=(3,3), stride=1, padding=1, bias=False),\n",
    "            nn.BatchNorm2d(out_planes//4),\n",
    "            nn.ReLU(),\n",
    "            nn.Conv2d(out_planes//4, out_planes, kernel_size=(1,1), stride=1, padding=0, bias=False),\n",
    "            nn.BatchNorm2d(out_planes)\n",
    "        )\n",
    "        \n",
    "        self.shortcut = nn.Sequential()\n",
    "        self.relu = nn.ReLU()\n",
    "        \n",
    "        if stride != 1 or in_planes != out_planes:\n",
    "            self.shortcut.add_module('conv', nn.Conv2d(in_planes, out_planes, kernel_size=1, stride=stride, bias=True))\n",
    "            \n",
    "    def forward(self, x):\n",
    "        x = self.residual(x) + self.shortcut(x)\n",
    "        x = self.relu(x)\n",
    "        return x"
   ]
  },
  {
   "cell_type": "code",
   "execution_count": 11,
   "id": "18eb7781",
   "metadata": {},
   "outputs": [],
   "source": [
    "class ResNet(nn.Module):\n",
    "    def __init__(self, channels, init_weights=True):\n",
    "        super(ResNet,self).__init__()\n",
    "        \n",
    "        self.conv = nn.Conv2d(3, channels[0], kernel_size=7, stride=1, padding=3, bias=False)\n",
    "        self.bn = nn.BatchNorm2d(channels[0])\n",
    "        self.relu = nn.ReLU()\n",
    "        \n",
    "        self.block1 = BasicBlock(channels[0], channels[0], stride=1)\n",
    "        self.block2 = BasicBlock(channels[0], channels[1], stride=2)\n",
    "        self.block3 = BasicBlock(channels[1], channels[2], stride=1)\n",
    "        self.block4 = BasicBlock(channels[2], channels[3], stride=2)\n",
    "        self.block5 = BasicBlock(channels[3], channels[4], stride=2)\n",
    "        self.block6 = BasicBlock(channels[4], channels[4], stride=1)\n",
    "        \n",
    "        self.avgpool = nn.AvgPool2d(kernel_size=(4,4))\n",
    "        \n",
    "        self.fc1 = nn.Linear(channels[4], channels[4]//4, bias=False)\n",
    "        self.bn1 = nn.BatchNorm1d(channels[4]//4)\n",
    "        self.fc2 = nn.Linear(channels[4]//4, 10, bias=True)\n",
    "        \n",
    "        if init_weights:\n",
    "            self.initialize_weights()\n",
    "        \n",
    "    def forward(self, x):\n",
    "        x = self.conv(x)\n",
    "        x = self.bn(x)\n",
    "        x = self.relu(x)\n",
    "        \n",
    "        x = self.block1(x)      \n",
    "        x = self.block2(x)\n",
    "        x = self.block3(x)\n",
    "        x = self.block4(x)\n",
    "        x = self.block5(x)\n",
    "        x = self.block6(x)        \n",
    "        \n",
    "        x = self.avgpool(x)\n",
    "        x = x.view(x.size(0),-1)\n",
    "        \n",
    "        x = self.fc1(x)\n",
    "        x = self.bn1(x)\n",
    "        x = self.relu(x)\n",
    "        x = self.fc2(x)\n",
    "        return x\n",
    "    \n",
    "    def initialize_weights(self):\n",
    "        for m in self.modules():\n",
    "            if isinstance(m, nn.Conv2d):\n",
    "                nn.init.kaiming_normal_(m.weight, mode='fan_out', nonlinearity='relu')\n",
    "                if m.bias is not None:\n",
    "                    nn.init.constant_(m.bias,0)\n",
    "            elif isinstance(m, nn.BatchNorm2d):\n",
    "                nn.init.constant_(m.weight, 1)\n",
    "                nn.init.constant_(m.bias, 0)\n",
    "            elif isinstance(m, nn.BatchNorm1d):\n",
    "                nn.init.constant_(m.weight, 1)\n",
    "                nn.init.constant_(m.bias, 0)\n",
    "            elif isinstance(m, nn.Linear):\n",
    "                nn.init.kaiming_normal_(m.weight, mode='fan_out', nonlinearity='relu')\n",
    "                if m.bias is not None:\n",
    "                    nn.init.constant_(m.bias,0)"
   ]
  },
  {
   "cell_type": "code",
   "execution_count": 12,
   "id": "344164d0",
   "metadata": {},
   "outputs": [],
   "source": [
    "model = ResNet(channels=[16,16,32,64,128]).to(device)"
   ]
  },
  {
   "cell_type": "code",
   "execution_count": 13,
   "id": "f389695c",
   "metadata": {
    "scrolled": true
   },
   "outputs": [
    {
     "name": "stdout",
     "output_type": "stream",
     "text": [
      "----------------------------------------------------------------\n",
      "        Layer (type)               Output Shape         Param #\n",
      "================================================================\n",
      "            Conv2d-1           [-1, 16, 32, 32]           2,352\n",
      "       BatchNorm2d-2           [-1, 16, 32, 32]              32\n",
      "              ReLU-3           [-1, 16, 32, 32]               0\n",
      "            Conv2d-4           [-1, 16, 32, 32]           2,304\n",
      "       BatchNorm2d-5           [-1, 16, 32, 32]              32\n",
      "              ReLU-6           [-1, 16, 32, 32]               0\n",
      "            Conv2d-7           [-1, 16, 32, 32]           2,304\n",
      "       BatchNorm2d-8           [-1, 16, 32, 32]              32\n",
      "              ReLU-9           [-1, 16, 32, 32]               0\n",
      "       BasicBlock-10           [-1, 16, 32, 32]               0\n",
      "           Conv2d-11           [-1, 16, 16, 16]           2,304\n",
      "      BatchNorm2d-12           [-1, 16, 16, 16]              32\n",
      "             ReLU-13           [-1, 16, 16, 16]               0\n",
      "           Conv2d-14           [-1, 16, 16, 16]           2,304\n",
      "      BatchNorm2d-15           [-1, 16, 16, 16]              32\n",
      "           Conv2d-16           [-1, 16, 16, 16]             272\n",
      "             ReLU-17           [-1, 16, 16, 16]               0\n",
      "       BasicBlock-18           [-1, 16, 16, 16]               0\n",
      "           Conv2d-19           [-1, 32, 16, 16]           4,608\n",
      "      BatchNorm2d-20           [-1, 32, 16, 16]              64\n",
      "             ReLU-21           [-1, 32, 16, 16]               0\n",
      "           Conv2d-22           [-1, 32, 16, 16]           9,216\n",
      "      BatchNorm2d-23           [-1, 32, 16, 16]              64\n",
      "           Conv2d-24           [-1, 32, 16, 16]             544\n",
      "             ReLU-25           [-1, 32, 16, 16]               0\n",
      "       BasicBlock-26           [-1, 32, 16, 16]               0\n",
      "           Conv2d-27             [-1, 64, 8, 8]          18,432\n",
      "      BatchNorm2d-28             [-1, 64, 8, 8]             128\n",
      "             ReLU-29             [-1, 64, 8, 8]               0\n",
      "           Conv2d-30             [-1, 64, 8, 8]          36,864\n",
      "      BatchNorm2d-31             [-1, 64, 8, 8]             128\n",
      "           Conv2d-32             [-1, 64, 8, 8]           2,112\n",
      "             ReLU-33             [-1, 64, 8, 8]               0\n",
      "       BasicBlock-34             [-1, 64, 8, 8]               0\n",
      "           Conv2d-35            [-1, 128, 4, 4]          73,728\n",
      "      BatchNorm2d-36            [-1, 128, 4, 4]             256\n",
      "             ReLU-37            [-1, 128, 4, 4]               0\n",
      "           Conv2d-38            [-1, 128, 4, 4]         147,456\n",
      "      BatchNorm2d-39            [-1, 128, 4, 4]             256\n",
      "           Conv2d-40            [-1, 128, 4, 4]           8,320\n",
      "             ReLU-41            [-1, 128, 4, 4]               0\n",
      "       BasicBlock-42            [-1, 128, 4, 4]               0\n",
      "           Conv2d-43            [-1, 128, 4, 4]         147,456\n",
      "      BatchNorm2d-44            [-1, 128, 4, 4]             256\n",
      "             ReLU-45            [-1, 128, 4, 4]               0\n",
      "           Conv2d-46            [-1, 128, 4, 4]         147,456\n",
      "      BatchNorm2d-47            [-1, 128, 4, 4]             256\n",
      "             ReLU-48            [-1, 128, 4, 4]               0\n",
      "       BasicBlock-49            [-1, 128, 4, 4]               0\n",
      "        AvgPool2d-50            [-1, 128, 1, 1]               0\n",
      "           Linear-51                   [-1, 32]           4,096\n",
      "      BatchNorm1d-52                   [-1, 32]              64\n",
      "             ReLU-53                   [-1, 32]               0\n",
      "           Linear-54                   [-1, 10]             330\n",
      "================================================================\n",
      "Total params: 614,090\n",
      "Trainable params: 614,090\n",
      "Non-trainable params: 0\n",
      "----------------------------------------------------------------\n",
      "Input size (MB): 0.01\n",
      "Forward/backward pass size (MB): 2.49\n",
      "Params size (MB): 2.34\n",
      "Estimated Total Size (MB): 4.84\n",
      "----------------------------------------------------------------\n"
     ]
    }
   ],
   "source": [
    "summary(model,input_size=(3,32,32), device='cuda')"
   ]
  },
  {
   "cell_type": "code",
   "execution_count": 14,
   "id": "032f5c0a",
   "metadata": {},
   "outputs": [
    {
     "name": "stdout",
     "output_type": "stream",
     "text": [
      "Adjusting learning rate of group 0 to 1.0000e-02.\n"
     ]
    }
   ],
   "source": [
    "loss_ftn = nn.CrossEntropyLoss()\n",
    "optimizer = optim.Adam(model.parameters(), lr=0.01)\n",
    "scheduler = optim.lr_scheduler.LambdaLR(optimizer=optimizer,\n",
    "                                        lr_lambda=lambda epoch: 0.95 ** epoch,\n",
    "                                        last_epoch=-1,\n",
    "                                        verbose=True)"
   ]
  },
  {
   "cell_type": "code",
   "execution_count": 15,
   "id": "e4f7749f",
   "metadata": {},
   "outputs": [],
   "source": [
    "from tqdm import tqdm \n",
    "\n",
    "def train(net, trainloader, validloader, epochs, device, loss_ftn, optimizer, scheduler=None, temperature=None):\n",
    "    losses = []\n",
    "    accs = []\n",
    "    valid_losses = []\n",
    "    valid_accs = []\n",
    "    \n",
    "    for epoch in range(epochs):\n",
    "        running_loss = 0\n",
    "        valid_loss = 0\n",
    "        correct = 0\n",
    "        total = 0\n",
    "        valid_correct = 0\n",
    "        valid_total = 0\n",
    "        num_iter = 0\n",
    "\n",
    "        for i, data in tqdm(enumerate(trainloader, 0)):\n",
    "            inputs, labels = data\n",
    "\n",
    "            inputs = inputs.to(device)\n",
    "            labels = labels.to(device)\n",
    "\n",
    "            optimizer.zero_grad()\n",
    "\n",
    "            outputs = net(inputs)\n",
    "            loss = loss_ftn(outputs, labels)\n",
    "            loss.backward()\n",
    "            optimizer.step()\n",
    "\n",
    "            num_iter += 1\n",
    "            running_loss += loss.item()\n",
    "\n",
    "            _, predicted = torch.max(outputs.data, 1)\n",
    "            total += labels.size(0)\n",
    "            correct += (predicted == labels).sum().item()\n",
    "\n",
    "        accuracy = (correct/total)*100\n",
    "        losses.append(running_loss/num_iter)\n",
    "        accs.append(accuracy)\n",
    "        \n",
    "        valid_num_iter = 0\n",
    "        with torch.no_grad():\n",
    "            for data in validloader:\n",
    "                images, labels = data\n",
    "\n",
    "                images = images.to(device)\n",
    "                labels = labels.to(device)\n",
    "\n",
    "                # calculate outputs by running images through the network\n",
    "                outputs = net(images)\n",
    "                loss = loss_ftn(outputs, labels)\n",
    "                \n",
    "                valid_num_iter += 1\n",
    "                valid_loss += loss.item()\n",
    "\n",
    "                # the class with the highest energy is what we choose as prediction\n",
    "                _, predicted = torch.max(outputs.data, 1)\n",
    "                valid_total += labels.size(0)\n",
    "                valid_correct += (predicted == labels).sum().item()\n",
    "\n",
    "        valid_accuracy = (valid_correct/valid_total)*100\n",
    "        valid_losses.append(valid_loss/valid_num_iter)\n",
    "        valid_accs.append(valid_accuracy)\n",
    "\n",
    "        print('EPOCH %d Completed. \\n Training Loss: %.3f, Training Accuracy: %.2f, Validation Loss: %.3f, Validation Accuracy: %.2f \\n' \n",
    "              %(epoch+1, running_loss/num_iter, accuracy, valid_loss/valid_num_iter, valid_accuracy))\n",
    "            \n",
    "        if scheduler is not None:\n",
    "            scheduler.step()\n",
    "                        \n",
    "    return losses, accs, valid_losses, valid_accs"
   ]
  },
  {
   "cell_type": "code",
   "execution_count": 16,
   "id": "e9d823b8",
   "metadata": {},
   "outputs": [],
   "source": [
    "def test(net, testloader, device):\n",
    "    correct = 0\n",
    "    total = 0\n",
    "    \n",
    "    with torch.no_grad():\n",
    "        for data in tqdm(testloader):\n",
    "            images, labels = data\n",
    "\n",
    "            images = images.to(device)\n",
    "            labels = labels.to(device)\n",
    "\n",
    "            # calculate outputs by running images through the network\n",
    "            outputs = net(images)\n",
    "\n",
    "            # the class with the highest energy is what we choose as prediction\n",
    "            _, predicted = torch.max(outputs.data, 1)\n",
    "            total += labels.size(0)\n",
    "            correct += (predicted == labels).sum().item()\n",
    "\n",
    "    print(f'Accuracy of the network on 10000 test images: {100 * correct / total} %')"
   ]
  },
  {
   "cell_type": "code",
   "execution_count": 17,
   "id": "4cabcf6e",
   "metadata": {
    "scrolled": true
   },
   "outputs": [
    {
     "name": "stderr",
     "output_type": "stream",
     "text": [
      "352it [00:05, 67.72it/s]\n"
     ]
    },
    {
     "name": "stdout",
     "output_type": "stream",
     "text": [
      "EPOCH 1 Completed. \n",
      " Training Loss: 1.696, Training Accuracy: 36.85, Validation Loss: 1.429, Validation Accuracy: 47.62 \n",
      "\n",
      "Adjusting learning rate of group 0 to 9.5000e-03.\n"
     ]
    },
    {
     "name": "stderr",
     "output_type": "stream",
     "text": [
      "352it [00:05, 65.92it/s]\n"
     ]
    },
    {
     "name": "stdout",
     "output_type": "stream",
     "text": [
      "EPOCH 2 Completed. \n",
      " Training Loss: 1.321, Training Accuracy: 51.78, Validation Loss: 1.194, Validation Accuracy: 56.66 \n",
      "\n",
      "Adjusting learning rate of group 0 to 9.0250e-03.\n"
     ]
    },
    {
     "name": "stderr",
     "output_type": "stream",
     "text": [
      "352it [00:05, 64.87it/s]\n"
     ]
    },
    {
     "name": "stdout",
     "output_type": "stream",
     "text": [
      "EPOCH 3 Completed. \n",
      " Training Loss: 1.076, Training Accuracy: 61.51, Validation Loss: 1.021, Validation Accuracy: 63.54 \n",
      "\n",
      "Adjusting learning rate of group 0 to 8.5737e-03.\n"
     ]
    },
    {
     "name": "stderr",
     "output_type": "stream",
     "text": [
      "352it [00:05, 64.87it/s]\n"
     ]
    },
    {
     "name": "stdout",
     "output_type": "stream",
     "text": [
      "EPOCH 4 Completed. \n",
      " Training Loss: 0.888, Training Accuracy: 68.63, Validation Loss: 0.905, Validation Accuracy: 67.90 \n",
      "\n",
      "Adjusting learning rate of group 0 to 8.1451e-03.\n"
     ]
    },
    {
     "name": "stderr",
     "output_type": "stream",
     "text": [
      "352it [00:06, 53.32it/s]\n"
     ]
    },
    {
     "name": "stdout",
     "output_type": "stream",
     "text": [
      "EPOCH 5 Completed. \n",
      " Training Loss: 0.763, Training Accuracy: 73.03, Validation Loss: 0.825, Validation Accuracy: 71.34 \n",
      "\n",
      "Adjusting learning rate of group 0 to 7.7378e-03.\n"
     ]
    },
    {
     "name": "stderr",
     "output_type": "stream",
     "text": [
      "352it [00:05, 65.26it/s]\n"
     ]
    },
    {
     "name": "stdout",
     "output_type": "stream",
     "text": [
      "EPOCH 6 Completed. \n",
      " Training Loss: 0.652, Training Accuracy: 77.20, Validation Loss: 0.797, Validation Accuracy: 72.76 \n",
      "\n",
      "Adjusting learning rate of group 0 to 7.3509e-03.\n"
     ]
    },
    {
     "name": "stderr",
     "output_type": "stream",
     "text": [
      "352it [00:05, 63.81it/s]\n"
     ]
    },
    {
     "name": "stdout",
     "output_type": "stream",
     "text": [
      "EPOCH 7 Completed. \n",
      " Training Loss: 0.559, Training Accuracy: 80.36, Validation Loss: 0.797, Validation Accuracy: 73.60 \n",
      "\n",
      "Adjusting learning rate of group 0 to 6.9834e-03.\n"
     ]
    },
    {
     "name": "stderr",
     "output_type": "stream",
     "text": [
      "352it [00:05, 66.73it/s]\n"
     ]
    },
    {
     "name": "stdout",
     "output_type": "stream",
     "text": [
      "EPOCH 8 Completed. \n",
      " Training Loss: 0.473, Training Accuracy: 83.52, Validation Loss: 0.749, Validation Accuracy: 75.20 \n",
      "\n",
      "Adjusting learning rate of group 0 to 6.6342e-03.\n"
     ]
    },
    {
     "name": "stderr",
     "output_type": "stream",
     "text": [
      "352it [00:05, 63.96it/s]\n"
     ]
    },
    {
     "name": "stdout",
     "output_type": "stream",
     "text": [
      "EPOCH 9 Completed. \n",
      " Training Loss: 0.394, Training Accuracy: 86.19, Validation Loss: 0.788, Validation Accuracy: 74.96 \n",
      "\n",
      "Adjusting learning rate of group 0 to 6.3025e-03.\n"
     ]
    },
    {
     "name": "stderr",
     "output_type": "stream",
     "text": [
      "352it [00:05, 60.57it/s]\n"
     ]
    },
    {
     "name": "stdout",
     "output_type": "stream",
     "text": [
      "EPOCH 10 Completed. \n",
      " Training Loss: 0.314, Training Accuracy: 88.92, Validation Loss: 0.862, Validation Accuracy: 74.60 \n",
      "\n",
      "Adjusting learning rate of group 0 to 5.9874e-03.\n"
     ]
    },
    {
     "name": "stderr",
     "output_type": "stream",
     "text": [
      "352it [00:06, 56.08it/s]\n"
     ]
    },
    {
     "name": "stdout",
     "output_type": "stream",
     "text": [
      "EPOCH 11 Completed. \n",
      " Training Loss: 0.250, Training Accuracy: 91.24, Validation Loss: 0.933, Validation Accuracy: 75.18 \n",
      "\n",
      "Adjusting learning rate of group 0 to 5.6880e-03.\n"
     ]
    },
    {
     "name": "stderr",
     "output_type": "stream",
     "text": [
      "352it [00:06, 55.89it/s]\n"
     ]
    },
    {
     "name": "stdout",
     "output_type": "stream",
     "text": [
      "EPOCH 12 Completed. \n",
      " Training Loss: 0.196, Training Accuracy: 93.06, Validation Loss: 0.976, Validation Accuracy: 74.38 \n",
      "\n",
      "Adjusting learning rate of group 0 to 5.4036e-03.\n"
     ]
    },
    {
     "name": "stderr",
     "output_type": "stream",
     "text": [
      "352it [00:06, 56.31it/s]\n"
     ]
    },
    {
     "name": "stdout",
     "output_type": "stream",
     "text": [
      "EPOCH 13 Completed. \n",
      " Training Loss: 0.144, Training Accuracy: 94.92, Validation Loss: 1.062, Validation Accuracy: 74.30 \n",
      "\n",
      "Adjusting learning rate of group 0 to 5.1334e-03.\n"
     ]
    },
    {
     "name": "stderr",
     "output_type": "stream",
     "text": [
      "352it [00:06, 56.53it/s]\n"
     ]
    },
    {
     "name": "stdout",
     "output_type": "stream",
     "text": [
      "EPOCH 14 Completed. \n",
      " Training Loss: 0.107, Training Accuracy: 96.20, Validation Loss: 1.091, Validation Accuracy: 75.48 \n",
      "\n",
      "Adjusting learning rate of group 0 to 4.8767e-03.\n"
     ]
    },
    {
     "name": "stderr",
     "output_type": "stream",
     "text": [
      "352it [00:06, 56.27it/s]\n"
     ]
    },
    {
     "name": "stdout",
     "output_type": "stream",
     "text": [
      "EPOCH 15 Completed. \n",
      " Training Loss: 0.093, Training Accuracy: 96.67, Validation Loss: 1.214, Validation Accuracy: 75.22 \n",
      "\n",
      "Adjusting learning rate of group 0 to 4.6329e-03.\n"
     ]
    },
    {
     "name": "stderr",
     "output_type": "stream",
     "text": [
      "352it [00:06, 55.93it/s]\n"
     ]
    },
    {
     "name": "stdout",
     "output_type": "stream",
     "text": [
      "EPOCH 16 Completed. \n",
      " Training Loss: 0.071, Training Accuracy: 97.58, Validation Loss: 1.241, Validation Accuracy: 75.36 \n",
      "\n",
      "Adjusting learning rate of group 0 to 4.4013e-03.\n"
     ]
    },
    {
     "name": "stderr",
     "output_type": "stream",
     "text": [
      "352it [00:05, 60.92it/s]\n"
     ]
    },
    {
     "name": "stdout",
     "output_type": "stream",
     "text": [
      "EPOCH 17 Completed. \n",
      " Training Loss: 0.061, Training Accuracy: 97.91, Validation Loss: 1.307, Validation Accuracy: 75.68 \n",
      "\n",
      "Adjusting learning rate of group 0 to 4.1812e-03.\n"
     ]
    },
    {
     "name": "stderr",
     "output_type": "stream",
     "text": [
      "352it [00:05, 65.80it/s]\n"
     ]
    },
    {
     "name": "stdout",
     "output_type": "stream",
     "text": [
      "EPOCH 18 Completed. \n",
      " Training Loss: 0.052, Training Accuracy: 98.18, Validation Loss: 1.358, Validation Accuracy: 74.80 \n",
      "\n",
      "Adjusting learning rate of group 0 to 3.9721e-03.\n"
     ]
    },
    {
     "name": "stderr",
     "output_type": "stream",
     "text": [
      "352it [00:05, 67.07it/s]\n"
     ]
    },
    {
     "name": "stdout",
     "output_type": "stream",
     "text": [
      "EPOCH 19 Completed. \n",
      " Training Loss: 0.048, Training Accuracy: 98.28, Validation Loss: 1.402, Validation Accuracy: 75.30 \n",
      "\n",
      "Adjusting learning rate of group 0 to 3.7735e-03.\n"
     ]
    },
    {
     "name": "stderr",
     "output_type": "stream",
     "text": [
      "352it [00:06, 58.02it/s]\n"
     ]
    },
    {
     "name": "stdout",
     "output_type": "stream",
     "text": [
      "EPOCH 20 Completed. \n",
      " Training Loss: 0.041, Training Accuracy: 98.62, Validation Loss: 1.482, Validation Accuracy: 74.76 \n",
      "\n",
      "Adjusting learning rate of group 0 to 3.5849e-03.\n"
     ]
    },
    {
     "name": "stderr",
     "output_type": "stream",
     "text": [
      "352it [00:05, 66.04it/s]\n"
     ]
    },
    {
     "name": "stdout",
     "output_type": "stream",
     "text": [
      "EPOCH 21 Completed. \n",
      " Training Loss: 0.032, Training Accuracy: 98.96, Validation Loss: 1.465, Validation Accuracy: 75.04 \n",
      "\n",
      "Adjusting learning rate of group 0 to 3.4056e-03.\n"
     ]
    },
    {
     "name": "stderr",
     "output_type": "stream",
     "text": [
      "352it [00:05, 66.46it/s]\n"
     ]
    },
    {
     "name": "stdout",
     "output_type": "stream",
     "text": [
      "EPOCH 22 Completed. \n",
      " Training Loss: 0.027, Training Accuracy: 99.13, Validation Loss: 1.559, Validation Accuracy: 75.30 \n",
      "\n",
      "Adjusting learning rate of group 0 to 3.2353e-03.\n"
     ]
    },
    {
     "name": "stderr",
     "output_type": "stream",
     "text": [
      "352it [00:05, 67.12it/s]\n"
     ]
    },
    {
     "name": "stdout",
     "output_type": "stream",
     "text": [
      "EPOCH 23 Completed. \n",
      " Training Loss: 0.025, Training Accuracy: 99.19, Validation Loss: 1.555, Validation Accuracy: 74.46 \n",
      "\n",
      "Adjusting learning rate of group 0 to 3.0736e-03.\n"
     ]
    },
    {
     "name": "stderr",
     "output_type": "stream",
     "text": [
      "352it [00:05, 63.89it/s]\n"
     ]
    },
    {
     "name": "stdout",
     "output_type": "stream",
     "text": [
      "EPOCH 24 Completed. \n",
      " Training Loss: 0.026, Training Accuracy: 99.11, Validation Loss: 1.580, Validation Accuracy: 74.94 \n",
      "\n",
      "Adjusting learning rate of group 0 to 2.9199e-03.\n"
     ]
    },
    {
     "name": "stderr",
     "output_type": "stream",
     "text": [
      "352it [00:05, 61.56it/s]\n"
     ]
    },
    {
     "name": "stdout",
     "output_type": "stream",
     "text": [
      "EPOCH 25 Completed. \n",
      " Training Loss: 0.017, Training Accuracy: 99.43, Validation Loss: 1.616, Validation Accuracy: 75.24 \n",
      "\n",
      "Adjusting learning rate of group 0 to 2.7739e-03.\n"
     ]
    },
    {
     "name": "stderr",
     "output_type": "stream",
     "text": [
      "352it [00:05, 63.63it/s]\n"
     ]
    },
    {
     "name": "stdout",
     "output_type": "stream",
     "text": [
      "EPOCH 26 Completed. \n",
      " Training Loss: 0.017, Training Accuracy: 99.42, Validation Loss: 1.654, Validation Accuracy: 75.76 \n",
      "\n",
      "Adjusting learning rate of group 0 to 2.6352e-03.\n"
     ]
    },
    {
     "name": "stderr",
     "output_type": "stream",
     "text": [
      "352it [00:05, 67.01it/s]\n"
     ]
    },
    {
     "name": "stdout",
     "output_type": "stream",
     "text": [
      "EPOCH 27 Completed. \n",
      " Training Loss: 0.012, Training Accuracy: 99.56, Validation Loss: 1.659, Validation Accuracy: 75.86 \n",
      "\n",
      "Adjusting learning rate of group 0 to 2.5034e-03.\n"
     ]
    },
    {
     "name": "stderr",
     "output_type": "stream",
     "text": [
      "352it [00:05, 65.49it/s]\n"
     ]
    },
    {
     "name": "stdout",
     "output_type": "stream",
     "text": [
      "EPOCH 28 Completed. \n",
      " Training Loss: 0.015, Training Accuracy: 99.49, Validation Loss: 1.734, Validation Accuracy: 75.82 \n",
      "\n",
      "Adjusting learning rate of group 0 to 2.3783e-03.\n"
     ]
    },
    {
     "name": "stderr",
     "output_type": "stream",
     "text": [
      "352it [00:05, 65.34it/s]\n"
     ]
    },
    {
     "name": "stdout",
     "output_type": "stream",
     "text": [
      "EPOCH 29 Completed. \n",
      " Training Loss: 0.016, Training Accuracy: 99.47, Validation Loss: 1.769, Validation Accuracy: 75.24 \n",
      "\n",
      "Adjusting learning rate of group 0 to 2.2594e-03.\n"
     ]
    },
    {
     "name": "stderr",
     "output_type": "stream",
     "text": [
      "352it [00:06, 57.37it/s]\n"
     ]
    },
    {
     "name": "stdout",
     "output_type": "stream",
     "text": [
      "EPOCH 30 Completed. \n",
      " Training Loss: 0.012, Training Accuracy: 99.60, Validation Loss: 1.729, Validation Accuracy: 75.34 \n",
      "\n",
      "Adjusting learning rate of group 0 to 2.1464e-03.\n"
     ]
    }
   ],
   "source": [
    "EPOCHS=30\n",
    "\n",
    "losses, accs, valid_losses, valid_accs = train(model, trainloader, validloader, EPOCHS, device, \n",
    "                                               loss_ftn, optimizer, scheduler=scheduler)"
   ]
  },
  {
   "cell_type": "code",
   "execution_count": 18,
   "id": "2af725b6",
   "metadata": {},
   "outputs": [
    {
     "name": "stderr",
     "output_type": "stream",
     "text": [
      "100%|██████████| 79/79 [00:00<00:00, 120.42it/s]"
     ]
    },
    {
     "name": "stdout",
     "output_type": "stream",
     "text": [
      "Accuracy of the network on 10000 test images: 75.11 %\n"
     ]
    },
    {
     "name": "stderr",
     "output_type": "stream",
     "text": [
      "\n"
     ]
    }
   ],
   "source": [
    "test(model, testloader, device)"
   ]
  },
  {
   "cell_type": "code",
   "execution_count": 20,
   "id": "96d4cae9",
   "metadata": {},
   "outputs": [
    {
     "data": {
      "image/png": "[encoded data removed]",
      "text/plain": [
       "<Figure size 432x288 with 1 Axes>"
      ]
     },
     "metadata": {
      "needs_background": "light"
     },
     "output_type": "display_data"
    }
   ],
   "source": [
    "plt.figure()\n",
    "plt.plot(np.arange(1, EPOCHS+1), losses)\n",
    "plt.plot(np.arange(1, EPOCHS+1), valid_losses)\n",
    "plt.show()"
   ]
  },
  {
   "cell_type": "code",
   "execution_count": 21,
   "id": "652e52a2",
   "metadata": {},
   "outputs": [
    {
     "data": {
      "image/png": "[encoded data removed]",
      "text/plain": [
       "<Figure size 432x288 with 1 Axes>"
      ]
     },
     "metadata": {
      "needs_background": "light"
     },
     "output_type": "display_data"
    }
   ],
   "source": [
    "plt.figure()\n",
    "plt.plot(np.arange(1, EPOCHS+1), accs)\n",
    "plt.plot(np.arange(1, EPOCHS+1), valid_accs)\n",
    "plt.show()"
   ]
  },
  {
   "cell_type": "code",
   "execution_count": null,
   "id": "d8567d4d",
   "metadata": {},
   "outputs": [],
   "source": []
  }
 ],
 "metadata": {
  "kernelspec": {
   "display_name": "Environment (conda_pytorch1.7.1_p37)",
   "language": "python",
   "name": "conda_pytorch1.7.1_p37"
  },
  "language_info": {
   "codemirror_mode": {
    "name": "ipython",
    "version": 3
   },
   "file_extension": ".py",
   "mimetype": "text/x-python",
   "name": "python",
   "nbconvert_exporter": "python",
   "pygments_lexer": "ipython3",
   "version": "3.7.10"
  }
 },
 "nbformat": 4,
 "nbformat_minor": 5
}
