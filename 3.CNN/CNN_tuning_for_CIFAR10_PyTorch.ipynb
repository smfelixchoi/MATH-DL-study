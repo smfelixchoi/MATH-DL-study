{
 "cells": [
  {
   "cell_type": "markdown",
   "id": "5a3094c2",
   "metadata": {},
   "source": [
    "[Learning rate scheduler](https://sanghyu.tistory.com/113)\n",
    "\n",
    "[Image Data Augmentation](http://incredible.ai/pytorch/2020/04/25/Pytorch-Image-Augmentation/)"
   ]
  },
  {
   "cell_type": "code",
   "execution_count": 1,
   "id": "f3ec9b6e",
   "metadata": {},
   "outputs": [],
   "source": [
    "import numpy as np\n",
    "import matplotlib.pyplot as plt\n",
    "\n",
    "import torch\n",
    "from torch import nn\n",
    "from torch import optim\n",
    "from torchsummary import summary\n",
    "\n",
    "import torchvision\n",
    "import torchvision.transforms as transforms\n",
    "from torchvision.datasets import CIFAR10\n",
    "from torch.utils.data import DataLoader\n",
    "from torch.utils.data import random_split\n",
    "\n",
    "from utils import train, test"
   ]
  },
  {
   "cell_type": "code",
   "execution_count": 2,
   "id": "fc0ec513",
   "metadata": {},
   "outputs": [
    {
     "name": "stdout",
     "output_type": "stream",
     "text": [
      "cuda\n"
     ]
    }
   ],
   "source": [
    "device = torch.device('cuda' if torch.cuda.is_available() else 'cpu')\n",
    "print(device)"
   ]
  },
  {
   "cell_type": "code",
   "execution_count": 3,
   "id": "d26d28a5",
   "metadata": {},
   "outputs": [
    {
     "name": "stdout",
     "output_type": "stream",
     "text": [
      "Files already downloaded and verified\n",
      "Files already downloaded and verified\n"
     ]
    }
   ],
   "source": [
    "transform_train = transforms.Compose([transforms.ToTensor()])\n",
    "transform_test = transforms.Compose([transforms.ToTensor()])\n",
    "\n",
    "dataset = CIFAR10(root='./', train=True, download=True, transform=transform_train)\n",
    "testset = CIFAR10(root='./', train=False, download=True, transform=transform_test)"
   ]
  },
  {
   "cell_type": "code",
   "execution_count": 4,
   "id": "e7045bc8",
   "metadata": {},
   "outputs": [],
   "source": [
    "train_num = int(len(dataset)*0.9)\n",
    "valid_num = len(dataset) - train_num\n",
    "\n",
    "trainset, validset = random_split(dataset, [train_num, valid_num])"
   ]
  },
  {
   "cell_type": "code",
   "execution_count": 5,
   "id": "c2d12d7f",
   "metadata": {},
   "outputs": [],
   "source": [
    "batch_size = 128\n",
    "trainloader = DataLoader(trainset, batch_size=batch_size, shuffle=True, num_workers=6)\n",
    "validloader = DataLoader(validset, batch_size=batch_size, shuffle=False, num_workers=6)\n",
    "testloader = DataLoader(testset, batch_size=batch_size, shuffle=False, num_workers=6)"
   ]
  },
  {
   "cell_type": "code",
   "execution_count": 6,
   "id": "e266a46c",
   "metadata": {},
   "outputs": [],
   "source": [
    "from models import MobileNet"
   ]
  },
  {
   "cell_type": "code",
   "execution_count": 7,
   "id": "06df30c3",
   "metadata": {
    "scrolled": true
   },
   "outputs": [
    {
     "name": "stdout",
     "output_type": "stream",
     "text": [
      "----------------------------------------------------------------\n",
      "        Layer (type)               Output Shape         Param #\n",
      "================================================================\n",
      "            Conv2d-1           [-1, 16, 32, 32]           2,352\n",
      "       BatchNorm2d-2           [-1, 16, 32, 32]              32\n",
      "              ReLU-3           [-1, 16, 32, 32]               0\n",
      "            Conv2d-4           [-1, 16, 32, 32]             144\n",
      "       BatchNorm2d-5           [-1, 16, 32, 32]              32\n",
      "              ReLU-6           [-1, 16, 32, 32]               0\n",
      "            Conv2d-7           [-1, 16, 32, 32]             256\n",
      "       BatchNorm2d-8           [-1, 16, 32, 32]              32\n",
      "              ReLU-9           [-1, 16, 32, 32]               0\n",
      "        MaxPool2d-10           [-1, 16, 16, 16]               0\n",
      "           Conv2d-11           [-1, 16, 16, 16]             144\n",
      "      BatchNorm2d-12           [-1, 16, 16, 16]              32\n",
      "             ReLU-13           [-1, 16, 16, 16]               0\n",
      "           Conv2d-14           [-1, 32, 16, 16]             512\n",
      "      BatchNorm2d-15           [-1, 32, 16, 16]              64\n",
      "             ReLU-16           [-1, 32, 16, 16]               0\n",
      "        MaxPool2d-17             [-1, 32, 8, 8]               0\n",
      "           Conv2d-18             [-1, 32, 8, 8]             288\n",
      "      BatchNorm2d-19             [-1, 32, 8, 8]              64\n",
      "             ReLU-20             [-1, 32, 8, 8]               0\n",
      "           Conv2d-21             [-1, 64, 8, 8]           2,048\n",
      "      BatchNorm2d-22             [-1, 64, 8, 8]             128\n",
      "             ReLU-23             [-1, 64, 8, 8]               0\n",
      "        MaxPool2d-24             [-1, 64, 4, 4]               0\n",
      "           Conv2d-25             [-1, 64, 4, 4]             576\n",
      "      BatchNorm2d-26             [-1, 64, 4, 4]             128\n",
      "             ReLU-27             [-1, 64, 4, 4]               0\n",
      "           Conv2d-28            [-1, 128, 4, 4]           8,192\n",
      "      BatchNorm2d-29            [-1, 128, 4, 4]             256\n",
      "             ReLU-30            [-1, 128, 4, 4]               0\n",
      "        AvgPool2d-31            [-1, 128, 1, 1]               0\n",
      "           Linear-32                   [-1, 32]           4,096\n",
      "      BatchNorm1d-33                   [-1, 32]              64\n",
      "             ReLU-34                   [-1, 32]               0\n",
      "           Linear-35                   [-1, 10]             330\n",
      "================================================================\n",
      "Total params: 19,770\n",
      "Trainable params: 19,770\n",
      "Non-trainable params: 0\n",
      "----------------------------------------------------------------\n",
      "Input size (MB): 0.01\n",
      "Forward/backward pass size (MB): 1.67\n",
      "Params size (MB): 0.08\n",
      "Estimated Total Size (MB): 1.76\n",
      "----------------------------------------------------------------\n"
     ]
    }
   ],
   "source": [
    "model = MobileNet(channels=[16,16,32,64,128]).to(device)\n",
    "summary(model, input_size=(3,32,32))"
   ]
  },
  {
   "cell_type": "code",
   "execution_count": null,
   "id": "6060568b",
   "metadata": {},
   "outputs": [],
   "source": []
  },
  {
   "cell_type": "code",
   "execution_count": 9,
   "id": "dee30d22",
   "metadata": {},
   "outputs": [],
   "source": [
    "def lr_schedule(epoch, gamma=0.1):\n",
    "    if epoch < 15:\n",
    "        return 0.95**epoch\n",
    "    elif 15 <= epoch < 30:\n",
    "        return (gamma)*(0.95**epoch)\n",
    "    elif 30 <= epoch < 45:\n",
    "        return (gamma**2)*(0.95**epoch)\n",
    "    elif 45 <= epoch < 60:\n",
    "        return (gamma**3)*(0.95**epoch)\n",
    "    elif 60 <= epoch < 90:\n",
    "        return (gamma**4)*(0.95**epoch)\n",
    "    elif 90 <= epoch < 105:\n",
    "        return (gamma**5)*(0.95**epoch)\n",
    "    else:\n",
    "        return (gamma**6)*(0.95**epoch)"
   ]
  },
  {
   "cell_type": "code",
   "execution_count": 11,
   "id": "b09dc29f",
   "metadata": {},
   "outputs": [
    {
     "name": "stdout",
     "output_type": "stream",
     "text": [
      "Adjusting learning rate of group 0 to 1.0000e-02.\n"
     ]
    }
   ],
   "source": [
    "loss_ftn = nn.CrossEntropyLoss()\n",
    "optimizer = optim.Adam(model.parameters(), lr=0.01, weight_decay=0.0001)\n",
    "scheduler = optim.lr_scheduler.LambdaLR(optimizer=optimizer,\n",
    "                                        lr_lambda=lambda epoch: lr_schedule(epoch) ,\n",
    "                                        last_epoch=-1,\n",
    "                                        verbose=True)\n",
    "\n",
    "# scheduler12 = optim.lr_scheduler.StepLR(optimizer=optimizer, step_size=5, gamma=0.1, verbose=True)"
   ]
  },
  {
   "cell_type": "code",
   "execution_count": 12,
   "id": "85703eb7",
   "metadata": {
    "scrolled": true
   },
   "outputs": [
    {
     "name": "stderr",
     "output_type": "stream",
     "text": [
      "352it [00:05, 67.65it/s]\n"
     ]
    },
    {
     "name": "stdout",
     "output_type": "stream",
     "text": [
      "EPOCH 1 Completed. \n",
      " Training Loss: 1.521, Training Accuracy: 45.07, Validation Loss: 1.301, Validation Accuracy: 54.18 \n",
      "\n",
      "Adjusting learning rate of group 0 to 9.5000e-03.\n"
     ]
    },
    {
     "name": "stderr",
     "output_type": "stream",
     "text": [
      "352it [00:05, 66.98it/s]\n"
     ]
    },
    {
     "name": "stdout",
     "output_type": "stream",
     "text": [
      "EPOCH 2 Completed. \n",
      " Training Loss: 1.154, Training Accuracy: 58.84, Validation Loss: 1.142, Validation Accuracy: 60.34 \n",
      "\n",
      "Adjusting learning rate of group 0 to 9.0250e-03.\n"
     ]
    },
    {
     "name": "stderr",
     "output_type": "stream",
     "text": [
      "352it [00:05, 67.91it/s]\n"
     ]
    },
    {
     "name": "stdout",
     "output_type": "stream",
     "text": [
      "EPOCH 3 Completed. \n",
      " Training Loss: 1.021, Training Accuracy: 63.64, Validation Loss: 1.030, Validation Accuracy: 64.10 \n",
      "\n",
      "Adjusting learning rate of group 0 to 8.5737e-03.\n"
     ]
    },
    {
     "name": "stderr",
     "output_type": "stream",
     "text": [
      "352it [00:05, 68.07it/s]\n"
     ]
    },
    {
     "name": "stdout",
     "output_type": "stream",
     "text": [
      "EPOCH 4 Completed. \n",
      " Training Loss: 0.948, Training Accuracy: 66.28, Validation Loss: 0.941, Validation Accuracy: 67.38 \n",
      "\n",
      "Adjusting learning rate of group 0 to 8.1451e-03.\n"
     ]
    },
    {
     "name": "stderr",
     "output_type": "stream",
     "text": [
      "352it [00:05, 68.98it/s]\n"
     ]
    },
    {
     "name": "stdout",
     "output_type": "stream",
     "text": [
      "EPOCH 5 Completed. \n",
      " Training Loss: 0.895, Training Accuracy: 68.23, Validation Loss: 0.911, Validation Accuracy: 67.92 \n",
      "\n",
      "Adjusting learning rate of group 0 to 7.7378e-03.\n"
     ]
    },
    {
     "name": "stderr",
     "output_type": "stream",
     "text": [
      "352it [00:05, 64.57it/s]\n"
     ]
    },
    {
     "name": "stdout",
     "output_type": "stream",
     "text": [
      "EPOCH 6 Completed. \n",
      " Training Loss: 0.850, Training Accuracy: 69.86, Validation Loss: 0.904, Validation Accuracy: 68.94 \n",
      "\n",
      "Adjusting learning rate of group 0 to 7.3509e-03.\n"
     ]
    },
    {
     "name": "stderr",
     "output_type": "stream",
     "text": [
      "352it [00:05, 66.51it/s]\n"
     ]
    },
    {
     "name": "stdout",
     "output_type": "stream",
     "text": [
      "EPOCH 7 Completed. \n",
      " Training Loss: 0.812, Training Accuracy: 71.27, Validation Loss: 0.862, Validation Accuracy: 69.74 \n",
      "\n",
      "Adjusting learning rate of group 0 to 6.9834e-03.\n"
     ]
    },
    {
     "name": "stderr",
     "output_type": "stream",
     "text": [
      "352it [00:05, 63.76it/s]\n"
     ]
    },
    {
     "name": "stdout",
     "output_type": "stream",
     "text": [
      "EPOCH 8 Completed. \n",
      " Training Loss: 0.786, Training Accuracy: 72.27, Validation Loss: 0.856, Validation Accuracy: 70.00 \n",
      "\n",
      "Adjusting learning rate of group 0 to 6.6342e-03.\n"
     ]
    },
    {
     "name": "stderr",
     "output_type": "stream",
     "text": [
      "352it [00:05, 65.31it/s]\n"
     ]
    },
    {
     "name": "stdout",
     "output_type": "stream",
     "text": [
      "EPOCH 9 Completed. \n",
      " Training Loss: 0.756, Training Accuracy: 73.23, Validation Loss: 0.845, Validation Accuracy: 70.44 \n",
      "\n",
      "Adjusting learning rate of group 0 to 6.3025e-03.\n"
     ]
    },
    {
     "name": "stderr",
     "output_type": "stream",
     "text": [
      "352it [00:05, 69.01it/s]\n"
     ]
    },
    {
     "name": "stdout",
     "output_type": "stream",
     "text": [
      "EPOCH 10 Completed. \n",
      " Training Loss: 0.732, Training Accuracy: 74.33, Validation Loss: 0.817, Validation Accuracy: 71.74 \n",
      "\n",
      "Adjusting learning rate of group 0 to 5.9874e-03.\n"
     ]
    },
    {
     "name": "stderr",
     "output_type": "stream",
     "text": [
      "352it [00:04, 70.80it/s]\n"
     ]
    },
    {
     "name": "stdout",
     "output_type": "stream",
     "text": [
      "EPOCH 11 Completed. \n",
      " Training Loss: 0.709, Training Accuracy: 74.98, Validation Loss: 0.817, Validation Accuracy: 71.72 \n",
      "\n",
      "Adjusting learning rate of group 0 to 5.6880e-03.\n"
     ]
    },
    {
     "name": "stderr",
     "output_type": "stream",
     "text": [
      "352it [00:05, 66.81it/s]\n"
     ]
    },
    {
     "name": "stdout",
     "output_type": "stream",
     "text": [
      "EPOCH 12 Completed. \n",
      " Training Loss: 0.687, Training Accuracy: 75.91, Validation Loss: 0.802, Validation Accuracy: 72.02 \n",
      "\n",
      "Adjusting learning rate of group 0 to 5.4036e-03.\n"
     ]
    },
    {
     "name": "stderr",
     "output_type": "stream",
     "text": [
      "352it [00:05, 66.70it/s]\n"
     ]
    },
    {
     "name": "stdout",
     "output_type": "stream",
     "text": [
      "EPOCH 13 Completed. \n",
      " Training Loss: 0.669, Training Accuracy: 76.36, Validation Loss: 0.773, Validation Accuracy: 73.42 \n",
      "\n",
      "Adjusting learning rate of group 0 to 5.1334e-03.\n"
     ]
    },
    {
     "name": "stderr",
     "output_type": "stream",
     "text": [
      "352it [00:05, 68.42it/s]\n"
     ]
    },
    {
     "name": "stdout",
     "output_type": "stream",
     "text": [
      "EPOCH 14 Completed. \n",
      " Training Loss: 0.650, Training Accuracy: 77.18, Validation Loss: 0.788, Validation Accuracy: 72.44 \n",
      "\n",
      "Adjusting learning rate of group 0 to 4.8767e-03.\n"
     ]
    },
    {
     "name": "stderr",
     "output_type": "stream",
     "text": [
      "352it [00:05, 66.09it/s]\n"
     ]
    },
    {
     "name": "stdout",
     "output_type": "stream",
     "text": [
      "EPOCH 15 Completed. \n",
      " Training Loss: 0.634, Training Accuracy: 77.52, Validation Loss: 0.769, Validation Accuracy: 73.34 \n",
      "\n",
      "Adjusting learning rate of group 0 to 4.6329e-04.\n"
     ]
    },
    {
     "name": "stderr",
     "output_type": "stream",
     "text": [
      "352it [00:05, 66.51it/s]\n"
     ]
    },
    {
     "name": "stdout",
     "output_type": "stream",
     "text": [
      "EPOCH 16 Completed. \n",
      " Training Loss: 0.539, Training Accuracy: 81.16, Validation Loss: 0.716, Validation Accuracy: 75.38 \n",
      "\n",
      "Adjusting learning rate of group 0 to 4.4013e-04.\n"
     ]
    },
    {
     "name": "stderr",
     "output_type": "stream",
     "text": [
      "352it [00:05, 69.81it/s]\n"
     ]
    },
    {
     "name": "stdout",
     "output_type": "stream",
     "text": [
      "EPOCH 17 Completed. \n",
      " Training Loss: 0.511, Training Accuracy: 82.22, Validation Loss: 0.718, Validation Accuracy: 75.48 \n",
      "\n",
      "Adjusting learning rate of group 0 to 4.1812e-04.\n"
     ]
    },
    {
     "name": "stderr",
     "output_type": "stream",
     "text": [
      "352it [00:04, 77.84it/s]\n"
     ]
    },
    {
     "name": "stdout",
     "output_type": "stream",
     "text": [
      "EPOCH 18 Completed. \n",
      " Training Loss: 0.495, Training Accuracy: 82.64, Validation Loss: 0.722, Validation Accuracy: 74.98 \n",
      "\n",
      "Adjusting learning rate of group 0 to 3.9721e-04.\n"
     ]
    },
    {
     "name": "stderr",
     "output_type": "stream",
     "text": [
      "352it [00:03, 90.25it/s]\n"
     ]
    },
    {
     "name": "stdout",
     "output_type": "stream",
     "text": [
      "EPOCH 19 Completed. \n",
      " Training Loss: 0.488, Training Accuracy: 82.98, Validation Loss: 0.720, Validation Accuracy: 75.28 \n",
      "\n",
      "Adjusting learning rate of group 0 to 3.7735e-04.\n"
     ]
    },
    {
     "name": "stderr",
     "output_type": "stream",
     "text": [
      "352it [00:05, 61.03it/s]\n"
     ]
    },
    {
     "name": "stdout",
     "output_type": "stream",
     "text": [
      "EPOCH 20 Completed. \n",
      " Training Loss: 0.478, Training Accuracy: 83.31, Validation Loss: 0.726, Validation Accuracy: 75.12 \n",
      "\n",
      "Adjusting learning rate of group 0 to 3.5849e-04.\n"
     ]
    },
    {
     "name": "stderr",
     "output_type": "stream",
     "text": [
      "352it [00:06, 58.32it/s]\n"
     ]
    },
    {
     "name": "stdout",
     "output_type": "stream",
     "text": [
      "EPOCH 21 Completed. \n",
      " Training Loss: 0.473, Training Accuracy: 83.37, Validation Loss: 0.735, Validation Accuracy: 75.12 \n",
      "\n",
      "Adjusting learning rate of group 0 to 3.4056e-04.\n"
     ]
    },
    {
     "name": "stderr",
     "output_type": "stream",
     "text": [
      "352it [00:06, 57.53it/s]\n"
     ]
    },
    {
     "name": "stdout",
     "output_type": "stream",
     "text": [
      "EPOCH 22 Completed. \n",
      " Training Loss: 0.467, Training Accuracy: 83.68, Validation Loss: 0.734, Validation Accuracy: 75.18 \n",
      "\n",
      "Adjusting learning rate of group 0 to 3.2353e-04.\n"
     ]
    },
    {
     "name": "stderr",
     "output_type": "stream",
     "text": [
      "352it [00:06, 56.95it/s]\n"
     ]
    },
    {
     "name": "stdout",
     "output_type": "stream",
     "text": [
      "EPOCH 23 Completed. \n",
      " Training Loss: 0.461, Training Accuracy: 83.80, Validation Loss: 0.739, Validation Accuracy: 74.86 \n",
      "\n",
      "Adjusting learning rate of group 0 to 3.0736e-04.\n"
     ]
    },
    {
     "name": "stderr",
     "output_type": "stream",
     "text": [
      "352it [00:06, 57.40it/s]\n"
     ]
    },
    {
     "name": "stdout",
     "output_type": "stream",
     "text": [
      "EPOCH 24 Completed. \n",
      " Training Loss: 0.457, Training Accuracy: 84.03, Validation Loss: 0.740, Validation Accuracy: 75.26 \n",
      "\n",
      "Adjusting learning rate of group 0 to 2.9199e-04.\n"
     ]
    },
    {
     "name": "stderr",
     "output_type": "stream",
     "text": [
      "352it [00:06, 56.57it/s]\n"
     ]
    },
    {
     "name": "stdout",
     "output_type": "stream",
     "text": [
      "EPOCH 25 Completed. \n",
      " Training Loss: 0.450, Training Accuracy: 84.18, Validation Loss: 0.742, Validation Accuracy: 75.44 \n",
      "\n",
      "Adjusting learning rate of group 0 to 2.7739e-04.\n"
     ]
    },
    {
     "name": "stderr",
     "output_type": "stream",
     "text": [
      "352it [00:06, 56.30it/s]\n"
     ]
    },
    {
     "name": "stdout",
     "output_type": "stream",
     "text": [
      "EPOCH 26 Completed. \n",
      " Training Loss: 0.448, Training Accuracy: 84.27, Validation Loss: 0.744, Validation Accuracy: 75.20 \n",
      "\n",
      "Adjusting learning rate of group 0 to 2.6352e-04.\n"
     ]
    },
    {
     "name": "stderr",
     "output_type": "stream",
     "text": [
      "352it [00:06, 57.80it/s]\n"
     ]
    },
    {
     "name": "stdout",
     "output_type": "stream",
     "text": [
      "EPOCH 27 Completed. \n",
      " Training Loss: 0.443, Training Accuracy: 84.26, Validation Loss: 0.752, Validation Accuracy: 75.16 \n",
      "\n",
      "Adjusting learning rate of group 0 to 2.5034e-04.\n"
     ]
    },
    {
     "name": "stderr",
     "output_type": "stream",
     "text": [
      "352it [00:06, 57.20it/s]\n"
     ]
    },
    {
     "name": "stdout",
     "output_type": "stream",
     "text": [
      "EPOCH 28 Completed. \n",
      " Training Loss: 0.439, Training Accuracy: 84.54, Validation Loss: 0.750, Validation Accuracy: 74.96 \n",
      "\n",
      "Adjusting learning rate of group 0 to 2.3783e-04.\n"
     ]
    },
    {
     "name": "stderr",
     "output_type": "stream",
     "text": [
      "352it [00:06, 57.96it/s]\n"
     ]
    },
    {
     "name": "stdout",
     "output_type": "stream",
     "text": [
      "EPOCH 29 Completed. \n",
      " Training Loss: 0.436, Training Accuracy: 84.65, Validation Loss: 0.756, Validation Accuracy: 74.80 \n",
      "\n",
      "Adjusting learning rate of group 0 to 2.2594e-04.\n"
     ]
    },
    {
     "name": "stderr",
     "output_type": "stream",
     "text": [
      "352it [00:06, 57.68it/s]\n"
     ]
    },
    {
     "name": "stdout",
     "output_type": "stream",
     "text": [
      "EPOCH 30 Completed. \n",
      " Training Loss: 0.434, Training Accuracy: 84.72, Validation Loss: 0.758, Validation Accuracy: 74.64 \n",
      "\n",
      "Adjusting learning rate of group 0 to 2.1464e-05.\n"
     ]
    },
    {
     "name": "stderr",
     "output_type": "stream",
     "text": [
      "352it [00:06, 57.33it/s]\n"
     ]
    },
    {
     "name": "stdout",
     "output_type": "stream",
     "text": [
      "EPOCH 31 Completed. \n",
      " Training Loss: 0.422, Training Accuracy: 85.13, Validation Loss: 0.757, Validation Accuracy: 74.70 \n",
      "\n",
      "Adjusting learning rate of group 0 to 2.0391e-05.\n"
     ]
    },
    {
     "name": "stderr",
     "output_type": "stream",
     "text": [
      "352it [00:06, 56.46it/s]\n"
     ]
    },
    {
     "name": "stdout",
     "output_type": "stream",
     "text": [
      "EPOCH 32 Completed. \n",
      " Training Loss: 0.424, Training Accuracy: 85.06, Validation Loss: 0.758, Validation Accuracy: 74.78 \n",
      "\n",
      "Adjusting learning rate of group 0 to 1.9371e-05.\n"
     ]
    },
    {
     "name": "stderr",
     "output_type": "stream",
     "text": [
      "352it [00:06, 57.28it/s]\n"
     ]
    },
    {
     "name": "stdout",
     "output_type": "stream",
     "text": [
      "EPOCH 33 Completed. \n",
      " Training Loss: 0.420, Training Accuracy: 85.39, Validation Loss: 0.758, Validation Accuracy: 74.74 \n",
      "\n",
      "Adjusting learning rate of group 0 to 1.8403e-05.\n"
     ]
    },
    {
     "name": "stderr",
     "output_type": "stream",
     "text": [
      "352it [00:06, 57.18it/s]\n"
     ]
    },
    {
     "name": "stdout",
     "output_type": "stream",
     "text": [
      "EPOCH 34 Completed. \n",
      " Training Loss: 0.420, Training Accuracy: 85.34, Validation Loss: 0.758, Validation Accuracy: 74.74 \n",
      "\n",
      "Adjusting learning rate of group 0 to 1.7482e-05.\n"
     ]
    },
    {
     "name": "stderr",
     "output_type": "stream",
     "text": [
      "352it [00:06, 55.74it/s]\n"
     ]
    },
    {
     "name": "stdout",
     "output_type": "stream",
     "text": [
      "EPOCH 35 Completed. \n",
      " Training Loss: 0.423, Training Accuracy: 85.10, Validation Loss: 0.758, Validation Accuracy: 74.70 \n",
      "\n",
      "Adjusting learning rate of group 0 to 1.6608e-05.\n"
     ]
    },
    {
     "name": "stderr",
     "output_type": "stream",
     "text": [
      "352it [00:06, 56.91it/s]\n"
     ]
    },
    {
     "name": "stdout",
     "output_type": "stream",
     "text": [
      "EPOCH 36 Completed. \n",
      " Training Loss: 0.421, Training Accuracy: 85.29, Validation Loss: 0.758, Validation Accuracy: 74.70 \n",
      "\n",
      "Adjusting learning rate of group 0 to 1.5778e-05.\n"
     ]
    },
    {
     "name": "stderr",
     "output_type": "stream",
     "text": [
      "352it [00:06, 56.07it/s]\n"
     ]
    },
    {
     "name": "stdout",
     "output_type": "stream",
     "text": [
      "EPOCH 37 Completed. \n",
      " Training Loss: 0.420, Training Accuracy: 85.28, Validation Loss: 0.758, Validation Accuracy: 74.74 \n",
      "\n",
      "Adjusting learning rate of group 0 to 1.4989e-05.\n"
     ]
    },
    {
     "name": "stderr",
     "output_type": "stream",
     "text": [
      "352it [00:06, 56.76it/s]\n"
     ]
    },
    {
     "name": "stdout",
     "output_type": "stream",
     "text": [
      "EPOCH 38 Completed. \n",
      " Training Loss: 0.423, Training Accuracy: 85.22, Validation Loss: 0.759, Validation Accuracy: 74.68 \n",
      "\n",
      "Adjusting learning rate of group 0 to 1.4240e-05.\n"
     ]
    },
    {
     "name": "stderr",
     "output_type": "stream",
     "text": [
      "352it [00:06, 57.16it/s]\n"
     ]
    },
    {
     "name": "stdout",
     "output_type": "stream",
     "text": [
      "EPOCH 39 Completed. \n",
      " Training Loss: 0.421, Training Accuracy: 85.14, Validation Loss: 0.759, Validation Accuracy: 74.72 \n",
      "\n",
      "Adjusting learning rate of group 0 to 1.3528e-05.\n"
     ]
    },
    {
     "name": "stderr",
     "output_type": "stream",
     "text": [
      "352it [00:06, 58.61it/s]\n"
     ]
    },
    {
     "name": "stdout",
     "output_type": "stream",
     "text": [
      "EPOCH 40 Completed. \n",
      " Training Loss: 0.419, Training Accuracy: 85.37, Validation Loss: 0.759, Validation Accuracy: 74.74 \n",
      "\n",
      "Adjusting learning rate of group 0 to 1.2851e-05.\n"
     ]
    },
    {
     "name": "stderr",
     "output_type": "stream",
     "text": [
      "352it [00:06, 56.40it/s]\n"
     ]
    },
    {
     "name": "stdout",
     "output_type": "stream",
     "text": [
      "EPOCH 41 Completed. \n",
      " Training Loss: 0.422, Training Accuracy: 85.08, Validation Loss: 0.759, Validation Accuracy: 74.72 \n",
      "\n",
      "Adjusting learning rate of group 0 to 1.2209e-05.\n"
     ]
    },
    {
     "name": "stderr",
     "output_type": "stream",
     "text": [
      "352it [00:06, 57.47it/s]\n"
     ]
    },
    {
     "name": "stdout",
     "output_type": "stream",
     "text": [
      "EPOCH 42 Completed. \n",
      " Training Loss: 0.423, Training Accuracy: 85.24, Validation Loss: 0.760, Validation Accuracy: 74.70 \n",
      "\n",
      "Adjusting learning rate of group 0 to 1.1598e-05.\n"
     ]
    },
    {
     "name": "stderr",
     "output_type": "stream",
     "text": [
      "352it [00:06, 56.35it/s]\n"
     ]
    },
    {
     "name": "stdout",
     "output_type": "stream",
     "text": [
      "EPOCH 43 Completed. \n",
      " Training Loss: 0.419, Training Accuracy: 85.43, Validation Loss: 0.760, Validation Accuracy: 74.72 \n",
      "\n",
      "Adjusting learning rate of group 0 to 1.1018e-05.\n"
     ]
    },
    {
     "name": "stderr",
     "output_type": "stream",
     "text": [
      "352it [00:06, 57.37it/s]\n"
     ]
    },
    {
     "name": "stdout",
     "output_type": "stream",
     "text": [
      "EPOCH 44 Completed. \n",
      " Training Loss: 0.419, Training Accuracy: 85.33, Validation Loss: 0.760, Validation Accuracy: 74.72 \n",
      "\n",
      "Adjusting learning rate of group 0 to 1.0467e-05.\n"
     ]
    },
    {
     "name": "stderr",
     "output_type": "stream",
     "text": [
      "352it [00:06, 57.32it/s]\n"
     ]
    },
    {
     "name": "stdout",
     "output_type": "stream",
     "text": [
      "EPOCH 45 Completed. \n",
      " Training Loss: 0.419, Training Accuracy: 85.44, Validation Loss: 0.760, Validation Accuracy: 74.72 \n",
      "\n",
      "Adjusting learning rate of group 0 to 9.9440e-07.\n"
     ]
    },
    {
     "name": "stderr",
     "output_type": "stream",
     "text": [
      "352it [00:05, 59.45it/s]\n"
     ]
    },
    {
     "name": "stdout",
     "output_type": "stream",
     "text": [
      "EPOCH 46 Completed. \n",
      " Training Loss: 0.420, Training Accuracy: 85.33, Validation Loss: 0.760, Validation Accuracy: 74.70 \n",
      "\n",
      "Adjusting learning rate of group 0 to 9.4468e-07.\n"
     ]
    },
    {
     "name": "stderr",
     "output_type": "stream",
     "text": [
      "352it [00:05, 63.70it/s]\n"
     ]
    },
    {
     "name": "stdout",
     "output_type": "stream",
     "text": [
      "EPOCH 47 Completed. \n",
      " Training Loss: 0.420, Training Accuracy: 85.29, Validation Loss: 0.760, Validation Accuracy: 74.72 \n",
      "\n",
      "Adjusting learning rate of group 0 to 8.9745e-07.\n"
     ]
    },
    {
     "name": "stderr",
     "output_type": "stream",
     "text": [
      "352it [00:05, 68.39it/s]\n"
     ]
    },
    {
     "name": "stdout",
     "output_type": "stream",
     "text": [
      "EPOCH 48 Completed. \n",
      " Training Loss: 0.420, Training Accuracy: 85.42, Validation Loss: 0.760, Validation Accuracy: 74.72 \n",
      "\n",
      "Adjusting learning rate of group 0 to 8.5258e-07.\n"
     ]
    },
    {
     "name": "stderr",
     "output_type": "stream",
     "text": [
      "352it [00:05, 69.27it/s]\n"
     ]
    },
    {
     "name": "stdout",
     "output_type": "stream",
     "text": [
      "EPOCH 49 Completed. \n",
      " Training Loss: 0.420, Training Accuracy: 85.34, Validation Loss: 0.760, Validation Accuracy: 74.72 \n",
      "\n",
      "Adjusting learning rate of group 0 to 8.0995e-07.\n"
     ]
    },
    {
     "name": "stderr",
     "output_type": "stream",
     "text": [
      "352it [00:05, 69.21it/s]\n"
     ]
    },
    {
     "name": "stdout",
     "output_type": "stream",
     "text": [
      "EPOCH 50 Completed. \n",
      " Training Loss: 0.418, Training Accuracy: 85.37, Validation Loss: 0.760, Validation Accuracy: 74.72 \n",
      "\n",
      "Adjusting learning rate of group 0 to 7.6945e-07.\n"
     ]
    },
    {
     "name": "stderr",
     "output_type": "stream",
     "text": [
      "352it [00:05, 68.02it/s]\n"
     ]
    },
    {
     "name": "stdout",
     "output_type": "stream",
     "text": [
      "EPOCH 51 Completed. \n",
      " Training Loss: 0.420, Training Accuracy: 85.26, Validation Loss: 0.760, Validation Accuracy: 74.72 \n",
      "\n",
      "Adjusting learning rate of group 0 to 7.3098e-07.\n"
     ]
    },
    {
     "name": "stderr",
     "output_type": "stream",
     "text": [
      "352it [00:05, 67.23it/s]\n"
     ]
    },
    {
     "name": "stdout",
     "output_type": "stream",
     "text": [
      "EPOCH 52 Completed. \n",
      " Training Loss: 0.417, Training Accuracy: 85.46, Validation Loss: 0.760, Validation Accuracy: 74.70 \n",
      "\n",
      "Adjusting learning rate of group 0 to 6.9443e-07.\n"
     ]
    },
    {
     "name": "stderr",
     "output_type": "stream",
     "text": [
      "352it [00:05, 65.78it/s]\n"
     ]
    },
    {
     "name": "stdout",
     "output_type": "stream",
     "text": [
      "EPOCH 53 Completed. \n",
      " Training Loss: 0.419, Training Accuracy: 85.22, Validation Loss: 0.760, Validation Accuracy: 74.72 \n",
      "\n",
      "Adjusting learning rate of group 0 to 6.5971e-07.\n"
     ]
    },
    {
     "name": "stderr",
     "output_type": "stream",
     "text": [
      "352it [00:05, 68.00it/s]\n"
     ]
    },
    {
     "name": "stdout",
     "output_type": "stream",
     "text": [
      "EPOCH 54 Completed. \n",
      " Training Loss: 0.419, Training Accuracy: 85.48, Validation Loss: 0.760, Validation Accuracy: 74.70 \n",
      "\n",
      "Adjusting learning rate of group 0 to 6.2672e-07.\n"
     ]
    },
    {
     "name": "stderr",
     "output_type": "stream",
     "text": [
      "352it [00:05, 66.73it/s]\n"
     ]
    },
    {
     "name": "stdout",
     "output_type": "stream",
     "text": [
      "EPOCH 55 Completed. \n",
      " Training Loss: 0.418, Training Accuracy: 85.34, Validation Loss: 0.760, Validation Accuracy: 74.70 \n",
      "\n",
      "Adjusting learning rate of group 0 to 5.9539e-07.\n"
     ]
    },
    {
     "name": "stderr",
     "output_type": "stream",
     "text": [
      "352it [00:05, 66.44it/s]\n"
     ]
    },
    {
     "name": "stdout",
     "output_type": "stream",
     "text": [
      "EPOCH 56 Completed. \n",
      " Training Loss: 0.419, Training Accuracy: 85.17, Validation Loss: 0.760, Validation Accuracy: 74.70 \n",
      "\n",
      "Adjusting learning rate of group 0 to 5.6562e-07.\n"
     ]
    },
    {
     "name": "stderr",
     "output_type": "stream",
     "text": [
      "352it [00:05, 67.84it/s]\n"
     ]
    },
    {
     "name": "stdout",
     "output_type": "stream",
     "text": [
      "EPOCH 57 Completed. \n",
      " Training Loss: 0.419, Training Accuracy: 85.25, Validation Loss: 0.760, Validation Accuracy: 74.72 \n",
      "\n",
      "Adjusting learning rate of group 0 to 5.3734e-07.\n"
     ]
    },
    {
     "name": "stderr",
     "output_type": "stream",
     "text": [
      "352it [00:05, 67.63it/s]\n"
     ]
    },
    {
     "name": "stdout",
     "output_type": "stream",
     "text": [
      "EPOCH 58 Completed. \n",
      " Training Loss: 0.420, Training Accuracy: 85.18, Validation Loss: 0.760, Validation Accuracy: 74.72 \n",
      "\n",
      "Adjusting learning rate of group 0 to 5.1047e-07.\n"
     ]
    },
    {
     "name": "stderr",
     "output_type": "stream",
     "text": [
      "352it [00:05, 66.95it/s]\n"
     ]
    },
    {
     "name": "stdout",
     "output_type": "stream",
     "text": [
      "EPOCH 59 Completed. \n",
      " Training Loss: 0.421, Training Accuracy: 85.31, Validation Loss: 0.760, Validation Accuracy: 74.72 \n",
      "\n",
      "Adjusting learning rate of group 0 to 4.8495e-07.\n"
     ]
    },
    {
     "name": "stderr",
     "output_type": "stream",
     "text": [
      "352it [00:05, 67.21it/s]\n"
     ]
    },
    {
     "name": "stdout",
     "output_type": "stream",
     "text": [
      "EPOCH 60 Completed. \n",
      " Training Loss: 0.417, Training Accuracy: 85.47, Validation Loss: 0.760, Validation Accuracy: 74.70 \n",
      "\n",
      "Adjusting learning rate of group 0 to 4.6070e-08.\n"
     ]
    },
    {
     "name": "stderr",
     "output_type": "stream",
     "text": [
      "352it [00:05, 68.01it/s]\n"
     ]
    },
    {
     "name": "stdout",
     "output_type": "stream",
     "text": [
      "EPOCH 61 Completed. \n",
      " Training Loss: 0.418, Training Accuracy: 85.23, Validation Loss: 0.760, Validation Accuracy: 74.70 \n",
      "\n",
      "Adjusting learning rate of group 0 to 4.3766e-08.\n"
     ]
    },
    {
     "name": "stderr",
     "output_type": "stream",
     "text": [
      "352it [00:05, 67.88it/s]\n"
     ]
    },
    {
     "name": "stdout",
     "output_type": "stream",
     "text": [
      "EPOCH 62 Completed. \n",
      " Training Loss: 0.418, Training Accuracy: 85.34, Validation Loss: 0.760, Validation Accuracy: 74.70 \n",
      "\n",
      "Adjusting learning rate of group 0 to 4.1578e-08.\n"
     ]
    },
    {
     "name": "stderr",
     "output_type": "stream",
     "text": [
      "352it [00:05, 69.03it/s]\n"
     ]
    },
    {
     "name": "stdout",
     "output_type": "stream",
     "text": [
      "EPOCH 63 Completed. \n",
      " Training Loss: 0.420, Training Accuracy: 85.32, Validation Loss: 0.760, Validation Accuracy: 74.70 \n",
      "\n",
      "Adjusting learning rate of group 0 to 3.9499e-08.\n"
     ]
    },
    {
     "name": "stderr",
     "output_type": "stream",
     "text": [
      "352it [00:04, 70.54it/s]\n"
     ]
    },
    {
     "name": "stdout",
     "output_type": "stream",
     "text": [
      "EPOCH 64 Completed. \n",
      " Training Loss: 0.421, Training Accuracy: 85.36, Validation Loss: 0.760, Validation Accuracy: 74.70 \n",
      "\n",
      "Adjusting learning rate of group 0 to 3.7524e-08.\n"
     ]
    },
    {
     "name": "stderr",
     "output_type": "stream",
     "text": [
      "352it [00:03, 92.20it/s]\n"
     ]
    },
    {
     "name": "stdout",
     "output_type": "stream",
     "text": [
      "EPOCH 65 Completed. \n",
      " Training Loss: 0.419, Training Accuracy: 85.31, Validation Loss: 0.760, Validation Accuracy: 74.70 \n",
      "\n",
      "Adjusting learning rate of group 0 to 3.5648e-08.\n"
     ]
    },
    {
     "name": "stderr",
     "output_type": "stream",
     "text": [
      "352it [00:04, 74.55it/s]\n"
     ]
    },
    {
     "name": "stdout",
     "output_type": "stream",
     "text": [
      "EPOCH 66 Completed. \n",
      " Training Loss: 0.417, Training Accuracy: 85.24, Validation Loss: 0.760, Validation Accuracy: 74.70 \n",
      "\n",
      "Adjusting learning rate of group 0 to 3.3866e-08.\n"
     ]
    },
    {
     "name": "stderr",
     "output_type": "stream",
     "text": [
      "352it [00:06, 57.16it/s]\n"
     ]
    },
    {
     "name": "stdout",
     "output_type": "stream",
     "text": [
      "EPOCH 67 Completed. \n",
      " Training Loss: 0.420, Training Accuracy: 85.21, Validation Loss: 0.760, Validation Accuracy: 74.70 \n",
      "\n",
      "Adjusting learning rate of group 0 to 3.2172e-08.\n"
     ]
    },
    {
     "name": "stderr",
     "output_type": "stream",
     "text": [
      "352it [00:06, 58.16it/s]\n"
     ]
    },
    {
     "name": "stdout",
     "output_type": "stream",
     "text": [
      "EPOCH 68 Completed. \n",
      " Training Loss: 0.419, Training Accuracy: 85.16, Validation Loss: 0.760, Validation Accuracy: 74.70 \n",
      "\n",
      "Adjusting learning rate of group 0 to 3.0564e-08.\n"
     ]
    },
    {
     "name": "stderr",
     "output_type": "stream",
     "text": [
      "352it [00:06, 56.54it/s]\n"
     ]
    },
    {
     "name": "stdout",
     "output_type": "stream",
     "text": [
      "EPOCH 69 Completed. \n",
      " Training Loss: 0.419, Training Accuracy: 85.30, Validation Loss: 0.760, Validation Accuracy: 74.70 \n",
      "\n",
      "Adjusting learning rate of group 0 to 2.9035e-08.\n"
     ]
    },
    {
     "name": "stderr",
     "output_type": "stream",
     "text": [
      "352it [00:06, 56.80it/s]\n"
     ]
    },
    {
     "name": "stdout",
     "output_type": "stream",
     "text": [
      "EPOCH 70 Completed. \n",
      " Training Loss: 0.420, Training Accuracy: 85.34, Validation Loss: 0.760, Validation Accuracy: 74.72 \n",
      "\n",
      "Adjusting learning rate of group 0 to 2.7584e-08.\n"
     ]
    },
    {
     "name": "stderr",
     "output_type": "stream",
     "text": [
      "352it [00:06, 57.70it/s]\n"
     ]
    },
    {
     "name": "stdout",
     "output_type": "stream",
     "text": [
      "EPOCH 71 Completed. \n",
      " Training Loss: 0.419, Training Accuracy: 85.36, Validation Loss: 0.760, Validation Accuracy: 74.72 \n",
      "\n",
      "Adjusting learning rate of group 0 to 2.6205e-08.\n"
     ]
    },
    {
     "name": "stderr",
     "output_type": "stream",
     "text": [
      "352it [00:06, 56.75it/s]\n"
     ]
    },
    {
     "name": "stdout",
     "output_type": "stream",
     "text": [
      "EPOCH 72 Completed. \n",
      " Training Loss: 0.420, Training Accuracy: 85.28, Validation Loss: 0.760, Validation Accuracy: 74.72 \n",
      "\n",
      "Adjusting learning rate of group 0 to 2.4894e-08.\n"
     ]
    },
    {
     "name": "stderr",
     "output_type": "stream",
     "text": [
      "352it [00:06, 56.39it/s]\n"
     ]
    },
    {
     "name": "stdout",
     "output_type": "stream",
     "text": [
      "EPOCH 73 Completed. \n",
      " Training Loss: 0.420, Training Accuracy: 85.38, Validation Loss: 0.760, Validation Accuracy: 74.72 \n",
      "\n",
      "Adjusting learning rate of group 0 to 2.3650e-08.\n"
     ]
    },
    {
     "name": "stderr",
     "output_type": "stream",
     "text": [
      "352it [00:06, 56.34it/s]\n"
     ]
    },
    {
     "name": "stdout",
     "output_type": "stream",
     "text": [
      "EPOCH 74 Completed. \n",
      " Training Loss: 0.417, Training Accuracy: 85.39, Validation Loss: 0.760, Validation Accuracy: 74.72 \n",
      "\n",
      "Adjusting learning rate of group 0 to 2.2467e-08.\n"
     ]
    },
    {
     "name": "stderr",
     "output_type": "stream",
     "text": [
      "352it [00:06, 56.77it/s]\n"
     ]
    },
    {
     "name": "stdout",
     "output_type": "stream",
     "text": [
      "EPOCH 75 Completed. \n",
      " Training Loss: 0.418, Training Accuracy: 85.51, Validation Loss: 0.760, Validation Accuracy: 74.72 \n",
      "\n",
      "Adjusting learning rate of group 0 to 2.1344e-08.\n"
     ]
    },
    {
     "name": "stderr",
     "output_type": "stream",
     "text": [
      "352it [00:06, 57.42it/s]\n"
     ]
    },
    {
     "name": "stdout",
     "output_type": "stream",
     "text": [
      "EPOCH 76 Completed. \n",
      " Training Loss: 0.418, Training Accuracy: 85.31, Validation Loss: 0.760, Validation Accuracy: 74.72 \n",
      "\n",
      "Adjusting learning rate of group 0 to 2.0277e-08.\n"
     ]
    },
    {
     "name": "stderr",
     "output_type": "stream",
     "text": [
      "352it [00:06, 57.05it/s]\n"
     ]
    },
    {
     "name": "stdout",
     "output_type": "stream",
     "text": [
      "EPOCH 77 Completed. \n",
      " Training Loss: 0.420, Training Accuracy: 85.33, Validation Loss: 0.760, Validation Accuracy: 74.70 \n",
      "\n",
      "Adjusting learning rate of group 0 to 1.9263e-08.\n"
     ]
    },
    {
     "name": "stderr",
     "output_type": "stream",
     "text": [
      "352it [00:06, 58.45it/s]\n"
     ]
    },
    {
     "name": "stdout",
     "output_type": "stream",
     "text": [
      "EPOCH 78 Completed. \n",
      " Training Loss: 0.421, Training Accuracy: 85.30, Validation Loss: 0.760, Validation Accuracy: 74.70 \n",
      "\n",
      "Adjusting learning rate of group 0 to 1.8300e-08.\n"
     ]
    },
    {
     "name": "stderr",
     "output_type": "stream",
     "text": [
      "352it [00:06, 57.43it/s]\n"
     ]
    },
    {
     "name": "stdout",
     "output_type": "stream",
     "text": [
      "EPOCH 79 Completed. \n",
      " Training Loss: 0.420, Training Accuracy: 85.27, Validation Loss: 0.760, Validation Accuracy: 74.70 \n",
      "\n",
      "Adjusting learning rate of group 0 to 1.7385e-08.\n"
     ]
    },
    {
     "name": "stderr",
     "output_type": "stream",
     "text": [
      "352it [00:06, 56.18it/s]\n"
     ]
    },
    {
     "name": "stdout",
     "output_type": "stream",
     "text": [
      "EPOCH 80 Completed. \n",
      " Training Loss: 0.419, Training Accuracy: 85.31, Validation Loss: 0.760, Validation Accuracy: 74.70 \n",
      "\n",
      "Adjusting learning rate of group 0 to 1.6515e-08.\n"
     ]
    },
    {
     "name": "stderr",
     "output_type": "stream",
     "text": [
      "352it [00:06, 57.06it/s]\n"
     ]
    },
    {
     "name": "stdout",
     "output_type": "stream",
     "text": [
      "EPOCH 81 Completed. \n",
      " Training Loss: 0.418, Training Accuracy: 85.46, Validation Loss: 0.760, Validation Accuracy: 74.70 \n",
      "\n",
      "Adjusting learning rate of group 0 to 1.5690e-08.\n"
     ]
    },
    {
     "name": "stderr",
     "output_type": "stream",
     "text": [
      "352it [00:06, 56.04it/s]\n"
     ]
    },
    {
     "name": "stdout",
     "output_type": "stream",
     "text": [
      "EPOCH 82 Completed. \n",
      " Training Loss: 0.422, Training Accuracy: 85.25, Validation Loss: 0.760, Validation Accuracy: 74.70 \n",
      "\n",
      "Adjusting learning rate of group 0 to 1.4905e-08.\n"
     ]
    },
    {
     "name": "stderr",
     "output_type": "stream",
     "text": [
      "352it [00:06, 56.34it/s]\n"
     ]
    },
    {
     "name": "stdout",
     "output_type": "stream",
     "text": [
      "EPOCH 83 Completed. \n",
      " Training Loss: 0.419, Training Accuracy: 85.34, Validation Loss: 0.760, Validation Accuracy: 74.70 \n",
      "\n",
      "Adjusting learning rate of group 0 to 1.4160e-08.\n"
     ]
    },
    {
     "name": "stderr",
     "output_type": "stream",
     "text": [
      "352it [00:06, 57.06it/s]\n"
     ]
    },
    {
     "name": "stdout",
     "output_type": "stream",
     "text": [
      "EPOCH 84 Completed. \n",
      " Training Loss: 0.420, Training Accuracy: 85.26, Validation Loss: 0.760, Validation Accuracy: 74.70 \n",
      "\n",
      "Adjusting learning rate of group 0 to 1.3452e-08.\n"
     ]
    },
    {
     "name": "stderr",
     "output_type": "stream",
     "text": [
      "352it [00:06, 56.42it/s]\n"
     ]
    },
    {
     "name": "stdout",
     "output_type": "stream",
     "text": [
      "EPOCH 85 Completed. \n",
      " Training Loss: 0.419, Training Accuracy: 85.26, Validation Loss: 0.760, Validation Accuracy: 74.70 \n",
      "\n",
      "Adjusting learning rate of group 0 to 1.2779e-08.\n"
     ]
    },
    {
     "name": "stderr",
     "output_type": "stream",
     "text": [
      "352it [00:06, 57.10it/s]\n"
     ]
    },
    {
     "name": "stdout",
     "output_type": "stream",
     "text": [
      "EPOCH 86 Completed. \n",
      " Training Loss: 0.420, Training Accuracy: 85.22, Validation Loss: 0.760, Validation Accuracy: 74.70 \n",
      "\n",
      "Adjusting learning rate of group 0 to 1.2140e-08.\n"
     ]
    },
    {
     "name": "stderr",
     "output_type": "stream",
     "text": [
      "352it [00:06, 57.96it/s]\n"
     ]
    },
    {
     "name": "stdout",
     "output_type": "stream",
     "text": [
      "EPOCH 87 Completed. \n",
      " Training Loss: 0.418, Training Accuracy: 85.50, Validation Loss: 0.760, Validation Accuracy: 74.70 \n",
      "\n",
      "Adjusting learning rate of group 0 to 1.1533e-08.\n"
     ]
    },
    {
     "name": "stderr",
     "output_type": "stream",
     "text": [
      "352it [00:06, 57.58it/s]\n"
     ]
    },
    {
     "name": "stdout",
     "output_type": "stream",
     "text": [
      "EPOCH 88 Completed. \n",
      " Training Loss: 0.419, Training Accuracy: 85.29, Validation Loss: 0.760, Validation Accuracy: 74.70 \n",
      "\n",
      "Adjusting learning rate of group 0 to 1.0957e-08.\n"
     ]
    },
    {
     "name": "stderr",
     "output_type": "stream",
     "text": [
      "352it [00:06, 57.04it/s]\n"
     ]
    },
    {
     "name": "stdout",
     "output_type": "stream",
     "text": [
      "EPOCH 89 Completed. \n",
      " Training Loss: 0.421, Training Accuracy: 85.28, Validation Loss: 0.760, Validation Accuracy: 74.70 \n",
      "\n",
      "Adjusting learning rate of group 0 to 1.0409e-08.\n"
     ]
    },
    {
     "name": "stderr",
     "output_type": "stream",
     "text": [
      "352it [00:06, 56.72it/s]\n"
     ]
    },
    {
     "name": "stdout",
     "output_type": "stream",
     "text": [
      "EPOCH 90 Completed. \n",
      " Training Loss: 0.418, Training Accuracy: 85.27, Validation Loss: 0.760, Validation Accuracy: 74.70 \n",
      "\n",
      "Adjusting learning rate of group 0 to 9.8884e-10.\n"
     ]
    }
   ],
   "source": [
    "EPOCHS=90\n",
    "\n",
    "losses, accs, valid_losses, valid_accs = train(model, trainloader, validloader, EPOCHS, device, \n",
    "                                               loss_ftn, optimizer, scheduler=scheduler)"
   ]
  },
  {
   "cell_type": "code",
   "execution_count": 13,
   "id": "19da7a92",
   "metadata": {},
   "outputs": [
    {
     "data": {
      "image/png": "[encoded data removed]",
      "text/plain": [
       "<Figure size 432x288 with 1 Axes>"
      ]
     },
     "metadata": {
      "needs_background": "light"
     },
     "output_type": "display_data"
    }
   ],
   "source": [
    "plt.figure()\n",
    "plt.plot(np.arange(1,EPOCHS+1), losses, label='training loss')\n",
    "plt.plot(np.arange(1,EPOCHS+1), valid_losses, label='validation loss')\n",
    "plt.legend()\n",
    "plt.show()"
   ]
  },
  {
   "cell_type": "code",
   "execution_count": 14,
   "id": "6105c920",
   "metadata": {},
   "outputs": [
    {
     "data": {
      "image/png": "[encoded data removed]",
      "text/plain": [
       "<Figure size 432x288 with 1 Axes>"
      ]
     },
     "metadata": {
      "needs_background": "light"
     },
     "output_type": "display_data"
    }
   ],
   "source": [
    "plt.figure()\n",
    "plt.plot(np.arange(1,EPOCHS+1), accs, label='training accuracy')\n",
    "plt.plot(np.arange(1,EPOCHS+1), valid_accs, label='validation accuracy')\n",
    "plt.legend()\n",
    "plt.show()"
   ]
  },
  {
   "cell_type": "code",
   "execution_count": 15,
   "id": "1de9d441",
   "metadata": {
    "scrolled": true
   },
   "outputs": [
    {
     "name": "stdout",
     "output_type": "stream",
     "text": [
      "Accuracy of the network on 10000 test images: 75.27 %\n"
     ]
    }
   ],
   "source": [
    "test(model, testloader, device)"
   ]
  },
  {
   "cell_type": "code",
   "execution_count": null,
   "id": "987df24e",
   "metadata": {},
   "outputs": [],
   "source": []
  },
  {
   "cell_type": "code",
   "execution_count": 16,
   "id": "11f5b95a",
   "metadata": {},
   "outputs": [],
   "source": [
    "from models import MobileNet2"
   ]
  },
  {
   "cell_type": "code",
   "execution_count": 17,
   "id": "55edd344",
   "metadata": {},
   "outputs": [],
   "source": [
    "model2 = MobileNet2(channels=[16,16,32,64,128]).to(device)"
   ]
  },
  {
   "cell_type": "code",
   "execution_count": 18,
   "id": "72160351",
   "metadata": {
    "scrolled": true
   },
   "outputs": [
    {
     "name": "stdout",
     "output_type": "stream",
     "text": [
      "----------------------------------------------------------------\n",
      "        Layer (type)               Output Shape         Param #\n",
      "================================================================\n",
      "            Conv2d-1           [-1, 16, 32, 32]           2,352\n",
      "       BatchNorm2d-2           [-1, 16, 32, 32]              32\n",
      "              ReLU-3           [-1, 16, 32, 32]               0\n",
      "            Conv2d-4           [-1, 16, 32, 32]             144\n",
      "       BatchNorm2d-5           [-1, 16, 32, 32]              32\n",
      "              ReLU-6           [-1, 16, 32, 32]               0\n",
      "            Conv2d-7           [-1, 16, 32, 32]             256\n",
      "       BatchNorm2d-8           [-1, 16, 32, 32]              32\n",
      "              ReLU-9           [-1, 16, 32, 32]               0\n",
      "        MaxPool2d-10           [-1, 16, 16, 16]               0\n",
      "           Conv2d-11           [-1, 16, 16, 16]             144\n",
      "      BatchNorm2d-12           [-1, 16, 16, 16]              32\n",
      "             ReLU-13           [-1, 16, 16, 16]               0\n",
      "           Conv2d-14           [-1, 32, 16, 16]             512\n",
      "      BatchNorm2d-15           [-1, 32, 16, 16]              64\n",
      "             ReLU-16           [-1, 32, 16, 16]               0\n",
      "        MaxPool2d-17             [-1, 32, 8, 8]               0\n",
      "           Conv2d-18             [-1, 32, 8, 8]             288\n",
      "      BatchNorm2d-19             [-1, 32, 8, 8]              64\n",
      "             ReLU-20             [-1, 32, 8, 8]               0\n",
      "           Conv2d-21             [-1, 64, 8, 8]           2,048\n",
      "      BatchNorm2d-22             [-1, 64, 8, 8]             128\n",
      "             ReLU-23             [-1, 64, 8, 8]               0\n",
      "        MaxPool2d-24             [-1, 64, 4, 4]               0\n",
      "           Conv2d-25             [-1, 64, 4, 4]             576\n",
      "      BatchNorm2d-26             [-1, 64, 4, 4]             128\n",
      "             ReLU-27             [-1, 64, 4, 4]               0\n",
      "           Conv2d-28            [-1, 128, 4, 4]           8,192\n",
      "      BatchNorm2d-29            [-1, 128, 4, 4]             256\n",
      "             ReLU-30            [-1, 128, 4, 4]               0\n",
      "           Conv2d-31            [-1, 128, 1, 1]           2,176\n",
      "           Linear-32                   [-1, 32]           4,096\n",
      "      BatchNorm1d-33                   [-1, 32]              64\n",
      "             ReLU-34                   [-1, 32]               0\n",
      "           Linear-35                   [-1, 10]             330\n",
      "================================================================\n",
      "Total params: 21,946\n",
      "Trainable params: 21,946\n",
      "Non-trainable params: 0\n",
      "----------------------------------------------------------------\n",
      "Input size (MB): 0.01\n",
      "Forward/backward pass size (MB): 1.67\n",
      "Params size (MB): 0.08\n",
      "Estimated Total Size (MB): 1.77\n",
      "----------------------------------------------------------------\n"
     ]
    }
   ],
   "source": [
    "summary(model2, input_size=(3,32,32))"
   ]
  },
  {
   "cell_type": "code",
   "execution_count": 19,
   "id": "d15f03ac",
   "metadata": {},
   "outputs": [
    {
     "name": "stdout",
     "output_type": "stream",
     "text": [
      "Adjusting learning rate of group 0 to 1.0000e-02.\n"
     ]
    }
   ],
   "source": [
    "loss_ftn = nn.CrossEntropyLoss()\n",
    "\n",
    "optimizer2 = optim.Adam(model2.parameters(), lr=0.01, weight_decay=0.0001)\n",
    "\n",
    "scheduler2 = optim.lr_scheduler.LambdaLR(optimizer=optimizer2,\n",
    "                                        lr_lambda=lambda epoch: lr_schedule(epoch) ,\n",
    "                                        last_epoch=-1,\n",
    "                                        verbose=True)\n",
    "\n",
    "# scheduler2 = optim.lr_scheduler.LambdaLR(optimizer=optimizer2,\n",
    "#                                         lr_lambda=lambda epoch: 0.95 ** epoch,\n",
    "#                                         last_epoch=-1,\n",
    "#                                         verbose=True)\n",
    "# scheduler2 = optim.lr_scheduler.StepLR(optimizer=optimizer2, step_size=10, gamma=0.3, verbose=True)"
   ]
  },
  {
   "cell_type": "code",
   "execution_count": 20,
   "id": "0960296a",
   "metadata": {
    "scrolled": true
   },
   "outputs": [
    {
     "name": "stderr",
     "output_type": "stream",
     "text": [
      "352it [00:05, 63.17it/s]\n"
     ]
    },
    {
     "name": "stdout",
     "output_type": "stream",
     "text": [
      "EPOCH 1 Completed. \n",
      " Training Loss: 1.560, Training Accuracy: 43.08, Validation Loss: 1.358, Validation Accuracy: 51.44 \n",
      "\n",
      "Adjusting learning rate of group 0 to 9.5000e-03.\n"
     ]
    },
    {
     "name": "stderr",
     "output_type": "stream",
     "text": [
      "352it [00:05, 67.61it/s]\n"
     ]
    },
    {
     "name": "stdout",
     "output_type": "stream",
     "text": [
      "EPOCH 2 Completed. \n",
      " Training Loss: 1.206, Training Accuracy: 56.58, Validation Loss: 1.123, Validation Accuracy: 60.68 \n",
      "\n",
      "Adjusting learning rate of group 0 to 9.0250e-03.\n"
     ]
    },
    {
     "name": "stderr",
     "output_type": "stream",
     "text": [
      "352it [00:05, 67.75it/s]\n"
     ]
    },
    {
     "name": "stdout",
     "output_type": "stream",
     "text": [
      "EPOCH 3 Completed. \n",
      " Training Loss: 1.049, Training Accuracy: 62.39, Validation Loss: 1.048, Validation Accuracy: 63.62 \n",
      "\n",
      "Adjusting learning rate of group 0 to 8.5737e-03.\n"
     ]
    },
    {
     "name": "stderr",
     "output_type": "stream",
     "text": [
      "352it [00:05, 64.72it/s]\n"
     ]
    },
    {
     "name": "stdout",
     "output_type": "stream",
     "text": [
      "EPOCH 4 Completed. \n",
      " Training Loss: 0.952, Training Accuracy: 66.24, Validation Loss: 0.976, Validation Accuracy: 66.40 \n",
      "\n",
      "Adjusting learning rate of group 0 to 8.1451e-03.\n"
     ]
    },
    {
     "name": "stderr",
     "output_type": "stream",
     "text": [
      "352it [00:05, 64.92it/s]\n"
     ]
    },
    {
     "name": "stdout",
     "output_type": "stream",
     "text": [
      "EPOCH 5 Completed. \n",
      " Training Loss: 0.890, Training Accuracy: 68.50, Validation Loss: 0.905, Validation Accuracy: 68.66 \n",
      "\n",
      "Adjusting learning rate of group 0 to 7.7378e-03.\n"
     ]
    },
    {
     "name": "stderr",
     "output_type": "stream",
     "text": [
      "352it [00:05, 65.74it/s]\n"
     ]
    },
    {
     "name": "stdout",
     "output_type": "stream",
     "text": [
      "EPOCH 6 Completed. \n",
      " Training Loss: 0.839, Training Accuracy: 70.37, Validation Loss: 0.893, Validation Accuracy: 69.16 \n",
      "\n",
      "Adjusting learning rate of group 0 to 7.3509e-03.\n"
     ]
    },
    {
     "name": "stderr",
     "output_type": "stream",
     "text": [
      "352it [00:05, 67.98it/s]\n"
     ]
    },
    {
     "name": "stdout",
     "output_type": "stream",
     "text": [
      "EPOCH 7 Completed. \n",
      " Training Loss: 0.798, Training Accuracy: 71.72, Validation Loss: 0.846, Validation Accuracy: 70.62 \n",
      "\n",
      "Adjusting learning rate of group 0 to 6.9834e-03.\n"
     ]
    },
    {
     "name": "stderr",
     "output_type": "stream",
     "text": [
      "352it [00:05, 67.04it/s]\n"
     ]
    },
    {
     "name": "stdout",
     "output_type": "stream",
     "text": [
      "EPOCH 8 Completed. \n",
      " Training Loss: 0.767, Training Accuracy: 72.97, Validation Loss: 0.829, Validation Accuracy: 71.18 \n",
      "\n",
      "Adjusting learning rate of group 0 to 6.6342e-03.\n"
     ]
    },
    {
     "name": "stderr",
     "output_type": "stream",
     "text": [
      "352it [00:05, 62.06it/s]\n"
     ]
    },
    {
     "name": "stdout",
     "output_type": "stream",
     "text": [
      "EPOCH 9 Completed. \n",
      " Training Loss: 0.732, Training Accuracy: 74.01, Validation Loss: 0.820, Validation Accuracy: 71.48 \n",
      "\n",
      "Adjusting learning rate of group 0 to 6.3025e-03.\n"
     ]
    },
    {
     "name": "stderr",
     "output_type": "stream",
     "text": [
      "352it [00:04, 73.29it/s]\n"
     ]
    },
    {
     "name": "stdout",
     "output_type": "stream",
     "text": [
      "EPOCH 10 Completed. \n",
      " Training Loss: 0.709, Training Accuracy: 75.05, Validation Loss: 0.807, Validation Accuracy: 72.04 \n",
      "\n",
      "Adjusting learning rate of group 0 to 5.9874e-03.\n"
     ]
    },
    {
     "name": "stderr",
     "output_type": "stream",
     "text": [
      "352it [00:04, 85.13it/s]\n"
     ]
    },
    {
     "name": "stdout",
     "output_type": "stream",
     "text": [
      "EPOCH 11 Completed. \n",
      " Training Loss: 0.677, Training Accuracy: 75.98, Validation Loss: 0.822, Validation Accuracy: 71.92 \n",
      "\n",
      "Adjusting learning rate of group 0 to 5.6880e-03.\n"
     ]
    },
    {
     "name": "stderr",
     "output_type": "stream",
     "text": [
      "352it [00:05, 61.37it/s]\n"
     ]
    },
    {
     "name": "stdout",
     "output_type": "stream",
     "text": [
      "EPOCH 12 Completed. \n",
      " Training Loss: 0.662, Training Accuracy: 76.69, Validation Loss: 0.819, Validation Accuracy: 72.06 \n",
      "\n",
      "Adjusting learning rate of group 0 to 5.4036e-03.\n"
     ]
    },
    {
     "name": "stderr",
     "output_type": "stream",
     "text": [
      "352it [00:06, 56.83it/s]\n"
     ]
    },
    {
     "name": "stdout",
     "output_type": "stream",
     "text": [
      "EPOCH 13 Completed. \n",
      " Training Loss: 0.637, Training Accuracy: 77.63, Validation Loss: 0.799, Validation Accuracy: 73.30 \n",
      "\n",
      "Adjusting learning rate of group 0 to 5.1334e-03.\n"
     ]
    },
    {
     "name": "stderr",
     "output_type": "stream",
     "text": [
      "352it [00:06, 56.30it/s]\n"
     ]
    },
    {
     "name": "stdout",
     "output_type": "stream",
     "text": [
      "EPOCH 14 Completed. \n",
      " Training Loss: 0.615, Training Accuracy: 78.26, Validation Loss: 0.797, Validation Accuracy: 73.44 \n",
      "\n",
      "Adjusting learning rate of group 0 to 4.8767e-03.\n"
     ]
    },
    {
     "name": "stderr",
     "output_type": "stream",
     "text": [
      "352it [00:06, 55.87it/s]\n"
     ]
    },
    {
     "name": "stdout",
     "output_type": "stream",
     "text": [
      "EPOCH 15 Completed. \n",
      " Training Loss: 0.595, Training Accuracy: 78.88, Validation Loss: 0.777, Validation Accuracy: 73.46 \n",
      "\n",
      "Adjusting learning rate of group 0 to 4.6329e-04.\n"
     ]
    },
    {
     "name": "stderr",
     "output_type": "stream",
     "text": [
      "352it [00:06, 56.23it/s]\n"
     ]
    },
    {
     "name": "stdout",
     "output_type": "stream",
     "text": [
      "EPOCH 16 Completed. \n",
      " Training Loss: 0.487, Training Accuracy: 83.12, Validation Loss: 0.751, Validation Accuracy: 75.14 \n",
      "\n",
      "Adjusting learning rate of group 0 to 4.4013e-04.\n"
     ]
    },
    {
     "name": "stderr",
     "output_type": "stream",
     "text": [
      "352it [00:06, 55.86it/s]\n"
     ]
    },
    {
     "name": "stdout",
     "output_type": "stream",
     "text": [
      "EPOCH 17 Completed. \n",
      " Training Loss: 0.452, Training Accuracy: 84.35, Validation Loss: 0.764, Validation Accuracy: 75.06 \n",
      "\n",
      "Adjusting learning rate of group 0 to 4.1812e-04.\n"
     ]
    },
    {
     "name": "stderr",
     "output_type": "stream",
     "text": [
      "352it [00:06, 56.16it/s]\n"
     ]
    },
    {
     "name": "stdout",
     "output_type": "stream",
     "text": [
      "EPOCH 18 Completed. \n",
      " Training Loss: 0.436, Training Accuracy: 84.84, Validation Loss: 0.772, Validation Accuracy: 74.92 \n",
      "\n",
      "Adjusting learning rate of group 0 to 3.9721e-04.\n"
     ]
    },
    {
     "name": "stderr",
     "output_type": "stream",
     "text": [
      "352it [00:06, 55.60it/s]\n"
     ]
    },
    {
     "name": "stdout",
     "output_type": "stream",
     "text": [
      "EPOCH 19 Completed. \n",
      " Training Loss: 0.427, Training Accuracy: 85.20, Validation Loss: 0.784, Validation Accuracy: 74.96 \n",
      "\n",
      "Adjusting learning rate of group 0 to 3.7735e-04.\n"
     ]
    },
    {
     "name": "stderr",
     "output_type": "stream",
     "text": [
      "352it [00:06, 55.63it/s]\n"
     ]
    },
    {
     "name": "stdout",
     "output_type": "stream",
     "text": [
      "EPOCH 20 Completed. \n",
      " Training Loss: 0.415, Training Accuracy: 85.72, Validation Loss: 0.793, Validation Accuracy: 74.60 \n",
      "\n",
      "Adjusting learning rate of group 0 to 3.5849e-04.\n"
     ]
    },
    {
     "name": "stderr",
     "output_type": "stream",
     "text": [
      "352it [00:06, 56.57it/s]\n"
     ]
    },
    {
     "name": "stdout",
     "output_type": "stream",
     "text": [
      "EPOCH 21 Completed. \n",
      " Training Loss: 0.406, Training Accuracy: 85.91, Validation Loss: 0.807, Validation Accuracy: 74.68 \n",
      "\n",
      "Adjusting learning rate of group 0 to 3.4056e-04.\n"
     ]
    },
    {
     "name": "stderr",
     "output_type": "stream",
     "text": [
      "352it [00:06, 56.18it/s]\n"
     ]
    },
    {
     "name": "stdout",
     "output_type": "stream",
     "text": [
      "EPOCH 22 Completed. \n",
      " Training Loss: 0.398, Training Accuracy: 86.20, Validation Loss: 0.816, Validation Accuracy: 74.50 \n",
      "\n",
      "Adjusting learning rate of group 0 to 3.2353e-04.\n"
     ]
    },
    {
     "name": "stderr",
     "output_type": "stream",
     "text": [
      "352it [00:06, 55.27it/s]\n"
     ]
    },
    {
     "name": "stdout",
     "output_type": "stream",
     "text": [
      "EPOCH 23 Completed. \n",
      " Training Loss: 0.394, Training Accuracy: 86.37, Validation Loss: 0.821, Validation Accuracy: 74.56 \n",
      "\n",
      "Adjusting learning rate of group 0 to 3.0736e-04.\n"
     ]
    },
    {
     "name": "stderr",
     "output_type": "stream",
     "text": [
      "352it [00:06, 56.64it/s]\n"
     ]
    },
    {
     "name": "stdout",
     "output_type": "stream",
     "text": [
      "EPOCH 24 Completed. \n",
      " Training Loss: 0.387, Training Accuracy: 86.75, Validation Loss: 0.830, Validation Accuracy: 74.66 \n",
      "\n",
      "Adjusting learning rate of group 0 to 2.9199e-04.\n"
     ]
    },
    {
     "name": "stderr",
     "output_type": "stream",
     "text": [
      "352it [00:06, 55.86it/s]\n"
     ]
    },
    {
     "name": "stdout",
     "output_type": "stream",
     "text": [
      "EPOCH 25 Completed. \n",
      " Training Loss: 0.381, Training Accuracy: 86.96, Validation Loss: 0.834, Validation Accuracy: 74.46 \n",
      "\n",
      "Adjusting learning rate of group 0 to 2.7739e-04.\n"
     ]
    },
    {
     "name": "stderr",
     "output_type": "stream",
     "text": [
      "352it [00:06, 56.40it/s]\n"
     ]
    },
    {
     "name": "stdout",
     "output_type": "stream",
     "text": [
      "EPOCH 26 Completed. \n",
      " Training Loss: 0.378, Training Accuracy: 86.88, Validation Loss: 0.843, Validation Accuracy: 74.62 \n",
      "\n",
      "Adjusting learning rate of group 0 to 2.6352e-04.\n"
     ]
    },
    {
     "name": "stderr",
     "output_type": "stream",
     "text": [
      "352it [00:06, 56.35it/s]\n"
     ]
    },
    {
     "name": "stdout",
     "output_type": "stream",
     "text": [
      "EPOCH 27 Completed. \n",
      " Training Loss: 0.373, Training Accuracy: 87.14, Validation Loss: 0.850, Validation Accuracy: 74.42 \n",
      "\n",
      "Adjusting learning rate of group 0 to 2.5034e-04.\n"
     ]
    },
    {
     "name": "stderr",
     "output_type": "stream",
     "text": [
      "352it [00:06, 55.42it/s]\n"
     ]
    },
    {
     "name": "stdout",
     "output_type": "stream",
     "text": [
      "EPOCH 28 Completed. \n",
      " Training Loss: 0.369, Training Accuracy: 87.34, Validation Loss: 0.851, Validation Accuracy: 74.44 \n",
      "\n",
      "Adjusting learning rate of group 0 to 2.3783e-04.\n"
     ]
    },
    {
     "name": "stderr",
     "output_type": "stream",
     "text": [
      "352it [00:06, 55.98it/s]\n"
     ]
    },
    {
     "name": "stdout",
     "output_type": "stream",
     "text": [
      "EPOCH 29 Completed. \n",
      " Training Loss: 0.367, Training Accuracy: 87.22, Validation Loss: 0.858, Validation Accuracy: 74.52 \n",
      "\n",
      "Adjusting learning rate of group 0 to 2.2594e-04.\n"
     ]
    },
    {
     "name": "stderr",
     "output_type": "stream",
     "text": [
      "352it [00:06, 56.29it/s]\n"
     ]
    },
    {
     "name": "stdout",
     "output_type": "stream",
     "text": [
      "EPOCH 30 Completed. \n",
      " Training Loss: 0.364, Training Accuracy: 87.52, Validation Loss: 0.861, Validation Accuracy: 74.24 \n",
      "\n",
      "Adjusting learning rate of group 0 to 2.1464e-05.\n"
     ]
    },
    {
     "name": "stderr",
     "output_type": "stream",
     "text": [
      "352it [00:06, 55.64it/s]\n"
     ]
    },
    {
     "name": "stdout",
     "output_type": "stream",
     "text": [
      "EPOCH 31 Completed. \n",
      " Training Loss: 0.352, Training Accuracy: 87.96, Validation Loss: 0.862, Validation Accuracy: 74.42 \n",
      "\n",
      "Adjusting learning rate of group 0 to 2.0391e-05.\n"
     ]
    },
    {
     "name": "stderr",
     "output_type": "stream",
     "text": [
      "352it [00:06, 56.71it/s]\n"
     ]
    },
    {
     "name": "stdout",
     "output_type": "stream",
     "text": [
      "EPOCH 32 Completed. \n",
      " Training Loss: 0.351, Training Accuracy: 87.87, Validation Loss: 0.863, Validation Accuracy: 74.30 \n",
      "\n",
      "Adjusting learning rate of group 0 to 1.9371e-05.\n"
     ]
    },
    {
     "name": "stderr",
     "output_type": "stream",
     "text": [
      "352it [00:06, 56.56it/s]\n"
     ]
    },
    {
     "name": "stdout",
     "output_type": "stream",
     "text": [
      "EPOCH 33 Completed. \n",
      " Training Loss: 0.353, Training Accuracy: 87.85, Validation Loss: 0.864, Validation Accuracy: 74.32 \n",
      "\n",
      "Adjusting learning rate of group 0 to 1.8403e-05.\n"
     ]
    },
    {
     "name": "stderr",
     "output_type": "stream",
     "text": [
      "352it [00:06, 56.98it/s]\n"
     ]
    },
    {
     "name": "stdout",
     "output_type": "stream",
     "text": [
      "EPOCH 34 Completed. \n",
      " Training Loss: 0.350, Training Accuracy: 87.91, Validation Loss: 0.865, Validation Accuracy: 74.32 \n",
      "\n",
      "Adjusting learning rate of group 0 to 1.7482e-05.\n"
     ]
    },
    {
     "name": "stderr",
     "output_type": "stream",
     "text": [
      "352it [00:06, 55.96it/s]\n"
     ]
    },
    {
     "name": "stdout",
     "output_type": "stream",
     "text": [
      "EPOCH 35 Completed. \n",
      " Training Loss: 0.349, Training Accuracy: 87.99, Validation Loss: 0.865, Validation Accuracy: 74.28 \n",
      "\n",
      "Adjusting learning rate of group 0 to 1.6608e-05.\n"
     ]
    },
    {
     "name": "stderr",
     "output_type": "stream",
     "text": [
      "352it [00:06, 55.85it/s]\n"
     ]
    },
    {
     "name": "stdout",
     "output_type": "stream",
     "text": [
      "EPOCH 36 Completed. \n",
      " Training Loss: 0.349, Training Accuracy: 88.07, Validation Loss: 0.865, Validation Accuracy: 74.28 \n",
      "\n",
      "Adjusting learning rate of group 0 to 1.5778e-05.\n"
     ]
    },
    {
     "name": "stderr",
     "output_type": "stream",
     "text": [
      "352it [00:06, 56.63it/s]\n"
     ]
    },
    {
     "name": "stdout",
     "output_type": "stream",
     "text": [
      "EPOCH 37 Completed. \n",
      " Training Loss: 0.349, Training Accuracy: 88.10, Validation Loss: 0.866, Validation Accuracy: 74.30 \n",
      "\n",
      "Adjusting learning rate of group 0 to 1.4989e-05.\n"
     ]
    },
    {
     "name": "stderr",
     "output_type": "stream",
     "text": [
      "352it [00:05, 62.48it/s]\n"
     ]
    },
    {
     "name": "stdout",
     "output_type": "stream",
     "text": [
      "EPOCH 38 Completed. \n",
      " Training Loss: 0.347, Training Accuracy: 88.04, Validation Loss: 0.866, Validation Accuracy: 74.28 \n",
      "\n",
      "Adjusting learning rate of group 0 to 1.4240e-05.\n"
     ]
    },
    {
     "name": "stderr",
     "output_type": "stream",
     "text": [
      "352it [00:05, 65.62it/s]\n"
     ]
    },
    {
     "name": "stdout",
     "output_type": "stream",
     "text": [
      "EPOCH 39 Completed. \n",
      " Training Loss: 0.350, Training Accuracy: 88.02, Validation Loss: 0.867, Validation Accuracy: 74.32 \n",
      "\n",
      "Adjusting learning rate of group 0 to 1.3528e-05.\n"
     ]
    },
    {
     "name": "stderr",
     "output_type": "stream",
     "text": [
      "352it [00:05, 64.39it/s]\n"
     ]
    },
    {
     "name": "stdout",
     "output_type": "stream",
     "text": [
      "EPOCH 40 Completed. \n",
      " Training Loss: 0.348, Training Accuracy: 87.96, Validation Loss: 0.867, Validation Accuracy: 74.36 \n",
      "\n",
      "Adjusting learning rate of group 0 to 1.2851e-05.\n"
     ]
    },
    {
     "name": "stderr",
     "output_type": "stream",
     "text": [
      "352it [00:05, 65.96it/s]\n"
     ]
    },
    {
     "name": "stdout",
     "output_type": "stream",
     "text": [
      "EPOCH 41 Completed. \n",
      " Training Loss: 0.348, Training Accuracy: 88.10, Validation Loss: 0.867, Validation Accuracy: 74.34 \n",
      "\n",
      "Adjusting learning rate of group 0 to 1.2209e-05.\n"
     ]
    },
    {
     "name": "stderr",
     "output_type": "stream",
     "text": [
      "352it [00:05, 64.91it/s]\n"
     ]
    },
    {
     "name": "stdout",
     "output_type": "stream",
     "text": [
      "EPOCH 42 Completed. \n",
      " Training Loss: 0.347, Training Accuracy: 88.14, Validation Loss: 0.867, Validation Accuracy: 74.32 \n",
      "\n",
      "Adjusting learning rate of group 0 to 1.1598e-05.\n"
     ]
    },
    {
     "name": "stderr",
     "output_type": "stream",
     "text": [
      "352it [00:05, 65.81it/s]\n"
     ]
    },
    {
     "name": "stdout",
     "output_type": "stream",
     "text": [
      "EPOCH 43 Completed. \n",
      " Training Loss: 0.346, Training Accuracy: 88.14, Validation Loss: 0.868, Validation Accuracy: 74.34 \n",
      "\n",
      "Adjusting learning rate of group 0 to 1.1018e-05.\n"
     ]
    },
    {
     "name": "stderr",
     "output_type": "stream",
     "text": [
      "352it [00:05, 66.59it/s]\n"
     ]
    },
    {
     "name": "stdout",
     "output_type": "stream",
     "text": [
      "EPOCH 44 Completed. \n",
      " Training Loss: 0.348, Training Accuracy: 88.05, Validation Loss: 0.868, Validation Accuracy: 74.34 \n",
      "\n",
      "Adjusting learning rate of group 0 to 1.0467e-05.\n"
     ]
    },
    {
     "name": "stderr",
     "output_type": "stream",
     "text": [
      "352it [00:05, 67.26it/s]\n"
     ]
    },
    {
     "name": "stdout",
     "output_type": "stream",
     "text": [
      "EPOCH 45 Completed. \n",
      " Training Loss: 0.347, Training Accuracy: 88.09, Validation Loss: 0.868, Validation Accuracy: 74.30 \n",
      "\n",
      "Adjusting learning rate of group 0 to 9.9440e-07.\n"
     ]
    },
    {
     "name": "stderr",
     "output_type": "stream",
     "text": [
      "352it [00:05, 63.78it/s]\n"
     ]
    },
    {
     "name": "stdout",
     "output_type": "stream",
     "text": [
      "EPOCH 46 Completed. \n",
      " Training Loss: 0.346, Training Accuracy: 88.17, Validation Loss: 0.868, Validation Accuracy: 74.32 \n",
      "\n",
      "Adjusting learning rate of group 0 to 9.4468e-07.\n"
     ]
    },
    {
     "name": "stderr",
     "output_type": "stream",
     "text": [
      "352it [00:05, 65.48it/s]\n"
     ]
    },
    {
     "name": "stdout",
     "output_type": "stream",
     "text": [
      "EPOCH 47 Completed. \n",
      " Training Loss: 0.345, Training Accuracy: 88.23, Validation Loss: 0.868, Validation Accuracy: 74.30 \n",
      "\n",
      "Adjusting learning rate of group 0 to 8.9745e-07.\n"
     ]
    },
    {
     "name": "stderr",
     "output_type": "stream",
     "text": [
      "352it [00:05, 67.19it/s]\n"
     ]
    },
    {
     "name": "stdout",
     "output_type": "stream",
     "text": [
      "EPOCH 48 Completed. \n",
      " Training Loss: 0.345, Training Accuracy: 88.25, Validation Loss: 0.868, Validation Accuracy: 74.32 \n",
      "\n",
      "Adjusting learning rate of group 0 to 8.5258e-07.\n"
     ]
    },
    {
     "name": "stderr",
     "output_type": "stream",
     "text": [
      "352it [00:05, 70.19it/s]\n"
     ]
    },
    {
     "name": "stdout",
     "output_type": "stream",
     "text": [
      "EPOCH 49 Completed. \n",
      " Training Loss: 0.345, Training Accuracy: 88.22, Validation Loss: 0.868, Validation Accuracy: 74.30 \n",
      "\n",
      "Adjusting learning rate of group 0 to 8.0995e-07.\n"
     ]
    },
    {
     "name": "stderr",
     "output_type": "stream",
     "text": [
      "352it [00:05, 67.26it/s]\n"
     ]
    },
    {
     "name": "stdout",
     "output_type": "stream",
     "text": [
      "EPOCH 50 Completed. \n",
      " Training Loss: 0.346, Training Accuracy: 88.12, Validation Loss: 0.869, Validation Accuracy: 74.32 \n",
      "\n",
      "Adjusting learning rate of group 0 to 7.6945e-07.\n"
     ]
    },
    {
     "name": "stderr",
     "output_type": "stream",
     "text": [
      "352it [00:05, 63.13it/s]\n"
     ]
    },
    {
     "name": "stdout",
     "output_type": "stream",
     "text": [
      "EPOCH 51 Completed. \n",
      " Training Loss: 0.348, Training Accuracy: 88.13, Validation Loss: 0.869, Validation Accuracy: 74.30 \n",
      "\n",
      "Adjusting learning rate of group 0 to 7.3098e-07.\n"
     ]
    },
    {
     "name": "stderr",
     "output_type": "stream",
     "text": [
      "352it [00:05, 67.09it/s]\n"
     ]
    },
    {
     "name": "stdout",
     "output_type": "stream",
     "text": [
      "EPOCH 52 Completed. \n",
      " Training Loss: 0.344, Training Accuracy: 88.35, Validation Loss: 0.869, Validation Accuracy: 74.30 \n",
      "\n",
      "Adjusting learning rate of group 0 to 6.9443e-07.\n"
     ]
    },
    {
     "name": "stderr",
     "output_type": "stream",
     "text": [
      "352it [00:05, 69.91it/s]\n"
     ]
    },
    {
     "name": "stdout",
     "output_type": "stream",
     "text": [
      "EPOCH 53 Completed. \n",
      " Training Loss: 0.348, Training Accuracy: 88.25, Validation Loss: 0.869, Validation Accuracy: 74.30 \n",
      "\n",
      "Adjusting learning rate of group 0 to 6.5971e-07.\n"
     ]
    },
    {
     "name": "stderr",
     "output_type": "stream",
     "text": [
      "352it [00:05, 65.11it/s]\n"
     ]
    },
    {
     "name": "stdout",
     "output_type": "stream",
     "text": [
      "EPOCH 54 Completed. \n",
      " Training Loss: 0.346, Training Accuracy: 88.24, Validation Loss: 0.869, Validation Accuracy: 74.32 \n",
      "\n",
      "Adjusting learning rate of group 0 to 6.2672e-07.\n"
     ]
    },
    {
     "name": "stderr",
     "output_type": "stream",
     "text": [
      "352it [00:05, 67.89it/s]\n"
     ]
    },
    {
     "name": "stdout",
     "output_type": "stream",
     "text": [
      "EPOCH 55 Completed. \n",
      " Training Loss: 0.348, Training Accuracy: 88.18, Validation Loss: 0.869, Validation Accuracy: 74.32 \n",
      "\n",
      "Adjusting learning rate of group 0 to 5.9539e-07.\n"
     ]
    },
    {
     "name": "stderr",
     "output_type": "stream",
     "text": [
      "352it [00:03, 89.75it/s]\n"
     ]
    },
    {
     "name": "stdout",
     "output_type": "stream",
     "text": [
      "EPOCH 56 Completed. \n",
      " Training Loss: 0.344, Training Accuracy: 88.32, Validation Loss: 0.869, Validation Accuracy: 74.30 \n",
      "\n",
      "Adjusting learning rate of group 0 to 5.6562e-07.\n"
     ]
    },
    {
     "name": "stderr",
     "output_type": "stream",
     "text": [
      "352it [00:05, 69.78it/s]\n"
     ]
    },
    {
     "name": "stdout",
     "output_type": "stream",
     "text": [
      "EPOCH 57 Completed. \n",
      " Training Loss: 0.347, Training Accuracy: 88.09, Validation Loss: 0.869, Validation Accuracy: 74.30 \n",
      "\n",
      "Adjusting learning rate of group 0 to 5.3734e-07.\n"
     ]
    },
    {
     "name": "stderr",
     "output_type": "stream",
     "text": [
      "352it [00:06, 56.43it/s]\n"
     ]
    },
    {
     "name": "stdout",
     "output_type": "stream",
     "text": [
      "EPOCH 58 Completed. \n",
      " Training Loss: 0.345, Training Accuracy: 88.19, Validation Loss: 0.869, Validation Accuracy: 74.30 \n",
      "\n",
      "Adjusting learning rate of group 0 to 5.1047e-07.\n"
     ]
    },
    {
     "name": "stderr",
     "output_type": "stream",
     "text": [
      "352it [00:06, 55.92it/s]\n"
     ]
    },
    {
     "name": "stdout",
     "output_type": "stream",
     "text": [
      "EPOCH 59 Completed. \n",
      " Training Loss: 0.345, Training Accuracy: 88.21, Validation Loss: 0.869, Validation Accuracy: 74.30 \n",
      "\n",
      "Adjusting learning rate of group 0 to 4.8495e-07.\n"
     ]
    },
    {
     "name": "stderr",
     "output_type": "stream",
     "text": [
      "352it [00:06, 56.92it/s]\n"
     ]
    },
    {
     "name": "stdout",
     "output_type": "stream",
     "text": [
      "EPOCH 60 Completed. \n",
      " Training Loss: 0.347, Training Accuracy: 88.15, Validation Loss: 0.869, Validation Accuracy: 74.30 \n",
      "\n",
      "Adjusting learning rate of group 0 to 4.6070e-08.\n"
     ]
    },
    {
     "name": "stderr",
     "output_type": "stream",
     "text": [
      "352it [00:06, 56.75it/s]\n"
     ]
    },
    {
     "name": "stdout",
     "output_type": "stream",
     "text": [
      "EPOCH 61 Completed. \n",
      " Training Loss: 0.346, Training Accuracy: 88.14, Validation Loss: 0.869, Validation Accuracy: 74.30 \n",
      "\n",
      "Adjusting learning rate of group 0 to 4.3766e-08.\n"
     ]
    },
    {
     "name": "stderr",
     "output_type": "stream",
     "text": [
      "352it [00:06, 55.66it/s]\n"
     ]
    },
    {
     "name": "stdout",
     "output_type": "stream",
     "text": [
      "EPOCH 62 Completed. \n",
      " Training Loss: 0.347, Training Accuracy: 88.12, Validation Loss: 0.869, Validation Accuracy: 74.30 \n",
      "\n",
      "Adjusting learning rate of group 0 to 4.1578e-08.\n"
     ]
    },
    {
     "name": "stderr",
     "output_type": "stream",
     "text": [
      "352it [00:06, 56.38it/s]\n"
     ]
    },
    {
     "name": "stdout",
     "output_type": "stream",
     "text": [
      "EPOCH 63 Completed. \n",
      " Training Loss: 0.346, Training Accuracy: 88.32, Validation Loss: 0.869, Validation Accuracy: 74.30 \n",
      "\n",
      "Adjusting learning rate of group 0 to 3.9499e-08.\n"
     ]
    },
    {
     "name": "stderr",
     "output_type": "stream",
     "text": [
      "352it [00:06, 55.59it/s]\n"
     ]
    },
    {
     "name": "stdout",
     "output_type": "stream",
     "text": [
      "EPOCH 64 Completed. \n",
      " Training Loss: 0.348, Training Accuracy: 88.10, Validation Loss: 0.869, Validation Accuracy: 74.30 \n",
      "\n",
      "Adjusting learning rate of group 0 to 3.7524e-08.\n"
     ]
    },
    {
     "name": "stderr",
     "output_type": "stream",
     "text": [
      "352it [00:06, 55.54it/s]\n"
     ]
    },
    {
     "name": "stdout",
     "output_type": "stream",
     "text": [
      "EPOCH 65 Completed. \n",
      " Training Loss: 0.345, Training Accuracy: 88.22, Validation Loss: 0.869, Validation Accuracy: 74.30 \n",
      "\n",
      "Adjusting learning rate of group 0 to 3.5648e-08.\n"
     ]
    },
    {
     "name": "stderr",
     "output_type": "stream",
     "text": [
      "352it [00:06, 56.22it/s]\n"
     ]
    },
    {
     "name": "stdout",
     "output_type": "stream",
     "text": [
      "EPOCH 66 Completed. \n",
      " Training Loss: 0.347, Training Accuracy: 88.13, Validation Loss: 0.869, Validation Accuracy: 74.30 \n",
      "\n",
      "Adjusting learning rate of group 0 to 3.3866e-08.\n"
     ]
    },
    {
     "name": "stderr",
     "output_type": "stream",
     "text": [
      "352it [00:06, 55.62it/s]\n"
     ]
    },
    {
     "name": "stdout",
     "output_type": "stream",
     "text": [
      "EPOCH 67 Completed. \n",
      " Training Loss: 0.346, Training Accuracy: 88.12, Validation Loss: 0.869, Validation Accuracy: 74.30 \n",
      "\n",
      "Adjusting learning rate of group 0 to 3.2172e-08.\n"
     ]
    },
    {
     "name": "stderr",
     "output_type": "stream",
     "text": [
      "352it [00:06, 56.84it/s]\n"
     ]
    },
    {
     "name": "stdout",
     "output_type": "stream",
     "text": [
      "EPOCH 68 Completed. \n",
      " Training Loss: 0.347, Training Accuracy: 88.15, Validation Loss: 0.869, Validation Accuracy: 74.30 \n",
      "\n",
      "Adjusting learning rate of group 0 to 3.0564e-08.\n"
     ]
    },
    {
     "name": "stderr",
     "output_type": "stream",
     "text": [
      "352it [00:06, 56.84it/s]\n"
     ]
    },
    {
     "name": "stdout",
     "output_type": "stream",
     "text": [
      "EPOCH 69 Completed. \n",
      " Training Loss: 0.345, Training Accuracy: 88.19, Validation Loss: 0.869, Validation Accuracy: 74.30 \n",
      "\n",
      "Adjusting learning rate of group 0 to 2.9035e-08.\n"
     ]
    },
    {
     "name": "stderr",
     "output_type": "stream",
     "text": [
      "352it [00:06, 56.19it/s]\n"
     ]
    },
    {
     "name": "stdout",
     "output_type": "stream",
     "text": [
      "EPOCH 70 Completed. \n",
      " Training Loss: 0.346, Training Accuracy: 88.21, Validation Loss: 0.869, Validation Accuracy: 74.30 \n",
      "\n",
      "Adjusting learning rate of group 0 to 2.7584e-08.\n"
     ]
    },
    {
     "name": "stderr",
     "output_type": "stream",
     "text": [
      "352it [00:06, 56.19it/s]\n"
     ]
    },
    {
     "name": "stdout",
     "output_type": "stream",
     "text": [
      "EPOCH 71 Completed. \n",
      " Training Loss: 0.346, Training Accuracy: 88.15, Validation Loss: 0.869, Validation Accuracy: 74.30 \n",
      "\n",
      "Adjusting learning rate of group 0 to 2.6205e-08.\n"
     ]
    },
    {
     "name": "stderr",
     "output_type": "stream",
     "text": [
      "352it [00:06, 55.69it/s]\n"
     ]
    },
    {
     "name": "stdout",
     "output_type": "stream",
     "text": [
      "EPOCH 72 Completed. \n",
      " Training Loss: 0.347, Training Accuracy: 88.07, Validation Loss: 0.869, Validation Accuracy: 74.30 \n",
      "\n",
      "Adjusting learning rate of group 0 to 2.4894e-08.\n"
     ]
    },
    {
     "name": "stderr",
     "output_type": "stream",
     "text": [
      "352it [00:06, 56.57it/s]\n"
     ]
    },
    {
     "name": "stdout",
     "output_type": "stream",
     "text": [
      "EPOCH 73 Completed. \n",
      " Training Loss: 0.347, Training Accuracy: 87.96, Validation Loss: 0.869, Validation Accuracy: 74.30 \n",
      "\n",
      "Adjusting learning rate of group 0 to 2.3650e-08.\n"
     ]
    },
    {
     "name": "stderr",
     "output_type": "stream",
     "text": [
      "352it [00:06, 56.87it/s]\n"
     ]
    },
    {
     "name": "stdout",
     "output_type": "stream",
     "text": [
      "EPOCH 74 Completed. \n",
      " Training Loss: 0.345, Training Accuracy: 88.20, Validation Loss: 0.869, Validation Accuracy: 74.30 \n",
      "\n",
      "Adjusting learning rate of group 0 to 2.2467e-08.\n"
     ]
    },
    {
     "name": "stderr",
     "output_type": "stream",
     "text": [
      "352it [00:06, 55.72it/s]\n"
     ]
    },
    {
     "name": "stdout",
     "output_type": "stream",
     "text": [
      "EPOCH 75 Completed. \n",
      " Training Loss: 0.345, Training Accuracy: 88.22, Validation Loss: 0.869, Validation Accuracy: 74.30 \n",
      "\n",
      "Adjusting learning rate of group 0 to 2.1344e-08.\n"
     ]
    },
    {
     "name": "stderr",
     "output_type": "stream",
     "text": [
      "352it [00:06, 56.20it/s]\n"
     ]
    },
    {
     "name": "stdout",
     "output_type": "stream",
     "text": [
      "EPOCH 76 Completed. \n",
      " Training Loss: 0.347, Training Accuracy: 88.08, Validation Loss: 0.869, Validation Accuracy: 74.30 \n",
      "\n",
      "Adjusting learning rate of group 0 to 2.0277e-08.\n"
     ]
    },
    {
     "name": "stderr",
     "output_type": "stream",
     "text": [
      "352it [00:06, 56.53it/s]\n"
     ]
    },
    {
     "name": "stdout",
     "output_type": "stream",
     "text": [
      "EPOCH 77 Completed. \n",
      " Training Loss: 0.345, Training Accuracy: 88.17, Validation Loss: 0.869, Validation Accuracy: 74.30 \n",
      "\n",
      "Adjusting learning rate of group 0 to 1.9263e-08.\n"
     ]
    },
    {
     "name": "stderr",
     "output_type": "stream",
     "text": [
      "352it [00:06, 55.73it/s]\n"
     ]
    },
    {
     "name": "stdout",
     "output_type": "stream",
     "text": [
      "EPOCH 78 Completed. \n",
      " Training Loss: 0.344, Training Accuracy: 88.23, Validation Loss: 0.869, Validation Accuracy: 74.30 \n",
      "\n",
      "Adjusting learning rate of group 0 to 1.8300e-08.\n"
     ]
    },
    {
     "name": "stderr",
     "output_type": "stream",
     "text": [
      "352it [00:06, 55.91it/s]\n"
     ]
    },
    {
     "name": "stdout",
     "output_type": "stream",
     "text": [
      "EPOCH 79 Completed. \n",
      " Training Loss: 0.346, Training Accuracy: 88.21, Validation Loss: 0.869, Validation Accuracy: 74.30 \n",
      "\n",
      "Adjusting learning rate of group 0 to 1.7385e-08.\n"
     ]
    },
    {
     "name": "stderr",
     "output_type": "stream",
     "text": [
      "352it [00:06, 55.54it/s]\n"
     ]
    },
    {
     "name": "stdout",
     "output_type": "stream",
     "text": [
      "EPOCH 80 Completed. \n",
      " Training Loss: 0.346, Training Accuracy: 88.05, Validation Loss: 0.869, Validation Accuracy: 74.30 \n",
      "\n",
      "Adjusting learning rate of group 0 to 1.6515e-08.\n"
     ]
    },
    {
     "name": "stderr",
     "output_type": "stream",
     "text": [
      "352it [00:06, 56.02it/s]\n"
     ]
    },
    {
     "name": "stdout",
     "output_type": "stream",
     "text": [
      "EPOCH 81 Completed. \n",
      " Training Loss: 0.345, Training Accuracy: 88.20, Validation Loss: 0.869, Validation Accuracy: 74.30 \n",
      "\n",
      "Adjusting learning rate of group 0 to 1.5690e-08.\n"
     ]
    },
    {
     "name": "stderr",
     "output_type": "stream",
     "text": [
      "352it [00:06, 54.92it/s]\n"
     ]
    },
    {
     "name": "stdout",
     "output_type": "stream",
     "text": [
      "EPOCH 82 Completed. \n",
      " Training Loss: 0.346, Training Accuracy: 88.20, Validation Loss: 0.869, Validation Accuracy: 74.30 \n",
      "\n",
      "Adjusting learning rate of group 0 to 1.4905e-08.\n"
     ]
    },
    {
     "name": "stderr",
     "output_type": "stream",
     "text": [
      "352it [00:05, 60.47it/s]\n"
     ]
    },
    {
     "name": "stdout",
     "output_type": "stream",
     "text": [
      "EPOCH 83 Completed. \n",
      " Training Loss: 0.348, Training Accuracy: 88.06, Validation Loss: 0.869, Validation Accuracy: 74.30 \n",
      "\n",
      "Adjusting learning rate of group 0 to 1.4160e-08.\n"
     ]
    },
    {
     "name": "stderr",
     "output_type": "stream",
     "text": [
      "352it [00:05, 66.18it/s]\n"
     ]
    },
    {
     "name": "stdout",
     "output_type": "stream",
     "text": [
      "EPOCH 84 Completed. \n",
      " Training Loss: 0.346, Training Accuracy: 88.17, Validation Loss: 0.869, Validation Accuracy: 74.30 \n",
      "\n",
      "Adjusting learning rate of group 0 to 1.3452e-08.\n"
     ]
    },
    {
     "name": "stderr",
     "output_type": "stream",
     "text": [
      "352it [00:05, 67.33it/s]\n"
     ]
    },
    {
     "name": "stdout",
     "output_type": "stream",
     "text": [
      "EPOCH 85 Completed. \n",
      " Training Loss: 0.344, Training Accuracy: 88.29, Validation Loss: 0.869, Validation Accuracy: 74.30 \n",
      "\n",
      "Adjusting learning rate of group 0 to 1.2779e-08.\n"
     ]
    },
    {
     "name": "stderr",
     "output_type": "stream",
     "text": [
      "352it [00:05, 66.83it/s]\n"
     ]
    },
    {
     "name": "stdout",
     "output_type": "stream",
     "text": [
      "EPOCH 86 Completed. \n",
      " Training Loss: 0.345, Training Accuracy: 88.16, Validation Loss: 0.869, Validation Accuracy: 74.30 \n",
      "\n",
      "Adjusting learning rate of group 0 to 1.2140e-08.\n"
     ]
    },
    {
     "name": "stderr",
     "output_type": "stream",
     "text": [
      "352it [00:05, 69.83it/s]\n"
     ]
    },
    {
     "name": "stdout",
     "output_type": "stream",
     "text": [
      "EPOCH 87 Completed. \n",
      " Training Loss: 0.346, Training Accuracy: 88.14, Validation Loss: 0.869, Validation Accuracy: 74.30 \n",
      "\n",
      "Adjusting learning rate of group 0 to 1.1533e-08.\n"
     ]
    },
    {
     "name": "stderr",
     "output_type": "stream",
     "text": [
      "352it [00:05, 67.19it/s]\n"
     ]
    },
    {
     "name": "stdout",
     "output_type": "stream",
     "text": [
      "EPOCH 88 Completed. \n",
      " Training Loss: 0.347, Training Accuracy: 88.07, Validation Loss: 0.869, Validation Accuracy: 74.30 \n",
      "\n",
      "Adjusting learning rate of group 0 to 1.0957e-08.\n"
     ]
    },
    {
     "name": "stderr",
     "output_type": "stream",
     "text": [
      "352it [00:05, 64.77it/s]\n"
     ]
    },
    {
     "name": "stdout",
     "output_type": "stream",
     "text": [
      "EPOCH 89 Completed. \n",
      " Training Loss: 0.346, Training Accuracy: 88.19, Validation Loss: 0.869, Validation Accuracy: 74.30 \n",
      "\n",
      "Adjusting learning rate of group 0 to 1.0409e-08.\n"
     ]
    },
    {
     "name": "stderr",
     "output_type": "stream",
     "text": [
      "352it [00:05, 64.83it/s]\n"
     ]
    },
    {
     "name": "stdout",
     "output_type": "stream",
     "text": [
      "EPOCH 90 Completed. \n",
      " Training Loss: 0.349, Training Accuracy: 87.96, Validation Loss: 0.869, Validation Accuracy: 74.30 \n",
      "\n",
      "Adjusting learning rate of group 0 to 9.8884e-10.\n"
     ]
    }
   ],
   "source": [
    "EPOCHS=90\n",
    "\n",
    "losses2, accs2, valid_losses2, valid_accs2 = train(model2, trainloader, validloader, EPOCHS, device, \n",
    "                                               loss_ftn, optimizer2, scheduler=scheduler2)"
   ]
  },
  {
   "cell_type": "code",
   "execution_count": 22,
   "id": "3bc3f5ac",
   "metadata": {},
   "outputs": [
    {
     "data": {
      "image/png": "[encoded data removed]",
      "text/plain": [
       "<Figure size 432x288 with 1 Axes>"
      ]
     },
     "metadata": {
      "needs_background": "light"
     },
     "output_type": "display_data"
    }
   ],
   "source": [
    "plt.figure()\n",
    "plt.plot(np.arange(1,EPOCHS+1), losses2, label='training loss')\n",
    "plt.plot(np.arange(1,EPOCHS+1), valid_losses2, label='validation loss')\n",
    "plt.legend()\n",
    "plt.show()"
   ]
  },
  {
   "cell_type": "code",
   "execution_count": 23,
   "id": "69dc1f4c",
   "metadata": {},
   "outputs": [
    {
     "data": {
      "image/png": "[encoded data removed]",
      "text/plain": [
       "<Figure size 432x288 with 1 Axes>"
      ]
     },
     "metadata": {
      "needs_background": "light"
     },
     "output_type": "display_data"
    }
   ],
   "source": [
    "plt.figure()\n",
    "plt.plot(np.arange(1,EPOCHS+1), accs2, label='training accuracy')\n",
    "plt.plot(np.arange(1,EPOCHS+1), valid_accs2, label='validation accuracy')\n",
    "plt.legend()\n",
    "plt.show()"
   ]
  },
  {
   "cell_type": "code",
   "execution_count": 54,
   "id": "8330f1d4",
   "metadata": {},
   "outputs": [
    {
     "data": {
      "image/png": "[encoded data removed]",
      "text/plain": [
       "<Figure size 432x288 with 1 Axes>"
      ]
     },
     "metadata": {
      "needs_background": "light"
     },
     "output_type": "display_data"
    }
   ],
   "source": [
    "plt.figure()\n",
    "plt.plot(np.arange(1,EPOCHS+1), losses3, label='training loss')\n",
    "plt.plot(np.arange(1,EPOCHS+1), valid_losses3, label='validation loss')\n",
    "plt.legend()\n",
    "plt.show()"
   ]
  },
  {
   "cell_type": "code",
   "execution_count": 21,
   "id": "d8312103",
   "metadata": {},
   "outputs": [
    {
     "name": "stdout",
     "output_type": "stream",
     "text": [
      "Accuracy of the network on 10000 test images: 74.19 %\n"
     ]
    }
   ],
   "source": [
    "test(model2, testloader, device)"
   ]
  },
  {
   "cell_type": "code",
   "execution_count": null,
   "id": "08ff3b84",
   "metadata": {},
   "outputs": [],
   "source": []
  },
  {
   "cell_type": "code",
   "execution_count": 24,
   "id": "e582e30f",
   "metadata": {},
   "outputs": [],
   "source": [
    "from models import MobileNet3"
   ]
  },
  {
   "cell_type": "code",
   "execution_count": 25,
   "id": "4ec256e4",
   "metadata": {
    "scrolled": true
   },
   "outputs": [
    {
     "name": "stdout",
     "output_type": "stream",
     "text": [
      "----------------------------------------------------------------\n",
      "        Layer (type)               Output Shape         Param #\n",
      "================================================================\n",
      "            Conv2d-1           [-1, 16, 32, 32]           2,352\n",
      "       BatchNorm2d-2           [-1, 16, 32, 32]              32\n",
      "              ReLU-3           [-1, 16, 32, 32]               0\n",
      "            Conv2d-4           [-1, 16, 32, 32]             144\n",
      "       BatchNorm2d-5           [-1, 16, 32, 32]              32\n",
      "              ReLU-6           [-1, 16, 32, 32]               0\n",
      "            Conv2d-7           [-1, 16, 32, 32]             256\n",
      "       BatchNorm2d-8           [-1, 16, 32, 32]              32\n",
      "              ReLU-9           [-1, 16, 32, 32]               0\n",
      "        Dropout2d-10           [-1, 16, 32, 32]               0\n",
      "        MaxPool2d-11           [-1, 16, 16, 16]               0\n",
      "           Conv2d-12           [-1, 16, 16, 16]             144\n",
      "      BatchNorm2d-13           [-1, 16, 16, 16]              32\n",
      "             ReLU-14           [-1, 16, 16, 16]               0\n",
      "           Conv2d-15           [-1, 32, 16, 16]             512\n",
      "      BatchNorm2d-16           [-1, 32, 16, 16]              64\n",
      "             ReLU-17           [-1, 32, 16, 16]               0\n",
      "        Dropout2d-18           [-1, 32, 16, 16]               0\n",
      "        MaxPool2d-19             [-1, 32, 8, 8]               0\n",
      "           Conv2d-20             [-1, 32, 8, 8]             288\n",
      "      BatchNorm2d-21             [-1, 32, 8, 8]              64\n",
      "             ReLU-22             [-1, 32, 8, 8]               0\n",
      "           Conv2d-23             [-1, 64, 8, 8]           2,048\n",
      "      BatchNorm2d-24             [-1, 64, 8, 8]             128\n",
      "             ReLU-25             [-1, 64, 8, 8]               0\n",
      "        Dropout2d-26             [-1, 64, 8, 8]               0\n",
      "        MaxPool2d-27             [-1, 64, 4, 4]               0\n",
      "           Conv2d-28             [-1, 64, 4, 4]             576\n",
      "      BatchNorm2d-29             [-1, 64, 4, 4]             128\n",
      "             ReLU-30             [-1, 64, 4, 4]               0\n",
      "           Conv2d-31            [-1, 128, 4, 4]           8,192\n",
      "      BatchNorm2d-32            [-1, 128, 4, 4]             256\n",
      "             ReLU-33            [-1, 128, 4, 4]               0\n",
      "        Dropout2d-34            [-1, 128, 4, 4]               0\n",
      "        AvgPool2d-35            [-1, 128, 1, 1]               0\n",
      "           Linear-36                   [-1, 32]           4,096\n",
      "      BatchNorm1d-37                   [-1, 32]              64\n",
      "             ReLU-38                   [-1, 32]               0\n",
      "           Linear-39                   [-1, 10]             330\n",
      "================================================================\n",
      "Total params: 19,770\n",
      "Trainable params: 19,770\n",
      "Non-trainable params: 0\n",
      "----------------------------------------------------------------\n",
      "Input size (MB): 0.01\n",
      "Forward/backward pass size (MB): 1.91\n",
      "Params size (MB): 0.08\n",
      "Estimated Total Size (MB): 2.00\n",
      "----------------------------------------------------------------\n"
     ]
    }
   ],
   "source": [
    "model3 = MobileNet3(channels=[16,16,32,64,128]).to(device)\n",
    "\n",
    "summary(model3, (3,32,32))"
   ]
  },
  {
   "cell_type": "code",
   "execution_count": 26,
   "id": "454df92e",
   "metadata": {},
   "outputs": [
    {
     "name": "stdout",
     "output_type": "stream",
     "text": [
      "Adjusting learning rate of group 0 to 1.0000e-02.\n"
     ]
    }
   ],
   "source": [
    "loss_ftn = nn.CrossEntropyLoss()\n",
    "\n",
    "optimizer3 = optim.Adam(model3.parameters(), lr=0.01, weight_decay=0.0001)\n",
    "\n",
    "scheduler3 = optim.lr_scheduler.LambdaLR(optimizer=optimizer3,\n",
    "                                        lr_lambda=lambda epoch: lr_schedule(epoch) ,\n",
    "                                        last_epoch=-1,\n",
    "                                        verbose=True)"
   ]
  },
  {
   "cell_type": "code",
   "execution_count": 27,
   "id": "76934266",
   "metadata": {
    "scrolled": true
   },
   "outputs": [
    {
     "name": "stderr",
     "output_type": "stream",
     "text": [
      "352it [00:06, 56.85it/s]\n"
     ]
    },
    {
     "name": "stdout",
     "output_type": "stream",
     "text": [
      "EPOCH 1 Completed. \n",
      " Training Loss: 1.804, Training Accuracy: 32.65, Validation Loss: 1.587, Validation Accuracy: 41.70 \n",
      "\n",
      "Adjusting learning rate of group 0 to 9.5000e-03.\n"
     ]
    },
    {
     "name": "stderr",
     "output_type": "stream",
     "text": [
      "352it [00:06, 56.78it/s]\n"
     ]
    },
    {
     "name": "stdout",
     "output_type": "stream",
     "text": [
      "EPOCH 2 Completed. \n",
      " Training Loss: 1.491, Training Accuracy: 44.59, Validation Loss: 1.434, Validation Accuracy: 48.22 \n",
      "\n",
      "Adjusting learning rate of group 0 to 9.0250e-03.\n"
     ]
    },
    {
     "name": "stderr",
     "output_type": "stream",
     "text": [
      "352it [00:06, 58.00it/s]\n"
     ]
    },
    {
     "name": "stdout",
     "output_type": "stream",
     "text": [
      "EPOCH 3 Completed. \n",
      " Training Loss: 1.366, Training Accuracy: 49.97, Validation Loss: 1.315, Validation Accuracy: 52.40 \n",
      "\n",
      "Adjusting learning rate of group 0 to 8.5737e-03.\n"
     ]
    },
    {
     "name": "stderr",
     "output_type": "stream",
     "text": [
      "352it [00:06, 56.31it/s]\n"
     ]
    },
    {
     "name": "stdout",
     "output_type": "stream",
     "text": [
      "EPOCH 4 Completed. \n",
      " Training Loss: 1.286, Training Accuracy: 53.19, Validation Loss: 1.278, Validation Accuracy: 53.12 \n",
      "\n",
      "Adjusting learning rate of group 0 to 8.1451e-03.\n"
     ]
    },
    {
     "name": "stderr",
     "output_type": "stream",
     "text": [
      "352it [00:06, 56.43it/s]\n"
     ]
    },
    {
     "name": "stdout",
     "output_type": "stream",
     "text": [
      "EPOCH 5 Completed. \n",
      " Training Loss: 1.223, Training Accuracy: 55.83, Validation Loss: 1.234, Validation Accuracy: 55.92 \n",
      "\n",
      "Adjusting learning rate of group 0 to 7.7378e-03.\n"
     ]
    },
    {
     "name": "stderr",
     "output_type": "stream",
     "text": [
      "352it [00:06, 56.10it/s]\n"
     ]
    },
    {
     "name": "stdout",
     "output_type": "stream",
     "text": [
      "EPOCH 6 Completed. \n",
      " Training Loss: 1.175, Training Accuracy: 57.74, Validation Loss: 1.198, Validation Accuracy: 57.02 \n",
      "\n",
      "Adjusting learning rate of group 0 to 7.3509e-03.\n"
     ]
    },
    {
     "name": "stderr",
     "output_type": "stream",
     "text": [
      "352it [00:06, 55.78it/s]\n"
     ]
    },
    {
     "name": "stdout",
     "output_type": "stream",
     "text": [
      "EPOCH 7 Completed. \n",
      " Training Loss: 1.153, Training Accuracy: 58.66, Validation Loss: 1.168, Validation Accuracy: 58.54 \n",
      "\n",
      "Adjusting learning rate of group 0 to 6.9834e-03.\n"
     ]
    },
    {
     "name": "stderr",
     "output_type": "stream",
     "text": [
      "352it [00:06, 55.54it/s]\n"
     ]
    },
    {
     "name": "stdout",
     "output_type": "stream",
     "text": [
      "EPOCH 8 Completed. \n",
      " Training Loss: 1.119, Training Accuracy: 59.65, Validation Loss: 1.153, Validation Accuracy: 58.68 \n",
      "\n",
      "Adjusting learning rate of group 0 to 6.6342e-03.\n"
     ]
    },
    {
     "name": "stderr",
     "output_type": "stream",
     "text": [
      "352it [00:06, 56.31it/s]\n"
     ]
    },
    {
     "name": "stdout",
     "output_type": "stream",
     "text": [
      "EPOCH 9 Completed. \n",
      " Training Loss: 1.101, Training Accuracy: 60.44, Validation Loss: 1.131, Validation Accuracy: 59.64 \n",
      "\n",
      "Adjusting learning rate of group 0 to 6.3025e-03.\n"
     ]
    },
    {
     "name": "stderr",
     "output_type": "stream",
     "text": [
      "352it [00:05, 65.19it/s]\n"
     ]
    },
    {
     "name": "stdout",
     "output_type": "stream",
     "text": [
      "EPOCH 10 Completed. \n",
      " Training Loss: 1.079, Training Accuracy: 61.27, Validation Loss: 1.102, Validation Accuracy: 60.70 \n",
      "\n",
      "Adjusting learning rate of group 0 to 5.9874e-03.\n"
     ]
    },
    {
     "name": "stderr",
     "output_type": "stream",
     "text": [
      "352it [00:05, 64.45it/s]\n"
     ]
    },
    {
     "name": "stdout",
     "output_type": "stream",
     "text": [
      "EPOCH 11 Completed. \n",
      " Training Loss: 1.053, Training Accuracy: 62.31, Validation Loss: 1.082, Validation Accuracy: 61.84 \n",
      "\n",
      "Adjusting learning rate of group 0 to 5.6880e-03.\n"
     ]
    },
    {
     "name": "stderr",
     "output_type": "stream",
     "text": [
      "352it [00:05, 65.90it/s]\n"
     ]
    },
    {
     "name": "stdout",
     "output_type": "stream",
     "text": [
      "EPOCH 12 Completed. \n",
      " Training Loss: 1.037, Training Accuracy: 63.17, Validation Loss: 1.100, Validation Accuracy: 60.70 \n",
      "\n",
      "Adjusting learning rate of group 0 to 5.4036e-03.\n"
     ]
    },
    {
     "name": "stderr",
     "output_type": "stream",
     "text": [
      "352it [00:05, 64.64it/s]\n"
     ]
    },
    {
     "name": "stdout",
     "output_type": "stream",
     "text": [
      "EPOCH 13 Completed. \n",
      " Training Loss: 1.021, Training Accuracy: 63.59, Validation Loss: 1.056, Validation Accuracy: 62.56 \n",
      "\n",
      "Adjusting learning rate of group 0 to 5.1334e-03.\n"
     ]
    },
    {
     "name": "stderr",
     "output_type": "stream",
     "text": [
      "352it [00:05, 66.27it/s]\n"
     ]
    },
    {
     "name": "stdout",
     "output_type": "stream",
     "text": [
      "EPOCH 14 Completed. \n",
      " Training Loss: 1.008, Training Accuracy: 64.15, Validation Loss: 1.086, Validation Accuracy: 62.26 \n",
      "\n",
      "Adjusting learning rate of group 0 to 4.8767e-03.\n"
     ]
    },
    {
     "name": "stderr",
     "output_type": "stream",
     "text": [
      "352it [00:05, 66.57it/s]\n"
     ]
    },
    {
     "name": "stdout",
     "output_type": "stream",
     "text": [
      "EPOCH 15 Completed. \n",
      " Training Loss: 0.991, Training Accuracy: 64.76, Validation Loss: 1.050, Validation Accuracy: 63.50 \n",
      "\n",
      "Adjusting learning rate of group 0 to 4.6329e-04.\n"
     ]
    },
    {
     "name": "stderr",
     "output_type": "stream",
     "text": [
      "352it [00:05, 66.49it/s]\n"
     ]
    },
    {
     "name": "stdout",
     "output_type": "stream",
     "text": [
      "EPOCH 16 Completed. \n",
      " Training Loss: 0.938, Training Accuracy: 66.49, Validation Loss: 1.003, Validation Accuracy: 65.00 \n",
      "\n",
      "Adjusting learning rate of group 0 to 4.4013e-04.\n"
     ]
    },
    {
     "name": "stderr",
     "output_type": "stream",
     "text": [
      "352it [00:05, 66.31it/s]\n"
     ]
    },
    {
     "name": "stdout",
     "output_type": "stream",
     "text": [
      "EPOCH 17 Completed. \n",
      " Training Loss: 0.921, Training Accuracy: 66.97, Validation Loss: 0.990, Validation Accuracy: 65.26 \n",
      "\n",
      "Adjusting learning rate of group 0 to 4.1812e-04.\n"
     ]
    },
    {
     "name": "stderr",
     "output_type": "stream",
     "text": [
      "352it [00:05, 66.31it/s]\n"
     ]
    },
    {
     "name": "stdout",
     "output_type": "stream",
     "text": [
      "EPOCH 18 Completed. \n",
      " Training Loss: 0.911, Training Accuracy: 67.46, Validation Loss: 0.982, Validation Accuracy: 65.32 \n",
      "\n",
      "Adjusting learning rate of group 0 to 3.9721e-04.\n"
     ]
    },
    {
     "name": "stderr",
     "output_type": "stream",
     "text": [
      "352it [00:05, 67.29it/s]\n"
     ]
    },
    {
     "name": "stdout",
     "output_type": "stream",
     "text": [
      "EPOCH 19 Completed. \n",
      " Training Loss: 0.906, Training Accuracy: 67.84, Validation Loss: 0.986, Validation Accuracy: 65.78 \n",
      "\n",
      "Adjusting learning rate of group 0 to 3.7735e-04.\n"
     ]
    },
    {
     "name": "stderr",
     "output_type": "stream",
     "text": [
      "352it [00:05, 65.59it/s]\n"
     ]
    },
    {
     "name": "stdout",
     "output_type": "stream",
     "text": [
      "EPOCH 20 Completed. \n",
      " Training Loss: 0.900, Training Accuracy: 68.04, Validation Loss: 0.970, Validation Accuracy: 66.38 \n",
      "\n",
      "Adjusting learning rate of group 0 to 3.5849e-04.\n"
     ]
    },
    {
     "name": "stderr",
     "output_type": "stream",
     "text": [
      "352it [00:05, 68.52it/s]\n"
     ]
    },
    {
     "name": "stdout",
     "output_type": "stream",
     "text": [
      "EPOCH 21 Completed. \n",
      " Training Loss: 0.900, Training Accuracy: 67.92, Validation Loss: 0.985, Validation Accuracy: 66.48 \n",
      "\n",
      "Adjusting learning rate of group 0 to 3.4056e-04.\n"
     ]
    },
    {
     "name": "stderr",
     "output_type": "stream",
     "text": [
      "352it [00:05, 64.12it/s]\n"
     ]
    },
    {
     "name": "stdout",
     "output_type": "stream",
     "text": [
      "EPOCH 22 Completed. \n",
      " Training Loss: 0.895, Training Accuracy: 67.94, Validation Loss: 0.977, Validation Accuracy: 66.22 \n",
      "\n",
      "Adjusting learning rate of group 0 to 3.2353e-04.\n"
     ]
    },
    {
     "name": "stderr",
     "output_type": "stream",
     "text": [
      "352it [00:05, 63.86it/s]\n"
     ]
    },
    {
     "name": "stdout",
     "output_type": "stream",
     "text": [
      "EPOCH 23 Completed. \n",
      " Training Loss: 0.893, Training Accuracy: 68.31, Validation Loss: 0.959, Validation Accuracy: 66.30 \n",
      "\n",
      "Adjusting learning rate of group 0 to 3.0736e-04.\n"
     ]
    },
    {
     "name": "stderr",
     "output_type": "stream",
     "text": [
      "352it [00:05, 66.05it/s]\n"
     ]
    },
    {
     "name": "stdout",
     "output_type": "stream",
     "text": [
      "EPOCH 24 Completed. \n",
      " Training Loss: 0.890, Training Accuracy: 68.46, Validation Loss: 0.979, Validation Accuracy: 66.28 \n",
      "\n",
      "Adjusting learning rate of group 0 to 2.9199e-04.\n"
     ]
    },
    {
     "name": "stderr",
     "output_type": "stream",
     "text": [
      "352it [00:05, 64.45it/s]\n"
     ]
    },
    {
     "name": "stdout",
     "output_type": "stream",
     "text": [
      "EPOCH 25 Completed. \n",
      " Training Loss: 0.894, Training Accuracy: 68.24, Validation Loss: 0.980, Validation Accuracy: 66.56 \n",
      "\n",
      "Adjusting learning rate of group 0 to 2.7739e-04.\n"
     ]
    },
    {
     "name": "stderr",
     "output_type": "stream",
     "text": [
      "352it [00:05, 66.50it/s]\n"
     ]
    },
    {
     "name": "stdout",
     "output_type": "stream",
     "text": [
      "EPOCH 26 Completed. \n",
      " Training Loss: 0.885, Training Accuracy: 68.55, Validation Loss: 0.976, Validation Accuracy: 66.24 \n",
      "\n",
      "Adjusting learning rate of group 0 to 2.6352e-04.\n"
     ]
    },
    {
     "name": "stderr",
     "output_type": "stream",
     "text": [
      "352it [00:04, 71.67it/s]\n"
     ]
    },
    {
     "name": "stdout",
     "output_type": "stream",
     "text": [
      "EPOCH 27 Completed. \n",
      " Training Loss: 0.889, Training Accuracy: 68.11, Validation Loss: 0.970, Validation Accuracy: 66.18 \n",
      "\n",
      "Adjusting learning rate of group 0 to 2.5034e-04.\n"
     ]
    },
    {
     "name": "stderr",
     "output_type": "stream",
     "text": [
      "352it [00:04, 84.47it/s]\n"
     ]
    },
    {
     "name": "stdout",
     "output_type": "stream",
     "text": [
      "EPOCH 28 Completed. \n",
      " Training Loss: 0.881, Training Accuracy: 68.43, Validation Loss: 0.975, Validation Accuracy: 66.40 \n",
      "\n",
      "Adjusting learning rate of group 0 to 2.3783e-04.\n"
     ]
    },
    {
     "name": "stderr",
     "output_type": "stream",
     "text": [
      "352it [00:05, 61.06it/s]\n"
     ]
    },
    {
     "name": "stdout",
     "output_type": "stream",
     "text": [
      "EPOCH 29 Completed. \n",
      " Training Loss: 0.881, Training Accuracy: 68.62, Validation Loss: 0.955, Validation Accuracy: 66.76 \n",
      "\n",
      "Adjusting learning rate of group 0 to 2.2594e-04.\n"
     ]
    },
    {
     "name": "stderr",
     "output_type": "stream",
     "text": [
      "352it [00:06, 55.70it/s]\n"
     ]
    },
    {
     "name": "stdout",
     "output_type": "stream",
     "text": [
      "EPOCH 30 Completed. \n",
      " Training Loss: 0.878, Training Accuracy: 68.78, Validation Loss: 0.983, Validation Accuracy: 66.14 \n",
      "\n",
      "Adjusting learning rate of group 0 to 2.1464e-05.\n"
     ]
    },
    {
     "name": "stderr",
     "output_type": "stream",
     "text": [
      "352it [00:06, 55.93it/s]\n"
     ]
    },
    {
     "name": "stdout",
     "output_type": "stream",
     "text": [
      "EPOCH 31 Completed. \n",
      " Training Loss: 0.874, Training Accuracy: 68.84, Validation Loss: 0.965, Validation Accuracy: 66.16 \n",
      "\n",
      "Adjusting learning rate of group 0 to 2.0391e-05.\n"
     ]
    },
    {
     "name": "stderr",
     "output_type": "stream",
     "text": [
      "352it [00:06, 56.49it/s]\n"
     ]
    },
    {
     "name": "stdout",
     "output_type": "stream",
     "text": [
      "EPOCH 32 Completed. \n",
      " Training Loss: 0.878, Training Accuracy: 68.71, Validation Loss: 0.936, Validation Accuracy: 67.48 \n",
      "\n",
      "Adjusting learning rate of group 0 to 1.9371e-05.\n"
     ]
    },
    {
     "name": "stderr",
     "output_type": "stream",
     "text": [
      "352it [00:06, 55.86it/s]\n"
     ]
    },
    {
     "name": "stdout",
     "output_type": "stream",
     "text": [
      "EPOCH 33 Completed. \n",
      " Training Loss: 0.876, Training Accuracy: 68.56, Validation Loss: 0.956, Validation Accuracy: 66.48 \n",
      "\n",
      "Adjusting learning rate of group 0 to 1.8403e-05.\n"
     ]
    },
    {
     "name": "stderr",
     "output_type": "stream",
     "text": [
      "352it [00:06, 56.39it/s]\n"
     ]
    },
    {
     "name": "stdout",
     "output_type": "stream",
     "text": [
      "EPOCH 34 Completed. \n",
      " Training Loss: 0.874, Training Accuracy: 68.82, Validation Loss: 0.976, Validation Accuracy: 66.32 \n",
      "\n",
      "Adjusting learning rate of group 0 to 1.7482e-05.\n"
     ]
    },
    {
     "name": "stderr",
     "output_type": "stream",
     "text": [
      "352it [00:06, 55.27it/s]\n"
     ]
    },
    {
     "name": "stdout",
     "output_type": "stream",
     "text": [
      "EPOCH 35 Completed. \n",
      " Training Loss: 0.881, Training Accuracy: 68.61, Validation Loss: 0.981, Validation Accuracy: 66.12 \n",
      "\n",
      "Adjusting learning rate of group 0 to 1.6608e-05.\n"
     ]
    },
    {
     "name": "stderr",
     "output_type": "stream",
     "text": [
      "352it [00:06, 55.99it/s]\n"
     ]
    },
    {
     "name": "stdout",
     "output_type": "stream",
     "text": [
      "EPOCH 36 Completed. \n",
      " Training Loss: 0.872, Training Accuracy: 69.22, Validation Loss: 0.959, Validation Accuracy: 66.30 \n",
      "\n",
      "Adjusting learning rate of group 0 to 1.5778e-05.\n"
     ]
    },
    {
     "name": "stderr",
     "output_type": "stream",
     "text": [
      "352it [00:06, 54.76it/s]\n"
     ]
    },
    {
     "name": "stdout",
     "output_type": "stream",
     "text": [
      "EPOCH 37 Completed. \n",
      " Training Loss: 0.872, Training Accuracy: 68.92, Validation Loss: 0.963, Validation Accuracy: 66.58 \n",
      "\n",
      "Adjusting learning rate of group 0 to 1.4989e-05.\n"
     ]
    },
    {
     "name": "stderr",
     "output_type": "stream",
     "text": [
      "352it [00:06, 55.65it/s]\n"
     ]
    },
    {
     "name": "stdout",
     "output_type": "stream",
     "text": [
      "EPOCH 38 Completed. \n",
      " Training Loss: 0.875, Training Accuracy: 68.84, Validation Loss: 0.967, Validation Accuracy: 66.00 \n",
      "\n",
      "Adjusting learning rate of group 0 to 1.4240e-05.\n"
     ]
    },
    {
     "name": "stderr",
     "output_type": "stream",
     "text": [
      "352it [00:06, 56.85it/s]\n"
     ]
    },
    {
     "name": "stdout",
     "output_type": "stream",
     "text": [
      "EPOCH 39 Completed. \n",
      " Training Loss: 0.878, Training Accuracy: 68.69, Validation Loss: 0.975, Validation Accuracy: 66.38 \n",
      "\n",
      "Adjusting learning rate of group 0 to 1.3528e-05.\n"
     ]
    },
    {
     "name": "stderr",
     "output_type": "stream",
     "text": [
      "352it [00:06, 54.22it/s]\n"
     ]
    },
    {
     "name": "stdout",
     "output_type": "stream",
     "text": [
      "EPOCH 40 Completed. \n",
      " Training Loss: 0.876, Training Accuracy: 68.88, Validation Loss: 0.965, Validation Accuracy: 66.94 \n",
      "\n",
      "Adjusting learning rate of group 0 to 1.2851e-05.\n"
     ]
    },
    {
     "name": "stderr",
     "output_type": "stream",
     "text": [
      "352it [00:06, 56.03it/s]\n"
     ]
    },
    {
     "name": "stdout",
     "output_type": "stream",
     "text": [
      "EPOCH 41 Completed. \n",
      " Training Loss: 0.879, Training Accuracy: 68.56, Validation Loss: 0.983, Validation Accuracy: 67.02 \n",
      "\n",
      "Adjusting learning rate of group 0 to 1.2209e-05.\n"
     ]
    },
    {
     "name": "stderr",
     "output_type": "stream",
     "text": [
      "352it [00:06, 56.28it/s]\n"
     ]
    },
    {
     "name": "stdout",
     "output_type": "stream",
     "text": [
      "EPOCH 42 Completed. \n",
      " Training Loss: 0.872, Training Accuracy: 68.93, Validation Loss: 0.975, Validation Accuracy: 65.86 \n",
      "\n",
      "Adjusting learning rate of group 0 to 1.1598e-05.\n"
     ]
    },
    {
     "name": "stderr",
     "output_type": "stream",
     "text": [
      "352it [00:06, 56.38it/s]\n"
     ]
    },
    {
     "name": "stdout",
     "output_type": "stream",
     "text": [
      "EPOCH 43 Completed. \n",
      " Training Loss: 0.876, Training Accuracy: 68.54, Validation Loss: 0.962, Validation Accuracy: 67.12 \n",
      "\n",
      "Adjusting learning rate of group 0 to 1.1018e-05.\n"
     ]
    },
    {
     "name": "stderr",
     "output_type": "stream",
     "text": [
      "352it [00:06, 54.55it/s]\n"
     ]
    },
    {
     "name": "stdout",
     "output_type": "stream",
     "text": [
      "EPOCH 44 Completed. \n",
      " Training Loss: 0.876, Training Accuracy: 68.88, Validation Loss: 0.962, Validation Accuracy: 67.10 \n",
      "\n",
      "Adjusting learning rate of group 0 to 1.0467e-05.\n"
     ]
    },
    {
     "name": "stderr",
     "output_type": "stream",
     "text": [
      "352it [00:06, 56.03it/s]\n"
     ]
    },
    {
     "name": "stdout",
     "output_type": "stream",
     "text": [
      "EPOCH 45 Completed. \n",
      " Training Loss: 0.874, Training Accuracy: 69.09, Validation Loss: 0.966, Validation Accuracy: 66.22 \n",
      "\n",
      "Adjusting learning rate of group 0 to 9.9440e-07.\n"
     ]
    },
    {
     "name": "stderr",
     "output_type": "stream",
     "text": [
      "352it [00:06, 55.31it/s]\n"
     ]
    },
    {
     "name": "stdout",
     "output_type": "stream",
     "text": [
      "EPOCH 46 Completed. \n",
      " Training Loss: 0.868, Training Accuracy: 69.06, Validation Loss: 0.970, Validation Accuracy: 66.80 \n",
      "\n",
      "Adjusting learning rate of group 0 to 9.4468e-07.\n"
     ]
    },
    {
     "name": "stderr",
     "output_type": "stream",
     "text": [
      "352it [00:06, 56.23it/s]\n"
     ]
    },
    {
     "name": "stdout",
     "output_type": "stream",
     "text": [
      "EPOCH 47 Completed. \n",
      " Training Loss: 0.873, Training Accuracy: 69.28, Validation Loss: 0.962, Validation Accuracy: 66.34 \n",
      "\n",
      "Adjusting learning rate of group 0 to 8.9745e-07.\n"
     ]
    },
    {
     "name": "stderr",
     "output_type": "stream",
     "text": [
      "352it [00:06, 56.00it/s]\n"
     ]
    },
    {
     "name": "stdout",
     "output_type": "stream",
     "text": [
      "EPOCH 48 Completed. \n",
      " Training Loss: 0.873, Training Accuracy: 68.98, Validation Loss: 0.954, Validation Accuracy: 67.28 \n",
      "\n",
      "Adjusting learning rate of group 0 to 8.5258e-07.\n"
     ]
    },
    {
     "name": "stderr",
     "output_type": "stream",
     "text": [
      "352it [00:06, 55.53it/s]\n"
     ]
    },
    {
     "name": "stdout",
     "output_type": "stream",
     "text": [
      "EPOCH 49 Completed. \n",
      " Training Loss: 0.875, Training Accuracy: 68.85, Validation Loss: 0.959, Validation Accuracy: 66.56 \n",
      "\n",
      "Adjusting learning rate of group 0 to 8.0995e-07.\n"
     ]
    },
    {
     "name": "stderr",
     "output_type": "stream",
     "text": [
      "352it [00:06, 56.34it/s]\n"
     ]
    },
    {
     "name": "stdout",
     "output_type": "stream",
     "text": [
      "EPOCH 50 Completed. \n",
      " Training Loss: 0.877, Training Accuracy: 68.83, Validation Loss: 0.967, Validation Accuracy: 66.90 \n",
      "\n",
      "Adjusting learning rate of group 0 to 7.6945e-07.\n"
     ]
    },
    {
     "name": "stderr",
     "output_type": "stream",
     "text": [
      "352it [00:06, 55.75it/s]\n"
     ]
    },
    {
     "name": "stdout",
     "output_type": "stream",
     "text": [
      "EPOCH 51 Completed. \n",
      " Training Loss: 0.878, Training Accuracy: 68.67, Validation Loss: 0.968, Validation Accuracy: 66.90 \n",
      "\n",
      "Adjusting learning rate of group 0 to 7.3098e-07.\n"
     ]
    },
    {
     "name": "stderr",
     "output_type": "stream",
     "text": [
      "352it [00:06, 56.12it/s]\n"
     ]
    },
    {
     "name": "stdout",
     "output_type": "stream",
     "text": [
      "EPOCH 52 Completed. \n",
      " Training Loss: 0.872, Training Accuracy: 69.18, Validation Loss: 0.963, Validation Accuracy: 66.42 \n",
      "\n",
      "Adjusting learning rate of group 0 to 6.9443e-07.\n"
     ]
    },
    {
     "name": "stderr",
     "output_type": "stream",
     "text": [
      "352it [00:06, 56.73it/s]\n"
     ]
    },
    {
     "name": "stdout",
     "output_type": "stream",
     "text": [
      "EPOCH 53 Completed. \n",
      " Training Loss: 0.879, Training Accuracy: 68.90, Validation Loss: 0.949, Validation Accuracy: 66.90 \n",
      "\n",
      "Adjusting learning rate of group 0 to 6.5971e-07.\n"
     ]
    },
    {
     "name": "stderr",
     "output_type": "stream",
     "text": [
      "352it [00:06, 56.01it/s]\n"
     ]
    },
    {
     "name": "stdout",
     "output_type": "stream",
     "text": [
      "EPOCH 54 Completed. \n",
      " Training Loss: 0.874, Training Accuracy: 68.72, Validation Loss: 0.970, Validation Accuracy: 65.70 \n",
      "\n",
      "Adjusting learning rate of group 0 to 6.2672e-07.\n"
     ]
    },
    {
     "name": "stderr",
     "output_type": "stream",
     "text": [
      "352it [00:05, 62.39it/s]\n"
     ]
    },
    {
     "name": "stdout",
     "output_type": "stream",
     "text": [
      "EPOCH 55 Completed. \n",
      " Training Loss: 0.871, Training Accuracy: 69.02, Validation Loss: 0.974, Validation Accuracy: 66.02 \n",
      "\n",
      "Adjusting learning rate of group 0 to 5.9539e-07.\n"
     ]
    },
    {
     "name": "stderr",
     "output_type": "stream",
     "text": [
      "352it [00:05, 62.95it/s]\n"
     ]
    },
    {
     "name": "stdout",
     "output_type": "stream",
     "text": [
      "EPOCH 56 Completed. \n",
      " Training Loss: 0.872, Training Accuracy: 68.98, Validation Loss: 0.976, Validation Accuracy: 65.54 \n",
      "\n",
      "Adjusting learning rate of group 0 to 5.6562e-07.\n"
     ]
    },
    {
     "name": "stderr",
     "output_type": "stream",
     "text": [
      "352it [00:05, 65.93it/s]\n"
     ]
    },
    {
     "name": "stdout",
     "output_type": "stream",
     "text": [
      "EPOCH 57 Completed. \n",
      " Training Loss: 0.869, Training Accuracy: 69.00, Validation Loss: 0.977, Validation Accuracy: 66.30 \n",
      "\n",
      "Adjusting learning rate of group 0 to 5.3734e-07.\n"
     ]
    },
    {
     "name": "stderr",
     "output_type": "stream",
     "text": [
      "352it [00:05, 66.67it/s]\n"
     ]
    },
    {
     "name": "stdout",
     "output_type": "stream",
     "text": [
      "EPOCH 58 Completed. \n",
      " Training Loss: 0.877, Training Accuracy: 68.54, Validation Loss: 0.962, Validation Accuracy: 66.32 \n",
      "\n",
      "Adjusting learning rate of group 0 to 5.1047e-07.\n"
     ]
    },
    {
     "name": "stderr",
     "output_type": "stream",
     "text": [
      "352it [00:05, 66.07it/s]\n"
     ]
    },
    {
     "name": "stdout",
     "output_type": "stream",
     "text": [
      "EPOCH 59 Completed. \n",
      " Training Loss: 0.874, Training Accuracy: 68.79, Validation Loss: 0.955, Validation Accuracy: 66.84 \n",
      "\n",
      "Adjusting learning rate of group 0 to 4.8495e-07.\n"
     ]
    },
    {
     "name": "stderr",
     "output_type": "stream",
     "text": [
      "352it [00:05, 63.83it/s]\n"
     ]
    },
    {
     "name": "stdout",
     "output_type": "stream",
     "text": [
      "EPOCH 60 Completed. \n",
      " Training Loss: 0.874, Training Accuracy: 68.83, Validation Loss: 0.958, Validation Accuracy: 67.00 \n",
      "\n",
      "Adjusting learning rate of group 0 to 4.6070e-08.\n"
     ]
    },
    {
     "name": "stderr",
     "output_type": "stream",
     "text": [
      "352it [00:05, 67.42it/s]\n"
     ]
    },
    {
     "name": "stdout",
     "output_type": "stream",
     "text": [
      "EPOCH 61 Completed. \n",
      " Training Loss: 0.872, Training Accuracy: 68.90, Validation Loss: 0.976, Validation Accuracy: 66.46 \n",
      "\n",
      "Adjusting learning rate of group 0 to 4.3766e-08.\n"
     ]
    },
    {
     "name": "stderr",
     "output_type": "stream",
     "text": [
      "352it [00:05, 66.85it/s]\n"
     ]
    },
    {
     "name": "stdout",
     "output_type": "stream",
     "text": [
      "EPOCH 62 Completed. \n",
      " Training Loss: 0.873, Training Accuracy: 68.70, Validation Loss: 0.947, Validation Accuracy: 66.18 \n",
      "\n",
      "Adjusting learning rate of group 0 to 4.1578e-08.\n"
     ]
    },
    {
     "name": "stderr",
     "output_type": "stream",
     "text": [
      "352it [00:05, 66.33it/s]\n"
     ]
    },
    {
     "name": "stdout",
     "output_type": "stream",
     "text": [
      "EPOCH 63 Completed. \n",
      " Training Loss: 0.875, Training Accuracy: 68.75, Validation Loss: 0.960, Validation Accuracy: 66.34 \n",
      "\n",
      "Adjusting learning rate of group 0 to 3.9499e-08.\n"
     ]
    },
    {
     "name": "stderr",
     "output_type": "stream",
     "text": [
      "352it [00:05, 64.44it/s]\n"
     ]
    },
    {
     "name": "stdout",
     "output_type": "stream",
     "text": [
      "EPOCH 64 Completed. \n",
      " Training Loss: 0.871, Training Accuracy: 68.82, Validation Loss: 0.938, Validation Accuracy: 66.42 \n",
      "\n",
      "Adjusting learning rate of group 0 to 3.7524e-08.\n"
     ]
    },
    {
     "name": "stderr",
     "output_type": "stream",
     "text": [
      "352it [00:05, 64.95it/s]\n"
     ]
    },
    {
     "name": "stdout",
     "output_type": "stream",
     "text": [
      "EPOCH 65 Completed. \n",
      " Training Loss: 0.873, Training Accuracy: 69.19, Validation Loss: 0.957, Validation Accuracy: 66.58 \n",
      "\n",
      "Adjusting learning rate of group 0 to 3.5648e-08.\n"
     ]
    },
    {
     "name": "stderr",
     "output_type": "stream",
     "text": [
      "352it [00:05, 65.57it/s]\n"
     ]
    },
    {
     "name": "stdout",
     "output_type": "stream",
     "text": [
      "EPOCH 66 Completed. \n",
      " Training Loss: 0.872, Training Accuracy: 69.10, Validation Loss: 0.957, Validation Accuracy: 66.72 \n",
      "\n",
      "Adjusting learning rate of group 0 to 3.3866e-08.\n"
     ]
    },
    {
     "name": "stderr",
     "output_type": "stream",
     "text": [
      "352it [00:05, 64.91it/s]\n"
     ]
    },
    {
     "name": "stdout",
     "output_type": "stream",
     "text": [
      "EPOCH 67 Completed. \n",
      " Training Loss: 0.871, Training Accuracy: 68.74, Validation Loss: 0.971, Validation Accuracy: 67.28 \n",
      "\n",
      "Adjusting learning rate of group 0 to 3.2172e-08.\n"
     ]
    },
    {
     "name": "stderr",
     "output_type": "stream",
     "text": [
      "352it [00:05, 64.39it/s]\n"
     ]
    },
    {
     "name": "stdout",
     "output_type": "stream",
     "text": [
      "EPOCH 68 Completed. \n",
      " Training Loss: 0.871, Training Accuracy: 68.87, Validation Loss: 0.969, Validation Accuracy: 66.36 \n",
      "\n",
      "Adjusting learning rate of group 0 to 3.0564e-08.\n"
     ]
    },
    {
     "name": "stderr",
     "output_type": "stream",
     "text": [
      "352it [00:05, 67.41it/s]\n"
     ]
    },
    {
     "name": "stdout",
     "output_type": "stream",
     "text": [
      "EPOCH 69 Completed. \n",
      " Training Loss: 0.876, Training Accuracy: 68.81, Validation Loss: 0.968, Validation Accuracy: 66.52 \n",
      "\n",
      "Adjusting learning rate of group 0 to 2.9035e-08.\n"
     ]
    },
    {
     "name": "stderr",
     "output_type": "stream",
     "text": [
      "352it [00:05, 65.98it/s]\n"
     ]
    },
    {
     "name": "stdout",
     "output_type": "stream",
     "text": [
      "EPOCH 70 Completed. \n",
      " Training Loss: 0.871, Training Accuracy: 69.02, Validation Loss: 0.960, Validation Accuracy: 67.64 \n",
      "\n",
      "Adjusting learning rate of group 0 to 2.7584e-08.\n"
     ]
    },
    {
     "name": "stderr",
     "output_type": "stream",
     "text": [
      "352it [00:05, 66.78it/s]\n"
     ]
    },
    {
     "name": "stdout",
     "output_type": "stream",
     "text": [
      "EPOCH 71 Completed. \n",
      " Training Loss: 0.875, Training Accuracy: 69.16, Validation Loss: 0.977, Validation Accuracy: 66.86 \n",
      "\n",
      "Adjusting learning rate of group 0 to 2.6205e-08.\n"
     ]
    },
    {
     "name": "stderr",
     "output_type": "stream",
     "text": [
      "352it [00:04, 71.96it/s]\n"
     ]
    },
    {
     "name": "stdout",
     "output_type": "stream",
     "text": [
      "EPOCH 72 Completed. \n",
      " Training Loss: 0.872, Training Accuracy: 69.16, Validation Loss: 0.965, Validation Accuracy: 66.12 \n",
      "\n",
      "Adjusting learning rate of group 0 to 2.4894e-08.\n"
     ]
    },
    {
     "name": "stderr",
     "output_type": "stream",
     "text": [
      "352it [00:04, 87.16it/s]\n"
     ]
    },
    {
     "name": "stdout",
     "output_type": "stream",
     "text": [
      "EPOCH 73 Completed. \n",
      " Training Loss: 0.872, Training Accuracy: 68.85, Validation Loss: 0.970, Validation Accuracy: 66.08 \n",
      "\n",
      "Adjusting learning rate of group 0 to 2.3650e-08.\n"
     ]
    },
    {
     "name": "stderr",
     "output_type": "stream",
     "text": [
      "352it [00:05, 61.20it/s]\n"
     ]
    },
    {
     "name": "stdout",
     "output_type": "stream",
     "text": [
      "EPOCH 74 Completed. \n",
      " Training Loss: 0.870, Training Accuracy: 68.89, Validation Loss: 0.968, Validation Accuracy: 66.76 \n",
      "\n",
      "Adjusting learning rate of group 0 to 2.2467e-08.\n"
     ]
    },
    {
     "name": "stderr",
     "output_type": "stream",
     "text": [
      "352it [00:06, 55.84it/s]\n"
     ]
    },
    {
     "name": "stdout",
     "output_type": "stream",
     "text": [
      "EPOCH 75 Completed. \n",
      " Training Loss: 0.871, Training Accuracy: 68.85, Validation Loss: 0.971, Validation Accuracy: 66.14 \n",
      "\n",
      "Adjusting learning rate of group 0 to 2.1344e-08.\n"
     ]
    },
    {
     "name": "stderr",
     "output_type": "stream",
     "text": [
      "352it [00:06, 56.71it/s]\n"
     ]
    },
    {
     "name": "stdout",
     "output_type": "stream",
     "text": [
      "EPOCH 76 Completed. \n",
      " Training Loss: 0.873, Training Accuracy: 68.94, Validation Loss: 0.962, Validation Accuracy: 66.70 \n",
      "\n",
      "Adjusting learning rate of group 0 to 2.0277e-08.\n"
     ]
    },
    {
     "name": "stderr",
     "output_type": "stream",
     "text": [
      "352it [00:06, 56.61it/s]\n"
     ]
    },
    {
     "name": "stdout",
     "output_type": "stream",
     "text": [
      "EPOCH 77 Completed. \n",
      " Training Loss: 0.872, Training Accuracy: 69.09, Validation Loss: 0.960, Validation Accuracy: 66.52 \n",
      "\n",
      "Adjusting learning rate of group 0 to 1.9263e-08.\n"
     ]
    },
    {
     "name": "stderr",
     "output_type": "stream",
     "text": [
      "352it [00:06, 55.24it/s]\n"
     ]
    },
    {
     "name": "stdout",
     "output_type": "stream",
     "text": [
      "EPOCH 78 Completed. \n",
      " Training Loss: 0.873, Training Accuracy: 68.78, Validation Loss: 0.972, Validation Accuracy: 66.04 \n",
      "\n",
      "Adjusting learning rate of group 0 to 1.8300e-08.\n"
     ]
    },
    {
     "name": "stderr",
     "output_type": "stream",
     "text": [
      "352it [00:06, 56.06it/s]\n"
     ]
    },
    {
     "name": "stdout",
     "output_type": "stream",
     "text": [
      "EPOCH 79 Completed. \n",
      " Training Loss: 0.872, Training Accuracy: 68.84, Validation Loss: 0.968, Validation Accuracy: 66.50 \n",
      "\n",
      "Adjusting learning rate of group 0 to 1.7385e-08.\n"
     ]
    },
    {
     "name": "stderr",
     "output_type": "stream",
     "text": [
      "352it [00:06, 57.19it/s]\n"
     ]
    },
    {
     "name": "stdout",
     "output_type": "stream",
     "text": [
      "EPOCH 80 Completed. \n",
      " Training Loss: 0.867, Training Accuracy: 69.17, Validation Loss: 0.962, Validation Accuracy: 66.94 \n",
      "\n",
      "Adjusting learning rate of group 0 to 1.6515e-08.\n"
     ]
    },
    {
     "name": "stderr",
     "output_type": "stream",
     "text": [
      "352it [00:06, 57.11it/s]\n"
     ]
    },
    {
     "name": "stdout",
     "output_type": "stream",
     "text": [
      "EPOCH 81 Completed. \n",
      " Training Loss: 0.871, Training Accuracy: 69.05, Validation Loss: 0.962, Validation Accuracy: 67.40 \n",
      "\n",
      "Adjusting learning rate of group 0 to 1.5690e-08.\n"
     ]
    },
    {
     "name": "stderr",
     "output_type": "stream",
     "text": [
      "352it [00:06, 56.67it/s]\n"
     ]
    },
    {
     "name": "stdout",
     "output_type": "stream",
     "text": [
      "EPOCH 82 Completed. \n",
      " Training Loss: 0.876, Training Accuracy: 68.79, Validation Loss: 0.964, Validation Accuracy: 66.44 \n",
      "\n",
      "Adjusting learning rate of group 0 to 1.4905e-08.\n"
     ]
    },
    {
     "name": "stderr",
     "output_type": "stream",
     "text": [
      "352it [00:06, 55.89it/s]\n"
     ]
    },
    {
     "name": "stdout",
     "output_type": "stream",
     "text": [
      "EPOCH 83 Completed. \n",
      " Training Loss: 0.872, Training Accuracy: 68.96, Validation Loss: 0.960, Validation Accuracy: 66.04 \n",
      "\n",
      "Adjusting learning rate of group 0 to 1.4160e-08.\n"
     ]
    },
    {
     "name": "stderr",
     "output_type": "stream",
     "text": [
      "352it [00:06, 56.68it/s]\n"
     ]
    },
    {
     "name": "stdout",
     "output_type": "stream",
     "text": [
      "EPOCH 84 Completed. \n",
      " Training Loss: 0.875, Training Accuracy: 68.79, Validation Loss: 0.963, Validation Accuracy: 66.66 \n",
      "\n",
      "Adjusting learning rate of group 0 to 1.3452e-08.\n"
     ]
    },
    {
     "name": "stderr",
     "output_type": "stream",
     "text": [
      "352it [00:06, 55.53it/s]\n"
     ]
    },
    {
     "name": "stdout",
     "output_type": "stream",
     "text": [
      "EPOCH 85 Completed. \n",
      " Training Loss: 0.871, Training Accuracy: 69.12, Validation Loss: 0.962, Validation Accuracy: 67.04 \n",
      "\n",
      "Adjusting learning rate of group 0 to 1.2779e-08.\n"
     ]
    },
    {
     "name": "stderr",
     "output_type": "stream",
     "text": [
      "352it [00:06, 55.37it/s]\n"
     ]
    },
    {
     "name": "stdout",
     "output_type": "stream",
     "text": [
      "EPOCH 86 Completed. \n",
      " Training Loss: 0.868, Training Accuracy: 69.08, Validation Loss: 0.965, Validation Accuracy: 67.30 \n",
      "\n",
      "Adjusting learning rate of group 0 to 1.2140e-08.\n"
     ]
    },
    {
     "name": "stderr",
     "output_type": "stream",
     "text": [
      "352it [00:06, 55.76it/s]\n"
     ]
    },
    {
     "name": "stdout",
     "output_type": "stream",
     "text": [
      "EPOCH 87 Completed. \n",
      " Training Loss: 0.872, Training Accuracy: 69.13, Validation Loss: 0.976, Validation Accuracy: 66.26 \n",
      "\n",
      "Adjusting learning rate of group 0 to 1.1533e-08.\n"
     ]
    },
    {
     "name": "stderr",
     "output_type": "stream",
     "text": [
      "352it [00:06, 55.91it/s]\n"
     ]
    },
    {
     "name": "stdout",
     "output_type": "stream",
     "text": [
      "EPOCH 88 Completed. \n",
      " Training Loss: 0.873, Training Accuracy: 68.73, Validation Loss: 0.952, Validation Accuracy: 67.12 \n",
      "\n",
      "Adjusting learning rate of group 0 to 1.0957e-08.\n"
     ]
    },
    {
     "name": "stderr",
     "output_type": "stream",
     "text": [
      "352it [00:06, 56.14it/s]\n"
     ]
    },
    {
     "name": "stdout",
     "output_type": "stream",
     "text": [
      "EPOCH 89 Completed. \n",
      " Training Loss: 0.873, Training Accuracy: 68.82, Validation Loss: 0.967, Validation Accuracy: 66.42 \n",
      "\n",
      "Adjusting learning rate of group 0 to 1.0409e-08.\n"
     ]
    },
    {
     "name": "stderr",
     "output_type": "stream",
     "text": [
      "352it [00:06, 55.70it/s]\n"
     ]
    },
    {
     "name": "stdout",
     "output_type": "stream",
     "text": [
      "EPOCH 90 Completed. \n",
      " Training Loss: 0.873, Training Accuracy: 68.82, Validation Loss: 0.960, Validation Accuracy: 66.56 \n",
      "\n",
      "Adjusting learning rate of group 0 to 9.8884e-10.\n"
     ]
    }
   ],
   "source": [
    "EPOCHS=90\n",
    "\n",
    "losses3, accs3, valid_losses3, valid_accs3 = train(model3, trainloader, validloader, EPOCHS, device, \n",
    "                                               loss_ftn, optimizer3, scheduler=scheduler3)"
   ]
  },
  {
   "cell_type": "code",
   "execution_count": 28,
   "id": "b0600c29",
   "metadata": {},
   "outputs": [
    {
     "data": {
      "image/png": "[encoded data removed]",
      "text/plain": [
       "<Figure size 432x288 with 1 Axes>"
      ]
     },
     "metadata": {
      "needs_background": "light"
     },
     "output_type": "display_data"
    }
   ],
   "source": [
    "plt.figure()\n",
    "plt.plot(np.arange(1,EPOCHS+1), losses3, label='training loss')\n",
    "plt.plot(np.arange(1,EPOCHS+1), valid_losses3, label='validation loss')\n",
    "plt.legend()\n",
    "plt.show()"
   ]
  },
  {
   "cell_type": "code",
   "execution_count": 29,
   "id": "c554b7d5",
   "metadata": {},
   "outputs": [
    {
     "data": {
      "image/png": "[encoded data removed]",
      "text/plain": [
       "<Figure size 432x288 with 1 Axes>"
      ]
     },
     "metadata": {
      "needs_background": "light"
     },
     "output_type": "display_data"
    }
   ],
   "source": [
    "plt.figure()\n",
    "plt.plot(np.arange(1,EPOCHS+1), accs3, label='training accuracy')\n",
    "plt.plot(np.arange(1,EPOCHS+1), valid_accs3, label='validation accuracy')\n",
    "plt.legend()\n",
    "plt.show()"
   ]
  },
  {
   "cell_type": "code",
   "execution_count": 35,
   "id": "5fe2eb0a",
   "metadata": {},
   "outputs": [
    {
     "name": "stdout",
     "output_type": "stream",
     "text": [
      "Accuracy of the network on 10000 test images: 65.6 %\n"
     ]
    }
   ],
   "source": [
    "test(model3, testloader, device)"
   ]
  },
  {
   "cell_type": "code",
   "execution_count": null,
   "id": "d0707e0d",
   "metadata": {},
   "outputs": [],
   "source": []
  },
  {
   "cell_type": "code",
   "execution_count": 36,
   "id": "204a804c",
   "metadata": {},
   "outputs": [],
   "source": [
    "from models import MobileNet4"
   ]
  },
  {
   "cell_type": "code",
   "execution_count": 37,
   "id": "010c7c54",
   "metadata": {},
   "outputs": [],
   "source": [
    "model4 = MobileNet4(channels=[16,32,32,64,64,128]).to(device)"
   ]
  },
  {
   "cell_type": "code",
   "execution_count": 38,
   "id": "75df199e",
   "metadata": {
    "scrolled": true
   },
   "outputs": [
    {
     "name": "stdout",
     "output_type": "stream",
     "text": [
      "----------------------------------------------------------------\n",
      "        Layer (type)               Output Shape         Param #\n",
      "================================================================\n",
      "            Conv2d-1           [-1, 16, 32, 32]           1,200\n",
      "       BatchNorm2d-2           [-1, 16, 32, 32]              32\n",
      "              ReLU-3           [-1, 16, 32, 32]               0\n",
      "            Conv2d-4           [-1, 16, 32, 32]             144\n",
      "       BatchNorm2d-5           [-1, 16, 32, 32]              32\n",
      "              ReLU-6           [-1, 16, 32, 32]               0\n",
      "            Conv2d-7           [-1, 32, 32, 32]             512\n",
      "       BatchNorm2d-8           [-1, 32, 32, 32]              64\n",
      "              ReLU-9           [-1, 32, 32, 32]               0\n",
      "        MaxPool2d-10           [-1, 32, 16, 16]               0\n",
      "           Conv2d-11           [-1, 32, 16, 16]             288\n",
      "      BatchNorm2d-12           [-1, 32, 16, 16]              64\n",
      "             ReLU-13           [-1, 32, 16, 16]               0\n",
      "           Conv2d-14           [-1, 32, 16, 16]           1,024\n",
      "      BatchNorm2d-15           [-1, 32, 16, 16]              64\n",
      "             ReLU-16           [-1, 32, 16, 16]               0\n",
      "        Dropout2d-17           [-1, 32, 16, 16]               0\n",
      "        MaxPool2d-18             [-1, 32, 8, 8]               0\n",
      "           Conv2d-19             [-1, 32, 8, 8]             288\n",
      "      BatchNorm2d-20             [-1, 32, 8, 8]              64\n",
      "             ReLU-21             [-1, 32, 8, 8]               0\n",
      "           Conv2d-22             [-1, 64, 8, 8]           2,048\n",
      "      BatchNorm2d-23             [-1, 64, 8, 8]             128\n",
      "             ReLU-24             [-1, 64, 8, 8]               0\n",
      "        MaxPool2d-25             [-1, 64, 4, 4]               0\n",
      "           Conv2d-26             [-1, 64, 4, 4]             576\n",
      "      BatchNorm2d-27             [-1, 64, 4, 4]             128\n",
      "             ReLU-28             [-1, 64, 4, 4]               0\n",
      "           Conv2d-29             [-1, 64, 4, 4]           4,096\n",
      "      BatchNorm2d-30             [-1, 64, 4, 4]             128\n",
      "             ReLU-31             [-1, 64, 4, 4]               0\n",
      "        Dropout2d-32             [-1, 64, 4, 4]               0\n",
      "        MaxPool2d-33             [-1, 64, 2, 2]               0\n",
      "           Conv2d-34             [-1, 64, 2, 2]             576\n",
      "      BatchNorm2d-35             [-1, 64, 2, 2]             128\n",
      "             ReLU-36             [-1, 64, 2, 2]               0\n",
      "           Conv2d-37            [-1, 128, 2, 2]           8,192\n",
      "      BatchNorm2d-38            [-1, 128, 2, 2]             256\n",
      "             ReLU-39            [-1, 128, 2, 2]               0\n",
      "        AvgPool2d-40            [-1, 128, 1, 1]               0\n",
      "           Linear-41                   [-1, 64]           8,192\n",
      "      BatchNorm1d-42                   [-1, 64]             128\n",
      "             ReLU-43                   [-1, 64]               0\n",
      "          Dropout-44                   [-1, 64]               0\n",
      "           Linear-45                   [-1, 10]             650\n",
      "================================================================\n",
      "Total params: 29,002\n",
      "Trainable params: 29,002\n",
      "Non-trainable params: 0\n",
      "----------------------------------------------------------------\n",
      "Input size (MB): 0.01\n",
      "Forward/backward pass size (MB): 2.24\n",
      "Params size (MB): 0.11\n",
      "Estimated Total Size (MB): 2.36\n",
      "----------------------------------------------------------------\n"
     ]
    }
   ],
   "source": [
    "summary(model4, (3,32,32))"
   ]
  },
  {
   "cell_type": "code",
   "execution_count": 39,
   "id": "4929a89c",
   "metadata": {},
   "outputs": [
    {
     "name": "stdout",
     "output_type": "stream",
     "text": [
      "Adjusting learning rate of group 0 to 1.0000e-02.\n"
     ]
    }
   ],
   "source": [
    "loss_ftn = nn.CrossEntropyLoss()\n",
    "\n",
    "optimizer4 = optim.Adam(model4.parameters(), lr=0.01, weight_decay=0.0001)\n",
    "\n",
    "scheduler4 = optim.lr_scheduler.LambdaLR(optimizer=optimizer4,\n",
    "                                        lr_lambda=lambda epoch: lr_schedule(epoch) ,\n",
    "                                        last_epoch=-1,\n",
    "                                        verbose=True)"
   ]
  },
  {
   "cell_type": "code",
   "execution_count": 40,
   "id": "9ebba523",
   "metadata": {
    "scrolled": true
   },
   "outputs": [
    {
     "name": "stderr",
     "output_type": "stream",
     "text": [
      "352it [00:06, 54.97it/s]\n"
     ]
    },
    {
     "name": "stdout",
     "output_type": "stream",
     "text": [
      "EPOCH 1 Completed. \n",
      " Training Loss: 1.768, Training Accuracy: 36.03, Validation Loss: 1.506, Validation Accuracy: 45.00 \n",
      "\n",
      "Adjusting learning rate of group 0 to 9.5000e-03.\n"
     ]
    },
    {
     "name": "stderr",
     "output_type": "stream",
     "text": [
      "352it [00:06, 55.21it/s]\n"
     ]
    },
    {
     "name": "stdout",
     "output_type": "stream",
     "text": [
      "EPOCH 2 Completed. \n",
      " Training Loss: 1.385, Training Accuracy: 49.64, Validation Loss: 1.318, Validation Accuracy: 53.56 \n",
      "\n",
      "Adjusting learning rate of group 0 to 9.0250e-03.\n"
     ]
    },
    {
     "name": "stderr",
     "output_type": "stream",
     "text": [
      "352it [00:06, 53.45it/s]\n"
     ]
    },
    {
     "name": "stdout",
     "output_type": "stream",
     "text": [
      "EPOCH 3 Completed. \n",
      " Training Loss: 1.204, Training Accuracy: 56.58, Validation Loss: 1.163, Validation Accuracy: 58.54 \n",
      "\n",
      "Adjusting learning rate of group 0 to 8.5737e-03.\n"
     ]
    },
    {
     "name": "stderr",
     "output_type": "stream",
     "text": [
      "352it [00:06, 53.16it/s]\n"
     ]
    },
    {
     "name": "stdout",
     "output_type": "stream",
     "text": [
      "EPOCH 4 Completed. \n",
      " Training Loss: 1.092, Training Accuracy: 61.04, Validation Loss: 1.074, Validation Accuracy: 62.40 \n",
      "\n",
      "Adjusting learning rate of group 0 to 8.1451e-03.\n"
     ]
    },
    {
     "name": "stderr",
     "output_type": "stream",
     "text": [
      "352it [00:06, 53.97it/s]\n"
     ]
    },
    {
     "name": "stdout",
     "output_type": "stream",
     "text": [
      "EPOCH 5 Completed. \n",
      " Training Loss: 1.024, Training Accuracy: 63.46, Validation Loss: 1.017, Validation Accuracy: 64.54 \n",
      "\n",
      "Adjusting learning rate of group 0 to 7.7378e-03.\n"
     ]
    },
    {
     "name": "stderr",
     "output_type": "stream",
     "text": [
      "352it [00:06, 53.80it/s]\n"
     ]
    },
    {
     "name": "stdout",
     "output_type": "stream",
     "text": [
      "EPOCH 6 Completed. \n",
      " Training Loss: 0.971, Training Accuracy: 65.87, Validation Loss: 0.964, Validation Accuracy: 66.32 \n",
      "\n",
      "Adjusting learning rate of group 0 to 7.3509e-03.\n"
     ]
    },
    {
     "name": "stderr",
     "output_type": "stream",
     "text": [
      "352it [00:06, 53.62it/s]\n"
     ]
    },
    {
     "name": "stdout",
     "output_type": "stream",
     "text": [
      "EPOCH 7 Completed. \n",
      " Training Loss: 0.945, Training Accuracy: 66.46, Validation Loss: 0.982, Validation Accuracy: 66.16 \n",
      "\n",
      "Adjusting learning rate of group 0 to 6.9834e-03.\n"
     ]
    },
    {
     "name": "stderr",
     "output_type": "stream",
     "text": [
      "352it [00:06, 54.28it/s]\n"
     ]
    },
    {
     "name": "stdout",
     "output_type": "stream",
     "text": [
      "EPOCH 8 Completed. \n",
      " Training Loss: 0.910, Training Accuracy: 67.85, Validation Loss: 0.927, Validation Accuracy: 67.24 \n",
      "\n",
      "Adjusting learning rate of group 0 to 6.6342e-03.\n"
     ]
    },
    {
     "name": "stderr",
     "output_type": "stream",
     "text": [
      "352it [00:06, 54.23it/s]\n"
     ]
    },
    {
     "name": "stdout",
     "output_type": "stream",
     "text": [
      "EPOCH 9 Completed. \n",
      " Training Loss: 0.892, Training Accuracy: 68.56, Validation Loss: 0.928, Validation Accuracy: 68.06 \n",
      "\n",
      "Adjusting learning rate of group 0 to 6.3025e-03.\n"
     ]
    },
    {
     "name": "stderr",
     "output_type": "stream",
     "text": [
      "352it [00:06, 54.24it/s]\n"
     ]
    },
    {
     "name": "stdout",
     "output_type": "stream",
     "text": [
      "EPOCH 10 Completed. \n",
      " Training Loss: 0.865, Training Accuracy: 69.52, Validation Loss: 0.920, Validation Accuracy: 67.98 \n",
      "\n",
      "Adjusting learning rate of group 0 to 5.9874e-03.\n"
     ]
    },
    {
     "name": "stderr",
     "output_type": "stream",
     "text": [
      "352it [00:06, 55.27it/s]\n"
     ]
    },
    {
     "name": "stdout",
     "output_type": "stream",
     "text": [
      "EPOCH 11 Completed. \n",
      " Training Loss: 0.849, Training Accuracy: 70.11, Validation Loss: 0.924, Validation Accuracy: 68.00 \n",
      "\n",
      "Adjusting learning rate of group 0 to 5.6880e-03.\n"
     ]
    },
    {
     "name": "stderr",
     "output_type": "stream",
     "text": [
      "352it [00:06, 54.86it/s]\n"
     ]
    },
    {
     "name": "stdout",
     "output_type": "stream",
     "text": [
      "EPOCH 12 Completed. \n",
      " Training Loss: 0.832, Training Accuracy: 70.69, Validation Loss: 0.909, Validation Accuracy: 69.14 \n",
      "\n",
      "Adjusting learning rate of group 0 to 5.4036e-03.\n"
     ]
    },
    {
     "name": "stderr",
     "output_type": "stream",
     "text": [
      "352it [00:06, 54.44it/s]\n"
     ]
    },
    {
     "name": "stdout",
     "output_type": "stream",
     "text": [
      "EPOCH 13 Completed. \n",
      " Training Loss: 0.816, Training Accuracy: 71.26, Validation Loss: 0.910, Validation Accuracy: 70.00 \n",
      "\n",
      "Adjusting learning rate of group 0 to 5.1334e-03.\n"
     ]
    },
    {
     "name": "stderr",
     "output_type": "stream",
     "text": [
      "352it [00:06, 52.74it/s]\n"
     ]
    },
    {
     "name": "stdout",
     "output_type": "stream",
     "text": [
      "EPOCH 14 Completed. \n",
      " Training Loss: 0.799, Training Accuracy: 72.09, Validation Loss: 0.891, Validation Accuracy: 70.28 \n",
      "\n",
      "Adjusting learning rate of group 0 to 4.8767e-03.\n"
     ]
    },
    {
     "name": "stderr",
     "output_type": "stream",
     "text": [
      "352it [00:06, 54.91it/s]\n"
     ]
    },
    {
     "name": "stdout",
     "output_type": "stream",
     "text": [
      "EPOCH 15 Completed. \n",
      " Training Loss: 0.784, Training Accuracy: 72.36, Validation Loss: 0.870, Validation Accuracy: 70.38 \n",
      "\n",
      "Adjusting learning rate of group 0 to 4.6329e-04.\n"
     ]
    },
    {
     "name": "stderr",
     "output_type": "stream",
     "text": [
      "352it [00:06, 54.16it/s]\n"
     ]
    },
    {
     "name": "stdout",
     "output_type": "stream",
     "text": [
      "EPOCH 16 Completed. \n",
      " Training Loss: 0.720, Training Accuracy: 74.75, Validation Loss: 0.816, Validation Accuracy: 71.98 \n",
      "\n",
      "Adjusting learning rate of group 0 to 4.4013e-04.\n"
     ]
    },
    {
     "name": "stderr",
     "output_type": "stream",
     "text": [
      "352it [00:06, 55.08it/s]\n"
     ]
    },
    {
     "name": "stdout",
     "output_type": "stream",
     "text": [
      "EPOCH 17 Completed. \n",
      " Training Loss: 0.695, Training Accuracy: 75.69, Validation Loss: 0.813, Validation Accuracy: 72.56 \n",
      "\n",
      "Adjusting learning rate of group 0 to 4.1812e-04.\n"
     ]
    },
    {
     "name": "stderr",
     "output_type": "stream",
     "text": [
      "352it [00:06, 54.95it/s]\n"
     ]
    },
    {
     "name": "stdout",
     "output_type": "stream",
     "text": [
      "EPOCH 18 Completed. \n",
      " Training Loss: 0.683, Training Accuracy: 76.00, Validation Loss: 0.807, Validation Accuracy: 72.86 \n",
      "\n",
      "Adjusting learning rate of group 0 to 3.9721e-04.\n"
     ]
    },
    {
     "name": "stderr",
     "output_type": "stream",
     "text": [
      "352it [00:06, 54.58it/s]\n"
     ]
    },
    {
     "name": "stdout",
     "output_type": "stream",
     "text": [
      "EPOCH 19 Completed. \n",
      " Training Loss: 0.672, Training Accuracy: 76.48, Validation Loss: 0.805, Validation Accuracy: 72.52 \n",
      "\n",
      "Adjusting learning rate of group 0 to 3.7735e-04.\n"
     ]
    },
    {
     "name": "stderr",
     "output_type": "stream",
     "text": [
      "352it [00:06, 54.06it/s]\n"
     ]
    },
    {
     "name": "stdout",
     "output_type": "stream",
     "text": [
      "EPOCH 20 Completed. \n",
      " Training Loss: 0.671, Training Accuracy: 76.38, Validation Loss: 0.805, Validation Accuracy: 72.98 \n",
      "\n",
      "Adjusting learning rate of group 0 to 3.5849e-04.\n"
     ]
    },
    {
     "name": "stderr",
     "output_type": "stream",
     "text": [
      "352it [00:06, 56.11it/s]\n"
     ]
    },
    {
     "name": "stdout",
     "output_type": "stream",
     "text": [
      "EPOCH 21 Completed. \n",
      " Training Loss: 0.663, Training Accuracy: 76.90, Validation Loss: 0.809, Validation Accuracy: 72.72 \n",
      "\n",
      "Adjusting learning rate of group 0 to 3.4056e-04.\n"
     ]
    },
    {
     "name": "stderr",
     "output_type": "stream",
     "text": [
      "352it [00:06, 57.29it/s]\n"
     ]
    },
    {
     "name": "stdout",
     "output_type": "stream",
     "text": [
      "EPOCH 22 Completed. \n",
      " Training Loss: 0.660, Training Accuracy: 76.76, Validation Loss: 0.812, Validation Accuracy: 72.98 \n",
      "\n",
      "Adjusting learning rate of group 0 to 3.2353e-04.\n"
     ]
    },
    {
     "name": "stderr",
     "output_type": "stream",
     "text": [
      "352it [00:05, 60.44it/s]\n"
     ]
    },
    {
     "name": "stdout",
     "output_type": "stream",
     "text": [
      "EPOCH 23 Completed. \n",
      " Training Loss: 0.655, Training Accuracy: 76.81, Validation Loss: 0.831, Validation Accuracy: 72.72 \n",
      "\n",
      "Adjusting learning rate of group 0 to 3.0736e-04.\n"
     ]
    },
    {
     "name": "stderr",
     "output_type": "stream",
     "text": [
      "352it [00:05, 60.55it/s]\n"
     ]
    },
    {
     "name": "stdout",
     "output_type": "stream",
     "text": [
      "EPOCH 24 Completed. \n",
      " Training Loss: 0.658, Training Accuracy: 77.01, Validation Loss: 0.813, Validation Accuracy: 73.06 \n",
      "\n",
      "Adjusting learning rate of group 0 to 2.9199e-04.\n"
     ]
    },
    {
     "name": "stderr",
     "output_type": "stream",
     "text": [
      "352it [00:05, 60.35it/s]\n"
     ]
    },
    {
     "name": "stdout",
     "output_type": "stream",
     "text": [
      "EPOCH 25 Completed. \n",
      " Training Loss: 0.652, Training Accuracy: 77.10, Validation Loss: 0.807, Validation Accuracy: 72.64 \n",
      "\n",
      "Adjusting learning rate of group 0 to 2.7739e-04.\n"
     ]
    },
    {
     "name": "stderr",
     "output_type": "stream",
     "text": [
      "352it [00:05, 60.23it/s]\n"
     ]
    },
    {
     "name": "stdout",
     "output_type": "stream",
     "text": [
      "EPOCH 26 Completed. \n",
      " Training Loss: 0.648, Training Accuracy: 77.23, Validation Loss: 0.820, Validation Accuracy: 73.02 \n",
      "\n",
      "Adjusting learning rate of group 0 to 2.6352e-04.\n"
     ]
    },
    {
     "name": "stderr",
     "output_type": "stream",
     "text": [
      "352it [00:05, 61.25it/s]\n"
     ]
    },
    {
     "name": "stdout",
     "output_type": "stream",
     "text": [
      "EPOCH 27 Completed. \n",
      " Training Loss: 0.646, Training Accuracy: 77.28, Validation Loss: 0.802, Validation Accuracy: 73.70 \n",
      "\n",
      "Adjusting learning rate of group 0 to 2.5034e-04.\n"
     ]
    },
    {
     "name": "stderr",
     "output_type": "stream",
     "text": [
      "352it [00:05, 59.54it/s]\n"
     ]
    },
    {
     "name": "stdout",
     "output_type": "stream",
     "text": [
      "EPOCH 28 Completed. \n",
      " Training Loss: 0.642, Training Accuracy: 77.33, Validation Loss: 0.814, Validation Accuracy: 72.76 \n",
      "\n",
      "Adjusting learning rate of group 0 to 2.3783e-04.\n"
     ]
    },
    {
     "name": "stderr",
     "output_type": "stream",
     "text": [
      "352it [00:05, 60.19it/s]\n"
     ]
    },
    {
     "name": "stdout",
     "output_type": "stream",
     "text": [
      "EPOCH 29 Completed. \n",
      " Training Loss: 0.641, Training Accuracy: 77.39, Validation Loss: 0.807, Validation Accuracy: 73.16 \n",
      "\n",
      "Adjusting learning rate of group 0 to 2.2594e-04.\n"
     ]
    },
    {
     "name": "stderr",
     "output_type": "stream",
     "text": [
      "352it [00:05, 61.35it/s]\n"
     ]
    },
    {
     "name": "stdout",
     "output_type": "stream",
     "text": [
      "EPOCH 30 Completed. \n",
      " Training Loss: 0.639, Training Accuracy: 77.60, Validation Loss: 0.830, Validation Accuracy: 72.56 \n",
      "\n",
      "Adjusting learning rate of group 0 to 2.1464e-05.\n"
     ]
    },
    {
     "name": "stderr",
     "output_type": "stream",
     "text": [
      "352it [00:05, 59.88it/s]\n"
     ]
    },
    {
     "name": "stdout",
     "output_type": "stream",
     "text": [
      "EPOCH 31 Completed. \n",
      " Training Loss: 0.640, Training Accuracy: 77.70, Validation Loss: 0.813, Validation Accuracy: 73.38 \n",
      "\n",
      "Adjusting learning rate of group 0 to 2.0391e-05.\n"
     ]
    },
    {
     "name": "stderr",
     "output_type": "stream",
     "text": [
      "352it [00:05, 60.50it/s]\n"
     ]
    },
    {
     "name": "stdout",
     "output_type": "stream",
     "text": [
      "EPOCH 32 Completed. \n",
      " Training Loss: 0.635, Training Accuracy: 77.67, Validation Loss: 0.821, Validation Accuracy: 72.88 \n",
      "\n",
      "Adjusting learning rate of group 0 to 1.9371e-05.\n"
     ]
    },
    {
     "name": "stderr",
     "output_type": "stream",
     "text": [
      "352it [00:05, 60.86it/s]\n"
     ]
    },
    {
     "name": "stdout",
     "output_type": "stream",
     "text": [
      "EPOCH 33 Completed. \n",
      " Training Loss: 0.637, Training Accuracy: 77.62, Validation Loss: 0.806, Validation Accuracy: 73.68 \n",
      "\n",
      "Adjusting learning rate of group 0 to 1.8403e-05.\n"
     ]
    },
    {
     "name": "stderr",
     "output_type": "stream",
     "text": [
      "352it [00:05, 60.70it/s]\n"
     ]
    },
    {
     "name": "stdout",
     "output_type": "stream",
     "text": [
      "EPOCH 34 Completed. \n",
      " Training Loss: 0.632, Training Accuracy: 77.59, Validation Loss: 0.811, Validation Accuracy: 73.44 \n",
      "\n",
      "Adjusting learning rate of group 0 to 1.7482e-05.\n"
     ]
    },
    {
     "name": "stderr",
     "output_type": "stream",
     "text": [
      "352it [00:05, 60.19it/s]\n"
     ]
    },
    {
     "name": "stdout",
     "output_type": "stream",
     "text": [
      "EPOCH 35 Completed. \n",
      " Training Loss: 0.628, Training Accuracy: 77.91, Validation Loss: 0.807, Validation Accuracy: 73.66 \n",
      "\n",
      "Adjusting learning rate of group 0 to 1.6608e-05.\n"
     ]
    },
    {
     "name": "stderr",
     "output_type": "stream",
     "text": [
      "352it [00:05, 59.24it/s]\n"
     ]
    },
    {
     "name": "stdout",
     "output_type": "stream",
     "text": [
      "EPOCH 36 Completed. \n",
      " Training Loss: 0.635, Training Accuracy: 77.69, Validation Loss: 0.799, Validation Accuracy: 73.32 \n",
      "\n",
      "Adjusting learning rate of group 0 to 1.5778e-05.\n"
     ]
    },
    {
     "name": "stderr",
     "output_type": "stream",
     "text": [
      "352it [00:05, 63.26it/s]\n"
     ]
    },
    {
     "name": "stdout",
     "output_type": "stream",
     "text": [
      "EPOCH 37 Completed. \n",
      " Training Loss: 0.631, Training Accuracy: 77.65, Validation Loss: 0.819, Validation Accuracy: 73.30 \n",
      "\n",
      "Adjusting learning rate of group 0 to 1.4989e-05.\n"
     ]
    },
    {
     "name": "stderr",
     "output_type": "stream",
     "text": [
      "352it [00:04, 76.89it/s]\n"
     ]
    },
    {
     "name": "stdout",
     "output_type": "stream",
     "text": [
      "EPOCH 38 Completed. \n",
      " Training Loss: 0.630, Training Accuracy: 77.96, Validation Loss: 0.820, Validation Accuracy: 73.02 \n",
      "\n",
      "Adjusting learning rate of group 0 to 1.4240e-05.\n"
     ]
    },
    {
     "name": "stderr",
     "output_type": "stream",
     "text": [
      "352it [00:06, 57.03it/s]\n"
     ]
    },
    {
     "name": "stdout",
     "output_type": "stream",
     "text": [
      "EPOCH 39 Completed. \n",
      " Training Loss: 0.631, Training Accuracy: 77.69, Validation Loss: 0.820, Validation Accuracy: 72.90 \n",
      "\n",
      "Adjusting learning rate of group 0 to 1.3528e-05.\n"
     ]
    },
    {
     "name": "stderr",
     "output_type": "stream",
     "text": [
      "352it [00:06, 54.60it/s]\n"
     ]
    },
    {
     "name": "stdout",
     "output_type": "stream",
     "text": [
      "EPOCH 40 Completed. \n",
      " Training Loss: 0.631, Training Accuracy: 77.74, Validation Loss: 0.809, Validation Accuracy: 73.16 \n",
      "\n",
      "Adjusting learning rate of group 0 to 1.2851e-05.\n"
     ]
    },
    {
     "name": "stderr",
     "output_type": "stream",
     "text": [
      "352it [00:06, 54.64it/s]\n"
     ]
    },
    {
     "name": "stdout",
     "output_type": "stream",
     "text": [
      "EPOCH 41 Completed. \n",
      " Training Loss: 0.631, Training Accuracy: 77.79, Validation Loss: 0.803, Validation Accuracy: 72.94 \n",
      "\n",
      "Adjusting learning rate of group 0 to 1.2209e-05.\n"
     ]
    },
    {
     "name": "stderr",
     "output_type": "stream",
     "text": [
      "352it [00:06, 54.64it/s]\n"
     ]
    },
    {
     "name": "stdout",
     "output_type": "stream",
     "text": [
      "EPOCH 42 Completed. \n",
      " Training Loss: 0.629, Training Accuracy: 77.80, Validation Loss: 0.821, Validation Accuracy: 73.62 \n",
      "\n",
      "Adjusting learning rate of group 0 to 1.1598e-05.\n"
     ]
    },
    {
     "name": "stderr",
     "output_type": "stream",
     "text": [
      "352it [00:06, 55.14it/s]\n"
     ]
    },
    {
     "name": "stdout",
     "output_type": "stream",
     "text": [
      "EPOCH 43 Completed. \n",
      " Training Loss: 0.634, Training Accuracy: 77.72, Validation Loss: 0.791, Validation Accuracy: 73.64 \n",
      "\n",
      "Adjusting learning rate of group 0 to 1.1018e-05.\n"
     ]
    },
    {
     "name": "stderr",
     "output_type": "stream",
     "text": [
      "352it [00:06, 55.21it/s]\n"
     ]
    },
    {
     "name": "stdout",
     "output_type": "stream",
     "text": [
      "EPOCH 44 Completed. \n",
      " Training Loss: 0.633, Training Accuracy: 77.71, Validation Loss: 0.815, Validation Accuracy: 73.22 \n",
      "\n",
      "Adjusting learning rate of group 0 to 1.0467e-05.\n"
     ]
    },
    {
     "name": "stderr",
     "output_type": "stream",
     "text": [
      "352it [00:06, 56.22it/s]\n"
     ]
    },
    {
     "name": "stdout",
     "output_type": "stream",
     "text": [
      "EPOCH 45 Completed. \n",
      " Training Loss: 0.631, Training Accuracy: 77.94, Validation Loss: 0.821, Validation Accuracy: 73.58 \n",
      "\n",
      "Adjusting learning rate of group 0 to 9.9440e-07.\n"
     ]
    },
    {
     "name": "stderr",
     "output_type": "stream",
     "text": [
      "352it [00:06, 53.92it/s]\n"
     ]
    },
    {
     "name": "stdout",
     "output_type": "stream",
     "text": [
      "EPOCH 46 Completed. \n",
      " Training Loss: 0.628, Training Accuracy: 78.02, Validation Loss: 0.827, Validation Accuracy: 73.24 \n",
      "\n",
      "Adjusting learning rate of group 0 to 9.4468e-07.\n"
     ]
    },
    {
     "name": "stderr",
     "output_type": "stream",
     "text": [
      "352it [00:06, 54.95it/s]\n"
     ]
    },
    {
     "name": "stdout",
     "output_type": "stream",
     "text": [
      "EPOCH 47 Completed. \n",
      " Training Loss: 0.630, Training Accuracy: 77.83, Validation Loss: 0.814, Validation Accuracy: 72.94 \n",
      "\n",
      "Adjusting learning rate of group 0 to 8.9745e-07.\n"
     ]
    },
    {
     "name": "stderr",
     "output_type": "stream",
     "text": [
      "352it [00:06, 55.48it/s]\n"
     ]
    },
    {
     "name": "stdout",
     "output_type": "stream",
     "text": [
      "EPOCH 48 Completed. \n",
      " Training Loss: 0.634, Training Accuracy: 77.77, Validation Loss: 0.814, Validation Accuracy: 73.62 \n",
      "\n",
      "Adjusting learning rate of group 0 to 8.5258e-07.\n"
     ]
    },
    {
     "name": "stderr",
     "output_type": "stream",
     "text": [
      "352it [00:06, 53.66it/s]\n"
     ]
    },
    {
     "name": "stdout",
     "output_type": "stream",
     "text": [
      "EPOCH 49 Completed. \n",
      " Training Loss: 0.633, Training Accuracy: 77.80, Validation Loss: 0.813, Validation Accuracy: 72.66 \n",
      "\n",
      "Adjusting learning rate of group 0 to 8.0995e-07.\n"
     ]
    },
    {
     "name": "stderr",
     "output_type": "stream",
     "text": [
      "352it [00:06, 54.77it/s]\n"
     ]
    },
    {
     "name": "stdout",
     "output_type": "stream",
     "text": [
      "EPOCH 50 Completed. \n",
      " Training Loss: 0.629, Training Accuracy: 77.94, Validation Loss: 0.807, Validation Accuracy: 72.84 \n",
      "\n",
      "Adjusting learning rate of group 0 to 7.6945e-07.\n"
     ]
    },
    {
     "name": "stderr",
     "output_type": "stream",
     "text": [
      "352it [00:06, 53.74it/s]\n"
     ]
    },
    {
     "name": "stdout",
     "output_type": "stream",
     "text": [
      "EPOCH 51 Completed. \n",
      " Training Loss: 0.631, Training Accuracy: 77.54, Validation Loss: 0.819, Validation Accuracy: 73.88 \n",
      "\n",
      "Adjusting learning rate of group 0 to 7.3098e-07.\n"
     ]
    },
    {
     "name": "stderr",
     "output_type": "stream",
     "text": [
      "352it [00:06, 55.48it/s]\n"
     ]
    },
    {
     "name": "stdout",
     "output_type": "stream",
     "text": [
      "EPOCH 52 Completed. \n",
      " Training Loss: 0.624, Training Accuracy: 78.14, Validation Loss: 0.788, Validation Accuracy: 73.48 \n",
      "\n",
      "Adjusting learning rate of group 0 to 6.9443e-07.\n"
     ]
    },
    {
     "name": "stderr",
     "output_type": "stream",
     "text": [
      "352it [00:06, 54.54it/s]\n"
     ]
    },
    {
     "name": "stdout",
     "output_type": "stream",
     "text": [
      "EPOCH 53 Completed. \n",
      " Training Loss: 0.633, Training Accuracy: 77.74, Validation Loss: 0.813, Validation Accuracy: 73.06 \n",
      "\n",
      "Adjusting learning rate of group 0 to 6.5971e-07.\n"
     ]
    },
    {
     "name": "stderr",
     "output_type": "stream",
     "text": [
      "352it [00:06, 54.54it/s]\n"
     ]
    },
    {
     "name": "stdout",
     "output_type": "stream",
     "text": [
      "EPOCH 54 Completed. \n",
      " Training Loss: 0.634, Training Accuracy: 77.61, Validation Loss: 0.826, Validation Accuracy: 73.02 \n",
      "\n",
      "Adjusting learning rate of group 0 to 6.2672e-07.\n"
     ]
    },
    {
     "name": "stderr",
     "output_type": "stream",
     "text": [
      "352it [00:06, 54.36it/s]\n"
     ]
    },
    {
     "name": "stdout",
     "output_type": "stream",
     "text": [
      "EPOCH 55 Completed. \n",
      " Training Loss: 0.631, Training Accuracy: 77.85, Validation Loss: 0.803, Validation Accuracy: 73.38 \n",
      "\n",
      "Adjusting learning rate of group 0 to 5.9539e-07.\n"
     ]
    },
    {
     "name": "stderr",
     "output_type": "stream",
     "text": [
      "352it [00:06, 54.08it/s]\n"
     ]
    },
    {
     "name": "stdout",
     "output_type": "stream",
     "text": [
      "EPOCH 56 Completed. \n",
      " Training Loss: 0.631, Training Accuracy: 77.66, Validation Loss: 0.814, Validation Accuracy: 72.78 \n",
      "\n",
      "Adjusting learning rate of group 0 to 5.6562e-07.\n"
     ]
    },
    {
     "name": "stderr",
     "output_type": "stream",
     "text": [
      "352it [00:07, 49.89it/s]\n"
     ]
    },
    {
     "name": "stdout",
     "output_type": "stream",
     "text": [
      "EPOCH 57 Completed. \n",
      " Training Loss: 0.630, Training Accuracy: 77.79, Validation Loss: 0.799, Validation Accuracy: 73.02 \n",
      "\n",
      "Adjusting learning rate of group 0 to 5.3734e-07.\n"
     ]
    },
    {
     "name": "stderr",
     "output_type": "stream",
     "text": [
      "352it [00:06, 55.31it/s]\n"
     ]
    },
    {
     "name": "stdout",
     "output_type": "stream",
     "text": [
      "EPOCH 58 Completed. \n",
      " Training Loss: 0.630, Training Accuracy: 77.82, Validation Loss: 0.812, Validation Accuracy: 72.58 \n",
      "\n",
      "Adjusting learning rate of group 0 to 5.1047e-07.\n"
     ]
    },
    {
     "name": "stderr",
     "output_type": "stream",
     "text": [
      "352it [00:06, 54.21it/s]\n"
     ]
    },
    {
     "name": "stdout",
     "output_type": "stream",
     "text": [
      "EPOCH 59 Completed. \n",
      " Training Loss: 0.631, Training Accuracy: 77.60, Validation Loss: 0.810, Validation Accuracy: 73.56 \n",
      "\n",
      "Adjusting learning rate of group 0 to 4.8495e-07.\n"
     ]
    },
    {
     "name": "stderr",
     "output_type": "stream",
     "text": [
      "352it [00:06, 54.71it/s]\n"
     ]
    },
    {
     "name": "stdout",
     "output_type": "stream",
     "text": [
      "EPOCH 60 Completed. \n",
      " Training Loss: 0.634, Training Accuracy: 77.64, Validation Loss: 0.826, Validation Accuracy: 73.50 \n",
      "\n",
      "Adjusting learning rate of group 0 to 4.6070e-08.\n"
     ]
    },
    {
     "name": "stderr",
     "output_type": "stream",
     "text": [
      "352it [00:06, 53.80it/s]\n"
     ]
    },
    {
     "name": "stdout",
     "output_type": "stream",
     "text": [
      "EPOCH 61 Completed. \n",
      " Training Loss: 0.630, Training Accuracy: 77.85, Validation Loss: 0.802, Validation Accuracy: 73.38 \n",
      "\n",
      "Adjusting learning rate of group 0 to 4.3766e-08.\n"
     ]
    },
    {
     "name": "stderr",
     "output_type": "stream",
     "text": [
      "352it [00:06, 52.30it/s]\n"
     ]
    },
    {
     "name": "stdout",
     "output_type": "stream",
     "text": [
      "EPOCH 62 Completed. \n",
      " Training Loss: 0.631, Training Accuracy: 77.81, Validation Loss: 0.806, Validation Accuracy: 72.90 \n",
      "\n",
      "Adjusting learning rate of group 0 to 4.1578e-08.\n"
     ]
    },
    {
     "name": "stderr",
     "output_type": "stream",
     "text": [
      "352it [00:06, 54.03it/s]\n"
     ]
    },
    {
     "name": "stdout",
     "output_type": "stream",
     "text": [
      "EPOCH 63 Completed. \n",
      " Training Loss: 0.627, Training Accuracy: 78.02, Validation Loss: 0.812, Validation Accuracy: 73.58 \n",
      "\n",
      "Adjusting learning rate of group 0 to 3.9499e-08.\n"
     ]
    },
    {
     "name": "stderr",
     "output_type": "stream",
     "text": [
      "352it [00:06, 56.07it/s]\n"
     ]
    },
    {
     "name": "stdout",
     "output_type": "stream",
     "text": [
      "EPOCH 64 Completed. \n",
      " Training Loss: 0.633, Training Accuracy: 77.74, Validation Loss: 0.815, Validation Accuracy: 72.98 \n",
      "\n",
      "Adjusting learning rate of group 0 to 3.7524e-08.\n"
     ]
    },
    {
     "name": "stderr",
     "output_type": "stream",
     "text": [
      "352it [00:05, 61.58it/s]\n"
     ]
    },
    {
     "name": "stdout",
     "output_type": "stream",
     "text": [
      "EPOCH 65 Completed. \n",
      " Training Loss: 0.632, Training Accuracy: 77.71, Validation Loss: 0.788, Validation Accuracy: 73.20 \n",
      "\n",
      "Adjusting learning rate of group 0 to 3.5648e-08.\n"
     ]
    },
    {
     "name": "stderr",
     "output_type": "stream",
     "text": [
      "352it [00:05, 61.46it/s]\n"
     ]
    },
    {
     "name": "stdout",
     "output_type": "stream",
     "text": [
      "EPOCH 66 Completed. \n",
      " Training Loss: 0.631, Training Accuracy: 77.90, Validation Loss: 0.808, Validation Accuracy: 73.60 \n",
      "\n",
      "Adjusting learning rate of group 0 to 3.3866e-08.\n"
     ]
    },
    {
     "name": "stderr",
     "output_type": "stream",
     "text": [
      "352it [00:05, 59.57it/s]\n"
     ]
    },
    {
     "name": "stdout",
     "output_type": "stream",
     "text": [
      "EPOCH 67 Completed. \n",
      " Training Loss: 0.635, Training Accuracy: 77.62, Validation Loss: 0.819, Validation Accuracy: 72.88 \n",
      "\n",
      "Adjusting learning rate of group 0 to 3.2172e-08.\n"
     ]
    },
    {
     "name": "stderr",
     "output_type": "stream",
     "text": [
      "352it [00:05, 60.08it/s]\n"
     ]
    },
    {
     "name": "stdout",
     "output_type": "stream",
     "text": [
      "EPOCH 68 Completed. \n",
      " Training Loss: 0.626, Training Accuracy: 77.92, Validation Loss: 0.818, Validation Accuracy: 72.88 \n",
      "\n",
      "Adjusting learning rate of group 0 to 3.0564e-08.\n"
     ]
    },
    {
     "name": "stderr",
     "output_type": "stream",
     "text": [
      "352it [00:05, 59.42it/s]\n"
     ]
    },
    {
     "name": "stdout",
     "output_type": "stream",
     "text": [
      "EPOCH 69 Completed. \n",
      " Training Loss: 0.634, Training Accuracy: 77.46, Validation Loss: 0.811, Validation Accuracy: 73.10 \n",
      "\n",
      "Adjusting learning rate of group 0 to 2.9035e-08.\n"
     ]
    },
    {
     "name": "stderr",
     "output_type": "stream",
     "text": [
      "352it [00:05, 62.29it/s]\n"
     ]
    },
    {
     "name": "stdout",
     "output_type": "stream",
     "text": [
      "EPOCH 70 Completed. \n",
      " Training Loss: 0.632, Training Accuracy: 77.88, Validation Loss: 0.797, Validation Accuracy: 73.26 \n",
      "\n",
      "Adjusting learning rate of group 0 to 2.7584e-08.\n"
     ]
    },
    {
     "name": "stderr",
     "output_type": "stream",
     "text": [
      "352it [00:05, 60.64it/s]\n"
     ]
    },
    {
     "name": "stdout",
     "output_type": "stream",
     "text": [
      "EPOCH 71 Completed. \n",
      " Training Loss: 0.626, Training Accuracy: 78.10, Validation Loss: 0.806, Validation Accuracy: 73.26 \n",
      "\n",
      "Adjusting learning rate of group 0 to 2.6205e-08.\n"
     ]
    },
    {
     "name": "stderr",
     "output_type": "stream",
     "text": [
      "352it [00:06, 57.62it/s]\n"
     ]
    },
    {
     "name": "stdout",
     "output_type": "stream",
     "text": [
      "EPOCH 72 Completed. \n",
      " Training Loss: 0.632, Training Accuracy: 77.80, Validation Loss: 0.827, Validation Accuracy: 73.24 \n",
      "\n",
      "Adjusting learning rate of group 0 to 2.4894e-08.\n"
     ]
    },
    {
     "name": "stderr",
     "output_type": "stream",
     "text": [
      "352it [00:05, 60.39it/s]\n"
     ]
    },
    {
     "name": "stdout",
     "output_type": "stream",
     "text": [
      "EPOCH 73 Completed. \n",
      " Training Loss: 0.629, Training Accuracy: 77.89, Validation Loss: 0.798, Validation Accuracy: 72.94 \n",
      "\n",
      "Adjusting learning rate of group 0 to 2.3650e-08.\n"
     ]
    },
    {
     "name": "stderr",
     "output_type": "stream",
     "text": [
      "352it [00:05, 63.73it/s]\n"
     ]
    },
    {
     "name": "stdout",
     "output_type": "stream",
     "text": [
      "EPOCH 74 Completed. \n",
      " Training Loss: 0.628, Training Accuracy: 77.88, Validation Loss: 0.788, Validation Accuracy: 73.60 \n",
      "\n",
      "Adjusting learning rate of group 0 to 2.2467e-08.\n"
     ]
    },
    {
     "name": "stderr",
     "output_type": "stream",
     "text": [
      "352it [00:05, 60.27it/s]\n"
     ]
    },
    {
     "name": "stdout",
     "output_type": "stream",
     "text": [
      "EPOCH 75 Completed. \n",
      " Training Loss: 0.629, Training Accuracy: 77.97, Validation Loss: 0.806, Validation Accuracy: 73.14 \n",
      "\n",
      "Adjusting learning rate of group 0 to 2.1344e-08.\n"
     ]
    },
    {
     "name": "stderr",
     "output_type": "stream",
     "text": [
      "352it [00:05, 60.42it/s]\n"
     ]
    },
    {
     "name": "stdout",
     "output_type": "stream",
     "text": [
      "EPOCH 76 Completed. \n",
      " Training Loss: 0.633, Training Accuracy: 77.76, Validation Loss: 0.826, Validation Accuracy: 72.50 \n",
      "\n",
      "Adjusting learning rate of group 0 to 2.0277e-08.\n"
     ]
    },
    {
     "name": "stderr",
     "output_type": "stream",
     "text": [
      "352it [00:06, 58.21it/s]\n"
     ]
    },
    {
     "name": "stdout",
     "output_type": "stream",
     "text": [
      "EPOCH 77 Completed. \n",
      " Training Loss: 0.628, Training Accuracy: 77.85, Validation Loss: 0.809, Validation Accuracy: 73.40 \n",
      "\n",
      "Adjusting learning rate of group 0 to 1.9263e-08.\n"
     ]
    },
    {
     "name": "stderr",
     "output_type": "stream",
     "text": [
      "352it [00:05, 61.10it/s]\n"
     ]
    },
    {
     "name": "stdout",
     "output_type": "stream",
     "text": [
      "EPOCH 78 Completed. \n",
      " Training Loss: 0.625, Training Accuracy: 78.14, Validation Loss: 0.829, Validation Accuracy: 72.48 \n",
      "\n",
      "Adjusting learning rate of group 0 to 1.8300e-08.\n"
     ]
    },
    {
     "name": "stderr",
     "output_type": "stream",
     "text": [
      "352it [00:05, 60.76it/s]\n"
     ]
    },
    {
     "name": "stdout",
     "output_type": "stream",
     "text": [
      "EPOCH 79 Completed. \n",
      " Training Loss: 0.629, Training Accuracy: 77.92, Validation Loss: 0.811, Validation Accuracy: 73.64 \n",
      "\n",
      "Adjusting learning rate of group 0 to 1.7385e-08.\n"
     ]
    },
    {
     "name": "stderr",
     "output_type": "stream",
     "text": [
      "352it [00:05, 60.59it/s]\n"
     ]
    },
    {
     "name": "stdout",
     "output_type": "stream",
     "text": [
      "EPOCH 80 Completed. \n",
      " Training Loss: 0.631, Training Accuracy: 77.80, Validation Loss: 0.819, Validation Accuracy: 72.88 \n",
      "\n",
      "Adjusting learning rate of group 0 to 1.6515e-08.\n"
     ]
    },
    {
     "name": "stderr",
     "output_type": "stream",
     "text": [
      "352it [00:04, 75.44it/s]\n"
     ]
    },
    {
     "name": "stdout",
     "output_type": "stream",
     "text": [
      "EPOCH 81 Completed. \n",
      " Training Loss: 0.634, Training Accuracy: 77.78, Validation Loss: 0.828, Validation Accuracy: 72.96 \n",
      "\n",
      "Adjusting learning rate of group 0 to 1.5690e-08.\n"
     ]
    },
    {
     "name": "stderr",
     "output_type": "stream",
     "text": [
      "352it [00:06, 58.40it/s]\n"
     ]
    },
    {
     "name": "stdout",
     "output_type": "stream",
     "text": [
      "EPOCH 82 Completed. \n",
      " Training Loss: 0.631, Training Accuracy: 77.77, Validation Loss: 0.807, Validation Accuracy: 73.46 \n",
      "\n",
      "Adjusting learning rate of group 0 to 1.4905e-08.\n"
     ]
    },
    {
     "name": "stderr",
     "output_type": "stream",
     "text": [
      "352it [00:06, 57.00it/s]\n"
     ]
    },
    {
     "name": "stdout",
     "output_type": "stream",
     "text": [
      "EPOCH 83 Completed. \n",
      " Training Loss: 0.629, Training Accuracy: 78.04, Validation Loss: 0.820, Validation Accuracy: 73.10 \n",
      "\n",
      "Adjusting learning rate of group 0 to 1.4160e-08.\n"
     ]
    },
    {
     "name": "stderr",
     "output_type": "stream",
     "text": [
      "352it [00:06, 56.80it/s]\n"
     ]
    },
    {
     "name": "stdout",
     "output_type": "stream",
     "text": [
      "EPOCH 84 Completed. \n",
      " Training Loss: 0.627, Training Accuracy: 77.95, Validation Loss: 0.796, Validation Accuracy: 73.46 \n",
      "\n",
      "Adjusting learning rate of group 0 to 1.3452e-08.\n"
     ]
    },
    {
     "name": "stderr",
     "output_type": "stream",
     "text": [
      "352it [00:06, 56.09it/s]\n"
     ]
    },
    {
     "name": "stdout",
     "output_type": "stream",
     "text": [
      "EPOCH 85 Completed. \n",
      " Training Loss: 0.629, Training Accuracy: 77.85, Validation Loss: 0.825, Validation Accuracy: 72.52 \n",
      "\n",
      "Adjusting learning rate of group 0 to 1.2779e-08.\n"
     ]
    },
    {
     "name": "stderr",
     "output_type": "stream",
     "text": [
      "352it [00:06, 55.02it/s]\n"
     ]
    },
    {
     "name": "stdout",
     "output_type": "stream",
     "text": [
      "EPOCH 86 Completed. \n",
      " Training Loss: 0.630, Training Accuracy: 77.95, Validation Loss: 0.819, Validation Accuracy: 72.80 \n",
      "\n",
      "Adjusting learning rate of group 0 to 1.2140e-08.\n"
     ]
    },
    {
     "name": "stderr",
     "output_type": "stream",
     "text": [
      "352it [00:06, 55.37it/s]\n"
     ]
    },
    {
     "name": "stdout",
     "output_type": "stream",
     "text": [
      "EPOCH 87 Completed. \n",
      " Training Loss: 0.629, Training Accuracy: 77.86, Validation Loss: 0.814, Validation Accuracy: 73.08 \n",
      "\n",
      "Adjusting learning rate of group 0 to 1.1533e-08.\n"
     ]
    },
    {
     "name": "stderr",
     "output_type": "stream",
     "text": [
      "352it [00:06, 54.76it/s]\n"
     ]
    },
    {
     "name": "stdout",
     "output_type": "stream",
     "text": [
      "EPOCH 88 Completed. \n",
      " Training Loss: 0.632, Training Accuracy: 77.77, Validation Loss: 0.808, Validation Accuracy: 73.58 \n",
      "\n",
      "Adjusting learning rate of group 0 to 1.0957e-08.\n"
     ]
    },
    {
     "name": "stderr",
     "output_type": "stream",
     "text": [
      "352it [00:06, 55.71it/s]\n"
     ]
    },
    {
     "name": "stdout",
     "output_type": "stream",
     "text": [
      "EPOCH 89 Completed. \n",
      " Training Loss: 0.628, Training Accuracy: 77.86, Validation Loss: 0.816, Validation Accuracy: 73.16 \n",
      "\n",
      "Adjusting learning rate of group 0 to 1.0409e-08.\n"
     ]
    },
    {
     "name": "stderr",
     "output_type": "stream",
     "text": [
      "352it [00:06, 55.99it/s]\n"
     ]
    },
    {
     "name": "stdout",
     "output_type": "stream",
     "text": [
      "EPOCH 90 Completed. \n",
      " Training Loss: 0.627, Training Accuracy: 77.95, Validation Loss: 0.816, Validation Accuracy: 73.52 \n",
      "\n",
      "Adjusting learning rate of group 0 to 9.8884e-10.\n"
     ]
    }
   ],
   "source": [
    "EPOCHS=90\n",
    "\n",
    "losses4, accs4, valid_losses4, valid_accs4 = train(model4, trainloader, validloader, EPOCHS, device, \n",
    "                                               loss_ftn, optimizer4, scheduler=scheduler4)"
   ]
  },
  {
   "cell_type": "code",
   "execution_count": 41,
   "id": "c51f600a",
   "metadata": {},
   "outputs": [
    {
     "name": "stdout",
     "output_type": "stream",
     "text": [
      "Accuracy of the network on 10000 test images: 72.95 %\n"
     ]
    }
   ],
   "source": [
    "test(model4, testloader, device)"
   ]
  },
  {
   "cell_type": "code",
   "execution_count": 42,
   "id": "b7f2f298",
   "metadata": {},
   "outputs": [
    {
     "data": {
      "image/png": "[encoded data removed]",
      "text/plain": [
       "<Figure size 432x288 with 1 Axes>"
      ]
     },
     "metadata": {
      "needs_background": "light"
     },
     "output_type": "display_data"
    }
   ],
   "source": [
    "plt.figure()\n",
    "plt.plot(np.arange(1,EPOCHS+1), losses4, label='training loss')\n",
    "plt.plot(np.arange(1,EPOCHS+1), valid_losses4, label='validation loss')\n",
    "plt.legend()\n",
    "plt.show()"
   ]
  },
  {
   "cell_type": "code",
   "execution_count": 43,
   "id": "409533f4",
   "metadata": {},
   "outputs": [
    {
     "data": {
      "image/png": "[encoded data removed]",
      "text/plain": [
       "<Figure size 432x288 with 1 Axes>"
      ]
     },
     "metadata": {
      "needs_background": "light"
     },
     "output_type": "display_data"
    }
   ],
   "source": [
    "plt.figure()\n",
    "plt.plot(np.arange(1,EPOCHS+1), accs4, label='training accuracy')\n",
    "plt.plot(np.arange(1,EPOCHS+1), valid_accs4, label='validation accuracy')\n",
    "plt.legend()\n",
    "plt.show()"
   ]
  },
  {
   "cell_type": "code",
   "execution_count": null,
   "id": "b612ed1b",
   "metadata": {},
   "outputs": [],
   "source": []
  },
  {
   "cell_type": "code",
   "execution_count": null,
   "id": "19647e5f",
   "metadata": {},
   "outputs": [],
   "source": []
  }
 ],
 "metadata": {
  "kernelspec": {
   "display_name": "Environment (conda_pytorch1.7.1_p37)",
   "language": "python",
   "name": "conda_pytorch1.7.1_p37"
  },
  "language_info": {
   "codemirror_mode": {
    "name": "ipython",
    "version": 3
   },
   "file_extension": ".py",
   "mimetype": "text/x-python",
   "name": "python",
   "nbconvert_exporter": "python",
   "pygments_lexer": "ipython3",
   "version": "3.7.10"
  }
 },
 "nbformat": 4,
 "nbformat_minor": 5
}
