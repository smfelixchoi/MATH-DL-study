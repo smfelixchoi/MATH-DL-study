{
 "cells": [
  {
   "cell_type": "markdown",
   "metadata": {},
   "source": [
    "# Variational Auto Encoder\n",
    "\n",
    "- 발표자: 통합과정 최찬혁"
   ]
  },
  {
   "cell_type": "markdown",
   "metadata": {
    "id": "PVY4VcQJrngr"
   },
   "source": [
    "Import pakages\n",
    "======"
   ]
  },
  {
   "cell_type": "code",
   "execution_count": 1,
   "metadata": {
    "id": "46ceBRQ6rngs"
   },
   "outputs": [
    {
     "name": "stderr",
     "output_type": "stream",
     "text": [
      "c:\\Users\\user\\.conda\\envs\\test\\lib\\site-packages\\numpy\\_distributor_init.py:30: UserWarning: loaded more than 1 DLL from .libs:\n",
      "c:\\Users\\user\\.conda\\envs\\test\\lib\\site-packages\\numpy\\.libs\\libopenblas.EL2C6PLE4ZYW3ECEVIV3OXXGRN2NRFM2.gfortran-win_amd64.dll\n",
      "c:\\Users\\user\\.conda\\envs\\test\\lib\\site-packages\\numpy\\.libs\\libopenblas.PYQHXLVVQ7VESDPUVUADXEVJOBGHJPAY.gfortran-win_amd64.dll\n",
      "  warnings.warn(\"loaded more than 1 DLL from .libs:\"\n"
     ]
    }
   ],
   "source": [
    "import torch\n",
    "import torch.nn as nn\n",
    "import torch.nn.functional as F\n",
    "import torch.utils\n",
    "import torch.distributions\n",
    "import torchvision\n",
    "from torchvision import transforms, datasets\n",
    "from torchsummary import summary as summary_\n",
    "import numpy as np\n",
    "import matplotlib.pyplot as plt"
   ]
  },
  {
   "cell_type": "markdown",
   "metadata": {
    "id": "Xmy2rLn4rngu"
   },
   "source": [
    "Setting cpu/gpu use and hyperparameters\n",
    "======\n"
   ]
  },
  {
   "cell_type": "markdown",
   "metadata": {
    "id": "3QfsIArsrngu"
   },
   "source": [
    "Setting cpu or gpu\n",
    "-----"
   ]
  },
  {
   "cell_type": "code",
   "execution_count": 2,
   "metadata": {
    "id": "tlmXtsJwrngv"
   },
   "outputs": [],
   "source": [
    "device = 'cuda' if torch.cuda.is_available() else 'cpu'"
   ]
  },
  {
   "cell_type": "markdown",
   "metadata": {
    "id": "y8D_GDzWrngv"
   },
   "source": [
    "Setting hyperparameters\n",
    "----"
   ]
  },
  {
   "cell_type": "code",
   "execution_count": 3,
   "metadata": {
    "id": "tDp52DYdrngv"
   },
   "outputs": [],
   "source": [
    "hidden_dim1 = 300\n",
    "hidden_dim2 = 100\n",
    "latent_dim = 16\n",
    "BETA = 0.5\n",
    "BATCH_SIZE = 50\n",
    "NUM_WORKERS = 2\n",
    "LR = 0.005\n",
    "MAX_EPOCHS = 20"
   ]
  },
  {
   "cell_type": "markdown",
   "metadata": {
    "id": "2N3BGr0Grngv"
   },
   "source": [
    "Download datas\n",
    "======"
   ]
  },
  {
   "cell_type": "code",
   "execution_count": 4,
   "metadata": {
    "id": "8xNpWbYvrngw"
   },
   "outputs": [],
   "source": [
    "# Fashion MNIST 데이터셋 불러오기\n",
    "trainset = datasets.FashionMNIST(\n",
    "    root      = './.data/', \n",
    "    train     = True,\n",
    "    download  = True,\n",
    "    transform = transforms.ToTensor()\n",
    ")\n",
    "\n",
    "testset = datasets.FashionMNIST(\n",
    "    root      = './.data/', \n",
    "    train     = False,\n",
    "    download  = True,\n",
    "    transform = transforms.ToTensor()\n",
    ")\n",
    "\n",
    "train_loader = torch.utils.data.DataLoader(\n",
    "    dataset     = trainset,\n",
    "    batch_size  = BATCH_SIZE,\n",
    "    shuffle     = True,\n",
    "    num_workers = NUM_WORKERS\n",
    ")\n",
    "\n",
    "test_loader = torch.utils.data.DataLoader(\n",
    "    dataset     = testset,\n",
    "    batch_size  = BATCH_SIZE,\n",
    "    shuffle     = False,\n",
    "    num_workers = NUM_WORKERS\n",
    ")"
   ]
  },
  {
   "cell_type": "markdown",
   "metadata": {
    "id": "mKRj6pGrrngw"
   },
   "source": [
    "Define models\n",
    "===="
   ]
  },
  {
   "cell_type": "markdown",
   "metadata": {
    "id": "o4XcTRzgrngw"
   },
   "source": [
    "Encoder\n",
    "------\n",
    "Let $\\mu$ and $\\Sigma$ be the learned parameters for latent space, which follows Multi-Variate Normal distribution.\n",
    "Since we assume that each dimension is independent to another, the covariance matrix is \n",
    "$$ \\Sigma = \n",
    "\\begin{bmatrix}\n",
    "\\sigma_1^2 & 0 & \\cdots & 0\\\\\n",
    "0 & \\sigma_2^2 & \\cdots & 0\\\\\n",
    "0 & 0 & \\ddots & 0 \\\\\n",
    "0 & 0 & \\cdots & \\sigma_n^2\n",
    "\\end{bmatrix}\n",
    "$$\n",
    "\n",
    "Then, the p.d.f. of MVN is as follows:\n",
    "$$ N(\\mu, \\Sigma) = \\frac{1}{\\sqrt{(2\\pi)^n|\\det{\\Sigma}|}} \\exp\\left({-\\frac{1}{2}(\\mathbb{x}-\\mu)^T \\Sigma^{-1} (\\mathbb{x}-\\mu)}\\right)$$ \n",
    "\n",
    "The prior distribution is $N(0,I)$, whose p.d.f. is as follows:\n",
    "$$ N(0,I) = \\frac{1}{\\sqrt{(2\\pi)^n|\\det{I}|}} \\exp\\left(-\\frac{1}{2}\\mathbb{x}^T\\mathbb{x}\\right) $$\n",
    "\n",
    "Then, the KL divergence loss is computed as below.\n",
    "\n",
    "\\begin{align*}\n",
    "D_{KL}(N(\\mu, \\Sigma) || N(0,I)) &= \\mathbb{E}_{\\mathbb{x} \\sim N(\\mu, \\Sigma)} \\left( \\log\\frac{N(\\mu, \\Sigma)}{N(0, I)}\\right) \\\\\n",
    "&= \\mathbb{E}_{\\mathbb{x} \\sim N(\\mu, \\Sigma)} \\left( -\\frac{1}{2}\\log\\prod_{i=1}^n \\sigma_i^2 -\\frac{1}{2}(\\mathbb{x}-\\mu)^T \\Sigma^{-1} (\\mathbb{x}-\\mu) +\\frac{1}{2}\\mathbb{x}^T\\mathbb{x}\\right) \\\\\n",
    "&= \\int_{\\mathbb{R}^n} \\left( -\\frac{1}{2}\\sum_{i=1}^n\\log\\sigma_i^2 -\\frac{1}{2}\\sum_{i=1}^n \\frac{(x_i-\\mu_i)^2}{\\sigma_i^2} +\\frac{1}{2} \\sum_{i=1}^n x_i^2\\right) N(\\mu, \\Sigma) d\\mathbb{x} \\\\\n",
    "&=  -\\frac{1}{2}\\sum_{i=1}^n\\log\\sigma_i^2 -\\frac{1}{2}\\sum_{i=1}^n \\frac{\\sigma_i^2}{\\sigma_i^2} + \\frac{1}{2} \\sum_{i=1}^n (\\mu_i^2 + \\sigma_i^2) \\\\\n",
    "&= -\\frac{1}{2}\\sum_{i=1}^n \\left( 1 + \\log \\sigma_i^2 -\\mu_i^2 - \\sigma_i^2 \\right)\n",
    "\\end{align*}\n",
    "\n",
    "Note that since each dimension of $\\mathbb{x}$ is independent to another, we have\n",
    "$$ N(\\mu, \\Sigma) = \\prod_{i=1}^n N(\\mu_i, \\sigma_i^2) $$"
   ]
  },
  {
   "cell_type": "code",
   "execution_count": 5,
   "metadata": {
    "id": "SqcxpEjNrngx"
   },
   "outputs": [],
   "source": [
    "class Encoder(nn.Module):\n",
    "    def __init__(self, latent_dims, hidden_dims1, hidden_dims2):\n",
    "        super(Encoder, self).__init__()\n",
    "        self.linear1 = nn.Linear(784, hidden_dims1)\n",
    "        self.relu1 = nn.ReLU()\n",
    "        self.linear2 = nn.Linear(hidden_dims1, hidden_dims2)\n",
    "        self.relu2 = nn.ReLU()\n",
    "        self.linear_m = nn.Linear(hidden_dims2, latent_dims)\n",
    "        self.linear_s = nn.Linear(hidden_dims2, latent_dims)\n",
    "\n",
    "        self.N = torch.distributions.Normal(0, 1)\n",
    "        self.N.loc = self.N.loc\n",
    "        self.N.scale = self.N.scale\n",
    "        self.kl = 0\n",
    "\n",
    "    def forward(self, x):\n",
    "        x = torch.flatten(x, start_dim=1)\n",
    "        x = self.linear1(x)\n",
    "        x = self.relu1(x)\n",
    "        x = self.linear2(x)\n",
    "        x = self.relu2(x)\n",
    "        mu =  self.linear_m(x)\n",
    "        sigma = torch.exp(self.linear_s(x))\n",
    "        z = mu + sigma*self.N.sample(mu.shape)\n",
    "        self.kl = (0.5 * sigma**2 + 0.5 * mu**2 - torch.log(sigma) - 1/2).sum()\n",
    "        return z, mu, sigma"
   ]
  },
  {
   "cell_type": "markdown",
   "metadata": {
    "id": "Y8nl6ofjrngx"
   },
   "source": [
    "Decoder\n",
    "-------"
   ]
  },
  {
   "cell_type": "code",
   "execution_count": 6,
   "metadata": {
    "id": "NW6_61iUrngx"
   },
   "outputs": [],
   "source": [
    "class Decoder(nn.Module):\n",
    "    def __init__(self, latent_dims, hidden_dims2, hidden_dims1):\n",
    "        super(Decoder, self).__init__()\n",
    "        self.linear1 = nn.Linear(latent_dims, hidden_dims2)\n",
    "        self.relu1 = nn.ReLU()\n",
    "        self.linear2 = nn.Linear(hidden_dims2, hidden_dims1)\n",
    "        self.relu2 = nn.ReLU()\n",
    "        self.linear3 = nn.Linear(hidden_dims1, 784)\n",
    "        self.sigmoid = nn.Sigmoid()\n",
    "\n",
    "    def forward(self, z):\n",
    "        z = self.linear1(z)\n",
    "        z = self.relu1(z)\n",
    "        z = self.linear2(z)\n",
    "        z = self.relu2(z)\n",
    "        z = self.linear3(z)\n",
    "        z = self.sigmoid(z)\n",
    "        return z.reshape((-1, 1, 28, 28))"
   ]
  },
  {
   "cell_type": "markdown",
   "metadata": {
    "id": "Zm57aC2brngy"
   },
   "source": [
    "Autoencoder\n",
    "--------\n",
    "Combine encoder and decoder to make autoencoder"
   ]
  },
  {
   "cell_type": "code",
   "execution_count": 7,
   "metadata": {
    "id": "eGoH4-Fhrngy"
   },
   "outputs": [],
   "source": [
    "class VariationalAutoencoder(nn.Module):\n",
    "    def __init__(self, latent_dims, hidden_dims1, hidden_dims2):\n",
    "        super(VariationalAutoencoder, self).__init__()\n",
    "        self.encoder = Encoder(latent_dims, hidden_dims1, hidden_dims2)\n",
    "        self.decoder = Decoder(latent_dims, hidden_dims2, hidden_dims1)\n",
    "\n",
    "    def forward(self, x):\n",
    "        z, dummy1, dummy2 = self.encoder(x)\n",
    "        return self.decoder(z)"
   ]
  },
  {
   "cell_type": "markdown",
   "metadata": {
    "id": "lYG3SxUTrng2"
   },
   "source": [
    "Choose sample from testset\n",
    "=======\n",
    "Choose sample from testset. We will compare between original image and decoded image during training."
   ]
  },
  {
   "cell_type": "code",
   "execution_count": 8,
   "metadata": {
    "id": "zM2tREjdrng2"
   },
   "outputs": [],
   "source": [
    "idx = 521\n",
    "sample = testset.data[idx] / 255.0\n",
    "sample = sample.view(-1,28,28)"
   ]
  },
  {
   "cell_type": "markdown",
   "metadata": {
    "id": "LOSjbdzsrng2"
   },
   "source": [
    "Training\n",
    "====="
   ]
  },
  {
   "cell_type": "code",
   "execution_count": 9,
   "metadata": {
    "id": "9vbkvL8Urng2"
   },
   "outputs": [],
   "source": [
    "def train(autoencoder, data1, data2, epochs=20):\n",
    "    opt = torch.optim.Adam(autoencoder.parameters(), lr=LR)\n",
    "    res = []\n",
    "    kls = []\n",
    "    tots = []\n",
    "    res2 = []\n",
    "    kls2 = []\n",
    "    tots2 = []\n",
    "    for epoch in range(epochs):\n",
    "        autoencoder.train()\n",
    "        print(\"[Epoch \" + str(epoch + 1) + \"]\")\n",
    "        total_reconstruction_loss = 0\n",
    "        total_kl_div = 0\n",
    "        for x, y in data1:\n",
    "            x = x.to(device) # GPU\n",
    "            opt.zero_grad()\n",
    "            x_hat = autoencoder(x)\n",
    "            total_reconstruction_loss = total_reconstruction_loss + ((x - x_hat)**2).sum()\n",
    "            total_kl_div = total_kl_div + autoencoder.encoder.kl\n",
    "            loss = ((x - x_hat)**2).sum() + BETA * autoencoder.encoder.kl\n",
    "            loss.backward()\n",
    "            opt.step()\n",
    "        re = total_reconstruction_loss.item()/60000.0\n",
    "        kl = total_kl_div.item()/60000.0\n",
    "        tot = re + BETA * kl\n",
    "        res.append(re)\n",
    "        kls.append(kl)\n",
    "        tots.append(tot)\n",
    "        print(\"For train data\\n\")\n",
    "        print(\"Reconstruction : \" + str(re) + \"\\n\" + \"KL Divergence : \" + str(kl) + \"\\n\" + \"Total loss : \" + str(tot))\n",
    "        autoencoder.eval()\n",
    "        total_reconstruction_loss = 0\n",
    "        total_kl_div = 0\n",
    "        for x, y in data2:\n",
    "            x = x.to(device)\n",
    "            x_hat = autoencoder(x)\n",
    "            total_reconstruction_loss = total_reconstruction_loss + ((x - x_hat)**2).sum()\n",
    "            total_kl_div = total_kl_div + autoencoder.encoder.kl\n",
    "            loss = ((x - x_hat)**2).sum() + BETA * autoencoder.encoder.kl\n",
    "\n",
    "        re = total_reconstruction_loss.item()/10000.0\n",
    "        kl = total_kl_div.item()/10000.0\n",
    "        tot = re + BETA * kl\n",
    "        print(\"\\n\"+\"For test data\\n\")\n",
    "        print(\"Reconstruction : \" + str(re) + \"\\n\" + \"KL Divergence : \" + str(kl) + \"\\n\" + \"Total loss : \" + str(tot))\n",
    "        res2.append(re)\n",
    "        kls2.append(kl)\n",
    "        tots2.append(tot)\n",
    "\n",
    "        z, mu, sigma = autoencoder.encoder(sample)\n",
    "        z.to(device)\n",
    "        mu.to(device)\n",
    "        sigma.to(device)\n",
    "        epsilon = torch.rand_like(mu).to(device)\n",
    "        latent = mu + sigma * epsilon * 1.0\n",
    "        decoded_sample = autoencoder.decoder(latent)\n",
    "        sample_np = sample.cpu().detach().numpy()\n",
    "        decoded_np = decoded_sample.cpu().detach().numpy()\n",
    "        original = np.reshape(sample_np, (28,28))\n",
    "        make = np.reshape(decoded_np, (28,28))\n",
    "        plt.subplot(1, 2, 1) \n",
    "        plt.imshow(original, cmap='gray')\n",
    "        plt.subplot(1, 2, 2) \n",
    "        plt.imshow(make, cmap='gray')\n",
    "        plt.show()\n",
    "      \n",
    "                  \n",
    "    return autoencoder, res, kls, tots, res2, kls2, tots2"
   ]
  },
  {
   "cell_type": "code",
   "execution_count": 10,
   "metadata": {},
   "outputs": [],
   "source": [
    "vae = VariationalAutoencoder(latent_dims= latent_dim, hidden_dims1 = hidden_dim1, hidden_dims2 = hidden_dim2).to(device)"
   ]
  },
  {
   "cell_type": "code",
   "execution_count": 11,
   "metadata": {},
   "outputs": [
    {
     "name": "stdout",
     "output_type": "stream",
     "text": [
      "----------------------------------------------------------------\n",
      "        Layer (type)               Output Shape         Param #\n",
      "================================================================\n",
      "            Linear-1                  [50, 300]         235,500\n",
      "              ReLU-2                  [50, 300]               0\n",
      "            Linear-3                  [50, 100]          30,100\n",
      "              ReLU-4                  [50, 100]               0\n",
      "            Linear-5                   [50, 16]           1,616\n",
      "            Linear-6                   [50, 16]           1,616\n",
      "================================================================\n",
      "Total params: 268,832\n",
      "Trainable params: 268,832\n",
      "Non-trainable params: 0\n",
      "----------------------------------------------------------------\n",
      "Input size (MB): 0.15\n",
      "Forward/backward pass size (MB): 0.32\n",
      "Params size (MB): 1.03\n",
      "Estimated Total Size (MB): 1.49\n",
      "----------------------------------------------------------------\n"
     ]
    }
   ],
   "source": [
    "summary_(vae.encoder, input_size=(28,28,), batch_size = BATCH_SIZE)"
   ]
  },
  {
   "cell_type": "code",
   "execution_count": 12,
   "metadata": {},
   "outputs": [
    {
     "name": "stdout",
     "output_type": "stream",
     "text": [
      "----------------------------------------------------------------\n",
      "        Layer (type)               Output Shape         Param #\n",
      "================================================================\n",
      "            Linear-1                  [50, 100]           1,700\n",
      "              ReLU-2                  [50, 100]               0\n",
      "            Linear-3                  [50, 300]          30,300\n",
      "              ReLU-4                  [50, 300]               0\n",
      "            Linear-5                  [50, 784]         235,984\n",
      "           Sigmoid-6                  [50, 784]               0\n",
      "================================================================\n",
      "Total params: 267,984\n",
      "Trainable params: 267,984\n",
      "Non-trainable params: 0\n",
      "----------------------------------------------------------------\n",
      "Input size (MB): 0.00\n",
      "Forward/backward pass size (MB): 0.90\n",
      "Params size (MB): 1.02\n",
      "Estimated Total Size (MB): 1.93\n",
      "----------------------------------------------------------------\n"
     ]
    }
   ],
   "source": [
    "summary_(vae.decoder, input_size=(latent_dim,), batch_size = BATCH_SIZE)"
   ]
  },
  {
   "cell_type": "code",
   "execution_count": 13,
   "metadata": {},
   "outputs": [
    {
     "name": "stdout",
     "output_type": "stream",
     "text": [
      "----------------------------------------------------------------\n",
      "        Layer (type)               Output Shape         Param #\n",
      "================================================================\n",
      "            Linear-1                  [50, 300]         235,500\n",
      "              ReLU-2                  [50, 300]               0\n",
      "            Linear-3                  [50, 100]          30,100\n",
      "              ReLU-4                  [50, 100]               0\n",
      "            Linear-5                   [50, 16]           1,616\n",
      "            Linear-6                   [50, 16]           1,616\n",
      "           Encoder-7  [[-1, 16], [-1, 16], [-1, 16]]               0\n",
      "            Linear-8                  [50, 100]           1,700\n",
      "              ReLU-9                  [50, 100]               0\n",
      "           Linear-10                  [50, 300]          30,300\n",
      "             ReLU-11                  [50, 300]               0\n",
      "           Linear-12                  [50, 784]         235,984\n",
      "          Sigmoid-13                  [50, 784]               0\n",
      "          Decoder-14            [50, 1, 28, 28]               0\n",
      "================================================================\n",
      "Total params: 536,816\n",
      "Trainable params: 536,816\n",
      "Non-trainable params: 0\n",
      "----------------------------------------------------------------\n",
      "Input size (MB): 0.15\n",
      "Forward/backward pass size (MB): 1.49\n",
      "Params size (MB): 2.05\n",
      "Estimated Total Size (MB): 3.69\n",
      "----------------------------------------------------------------\n"
     ]
    }
   ],
   "source": [
    "summary_(vae, input_size=(28,28,), batch_size = BATCH_SIZE)"
   ]
  },
  {
   "cell_type": "code",
   "execution_count": 14,
   "metadata": {
    "colab": {
     "base_uri": "https://localhost:8080/",
     "height": 1000
    },
    "id": "37B5BkP6rng3",
    "outputId": "01f899e1-b043-4ceb-ecf1-2f8520d38519"
   },
   "outputs": [
    {
     "name": "stdout",
     "output_type": "stream",
     "text": [
      "[Epoch 1]\n",
      "For train data\n",
      "\n",
      "Reconstruction : 25.03344166666667\n",
      "KL Divergence : 7.5078\n",
      "Total loss : 28.78734166666667\n",
      "\n",
      "For test data\n",
      "\n",
      "Reconstruction : 19.1928609375\n",
      "KL Divergence : 8.03065234375\n",
      "Total loss : 23.208187109375\n"
     ]
    },
    {
     "data": {
      "image/png": "[encoded data removed]",
      "text/plain": [
       "<Figure size 432x288 with 2 Axes>"
      ]
     },
     "metadata": {
      "needs_background": "light"
     },
     "output_type": "display_data"
    },
    {
     "name": "stdout",
     "output_type": "stream",
     "text": [
      "[Epoch 2]\n",
      "For train data\n",
      "\n",
      "Reconstruction : 18.618916666666667\n",
      "KL Divergence : 8.158877604166667\n",
      "Total loss : 22.69835546875\n",
      "\n",
      "For test data\n",
      "\n",
      "Reconstruction : 17.998528125\n",
      "KL Divergence : 8.25123984375\n",
      "Total loss : 22.124148046875\n"
     ]
    },
    {
     "data": {
      "image/png": "[encoded data removed]",
      "text/plain": [
       "<Figure size 432x288 with 2 Axes>"
      ]
     },
     "metadata": {
      "needs_background": "light"
     },
     "output_type": "display_data"
    },
    {
     "name": "stdout",
     "output_type": "stream",
     "text": [
      "[Epoch 3]\n",
      "For train data\n",
      "\n",
      "Reconstruction : 18.010539583333333\n",
      "KL Divergence : 8.317302083333333\n",
      "Total loss : 22.169190625\n",
      "\n",
      "For test data\n",
      "\n",
      "Reconstruction : 17.671471875\n",
      "KL Divergence : 8.249609375\n",
      "Total loss : 21.7962765625\n"
     ]
    },
    {
     "data": {
      "image/png": "[encoded data removed]",
      "text/plain": [
       "<Figure size 432x288 with 2 Axes>"
      ]
     },
     "metadata": {
      "needs_background": "light"
     },
     "output_type": "display_data"
    },
    {
     "name": "stdout",
     "output_type": "stream",
     "text": [
      "[Epoch 4]\n",
      "For train data\n",
      "\n",
      "Reconstruction : 17.723470833333334\n",
      "KL Divergence : 8.3889515625\n",
      "Total loss : 21.917946614583336\n",
      "\n",
      "For test data\n",
      "\n",
      "Reconstruction : 17.7388015625\n",
      "KL Divergence : 8.4211109375\n",
      "Total loss : 21.949357031250003\n"
     ]
    },
    {
     "data": {
      "image/png": "[encoded data removed]",
      "text/plain": [
       "<Figure size 432x288 with 2 Axes>"
      ]
     },
     "metadata": {
      "needs_background": "light"
     },
     "output_type": "display_data"
    },
    {
     "name": "stdout",
     "output_type": "stream",
     "text": [
      "[Epoch 5]\n",
      "For train data\n",
      "\n",
      "Reconstruction : 17.561225\n",
      "KL Divergence : 8.444353645833333\n",
      "Total loss : 21.783401822916666\n",
      "\n",
      "For test data\n",
      "\n",
      "Reconstruction : 17.4463875\n",
      "KL Divergence : 8.58295546875\n",
      "Total loss : 21.737865234375\n"
     ]
    },
    {
     "data": {
      "image/png": "[encoded data removed]",
      "text/plain": [
       "<Figure size 432x288 with 2 Axes>"
      ]
     },
     "metadata": {
      "needs_background": "light"
     },
     "output_type": "display_data"
    },
    {
     "name": "stdout",
     "output_type": "stream",
     "text": [
      "[Epoch 6]\n",
      "For train data\n",
      "\n",
      "Reconstruction : 17.370452083333333\n",
      "KL Divergence : 8.468761979166667\n",
      "Total loss : 21.604833072916666\n",
      "\n",
      "For test data\n",
      "\n",
      "Reconstruction : 17.6529171875\n",
      "KL Divergence : 8.3586265625\n",
      "Total loss : 21.83223046875\n"
     ]
    },
    {
     "data": {
      "image/png": "[encoded data removed]",
      "text/plain": [
       "<Figure size 432x288 with 2 Axes>"
      ]
     },
     "metadata": {
      "needs_background": "light"
     },
     "output_type": "display_data"
    },
    {
     "name": "stdout",
     "output_type": "stream",
     "text": [
      "[Epoch 7]\n",
      "For train data\n",
      "\n",
      "Reconstruction : 17.279572916666666\n",
      "KL Divergence : 8.524643229166667\n",
      "Total loss : 21.54189453125\n",
      "\n",
      "For test data\n",
      "\n",
      "Reconstruction : 17.439728125\n",
      "KL Divergence : 8.34655234375\n",
      "Total loss : 21.613004296874998\n"
     ]
    },
    {
     "data": {
      "image/png": "[encoded data removed]",
      "text/plain": [
       "<Figure size 432x288 with 2 Axes>"
      ]
     },
     "metadata": {
      "needs_background": "light"
     },
     "output_type": "display_data"
    },
    {
     "name": "stdout",
     "output_type": "stream",
     "text": [
      "[Epoch 8]\n",
      "For train data\n",
      "\n",
      "Reconstruction : 17.252735416666667\n",
      "KL Divergence : 8.547095833333334\n",
      "Total loss : 21.526283333333332\n",
      "\n",
      "For test data\n",
      "\n",
      "Reconstruction : 16.9671578125\n",
      "KL Divergence : 8.70440625\n",
      "Total loss : 21.3193609375\n"
     ]
    },
    {
     "data": {
      "image/png": "[encoded data removed]",
      "text/plain": [
       "<Figure size 432x288 with 2 Axes>"
      ]
     },
     "metadata": {
      "needs_background": "light"
     },
     "output_type": "display_data"
    },
    {
     "name": "stdout",
     "output_type": "stream",
     "text": [
      "[Epoch 9]\n",
      "For train data\n",
      "\n",
      "Reconstruction : 17.180738541666667\n",
      "KL Divergence : 8.53843125\n",
      "Total loss : 21.449954166666668\n",
      "\n",
      "For test data\n",
      "\n",
      "Reconstruction : 17.214846875\n",
      "KL Divergence : 8.33550234375\n",
      "Total loss : 21.382598046875\n"
     ]
    },
    {
     "data": {
      "image/png": "[encoded data removed]",
      "text/plain": [
       "<Figure size 432x288 with 2 Axes>"
      ]
     },
     "metadata": {
      "needs_background": "light"
     },
     "output_type": "display_data"
    },
    {
     "name": "stdout",
     "output_type": "stream",
     "text": [
      "[Epoch 10]\n",
      "For train data\n",
      "\n",
      "Reconstruction : 17.137578125\n",
      "KL Divergence : 8.546478125\n",
      "Total loss : 21.4108171875\n",
      "\n",
      "For test data\n",
      "\n",
      "Reconstruction : 17.02938125\n",
      "KL Divergence : 8.291653125\n",
      "Total loss : 21.1752078125\n"
     ]
    },
    {
     "data": {
      "image/png": "[encoded data removed]",
      "text/plain": [
       "<Figure size 432x288 with 2 Axes>"
      ]
     },
     "metadata": {
      "needs_background": "light"
     },
     "output_type": "display_data"
    },
    {
     "name": "stdout",
     "output_type": "stream",
     "text": [
      "[Epoch 11]\n",
      "For train data\n",
      "\n",
      "Reconstruction : 17.139382291666667\n",
      "KL Divergence : 8.5609984375\n",
      "Total loss : 21.419881510416666\n",
      "\n",
      "For test data\n",
      "\n",
      "Reconstruction : 17.3159375\n",
      "KL Divergence : 8.5173765625\n",
      "Total loss : 21.57462578125\n"
     ]
    },
    {
     "data": {
      "image/png": "[encoded data removed]",
      "text/plain": [
       "<Figure size 432x288 with 2 Axes>"
      ]
     },
     "metadata": {
      "needs_background": "light"
     },
     "output_type": "display_data"
    },
    {
     "name": "stdout",
     "output_type": "stream",
     "text": [
      "[Epoch 12]\n",
      "For train data\n",
      "\n",
      "Reconstruction : 17.075335416666668\n",
      "KL Divergence : 8.598825\n",
      "Total loss : 21.374747916666667\n",
      "\n",
      "For test data\n",
      "\n",
      "Reconstruction : 17.394971875\n",
      "KL Divergence : 8.47941328125\n",
      "Total loss : 21.634678515624998\n"
     ]
    },
    {
     "data": {
      "image/png": "[encoded data removed]",
      "text/plain": [
       "<Figure size 432x288 with 2 Axes>"
      ]
     },
     "metadata": {
      "needs_background": "light"
     },
     "output_type": "display_data"
    },
    {
     "name": "stdout",
     "output_type": "stream",
     "text": [
      "[Epoch 13]\n",
      "For train data\n",
      "\n",
      "Reconstruction : 16.989872916666666\n",
      "KL Divergence : 8.588564583333334\n",
      "Total loss : 21.28415520833333\n",
      "\n",
      "For test data\n",
      "\n",
      "Reconstruction : 17.0036359375\n",
      "KL Divergence : 8.692765625\n",
      "Total loss : 21.35001875\n"
     ]
    },
    {
     "data": {
      "image/png": "[encoded data removed]",
      "text/plain": [
       "<Figure size 432x288 with 2 Axes>"
      ]
     },
     "metadata": {
      "needs_background": "light"
     },
     "output_type": "display_data"
    },
    {
     "name": "stdout",
     "output_type": "stream",
     "text": [
      "[Epoch 14]\n",
      "For train data\n",
      "\n",
      "Reconstruction : 16.968883333333334\n",
      "KL Divergence : 8.6037921875\n",
      "Total loss : 21.270779427083333\n",
      "\n",
      "For test data\n",
      "\n",
      "Reconstruction : 17.4020890625\n",
      "KL Divergence : 8.40718359375\n",
      "Total loss : 21.605680859375\n"
     ]
    },
    {
     "data": {
      "image/png": "[encoded data removed]",
      "text/plain": [
       "<Figure size 432x288 with 2 Axes>"
      ]
     },
     "metadata": {
      "needs_background": "light"
     },
     "output_type": "display_data"
    },
    {
     "name": "stdout",
     "output_type": "stream",
     "text": [
      "[Epoch 15]\n",
      "For train data\n",
      "\n",
      "Reconstruction : 16.969352083333334\n",
      "KL Divergence : 8.630153645833333\n",
      "Total loss : 21.28442890625\n",
      "\n",
      "For test data\n",
      "\n",
      "Reconstruction : 18.03466875\n",
      "KL Divergence : 8.55676796875\n",
      "Total loss : 22.313052734375002\n"
     ]
    },
    {
     "data": {
      "image/png": "[encoded data removed]",
      "text/plain": [
       "<Figure size 432x288 with 2 Axes>"
      ]
     },
     "metadata": {
      "needs_background": "light"
     },
     "output_type": "display_data"
    },
    {
     "name": "stdout",
     "output_type": "stream",
     "text": [
      "[Epoch 16]\n",
      "For train data\n",
      "\n",
      "Reconstruction : 16.93665\n",
      "KL Divergence : 8.616791666666666\n",
      "Total loss : 21.245045833333332\n",
      "\n",
      "For test data\n",
      "\n",
      "Reconstruction : 17.1530703125\n",
      "KL Divergence : 8.47838828125\n",
      "Total loss : 21.392264453124998\n"
     ]
    },
    {
     "data": {
      "image/png": "[encoded data removed]",
      "text/plain": [
       "<Figure size 432x288 with 2 Axes>"
      ]
     },
     "metadata": {
      "needs_background": "light"
     },
     "output_type": "display_data"
    },
    {
     "name": "stdout",
     "output_type": "stream",
     "text": [
      "[Epoch 17]\n",
      "For train data\n",
      "\n",
      "Reconstruction : 16.923041666666666\n",
      "KL Divergence : 8.639966666666666\n",
      "Total loss : 21.243025\n",
      "\n",
      "For test data\n",
      "\n",
      "Reconstruction : 16.861365625\n",
      "KL Divergence : 8.60574296875\n",
      "Total loss : 21.164237109375\n"
     ]
    },
    {
     "data": {
      "image/png": "[encoded data removed]",
      "text/plain": [
       "<Figure size 432x288 with 2 Axes>"
      ]
     },
     "metadata": {
      "needs_background": "light"
     },
     "output_type": "display_data"
    },
    {
     "name": "stdout",
     "output_type": "stream",
     "text": [
      "[Epoch 18]\n",
      "For train data\n",
      "\n",
      "Reconstruction : 16.921827083333334\n",
      "KL Divergence : 8.637908333333334\n",
      "Total loss : 21.24078125\n",
      "\n",
      "For test data\n",
      "\n",
      "Reconstruction : 17.2722765625\n",
      "KL Divergence : 8.2487203125\n",
      "Total loss : 21.39663671875\n"
     ]
    },
    {
     "data": {
      "image/png": "[encoded data removed]",
      "text/plain": [
       "<Figure size 432x288 with 2 Axes>"
      ]
     },
     "metadata": {
      "needs_background": "light"
     },
     "output_type": "display_data"
    },
    {
     "name": "stdout",
     "output_type": "stream",
     "text": [
      "[Epoch 19]\n",
      "For train data\n",
      "\n",
      "Reconstruction : 16.920636458333334\n",
      "KL Divergence : 8.653734895833333\n",
      "Total loss : 21.24750390625\n",
      "\n",
      "For test data\n",
      "\n",
      "Reconstruction : 17.285271875\n",
      "KL Divergence : 8.5027359375\n",
      "Total loss : 21.53663984375\n"
     ]
    },
    {
     "data": {
      "image/png": "[encoded data removed]",
      "text/plain": [
       "<Figure size 432x288 with 2 Axes>"
      ]
     },
     "metadata": {
      "needs_background": "light"
     },
     "output_type": "display_data"
    },
    {
     "name": "stdout",
     "output_type": "stream",
     "text": [
      "[Epoch 20]\n",
      "For train data\n",
      "\n",
      "Reconstruction : 16.860967708333334\n",
      "KL Divergence : 8.659351041666667\n",
      "Total loss : 21.190643229166668\n",
      "\n",
      "For test data\n",
      "\n",
      "Reconstruction : 17.1713859375\n",
      "KL Divergence : 8.40777109375\n",
      "Total loss : 21.375271484375\n"
     ]
    },
    {
     "data": {
      "image/png": "[encoded data removed]",
      "text/plain": [
       "<Figure size 432x288 with 2 Axes>"
      ]
     },
     "metadata": {
      "needs_background": "light"
     },
     "output_type": "display_data"
    }
   ],
   "source": [
    "vae, a, b, c, d, e, f = train(vae, train_loader, test_loader, epochs=MAX_EPOCHS)"
   ]
  },
  {
   "cell_type": "markdown",
   "metadata": {
    "id": "Q4Izme9Wrng3"
   },
   "source": [
    "Plot loss functions\n",
    "====="
   ]
  },
  {
   "cell_type": "code",
   "execution_count": 15,
   "metadata": {
    "colab": {
     "base_uri": "https://localhost:8080/",
     "height": 269
    },
    "id": "Ax3dlj7yrng3",
    "outputId": "14a484b9-6575-426c-9422-e422e6fa221f"
   },
   "outputs": [
    {
     "data": {
      "image/png": "[encoded data removed]",
      "text/plain": [
       "<Figure size 432x288 with 1 Axes>"
      ]
     },
     "metadata": {
      "needs_background": "light"
     },
     "output_type": "display_data"
    }
   ],
   "source": [
    "x = np.arange(1, MAX_EPOCHS+1)\n",
    "x = x.tolist()\n",
    "plt.plot(x, a, 'g', label = 'Recursion')\n",
    "plt.plot(x, b, 'b', label = 'KL Divergence')\n",
    "plt.plot(x, c, 'r', label = 'Total loss')\n",
    "plt.plot(x, d, 'g--', label = 'Recursion(test)')\n",
    "plt.plot(x, e, 'b--', label = 'KL Divergence(test)')\n",
    "plt.plot(x, f, 'r--', label = 'Total loss(test)')\n",
    "plt.legend(loc='best') \n",
    "plt.show()\n"
   ]
  }
 ],
 "metadata": {
  "accelerator": "GPU",
  "colab": {
   "provenance": []
  },
  "gpuClass": "standard",
  "kernelspec": {
   "display_name": "Python 3 (ipykernel)",
   "language": "python",
   "name": "python3"
  },
  "language_info": {
   "codemirror_mode": {
    "name": "ipython",
    "version": 3
   },
   "file_extension": ".py",
   "mimetype": "text/x-python",
   "name": "python",
   "nbconvert_exporter": "python",
   "pygments_lexer": "ipython3",
   "version": "3.8.8"
  },
  "vscode": {
   "interpreter": {
    "hash": "b45ccf6fd3c8427b2d1b5e880d896f46770117107f616a4b6b7de4d4387dfaf4"
   }
  }
 },
 "nbformat": 4,
 "nbformat_minor": 1
}
