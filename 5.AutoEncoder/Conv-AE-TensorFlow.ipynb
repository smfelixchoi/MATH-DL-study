{
 "cells": [
  {
   "cell_type": "code",
   "execution_count": 1,
   "metadata": {},
   "outputs": [
    {
     "name": "stderr",
     "output_type": "stream",
     "text": [
      "c:\\Users\\user\\.conda\\envs\\test\\lib\\site-packages\\numpy\\_distributor_init.py:30: UserWarning: loaded more than 1 DLL from .libs:\n",
      "c:\\Users\\user\\.conda\\envs\\test\\lib\\site-packages\\numpy\\.libs\\libopenblas.EL2C6PLE4ZYW3ECEVIV3OXXGRN2NRFM2.gfortran-win_amd64.dll\n",
      "c:\\Users\\user\\.conda\\envs\\test\\lib\\site-packages\\numpy\\.libs\\libopenblas.PYQHXLVVQ7VESDPUVUADXEVJOBGHJPAY.gfortran-win_amd64.dll\n",
      "  warnings.warn(\"loaded more than 1 DLL from .libs:\"\n"
     ]
    }
   ],
   "source": [
    "import matplotlib.pyplot as plt\n",
    "import numpy as np\n",
    "import pandas as pd\n",
    "import tensorflow as tf\n",
    "\n",
    "from tensorflow.keras import layers, losses\n",
    "from tensorflow.keras.datasets import fashion_mnist\n",
    "from tensorflow.keras.models import Model"
   ]
  },
  {
   "cell_type": "code",
   "execution_count": 2,
   "metadata": {},
   "outputs": [],
   "source": [
    "\n",
    "EPOCH = 30\n",
    "learning_rate = 0.005"
   ]
  },
  {
   "cell_type": "code",
   "execution_count": 3,
   "metadata": {},
   "outputs": [
    {
     "name": "stdout",
     "output_type": "stream",
     "text": [
      "(60000, 28, 28)\n",
      "(10000, 28, 28)\n"
     ]
    }
   ],
   "source": [
    "(x_train, _), (x_test, _) = fashion_mnist.load_data()\n",
    "\n",
    "x_train = x_train.astype('float32') / 255.\n",
    "x_test = x_test.astype('float32') / 255.\n",
    "\n",
    "print (x_train.shape)\n",
    "print (x_test.shape)"
   ]
  },
  {
   "cell_type": "code",
   "execution_count": 4,
   "metadata": {},
   "outputs": [],
   "source": [
    "class Autoencoder(Model):\n",
    "  def __init__(self, encoding_dim):\n",
    "    super(Autoencoder, self).__init__()\n",
    "    self.latent_dim = latent_dim   \n",
    "    self.encoder = tf.keras.Sequential([\n",
    "      layers.Input(shape=(28,28)),\n",
    "      layers.Reshape((28,28,1)),\n",
    "      layers.Conv2D(16, kernel_size=2, padding='same'),\n",
    "      layers.ReLU(),\n",
    "      layers.MaxPool2D((2,2)),\n",
    "      layers.Conv2D(32, kernel_size=2, padding='same'),\n",
    "      layers.ReLU(),\n",
    "      layers.MaxPool2D((2,2)),\n",
    "      layers.Reshape((-1,7*7*32)),\n",
    "      layers.Dense(64, activation='relu'),\n",
    "      layers.Dense(3)\n",
    "    ])\n",
    "    self.decoder = tf.keras.Sequential([\n",
    "      layers.Dense(64, activation='relu'),\n",
    "      layers.Dense(7*7*32, activation='relu'),\n",
    "      layers.Reshape((7,7,32)),\n",
    "      layers.Conv2DTranspose(filters = 16, kernel_size=2, strides=2, activation='relu'),\n",
    "      layers.Conv2DTranspose(filters = 1, kernel_size=2, strides=2, activation='sigmoid'),\n",
    "      layers.Reshape((28, 28))\n",
    "    ])\n",
    "\n",
    "  def call(self, x):\n",
    "    encoded = self.encoder(x)\n",
    "    decoded = self.decoder(encoded)\n",
    "    return decoded\n",
    "\n",
    "autoencoder = Autoencoder(latent_dim)"
   ]
  },
  {
   "cell_type": "code",
   "execution_count": 5,
   "metadata": {},
   "outputs": [
    {
     "name": "stdout",
     "output_type": "stream",
     "text": [
      "Model: \"sequential\"\n",
      "_________________________________________________________________\n",
      " Layer (type)                Output Shape              Param #   \n",
      "=================================================================\n",
      " reshape (Reshape)           (None, 28, 28, 1)         0         \n",
      "                                                                 \n",
      " conv2d (Conv2D)             (None, 28, 28, 16)        80        \n",
      "                                                                 \n",
      " re_lu (ReLU)                (None, 28, 28, 16)        0         \n",
      "                                                                 \n",
      " max_pooling2d (MaxPooling2D  (None, 14, 14, 16)       0         \n",
      " )                                                               \n",
      "                                                                 \n",
      " conv2d_1 (Conv2D)           (None, 14, 14, 32)        2080      \n",
      "                                                                 \n",
      " re_lu_1 (ReLU)              (None, 14, 14, 32)        0         \n",
      "                                                                 \n",
      " max_pooling2d_1 (MaxPooling  (None, 7, 7, 32)         0         \n",
      " 2D)                                                             \n",
      "                                                                 \n",
      " reshape_1 (Reshape)         (None, 1, 1568)           0         \n",
      "                                                                 \n",
      " dense (Dense)               (None, 1, 64)             100416    \n",
      "                                                                 \n",
      " dense_1 (Dense)             (None, 1, 3)              195       \n",
      "                                                                 \n",
      "=================================================================\n",
      "Total params: 102,771\n",
      "Trainable params: 102,771\n",
      "Non-trainable params: 0\n",
      "_________________________________________________________________\n"
     ]
    }
   ],
   "source": [
    "autoencoder.encoder.summary()"
   ]
  },
  {
   "cell_type": "code",
   "execution_count": 6,
   "metadata": {},
   "outputs": [],
   "source": [
    "autoencoder.compile(optimizer=tf.keras.optimizers.Adam(learning_rate=learning_rate), loss=losses.MeanSquaredError())"
   ]
  },
  {
   "cell_type": "code",
   "execution_count": 7,
   "metadata": {},
   "outputs": [
    {
     "name": "stdout",
     "output_type": "stream",
     "text": [
      "Epoch 1/30\n",
      "1875/1875 [==============================] - 34s 17ms/step - loss: 0.0304 - val_loss: 0.0258\n",
      "Epoch 2/30\n",
      "1875/1875 [==============================] - 35s 19ms/step - loss: 0.0245 - val_loss: 0.0241\n",
      "Epoch 3/30\n",
      "1875/1875 [==============================] - 30s 16ms/step - loss: 0.0237 - val_loss: 0.0236\n",
      "Epoch 4/30\n",
      "1875/1875 [==============================] - 32s 17ms/step - loss: 0.0233 - val_loss: 0.0233\n",
      "Epoch 5/30\n",
      "1875/1875 [==============================] - 33s 17ms/step - loss: 0.0230 - val_loss: 0.0230\n",
      "Epoch 6/30\n",
      "1875/1875 [==============================] - 28s 15ms/step - loss: 0.0228 - val_loss: 0.0230\n",
      "Epoch 7/30\n",
      "1875/1875 [==============================] - 26s 14ms/step - loss: 0.0226 - val_loss: 0.0226\n",
      "Epoch 8/30\n",
      "1875/1875 [==============================] - 34s 18ms/step - loss: 0.0225 - val_loss: 0.0226\n",
      "Epoch 9/30\n",
      "1875/1875 [==============================] - 34s 18ms/step - loss: 0.0224 - val_loss: 0.0226\n",
      "Epoch 10/30\n",
      "1875/1875 [==============================] - 35s 19ms/step - loss: 0.0223 - val_loss: 0.0226\n",
      "Epoch 11/30\n",
      "1875/1875 [==============================] - 33s 18ms/step - loss: 0.0223 - val_loss: 0.0224\n",
      "Epoch 12/30\n",
      "1875/1875 [==============================] - 30s 16ms/step - loss: 0.0222 - val_loss: 0.0224\n",
      "Epoch 13/30\n",
      "1875/1875 [==============================] - 32s 17ms/step - loss: 0.0221 - val_loss: 0.0223\n",
      "Epoch 14/30\n",
      "1875/1875 [==============================] - 31s 17ms/step - loss: 0.0221 - val_loss: 0.0223\n",
      "Epoch 15/30\n",
      "1875/1875 [==============================] - 28s 15ms/step - loss: 0.0220 - val_loss: 0.0223\n",
      "Epoch 16/30\n",
      "1875/1875 [==============================] - 28s 15ms/step - loss: 0.0220 - val_loss: 0.0223\n",
      "Epoch 17/30\n",
      "1875/1875 [==============================] - 29s 16ms/step - loss: 0.0219 - val_loss: 0.0223\n",
      "Epoch 18/30\n",
      "1875/1875 [==============================] - 33s 17ms/step - loss: 0.0219 - val_loss: 0.0222\n",
      "Epoch 19/30\n",
      "1875/1875 [==============================] - 36s 19ms/step - loss: 0.0219 - val_loss: 0.0222\n",
      "Epoch 20/30\n",
      "1875/1875 [==============================] - 34s 18ms/step - loss: 0.0219 - val_loss: 0.0223\n",
      "Epoch 21/30\n",
      "1875/1875 [==============================] - 37s 20ms/step - loss: 0.0218 - val_loss: 0.0222\n",
      "Epoch 22/30\n",
      "1875/1875 [==============================] - 34s 18ms/step - loss: 0.0218 - val_loss: 0.0221\n",
      "Epoch 23/30\n",
      "1875/1875 [==============================] - 32s 17ms/step - loss: 0.0218 - val_loss: 0.0222\n",
      "Epoch 24/30\n",
      "1875/1875 [==============================] - 34s 18ms/step - loss: 0.0218 - val_loss: 0.0221\n",
      "Epoch 25/30\n",
      "1875/1875 [==============================] - 32s 17ms/step - loss: 0.0218 - val_loss: 0.0220\n",
      "Epoch 26/30\n",
      "1875/1875 [==============================] - 34s 18ms/step - loss: 0.0217 - val_loss: 0.0221\n",
      "Epoch 27/30\n",
      "1875/1875 [==============================] - 34s 18ms/step - loss: 0.0217 - val_loss: 0.0221\n",
      "Epoch 28/30\n",
      "1875/1875 [==============================] - 33s 18ms/step - loss: 0.0217 - val_loss: 0.0220\n",
      "Epoch 29/30\n",
      "1875/1875 [==============================] - 34s 18ms/step - loss: 0.0217 - val_loss: 0.0221\n",
      "Epoch 30/30\n",
      "1875/1875 [==============================] - 34s 18ms/step - loss: 0.0217 - val_loss: 0.0224\n"
     ]
    }
   ],
   "source": [
    "history = autoencoder.fit(x_train, x_train,\n",
    "                epochs=EPOCH,\n",
    "                shuffle=True,\n",
    "                validation_data=(x_test, x_test))"
   ]
  },
  {
   "cell_type": "code",
   "execution_count": 8,
   "metadata": {},
   "outputs": [
    {
     "data": {
      "image/png": "[encoded data removed]",
      "text/plain": [
       "<Figure size 1440x288 with 20 Axes>"
      ]
     },
     "metadata": {
      "needs_background": "light"
     },
     "output_type": "display_data"
    }
   ],
   "source": [
    "encoded_imgs = autoencoder.encoder(x_test).numpy()\n",
    "decoded_imgs = autoencoder.decoder(encoded_imgs).numpy()\n",
    "\n",
    "n = 10\n",
    "plt.figure(figsize=(20, 4))\n",
    "for i in range(n):\n",
    "  # display original\n",
    "  ax = plt.subplot(2, n, i + 1)\n",
    "  plt.imshow(x_test[i])\n",
    "  plt.title(\"original\")\n",
    "  plt.gray()\n",
    "  ax.get_xaxis().set_visible(False)\n",
    "  ax.get_yaxis().set_visible(False)\n",
    "\n",
    "  # display reconstruction\n",
    "  ax = plt.subplot(2, n, i + 1 + n)\n",
    "  plt.imshow(decoded_imgs[i])\n",
    "  plt.title(\"reconstructed\")\n",
    "  plt.gray()\n",
    "  ax.get_xaxis().set_visible(False)\n",
    "  ax.get_yaxis().set_visible(False)\n",
    "plt.show()"
   ]
  },
  {
   "cell_type": "code",
   "execution_count": 9,
   "metadata": {},
   "outputs": [],
   "source": [
    "losses = history.history['loss']\n",
    "test_losses = history.history['val_loss']"
   ]
  },
  {
   "cell_type": "code",
   "execution_count": 10,
   "metadata": {},
   "outputs": [
    {
     "data": {
      "text/plain": [
       "[<matplotlib.lines.Line2D at 0x16e9b30d5e0>,\n",
       " <matplotlib.lines.Line2D at 0x16e9b30d610>]"
      ]
     },
     "execution_count": 10,
     "metadata": {},
     "output_type": "execute_result"
    },
    {
     "data": {
      "image/png": "[encoded data removed]",
      "text/plain": [
       "<Figure size 432x288 with 1 Axes>"
      ]
     },
     "metadata": {
      "needs_background": "light"
     },
     "output_type": "display_data"
    }
   ],
   "source": [
    "x = range(1, EPOCH+1)\n",
    "plt.plot(x, losses, 'g', x, test_losses, 'b')\n"
   ]
  }
 ],
 "metadata": {
  "kernelspec": {
   "display_name": "Python 3 (ipykernel)",
   "language": "python",
   "name": "python3"
  },
  "language_info": {
   "codemirror_mode": {
    "name": "ipython",
    "version": 3
   },
   "file_extension": ".py",
   "mimetype": "text/x-python",
   "name": "python",
   "nbconvert_exporter": "python",
   "pygments_lexer": "ipython3",
   "version": "3.9.7"
  },
  "vscode": {
   "interpreter": {
    "hash": "b45ccf6fd3c8427b2d1b5e880d896f46770117107f616a4b6b7de4d4387dfaf4"
   }
  }
 },
 "nbformat": 4,
 "nbformat_minor": 2
}
