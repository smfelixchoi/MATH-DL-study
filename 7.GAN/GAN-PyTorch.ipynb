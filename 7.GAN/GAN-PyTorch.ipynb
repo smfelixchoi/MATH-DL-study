{
 "cells": [
  {
   "attachments": {},
   "cell_type": "markdown",
   "id": "494b4db8",
   "metadata": {},
   "source": [
    "# DCGAN - PyTorch using CIFAR10\n",
    "\n",
    "### 작성자: 고려대학교 수학과 석사과정 최선묵\n",
    "\n",
    "[References]  \n",
    "- [Goodfellow's GAN Paper Link](https://proceedings.neurips.cc/paper/2014/file/5ca3e9b122f61f8f06494c97b1afccf3-Paper.pdf)  \n",
    "- [DCGAN Paper Link](https://arxiv.org/pdf/1511.06434.pdf)\n",
    "- [DCGAN PyTorch Tutorial](https://pytorch.org/tutorials/beginner/dcgan_faces_tutorial.html)"
   ]
  },
  {
   "cell_type": "code",
   "execution_count": 6,
   "id": "133d7b50",
   "metadata": {},
   "outputs": [],
   "source": [
    "import numpy as np\n",
    "import matplotlib.pyplot as plt\n",
    "import matplotlib.animation as animation\n",
    "from IPython.display import HTML\n",
    "\n",
    "import torch\n",
    "import torch.nn as nn\n",
    "import torch.optim as optim\n",
    "\n",
    "from torch.utils.data import DataLoader\n",
    "\n",
    "import torchvision\n",
    "import torchvision.transforms as transforms\n",
    "from torchvision.datasets import CIFAR10\n",
    "import torchvision.utils as vutils\n",
    "\n",
    "from torchsummary import summary"
   ]
  },
  {
   "cell_type": "code",
   "execution_count": 7,
   "id": "e48e5ab4",
   "metadata": {},
   "outputs": [
    {
     "name": "stdout",
     "output_type": "stream",
     "text": [
      "cpu\n"
     ]
    }
   ],
   "source": [
    "device = torch.device(\"cuda\" if torch.cuda.is_available() else \"cpu\")\n",
    "print(device)"
   ]
  },
  {
   "attachments": {},
   "cell_type": "markdown",
   "id": "a29b280b",
   "metadata": {},
   "source": [
    "## Data Preparation"
   ]
  },
  {
   "cell_type": "code",
   "execution_count": 8,
   "id": "aa8b794a",
   "metadata": {},
   "outputs": [
    {
     "name": "stdout",
     "output_type": "stream",
     "text": [
      "Files already downloaded and verified\n",
      "Files already downloaded and verified\n"
     ]
    }
   ],
   "source": [
    "transform=transforms.Compose([transforms.ToTensor(),\n",
    "                               transforms.Normalize(mean=(0.5, 0.5, 0.5), std=(0.5, 0.5, 0.5)),\n",
    "                               ])\n",
    "\n",
    "trainset = CIFAR10(root='./', train=True, download=True, transform=transform)\n",
    "testset = CIFAR10(root='./', train=False, download=True, transform=transform)\n",
    "\n",
    "BATCH_SIZE = 128\n",
    "\n",
    "trainloader = DataLoader(trainset, batch_size=BATCH_SIZE, shuffle=True, num_workers=4)\n",
    "testloader = DataLoader(testset, batch_size=BATCH_SIZE, shuffle=False, num_workers=4)"
   ]
  },
  {
   "attachments": {},
   "cell_type": "markdown",
   "id": "7d58e1e0",
   "metadata": {},
   "source": [
    "## Deep Convolutional GANs\n",
    "\n",
    "### Architecture guidelines for stable Deep Convolutional GANs\n",
    "\n",
    "- Replace any pooling layers with `strided convolutions` (discriminator) and `fractional-strided convolutions` (generator).\n",
    "- Use `BatchNormaliziation` in both the generator and the discriminator.\n",
    "- Remove fully connected hidden layers for deeper architectures.\n",
    "- Use `ReLU` activation in `generator` for all layers except for the output, which uses Tanh.\n",
    "- Use `LeakyReLU` activation in the `discriminator` for all layers."
   ]
  },
  {
   "cell_type": "code",
   "execution_count": 9,
   "id": "307cfc56",
   "metadata": {},
   "outputs": [],
   "source": [
    "## Hyperparameters\n",
    "latent_dim = 100\n",
    "\n",
    "EPOCHS = 50\n",
    "LR = 2e-4\n",
    "BETA1=0.5 # Beta1 for Adam optimizers"
   ]
  },
  {
   "attachments": {},
   "cell_type": "markdown",
   "id": "063d1f36",
   "metadata": {},
   "source": [
    "### Weight Initialization"
   ]
  },
  {
   "cell_type": "code",
   "execution_count": 10,
   "id": "2509eaa9",
   "metadata": {},
   "outputs": [],
   "source": [
    "def weights_init(m):\n",
    "    classname = m.__class__.__name__\n",
    "    if classname.find('Conv') != -1:\n",
    "        nn.init.normal_(m.weight.data, 0.0, 0.02)"
   ]
  },
  {
   "attachments": {},
   "cell_type": "markdown",
   "id": "d546ca9e",
   "metadata": {},
   "source": [
    "### Generator"
   ]
  },
  {
   "cell_type": "code",
   "execution_count": 11,
   "id": "fd794364",
   "metadata": {},
   "outputs": [],
   "source": [
    "class Generator(nn.Module):\n",
    "    def __init__(self, noise_dim:int):\n",
    "        super(Generator, self).__init__()\n",
    "        self.main = nn.Sequential(\n",
    "            nn.ConvTranspose2d(in_channels=noise_dim, out_channels=256, \n",
    "                               kernel_size=4, stride=1, padding=0, bias=False),\n",
    "            nn.BatchNorm2d(256),\n",
    "            nn.ReLU(inplace=True),\n",
    "                         \n",
    "            nn.ConvTranspose2d(in_channels=256, out_channels=128, \n",
    "                               kernel_size=4, stride=2, padding=1, bias=False),\n",
    "            nn.BatchNorm2d(128),\n",
    "            nn.ReLU(True),\n",
    "                          \n",
    "            nn.ConvTranspose2d(in_channels=128, out_channels=64, \n",
    "                               kernel_size=4, stride=2, padding=1, bias=False),\n",
    "            nn.BatchNorm2d(64),\n",
    "            nn.ReLU(True),\n",
    "                             \n",
    "            nn.ConvTranspose2d(in_channels=64, out_channels=32, \n",
    "                               kernel_size=4, stride=2, padding=1, bias=False),\n",
    "            nn.BatchNorm2d(32),\n",
    "            nn.ReLU(True),\n",
    "        \n",
    "            nn.Conv2d(in_channels=32, out_channels=3, \n",
    "                      kernel_size=3, stride=1, padding=1, bias=True),\n",
    "            nn.Tanh()\n",
    "        )\n",
    "\n",
    "    def forward(self, input):\n",
    "        return self.main(input)"
   ]
  },
  {
   "cell_type": "code",
   "execution_count": 12,
   "id": "31cf91f1",
   "metadata": {},
   "outputs": [
    {
     "name": "stdout",
     "output_type": "stream",
     "text": [
      "----------------------------------------------------------------\n",
      "        Layer (type)               Output Shape         Param #\n",
      "================================================================\n",
      "   ConvTranspose2d-1            [-1, 256, 4, 4]         409,600\n",
      "       BatchNorm2d-2            [-1, 256, 4, 4]             512\n",
      "              ReLU-3            [-1, 256, 4, 4]               0\n",
      "   ConvTranspose2d-4            [-1, 128, 8, 8]         524,288\n",
      "       BatchNorm2d-5            [-1, 128, 8, 8]             256\n",
      "              ReLU-6            [-1, 128, 8, 8]               0\n",
      "   ConvTranspose2d-7           [-1, 64, 16, 16]         131,072\n",
      "       BatchNorm2d-8           [-1, 64, 16, 16]             128\n",
      "              ReLU-9           [-1, 64, 16, 16]               0\n",
      "  ConvTranspose2d-10           [-1, 32, 32, 32]          32,768\n",
      "      BatchNorm2d-11           [-1, 32, 32, 32]              64\n",
      "             ReLU-12           [-1, 32, 32, 32]               0\n",
      "           Conv2d-13            [-1, 3, 32, 32]             867\n",
      "             Tanh-14            [-1, 3, 32, 32]               0\n",
      "================================================================\n",
      "Total params: 1,099,555\n",
      "Trainable params: 1,099,555\n",
      "Non-trainable params: 0\n",
      "----------------------------------------------------------------\n",
      "Input size (MB): 0.00\n",
      "Forward/backward pass size (MB): 1.45\n",
      "Params size (MB): 4.19\n",
      "Estimated Total Size (MB): 5.65\n",
      "----------------------------------------------------------------\n"
     ]
    }
   ],
   "source": [
    "g_model = Generator(noise_dim=latent_dim).to(device)\n",
    "g_model.apply(weights_init)\n",
    "summary(g_model, input_size=(latent_dim, 1, 1))"
   ]
  },
  {
   "attachments": {},
   "cell_type": "markdown",
   "id": "07070ac3",
   "metadata": {},
   "source": [
    "### Discriminator"
   ]
  },
  {
   "cell_type": "code",
   "execution_count": 13,
   "id": "7f1beaa9",
   "metadata": {},
   "outputs": [],
   "source": [
    "class Discriminator(nn.Module):\n",
    "    def __init__(self):\n",
    "        super(Discriminator, self).__init__()\n",
    "        self.conv_enc = nn.Sequential(\n",
    "            nn.Conv2d(in_channels=3, out_channels=32, \n",
    "                      kernel_size=3, stride=2, padding=1, bias=False),\n",
    "            nn.BatchNorm2d(32),\n",
    "            nn.LeakyReLU(0.2, inplace=True),\n",
    "            \n",
    "            nn.Conv2d(in_channels=32, out_channels=64, \n",
    "                      kernel_size=3, stride=2, padding=1, bias=False),\n",
    "            nn.BatchNorm2d(64),\n",
    "            nn.LeakyReLU(0.2, inplace=True),\n",
    "\n",
    "            nn.Conv2d(in_channels=64, out_channels=128, \n",
    "                      kernel_size=3, stride=2, padding=1, bias=False),\n",
    "            nn.BatchNorm2d(128),\n",
    "            nn.LeakyReLU(0.2, inplace=True),\n",
    "\n",
    "            nn.Conv2d(in_channels=128, out_channels=256, \n",
    "                      kernel_size=3, stride=2, padding=1, bias=False),\n",
    "            nn.BatchNorm2d(256),\n",
    "            nn.LeakyReLU(0.2, inplace=True),\n",
    "        )\n",
    "\n",
    "        self.avgpool = nn.AdaptiveAvgPool2d((1,1))\n",
    "\n",
    "        self.classifier = nn.Sequential(\n",
    "            nn.Linear(in_features=256, out_features=64, bias=False),\n",
    "            nn.BatchNorm1d(64),\n",
    "            nn.LeakyReLU(0.2, inplace=True),\n",
    "            nn.Linear(in_features=64, out_features=1, bias=True),\n",
    "            nn.Sigmoid()\n",
    "        )\n",
    "\n",
    "    def forward(self, input):\n",
    "        x = self.conv_enc(input)\n",
    "        x = self.avgpool(x)\n",
    "        x = x.view(x.size(0), x.size(1))\n",
    "        x = self.classifier(x)\n",
    "\n",
    "        return x"
   ]
  },
  {
   "cell_type": "code",
   "execution_count": 14,
   "id": "64aeaf0b",
   "metadata": {},
   "outputs": [
    {
     "name": "stdout",
     "output_type": "stream",
     "text": [
      "----------------------------------------------------------------\n",
      "        Layer (type)               Output Shape         Param #\n",
      "================================================================\n",
      "            Conv2d-1           [-1, 32, 16, 16]             864\n",
      "       BatchNorm2d-2           [-1, 32, 16, 16]              64\n",
      "         LeakyReLU-3           [-1, 32, 16, 16]               0\n",
      "            Conv2d-4             [-1, 64, 8, 8]          18,432\n",
      "       BatchNorm2d-5             [-1, 64, 8, 8]             128\n",
      "         LeakyReLU-6             [-1, 64, 8, 8]               0\n",
      "            Conv2d-7            [-1, 128, 4, 4]          73,728\n",
      "       BatchNorm2d-8            [-1, 128, 4, 4]             256\n",
      "         LeakyReLU-9            [-1, 128, 4, 4]               0\n",
      "           Conv2d-10            [-1, 256, 2, 2]         294,912\n",
      "      BatchNorm2d-11            [-1, 256, 2, 2]             512\n",
      "        LeakyReLU-12            [-1, 256, 2, 2]               0\n",
      "AdaptiveAvgPool2d-13            [-1, 256, 1, 1]               0\n",
      "           Linear-14                   [-1, 64]          16,384\n",
      "      BatchNorm1d-15                   [-1, 64]             128\n",
      "        LeakyReLU-16                   [-1, 64]               0\n",
      "           Linear-17                    [-1, 1]              65\n",
      "          Sigmoid-18                    [-1, 1]               0\n",
      "================================================================\n",
      "Total params: 405,473\n",
      "Trainable params: 405,473\n",
      "Non-trainable params: 0\n",
      "----------------------------------------------------------------\n",
      "Input size (MB): 0.01\n",
      "Forward/backward pass size (MB): 0.35\n",
      "Params size (MB): 1.55\n",
      "Estimated Total Size (MB): 1.91\n",
      "----------------------------------------------------------------\n"
     ]
    }
   ],
   "source": [
    "d_model = Discriminator().to(device)\n",
    "d_model.apply(weights_init)\n",
    "summary(d_model, input_size=(3, 32, 32))"
   ]
  },
  {
   "attachments": {},
   "cell_type": "markdown",
   "id": "b9631732",
   "metadata": {},
   "source": [
    "### GAN model"
   ]
  },
  {
   "cell_type": "code",
   "execution_count": 15,
   "id": "efc23d6c",
   "metadata": {},
   "outputs": [],
   "source": [
    "# Initialize BCELoss function\n",
    "criterion = nn.BCELoss()\n",
    "\n",
    "# Create batch of latent vectors that we will use to visualize the progression of the generator\n",
    "fixed_noise = torch.randn(64, 100, 1, 1, device=device)\n"
   ]
  },
  {
   "cell_type": "code",
   "execution_count": 16,
   "id": "fd9efbd3",
   "metadata": {},
   "outputs": [],
   "source": [
    "# Training Loop\n",
    "def trainGAN(num_epochs, dataloader, generator, discriminator, g_optimizer, d_optimizer, d_iter=1):\n",
    "    # Lists to keep track of progress\n",
    "    img_list = []\n",
    "    G_losses = []\n",
    "    D_losses = []\n",
    "    iters = 0\n",
    "    print(\"Starting Training Loop...\")\n",
    "    \n",
    "    for epoch in range(num_epochs):\n",
    "        \n",
    "        for i, data in enumerate(dataloader, 0):\n",
    "            real_img = data[0]\n",
    "            batch_size = real_img.size(0)\n",
    "            \n",
    "            # Train Discriminator d_iter times with fixed Generator.\n",
    "            generator.eval() \n",
    "            discriminator.train(mode=True)\n",
    "            for _ in range(d_iter):    \n",
    "                discriminator.zero_grad()\n",
    "\n",
    "                # Train disicriminator using real batch images. Real images have labels 1.\n",
    "                real_img = real_img.to(device)\n",
    "                real_label = torch.full((batch_size,), 1., dtype=torch.float, device=device)\n",
    "                d_real_output = discriminator(real_img).view(-1) # size = (batch_size, 1) -> (batch_size)\n",
    "                d_loss_real = criterion(d_real_output, real_label)\n",
    "                # Compute gradients\n",
    "                d_loss_real.backward()\n",
    "\n",
    "                # Train disicriminator using fake batch images. Fake images have labels 0.\n",
    "                noise = torch.randn(batch_size, latent_dim, 1, 1, device=device)\n",
    "                fake_img = generator(noise)\n",
    "                fake_label = torch.full((batch_size,), 0., dtype=torch.float, device=device)\n",
    "                d_fake_output = discriminator(fake_img.detach()).view(-1)\n",
    "                d_loss_fake = criterion(d_fake_output, fake_label)\n",
    "                d_loss_fake.backward() # Compute gradients\n",
    "                d_optimizer.step() # Optimize\n",
    "\n",
    "                d_loss = d_loss_real + d_loss_fake\n",
    "                D_x = d_real_output.mean().item()\n",
    "                D_G_z1 = d_fake_output.mean().item()\n",
    "            \n",
    "            # Train Generator with fixed discriminator.\n",
    "            discriminator.eval()\n",
    "            generator.train()\n",
    "            generator.zero_grad()\n",
    "\n",
    "            # Train generator using fake batch images. Fake images have labels 1 for generators.\n",
    "            d_fake_output = discriminator(fake_img).view(-1) # size = (batch_size, 1) -> (batch_size)\n",
    "            g_loss = criterion(d_fake_output, real_label)\n",
    "            g_loss.backward() # Compute gradients\n",
    "            g_optimizer.step() # Optimize\n",
    "            \n",
    "            D_G_z2 = d_fake_output.mean().item()\n",
    "            \n",
    "            # Output training stats\n",
    "            if i % 50 == 0:\n",
    "                print('[%d/%d][%d/%d]\\tLoss_D: %.4f\\tLoss_G: %.4f\\tD(x): %.4f\\tD(G(z)): %.4f / %.4f'\n",
    "                    % (epoch, num_epochs, i, len(dataloader),\n",
    "                        d_loss.item(), g_loss.item(), D_x, D_G_z1, D_G_z2))\n",
    "\n",
    "            # Save Losses for plotting later\n",
    "            G_losses.append(g_loss.item())\n",
    "            D_losses.append(d_loss.item())\n",
    "            \n",
    "            iters += 1 \n",
    "        # Check how the generator is doing by saving G's output on fixed_noise\n",
    "        with torch.no_grad():\n",
    "            fake = generator(fixed_noise).detach().cpu()\n",
    "        img_list.append(vutils.make_grid(fake, padding=2, normalize=True))\n",
    "\n",
    "    return img_list, G_losses, D_losses"
   ]
  },
  {
   "cell_type": "code",
   "execution_count": 17,
   "id": "573d0b62",
   "metadata": {},
   "outputs": [
    {
     "name": "stdout",
     "output_type": "stream",
     "text": [
      "Starting Training Loop...\n",
      "[0/80][0/391]\tLoss_D: 1.4428\tLoss_G: 0.7635\tD(x): 0.4077\tD(G(z)): 0.4039 / 0.4660\n",
      "[0/80][50/391]\tLoss_D: 1.3060\tLoss_G: 0.3288\tD(x): 0.4837\tD(G(z)): 0.4364 / 0.7198\n",
      "[0/80][100/391]\tLoss_D: 1.2212\tLoss_G: 0.1581\tD(x): 0.5174\tD(G(z)): 0.4272 / 0.8538\n"
     ]
    },
    {
     "ename": "KeyboardInterrupt",
     "evalue": "",
     "output_type": "error",
     "traceback": [
      "\u001b[0;31m---------------------------------------------------------------------------\u001b[0m",
      "\u001b[0;31mKeyboardInterrupt\u001b[0m                         Traceback (most recent call last)",
      "Cell \u001b[0;32mIn [17], line 4\u001b[0m\n\u001b[1;32m      1\u001b[0m d_optimizer \u001b[39m=\u001b[39m optim\u001b[39m.\u001b[39mAdam(d_model\u001b[39m.\u001b[39mparameters(), lr\u001b[39m=\u001b[39mLR, betas\u001b[39m=\u001b[39m(BETA1, \u001b[39m0.999\u001b[39m))\n\u001b[1;32m      2\u001b[0m g_optimizer \u001b[39m=\u001b[39m optim\u001b[39m.\u001b[39mAdam(g_model\u001b[39m.\u001b[39mparameters(), lr\u001b[39m=\u001b[39mLR, betas\u001b[39m=\u001b[39m(BETA1, \u001b[39m0.999\u001b[39m))\n\u001b[0;32m----> 4\u001b[0m trainGAN(EPOCHS, trainloader, g_model, d_model, g_optimizer, d_optimizer, d_iter\u001b[39m=\u001b[39;49m\u001b[39m1\u001b[39;49m)\n",
      "Cell \u001b[0;32mIn [16], line 51\u001b[0m, in \u001b[0;36mtrainGAN\u001b[0;34m(num_epochs, dataloader, generator, discriminator, g_optimizer, d_optimizer, d_iter)\u001b[0m\n\u001b[1;32m     49\u001b[0m d_fake_output \u001b[39m=\u001b[39m discriminator(fake_img)\u001b[39m.\u001b[39mview(\u001b[39m-\u001b[39m\u001b[39m1\u001b[39m) \u001b[39m# size = (batch_size, 1) -> (batch_size)\u001b[39;00m\n\u001b[1;32m     50\u001b[0m g_loss \u001b[39m=\u001b[39m criterion(d_fake_output, real_label)\n\u001b[0;32m---> 51\u001b[0m g_loss\u001b[39m.\u001b[39;49mbackward() \u001b[39m# Compute gradients\u001b[39;00m\n\u001b[1;32m     52\u001b[0m g_optimizer\u001b[39m.\u001b[39mstep() \u001b[39m# Optimize\u001b[39;00m\n\u001b[1;32m     54\u001b[0m D_G_z2 \u001b[39m=\u001b[39m d_fake_output\u001b[39m.\u001b[39mmean()\u001b[39m.\u001b[39mitem()\n",
      "File \u001b[0;32m/opt/anaconda3/envs/mathdl/lib/python3.8/site-packages/torch/tensor.py:221\u001b[0m, in \u001b[0;36mTensor.backward\u001b[0;34m(self, gradient, retain_graph, create_graph)\u001b[0m\n\u001b[1;32m    213\u001b[0m \u001b[39mif\u001b[39;00m \u001b[39mtype\u001b[39m(\u001b[39mself\u001b[39m) \u001b[39mis\u001b[39;00m \u001b[39mnot\u001b[39;00m Tensor \u001b[39mand\u001b[39;00m has_torch_function(relevant_args):\n\u001b[1;32m    214\u001b[0m     \u001b[39mreturn\u001b[39;00m handle_torch_function(\n\u001b[1;32m    215\u001b[0m         Tensor\u001b[39m.\u001b[39mbackward,\n\u001b[1;32m    216\u001b[0m         relevant_args,\n\u001b[0;32m   (...)\u001b[0m\n\u001b[1;32m    219\u001b[0m         retain_graph\u001b[39m=\u001b[39mretain_graph,\n\u001b[1;32m    220\u001b[0m         create_graph\u001b[39m=\u001b[39mcreate_graph)\n\u001b[0;32m--> 221\u001b[0m torch\u001b[39m.\u001b[39;49mautograd\u001b[39m.\u001b[39;49mbackward(\u001b[39mself\u001b[39;49m, gradient, retain_graph, create_graph)\n",
      "File \u001b[0;32m/opt/anaconda3/envs/mathdl/lib/python3.8/site-packages/torch/autograd/__init__.py:130\u001b[0m, in \u001b[0;36mbackward\u001b[0;34m(tensors, grad_tensors, retain_graph, create_graph, grad_variables)\u001b[0m\n\u001b[1;32m    127\u001b[0m \u001b[39mif\u001b[39;00m retain_graph \u001b[39mis\u001b[39;00m \u001b[39mNone\u001b[39;00m:\n\u001b[1;32m    128\u001b[0m     retain_graph \u001b[39m=\u001b[39m create_graph\n\u001b[0;32m--> 130\u001b[0m Variable\u001b[39m.\u001b[39;49m_execution_engine\u001b[39m.\u001b[39;49mrun_backward(\n\u001b[1;32m    131\u001b[0m     tensors, grad_tensors_, retain_graph, create_graph,\n\u001b[1;32m    132\u001b[0m     allow_unreachable\u001b[39m=\u001b[39;49m\u001b[39mTrue\u001b[39;49;00m)\n",
      "\u001b[0;31mKeyboardInterrupt\u001b[0m: "
     ]
    }
   ],
   "source": [
    "d_optimizer = optim.Adam(d_model.parameters(), lr=LR, betas=(BETA1, 0.999))\n",
    "g_optimizer = optim.Adam(g_model.parameters(), lr=LR, betas=(BETA1, 0.999))\n",
    "\n",
    "img_list, G_losses, D_losses = trainGAN(EPOCHS, trainloader, g_model, d_model, g_optimizer, d_optimizer, d_iter=1)"
   ]
  },
  {
   "cell_type": "code",
   "execution_count": null,
   "id": "3887f989",
   "metadata": {},
   "outputs": [],
   "source": [
    "plt.figure(figsize=(10,5))\n",
    "plt.title(\"Generator and Discriminator Loss During Training\")\n",
    "plt.plot(G_losses,label=\"G\")\n",
    "plt.plot(D_losses,label=\"D\")\n",
    "plt.xlabel(\"iterations\")\n",
    "plt.ylabel(\"Loss\")\n",
    "plt.legend()\n",
    "plt.show()"
   ]
  },
  {
   "cell_type": "code",
   "execution_count": null,
   "id": "aa9f6e79",
   "metadata": {},
   "outputs": [],
   "source": [
    "fig = plt.figure(figsize=(8,8))\n",
    "plt.axis(\"off\")\n",
    "ims = [[plt.imshow(np.transpose(i,(1,2,0)), animated=True)] for i in img_list]\n",
    "ani = animation.ArtistAnimation(fig, ims, interval=1000, repeat_delay=1000, blit=True)\n",
    "\n",
    "HTML(ani.to_jshtml())"
   ]
  },
  {
   "cell_type": "code",
   "execution_count": 18,
   "id": "10a975df",
   "metadata": {},
   "outputs": [],
   "source": [
    "# Save trained models\n",
    "\n",
    "torch.save(g_model.state_dict(), './torch_generator.model')\n",
    "torch.save(d_model.state_dict(), './torch_discriminator.model')"
   ]
  },
  {
   "cell_type": "code",
   "execution_count": 19,
   "id": "28eb44a4",
   "metadata": {},
   "outputs": [],
   "source": [
    "# Load trained models\n",
    "def load_parameters(model, path):\n",
    "    model_state = model.state_dict()\n",
    "    loaded_state = torch.load(path)\n",
    "    for name, param in loaded_state.items():\n",
    "        origname = name\n",
    "        if name not in model_state:\n",
    "            name = name.replace(\"module.\", \"\")\n",
    "            if name not in model_state:\n",
    "                print(\"%s is not in the model.\"%origname)\n",
    "                continue\n",
    "        if model_state[name].size() != loaded_state[origname].size():\n",
    "            print(\"Wrong parameter length: %s, model: %s, loaded: %s\"%(origname, model_state[name].size(), loaded_state[origname].size()))\n",
    "            continue\n",
    "        model_state[name].copy_(param)"
   ]
  },
  {
   "cell_type": "code",
   "execution_count": 22,
   "id": "41762e32",
   "metadata": {},
   "outputs": [],
   "source": [
    "g_model_2 = Generator(noise_dim=latent_dim)\n",
    "d_model_2 = Discriminator()\n",
    "\n",
    "load_parameters(g_model_2, './torch_generator.model')\n",
    "load_parameters(d_model_2, './torch_discriminator.model')"
   ]
  },
  {
   "attachments": {},
   "cell_type": "markdown",
   "id": "17c0ce63",
   "metadata": {},
   "source": [
    "## Test"
   ]
  },
  {
   "cell_type": "code",
   "execution_count": 32,
   "id": "e0922fde",
   "metadata": {},
   "outputs": [
    {
     "name": "stdout",
     "output_type": "stream",
     "text": [
      "(10, 32, 32, 3)\n"
     ]
    },
    {
     "data": {
      "image/png": "[encoded data removed]",
      "text/plain": [
       "<Figure size 1500x800 with 10 Axes>"
      ]
     },
     "metadata": {},
     "output_type": "display_data"
    }
   ],
   "source": [
    "noise = torch.randn(10, latent_dim, 1, 1, device=device)\n",
    "g_model_2.eval()\n",
    "\n",
    "generated_images = g_model_2(noise).detach().cpu().numpy()\n",
    "generated_images = np.transpose(generated_images, (0,2,3,1))\n",
    "generated_images = (generated_images+1)/2 # convert the values from [-1,1] to [0,1] for plots\n",
    "print(generated_images.shape)\n",
    "\n",
    "plt.rcParams['figure.figsize'] = (15.0, 8.0)\n",
    "\n",
    "rows = 2\n",
    "columns = 5\n",
    "\n",
    "for i in range(10) : \n",
    "    image_index = i+1      # image index \n",
    "    title = \"Sample {}\".format(image_index) # image title\n",
    "    plt.subplot(rows, columns, image_index) # subplot \n",
    "    plt.title(title)   # title \n",
    "    plt.axis('off')\n",
    "    plt.xticks([])  # x = None \n",
    "    plt.yticks([])  # y = None\n",
    "    plt.imshow(generated_images[i])  \n",
    "plt.show()"
   ]
  }
 ],
 "metadata": {
  "kernelspec": {
   "display_name": "mathdl",
   "language": "python",
   "name": "python3"
  },
  "language_info": {
   "codemirror_mode": {
    "name": "ipython",
    "version": 3
   },
   "file_extension": ".py",
   "mimetype": "text/x-python",
   "name": "python",
   "nbconvert_exporter": "python",
   "pygments_lexer": "ipython3",
   "version": "3.8.13"
  },
  "vscode": {
   "interpreter": {
    "hash": "9e59e1ea385b879f446154c61f2f6127b4872fff981994bd2fbd456f7f8f6770"
   }
  }
 },
 "nbformat": 4,
 "nbformat_minor": 5
}
