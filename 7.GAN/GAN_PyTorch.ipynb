{
  "cells": [
    {
      "attachments": {},
      "cell_type": "markdown",
      "id": "494b4db8",
      "metadata": {
        "id": "494b4db8"
      },
      "source": [
        "# DCGAN - PyTorch using CIFAR10\n",
        "\n",
        "### 작성자: 고려대학교 수학과 석사과정 최선묵\n",
        "\n",
        "[References]  \n",
        "- [Goodfellow's GAN Paper Link](https://proceedings.neurips.cc/paper/2014/file/5ca3e9b122f61f8f06494c97b1afccf3-Paper.pdf)  \n",
        "- [DCGAN Paper Link](https://arxiv.org/pdf/1511.06434.pdf)\n",
        "- [DCGAN PyTorch Tutorial](https://pytorch.org/tutorials/beginner/dcgan_faces_tutorial.html)"
      ]
    },
    {
      "cell_type": "code",
      "execution_count": 2,
      "id": "133d7b50",
      "metadata": {
        "id": "133d7b50",
        "vscode": {
          "languageId": "python"
        }
      },
      "outputs": [],
      "source": [
        "import numpy as np\n",
        "import matplotlib.pyplot as plt\n",
        "\n",
        "import torch\n",
        "import torch.nn as nn\n",
        "import torch.optim as optim\n",
        "\n",
        "from torch.utils.data import ConcatDataset, DataLoader\n",
        "\n",
        "import torchvision\n",
        "import torchvision.transforms as transforms\n",
        "from torchvision.datasets import CIFAR10\n",
        "import torchvision.utils as vutils\n",
        "\n",
        "from torchsummary import summary"
      ]
    },
    {
      "cell_type": "code",
      "execution_count": 3,
      "id": "e48e5ab4",
      "metadata": {
        "colab": {
          "base_uri": "https://localhost:8080/"
        },
        "id": "e48e5ab4",
        "outputId": "1d41a330-b900-4f82-905a-6a306e82000e",
        "vscode": {
          "languageId": "python"
        }
      },
      "outputs": [
        {
          "name": "stdout",
          "output_type": "stream",
          "text": [
            "cuda\n"
          ]
        }
      ],
      "source": [
        "device = torch.device(\"cuda\" if torch.cuda.is_available() else \"cpu\")\n",
        "print(device)"
      ]
    },
    {
      "cell_type": "markdown",
      "id": "a29b280b",
      "metadata": {
        "id": "a29b280b"
      },
      "source": [
        "## Data Preparation"
      ]
    },
    {
      "cell_type": "code",
      "execution_count": 5,
      "id": "aa8b794a",
      "metadata": {
        "colab": {
          "base_uri": "https://localhost:8080/"
        },
        "id": "aa8b794a",
        "outputId": "65b3d563-9688-4789-f4c1-0227f68dc693",
        "vscode": {
          "languageId": "python"
        }
      },
      "outputs": [
        {
          "name": "stdout",
          "output_type": "stream",
          "text": [
            "Files already downloaded and verified\n",
            "Files already downloaded and verified\n"
          ]
        }
      ],
      "source": [
        "transform=transforms.Compose([transforms.ToTensor(),\n",
        "                               transforms.Normalize(mean=(0.5, 0.5, 0.5), std=(0.5, 0.5, 0.5)),\n",
        "                               ])\n",
        "\n",
        "trainset = CIFAR10(root='./', train=True, download=True, transform=transform)\n",
        "testset = CIFAR10(root='./', train=False, download=True, transform=transform)\n",
        "\n",
        "BATCH_SIZE = 128\n",
        "\n",
        "dataset = ConcatDataset([trainset, testset])\n",
        "\n",
        "trainloader = DataLoader(dataset, batch_size=BATCH_SIZE, shuffle=True, num_workers=2)"
      ]
    },
    {
      "cell_type": "markdown",
      "id": "7d58e1e0",
      "metadata": {
        "id": "7d58e1e0"
      },
      "source": [
        "## Deep Convolutional GANs\n",
        "\n",
        "### Architecture guidelines for stable Deep Convolutional GANs\n",
        "\n",
        "- Replace any pooling layers with `strided convolutions` (discriminator) and `fractional-strided convolutions` (generator).\n",
        "- Use `BatchNormaliziation` in both the generator and the discriminator.\n",
        "- Remove fully connected hidden layers for deeper architectures.\n",
        "- Use `ReLU` activation in `generator` for all layers except for the output, which uses Tanh.\n",
        "- Use `LeakyReLU` activation in the `discriminator` for all layers."
      ]
    },
    {
      "cell_type": "code",
      "execution_count": 6,
      "id": "307cfc56",
      "metadata": {
        "id": "307cfc56",
        "vscode": {
          "languageId": "python"
        }
      },
      "outputs": [],
      "source": [
        "## Hyperparameters\n",
        "latent_dim = 100\n",
        "\n",
        "EPOCHS = 80\n",
        "LR = 2e-4\n",
        "BETA1=0.5 # Beta1 for Adam optimizers"
      ]
    },
    {
      "cell_type": "markdown",
      "id": "063d1f36",
      "metadata": {
        "id": "063d1f36"
      },
      "source": [
        "### Weight Initialization"
      ]
    },
    {
      "cell_type": "code",
      "execution_count": 7,
      "id": "2509eaa9",
      "metadata": {
        "id": "2509eaa9",
        "vscode": {
          "languageId": "python"
        }
      },
      "outputs": [],
      "source": [
        "def weights_init(m):\n",
        "    classname = m.__class__.__name__\n",
        "    if classname.find('Conv') != -1:\n",
        "        nn.init.normal_(m.weight.data, 0.0, 0.02)"
      ]
    },
    {
      "cell_type": "markdown",
      "id": "d546ca9e",
      "metadata": {
        "id": "d546ca9e"
      },
      "source": [
        "### Generator"
      ]
    },
    {
      "cell_type": "code",
      "execution_count": 8,
      "id": "fd794364",
      "metadata": {
        "id": "fd794364",
        "vscode": {
          "languageId": "python"
        }
      },
      "outputs": [],
      "source": [
        "class Generator(nn.Module):\n",
        "    def __init__(self, noise_dim:int):\n",
        "        super(Generator, self).__init__()\n",
        "        self.main = nn.Sequential(\n",
        "            nn.ConvTranspose2d(in_channels=noise_dim, out_channels=256, \n",
        "                               kernel_size=4, stride=1, padding=0, bias=False),\n",
        "            nn.BatchNorm2d(256),\n",
        "            nn.ReLU(inplace=True),\n",
        "                         \n",
        "            nn.ConvTranspose2d(in_channels=256, out_channels=128, \n",
        "                               kernel_size=4, stride=2, padding=1, bias=False),\n",
        "            nn.BatchNorm2d(128),\n",
        "            nn.ReLU(True),\n",
        "                          \n",
        "            nn.ConvTranspose2d(in_channels=128, out_channels=64, \n",
        "                               kernel_size=4, stride=2, padding=1, bias=False),\n",
        "            nn.BatchNorm2d(64),\n",
        "            nn.ReLU(True),\n",
        "                             \n",
        "            nn.ConvTranspose2d(in_channels=64, out_channels=32, \n",
        "                               kernel_size=4, stride=2, padding=1, bias=False),\n",
        "            nn.BatchNorm2d(32),\n",
        "            nn.ReLU(True),\n",
        "        \n",
        "            nn.Conv2d(in_channels=32, out_channels=3, \n",
        "                      kernel_size=3, stride=1, padding=1, bias=True),\n",
        "            nn.Tanh()\n",
        "        )\n",
        "\n",
        "    def forward(self, input):\n",
        "        return self.main(input)"
      ]
    },
    {
      "cell_type": "code",
      "execution_count": 9,
      "id": "31cf91f1",
      "metadata": {
        "colab": {
          "base_uri": "https://localhost:8080/"
        },
        "id": "31cf91f1",
        "outputId": "94945c72-7bba-4516-a11f-2628f6143560",
        "vscode": {
          "languageId": "python"
        }
      },
      "outputs": [
        {
          "name": "stdout",
          "output_type": "stream",
          "text": [
            "----------------------------------------------------------------\n",
            "        Layer (type)               Output Shape         Param #\n",
            "================================================================\n",
            "   ConvTranspose2d-1            [-1, 256, 4, 4]         409,600\n",
            "       BatchNorm2d-2            [-1, 256, 4, 4]             512\n",
            "              ReLU-3            [-1, 256, 4, 4]               0\n",
            "   ConvTranspose2d-4            [-1, 128, 8, 8]         524,288\n",
            "       BatchNorm2d-5            [-1, 128, 8, 8]             256\n",
            "              ReLU-6            [-1, 128, 8, 8]               0\n",
            "   ConvTranspose2d-7           [-1, 64, 16, 16]         131,072\n",
            "       BatchNorm2d-8           [-1, 64, 16, 16]             128\n",
            "              ReLU-9           [-1, 64, 16, 16]               0\n",
            "  ConvTranspose2d-10           [-1, 32, 32, 32]          32,768\n",
            "      BatchNorm2d-11           [-1, 32, 32, 32]              64\n",
            "             ReLU-12           [-1, 32, 32, 32]               0\n",
            "           Conv2d-13            [-1, 3, 32, 32]             867\n",
            "             Tanh-14            [-1, 3, 32, 32]               0\n",
            "================================================================\n",
            "Total params: 1,099,555\n",
            "Trainable params: 1,099,555\n",
            "Non-trainable params: 0\n",
            "----------------------------------------------------------------\n",
            "Input size (MB): 0.00\n",
            "Forward/backward pass size (MB): 1.45\n",
            "Params size (MB): 4.19\n",
            "Estimated Total Size (MB): 5.65\n",
            "----------------------------------------------------------------\n"
          ]
        }
      ],
      "source": [
        "g_model = Generator(noise_dim=latent_dim).to(device)\n",
        "g_model.apply(weights_init)\n",
        "summary(g_model, input_size=(latent_dim, 1, 1))"
      ]
    },
    {
      "cell_type": "markdown",
      "id": "07070ac3",
      "metadata": {
        "id": "07070ac3"
      },
      "source": [
        "### Discriminator"
      ]
    },
    {
      "cell_type": "code",
      "execution_count": 10,
      "id": "7f1beaa9",
      "metadata": {
        "id": "7f1beaa9",
        "vscode": {
          "languageId": "python"
        }
      },
      "outputs": [],
      "source": [
        "class Discriminator(nn.Module):\n",
        "    def __init__(self):\n",
        "        super(Discriminator, self).__init__()\n",
        "        self.conv_enc = nn.Sequential(\n",
        "            nn.Conv2d(in_channels=3, out_channels=32, \n",
        "                      kernel_size=3, stride=2, padding=1, bias=False),\n",
        "            nn.BatchNorm2d(32),\n",
        "            nn.LeakyReLU(0.2, inplace=True),\n",
        "            \n",
        "            nn.Conv2d(in_channels=32, out_channels=64, \n",
        "                      kernel_size=3, stride=2, padding=1, bias=False),\n",
        "            nn.BatchNorm2d(64),\n",
        "            nn.LeakyReLU(0.2, inplace=True),\n",
        "\n",
        "            nn.Conv2d(in_channels=64, out_channels=128, \n",
        "                      kernel_size=3, stride=2, padding=1, bias=False),\n",
        "            nn.BatchNorm2d(128),\n",
        "            nn.LeakyReLU(0.2, inplace=True),\n",
        "\n",
        "            nn.Conv2d(in_channels=128, out_channels=256, \n",
        "                      kernel_size=3, stride=2, padding=1, bias=False),\n",
        "            nn.BatchNorm2d(256),\n",
        "            nn.LeakyReLU(0.2, inplace=True),\n",
        "        )\n",
        "\n",
        "        self.avgpool = nn.AdaptiveAvgPool2d((1,1))\n",
        "\n",
        "        self.classifier = nn.Sequential(\n",
        "            nn.Linear(in_features=256, out_features=64, bias=False),\n",
        "            nn.BatchNorm1d(64),\n",
        "            nn.LeakyReLU(0.2, inplace=True),\n",
        "            nn.Linear(in_features=64, out_features=1, bias=True),\n",
        "            nn.Sigmoid()\n",
        "        )\n",
        "\n",
        "    def forward(self, input):\n",
        "        x = self.conv_enc(input)\n",
        "        x = self.avgpool(x)\n",
        "        x = x.view(x.size(0), x.size(1))\n",
        "        x = self.classifier(x)\n",
        "\n",
        "        return x"
      ]
    },
    {
      "cell_type": "code",
      "execution_count": 12,
      "id": "64aeaf0b",
      "metadata": {
        "colab": {
          "base_uri": "https://localhost:8080/"
        },
        "id": "64aeaf0b",
        "outputId": "f4110e4a-9cdb-464f-fb65-187fefc1e449",
        "vscode": {
          "languageId": "python"
        }
      },
      "outputs": [
        {
          "name": "stdout",
          "output_type": "stream",
          "text": [
            "----------------------------------------------------------------\n",
            "        Layer (type)               Output Shape         Param #\n",
            "================================================================\n",
            "            Conv2d-1           [-1, 32, 16, 16]             864\n",
            "       BatchNorm2d-2           [-1, 32, 16, 16]              64\n",
            "         LeakyReLU-3           [-1, 32, 16, 16]               0\n",
            "            Conv2d-4             [-1, 64, 8, 8]          18,432\n",
            "       BatchNorm2d-5             [-1, 64, 8, 8]             128\n",
            "         LeakyReLU-6             [-1, 64, 8, 8]               0\n",
            "            Conv2d-7            [-1, 128, 4, 4]          73,728\n",
            "       BatchNorm2d-8            [-1, 128, 4, 4]             256\n",
            "         LeakyReLU-9            [-1, 128, 4, 4]               0\n",
            "           Conv2d-10            [-1, 256, 2, 2]         294,912\n",
            "      BatchNorm2d-11            [-1, 256, 2, 2]             512\n",
            "        LeakyReLU-12            [-1, 256, 2, 2]               0\n",
            "AdaptiveAvgPool2d-13            [-1, 256, 1, 1]               0\n",
            "           Linear-14                   [-1, 64]          16,384\n",
            "      BatchNorm1d-15                   [-1, 64]             128\n",
            "        LeakyReLU-16                   [-1, 64]               0\n",
            "           Linear-17                    [-1, 1]              65\n",
            "          Sigmoid-18                    [-1, 1]               0\n",
            "================================================================\n",
            "Total params: 405,473\n",
            "Trainable params: 405,473\n",
            "Non-trainable params: 0\n",
            "----------------------------------------------------------------\n",
            "Input size (MB): 0.01\n",
            "Forward/backward pass size (MB): 0.35\n",
            "Params size (MB): 1.55\n",
            "Estimated Total Size (MB): 1.91\n",
            "----------------------------------------------------------------\n"
          ]
        }
      ],
      "source": [
        "d_model = Discriminator().to(device)\n",
        "d_model.apply(weights_init)\n",
        "summary(d_model, input_size=(3, 32, 32))"
      ]
    },
    {
      "cell_type": "markdown",
      "id": "b9631732",
      "metadata": {
        "id": "b9631732"
      },
      "source": [
        "### GAN model"
      ]
    },
    {
      "cell_type": "code",
      "execution_count": 13,
      "id": "efc23d6c",
      "metadata": {
        "id": "efc23d6c",
        "vscode": {
          "languageId": "python"
        }
      },
      "outputs": [],
      "source": [
        "# Initialize BCELoss function\n",
        "criterion = nn.BCELoss()\n",
        "\n",
        "# Create batch of latent vectors that we will use to visualize the progression of the generator\n",
        "fixed_noise = torch.randn(64, 100, 1, 1, device=device)"
      ]
    },
    {
      "cell_type": "code",
      "execution_count": 14,
      "id": "fd9efbd3",
      "metadata": {
        "id": "fd9efbd3",
        "vscode": {
          "languageId": "python"
        }
      },
      "outputs": [],
      "source": [
        "# Training Loop\n",
        "def trainGAN(num_epochs, dataloader, generator, discriminator, g_optimizer, d_optimizer, d_iter=1):\n",
        "    # Lists to keep track of progress\n",
        "    img_list = []\n",
        "    G_losses = []\n",
        "    D_losses = []\n",
        "    iters = 0\n",
        "    print(\"Starting Training Loop...\")\n",
        "    \n",
        "    for epoch in range(num_epochs):\n",
        "        \n",
        "        for i, data in enumerate(dataloader, 0):\n",
        "            real_img = data[0]\n",
        "            batch_size = real_img.size(0)\n",
        "            \n",
        "            # Train Discriminator d_iter times with fixed Generator.\n",
        "            for _ in range(d_iter):    \n",
        "                discriminator.zero_grad()\n",
        "\n",
        "                # Train disicriminator using real batch images. Real images have labels 1.\n",
        "                real_img = real_img.to(device)\n",
        "                real_label = torch.full((batch_size,), 1., dtype=torch.float, device=device)\n",
        "                d_real_output = discriminator(real_img).view(-1) # size = (batch_size, 1) -> (batch_size)\n",
        "                d_loss_real = criterion(d_real_output, real_label)\n",
        "                d_loss_real.backward() # Compute gradients\n",
        "\n",
        "                # Train disicriminator using fake batch images. Fake images have labels 0.\n",
        "                noise = torch.randn(batch_size, latent_dim, 1, 1, device=device)\n",
        "                fake_img = generator(noise)\n",
        "                fake_label = torch.full((batch_size,), 0., dtype=torch.float, device=device)\n",
        "                d_fake_output = discriminator(fake_img.detach()).view(-1)\n",
        "                d_loss_fake = criterion(d_fake_output, fake_label)\n",
        "                d_loss_fake.backward() # Compute gradients\n",
        "                \n",
        "                # Optimize\n",
        "                d_optimizer.step()\n",
        "\n",
        "                d_loss = d_loss_real + d_loss_fake\n",
        "                D_x = d_real_output.mean().item()\n",
        "                D_G_z1 = d_fake_output.mean().item()\n",
        "            \n",
        "            # Train Generator with fixed discriminator.\n",
        "            generator.zero_grad()\n",
        "\n",
        "            # Train generator using fake batch images. Fake images have labels 1 for generators.\n",
        "            d_fake_output = discriminator(fake_img).view(-1) # size = (batch_size, 1) -> (batch_size)\n",
        "            g_loss = criterion(d_fake_output, real_label)\n",
        "            g_loss.backward() # Compute gradients\n",
        "            g_optimizer.step() # Optimize\n",
        "            \n",
        "            D_G_z2 = d_fake_output.mean().item()\n",
        "            \n",
        "            # Output training stats\n",
        "            if i % 100 == 0:\n",
        "                print('[%d/%d][%d/%d]\\tLoss_D: %.4f\\tLoss_G: %.4f\\tD(x): %.4f\\tD(G(z)): %.4f / %.4f'\n",
        "                    % (epoch, num_epochs, i, len(dataloader),\n",
        "                        d_loss.item(), g_loss.item(), D_x, D_G_z1, D_G_z2))\n",
        "\n",
        "            # Save Losses for plotting later\n",
        "            G_losses.append(g_loss.item())\n",
        "            D_losses.append(d_loss.item())\n",
        "            \n",
        "            iters += 1 \n",
        "        # Check how the generator is doing by saving G's output on fixed_noise\n",
        "        with torch.no_grad():\n",
        "            fake = generator(fixed_noise).detach().cpu()\n",
        "        img_list.append(vutils.make_grid(fake, padding=2, normalize=True))\n",
        "\n",
        "    return img_list, G_losses, D_losses"
      ]
    },
    {
      "cell_type": "code",
      "execution_count": 15,
      "id": "573d0b62",
      "metadata": {
        "colab": {
          "base_uri": "https://localhost:8080/"
        },
        "id": "573d0b62",
        "outputId": "4d8ecddc-0620-4f7a-cf1b-d14495cc3d5f",
        "vscode": {
          "languageId": "python"
        }
      },
      "outputs": [
        {
          "name": "stdout",
          "output_type": "stream",
          "text": [
            "Starting Training Loop...\n",
            "[0/80][0/469]\tLoss_D: 1.4176\tLoss_G: 0.7235\tD(x): 0.5014\tD(G(z)): 0.5029 / 0.4888\n",
            "[0/80][100/469]\tLoss_D: 1.2176\tLoss_G: 0.8382\tD(x): 0.5375\tD(G(z)): 0.4434 / 0.4349\n",
            "[0/80][200/469]\tLoss_D: 1.0658\tLoss_G: 0.9251\tD(x): 0.5835\tD(G(z)): 0.4059 / 0.3982\n",
            "[0/80][300/469]\tLoss_D: 0.9436\tLoss_G: 1.0137\tD(x): 0.6305\tD(G(z)): 0.3772 / 0.3663\n",
            "[0/80][400/469]\tLoss_D: 1.0575\tLoss_G: 1.1019\tD(x): 0.5540\tD(G(z)): 0.3493 / 0.3375\n",
            "[1/80][0/469]\tLoss_D: 0.8083\tLoss_G: 1.1987\tD(x): 0.6631\tD(G(z)): 0.3222 / 0.3065\n",
            "[1/80][100/469]\tLoss_D: 0.6393\tLoss_G: 1.3106\tD(x): 0.7469\tD(G(z)): 0.2896 / 0.2750\n",
            "[1/80][200/469]\tLoss_D: 0.6349\tLoss_G: 1.5007\tD(x): 0.7110\tD(G(z)): 0.2440 / 0.2313\n",
            "[1/80][300/469]\tLoss_D: 0.5012\tLoss_G: 1.5679\tD(x): 0.7851\tD(G(z)): 0.2255 / 0.2141\n",
            "[1/80][400/469]\tLoss_D: 0.4273\tLoss_G: 1.6399\tD(x): 0.8266\tD(G(z)): 0.2088 / 0.1979\n",
            "[2/80][0/469]\tLoss_D: 0.3635\tLoss_G: 1.8354\tD(x): 0.8432\tD(G(z)): 0.1731 / 0.1651\n",
            "[2/80][100/469]\tLoss_D: 0.3756\tLoss_G: 1.8773\tD(x): 0.8242\tD(G(z)): 0.1630 / 0.1582\n",
            "[2/80][200/469]\tLoss_D: 0.3454\tLoss_G: 1.9352\tD(x): 0.8615\tD(G(z)): 0.1740 / 0.1533\n",
            "[2/80][300/469]\tLoss_D: 0.4707\tLoss_G: 2.0453\tD(x): 0.7428\tD(G(z)): 0.1489 / 0.1417\n",
            "[2/80][400/469]\tLoss_D: 0.8526\tLoss_G: 1.8320\tD(x): 0.5961\tD(G(z)): 0.2537 / 0.1900\n",
            "[3/80][0/469]\tLoss_D: 0.3062\tLoss_G: 1.8827\tD(x): 0.8908\tD(G(z)): 0.1706 / 0.1596\n",
            "[3/80][100/469]\tLoss_D: 0.3256\tLoss_G: 2.1616\tD(x): 0.8410\tD(G(z)): 0.1383 / 0.1253\n",
            "[3/80][200/469]\tLoss_D: 0.2534\tLoss_G: 2.2826\tD(x): 0.8877\tD(G(z)): 0.1225 / 0.1186\n",
            "[3/80][300/469]\tLoss_D: 0.2485\tLoss_G: 2.3034\tD(x): 0.8930\tD(G(z)): 0.1222 / 0.1099\n",
            "[3/80][400/469]\tLoss_D: 0.1864\tLoss_G: 2.5493\tD(x): 0.9115\tD(G(z)): 0.0885 / 0.0861\n",
            "[4/80][0/469]\tLoss_D: 0.2022\tLoss_G: 2.5951\tD(x): 0.8969\tD(G(z)): 0.0872 / 0.0835\n",
            "[4/80][100/469]\tLoss_D: 0.2465\tLoss_G: 2.5290\tD(x): 0.8687\tD(G(z)): 0.0975 / 0.0897\n",
            "[4/80][200/469]\tLoss_D: 0.2335\tLoss_G: 2.4358\tD(x): 0.9199\tD(G(z)): 0.1334 / 0.1150\n",
            "[4/80][300/469]\tLoss_D: 0.3579\tLoss_G: 1.9492\tD(x): 0.8851\tD(G(z)): 0.1921 / 0.1773\n",
            "[4/80][400/469]\tLoss_D: 0.3279\tLoss_G: 2.3375\tD(x): 0.8973\tD(G(z)): 0.1872 / 0.1520\n",
            "[5/80][0/469]\tLoss_D: 0.3248\tLoss_G: 2.2981\tD(x): 0.8973\tD(G(z)): 0.1851 / 0.1559\n",
            "[5/80][100/469]\tLoss_D: 0.3422\tLoss_G: 1.8963\tD(x): 0.8804\tD(G(z)): 0.1842 / 0.1808\n",
            "[5/80][200/469]\tLoss_D: 0.3032\tLoss_G: 2.2696\tD(x): 0.8666\tD(G(z)): 0.1418 / 0.1246\n",
            "[5/80][300/469]\tLoss_D: 0.2297\tLoss_G: 2.5228\tD(x): 0.9057\tD(G(z)): 0.1199 / 0.1031\n",
            "[5/80][400/469]\tLoss_D: 0.2643\tLoss_G: 2.3879\tD(x): 0.9130\tD(G(z)): 0.1539 / 0.1211\n",
            "[6/80][0/469]\tLoss_D: 0.2650\tLoss_G: 2.6558\tD(x): 0.9069\tD(G(z)): 0.1464 / 0.1323\n",
            "[6/80][100/469]\tLoss_D: 0.1794\tLoss_G: 2.5157\tD(x): 0.9478\tD(G(z)): 0.1165 / 0.1069\n",
            "[6/80][200/469]\tLoss_D: 0.1537\tLoss_G: 2.7821\tD(x): 0.9541\tD(G(z)): 0.0971 / 0.0936\n",
            "[6/80][300/469]\tLoss_D: 0.1493\tLoss_G: 3.0626\tD(x): 0.9469\tD(G(z)): 0.0884 / 0.0770\n",
            "[6/80][400/469]\tLoss_D: 0.1742\tLoss_G: 2.3350\tD(x): 0.9550\tD(G(z)): 0.1193 / 0.1071\n",
            "[7/80][0/469]\tLoss_D: 0.1352\tLoss_G: 2.8384\tD(x): 0.9499\tD(G(z)): 0.0787 / 0.0853\n",
            "[7/80][100/469]\tLoss_D: 0.1382\tLoss_G: 3.1616\tD(x): 0.9402\tD(G(z)): 0.0718 / 0.0680\n",
            "[7/80][200/469]\tLoss_D: 0.0868\tLoss_G: 3.7412\tD(x): 0.9691\tD(G(z)): 0.0529 / 0.0495\n",
            "[7/80][300/469]\tLoss_D: 0.1153\tLoss_G: 2.8716\tD(x): 0.9572\tD(G(z)): 0.0679 / 0.0735\n",
            "[7/80][400/469]\tLoss_D: 0.0953\tLoss_G: 3.3349\tD(x): 0.9706\tD(G(z)): 0.0627 / 0.0583\n",
            "[8/80][0/469]\tLoss_D: 0.1303\tLoss_G: 2.4926\tD(x): 0.9592\tD(G(z)): 0.0845 / 0.0843\n",
            "[8/80][100/469]\tLoss_D: 0.1130\tLoss_G: 2.5911\tD(x): 0.9666\tD(G(z)): 0.0759 / 0.0757\n",
            "[8/80][200/469]\tLoss_D: 0.0879\tLoss_G: 2.7533\tD(x): 0.9789\tD(G(z)): 0.0644 / 0.0643\n",
            "[8/80][300/469]\tLoss_D: 0.0782\tLoss_G: 2.8813\tD(x): 0.9803\tD(G(z)): 0.0566 / 0.0565\n",
            "[8/80][400/469]\tLoss_D: 0.0683\tLoss_G: 2.9984\tD(x): 0.9834\tD(G(z)): 0.0503 / 0.0502\n",
            "[9/80][0/469]\tLoss_D: 0.0683\tLoss_G: 3.0512\tD(x): 0.9806\tD(G(z)): 0.0476 / 0.0475\n",
            "[9/80][100/469]\tLoss_D: 0.0590\tLoss_G: 3.1470\tD(x): 0.9854\tD(G(z)): 0.0433 / 0.0432\n",
            "[9/80][200/469]\tLoss_D: 0.0574\tLoss_G: 3.2587\tD(x): 0.9823\tD(G(z)): 0.0387 / 0.0387\n",
            "[9/80][300/469]\tLoss_D: 0.0504\tLoss_G: 3.3698\tD(x): 0.9850\tD(G(z)): 0.0346 / 0.0346\n",
            "[9/80][400/469]\tLoss_D: 0.0488\tLoss_G: 3.4573\tD(x): 0.9836\tD(G(z)): 0.0317 / 0.0317\n",
            "[10/80][0/469]\tLoss_D: 0.0473\tLoss_G: 3.5221\tD(x): 0.9830\tD(G(z)): 0.0297 / 0.0297\n",
            "[10/80][100/469]\tLoss_D: 0.0401\tLoss_G: 3.5359\tD(x): 0.9897\tD(G(z)): 0.0294 / 0.0293\n",
            "[10/80][200/469]\tLoss_D: 0.0366\tLoss_G: 3.6272\tD(x): 0.9906\tD(G(z)): 0.0268 / 0.0267\n",
            "[10/80][300/469]\tLoss_D: 0.0396\tLoss_G: 3.7322\tD(x): 0.9850\tD(G(z)): 0.0241 / 0.0241\n",
            "[10/80][400/469]\tLoss_D: 0.0362\tLoss_G: 3.8276\tD(x): 0.9861\tD(G(z)): 0.0219 / 0.0219\n",
            "[11/80][0/469]\tLoss_D: 0.0351\tLoss_G: 3.8849\tD(x): 0.9862\tD(G(z)): 0.0209 / 0.0209\n",
            "[11/80][100/469]\tLoss_D: 0.0304\tLoss_G: 3.9772\tD(x): 0.9888\tD(G(z)): 0.0190 / 0.0190\n",
            "[11/80][200/469]\tLoss_D: 0.0272\tLoss_G: 4.0624\tD(x): 0.9905\tD(G(z)): 0.0175 / 0.0175\n",
            "[11/80][300/469]\tLoss_D: 0.0220\tLoss_G: 4.1401\tD(x): 0.9942\tD(G(z)): 0.0161 / 0.0160\n",
            "[11/80][400/469]\tLoss_D: 0.0211\tLoss_G: 4.2119\tD(x): 0.9940\tD(G(z)): 0.0150 / 0.0150\n",
            "[12/80][0/469]\tLoss_D: 0.0199\tLoss_G: 4.2731\tD(x): 0.9945\tD(G(z)): 0.0143 / 0.0142\n",
            "[12/80][100/469]\tLoss_D: 0.0214\tLoss_G: 4.3120\tD(x): 0.9924\tD(G(z)): 0.0136 / 0.0136\n",
            "[12/80][200/469]\tLoss_D: 0.0186\tLoss_G: 4.3684\tD(x): 0.9943\tD(G(z)): 0.0128 / 0.0128\n",
            "[12/80][300/469]\tLoss_D: 0.0171\tLoss_G: 4.4496\tD(x): 0.9950\tD(G(z)): 0.0120 / 0.0120\n",
            "[12/80][400/469]\tLoss_D: 0.0170\tLoss_G: 4.5260\tD(x): 0.9941\tD(G(z)): 0.0110 / 0.0110\n",
            "[13/80][0/469]\tLoss_D: 0.0502\tLoss_G: 4.6911\tD(x): 0.9626\tD(G(z)): 0.0095 / 0.0095\n",
            "[13/80][100/469]\tLoss_D: 0.2852\tLoss_G: 2.3148\tD(x): 0.9007\tD(G(z)): 0.1521 / 0.1408\n",
            "[13/80][200/469]\tLoss_D: 0.1034\tLoss_G: 2.8212\tD(x): 0.9583\tD(G(z)): 0.0586 / 0.0687\n",
            "[13/80][300/469]\tLoss_D: 0.1123\tLoss_G: 2.6803\tD(x): 0.9640\tD(G(z)): 0.0723 / 0.0722\n",
            "[13/80][400/469]\tLoss_D: 0.0915\tLoss_G: 2.8767\tD(x): 0.9719\tD(G(z)): 0.0609 / 0.0590\n",
            "[14/80][0/469]\tLoss_D: 0.1052\tLoss_G: 3.1174\tD(x): 0.9468\tD(G(z)): 0.0486 / 0.0474\n",
            "[14/80][100/469]\tLoss_D: 0.1274\tLoss_G: 3.0984\tD(x): 0.9269\tD(G(z)): 0.0492 / 0.0482\n",
            "[14/80][200/469]\tLoss_D: 0.1740\tLoss_G: 2.7941\tD(x): 0.9015\tD(G(z)): 0.0643 / 0.0634\n",
            "[14/80][300/469]\tLoss_D: 0.1051\tLoss_G: 3.1616\tD(x): 0.9429\tD(G(z)): 0.0442 / 0.0438\n",
            "[14/80][400/469]\tLoss_D: 0.0720\tLoss_G: 3.2824\tD(x): 0.9688\tD(G(z)): 0.0392 / 0.0387\n",
            "[15/80][0/469]\tLoss_D: 0.0651\tLoss_G: 3.2261\tD(x): 0.9780\tD(G(z)): 0.0418 / 0.0407\n",
            "[15/80][100/469]\tLoss_D: 0.0466\tLoss_G: 3.6846\tD(x): 0.9802\tD(G(z)): 0.0261 / 0.0258\n",
            "[15/80][200/469]\tLoss_D: 0.0566\tLoss_G: 3.6380\tD(x): 0.9723\tD(G(z)): 0.0280 / 0.0272\n",
            "[15/80][300/469]\tLoss_D: 0.1918\tLoss_G: 3.7744\tD(x): 0.8686\tD(G(z)): 0.0291 / 0.0296\n",
            "[15/80][400/469]\tLoss_D: 0.0785\tLoss_G: 3.5569\tD(x): 0.9690\tD(G(z)): 0.0450 / 0.0349\n",
            "[16/80][0/469]\tLoss_D: 0.1192\tLoss_G: 3.3820\tD(x): 0.9719\tD(G(z)): 0.0834 / 0.0394\n",
            "[16/80][100/469]\tLoss_D: 0.0814\tLoss_G: 3.4246\tD(x): 0.9705\tD(G(z)): 0.0492 / 0.0368\n",
            "[16/80][200/469]\tLoss_D: 0.1089\tLoss_G: 3.4411\tD(x): 0.9352\tD(G(z)): 0.0395 / 0.0367\n",
            "[16/80][300/469]\tLoss_D: 0.1249\tLoss_G: 3.7794\tD(x): 0.9187\tD(G(z)): 0.0366 / 0.0407\n",
            "[16/80][400/469]\tLoss_D: 0.0502\tLoss_G: 3.7383\tD(x): 0.9761\tD(G(z)): 0.0255 / 0.0255\n",
            "[17/80][0/469]\tLoss_D: 0.5414\tLoss_G: 3.8524\tD(x): 0.7325\tD(G(z)): 0.0360 / 0.0238\n",
            "[17/80][100/469]\tLoss_D: 0.6163\tLoss_G: 2.9688\tD(x): 0.6193\tD(G(z)): 0.0577 / 0.0604\n",
            "[17/80][200/469]\tLoss_D: 0.5862\tLoss_G: 1.9056\tD(x): 0.7360\tD(G(z)): 0.2086 / 0.1765\n",
            "[17/80][300/469]\tLoss_D: 1.3121\tLoss_G: 1.4829\tD(x): 0.5492\tD(G(z)): 0.3706 / 0.2907\n",
            "[17/80][400/469]\tLoss_D: 0.6491\tLoss_G: 1.6192\tD(x): 0.6980\tD(G(z)): 0.2037 / 0.2285\n",
            "[18/80][0/469]\tLoss_D: 0.4300\tLoss_G: 2.1801\tD(x): 0.8213\tD(G(z)): 0.1872 / 0.1321\n",
            "[18/80][100/469]\tLoss_D: 0.7389\tLoss_G: 1.8705\tD(x): 0.7537\tD(G(z)): 0.3269 / 0.1761\n",
            "[18/80][200/469]\tLoss_D: 0.4628\tLoss_G: 2.1804\tD(x): 0.8428\tD(G(z)): 0.2179 / 0.1512\n",
            "[18/80][300/469]\tLoss_D: 0.9658\tLoss_G: 1.2977\tD(x): 0.5951\tD(G(z)): 0.2945 / 0.3007\n",
            "[18/80][400/469]\tLoss_D: 0.7484\tLoss_G: 1.7230\tD(x): 0.6877\tD(G(z)): 0.2721 / 0.2022\n",
            "[19/80][0/469]\tLoss_D: 0.4975\tLoss_G: 1.6821\tD(x): 0.7391\tD(G(z)): 0.1416 / 0.2178\n",
            "[19/80][100/469]\tLoss_D: 1.1977\tLoss_G: 1.7216\tD(x): 0.7234\tD(G(z)): 0.5247 / 0.2156\n",
            "[19/80][200/469]\tLoss_D: 0.7619\tLoss_G: 1.5527\tD(x): 0.6210\tD(G(z)): 0.2084 / 0.2353\n",
            "[19/80][300/469]\tLoss_D: 1.0697\tLoss_G: 1.3485\tD(x): 0.5722\tD(G(z)): 0.3229 / 0.3068\n",
            "[19/80][400/469]\tLoss_D: 1.2135\tLoss_G: 0.9812\tD(x): 0.5562\tD(G(z)): 0.4257 / 0.4061\n",
            "[20/80][0/469]\tLoss_D: 1.0820\tLoss_G: 1.3496\tD(x): 0.5928\tD(G(z)): 0.3630 / 0.2934\n",
            "[20/80][100/469]\tLoss_D: 1.6706\tLoss_G: 1.4915\tD(x): 0.4290\tD(G(z)): 0.4447 / 0.2512\n",
            "[20/80][200/469]\tLoss_D: 1.0370\tLoss_G: 1.5768\tD(x): 0.6782\tD(G(z)): 0.4354 / 0.2319\n",
            "[20/80][300/469]\tLoss_D: 1.1601\tLoss_G: 1.0095\tD(x): 0.5738\tD(G(z)): 0.4162 / 0.3804\n",
            "[20/80][400/469]\tLoss_D: 1.0580\tLoss_G: 0.9773\tD(x): 0.5572\tD(G(z)): 0.3406 / 0.3945\n",
            "[21/80][0/469]\tLoss_D: 1.0071\tLoss_G: 1.5608\tD(x): 0.7885\tD(G(z)): 0.4911 / 0.2363\n",
            "[21/80][100/469]\tLoss_D: 1.1339\tLoss_G: 1.3835\tD(x): 0.6167\tD(G(z)): 0.4093 / 0.2853\n",
            "[21/80][200/469]\tLoss_D: 0.9670\tLoss_G: 1.6177\tD(x): 0.6166\tD(G(z)): 0.3154 / 0.2223\n",
            "[21/80][300/469]\tLoss_D: 1.3832\tLoss_G: 1.5047\tD(x): 0.3557\tD(G(z)): 0.2158 / 0.2508\n",
            "[21/80][400/469]\tLoss_D: 1.4808\tLoss_G: 1.2686\tD(x): 0.5790\tD(G(z)): 0.5324 / 0.3133\n",
            "[22/80][0/469]\tLoss_D: 1.1692\tLoss_G: 1.3668\tD(x): 0.7072\tD(G(z)): 0.4985 / 0.2977\n",
            "[22/80][100/469]\tLoss_D: 1.1028\tLoss_G: 1.7711\tD(x): 0.6351\tD(G(z)): 0.4194 / 0.1881\n",
            "[22/80][200/469]\tLoss_D: 1.2675\tLoss_G: 1.1284\tD(x): 0.5400\tD(G(z)): 0.4275 / 0.3566\n",
            "[22/80][300/469]\tLoss_D: 0.8814\tLoss_G: 1.2486\tD(x): 0.6325\tD(G(z)): 0.3083 / 0.3101\n",
            "[22/80][400/469]\tLoss_D: 1.3643\tLoss_G: 2.0393\tD(x): 0.6393\tD(G(z)): 0.5268 / 0.1570\n",
            "[23/80][0/469]\tLoss_D: 1.0577\tLoss_G: 1.5829\tD(x): 0.8549\tD(G(z)): 0.5463 / 0.2264\n",
            "[23/80][100/469]\tLoss_D: 1.1685\tLoss_G: 1.7893\tD(x): 0.7371\tD(G(z)): 0.4965 / 0.1910\n",
            "[23/80][200/469]\tLoss_D: 1.2803\tLoss_G: 1.4479\tD(x): 0.4271\tD(G(z)): 0.2816 / 0.2573\n",
            "[23/80][300/469]\tLoss_D: 0.9906\tLoss_G: 1.2390\tD(x): 0.6560\tD(G(z)): 0.3770 / 0.3112\n",
            "[23/80][400/469]\tLoss_D: 1.0698\tLoss_G: 1.3393\tD(x): 0.6513\tD(G(z)): 0.4234 / 0.2894\n",
            "[24/80][0/469]\tLoss_D: 1.0229\tLoss_G: 2.1202\tD(x): 0.8791\tD(G(z)): 0.5518 / 0.1397\n",
            "[24/80][100/469]\tLoss_D: 1.6766\tLoss_G: 1.7292\tD(x): 0.2730\tD(G(z)): 0.1307 / 0.2019\n",
            "[24/80][200/469]\tLoss_D: 1.0190\tLoss_G: 1.2331\tD(x): 0.5170\tD(G(z)): 0.2613 / 0.3122\n",
            "[24/80][300/469]\tLoss_D: 1.4650\tLoss_G: 1.8731\tD(x): 0.5767\tD(G(z)): 0.5438 / 0.1732\n",
            "[24/80][400/469]\tLoss_D: 1.1143\tLoss_G: 1.6626\tD(x): 0.6288\tD(G(z)): 0.3834 / 0.2272\n",
            "[25/80][0/469]\tLoss_D: 1.2037\tLoss_G: 1.7608\tD(x): 0.8028\tD(G(z)): 0.5732 / 0.2028\n",
            "[25/80][100/469]\tLoss_D: 1.2670\tLoss_G: 1.1725\tD(x): 0.5275\tD(G(z)): 0.3913 / 0.3364\n",
            "[25/80][200/469]\tLoss_D: 0.6911\tLoss_G: 1.7021\tD(x): 0.7989\tD(G(z)): 0.3415 / 0.2071\n",
            "[25/80][300/469]\tLoss_D: 1.0041\tLoss_G: 1.3426\tD(x): 0.6914\tD(G(z)): 0.4266 / 0.2876\n",
            "[25/80][400/469]\tLoss_D: 1.3046\tLoss_G: 1.4862\tD(x): 0.6948\tD(G(z)): 0.5588 / 0.2478\n",
            "[26/80][0/469]\tLoss_D: 1.2005\tLoss_G: 0.9554\tD(x): 0.5688\tD(G(z)): 0.4127 / 0.4123\n",
            "[26/80][100/469]\tLoss_D: 1.1087\tLoss_G: 1.5299\tD(x): 0.6687\tD(G(z)): 0.4502 / 0.2382\n",
            "[26/80][200/469]\tLoss_D: 1.2573\tLoss_G: 1.5273\tD(x): 0.6851\tD(G(z)): 0.5344 / 0.2362\n",
            "[26/80][300/469]\tLoss_D: 0.8724\tLoss_G: 1.3182\tD(x): 0.7075\tD(G(z)): 0.3749 / 0.2879\n",
            "[26/80][400/469]\tLoss_D: 1.0187\tLoss_G: 1.0411\tD(x): 0.5996\tD(G(z)): 0.3564 / 0.3929\n",
            "[27/80][0/469]\tLoss_D: 1.0315\tLoss_G: 1.8557\tD(x): 0.7886\tD(G(z)): 0.4904 / 0.1862\n",
            "[27/80][100/469]\tLoss_D: 1.2747\tLoss_G: 1.1636\tD(x): 0.4057\tD(G(z)): 0.2498 / 0.3363\n",
            "[27/80][200/469]\tLoss_D: 0.8429\tLoss_G: 1.7866\tD(x): 0.8296\tD(G(z)): 0.4515 / 0.1882\n",
            "[27/80][300/469]\tLoss_D: 1.0682\tLoss_G: 1.3703\tD(x): 0.5025\tD(G(z)): 0.2708 / 0.2796\n",
            "[27/80][400/469]\tLoss_D: 1.0051\tLoss_G: 1.6558\tD(x): 0.8119\tD(G(z)): 0.5048 / 0.2164\n",
            "[28/80][0/469]\tLoss_D: 1.1626\tLoss_G: 1.1794\tD(x): 0.5408\tD(G(z)): 0.3481 / 0.3360\n",
            "[28/80][100/469]\tLoss_D: 0.9120\tLoss_G: 1.7096\tD(x): 0.7743\tD(G(z)): 0.4411 / 0.2059\n",
            "[28/80][200/469]\tLoss_D: 1.5884\tLoss_G: 0.6756\tD(x): 0.3226\tD(G(z)): 0.2916 / 0.5454\n",
            "[28/80][300/469]\tLoss_D: 1.0399\tLoss_G: 1.5737\tD(x): 0.5959\tD(G(z)): 0.3487 / 0.2292\n",
            "[28/80][400/469]\tLoss_D: 1.2148\tLoss_G: 1.3400\tD(x): 0.6633\tD(G(z)): 0.4862 / 0.2996\n",
            "[29/80][0/469]\tLoss_D: 1.1460\tLoss_G: 0.9659\tD(x): 0.4782\tD(G(z)): 0.2843 / 0.4106\n",
            "[29/80][100/469]\tLoss_D: 1.1174\tLoss_G: 1.3034\tD(x): 0.6906\tD(G(z)): 0.4779 / 0.3044\n",
            "[29/80][200/469]\tLoss_D: 1.3801\tLoss_G: 0.6874\tD(x): 0.3339\tD(G(z)): 0.1730 / 0.5273\n",
            "[29/80][300/469]\tLoss_D: 1.3499\tLoss_G: 1.6692\tD(x): 0.7821\tD(G(z)): 0.6174 / 0.2181\n",
            "[29/80][400/469]\tLoss_D: 1.3203\tLoss_G: 1.6449\tD(x): 0.3640\tD(G(z)): 0.1601 / 0.2235\n",
            "[30/80][0/469]\tLoss_D: 1.0214\tLoss_G: 2.0822\tD(x): 0.7263\tD(G(z)): 0.4469 / 0.1508\n",
            "[30/80][100/469]\tLoss_D: 1.0594\tLoss_G: 1.8009\tD(x): 0.7163\tD(G(z)): 0.4816 / 0.1873\n",
            "[30/80][200/469]\tLoss_D: 0.9691\tLoss_G: 1.0673\tD(x): 0.5089\tD(G(z)): 0.1890 / 0.3787\n",
            "[30/80][300/469]\tLoss_D: 0.8218\tLoss_G: 1.6616\tD(x): 0.7677\tD(G(z)): 0.3847 / 0.2224\n",
            "[30/80][400/469]\tLoss_D: 1.0809\tLoss_G: 1.1174\tD(x): 0.4739\tD(G(z)): 0.2279 / 0.3537\n",
            "[31/80][0/469]\tLoss_D: 1.2764\tLoss_G: 1.8628\tD(x): 0.8126\tD(G(z)): 0.6132 / 0.1762\n",
            "[31/80][100/469]\tLoss_D: 1.0547\tLoss_G: 1.1631\tD(x): 0.5105\tD(G(z)): 0.2569 / 0.3443\n",
            "[31/80][200/469]\tLoss_D: 0.8491\tLoss_G: 1.4567\tD(x): 0.6767\tD(G(z)): 0.3069 / 0.2705\n",
            "[31/80][300/469]\tLoss_D: 0.8740\tLoss_G: 1.8819\tD(x): 0.7516\tD(G(z)): 0.4125 / 0.1700\n",
            "[31/80][400/469]\tLoss_D: 1.0750\tLoss_G: 1.4410\tD(x): 0.6488\tD(G(z)): 0.4168 / 0.2590\n",
            "[32/80][0/469]\tLoss_D: 0.8954\tLoss_G: 1.3609\tD(x): 0.5646\tD(G(z)): 0.2170 / 0.2967\n",
            "[32/80][100/469]\tLoss_D: 1.4903\tLoss_G: 1.5937\tD(x): 0.6092\tD(G(z)): 0.5582 / 0.2452\n",
            "[32/80][200/469]\tLoss_D: 0.9177\tLoss_G: 1.5396\tD(x): 0.5890\tD(G(z)): 0.2735 / 0.2400\n",
            "[32/80][300/469]\tLoss_D: 0.9289\tLoss_G: 1.4422\tD(x): 0.6252\tD(G(z)): 0.3181 / 0.2615\n",
            "[32/80][400/469]\tLoss_D: 0.8094\tLoss_G: 1.3634\tD(x): 0.6000\tD(G(z)): 0.2192 / 0.2810\n",
            "[33/80][0/469]\tLoss_D: 0.9346\tLoss_G: 1.2286\tD(x): 0.5311\tD(G(z)): 0.1922 / 0.3227\n",
            "[33/80][100/469]\tLoss_D: 0.8689\tLoss_G: 1.7476\tD(x): 0.5678\tD(G(z)): 0.2030 / 0.1997\n",
            "[33/80][200/469]\tLoss_D: 1.1410\tLoss_G: 1.8508\tD(x): 0.6880\tD(G(z)): 0.4724 / 0.1780\n",
            "[33/80][300/469]\tLoss_D: 1.1519\tLoss_G: 1.3434\tD(x): 0.5685\tD(G(z)): 0.3659 / 0.2957\n",
            "[33/80][400/469]\tLoss_D: 1.0917\tLoss_G: 0.8910\tD(x): 0.5305\tD(G(z)): 0.2894 / 0.4457\n",
            "[34/80][0/469]\tLoss_D: 0.7953\tLoss_G: 1.2129\tD(x): 0.6678\tD(G(z)): 0.2789 / 0.3327\n",
            "[34/80][100/469]\tLoss_D: 0.8469\tLoss_G: 1.7531\tD(x): 0.7427\tD(G(z)): 0.3742 / 0.1968\n",
            "[34/80][200/469]\tLoss_D: 0.9131\tLoss_G: 1.3342\tD(x): 0.6342\tD(G(z)): 0.3047 / 0.2992\n",
            "[34/80][300/469]\tLoss_D: 0.8407\tLoss_G: 1.5439\tD(x): 0.6857\tD(G(z)): 0.3165 / 0.2507\n",
            "[34/80][400/469]\tLoss_D: 0.9585\tLoss_G: 1.4440\tD(x): 0.6757\tD(G(z)): 0.3772 / 0.2663\n",
            "[35/80][0/469]\tLoss_D: 0.9148\tLoss_G: 1.6611\tD(x): 0.7030\tD(G(z)): 0.3583 / 0.2155\n",
            "[35/80][100/469]\tLoss_D: 1.0086\tLoss_G: 1.6040\tD(x): 0.6676\tD(G(z)): 0.4126 / 0.2224\n",
            "[35/80][200/469]\tLoss_D: 0.7342\tLoss_G: 1.9902\tD(x): 0.6044\tD(G(z)): 0.1497 / 0.1658\n",
            "[35/80][300/469]\tLoss_D: 0.8303\tLoss_G: 1.6113\tD(x): 0.6656\tD(G(z)): 0.2995 / 0.2276\n",
            "[35/80][400/469]\tLoss_D: 0.6974\tLoss_G: 1.6260\tD(x): 0.6794\tD(G(z)): 0.2208 / 0.2303\n",
            "[36/80][0/469]\tLoss_D: 0.7760\tLoss_G: 1.1134\tD(x): 0.7279\tD(G(z)): 0.3337 / 0.3635\n",
            "[36/80][100/469]\tLoss_D: 0.8821\tLoss_G: 1.2622\tD(x): 0.5636\tD(G(z)): 0.2042 / 0.3203\n",
            "[36/80][200/469]\tLoss_D: 1.0635\tLoss_G: 1.6484\tD(x): 0.6716\tD(G(z)): 0.4260 / 0.2285\n",
            "[36/80][300/469]\tLoss_D: 1.1827\tLoss_G: 1.4946\tD(x): 0.4378\tD(G(z)): 0.2233 / 0.2514\n",
            "[36/80][400/469]\tLoss_D: 0.6630\tLoss_G: 1.5573\tD(x): 0.8131\tD(G(z)): 0.3435 / 0.2314\n",
            "[37/80][0/469]\tLoss_D: 0.7688\tLoss_G: 1.4437\tD(x): 0.6569\tD(G(z)): 0.2501 / 0.2693\n",
            "[37/80][100/469]\tLoss_D: 0.8920\tLoss_G: 1.1442\tD(x): 0.6717\tD(G(z)): 0.3425 / 0.3518\n",
            "[37/80][200/469]\tLoss_D: 0.5737\tLoss_G: 1.8351\tD(x): 0.7510\tD(G(z)): 0.2211 / 0.1880\n",
            "[37/80][300/469]\tLoss_D: 0.9935\tLoss_G: 1.1208\tD(x): 0.6736\tD(G(z)): 0.3961 / 0.3610\n",
            "[37/80][400/469]\tLoss_D: 1.1536\tLoss_G: 1.6168\tD(x): 0.5608\tD(G(z)): 0.3711 / 0.2237\n",
            "[38/80][0/469]\tLoss_D: 1.3034\tLoss_G: 2.1991\tD(x): 0.6964\tD(G(z)): 0.5410 / 0.1327\n",
            "[38/80][100/469]\tLoss_D: 1.1924\tLoss_G: 1.3939\tD(x): 0.5222\tD(G(z)): 0.3499 / 0.2791\n",
            "[38/80][200/469]\tLoss_D: 0.6939\tLoss_G: 1.9268\tD(x): 0.6833\tD(G(z)): 0.2211 / 0.1787\n",
            "[38/80][300/469]\tLoss_D: 0.9463\tLoss_G: 1.1658\tD(x): 0.6191\tD(G(z)): 0.3308 / 0.3431\n",
            "[38/80][400/469]\tLoss_D: 1.3473\tLoss_G: 1.2895\tD(x): 0.5458\tD(G(z)): 0.4478 / 0.3095\n",
            "[39/80][0/469]\tLoss_D: 1.5403\tLoss_G: 1.1423\tD(x): 0.3026\tD(G(z)): 0.1637 / 0.3673\n",
            "[39/80][100/469]\tLoss_D: 0.8844\tLoss_G: 1.6685\tD(x): 0.6020\tD(G(z)): 0.2466 / 0.2205\n",
            "[39/80][200/469]\tLoss_D: 0.6169\tLoss_G: 2.0195\tD(x): 0.8495\tD(G(z)): 0.3273 / 0.1674\n",
            "[39/80][300/469]\tLoss_D: 1.1872\tLoss_G: 1.2108\tD(x): 0.4887\tD(G(z)): 0.2795 / 0.3449\n",
            "[39/80][400/469]\tLoss_D: 0.8517\tLoss_G: 1.3580\tD(x): 0.5975\tD(G(z)): 0.2318 / 0.2888\n",
            "[40/80][0/469]\tLoss_D: 1.4915\tLoss_G: 0.6654\tD(x): 0.3254\tD(G(z)): 0.1895 / 0.5492\n",
            "[40/80][100/469]\tLoss_D: 1.1074\tLoss_G: 2.2392\tD(x): 0.9153\tD(G(z)): 0.5738 / 0.1340\n",
            "[40/80][200/469]\tLoss_D: 0.7751\tLoss_G: 1.4270\tD(x): 0.6716\tD(G(z)): 0.2696 / 0.2757\n",
            "[40/80][300/469]\tLoss_D: 1.0804\tLoss_G: 1.4410\tD(x): 0.5727\tD(G(z)): 0.3174 / 0.2830\n",
            "[40/80][400/469]\tLoss_D: 1.4460\tLoss_G: 1.8447\tD(x): 0.3489\tD(G(z)): 0.1224 / 0.1977\n",
            "[41/80][0/469]\tLoss_D: 0.8334\tLoss_G: 2.2156\tD(x): 0.7339\tD(G(z)): 0.3502 / 0.1290\n",
            "[41/80][100/469]\tLoss_D: 0.9778\tLoss_G: 1.6605\tD(x): 0.5276\tD(G(z)): 0.1819 / 0.2200\n",
            "[41/80][200/469]\tLoss_D: 0.7362\tLoss_G: 2.2457\tD(x): 0.7715\tD(G(z)): 0.3055 / 0.1545\n",
            "[41/80][300/469]\tLoss_D: 0.8652\tLoss_G: 1.4308\tD(x): 0.6108\tD(G(z)): 0.2420 / 0.2789\n",
            "[41/80][400/469]\tLoss_D: 1.2431\tLoss_G: 2.6921\tD(x): 0.9214\tD(G(z)): 0.6337 / 0.0852\n",
            "[42/80][0/469]\tLoss_D: 0.8563\tLoss_G: 1.5760\tD(x): 0.6331\tD(G(z)): 0.2841 / 0.2406\n",
            "[42/80][100/469]\tLoss_D: 1.4442\tLoss_G: 2.6231\tD(x): 0.8301\tD(G(z)): 0.6500 / 0.0884\n",
            "[42/80][200/469]\tLoss_D: 0.5055\tLoss_G: 1.8270\tD(x): 0.8205\tD(G(z)): 0.2322 / 0.1989\n",
            "[42/80][300/469]\tLoss_D: 0.8637\tLoss_G: 1.3804\tD(x): 0.5594\tD(G(z)): 0.1709 / 0.2908\n",
            "[42/80][400/469]\tLoss_D: 1.0234\tLoss_G: 1.4951\tD(x): 0.6138\tD(G(z)): 0.3454 / 0.2740\n",
            "[43/80][0/469]\tLoss_D: 1.1269\tLoss_G: 1.8955\tD(x): 0.7029\tD(G(z)): 0.4594 / 0.1751\n",
            "[43/80][100/469]\tLoss_D: 1.4172\tLoss_G: 2.2846\tD(x): 0.3056\tD(G(z)): 0.0791 / 0.1281\n",
            "[43/80][200/469]\tLoss_D: 0.9951\tLoss_G: 1.8129\tD(x): 0.6034\tD(G(z)): 0.2956 / 0.2325\n",
            "[43/80][300/469]\tLoss_D: 0.7538\tLoss_G: 1.7146\tD(x): 0.6687\tD(G(z)): 0.2408 / 0.2089\n",
            "[43/80][400/469]\tLoss_D: 1.0159\tLoss_G: 0.9793\tD(x): 0.4971\tD(G(z)): 0.1914 / 0.4121\n",
            "[44/80][0/469]\tLoss_D: 0.6740\tLoss_G: 2.5670\tD(x): 0.8421\tD(G(z)): 0.3380 / 0.1039\n",
            "[44/80][100/469]\tLoss_D: 0.8682\tLoss_G: 1.9537\tD(x): 0.7801\tD(G(z)): 0.4221 / 0.1615\n",
            "[44/80][200/469]\tLoss_D: 0.5467\tLoss_G: 2.1495\tD(x): 0.7496\tD(G(z)): 0.1616 / 0.1464\n",
            "[44/80][300/469]\tLoss_D: 0.6384\tLoss_G: 2.0268\tD(x): 0.8054\tD(G(z)): 0.2862 / 0.1799\n",
            "[44/80][400/469]\tLoss_D: 1.2446\tLoss_G: 1.7566\tD(x): 0.6340\tD(G(z)): 0.4696 / 0.2108\n",
            "[45/80][0/469]\tLoss_D: 0.6037\tLoss_G: 2.0251\tD(x): 0.8005\tD(G(z)): 0.2800 / 0.1518\n",
            "[45/80][100/469]\tLoss_D: 0.9732\tLoss_G: 2.3789\tD(x): 0.8376\tD(G(z)): 0.4864 / 0.1204\n",
            "[45/80][200/469]\tLoss_D: 1.0010\tLoss_G: 2.4914\tD(x): 0.7788\tD(G(z)): 0.4727 / 0.1074\n",
            "[45/80][300/469]\tLoss_D: 0.9959\tLoss_G: 1.4346\tD(x): 0.4782\tD(G(z)): 0.1298 / 0.2784\n",
            "[45/80][400/469]\tLoss_D: 0.8684\tLoss_G: 1.8973\tD(x): 0.7370\tD(G(z)): 0.3913 / 0.1788\n",
            "[46/80][0/469]\tLoss_D: 0.8480\tLoss_G: 1.2652\tD(x): 0.6031\tD(G(z)): 0.2346 / 0.3333\n",
            "[46/80][100/469]\tLoss_D: 0.8137\tLoss_G: 2.2657\tD(x): 0.7615\tD(G(z)): 0.3603 / 0.1239\n",
            "[46/80][200/469]\tLoss_D: 0.7945\tLoss_G: 2.1443\tD(x): 0.7671\tD(G(z)): 0.3591 / 0.1373\n",
            "[46/80][300/469]\tLoss_D: 0.4457\tLoss_G: 2.2345\tD(x): 0.8586\tD(G(z)): 0.2201 / 0.1313\n",
            "[46/80][400/469]\tLoss_D: 0.5777\tLoss_G: 1.9961\tD(x): 0.9165\tD(G(z)): 0.3603 / 0.1613\n",
            "[47/80][0/469]\tLoss_D: 0.6714\tLoss_G: 2.4574\tD(x): 0.8270\tD(G(z)): 0.3450 / 0.1002\n",
            "[47/80][100/469]\tLoss_D: 1.0764\tLoss_G: 1.9334\tD(x): 0.6235\tD(G(z)): 0.3850 / 0.1750\n",
            "[47/80][200/469]\tLoss_D: 0.5946\tLoss_G: 1.6512\tD(x): 0.8703\tD(G(z)): 0.3142 / 0.2286\n",
            "[47/80][300/469]\tLoss_D: 0.3977\tLoss_G: 2.0863\tD(x): 0.9018\tD(G(z)): 0.2374 / 0.1473\n",
            "[47/80][400/469]\tLoss_D: 0.3102\tLoss_G: 2.7851\tD(x): 0.8664\tD(G(z)): 0.1328 / 0.0841\n",
            "[48/80][0/469]\tLoss_D: 0.6967\tLoss_G: 2.7501\tD(x): 0.8839\tD(G(z)): 0.3790 / 0.0798\n",
            "[48/80][100/469]\tLoss_D: 0.8894\tLoss_G: 1.4756\tD(x): 0.5843\tD(G(z)): 0.2195 / 0.2822\n",
            "[48/80][200/469]\tLoss_D: 0.3601\tLoss_G: 2.5271\tD(x): 0.9316\tD(G(z)): 0.2241 / 0.1023\n",
            "[48/80][300/469]\tLoss_D: 1.1682\tLoss_G: 1.3917\tD(x): 0.5554\tD(G(z)): 0.3602 / 0.2860\n",
            "[48/80][400/469]\tLoss_D: 0.9337\tLoss_G: 2.3216\tD(x): 0.8259\tD(G(z)): 0.4579 / 0.1423\n",
            "[49/80][0/469]\tLoss_D: 1.0263\tLoss_G: 1.5526\tD(x): 0.5742\tD(G(z)): 0.2515 / 0.2491\n",
            "[49/80][100/469]\tLoss_D: 0.6969\tLoss_G: 2.0625\tD(x): 0.7833\tD(G(z)): 0.3116 / 0.1616\n",
            "[49/80][200/469]\tLoss_D: 0.6818\tLoss_G: 1.9431\tD(x): 0.9034\tD(G(z)): 0.3806 / 0.1788\n",
            "[49/80][300/469]\tLoss_D: 0.6851\tLoss_G: 2.3718\tD(x): 0.8397\tD(G(z)): 0.3474 / 0.1285\n",
            "[49/80][400/469]\tLoss_D: 0.8565\tLoss_G: 0.8392\tD(x): 0.5753\tD(G(z)): 0.1915 / 0.4758\n",
            "[50/80][0/469]\tLoss_D: 0.9701\tLoss_G: 1.7520\tD(x): 0.6559\tD(G(z)): 0.3343 / 0.2197\n",
            "[50/80][100/469]\tLoss_D: 0.6499\tLoss_G: 2.2305\tD(x): 0.8870\tD(G(z)): 0.3760 / 0.1283\n",
            "[50/80][200/469]\tLoss_D: 1.3126\tLoss_G: 1.0707\tD(x): 0.4182\tD(G(z)): 0.2464 / 0.3844\n",
            "[50/80][300/469]\tLoss_D: 0.8637\tLoss_G: 2.9292\tD(x): 0.9610\tD(G(z)): 0.5057 / 0.0782\n",
            "[50/80][400/469]\tLoss_D: 1.0380\tLoss_G: 1.6152\tD(x): 0.5990\tD(G(z)): 0.3509 / 0.2390\n",
            "[51/80][0/469]\tLoss_D: 0.6619\tLoss_G: 2.1702\tD(x): 0.7366\tD(G(z)): 0.2565 / 0.1450\n",
            "[51/80][100/469]\tLoss_D: 1.0439\tLoss_G: 2.5741\tD(x): 0.6688\tD(G(z)): 0.3813 / 0.1021\n",
            "[51/80][200/469]\tLoss_D: 0.6560\tLoss_G: 1.3345\tD(x): 0.7490\tD(G(z)): 0.2514 / 0.3068\n",
            "[51/80][300/469]\tLoss_D: 0.6552\tLoss_G: 2.0700\tD(x): 0.8140\tD(G(z)): 0.3179 / 0.1617\n",
            "[51/80][400/469]\tLoss_D: 1.0888\tLoss_G: 0.6486\tD(x): 0.4729\tD(G(z)): 0.1956 / 0.5630\n",
            "[52/80][0/469]\tLoss_D: 1.0930\tLoss_G: 1.5365\tD(x): 0.5905\tD(G(z)): 0.3562 / 0.2637\n",
            "[52/80][100/469]\tLoss_D: 0.9983\tLoss_G: 1.4794\tD(x): 0.6699\tD(G(z)): 0.3849 / 0.2626\n",
            "[52/80][200/469]\tLoss_D: 0.8661\tLoss_G: 1.7799\tD(x): 0.5809\tD(G(z)): 0.2084 / 0.2012\n",
            "[52/80][300/469]\tLoss_D: 0.6478\tLoss_G: 1.9756\tD(x): 0.7506\tD(G(z)): 0.2567 / 0.1750\n",
            "[52/80][400/469]\tLoss_D: 0.7048\tLoss_G: 1.6281\tD(x): 0.6506\tD(G(z)): 0.2000 / 0.2268\n",
            "[53/80][0/469]\tLoss_D: 0.4132\tLoss_G: 2.1788\tD(x): 0.9664\tD(G(z)): 0.2937 / 0.1319\n",
            "[53/80][100/469]\tLoss_D: 0.6410\tLoss_G: 2.0152\tD(x): 0.8270\tD(G(z)): 0.3247 / 0.1557\n",
            "[53/80][200/469]\tLoss_D: 0.7019\tLoss_G: 1.4370\tD(x): 0.7255\tD(G(z)): 0.2637 / 0.2795\n",
            "[53/80][300/469]\tLoss_D: 0.6295\tLoss_G: 2.7626\tD(x): 0.9570\tD(G(z)): 0.3875 / 0.0797\n",
            "[53/80][400/469]\tLoss_D: 0.7731\tLoss_G: 1.3444\tD(x): 0.6309\tD(G(z)): 0.2061 / 0.3055\n",
            "[54/80][0/469]\tLoss_D: 1.1917\tLoss_G: 3.0389\tD(x): 0.8449\tD(G(z)): 0.5693 / 0.0691\n",
            "[54/80][100/469]\tLoss_D: 0.4524\tLoss_G: 1.6935\tD(x): 0.7833\tD(G(z)): 0.1569 / 0.2130\n",
            "[54/80][200/469]\tLoss_D: 0.4066\tLoss_G: 2.2615\tD(x): 0.8417\tD(G(z)): 0.1842 / 0.1299\n",
            "[54/80][300/469]\tLoss_D: 0.8787\tLoss_G: 1.5173\tD(x): 0.5418\tD(G(z)): 0.1545 / 0.2636\n",
            "[54/80][400/469]\tLoss_D: 0.8188\tLoss_G: 1.7850\tD(x): 0.6703\tD(G(z)): 0.2647 / 0.2059\n",
            "[55/80][0/469]\tLoss_D: 0.4697\tLoss_G: 2.4094\tD(x): 0.9412\tD(G(z)): 0.2984 / 0.1105\n",
            "[55/80][100/469]\tLoss_D: 0.9674\tLoss_G: 2.2575\tD(x): 0.6824\tD(G(z)): 0.3681 / 0.1254\n",
            "[55/80][200/469]\tLoss_D: 0.9107\tLoss_G: 1.5028\tD(x): 0.5718\tD(G(z)): 0.2146 / 0.2703\n",
            "[55/80][300/469]\tLoss_D: 1.3179\tLoss_G: 1.4613\tD(x): 0.3785\tD(G(z)): 0.0987 / 0.2825\n",
            "[55/80][400/469]\tLoss_D: 0.8614\tLoss_G: 0.5715\tD(x): 0.5691\tD(G(z)): 0.1609 / 0.6092\n",
            "[56/80][0/469]\tLoss_D: 0.2768\tLoss_G: 3.1764\tD(x): 0.9585\tD(G(z)): 0.1799 / 0.0546\n",
            "[56/80][100/469]\tLoss_D: 0.6639\tLoss_G: 1.4466\tD(x): 0.7357\tD(G(z)): 0.2456 / 0.2766\n",
            "[56/80][200/469]\tLoss_D: 0.8522\tLoss_G: 1.4680\tD(x): 0.6469\tD(G(z)): 0.2610 / 0.2916\n",
            "[56/80][300/469]\tLoss_D: 0.7066\tLoss_G: 1.8606\tD(x): 0.6490\tD(G(z)): 0.1953 / 0.1931\n",
            "[56/80][400/469]\tLoss_D: 0.9423\tLoss_G: 2.7363\tD(x): 0.7989\tD(G(z)): 0.4694 / 0.0791\n",
            "[57/80][0/469]\tLoss_D: 0.6248\tLoss_G: 2.0214\tD(x): 0.8405\tD(G(z)): 0.3048 / 0.1682\n",
            "[57/80][100/469]\tLoss_D: 0.7168\tLoss_G: 1.7538\tD(x): 0.7180\tD(G(z)): 0.2762 / 0.2031\n",
            "[57/80][200/469]\tLoss_D: 0.6423\tLoss_G: 2.6158\tD(x): 0.7076\tD(G(z)): 0.2115 / 0.0949\n",
            "[57/80][300/469]\tLoss_D: 1.0957\tLoss_G: 2.0971\tD(x): 0.6868\tD(G(z)): 0.4569 / 0.1509\n",
            "[57/80][400/469]\tLoss_D: 1.1576\tLoss_G: 3.0199\tD(x): 0.7430\tD(G(z)): 0.4870 / 0.0622\n",
            "[58/80][0/469]\tLoss_D: 0.8472\tLoss_G: 1.6428\tD(x): 0.5150\tD(G(z)): 0.0852 / 0.2453\n",
            "[58/80][100/469]\tLoss_D: 0.9810\tLoss_G: 2.4824\tD(x): 0.8548\tD(G(z)): 0.4816 / 0.1145\n",
            "[58/80][200/469]\tLoss_D: 0.5085\tLoss_G: 1.8973\tD(x): 0.8471\tD(G(z)): 0.2428 / 0.1830\n",
            "[58/80][300/469]\tLoss_D: 0.7350\tLoss_G: 1.6965\tD(x): 0.8051\tD(G(z)): 0.3529 / 0.2149\n",
            "[58/80][400/469]\tLoss_D: 0.5453\tLoss_G: 2.4741\tD(x): 0.7616\tD(G(z)): 0.1959 / 0.1123\n",
            "[59/80][0/469]\tLoss_D: 0.8811\tLoss_G: 1.5010\tD(x): 0.5204\tD(G(z)): 0.1280 / 0.2664\n",
            "[59/80][100/469]\tLoss_D: 0.6697\tLoss_G: 2.8126\tD(x): 0.8401\tD(G(z)): 0.3350 / 0.0825\n",
            "[59/80][200/469]\tLoss_D: 0.5051\tLoss_G: 2.0923\tD(x): 0.7284\tD(G(z)): 0.1294 / 0.1599\n",
            "[59/80][300/469]\tLoss_D: 1.0566\tLoss_G: 1.7621\tD(x): 0.5902\tD(G(z)): 0.3127 / 0.2044\n",
            "[59/80][400/469]\tLoss_D: 0.7837\tLoss_G: 1.7673\tD(x): 0.6779\tD(G(z)): 0.2561 / 0.2015\n",
            "[60/80][0/469]\tLoss_D: 0.4274\tLoss_G: 2.0493\tD(x): 0.8059\tD(G(z)): 0.1633 / 0.1740\n",
            "[60/80][100/469]\tLoss_D: 1.0851\tLoss_G: 2.9142\tD(x): 0.8160\tD(G(z)): 0.4890 / 0.0777\n",
            "[60/80][200/469]\tLoss_D: 0.6603\tLoss_G: 1.8143\tD(x): 0.7057\tD(G(z)): 0.2211 / 0.1922\n",
            "[60/80][300/469]\tLoss_D: 1.2813\tLoss_G: 2.5904\tD(x): 0.7333\tD(G(z)): 0.5542 / 0.0973\n",
            "[60/80][400/469]\tLoss_D: 0.6193\tLoss_G: 2.2515\tD(x): 0.9167\tD(G(z)): 0.3623 / 0.1382\n",
            "[61/80][0/469]\tLoss_D: 0.6149\tLoss_G: 2.6221\tD(x): 0.8228\tD(G(z)): 0.2798 / 0.1051\n",
            "[61/80][100/469]\tLoss_D: 1.0987\tLoss_G: 1.4589\tD(x): 0.6236\tD(G(z)): 0.4032 / 0.2638\n",
            "[61/80][200/469]\tLoss_D: 0.3789\tLoss_G: 2.7524\tD(x): 0.8090\tD(G(z)): 0.1191 / 0.0817\n",
            "[61/80][300/469]\tLoss_D: 0.7742\tLoss_G: 1.7773\tD(x): 0.5492\tD(G(z)): 0.0865 / 0.2169\n",
            "[61/80][400/469]\tLoss_D: 0.5515\tLoss_G: 2.6046\tD(x): 0.8936\tD(G(z)): 0.2965 / 0.0904\n",
            "[62/80][0/469]\tLoss_D: 0.5578\tLoss_G: 1.3275\tD(x): 0.7386\tD(G(z)): 0.1858 / 0.3030\n",
            "[62/80][100/469]\tLoss_D: 0.8585\tLoss_G: 2.0082\tD(x): 0.5560\tD(G(z)): 0.1118 / 0.1760\n",
            "[62/80][200/469]\tLoss_D: 1.0719\tLoss_G: 1.4178\tD(x): 0.5523\tD(G(z)): 0.2796 / 0.2856\n",
            "[62/80][300/469]\tLoss_D: 0.4074\tLoss_G: 2.2799\tD(x): 0.8245\tD(G(z)): 0.1669 / 0.1314\n",
            "[62/80][400/469]\tLoss_D: 0.6123\tLoss_G: 1.3486\tD(x): 0.6972\tD(G(z)): 0.1750 / 0.3178\n",
            "[63/80][0/469]\tLoss_D: 0.4544\tLoss_G: 2.8282\tD(x): 0.8994\tD(G(z)): 0.2337 / 0.0999\n",
            "[63/80][100/469]\tLoss_D: 0.6315\tLoss_G: 2.3857\tD(x): 0.6432\tD(G(z)): 0.1144 / 0.1211\n",
            "[63/80][200/469]\tLoss_D: 0.6511\tLoss_G: 1.6551\tD(x): 0.6866\tD(G(z)): 0.1952 / 0.2206\n",
            "[63/80][300/469]\tLoss_D: 1.1481\tLoss_G: 1.9009\tD(x): 0.7412\tD(G(z)): 0.4676 / 0.2076\n",
            "[63/80][400/469]\tLoss_D: 0.7548\tLoss_G: 2.0945\tD(x): 0.8736\tD(G(z)): 0.4242 / 0.1410\n",
            "[64/80][0/469]\tLoss_D: 1.3210\tLoss_G: 1.4848\tD(x): 0.4340\tD(G(z)): 0.2076 / 0.2747\n",
            "[64/80][100/469]\tLoss_D: 0.5115\tLoss_G: 2.7291\tD(x): 0.7419\tD(G(z)): 0.1413 / 0.0877\n",
            "[64/80][200/469]\tLoss_D: 0.3650\tLoss_G: 2.4034\tD(x): 0.9210\tD(G(z)): 0.2210 / 0.1214\n",
            "[64/80][300/469]\tLoss_D: 0.7870\tLoss_G: 2.7300\tD(x): 0.8913\tD(G(z)): 0.4350 / 0.0830\n",
            "[64/80][400/469]\tLoss_D: 1.7622\tLoss_G: 4.1779\tD(x): 0.8028\tD(G(z)): 0.7196 / 0.0332\n",
            "[65/80][0/469]\tLoss_D: 0.4960\tLoss_G: 1.7417\tD(x): 0.7715\tD(G(z)): 0.1671 / 0.2166\n",
            "[65/80][100/469]\tLoss_D: 0.4781\tLoss_G: 1.9733\tD(x): 0.8093\tD(G(z)): 0.1847 / 0.1738\n",
            "[65/80][200/469]\tLoss_D: 0.7829\tLoss_G: 1.5266\tD(x): 0.5784\tD(G(z)): 0.1378 / 0.3054\n",
            "[65/80][300/469]\tLoss_D: 0.4846\tLoss_G: 2.2530\tD(x): 0.7380\tD(G(z)): 0.1343 / 0.1312\n",
            "[65/80][400/469]\tLoss_D: 1.0865\tLoss_G: 2.3861\tD(x): 0.6850\tD(G(z)): 0.3950 / 0.1136\n",
            "[66/80][0/469]\tLoss_D: 0.8363\tLoss_G: 2.6714\tD(x): 0.8598\tD(G(z)): 0.4212 / 0.1034\n",
            "[66/80][100/469]\tLoss_D: 1.0033\tLoss_G: 3.1922\tD(x): 0.9350\tD(G(z)): 0.5348 / 0.0708\n",
            "[66/80][200/469]\tLoss_D: 0.4508\tLoss_G: 3.2282\tD(x): 0.8754\tD(G(z)): 0.2372 / 0.0723\n",
            "[66/80][300/469]\tLoss_D: 0.8041\tLoss_G: 1.9667\tD(x): 0.7078\tD(G(z)): 0.3075 / 0.1645\n",
            "[66/80][400/469]\tLoss_D: 1.2272\tLoss_G: 1.6351\tD(x): 0.4117\tD(G(z)): 0.0911 / 0.2443\n",
            "[67/80][0/469]\tLoss_D: 0.4442\tLoss_G: 2.8204\tD(x): 0.9492\tD(G(z)): 0.2979 / 0.0837\n",
            "[67/80][100/469]\tLoss_D: 0.6852\tLoss_G: 3.2795\tD(x): 0.7695\tD(G(z)): 0.2354 / 0.0588\n",
            "[67/80][200/469]\tLoss_D: 0.5966\tLoss_G: 1.0339\tD(x): 0.7073\tD(G(z)): 0.1696 / 0.4036\n",
            "[67/80][300/469]\tLoss_D: 0.7700\tLoss_G: 2.2159\tD(x): 0.7979\tD(G(z)): 0.3296 / 0.1399\n",
            "[67/80][400/469]\tLoss_D: 0.5424\tLoss_G: 2.5536\tD(x): 0.8150\tD(G(z)): 0.2321 / 0.0994\n",
            "[68/80][0/469]\tLoss_D: 0.7874\tLoss_G: 3.2622\tD(x): 0.8917\tD(G(z)): 0.4141 / 0.0657\n",
            "[68/80][100/469]\tLoss_D: 1.3213\tLoss_G: 2.8462\tD(x): 0.8485\tD(G(z)): 0.5646 / 0.0819\n",
            "[68/80][200/469]\tLoss_D: 0.6109\tLoss_G: 2.7308\tD(x): 0.8650\tD(G(z)): 0.3146 / 0.0977\n",
            "[68/80][300/469]\tLoss_D: 0.4678\tLoss_G: 2.5927\tD(x): 0.8375\tD(G(z)): 0.2118 / 0.0995\n",
            "[68/80][400/469]\tLoss_D: 0.7474\tLoss_G: 0.9725\tD(x): 0.6139\tD(G(z)): 0.1494 / 0.4354\n",
            "[69/80][0/469]\tLoss_D: 1.4662\tLoss_G: 3.8711\tD(x): 0.8722\tD(G(z)): 0.6393 / 0.0513\n",
            "[69/80][100/469]\tLoss_D: 0.8621\tLoss_G: 2.1526\tD(x): 0.7165\tD(G(z)): 0.3201 / 0.1576\n",
            "[69/80][200/469]\tLoss_D: 0.5452\tLoss_G: 2.2267\tD(x): 0.7539\tD(G(z)): 0.1827 / 0.1368\n",
            "[69/80][300/469]\tLoss_D: 0.6216\tLoss_G: 2.6646\tD(x): 0.9038\tD(G(z)): 0.3627 / 0.0949\n",
            "[69/80][400/469]\tLoss_D: 1.0001\tLoss_G: 1.3928\tD(x): 0.5069\tD(G(z)): 0.1181 / 0.3179\n",
            "[70/80][0/469]\tLoss_D: 0.2727\tLoss_G: 2.6775\tD(x): 0.8490\tD(G(z)): 0.0856 / 0.0967\n",
            "[70/80][100/469]\tLoss_D: 0.5115\tLoss_G: 2.5410\tD(x): 0.7770\tD(G(z)): 0.1818 / 0.1103\n",
            "[70/80][200/469]\tLoss_D: 0.3032\tLoss_G: 2.7662\tD(x): 0.8178\tD(G(z)): 0.0660 / 0.0910\n",
            "[70/80][300/469]\tLoss_D: 0.7720\tLoss_G: 2.8544\tD(x): 0.7106\tD(G(z)): 0.2845 / 0.0777\n",
            "[70/80][400/469]\tLoss_D: 0.6749\tLoss_G: 2.0098\tD(x): 0.7260\tD(G(z)): 0.2367 / 0.1778\n",
            "[71/80][0/469]\tLoss_D: 0.6132\tLoss_G: 2.9506\tD(x): 0.9465\tD(G(z)): 0.3845 / 0.0666\n",
            "[71/80][100/469]\tLoss_D: 1.0261\tLoss_G: 2.4940\tD(x): 0.7294\tD(G(z)): 0.3868 / 0.1258\n",
            "[71/80][200/469]\tLoss_D: 0.5746\tLoss_G: 3.5875\tD(x): 0.9525\tD(G(z)): 0.3690 / 0.0423\n",
            "[71/80][300/469]\tLoss_D: 0.4872\tLoss_G: 2.2650\tD(x): 0.7991\tD(G(z)): 0.1942 / 0.1361\n",
            "[71/80][400/469]\tLoss_D: 0.3866\tLoss_G: 2.4282\tD(x): 0.7506\tD(G(z)): 0.0689 / 0.1224\n",
            "[72/80][0/469]\tLoss_D: 1.2681\tLoss_G: 2.7888\tD(x): 0.8410\tD(G(z)): 0.5542 / 0.1021\n",
            "[72/80][100/469]\tLoss_D: 0.3176\tLoss_G: 2.6456\tD(x): 0.9354\tD(G(z)): 0.1979 / 0.0983\n",
            "[72/80][200/469]\tLoss_D: 1.3013\tLoss_G: 1.0922\tD(x): 0.3640\tD(G(z)): 0.1187 / 0.4238\n",
            "[72/80][300/469]\tLoss_D: 0.5662\tLoss_G: 1.9843\tD(x): 0.7343\tD(G(z)): 0.1369 / 0.1710\n",
            "[72/80][400/469]\tLoss_D: 0.6243\tLoss_G: 2.1724\tD(x): 0.7603\tD(G(z)): 0.2442 / 0.1510\n",
            "[73/80][0/469]\tLoss_D: 0.4035\tLoss_G: 2.4697\tD(x): 0.9181\tD(G(z)): 0.2477 / 0.1128\n",
            "[73/80][100/469]\tLoss_D: 0.4070\tLoss_G: 2.4576\tD(x): 0.8563\tD(G(z)): 0.1872 / 0.1116\n",
            "[73/80][200/469]\tLoss_D: 0.5190\tLoss_G: 2.1851\tD(x): 0.7271\tD(G(z)): 0.1366 / 0.1489\n",
            "[73/80][300/469]\tLoss_D: 0.3996\tLoss_G: 3.2975\tD(x): 0.9371\tD(G(z)): 0.2336 / 0.0637\n",
            "[73/80][400/469]\tLoss_D: 0.3260\tLoss_G: 2.6605\tD(x): 0.8226\tD(G(z)): 0.1033 / 0.0913\n",
            "[74/80][0/469]\tLoss_D: 0.4148\tLoss_G: 3.0353\tD(x): 0.9072\tD(G(z)): 0.2256 / 0.0653\n",
            "[74/80][100/469]\tLoss_D: 0.4532\tLoss_G: 2.7401\tD(x): 0.7276\tD(G(z)): 0.0826 / 0.0881\n",
            "[74/80][200/469]\tLoss_D: 0.9492\tLoss_G: 0.9029\tD(x): 0.4762\tD(G(z)): 0.1095 / 0.4624\n",
            "[74/80][300/469]\tLoss_D: 0.6445\tLoss_G: 3.3220\tD(x): 0.7938\tD(G(z)): 0.2596 / 0.0522\n",
            "[74/80][400/469]\tLoss_D: 0.4648\tLoss_G: 3.1269\tD(x): 0.9641\tD(G(z)): 0.3149 / 0.0588\n",
            "[75/80][0/469]\tLoss_D: 0.6300\tLoss_G: 2.2955\tD(x): 0.7799\tD(G(z)): 0.2615 / 0.1329\n",
            "[75/80][100/469]\tLoss_D: 0.7138\tLoss_G: 2.1283\tD(x): 0.5979\tD(G(z)): 0.0726 / 0.1502\n",
            "[75/80][200/469]\tLoss_D: 0.8648\tLoss_G: 2.9737\tD(x): 0.7001\tD(G(z)): 0.2679 / 0.0794\n",
            "[75/80][300/469]\tLoss_D: 0.2736\tLoss_G: 2.5567\tD(x): 0.8961\tD(G(z)): 0.1314 / 0.0976\n",
            "[75/80][400/469]\tLoss_D: 0.4518\tLoss_G: 1.9623\tD(x): 0.8420\tD(G(z)): 0.2180 / 0.1718\n",
            "[76/80][0/469]\tLoss_D: 0.3972\tLoss_G: 2.5468\tD(x): 0.8945\tD(G(z)): 0.2157 / 0.1113\n",
            "[76/80][100/469]\tLoss_D: 0.6129\tLoss_G: 2.8546\tD(x): 0.8773\tD(G(z)): 0.3305 / 0.0801\n",
            "[76/80][200/469]\tLoss_D: 0.6500\tLoss_G: 2.1197\tD(x): 0.6801\tD(G(z)): 0.1465 / 0.1707\n",
            "[76/80][300/469]\tLoss_D: 0.5709\tLoss_G: 1.4273\tD(x): 0.7484\tD(G(z)): 0.1796 / 0.3086\n",
            "[76/80][400/469]\tLoss_D: 0.2948\tLoss_G: 3.5970\tD(x): 0.8202\tD(G(z)): 0.0648 / 0.0499\n",
            "[77/80][0/469]\tLoss_D: 0.5029\tLoss_G: 2.3572\tD(x): 0.9538\tD(G(z)): 0.3296 / 0.1235\n",
            "[77/80][100/469]\tLoss_D: 1.1741\tLoss_G: 3.1420\tD(x): 0.9510\tD(G(z)): 0.5697 / 0.0716\n",
            "[77/80][200/469]\tLoss_D: 0.5968\tLoss_G: 2.2798\tD(x): 0.7267\tD(G(z)): 0.1634 / 0.1506\n",
            "[77/80][300/469]\tLoss_D: 0.2693\tLoss_G: 2.7636\tD(x): 0.9354\tD(G(z)): 0.1568 / 0.0868\n",
            "[77/80][400/469]\tLoss_D: 0.8767\tLoss_G: 2.6493\tD(x): 0.8839\tD(G(z)): 0.4019 / 0.1123\n",
            "[78/80][0/469]\tLoss_D: 0.5063\tLoss_G: 2.4303\tD(x): 0.8023\tD(G(z)): 0.2075 / 0.1298\n",
            "[78/80][100/469]\tLoss_D: 0.9489\tLoss_G: 1.9391\tD(x): 0.6699\tD(G(z)): 0.2661 / 0.1941\n",
            "[78/80][200/469]\tLoss_D: 0.6112\tLoss_G: 1.9748\tD(x): 0.6865\tD(G(z)): 0.1433 / 0.1864\n",
            "[78/80][300/469]\tLoss_D: 0.6093\tLoss_G: 2.3365\tD(x): 0.7465\tD(G(z)): 0.2053 / 0.1274\n",
            "[78/80][400/469]\tLoss_D: 0.6158\tLoss_G: 2.2317\tD(x): 0.7898\tD(G(z)): 0.2489 / 0.1516\n",
            "[79/80][0/469]\tLoss_D: 0.3318\tLoss_G: 2.9569\tD(x): 0.8928\tD(G(z)): 0.1695 / 0.0726\n",
            "[79/80][100/469]\tLoss_D: 0.3980\tLoss_G: 2.6444\tD(x): 0.8271\tD(G(z)): 0.1565 / 0.1047\n",
            "[79/80][200/469]\tLoss_D: 0.7546\tLoss_G: 2.5306\tD(x): 0.9395\tD(G(z)): 0.4428 / 0.1170\n",
            "[79/80][300/469]\tLoss_D: 0.5429\tLoss_G: 1.5776\tD(x): 0.7875\tD(G(z)): 0.2134 / 0.2534\n",
            "[79/80][400/469]\tLoss_D: 0.4251\tLoss_G: 2.3868\tD(x): 0.8438\tD(G(z)): 0.1980 / 0.1264\n"
          ]
        }
      ],
      "source": [
        "d_optimizer = optim.Adam(d_model.parameters(), lr=LR, betas=(BETA1, 0.999))\n",
        "g_optimizer = optim.Adam(g_model.parameters(), lr=LR, betas=(BETA1, 0.999))\n",
        "\n",
        "img_list, G_losses, D_losses = trainGAN(EPOCHS, trainloader, g_model, d_model, g_optimizer, d_optimizer, d_iter=1)"
      ]
    },
    {
      "cell_type": "code",
      "execution_count": 16,
      "id": "3887f989",
      "metadata": {
        "colab": {
          "base_uri": "https://localhost:8080/",
          "height": 350
        },
        "id": "3887f989",
        "outputId": "e5bfe35b-b92a-4252-c3f2-deaa5fc52601",
        "vscode": {
          "languageId": "python"
        }
      },
      "outputs": [
        {
          "data": {
            "image/png": "[encoded data removed]",
            "text/plain": [
              "<Figure size 720x360 with 1 Axes>"
            ]
          },
          "metadata": {
            "needs_background": "light"
          },
          "output_type": "display_data"
        }
      ],
      "source": [
        "plt.figure(figsize=(10,5))\n",
        "plt.title(\"Generator and Discriminator Loss During Training\")\n",
        "plt.plot(G_losses,label=\"G\")\n",
        "plt.plot(D_losses,label=\"D\")\n",
        "plt.xlabel(\"iterations\")\n",
        "plt.ylabel(\"Loss\")\n",
        "plt.legend()\n",
        "plt.savefig('torch_train_loss_plot.png')\n",
        "plt.show()"
      ]
    },
    {
      "cell_type": "markdown",
      "id": "fzqbpiDCp7Bb",
      "metadata": {
        "id": "fzqbpiDCp7Bb"
      },
      "source": [
        "### Save & Load models"
      ]
    },
    {
      "cell_type": "code",
      "execution_count": null,
      "id": "10a975df",
      "metadata": {
        "colab": {
          "base_uri": "https://localhost:8080/",
          "height": 17
        },
        "id": "10a975df",
        "outputId": "45045459-8fd2-4d90-87d2-243904831d45",
        "vscode": {
          "languageId": "python"
        }
      },
      "outputs": [],
      "source": [
        "# Save trained models\n",
        "\n",
        "torch.save(g_model.state_dict(), 'torch_generator.model')\n",
        "torch.save(d_model.state_dict(), 'torch_discriminator.model')\n",
        "\n",
        "\n",
        "\n",
        "# from google.colab import files\n",
        "\n",
        "# files.download('torch_generator.model')\n",
        "# files.download('torch_discriminator.model')"
      ]
    },
    {
      "cell_type": "code",
      "execution_count": 20,
      "id": "28eb44a4",
      "metadata": {
        "id": "28eb44a4",
        "vscode": {
          "languageId": "python"
        }
      },
      "outputs": [],
      "source": [
        "# Load trained models\n",
        "def load_parameters(model, path):\n",
        "    model_state = model.state_dict()\n",
        "    loaded_state = torch.load(path)\n",
        "    for name, param in loaded_state.items():\n",
        "        origname = name\n",
        "        if name not in model_state:\n",
        "            name = name.replace(\"module.\", \"\")\n",
        "            if name not in model_state:\n",
        "                print(\"%s is not in the model.\"%origname)\n",
        "                continue\n",
        "        if model_state[name].size() != loaded_state[origname].size():\n",
        "            print(\"Wrong parameter length: %s, model: %s, loaded: %s\"%(origname, model_state[name].size(), loaded_state[origname].size()))\n",
        "            continue\n",
        "        model_state[name].copy_(param)"
      ]
    },
    {
      "cell_type": "code",
      "execution_count": 21,
      "id": "41762e32",
      "metadata": {
        "id": "41762e32",
        "vscode": {
          "languageId": "python"
        }
      },
      "outputs": [],
      "source": [
        "g_model_2 = Generator(noise_dim=latent_dim)\n",
        "d_model_2 = Discriminator()\n",
        "\n",
        "load_parameters(g_model_2, './torch_generator.model')\n",
        "load_parameters(d_model_2, './torch_discriminator.model')"
      ]
    },
    {
      "cell_type": "markdown",
      "id": "17c0ce63",
      "metadata": {
        "id": "17c0ce63"
      },
      "source": [
        "## Test"
      ]
    },
    {
      "cell_type": "code",
      "execution_count": 22,
      "id": "e0922fde",
      "metadata": {
        "colab": {
          "base_uri": "https://localhost:8080/",
          "height": 445
        },
        "id": "e0922fde",
        "outputId": "14062697-9ef2-4888-ca6e-3a37d1aa3811",
        "vscode": {
          "languageId": "python"
        }
      },
      "outputs": [
        {
          "name": "stdout",
          "output_type": "stream",
          "text": [
            "(10, 32, 32, 3)\n"
          ]
        },
        {
          "data": {
            "image/png": "[encoded data removed]",
            "text/plain": [
              "<Figure size 1080x576 with 10 Axes>"
            ]
          },
          "metadata": {},
          "output_type": "display_data"
        }
      ],
      "source": [
        "noise = torch.randn(10, latent_dim, 1, 1, device=device)\n",
        "g_model_2.to(device)\n",
        "g_model_2.eval()\n",
        "\n",
        "generated_images = g_model_2(noise).detach().cpu().numpy()\n",
        "generated_images = np.transpose(generated_images, (0,2,3,1))\n",
        "generated_images = (generated_images+1)/2 # convert the values from [-1,1] to [0,1] for plots\n",
        "print(generated_images.shape)\n",
        "\n",
        "plt.rcParams['figure.figsize'] = (15.0, 8.0)\n",
        "\n",
        "rows = 2\n",
        "columns = 5\n",
        "\n",
        "for i in range(10) : \n",
        "    image_index = i+1      # image index \n",
        "    title = \"Sample {}\".format(image_index) # image title\n",
        "    plt.subplot(rows, columns, image_index) # subplot \n",
        "    plt.title(title)   # title \n",
        "    plt.axis('off')\n",
        "    plt.xticks([])  # x = None \n",
        "    plt.yticks([])  # y = None\n",
        "    plt.imshow(generated_images[i])  \n",
        "plt.show()"
      ]
    }
  ],
  "metadata": {
    "accelerator": "GPU",
    "colab": {
      "provenance": []
    },
    "gpuClass": "standard",
    "kernelspec": {
      "display_name": "MathDLstudy",
      "language": "python",
      "name": "mathdl"
    },
    "vscode": {
      "interpreter": {
        "hash": "9e59e1ea385b879f446154c61f2f6127b4872fff981994bd2fbd456f7f8f6770"
      }
    }
  },
  "nbformat": 4,
  "nbformat_minor": 5
}
