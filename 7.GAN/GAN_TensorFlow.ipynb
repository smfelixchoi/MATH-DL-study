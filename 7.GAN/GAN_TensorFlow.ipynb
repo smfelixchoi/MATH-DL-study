{
  "cells": [
    {
      "cell_type": "markdown",
      "id": "297e296f",
      "metadata": {
        "id": "297e296f"
      },
      "source": [
        "# DCGAN - TensorFlow using CIFAR10\n",
        "\n",
        "### 작성자: 고려대학교 수학과 석사과정 최선묵\n",
        "\n",
        "[References]  \n",
        "- [Goodfellow's GAN Paper Link](https://proceedings.neurips.cc/paper/2014/file/5ca3e9b122f61f8f06494c97b1afccf3-Paper.pdf)  \n",
        "- [DCGAN Paper Link](https://arxiv.org/pdf/1511.06434.pdf)\n"
      ]
    },
    {
      "cell_type": "code",
      "execution_count": 2,
      "id": "986b184a",
      "metadata": {
        "id": "986b184a"
      },
      "outputs": [],
      "source": [
        "import tensorflow as tf\n",
        "import numpy as np\n",
        "import matplotlib.pyplot as plt\n",
        "import matplotlib.animation as animation\n",
        "from IPython.display import HTML\n",
        "\n",
        "from tensorflow.keras.layers import Input, Dense, Conv2D, Conv2DTranspose, UpSampling2D\n",
        "from tensorflow.keras.layers import BatchNormalization, Flatten, Reshape, GlobalAveragePooling2D\n",
        "from tensorflow.keras.activations import relu, tanh\n",
        "from tensorflow.keras.models import Model\n",
        "from tensorflow.keras.losses import BinaryCrossentropy\n",
        "from tensorflow.keras.optimizers import Adam\n"
      ]
    },
    {
      "cell_type": "markdown",
      "id": "a955ffdf",
      "metadata": {
        "id": "a955ffdf"
      },
      "source": [
        "## Data Preparation"
      ]
    },
    {
      "cell_type": "code",
      "execution_count": 4,
      "id": "b0cfbe7b",
      "metadata": {
        "id": "b0cfbe7b",
        "outputId": "89c2a910-3160-4cbc-ed85-a62177e3876c",
        "colab": {
          "base_uri": "https://localhost:8080/"
        }
      },
      "outputs": [
        {
          "output_type": "stream",
          "name": "stdout",
          "text": [
            "Downloading data from https://www.cs.toronto.edu/~kriz/cifar-10-python.tar.gz\n",
            "170498071/170498071 [==============================] - 16s 0us/step\n"
          ]
        }
      ],
      "source": [
        "# Download MNIST dataset in numpy array format\n",
        "(X_train, y_train), (X_test, y_test) = tf.keras.datasets.cifar10.load_data()\n",
        "\n",
        "# Reshape it into 4-dim'l tensor and convert the type for `int` into `float`\n",
        "train_images = X_train.reshape((X_train.shape[0], 32, 32, 3)).astype('float32')\n",
        "test_images = X_test.reshape((X_test.shape[0], 32, 32, 3)).astype('float32')\n",
        "\n",
        "data_images = np.concatenate((train_images, test_images), axis=0)\n",
        "\n",
        "# Set the pixel values from -1 to 1\n",
        "data_images = (data_images/255.0) * 2 - 1\n",
        "\n",
        "# Shuffle and seperate into batches\n",
        "BATCH_SIZE = 128\n",
        "train_dataset = tf.data.Dataset.from_tensor_slices(data_images).shuffle(data_images.shape[0]).batch(BATCH_SIZE)"
      ]
    },
    {
      "cell_type": "markdown",
      "id": "280afd66",
      "metadata": {
        "id": "280afd66"
      },
      "source": [
        "## Deep Convolutional GANs\n",
        "\n",
        "### Architecture guidelines for stable Deep Convolutional GANs\n",
        "\n",
        "- Replace any pooling layers with `strided convolutions` (discriminator) and `fractional-strided convolutions` (generator).\n",
        "- Use `BatchNormaliziation` in both the generator and the discriminator.\n",
        "- Remove fully connected hidden layers for deeper architectures.\n",
        "- Use `ReLU` activation in `generator` for all layers except for the output, which uses Tanh.\n",
        "- Use `LeakyReLU` activation in the `discriminator` for all layers."
      ]
    },
    {
      "cell_type": "code",
      "execution_count": 6,
      "id": "d683a2a0",
      "metadata": {
        "id": "d683a2a0"
      },
      "outputs": [],
      "source": [
        "## Hyperparameters\n",
        "latent_dim = 100\n",
        "\n",
        "EPOCHS = 80\n",
        "LR = 2e-4\n",
        "BETA1 = 0.5 # for Adam optimizer\n"
      ]
    },
    {
      "cell_type": "markdown",
      "id": "48c88713",
      "metadata": {
        "id": "48c88713"
      },
      "source": [
        "### Weight Initialization"
      ]
    },
    {
      "cell_type": "code",
      "execution_count": 7,
      "id": "b576c1ba",
      "metadata": {
        "id": "b576c1ba"
      },
      "outputs": [],
      "source": [
        "initializer = tf.keras.initializers.RandomNormal(mean=0., stddev=0.02)"
      ]
    },
    {
      "cell_type": "markdown",
      "id": "ca86f5a3",
      "metadata": {
        "id": "ca86f5a3"
      },
      "source": [
        "### Generator"
      ]
    },
    {
      "cell_type": "code",
      "execution_count": 8,
      "id": "5cba7fc2",
      "metadata": {
        "id": "5cba7fc2"
      },
      "outputs": [],
      "source": [
        "def create_generator(input_size=latent_dim):\n",
        "    input_tensor = Input(shape=(input_size))\n",
        "\n",
        "    x = Reshape(target_shape=(2,2,25))(input_tensor)\n",
        "    x = UpSampling2D(size=(2,2), interpolation='bilinear')(x)\n",
        "    x = Conv2D(256, kernel_size=(5,5), strides=1, padding='same', \n",
        "               use_bias=False, kernel_initializer=initializer)(x)\n",
        "    x = BatchNormalization()(x)\n",
        "    x = relu(x, alpha=0.0)\n",
        "\n",
        "    x = UpSampling2D(size=(2,2), interpolation='bilinear')(x)\n",
        "    x = Conv2D(128, kernel_size=(5,5), strides=1, padding='same', \n",
        "               use_bias=False, kernel_initializer=initializer)(x)\n",
        "    x = BatchNormalization()(x)\n",
        "    x = relu(x, alpha=0.0)\n",
        "\n",
        "    x = UpSampling2D(size=(2,2), interpolation='bilinear')(x)\n",
        "    x = Conv2D(64, kernel_size=(5,5), strides=1, padding='same', \n",
        "               use_bias=False, kernel_initializer=initializer)(x)\n",
        "    x = BatchNormalization()(x)\n",
        "    x = relu(x, alpha=0.0)\n",
        "\n",
        "    x = UpSampling2D(size=(2,2), interpolation='bilinear')(x)\n",
        "    x = Conv2D(32, kernel_size=(5,5), strides=1, padding='same', \n",
        "               use_bias=False, kernel_initializer=initializer)(x)\n",
        "    x = BatchNormalization()(x)\n",
        "    x = relu(x, alpha=0.0)\n",
        "    \n",
        "    x = Conv2D(3, kernel_size=(3,3), strides=1, padding='same', \n",
        "               use_bias=True, activation='tanh', kernel_initializer=initializer)(x)\n",
        "\n",
        "    model = Model(inputs=input_tensor, outputs=x)\n",
        "    \n",
        "    return model"
      ]
    },
    {
      "cell_type": "code",
      "execution_count": 9,
      "id": "73a58c0e",
      "metadata": {
        "id": "73a58c0e",
        "outputId": "baefab1a-98ac-43e3-cec6-9cb603dd25fb",
        "colab": {
          "base_uri": "https://localhost:8080/"
        }
      },
      "outputs": [
        {
          "output_type": "stream",
          "name": "stdout",
          "text": [
            "Model: \"model\"\n",
            "_________________________________________________________________\n",
            " Layer (type)                Output Shape              Param #   \n",
            "=================================================================\n",
            " input_1 (InputLayer)        [(None, 100)]             0         \n",
            "                                                                 \n",
            " reshape (Reshape)           (None, 2, 2, 25)          0         \n",
            "                                                                 \n",
            " up_sampling2d (UpSampling2D  (None, 4, 4, 25)         0         \n",
            " )                                                               \n",
            "                                                                 \n",
            " conv2d (Conv2D)             (None, 4, 4, 256)         160000    \n",
            "                                                                 \n",
            " batch_normalization (BatchN  (None, 4, 4, 256)        1024      \n",
            " ormalization)                                                   \n",
            "                                                                 \n",
            " tf.nn.relu (TFOpLambda)     (None, 4, 4, 256)         0         \n",
            "                                                                 \n",
            " up_sampling2d_1 (UpSampling  (None, 8, 8, 256)        0         \n",
            " 2D)                                                             \n",
            "                                                                 \n",
            " conv2d_1 (Conv2D)           (None, 8, 8, 128)         819200    \n",
            "                                                                 \n",
            " batch_normalization_1 (Batc  (None, 8, 8, 128)        512       \n",
            " hNormalization)                                                 \n",
            "                                                                 \n",
            " tf.nn.relu_1 (TFOpLambda)   (None, 8, 8, 128)         0         \n",
            "                                                                 \n",
            " up_sampling2d_2 (UpSampling  (None, 16, 16, 128)      0         \n",
            " 2D)                                                             \n",
            "                                                                 \n",
            " conv2d_2 (Conv2D)           (None, 16, 16, 64)        204800    \n",
            "                                                                 \n",
            " batch_normalization_2 (Batc  (None, 16, 16, 64)       256       \n",
            " hNormalization)                                                 \n",
            "                                                                 \n",
            " tf.nn.relu_2 (TFOpLambda)   (None, 16, 16, 64)        0         \n",
            "                                                                 \n",
            " up_sampling2d_3 (UpSampling  (None, 32, 32, 64)       0         \n",
            " 2D)                                                             \n",
            "                                                                 \n",
            " conv2d_3 (Conv2D)           (None, 32, 32, 32)        51200     \n",
            "                                                                 \n",
            " batch_normalization_3 (Batc  (None, 32, 32, 32)       128       \n",
            " hNormalization)                                                 \n",
            "                                                                 \n",
            " tf.nn.relu_3 (TFOpLambda)   (None, 32, 32, 32)        0         \n",
            "                                                                 \n",
            " conv2d_4 (Conv2D)           (None, 32, 32, 3)         867       \n",
            "                                                                 \n",
            "=================================================================\n",
            "Total params: 1,237,987\n",
            "Trainable params: 1,237,027\n",
            "Non-trainable params: 960\n",
            "_________________________________________________________________\n"
          ]
        }
      ],
      "source": [
        "g_model = create_generator()\n",
        "g_model.summary()"
      ]
    },
    {
      "cell_type": "markdown",
      "id": "cb3b53bc",
      "metadata": {
        "id": "cb3b53bc"
      },
      "source": [
        "### Discriminator"
      ]
    },
    {
      "cell_type": "code",
      "execution_count": 10,
      "id": "e55c934e",
      "metadata": {
        "id": "e55c934e"
      },
      "outputs": [],
      "source": [
        "def create_discriminator(input_shape=(32,32,3)):\n",
        "\n",
        "    input_tensor = Input(shape=input_shape)\n",
        "    x = Conv2D(32, kernel_size=(3,3), strides=2, padding='same', \n",
        "               use_bias=False, kernel_initializer=initializer)(input_tensor)\n",
        "    x = BatchNormalization()(x)\n",
        "    x = relu(x, alpha=0.2)\n",
        "\n",
        "    x = Conv2D(64, kernel_size=(3,3), strides=2, padding='same', \n",
        "               use_bias=False, kernel_initializer=initializer)(x)\n",
        "    x = BatchNormalization()(x)\n",
        "    x = relu(x, alpha=0.2)\n",
        "\n",
        "    x = Conv2D(128, kernel_size=(3,3), strides=2, padding='same', \n",
        "               use_bias=False, kernel_initializer=initializer)(x)\n",
        "    x = BatchNormalization()(x)\n",
        "    x = relu(x, alpha=0.2)\n",
        "\n",
        "    x = Conv2D(256, kernel_size=(3,3), strides=1, padding='same', \n",
        "               use_bias=False, kernel_initializer=initializer)(x)\n",
        "    x = BatchNormalization()(x)\n",
        "    x = relu(x, alpha=0.2)\n",
        "\n",
        "    x = GlobalAveragePooling2D()(x)\n",
        "\n",
        "    x = Dense(units=64, use_bias=False, kernel_initializer=initializer)(x)\n",
        "    x = BatchNormalization()(x)\n",
        "    x = relu(x, alpha=0.2)\n",
        "    x = Dense(units=1, use_bias=True, activation='sigmoid', kernel_initializer=initializer)(x)\n",
        "\n",
        "    model = Model(inputs=input_tensor, outputs=x)\n",
        "\n",
        "    return model\n",
        "    \n"
      ]
    },
    {
      "cell_type": "code",
      "execution_count": 11,
      "id": "9be4b681",
      "metadata": {
        "id": "9be4b681",
        "outputId": "7d045492-8d64-41d2-ab95-8cf5baef5ab0",
        "colab": {
          "base_uri": "https://localhost:8080/"
        }
      },
      "outputs": [
        {
          "output_type": "stream",
          "name": "stdout",
          "text": [
            "Model: \"model_1\"\n",
            "_________________________________________________________________\n",
            " Layer (type)                Output Shape              Param #   \n",
            "=================================================================\n",
            " input_2 (InputLayer)        [(None, 32, 32, 3)]       0         \n",
            "                                                                 \n",
            " conv2d_5 (Conv2D)           (None, 16, 16, 32)        864       \n",
            "                                                                 \n",
            " batch_normalization_4 (Batc  (None, 16, 16, 32)       128       \n",
            " hNormalization)                                                 \n",
            "                                                                 \n",
            " tf.nn.leaky_relu (TFOpLambd  (None, 16, 16, 32)       0         \n",
            " a)                                                              \n",
            "                                                                 \n",
            " conv2d_6 (Conv2D)           (None, 8, 8, 64)          18432     \n",
            "                                                                 \n",
            " batch_normalization_5 (Batc  (None, 8, 8, 64)         256       \n",
            " hNormalization)                                                 \n",
            "                                                                 \n",
            " tf.nn.leaky_relu_1 (TFOpLam  (None, 8, 8, 64)         0         \n",
            " bda)                                                            \n",
            "                                                                 \n",
            " conv2d_7 (Conv2D)           (None, 4, 4, 128)         73728     \n",
            "                                                                 \n",
            " batch_normalization_6 (Batc  (None, 4, 4, 128)        512       \n",
            " hNormalization)                                                 \n",
            "                                                                 \n",
            " tf.nn.leaky_relu_2 (TFOpLam  (None, 4, 4, 128)        0         \n",
            " bda)                                                            \n",
            "                                                                 \n",
            " conv2d_8 (Conv2D)           (None, 4, 4, 256)         294912    \n",
            "                                                                 \n",
            " batch_normalization_7 (Batc  (None, 4, 4, 256)        1024      \n",
            " hNormalization)                                                 \n",
            "                                                                 \n",
            " tf.nn.leaky_relu_3 (TFOpLam  (None, 4, 4, 256)        0         \n",
            " bda)                                                            \n",
            "                                                                 \n",
            " global_average_pooling2d (G  (None, 256)              0         \n",
            " lobalAveragePooling2D)                                          \n",
            "                                                                 \n",
            " dense (Dense)               (None, 64)                16384     \n",
            "                                                                 \n",
            " batch_normalization_8 (Batc  (None, 64)               256       \n",
            " hNormalization)                                                 \n",
            "                                                                 \n",
            " tf.nn.leaky_relu_4 (TFOpLam  (None, 64)               0         \n",
            " bda)                                                            \n",
            "                                                                 \n",
            " dense_1 (Dense)             (None, 1)                 65        \n",
            "                                                                 \n",
            "=================================================================\n",
            "Total params: 406,561\n",
            "Trainable params: 405,473\n",
            "Non-trainable params: 1,088\n",
            "_________________________________________________________________\n"
          ]
        }
      ],
      "source": [
        "d_model = create_discriminator()\n",
        "d_model.summary()"
      ]
    },
    {
      "cell_type": "markdown",
      "id": "46dc6193",
      "metadata": {
        "id": "46dc6193"
      },
      "source": [
        "### GAN model"
      ]
    },
    {
      "cell_type": "code",
      "execution_count": 12,
      "id": "4195d354",
      "metadata": {
        "id": "4195d354"
      },
      "outputs": [],
      "source": [
        "class GAN(tf.keras.Model):\n",
        "    def __init__(self, generator, discriminator, noise_size=latent_dim, d_iter=1):\n",
        "        super(GAN, self).__init__()\n",
        "        self.generator = generator\n",
        "        self.discriminator = discriminator\n",
        "        self.noise_size = noise_size\n",
        "        self.d_iter = d_iter\n",
        "        self.img_list = []\n",
        "\n",
        "    def compile(self, d_optimizer, g_optimizer):\n",
        "        super(GAN, self).compile()\n",
        "        self.d_optimizer = d_optimizer\n",
        "        self.g_optimizer = g_optimizer\n",
        "\n",
        "    def create_gen_input(self, batch_size):\n",
        "        noise = tf.random.normal([batch_size, self.noise_size])\n",
        "        return noise\n",
        "\n",
        "    def train_step(self, real_img):\n",
        "        \n",
        "        criterion = BinaryCrossentropy()\n",
        "        batch_size = tf.shape(real_img)[0]\n",
        "        \n",
        "        # Train Discriminator d_iter times with fixed generator.\n",
        "        for _ in range(self.d_iter):\n",
        "            with tf.GradientTape() as d_tape: \n",
        "                self.discriminator.trainable = True\n",
        "                self.generator.trainable = False\n",
        "                d_tape.watch(self.discriminator.trainable_variables)\n",
        "\n",
        "                # Train discriminator using half batch real images. Real images have labels 1.\n",
        "                real_label = tf.ones((batch_size, 1))\n",
        "                d_real_output = self.discriminator(real_img)\n",
        "                d_loss_real = criterion(real_label, d_real_output)\n",
        "\n",
        "                # Train discriminator using half batch fake images. Fake images have labels 0. \n",
        "                fake_label = tf.zeros((batch_size, 1))\n",
        "\n",
        "                # Create generator input \n",
        "                noise = self.create_gen_input(batch_size=batch_size)\n",
        "\n",
        "                # Create fake image batch\n",
        "                fake_img = self.generator(noise)\n",
        "                d_fake_output = self.discriminator(fake_img)\n",
        "                d_loss_fake = criterion(fake_label, d_fake_output)\n",
        "\n",
        "                # Total Loss of Discriminator \n",
        "                d_loss = d_loss_real + d_loss_fake\n",
        "\n",
        "            # Compute gradients\n",
        "            d_gradients = d_tape.gradient(d_loss, self.discriminator.trainable_variables)\n",
        "\n",
        "            # Optimize\n",
        "            self.d_optimizer.apply_gradients(zip(d_gradients, self.discriminator.trainable_variables))\n",
        "\n",
        "        # Train Generator with fixed discriminator.\n",
        "        with tf.GradientTape() as g_tape:\n",
        "            self.discriminator.trainable = False\n",
        "            self.generator.trainable = True\n",
        "            g_tape.watch(self.generator.trainable_variables)\n",
        "            \n",
        "            # Train generator using fake batch images. Fake images have labels 1 for generators.\n",
        "            fake_img = self.generator(noise)\n",
        "            d_fake_output = self.discriminator(fake_img)\n",
        "            g_loss = criterion(real_label, d_fake_output)\n",
        "        \n",
        "        g_gradients = g_tape.gradient(g_loss, self.generator.trainable_variables) # Compute gradients\n",
        "        self.g_optimizer.apply_gradients(zip(g_gradients, self.generator.trainable_variables)) # Optimize\n",
        "\n",
        "        return {\"d_loss_real\": d_loss_real, \"d_loss_fake\": d_loss_fake, \"g_loss\": g_loss}\n",
        "\n"
      ]
    },
    {
      "cell_type": "code",
      "execution_count": 13,
      "id": "9f62fddd",
      "metadata": {
        "scrolled": true,
        "id": "9f62fddd",
        "outputId": "2eab7cb3-2f25-4767-ab4c-2ef8354d1d18",
        "colab": {
          "base_uri": "https://localhost:8080/"
        }
      },
      "outputs": [
        {
          "output_type": "stream",
          "name": "stdout",
          "text": [
            "Epoch 1/80\n",
            "469/469 [==============================] - 34s 51ms/step - d_loss_real: 0.6698 - d_loss_fake: 0.7334 - g_loss: 0.7838\n",
            "Epoch 2/80\n",
            "469/469 [==============================] - 23s 49ms/step - d_loss_real: 0.7014 - d_loss_fake: 0.5810 - g_loss: 1.1692\n",
            "Epoch 3/80\n",
            "469/469 [==============================] - 23s 49ms/step - d_loss_real: 0.7010 - d_loss_fake: 0.6841 - g_loss: 0.7237\n",
            "Epoch 4/80\n",
            "469/469 [==============================] - 24s 50ms/step - d_loss_real: 0.6957 - d_loss_fake: 0.6876 - g_loss: 0.7149\n",
            "Epoch 5/80\n",
            "469/469 [==============================] - 24s 51ms/step - d_loss_real: 0.6916 - d_loss_fake: 0.6912 - g_loss: 0.7213\n",
            "Epoch 6/80\n",
            "469/469 [==============================] - 24s 51ms/step - d_loss_real: 0.6811 - d_loss_fake: 0.7046 - g_loss: 0.6893\n",
            "Epoch 7/80\n",
            "469/469 [==============================] - 24s 50ms/step - d_loss_real: 0.6818 - d_loss_fake: 0.7036 - g_loss: 0.6837\n",
            "Epoch 8/80\n",
            "469/469 [==============================] - 24s 50ms/step - d_loss_real: 0.6861 - d_loss_fake: 0.6990 - g_loss: 0.6976\n",
            "Epoch 9/80\n",
            "469/469 [==============================] - 24s 51ms/step - d_loss_real: 0.7000 - d_loss_fake: 0.6806 - g_loss: 0.7468\n",
            "Epoch 10/80\n",
            "469/469 [==============================] - 24s 51ms/step - d_loss_real: 0.6886 - d_loss_fake: 0.6970 - g_loss: 0.6924\n",
            "Epoch 11/80\n",
            "469/469 [==============================] - 24s 51ms/step - d_loss_real: 0.6975 - d_loss_fake: 0.6775 - g_loss: 0.7435\n",
            "Epoch 12/80\n",
            "469/469 [==============================] - 24s 51ms/step - d_loss_real: 0.6838 - d_loss_fake: 0.6935 - g_loss: 0.7415\n",
            "Epoch 13/80\n",
            "469/469 [==============================] - 24s 50ms/step - d_loss_real: 0.6798 - d_loss_fake: 0.6746 - g_loss: 0.7702\n",
            "Epoch 14/80\n",
            "469/469 [==============================] - 24s 50ms/step - d_loss_real: 0.6787 - d_loss_fake: 0.6735 - g_loss: 0.7622\n",
            "Epoch 15/80\n",
            "469/469 [==============================] - 24s 50ms/step - d_loss_real: 0.6744 - d_loss_fake: 0.6569 - g_loss: 0.8402\n",
            "Epoch 16/80\n",
            "469/469 [==============================] - 24s 50ms/step - d_loss_real: 0.6550 - d_loss_fake: 0.6567 - g_loss: 0.8252\n",
            "Epoch 17/80\n",
            "469/469 [==============================] - 24s 51ms/step - d_loss_real: 0.7040 - d_loss_fake: 0.6751 - g_loss: 0.7404\n",
            "Epoch 18/80\n",
            "469/469 [==============================] - 24s 51ms/step - d_loss_real: 0.6590 - d_loss_fake: 0.6499 - g_loss: 0.8529\n",
            "Epoch 19/80\n",
            "469/469 [==============================] - 24s 51ms/step - d_loss_real: 0.6883 - d_loss_fake: 0.6988 - g_loss: 0.7042\n",
            "Epoch 20/80\n",
            "469/469 [==============================] - 24s 50ms/step - d_loss_real: 0.6527 - d_loss_fake: 0.6691 - g_loss: 0.7780\n",
            "Epoch 21/80\n",
            "469/469 [==============================] - 24s 51ms/step - d_loss_real: 0.7065 - d_loss_fake: 0.6762 - g_loss: 0.8056\n",
            "Epoch 22/80\n",
            "469/469 [==============================] - 24s 50ms/step - d_loss_real: 0.6433 - d_loss_fake: 0.6327 - g_loss: 0.8805\n",
            "Epoch 23/80\n",
            "469/469 [==============================] - 24s 51ms/step - d_loss_real: 0.6369 - d_loss_fake: 0.6431 - g_loss: 0.8549\n",
            "Epoch 24/80\n",
            "469/469 [==============================] - 23s 50ms/step - d_loss_real: 0.6515 - d_loss_fake: 0.6195 - g_loss: 0.8625\n",
            "Epoch 25/80\n",
            "469/469 [==============================] - 23s 49ms/step - d_loss_real: 0.6218 - d_loss_fake: 0.6073 - g_loss: 0.9570\n",
            "Epoch 26/80\n",
            "469/469 [==============================] - 24s 50ms/step - d_loss_real: 0.6745 - d_loss_fake: 0.6626 - g_loss: 0.8372\n",
            "Epoch 27/80\n",
            "469/469 [==============================] - 24s 51ms/step - d_loss_real: 0.6484 - d_loss_fake: 0.6554 - g_loss: 0.8195\n",
            "Epoch 28/80\n",
            "469/469 [==============================] - 23s 50ms/step - d_loss_real: 0.6810 - d_loss_fake: 0.6544 - g_loss: 0.7960\n",
            "Epoch 29/80\n",
            "469/469 [==============================] - 24s 51ms/step - d_loss_real: 0.6967 - d_loss_fake: 0.6433 - g_loss: 0.8071\n",
            "Epoch 30/80\n",
            "469/469 [==============================] - 23s 50ms/step - d_loss_real: 0.6522 - d_loss_fake: 0.6601 - g_loss: 0.8026\n",
            "Epoch 31/80\n",
            "469/469 [==============================] - 23s 49ms/step - d_loss_real: 0.6314 - d_loss_fake: 0.6255 - g_loss: 0.9106\n",
            "Epoch 32/80\n",
            "469/469 [==============================] - 24s 50ms/step - d_loss_real: 0.6634 - d_loss_fake: 0.6278 - g_loss: 0.8416\n",
            "Epoch 33/80\n",
            "469/469 [==============================] - 24s 50ms/step - d_loss_real: 0.7001 - d_loss_fake: 0.6840 - g_loss: 0.7309\n",
            "Epoch 34/80\n",
            "469/469 [==============================] - 24s 51ms/step - d_loss_real: 0.6939 - d_loss_fake: 0.6884 - g_loss: 0.7179\n",
            "Epoch 35/80\n",
            "469/469 [==============================] - 24s 51ms/step - d_loss_real: 0.6725 - d_loss_fake: 0.6958 - g_loss: 0.7225\n",
            "Epoch 36/80\n",
            "469/469 [==============================] - 24s 51ms/step - d_loss_real: 0.6556 - d_loss_fake: 0.6554 - g_loss: 0.8140\n",
            "Epoch 37/80\n",
            "469/469 [==============================] - 24s 50ms/step - d_loss_real: 0.7244 - d_loss_fake: 0.6674 - g_loss: 0.7310\n",
            "Epoch 38/80\n",
            "469/469 [==============================] - 24s 51ms/step - d_loss_real: 0.6970 - d_loss_fake: 0.6899 - g_loss: 0.7089\n",
            "Epoch 39/80\n",
            "469/469 [==============================] - 24s 51ms/step - d_loss_real: 0.6967 - d_loss_fake: 0.6920 - g_loss: 0.7015\n",
            "Epoch 40/80\n",
            "469/469 [==============================] - 24s 50ms/step - d_loss_real: 0.6918 - d_loss_fake: 0.6938 - g_loss: 0.6994\n",
            "Epoch 41/80\n",
            "469/469 [==============================] - 24s 51ms/step - d_loss_real: 0.6941 - d_loss_fake: 0.6913 - g_loss: 0.7040\n",
            "Epoch 42/80\n",
            "469/469 [==============================] - 24s 50ms/step - d_loss_real: 0.6802 - d_loss_fake: 0.6920 - g_loss: 0.7212\n",
            "Epoch 43/80\n",
            "469/469 [==============================] - 24s 52ms/step - d_loss_real: 0.6957 - d_loss_fake: 0.6895 - g_loss: 0.7132\n",
            "Epoch 44/80\n",
            "469/469 [==============================] - 24s 51ms/step - d_loss_real: 0.7029 - d_loss_fake: 0.6802 - g_loss: 0.7173\n",
            "Epoch 45/80\n",
            "469/469 [==============================] - 24s 52ms/step - d_loss_real: 0.6968 - d_loss_fake: 0.6874 - g_loss: 0.7151\n",
            "Epoch 46/80\n",
            "469/469 [==============================] - 24s 51ms/step - d_loss_real: 0.6830 - d_loss_fake: 0.6992 - g_loss: 0.7030\n",
            "Epoch 47/80\n",
            "469/469 [==============================] - 24s 50ms/step - d_loss_real: 0.6813 - d_loss_fake: 0.6662 - g_loss: 0.7908\n",
            "Epoch 48/80\n",
            "469/469 [==============================] - 23s 50ms/step - d_loss_real: 0.6968 - d_loss_fake: 0.6886 - g_loss: 0.7112\n",
            "Epoch 49/80\n",
            "469/469 [==============================] - 25s 52ms/step - d_loss_real: 0.6949 - d_loss_fake: 0.6919 - g_loss: 0.7007\n",
            "Epoch 50/80\n",
            "469/469 [==============================] - 24s 50ms/step - d_loss_real: 0.6927 - d_loss_fake: 0.6932 - g_loss: 0.7021\n",
            "Epoch 51/80\n",
            "469/469 [==============================] - 24s 51ms/step - d_loss_real: 0.6989 - d_loss_fake: 0.6878 - g_loss: 0.7030\n",
            "Epoch 52/80\n",
            "469/469 [==============================] - 24s 50ms/step - d_loss_real: 0.6891 - d_loss_fake: 0.6921 - g_loss: 0.7118\n",
            "Epoch 53/80\n",
            "469/469 [==============================] - 23s 50ms/step - d_loss_real: 0.6975 - d_loss_fake: 0.6889 - g_loss: 0.7069\n",
            "Epoch 54/80\n",
            "469/469 [==============================] - 24s 51ms/step - d_loss_real: 0.6925 - d_loss_fake: 0.6915 - g_loss: 0.7087\n",
            "Epoch 55/80\n",
            "469/469 [==============================] - 24s 51ms/step - d_loss_real: 0.6917 - d_loss_fake: 0.6929 - g_loss: 0.7039\n",
            "Epoch 56/80\n",
            "469/469 [==============================] - 24s 51ms/step - d_loss_real: 0.6905 - d_loss_fake: 0.6919 - g_loss: 0.7093\n",
            "Epoch 57/80\n",
            "469/469 [==============================] - 24s 51ms/step - d_loss_real: 0.6839 - d_loss_fake: 0.6943 - g_loss: 0.7171\n",
            "Epoch 58/80\n",
            "469/469 [==============================] - 24s 51ms/step - d_loss_real: 0.6804 - d_loss_fake: 0.6892 - g_loss: 0.7299\n",
            "Epoch 59/80\n",
            "469/469 [==============================] - 24s 51ms/step - d_loss_real: 0.7002 - d_loss_fake: 0.6852 - g_loss: 0.7110\n",
            "Epoch 60/80\n",
            "469/469 [==============================] - 24s 51ms/step - d_loss_real: 0.6892 - d_loss_fake: 0.6898 - g_loss: 0.7196\n",
            "Epoch 61/80\n",
            "469/469 [==============================] - 24s 51ms/step - d_loss_real: 0.6884 - d_loss_fake: 0.6891 - g_loss: 0.7215\n",
            "Epoch 62/80\n",
            "469/469 [==============================] - 24s 50ms/step - d_loss_real: 0.6968 - d_loss_fake: 0.6847 - g_loss: 0.7168\n",
            "Epoch 63/80\n",
            "469/469 [==============================] - 24s 51ms/step - d_loss_real: 0.6890 - d_loss_fake: 0.6892 - g_loss: 0.7185\n",
            "Epoch 64/80\n",
            "469/469 [==============================] - 24s 51ms/step - d_loss_real: 0.6882 - d_loss_fake: 0.6910 - g_loss: 0.7193\n",
            "Epoch 65/80\n",
            "469/469 [==============================] - 24s 51ms/step - d_loss_real: 0.6779 - d_loss_fake: 0.6837 - g_loss: 0.7478\n",
            "Epoch 66/80\n",
            "469/469 [==============================] - 24s 51ms/step - d_loss_real: 0.6926 - d_loss_fake: 0.6830 - g_loss: 0.7282\n",
            "Epoch 67/80\n",
            "469/469 [==============================] - 24s 50ms/step - d_loss_real: 0.6749 - d_loss_fake: 0.6818 - g_loss: 0.7439\n",
            "Epoch 68/80\n",
            "469/469 [==============================] - 24s 50ms/step - d_loss_real: 0.6805 - d_loss_fake: 0.6738 - g_loss: 0.7539\n",
            "Epoch 69/80\n",
            "469/469 [==============================] - 24s 51ms/step - d_loss_real: 0.6566 - d_loss_fake: 0.6587 - g_loss: 0.8159\n",
            "Epoch 70/80\n",
            "469/469 [==============================] - 24s 51ms/step - d_loss_real: 0.6635 - d_loss_fake: 0.6547 - g_loss: 0.8176\n",
            "Epoch 71/80\n",
            "469/469 [==============================] - 24s 51ms/step - d_loss_real: 0.6775 - d_loss_fake: 0.6521 - g_loss: 0.7946\n",
            "Epoch 72/80\n",
            "469/469 [==============================] - 24s 50ms/step - d_loss_real: 0.6634 - d_loss_fake: 0.6441 - g_loss: 0.8107\n",
            "Epoch 73/80\n",
            "469/469 [==============================] - 24s 50ms/step - d_loss_real: 0.6706 - d_loss_fake: 0.6645 - g_loss: 0.7743\n",
            "Epoch 74/80\n",
            "469/469 [==============================] - 24s 51ms/step - d_loss_real: 0.6854 - d_loss_fake: 0.6504 - g_loss: 0.7905\n",
            "Epoch 75/80\n",
            "469/469 [==============================] - 24s 51ms/step - d_loss_real: 0.6527 - d_loss_fake: 0.6229 - g_loss: 0.8544\n",
            "Epoch 76/80\n",
            "469/469 [==============================] - 24s 51ms/step - d_loss_real: 0.6524 - d_loss_fake: 0.6184 - g_loss: 0.8699\n",
            "Epoch 77/80\n",
            "469/469 [==============================] - 24s 51ms/step - d_loss_real: 0.6486 - d_loss_fake: 0.5955 - g_loss: 0.9245\n",
            "Epoch 78/80\n",
            "469/469 [==============================] - 24s 51ms/step - d_loss_real: 0.6506 - d_loss_fake: 0.6076 - g_loss: 0.8732\n",
            "Epoch 79/80\n",
            "469/469 [==============================] - 24s 52ms/step - d_loss_real: 0.6421 - d_loss_fake: 0.6115 - g_loss: 0.8780\n",
            "Epoch 80/80\n",
            "469/469 [==============================] - 24s 51ms/step - d_loss_real: 0.6261 - d_loss_fake: 0.5743 - g_loss: 0.9899\n"
          ]
        }
      ],
      "source": [
        "gan = GAN(generator=g_model, discriminator=d_model)\n",
        "\n",
        "gan.compile(d_optimizer=Adam(learning_rate=LR, beta_1 = BETA1, beta_2=0.999),\n",
        "            g_optimizer=Adam(learning_rate=LR, beta_1 = BETA1, beta_2=0.999)\n",
        "            )\n",
        "\n",
        "history = gan.fit(train_dataset, epochs=EPOCHS)"
      ]
    },
    {
      "cell_type": "code",
      "execution_count": 14,
      "id": "9be4550b",
      "metadata": {
        "id": "9be4550b",
        "outputId": "57809c3d-74e6-4693-8639-212a9d3ba194",
        "colab": {
          "base_uri": "https://localhost:8080/"
        }
      },
      "outputs": [
        {
          "output_type": "stream",
          "name": "stderr",
          "text": [
            "WARNING:tensorflow:Compiled the loaded model, but the compiled metrics have yet to be built. `model.compile_metrics` will be empty until you train or evaluate the model.\n",
            "WARNING:absl:Found untraced functions such as _jit_compiled_convolution_op, _jit_compiled_convolution_op, _jit_compiled_convolution_op, _jit_compiled_convolution_op, _jit_compiled_convolution_op while saving (showing 5 of 5). These functions will not be directly callable after loading.\n",
            "WARNING:tensorflow:Compiled the loaded model, but the compiled metrics have yet to be built. `model.compile_metrics` will be empty until you train or evaluate the model.\n",
            "WARNING:absl:Found untraced functions such as _jit_compiled_convolution_op, _jit_compiled_convolution_op, _jit_compiled_convolution_op, _jit_compiled_convolution_op while saving (showing 4 of 4). These functions will not be directly callable after loading.\n"
          ]
        }
      ],
      "source": [
        "# Save trained models\n",
        "\n",
        "g_model.save('saved_models/generator')\n",
        "d_model.save('saved_models/discriminator')"
      ]
    },
    {
      "cell_type": "code",
      "execution_count": 15,
      "id": "49bf1bc9",
      "metadata": {
        "id": "49bf1bc9",
        "outputId": "b1e20fc2-1bd0-4c59-fddb-84b0e50d5ad7",
        "colab": {
          "base_uri": "https://localhost:8080/"
        }
      },
      "outputs": [
        {
          "output_type": "stream",
          "name": "stderr",
          "text": [
            "WARNING:tensorflow:No training configuration found in save file, so the model was *not* compiled. Compile it manually.\n",
            "WARNING:tensorflow:No training configuration found in save file, so the model was *not* compiled. Compile it manually.\n"
          ]
        }
      ],
      "source": [
        "# Load trained models\n",
        "\n",
        "g_model = tf.keras.models.load_model('saved_models/generator')\n",
        "d_model = tf.keras.models.load_model('saved_models/discriminator')"
      ]
    },
    {
      "cell_type": "code",
      "source": [
        "# from google.colab import files\n",
        "\n",
        "# files.download('saved_models/generator/saved_model.pb')\n",
        "# files.download('saved_models/generator/variables/variables.index')\n",
        "# files.download('saved_models/generator/variables/variables.data-00000-of-00001')\n",
        "\n",
        "# files.download('saved_models/discriminator/saved_model.pb')\n",
        "# files.download('saved_models/discriminator/variables/variables.index')\n",
        "# files.download('saved_models/discriminator/variables/variables.data-00000-of-00001')"
      ],
      "metadata": {
        "colab": {
          "base_uri": "https://localhost:8080/",
          "height": 17
        },
        "id": "ddzTlRgLlQrM",
        "outputId": "c68d0f0d-f45f-4b74-b4a4-7b2bd7ca580a"
      },
      "id": "ddzTlRgLlQrM",
      "execution_count": 22,
      "outputs": [
        {
          "output_type": "display_data",
          "data": {
            "text/plain": [
              "<IPython.core.display.Javascript object>"
            ],
            "application/javascript": [
              "\n",
              "    async function download(id, filename, size) {\n",
              "      if (!google.colab.kernel.accessAllowed) {\n",
              "        return;\n",
              "      }\n",
              "      const div = document.createElement('div');\n",
              "      const label = document.createElement('label');\n",
              "      label.textContent = `Downloading \"${filename}\": `;\n",
              "      div.appendChild(label);\n",
              "      const progress = document.createElement('progress');\n",
              "      progress.max = size;\n",
              "      div.appendChild(progress);\n",
              "      document.body.appendChild(div);\n",
              "\n",
              "      const buffers = [];\n",
              "      let downloaded = 0;\n",
              "\n",
              "      const channel = await google.colab.kernel.comms.open(id);\n",
              "      // Send a message to notify the kernel that we're ready.\n",
              "      channel.send({})\n",
              "\n",
              "      for await (const message of channel.messages) {\n",
              "        // Send a message to notify the kernel that we're ready.\n",
              "        channel.send({})\n",
              "        if (message.buffers) {\n",
              "          for (const buffer of message.buffers) {\n",
              "            buffers.push(buffer);\n",
              "            downloaded += buffer.byteLength;\n",
              "            progress.value = downloaded;\n",
              "          }\n",
              "        }\n",
              "      }\n",
              "      const blob = new Blob(buffers, {type: 'application/binary'});\n",
              "      const a = document.createElement('a');\n",
              "      a.href = window.URL.createObjectURL(blob);\n",
              "      a.download = filename;\n",
              "      div.appendChild(a);\n",
              "      a.click();\n",
              "      div.remove();\n",
              "    }\n",
              "  "
            ]
          },
          "metadata": {}
        },
        {
          "output_type": "display_data",
          "data": {
            "text/plain": [
              "<IPython.core.display.Javascript object>"
            ],
            "application/javascript": [
              "download(\"download_2bf44e81-7a5f-433c-9aa1-93933b816d67\", \"saved_model.pb\", 267981)"
            ]
          },
          "metadata": {}
        },
        {
          "output_type": "display_data",
          "data": {
            "text/plain": [
              "<IPython.core.display.Javascript object>"
            ],
            "application/javascript": [
              "\n",
              "    async function download(id, filename, size) {\n",
              "      if (!google.colab.kernel.accessAllowed) {\n",
              "        return;\n",
              "      }\n",
              "      const div = document.createElement('div');\n",
              "      const label = document.createElement('label');\n",
              "      label.textContent = `Downloading \"${filename}\": `;\n",
              "      div.appendChild(label);\n",
              "      const progress = document.createElement('progress');\n",
              "      progress.max = size;\n",
              "      div.appendChild(progress);\n",
              "      document.body.appendChild(div);\n",
              "\n",
              "      const buffers = [];\n",
              "      let downloaded = 0;\n",
              "\n",
              "      const channel = await google.colab.kernel.comms.open(id);\n",
              "      // Send a message to notify the kernel that we're ready.\n",
              "      channel.send({})\n",
              "\n",
              "      for await (const message of channel.messages) {\n",
              "        // Send a message to notify the kernel that we're ready.\n",
              "        channel.send({})\n",
              "        if (message.buffers) {\n",
              "          for (const buffer of message.buffers) {\n",
              "            buffers.push(buffer);\n",
              "            downloaded += buffer.byteLength;\n",
              "            progress.value = downloaded;\n",
              "          }\n",
              "        }\n",
              "      }\n",
              "      const blob = new Blob(buffers, {type: 'application/binary'});\n",
              "      const a = document.createElement('a');\n",
              "      a.href = window.URL.createObjectURL(blob);\n",
              "      a.download = filename;\n",
              "      div.appendChild(a);\n",
              "      a.click();\n",
              "      div.remove();\n",
              "    }\n",
              "  "
            ]
          },
          "metadata": {}
        },
        {
          "output_type": "display_data",
          "data": {
            "text/plain": [
              "<IPython.core.display.Javascript object>"
            ],
            "application/javascript": [
              "download(\"download_a7d3d161-f0b3-4bc5-9d83-6142f06067a0\", \"variables.index\", 1808)"
            ]
          },
          "metadata": {}
        },
        {
          "output_type": "display_data",
          "data": {
            "text/plain": [
              "<IPython.core.display.Javascript object>"
            ],
            "application/javascript": [
              "\n",
              "    async function download(id, filename, size) {\n",
              "      if (!google.colab.kernel.accessAllowed) {\n",
              "        return;\n",
              "      }\n",
              "      const div = document.createElement('div');\n",
              "      const label = document.createElement('label');\n",
              "      label.textContent = `Downloading \"${filename}\": `;\n",
              "      div.appendChild(label);\n",
              "      const progress = document.createElement('progress');\n",
              "      progress.max = size;\n",
              "      div.appendChild(progress);\n",
              "      document.body.appendChild(div);\n",
              "\n",
              "      const buffers = [];\n",
              "      let downloaded = 0;\n",
              "\n",
              "      const channel = await google.colab.kernel.comms.open(id);\n",
              "      // Send a message to notify the kernel that we're ready.\n",
              "      channel.send({})\n",
              "\n",
              "      for await (const message of channel.messages) {\n",
              "        // Send a message to notify the kernel that we're ready.\n",
              "        channel.send({})\n",
              "        if (message.buffers) {\n",
              "          for (const buffer of message.buffers) {\n",
              "            buffers.push(buffer);\n",
              "            downloaded += buffer.byteLength;\n",
              "            progress.value = downloaded;\n",
              "          }\n",
              "        }\n",
              "      }\n",
              "      const blob = new Blob(buffers, {type: 'application/binary'});\n",
              "      const a = document.createElement('a');\n",
              "      a.href = window.URL.createObjectURL(blob);\n",
              "      a.download = filename;\n",
              "      div.appendChild(a);\n",
              "      a.click();\n",
              "      div.remove();\n",
              "    }\n",
              "  "
            ]
          },
          "metadata": {}
        },
        {
          "output_type": "display_data",
          "data": {
            "text/plain": [
              "<IPython.core.display.Javascript object>"
            ],
            "application/javascript": [
              "download(\"download_c4044893-d3b9-4379-8554-52db76d5aa55\", \"variables.data-00000-of-00001\", 1638464)"
            ]
          },
          "metadata": {}
        }
      ]
    },
    {
      "cell_type": "markdown",
      "id": "6a9291ab",
      "metadata": {
        "id": "6a9291ab"
      },
      "source": [
        "## Test"
      ]
    },
    {
      "cell_type": "code",
      "execution_count": 18,
      "id": "078419a7",
      "metadata": {
        "id": "078419a7",
        "outputId": "74608040-4836-40ca-de17-6e3d3ff7fc60",
        "colab": {
          "base_uri": "https://localhost:8080/",
          "height": 428
        }
      },
      "outputs": [
        {
          "output_type": "display_data",
          "data": {
            "text/plain": [
              "<Figure size 1080x576 with 10 Axes>"
            ],
            "image/png": "[encoded data removed]"
          },
          "metadata": {}
        }
      ],
      "source": [
        "noise = tf.random.normal([10, latent_dim], seed=127)\n",
        "generated_images = g_model(noise)\n",
        "generated_images = (generated_images + 1)/2 # convert the values from [-1,1] to [0,1] for plots\n",
        "\n",
        "plt.rcParams['figure.figsize'] = (15.0, 8.0)\n",
        "\n",
        "rows = 2\n",
        "columns = 5\n",
        "\n",
        "for i in range(10) : \n",
        "    image_index = i+1      # image index \n",
        "    title = \"Sample {}\".format(image_index) # image title\n",
        "    plt.subplot(rows, columns, image_index) # subplot \n",
        "    plt.title(title)   # title \n",
        "    plt.axis('off')\n",
        "    plt.xticks([])  # x = None \n",
        "    plt.yticks([])  # y = None\n",
        "    plt.imshow(generated_images[i])  \n",
        "plt.show()\n"
      ]
    },
    {
      "cell_type": "code",
      "execution_count": null,
      "id": "5bc4e322",
      "metadata": {
        "id": "5bc4e322"
      },
      "outputs": [],
      "source": []
    }
  ],
  "metadata": {
    "kernelspec": {
      "display_name": "mathdl",
      "language": "python",
      "name": "python3"
    },
    "language_info": {
      "codemirror_mode": {
        "name": "ipython",
        "version": 3
      },
      "file_extension": ".py",
      "mimetype": "text/x-python",
      "name": "python",
      "nbconvert_exporter": "python",
      "pygments_lexer": "ipython3",
      "version": "3.8.13"
    },
    "vscode": {
      "interpreter": {
        "hash": "9e59e1ea385b879f446154c61f2f6127b4872fff981994bd2fbd456f7f8f6770"
      }
    },
    "colab": {
      "provenance": []
    },
    "accelerator": "GPU",
    "gpuClass": "standard"
  },
  "nbformat": 4,
  "nbformat_minor": 5
}