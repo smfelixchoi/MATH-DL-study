{
 "cells": [
  {
   "cell_type": "markdown",
   "id": "5d3dbb9e",
   "metadata": {},
   "source": [
    "# Python\n",
    "\n",
    "- 파이썬 버전은 2.x와 3.x가 공존하는데, 대부분 버전 3을 사용하기 때문에 버전 3에 대해서 공부합니다."
   ]
  },
  {
   "cell_type": "code",
   "execution_count": 1,
   "id": "dee531ef",
   "metadata": {},
   "outputs": [
    {
     "name": "stdout",
     "output_type": "stream",
     "text": [
      "Hello World!\n"
     ]
    }
   ],
   "source": [
    "print('Hello World!')"
   ]
  },
  {
   "cell_type": "markdown",
   "id": "5ce69d66",
   "metadata": {},
   "source": [
    "## 산술 연산\n",
    "\n",
    "- 덧셈, 뺄셈, 나눗셈, 거듭제곱, 몫, 나머지 연산이 있습니다."
   ]
  },
  {
   "cell_type": "code",
   "execution_count": 2,
   "id": "e3e276bd",
   "metadata": {},
   "outputs": [
    {
     "data": {
      "text/plain": [
       "4"
      ]
     },
     "execution_count": 2,
     "metadata": {},
     "output_type": "execute_result"
    }
   ],
   "source": [
    "1+3"
   ]
  },
  {
   "cell_type": "code",
   "execution_count": 3,
   "id": "69f3a7d0",
   "metadata": {},
   "outputs": [
    {
     "data": {
      "text/plain": [
       "-3"
      ]
     },
     "execution_count": 3,
     "metadata": {},
     "output_type": "execute_result"
    }
   ],
   "source": [
    "5-8"
   ]
  },
  {
   "cell_type": "code",
   "execution_count": 4,
   "id": "4b8ca952",
   "metadata": {},
   "outputs": [
    {
     "data": {
      "text/plain": [
       "4.666666666666667"
      ]
     },
     "execution_count": 4,
     "metadata": {},
     "output_type": "execute_result"
    }
   ],
   "source": [
    "14/3"
   ]
  },
  {
   "cell_type": "code",
   "execution_count": 5,
   "id": "60ae4376",
   "metadata": {},
   "outputs": [
    {
     "data": {
      "text/plain": [
       "140"
      ]
     },
     "execution_count": 5,
     "metadata": {},
     "output_type": "execute_result"
    }
   ],
   "source": [
    "5*28"
   ]
  },
  {
   "cell_type": "code",
   "execution_count": 6,
   "id": "afb79274",
   "metadata": {},
   "outputs": [
    {
     "data": {
      "text/plain": [
       "64"
      ]
     },
     "execution_count": 6,
     "metadata": {},
     "output_type": "execute_result"
    }
   ],
   "source": [
    "8**2"
   ]
  },
  {
   "cell_type": "code",
   "execution_count": 7,
   "id": "042e166b",
   "metadata": {},
   "outputs": [
    {
     "data": {
      "text/plain": [
       "2"
      ]
     },
     "execution_count": 7,
     "metadata": {},
     "output_type": "execute_result"
    }
   ],
   "source": [
    "7 // 3"
   ]
  },
  {
   "cell_type": "code",
   "execution_count": 8,
   "id": "a1392f3f",
   "metadata": {},
   "outputs": [
    {
     "data": {
      "text/plain": [
       "1"
      ]
     },
     "execution_count": 8,
     "metadata": {},
     "output_type": "execute_result"
    }
   ],
   "source": [
    "7 % 3"
   ]
  },
  {
   "cell_type": "code",
   "execution_count": 9,
   "id": "8272f57d",
   "metadata": {},
   "outputs": [
    {
     "data": {
      "text/plain": [
       "4"
      ]
     },
     "execution_count": 9,
     "metadata": {},
     "output_type": "execute_result"
    }
   ],
   "source": [
    "### 주의!!!\n",
    "\n",
    "7^3"
   ]
  },
  {
   "cell_type": "code",
   "execution_count": 10,
   "id": "e5f43d8e",
   "metadata": {},
   "outputs": [
    {
     "data": {
      "text/plain": [
       "6"
      ]
     },
     "execution_count": 10,
     "metadata": {},
     "output_type": "execute_result"
    }
   ],
   "source": [
    "5^3"
   ]
  },
  {
   "cell_type": "code",
   "execution_count": null,
   "id": "9676e38a",
   "metadata": {},
   "outputs": [],
   "source": []
  },
  {
   "cell_type": "markdown",
   "id": "a5d9c20d",
   "metadata": {},
   "source": [
    "### ^ 연산은 거듭제곱이 아니다!\n",
    "\n",
    "^ 연산은 bitwise-XOR 연산입니다. 즉, 각 숫자를 2진법으로 표현하여 각 bit마다 비교합니다.\n",
    "\n",
    "**XOR 연산이란?**\n",
    "\n",
    "|XOR| 0 | 1 |\n",
    "|---|---|---|\n",
    "| 0 | 0 | 1 |\n",
    "| 1 | 1 | 0 |\n",
    "\n",
    "- 3 : 011\n",
    "- 7 : 111\n",
    "\n",
    "=> 3 ^ 7 = 100\n",
    "\n",
    "- 9 : 1001\n",
    "- 2 : 0010\n",
    "\n",
    "=> 9 ^ 2 = 1011\n",
    "\n",
    "비트 연산에 대해 더 궁금하다면, *Python bitwise operator*, 또는 *비트 연산자*로 검색해보면 됩니다.\n",
    "\n",
    "**다른 비트연산자**\n",
    "- AND: &\n",
    "- OR : |\n",
    "- NOT: ~"
   ]
  },
  {
   "cell_type": "code",
   "execution_count": 11,
   "id": "a7166873",
   "metadata": {},
   "outputs": [
    {
     "name": "stdout",
     "output_type": "stream",
     "text": [
      "4\n",
      "7\n",
      "11\n",
      "2\n"
     ]
    }
   ],
   "source": [
    "print(3^7)\n",
    "print(2^5)\n",
    "print(9^2)\n",
    "print(2^0)"
   ]
  },
  {
   "cell_type": "code",
   "execution_count": 12,
   "id": "097e693e",
   "metadata": {},
   "outputs": [
    {
     "data": {
      "text/plain": [
       "7"
      ]
     },
     "execution_count": 12,
     "metadata": {},
     "output_type": "execute_result"
    }
   ],
   "source": [
    "3^7\n",
    "2^5"
   ]
  },
  {
   "cell_type": "code",
   "execution_count": 13,
   "id": "410d1fd1",
   "metadata": {},
   "outputs": [
    {
     "name": "stdout",
     "output_type": "stream",
     "text": [
      "0b11\n",
      "0b111\n",
      "0b100\n"
     ]
    }
   ],
   "source": [
    "## 이진법 확인하기\n",
    "print(bin(3))\n",
    "print(bin(7))\n",
    "\n",
    "print(bin(3^7))"
   ]
  },
  {
   "cell_type": "markdown",
   "id": "c793dbed",
   "metadata": {},
   "source": [
    "## 숫자형의 종류\n",
    "\n",
    "- int : 정수형\n",
    "- float : 실수형\n",
    "\n",
    "`type()`이라는 함수를 통해서 object (객체)의 자료형 (data type)을 알 수 있습니다.\n",
    "\n",
    "또한 `int()`라는 함수를 통해서 실수형 객체를 정수형 객체로 바꿀 수 있습니다. (가우스 연산이 아님에 주의)"
   ]
  },
  {
   "cell_type": "code",
   "execution_count": 14,
   "id": "c5b52540",
   "metadata": {},
   "outputs": [
    {
     "data": {
      "text/plain": [
       "int"
      ]
     },
     "execution_count": 14,
     "metadata": {},
     "output_type": "execute_result"
    }
   ],
   "source": [
    "type(10)"
   ]
  },
  {
   "cell_type": "code",
   "execution_count": 15,
   "id": "5e07530a",
   "metadata": {},
   "outputs": [
    {
     "data": {
      "text/plain": [
       "float"
      ]
     },
     "execution_count": 15,
     "metadata": {},
     "output_type": "execute_result"
    }
   ],
   "source": [
    "type(2.718)"
   ]
  },
  {
   "cell_type": "code",
   "execution_count": 16,
   "id": "509711ff",
   "metadata": {},
   "outputs": [
    {
     "data": {
      "text/plain": [
       "2.0"
      ]
     },
     "execution_count": 16,
     "metadata": {},
     "output_type": "execute_result"
    }
   ],
   "source": [
    "## 나눗셈의 결과는 항상 float!\n",
    "4/2"
   ]
  },
  {
   "cell_type": "code",
   "execution_count": 17,
   "id": "9b22329e",
   "metadata": {},
   "outputs": [
    {
     "data": {
      "text/plain": [
       "float"
      ]
     },
     "execution_count": 17,
     "metadata": {},
     "output_type": "execute_result"
    }
   ],
   "source": [
    "type(4/2)"
   ]
  },
  {
   "cell_type": "code",
   "execution_count": 18,
   "id": "5862417e",
   "metadata": {},
   "outputs": [
    {
     "data": {
      "text/plain": [
       "2"
      ]
     },
     "execution_count": 18,
     "metadata": {},
     "output_type": "execute_result"
    }
   ],
   "source": [
    "int(2.0)"
   ]
  },
  {
   "cell_type": "code",
   "execution_count": 19,
   "id": "57f5973f",
   "metadata": {
    "scrolled": true
   },
   "outputs": [
    {
     "data": {
      "text/plain": [
       "3"
      ]
     },
     "execution_count": 19,
     "metadata": {},
     "output_type": "execute_result"
    }
   ],
   "source": [
    "int(3.5)"
   ]
  },
  {
   "cell_type": "code",
   "execution_count": 20,
   "id": "a759a74b",
   "metadata": {
    "scrolled": true
   },
   "outputs": [
    {
     "data": {
      "text/plain": [
       "-3"
      ]
     },
     "execution_count": 20,
     "metadata": {},
     "output_type": "execute_result"
    }
   ],
   "source": [
    "int(-3.9)"
   ]
  },
  {
   "cell_type": "markdown",
   "id": "4398956a",
   "metadata": {},
   "source": [
    "## 변수 지정\n",
    "\n",
    "- 알파벳 등을 이용하여 변수를 지정할 수 있습니다.\n",
    "- 변수를 사용하여 계산하거나 변수에 다른 값을 대입할 수 있습니다."
   ]
  },
  {
   "cell_type": "code",
   "execution_count": 21,
   "id": "0d63c4d4",
   "metadata": {},
   "outputs": [],
   "source": [
    "x = 10\n",
    "y = 100"
   ]
  },
  {
   "cell_type": "code",
   "execution_count": 22,
   "id": "c112446f",
   "metadata": {},
   "outputs": [
    {
     "ename": "SyntaxError",
     "evalue": "cannot assign to literal (3618458200.py, line 1)",
     "output_type": "error",
     "traceback": [
      "\u001b[0;36m  Cell \u001b[0;32mIn [22], line 1\u001b[0;36m\u001b[0m\n\u001b[0;31m    10 = a\u001b[0m\n\u001b[0m    ^\u001b[0m\n\u001b[0;31mSyntaxError\u001b[0m\u001b[0;31m:\u001b[0m cannot assign to literal\n"
     ]
    }
   ],
   "source": [
    "10 = a"
   ]
  },
  {
   "cell_type": "code",
   "execution_count": 25,
   "id": "42c6d525",
   "metadata": {},
   "outputs": [],
   "source": [
    "a_2 = 20"
   ]
  },
  {
   "cell_type": "code",
   "execution_count": 26,
   "id": "db376425",
   "metadata": {},
   "outputs": [
    {
     "data": {
      "text/plain": [
       "int"
      ]
     },
     "execution_count": 26,
     "metadata": {},
     "output_type": "execute_result"
    }
   ],
   "source": [
    "type(x)"
   ]
  },
  {
   "cell_type": "code",
   "execution_count": 27,
   "id": "551aaa98",
   "metadata": {},
   "outputs": [
    {
     "data": {
      "text/plain": [
       "1000"
      ]
     },
     "execution_count": 27,
     "metadata": {},
     "output_type": "execute_result"
    }
   ],
   "source": [
    "x*y"
   ]
  },
  {
   "cell_type": "code",
   "execution_count": 28,
   "id": "f8f51853",
   "metadata": {},
   "outputs": [
    {
     "data": {
      "text/plain": [
       "14"
      ]
     },
     "execution_count": 28,
     "metadata": {},
     "output_type": "execute_result"
    }
   ],
   "source": [
    "x+4"
   ]
  },
  {
   "cell_type": "markdown",
   "id": "81f414bc",
   "metadata": {},
   "source": [
    "## 문자형\n",
    "\n",
    "- `str` type을 가지며, *string*의 줄임말입니다.\n",
    "- 문자형 객체는 작은 따옴표 또는 큰 따옴표를 모두 사용하여 생성할 수 있습니다."
   ]
  },
  {
   "cell_type": "code",
   "execution_count": 29,
   "id": "c2f758f9",
   "metadata": {},
   "outputs": [
    {
     "data": {
      "text/plain": [
       "'We are studying Python.'"
      ]
     },
     "execution_count": 29,
     "metadata": {},
     "output_type": "execute_result"
    }
   ],
   "source": [
    "'We are studying Python.'"
   ]
  },
  {
   "cell_type": "code",
   "execution_count": 30,
   "id": "f47bdf2a",
   "metadata": {},
   "outputs": [
    {
     "data": {
      "text/plain": [
       "'3'"
      ]
     },
     "execution_count": 30,
     "metadata": {},
     "output_type": "execute_result"
    }
   ],
   "source": [
    "\"3\""
   ]
  },
  {
   "cell_type": "code",
   "execution_count": 31,
   "id": "cc8fe8c6",
   "metadata": {},
   "outputs": [
    {
     "data": {
      "text/plain": [
       "str"
      ]
     },
     "execution_count": 31,
     "metadata": {},
     "output_type": "execute_result"
    }
   ],
   "source": [
    "type('We are studying Python.')"
   ]
  },
  {
   "cell_type": "code",
   "execution_count": 32,
   "id": "ec954cd4",
   "metadata": {},
   "outputs": [
    {
     "data": {
      "text/plain": [
       "str"
      ]
     },
     "execution_count": 32,
     "metadata": {},
     "output_type": "execute_result"
    }
   ],
   "source": [
    "type(\"2\")"
   ]
  },
  {
   "cell_type": "markdown",
   "id": "80b4bea8",
   "metadata": {},
   "source": [
    "## 문자열 연산"
   ]
  },
  {
   "cell_type": "code",
   "execution_count": 33,
   "id": "366fcb09",
   "metadata": {},
   "outputs": [
    {
     "data": {
      "text/plain": [
       "'32'"
      ]
     },
     "execution_count": 33,
     "metadata": {},
     "output_type": "execute_result"
    }
   ],
   "source": [
    "'3' + '2'"
   ]
  },
  {
   "cell_type": "code",
   "execution_count": 34,
   "id": "8e705666",
   "metadata": {},
   "outputs": [
    {
     "data": {
      "text/plain": [
       "'Knot TheoryKnot Theory'"
      ]
     },
     "execution_count": 34,
     "metadata": {},
     "output_type": "execute_result"
    }
   ],
   "source": [
    "'Knot Theory' * 2"
   ]
  },
  {
   "cell_type": "code",
   "execution_count": 35,
   "id": "ebe91693",
   "metadata": {},
   "outputs": [
    {
     "data": {
      "text/plain": [
       "'=================================================='"
      ]
     },
     "execution_count": 35,
     "metadata": {},
     "output_type": "execute_result"
    }
   ],
   "source": [
    "'='*50"
   ]
  },
  {
   "cell_type": "markdown",
   "id": "b67fc8ab",
   "metadata": {},
   "source": [
    "## 문자열 길이 구하기"
   ]
  },
  {
   "cell_type": "code",
   "execution_count": 36,
   "id": "a8859f0b",
   "metadata": {},
   "outputs": [
    {
     "data": {
      "text/plain": [
       "22"
      ]
     },
     "execution_count": 36,
     "metadata": {},
     "output_type": "execute_result"
    }
   ],
   "source": [
    "len('We are studying Python')"
   ]
  },
  {
   "cell_type": "code",
   "execution_count": 37,
   "id": "8abdd4a4",
   "metadata": {},
   "outputs": [],
   "source": [
    "a = '오늘은 2022년 9월 16일입니다.'"
   ]
  },
  {
   "cell_type": "code",
   "execution_count": 38,
   "id": "ee778629",
   "metadata": {},
   "outputs": [
    {
     "data": {
      "text/plain": [
       "20"
      ]
     },
     "execution_count": 38,
     "metadata": {},
     "output_type": "execute_result"
    }
   ],
   "source": [
    "len(a)"
   ]
  },
  {
   "cell_type": "markdown",
   "id": "1ec3b367",
   "metadata": {},
   "source": [
    "## 문자열 인덱싱/슬라이싱\n",
    "\n",
    "- 파이썬은 항상 0부터 시작합니다."
   ]
  },
  {
   "cell_type": "code",
   "execution_count": 39,
   "id": "40dcfd6b",
   "metadata": {},
   "outputs": [
    {
     "data": {
      "text/plain": [
       "'오늘은 2022년 9월 16일입니다.'"
      ]
     },
     "execution_count": 39,
     "metadata": {},
     "output_type": "execute_result"
    }
   ],
   "source": [
    "a"
   ]
  },
  {
   "cell_type": "code",
   "execution_count": 40,
   "id": "b3ddf740",
   "metadata": {},
   "outputs": [
    {
     "data": {
      "text/plain": [
       "'늘'"
      ]
     },
     "execution_count": 40,
     "metadata": {},
     "output_type": "execute_result"
    }
   ],
   "source": [
    "a[1]"
   ]
  },
  {
   "cell_type": "code",
   "execution_count": 41,
   "id": "30f69329",
   "metadata": {},
   "outputs": [
    {
     "data": {
      "text/plain": [
       "'오'"
      ]
     },
     "execution_count": 41,
     "metadata": {},
     "output_type": "execute_result"
    }
   ],
   "source": [
    "a[0]"
   ]
  },
  {
   "cell_type": "code",
   "execution_count": 42,
   "id": "d0885532",
   "metadata": {},
   "outputs": [
    {
     "data": {
      "text/plain": [
       "'입'"
      ]
     },
     "execution_count": 42,
     "metadata": {},
     "output_type": "execute_result"
    }
   ],
   "source": [
    "a[-4]"
   ]
  },
  {
   "cell_type": "code",
   "execution_count": 43,
   "id": "36c94801",
   "metadata": {},
   "outputs": [
    {
     "data": {
      "text/plain": [
       "'오늘은 2022년 '"
      ]
     },
     "execution_count": 43,
     "metadata": {},
     "output_type": "execute_result"
    }
   ],
   "source": [
    "## 슬라이싱\n",
    "\n",
    "a[:10]"
   ]
  },
  {
   "cell_type": "code",
   "execution_count": 44,
   "id": "f5bc5c41",
   "metadata": {},
   "outputs": [
    {
     "data": {
      "text/plain": [
       "'2022년'"
      ]
     },
     "execution_count": 44,
     "metadata": {},
     "output_type": "execute_result"
    }
   ],
   "source": [
    "a[4:9]"
   ]
  },
  {
   "cell_type": "code",
   "execution_count": 45,
   "id": "efb590f3",
   "metadata": {},
   "outputs": [
    {
     "data": {
      "text/plain": [
       "''"
      ]
     },
     "execution_count": 45,
     "metadata": {},
     "output_type": "execute_result"
    }
   ],
   "source": [
    "a[4:3]"
   ]
  },
  {
   "cell_type": "code",
   "execution_count": 46,
   "id": "c3e45a1a",
   "metadata": {},
   "outputs": [
    {
     "data": {
      "text/plain": [
       "str"
      ]
     },
     "execution_count": 46,
     "metadata": {},
     "output_type": "execute_result"
    }
   ],
   "source": [
    "type(a[4:3])"
   ]
  },
  {
   "cell_type": "code",
   "execution_count": 47,
   "id": "77b3178e",
   "metadata": {},
   "outputs": [
    {
     "data": {
      "text/plain": [
       "'오늘은 2022년 9월 16일입니다.'"
      ]
     },
     "execution_count": 47,
     "metadata": {},
     "output_type": "execute_result"
    }
   ],
   "source": [
    "a"
   ]
  },
  {
   "cell_type": "code",
   "execution_count": 48,
   "id": "be07d948",
   "metadata": {},
   "outputs": [
    {
     "data": {
      "text/plain": [
       "'일입니다.'"
      ]
     },
     "execution_count": 48,
     "metadata": {},
     "output_type": "execute_result"
    }
   ],
   "source": [
    "a[-5:]"
   ]
  },
  {
   "cell_type": "code",
   "execution_count": 49,
   "id": "282c81ef",
   "metadata": {},
   "outputs": [
    {
     "data": {
      "text/plain": [
       "'2022년 9월 16일입'"
      ]
     },
     "execution_count": 49,
     "metadata": {},
     "output_type": "execute_result"
    }
   ],
   "source": [
    "a[4:-3]"
   ]
  },
  {
   "cell_type": "code",
   "execution_count": 50,
   "id": "2717e6fc",
   "metadata": {},
   "outputs": [],
   "source": [
    "today = a[4:-4]"
   ]
  },
  {
   "cell_type": "code",
   "execution_count": 51,
   "id": "af3bec82",
   "metadata": {},
   "outputs": [
    {
     "data": {
      "text/plain": [
       "'2022년 9월 16일'"
      ]
     },
     "execution_count": 51,
     "metadata": {},
     "output_type": "execute_result"
    }
   ],
   "source": [
    "today"
   ]
  },
  {
   "cell_type": "markdown",
   "id": "84d424b6",
   "metadata": {},
   "source": [
    "## 리스트형\n",
    "\n",
    "- 객체들의 모임을 표현할 때 가장 자주 쓰이는 자료형입니다.\n",
    "- 대괄호 [ ]를 이용하여 정의됩니다."
   ]
  },
  {
   "cell_type": "code",
   "execution_count": 52,
   "id": "a50c7203",
   "metadata": {},
   "outputs": [],
   "source": [
    "l = [3,2,1]"
   ]
  },
  {
   "cell_type": "code",
   "execution_count": 53,
   "id": "aae4d93e",
   "metadata": {},
   "outputs": [
    {
     "data": {
      "text/plain": [
       "list"
      ]
     },
     "execution_count": 53,
     "metadata": {},
     "output_type": "execute_result"
    }
   ],
   "source": [
    "type(l)"
   ]
  },
  {
   "cell_type": "code",
   "execution_count": 54,
   "id": "4aaa11b8",
   "metadata": {},
   "outputs": [],
   "source": [
    "# 빈 리스트\n",
    "i = []"
   ]
  },
  {
   "cell_type": "code",
   "execution_count": 55,
   "id": "7984c7bd",
   "metadata": {},
   "outputs": [
    {
     "data": {
      "text/plain": [
       "[]"
      ]
     },
     "execution_count": 55,
     "metadata": {},
     "output_type": "execute_result"
    }
   ],
   "source": [
    "i"
   ]
  },
  {
   "cell_type": "code",
   "execution_count": 56,
   "id": "4566e65c",
   "metadata": {},
   "outputs": [
    {
     "data": {
      "text/plain": [
       "list"
      ]
     },
     "execution_count": 56,
     "metadata": {},
     "output_type": "execute_result"
    }
   ],
   "source": [
    "type(i)"
   ]
  },
  {
   "cell_type": "code",
   "execution_count": 57,
   "id": "506f6d7a",
   "metadata": {},
   "outputs": [],
   "source": [
    "# 빈 리스트는 다음과 같이도 생성할 수 있습니다.\n",
    "j = list()"
   ]
  },
  {
   "cell_type": "code",
   "execution_count": 58,
   "id": "1f090681",
   "metadata": {},
   "outputs": [
    {
     "data": {
      "text/plain": [
       "[]"
      ]
     },
     "execution_count": 58,
     "metadata": {},
     "output_type": "execute_result"
    }
   ],
   "source": [
    "j"
   ]
  },
  {
   "cell_type": "markdown",
   "id": "5e22198e",
   "metadata": {},
   "source": [
    "### 빈 리스트는 왜 필요할까?\n",
    "\n",
    "- 빈 리스트를 생성해두고, 진행 과정에서 나온 결과를 리스트에 저장할 수 있습니다.\n",
    "- `append`라는 함수 (정확히는 메소드,method)를 이용합니다."
   ]
  },
  {
   "cell_type": "code",
   "execution_count": 59,
   "id": "779ef944",
   "metadata": {},
   "outputs": [
    {
     "data": {
      "text/plain": [
       "[]"
      ]
     },
     "execution_count": 59,
     "metadata": {},
     "output_type": "execute_result"
    }
   ],
   "source": [
    "i"
   ]
  },
  {
   "cell_type": "code",
   "execution_count": 60,
   "id": "bb44e305",
   "metadata": {},
   "outputs": [],
   "source": [
    "i.append(4)"
   ]
  },
  {
   "cell_type": "code",
   "execution_count": 61,
   "id": "3d3868e5",
   "metadata": {},
   "outputs": [
    {
     "data": {
      "text/plain": [
       "[4]"
      ]
     },
     "execution_count": 61,
     "metadata": {},
     "output_type": "execute_result"
    }
   ],
   "source": [
    "i"
   ]
  },
  {
   "cell_type": "code",
   "execution_count": 62,
   "id": "4805b50f",
   "metadata": {},
   "outputs": [
    {
     "ename": "TypeError",
     "evalue": "append() takes exactly one argument (2 given)",
     "output_type": "error",
     "traceback": [
      "\u001b[0;31m---------------------------------------------------------------------------\u001b[0m",
      "\u001b[0;31mTypeError\u001b[0m                                 Traceback (most recent call last)",
      "Cell \u001b[0;32mIn [62], line 3\u001b[0m\n\u001b[1;32m      1\u001b[0m \u001b[38;5;66;03m# 한 번에 두 개 이상을 append 할 수 없습니다. \u001b[39;00m\n\u001b[0;32m----> 3\u001b[0m \u001b[43mi\u001b[49m\u001b[38;5;241;43m.\u001b[39;49m\u001b[43mappend\u001b[49m\u001b[43m(\u001b[49m\u001b[38;5;241;43m1\u001b[39;49m\u001b[43m,\u001b[49m\u001b[38;5;241;43m2\u001b[39;49m\u001b[43m)\u001b[49m\n",
      "\u001b[0;31mTypeError\u001b[0m: append() takes exactly one argument (2 given)"
     ]
    }
   ],
   "source": [
    "# 한 번에 두 개 이상을 append 할 수 없습니다. \n",
    "\n",
    "i.append(1,2)"
   ]
  },
  {
   "cell_type": "markdown",
   "id": "d8248db6",
   "metadata": {},
   "source": [
    "## 리스트 연산"
   ]
  },
  {
   "cell_type": "code",
   "execution_count": 63,
   "id": "6ed3e69f",
   "metadata": {},
   "outputs": [
    {
     "data": {
      "text/plain": [
       "[1, 2, 3, 5, 6, 8]"
      ]
     },
     "execution_count": 63,
     "metadata": {},
     "output_type": "execute_result"
    }
   ],
   "source": [
    "a = [1,2,3]\n",
    "b = [5,6,8]\n",
    "\n",
    "a + b"
   ]
  },
  {
   "cell_type": "code",
   "execution_count": 64,
   "id": "68f295c2",
   "metadata": {},
   "outputs": [
    {
     "data": {
      "text/plain": [
       "[1, 2, 3, 1, 2, 3, 1, 2, 3, 1, 2, 3]"
      ]
     },
     "execution_count": 64,
     "metadata": {},
     "output_type": "execute_result"
    }
   ],
   "source": [
    "a*4"
   ]
  },
  {
   "cell_type": "code",
   "execution_count": 65,
   "id": "e5885d9b",
   "metadata": {},
   "outputs": [
    {
     "data": {
      "text/plain": [
       "3"
      ]
     },
     "execution_count": 65,
     "metadata": {},
     "output_type": "execute_result"
    }
   ],
   "source": [
    "len(a)"
   ]
  },
  {
   "cell_type": "code",
   "execution_count": 66,
   "id": "4d121443",
   "metadata": {},
   "outputs": [],
   "source": [
    "c = ['a', 'b', 'c']"
   ]
  },
  {
   "cell_type": "code",
   "execution_count": 67,
   "id": "b50a5b20",
   "metadata": {},
   "outputs": [
    {
     "data": {
      "text/plain": [
       "[1, 2, 3, 'a', 'b', 'c']"
      ]
     },
     "execution_count": 67,
     "metadata": {},
     "output_type": "execute_result"
    }
   ],
   "source": [
    "# 리스트 안에 있는 객체들은 서로 다른 자료형을 가져도 괜찮습니다.\n",
    "\n",
    "a + c"
   ]
  },
  {
   "cell_type": "markdown",
   "id": "edce050f",
   "metadata": {},
   "source": [
    "## 리스트 인덱싱/슬라이싱"
   ]
  },
  {
   "cell_type": "code",
   "execution_count": 68,
   "id": "9e33b835",
   "metadata": {},
   "outputs": [],
   "source": [
    "w = [10,22,'3', 'Tom', [3,2], 3.4]"
   ]
  },
  {
   "cell_type": "code",
   "execution_count": 69,
   "id": "a887f958",
   "metadata": {},
   "outputs": [
    {
     "data": {
      "text/plain": [
       "10"
      ]
     },
     "execution_count": 69,
     "metadata": {},
     "output_type": "execute_result"
    }
   ],
   "source": [
    "w[0]"
   ]
  },
  {
   "cell_type": "code",
   "execution_count": 70,
   "id": "cfbdcbf6",
   "metadata": {},
   "outputs": [
    {
     "data": {
      "text/plain": [
       "[22, '3']"
      ]
     },
     "execution_count": 70,
     "metadata": {},
     "output_type": "execute_result"
    }
   ],
   "source": [
    "w[1:3]"
   ]
  },
  {
   "cell_type": "code",
   "execution_count": 71,
   "id": "65cd22fe",
   "metadata": {},
   "outputs": [
    {
     "data": {
      "text/plain": [
       "[3, 2]"
      ]
     },
     "execution_count": 71,
     "metadata": {},
     "output_type": "execute_result"
    }
   ],
   "source": [
    "w[-2]"
   ]
  },
  {
   "cell_type": "code",
   "execution_count": 72,
   "id": "0f02b332",
   "metadata": {},
   "outputs": [
    {
     "data": {
      "text/plain": [
       "3"
      ]
     },
     "execution_count": 72,
     "metadata": {},
     "output_type": "execute_result"
    }
   ],
   "source": [
    "w[-2][0]"
   ]
  },
  {
   "cell_type": "markdown",
   "id": "453127d4",
   "metadata": {},
   "source": [
    "## 리스트의 수정 및 삭제"
   ]
  },
  {
   "cell_type": "code",
   "execution_count": 73,
   "id": "4dafc082",
   "metadata": {},
   "outputs": [
    {
     "data": {
      "text/plain": [
       "[10, 22, '3', 'Tom', [3, 2], 3.4]"
      ]
     },
     "execution_count": 73,
     "metadata": {},
     "output_type": "execute_result"
    }
   ],
   "source": [
    "w"
   ]
  },
  {
   "cell_type": "code",
   "execution_count": 74,
   "id": "c912a82e",
   "metadata": {},
   "outputs": [],
   "source": [
    "w[-3] = 'Alex'"
   ]
  },
  {
   "cell_type": "code",
   "execution_count": 75,
   "id": "21c5e859",
   "metadata": {},
   "outputs": [
    {
     "data": {
      "text/plain": [
       "[10, 22, '3', 'Alex', [3, 2], 3.4]"
      ]
     },
     "execution_count": 75,
     "metadata": {},
     "output_type": "execute_result"
    }
   ],
   "source": [
    "w"
   ]
  },
  {
   "cell_type": "code",
   "execution_count": 76,
   "id": "f1b1e2d8",
   "metadata": {},
   "outputs": [],
   "source": [
    "del w[1]"
   ]
  },
  {
   "cell_type": "code",
   "execution_count": 77,
   "id": "c22712e7",
   "metadata": {},
   "outputs": [
    {
     "data": {
      "text/plain": [
       "[10, '3', 'Alex', [3, 2], 3.4]"
      ]
     },
     "execution_count": 77,
     "metadata": {},
     "output_type": "execute_result"
    }
   ],
   "source": [
    "w"
   ]
  },
  {
   "cell_type": "code",
   "execution_count": 80,
   "id": "d7847b12",
   "metadata": {},
   "outputs": [],
   "source": [
    "w.remove('Alex')"
   ]
  },
  {
   "cell_type": "code",
   "execution_count": 81,
   "id": "fe4736d8",
   "metadata": {},
   "outputs": [
    {
     "data": {
      "text/plain": [
       "[10, '3', [3, 2], 3.4]"
      ]
     },
     "execution_count": 81,
     "metadata": {},
     "output_type": "execute_result"
    }
   ],
   "source": [
    "w"
   ]
  },
  {
   "cell_type": "code",
   "execution_count": 82,
   "id": "6a8257a6",
   "metadata": {},
   "outputs": [],
   "source": [
    "del w[2:4]"
   ]
  },
  {
   "cell_type": "code",
   "execution_count": 83,
   "id": "b81a4e7e",
   "metadata": {},
   "outputs": [
    {
     "data": {
      "text/plain": [
       "[10, '3']"
      ]
     },
     "execution_count": 83,
     "metadata": {},
     "output_type": "execute_result"
    }
   ],
   "source": [
    "w"
   ]
  },
  {
   "cell_type": "code",
   "execution_count": 84,
   "id": "dc54fa1d",
   "metadata": {},
   "outputs": [],
   "source": [
    "w.append([5,6])"
   ]
  },
  {
   "cell_type": "code",
   "execution_count": 85,
   "id": "38063af3",
   "metadata": {},
   "outputs": [
    {
     "data": {
      "text/plain": [
       "[10, '3', [5, 6]]"
      ]
     },
     "execution_count": 85,
     "metadata": {},
     "output_type": "execute_result"
    }
   ],
   "source": [
    "w"
   ]
  },
  {
   "cell_type": "code",
   "execution_count": 86,
   "id": "0859122e",
   "metadata": {},
   "outputs": [],
   "source": [
    "## 리스트 정렬하기\n",
    "\n",
    "p = [3,0,75,-4,232,2.3]"
   ]
  },
  {
   "cell_type": "code",
   "execution_count": 87,
   "id": "ca77e857",
   "metadata": {},
   "outputs": [],
   "source": [
    "p.sort()"
   ]
  },
  {
   "cell_type": "code",
   "execution_count": 88,
   "id": "11711895",
   "metadata": {},
   "outputs": [
    {
     "data": {
      "text/plain": [
       "[-4, 0, 2.3, 3, 75, 232]"
      ]
     },
     "execution_count": 88,
     "metadata": {},
     "output_type": "execute_result"
    }
   ],
   "source": [
    "p"
   ]
  },
  {
   "cell_type": "code",
   "execution_count": 89,
   "id": "dd677f22",
   "metadata": {},
   "outputs": [],
   "source": [
    "p.append('s')"
   ]
  },
  {
   "cell_type": "code",
   "execution_count": 90,
   "id": "ed2fd357",
   "metadata": {},
   "outputs": [
    {
     "data": {
      "text/plain": [
       "[-4, 0, 2.3, 3, 75, 232, 's']"
      ]
     },
     "execution_count": 90,
     "metadata": {},
     "output_type": "execute_result"
    }
   ],
   "source": [
    "p"
   ]
  },
  {
   "cell_type": "code",
   "execution_count": 91,
   "id": "869c41e5",
   "metadata": {},
   "outputs": [
    {
     "ename": "TypeError",
     "evalue": "'<' not supported between instances of 'str' and 'int'",
     "output_type": "error",
     "traceback": [
      "\u001b[0;31m---------------------------------------------------------------------------\u001b[0m",
      "\u001b[0;31mTypeError\u001b[0m                                 Traceback (most recent call last)",
      "Cell \u001b[0;32mIn [91], line 1\u001b[0m\n\u001b[0;32m----> 1\u001b[0m \u001b[43mp\u001b[49m\u001b[38;5;241;43m.\u001b[39;49m\u001b[43msort\u001b[49m\u001b[43m(\u001b[49m\u001b[43m)\u001b[49m\n",
      "\u001b[0;31mTypeError\u001b[0m: '<' not supported between instances of 'str' and 'int'"
     ]
    }
   ],
   "source": [
    "p.sort()"
   ]
  },
  {
   "cell_type": "code",
   "execution_count": 92,
   "id": "6452050a",
   "metadata": {},
   "outputs": [],
   "source": [
    "q = ['a', 'x', 'e', 's']\n",
    "\n",
    "q.sort()"
   ]
  },
  {
   "cell_type": "code",
   "execution_count": 93,
   "id": "15e37bb4",
   "metadata": {},
   "outputs": [
    {
     "data": {
      "text/plain": [
       "['a', 'e', 's', 'x']"
      ]
     },
     "execution_count": 93,
     "metadata": {},
     "output_type": "execute_result"
    }
   ],
   "source": [
    "q"
   ]
  },
  {
   "cell_type": "code",
   "execution_count": 94,
   "id": "1ae2a6c2",
   "metadata": {},
   "outputs": [],
   "source": [
    "q.reverse()"
   ]
  },
  {
   "cell_type": "code",
   "execution_count": 95,
   "id": "751e549d",
   "metadata": {},
   "outputs": [
    {
     "data": {
      "text/plain": [
       "['x', 's', 'e', 'a']"
      ]
     },
     "execution_count": 95,
     "metadata": {},
     "output_type": "execute_result"
    }
   ],
   "source": [
    "q"
   ]
  },
  {
   "cell_type": "markdown",
   "id": "2307a8d9",
   "metadata": {},
   "source": [
    "### 리스트 내에 있는 원소 확인\n",
    "\n",
    "- 후에 확인하겠지만, `True`나 `False`를 결과로 내는 문장을 조건문이라고 합니다."
   ]
  },
  {
   "cell_type": "code",
   "execution_count": 96,
   "id": "dbd13d42",
   "metadata": {},
   "outputs": [
    {
     "data": {
      "text/plain": [
       "[1, 2, 3]"
      ]
     },
     "execution_count": 96,
     "metadata": {},
     "output_type": "execute_result"
    }
   ],
   "source": [
    "a"
   ]
  },
  {
   "cell_type": "code",
   "execution_count": 97,
   "id": "07650565",
   "metadata": {},
   "outputs": [
    {
     "data": {
      "text/plain": [
       "True"
      ]
     },
     "execution_count": 97,
     "metadata": {},
     "output_type": "execute_result"
    }
   ],
   "source": [
    "3 in a"
   ]
  },
  {
   "cell_type": "code",
   "execution_count": 98,
   "id": "1619cd7e",
   "metadata": {},
   "outputs": [
    {
     "data": {
      "text/plain": [
       "False"
      ]
     },
     "execution_count": 98,
     "metadata": {},
     "output_type": "execute_result"
    }
   ],
   "source": [
    "5 in a"
   ]
  },
  {
   "cell_type": "code",
   "execution_count": 99,
   "id": "b6294b31",
   "metadata": {},
   "outputs": [
    {
     "data": {
      "text/plain": [
       "True"
      ]
     },
     "execution_count": 99,
     "metadata": {},
     "output_type": "execute_result"
    }
   ],
   "source": [
    "5 not in a"
   ]
  },
  {
   "cell_type": "markdown",
   "id": "c0f283f9",
   "metadata": {},
   "source": [
    "## 튜플(Tuple) 자료형\n",
    "\n",
    "- 튜플 자료형은 소괄호 ( )로 생성할 수 있으며, 리스트와 거의 비슷합니다.\n",
    "- 리스트와 튜플의 가장 큰 차이점은 다음과 같습니다.\n",
    "    - 리스트는 그 값의 생성, 삭제, 수정이 가능하지만, 튜플은 그 값을 바꿀 수 없습니다.   \n",
    "- 인덱싱, 슬라이싱은 동일하게 사용됩니다."
   ]
  },
  {
   "cell_type": "code",
   "execution_count": 100,
   "id": "caa72cb3",
   "metadata": {},
   "outputs": [
    {
     "data": {
      "text/plain": [
       "1"
      ]
     },
     "execution_count": 100,
     "metadata": {},
     "output_type": "execute_result"
    }
   ],
   "source": [
    "t1 = (1, 2, 'a', 'b')\n",
    "t1[0]"
   ]
  },
  {
   "cell_type": "code",
   "execution_count": 101,
   "id": "d2afd623",
   "metadata": {},
   "outputs": [
    {
     "data": {
      "text/plain": [
       "tuple"
      ]
     },
     "execution_count": 101,
     "metadata": {},
     "output_type": "execute_result"
    }
   ],
   "source": [
    "type(t1)"
   ]
  },
  {
   "cell_type": "code",
   "execution_count": 102,
   "id": "7f1f70aa",
   "metadata": {},
   "outputs": [
    {
     "ename": "TypeError",
     "evalue": "'tuple' object does not support item assignment",
     "output_type": "error",
     "traceback": [
      "\u001b[0;31m---------------------------------------------------------------------------\u001b[0m",
      "\u001b[0;31mTypeError\u001b[0m                                 Traceback (most recent call last)",
      "Cell \u001b[0;32mIn [102], line 1\u001b[0m\n\u001b[0;32m----> 1\u001b[0m \u001b[43mt1\u001b[49m\u001b[43m[\u001b[49m\u001b[38;5;241;43m0\u001b[39;49m\u001b[43m]\u001b[49m \u001b[38;5;241m=\u001b[39m \u001b[38;5;241m10\u001b[39m\n",
      "\u001b[0;31mTypeError\u001b[0m: 'tuple' object does not support item assignment"
     ]
    }
   ],
   "source": [
    "t1[0] = 10"
   ]
  },
  {
   "cell_type": "code",
   "execution_count": 103,
   "id": "6ee16b56",
   "metadata": {},
   "outputs": [
    {
     "ename": "TypeError",
     "evalue": "'tuple' object doesn't support item deletion",
     "output_type": "error",
     "traceback": [
      "\u001b[0;31m---------------------------------------------------------------------------\u001b[0m",
      "\u001b[0;31mTypeError\u001b[0m                                 Traceback (most recent call last)",
      "Cell \u001b[0;32mIn [103], line 1\u001b[0m\n\u001b[0;32m----> 1\u001b[0m \u001b[38;5;28;01mdel\u001b[39;00m t1[\u001b[38;5;241m0\u001b[39m]\n",
      "\u001b[0;31mTypeError\u001b[0m: 'tuple' object doesn't support item deletion"
     ]
    }
   ],
   "source": [
    "del t1[0]"
   ]
  },
  {
   "cell_type": "code",
   "execution_count": 105,
   "id": "ce17852a",
   "metadata": {},
   "outputs": [],
   "source": [
    "t2 = list(t1)"
   ]
  },
  {
   "cell_type": "code",
   "execution_count": 106,
   "id": "129e6a6b",
   "metadata": {},
   "outputs": [
    {
     "data": {
      "text/plain": [
       "[1, 2, 'a', 'b']"
      ]
     },
     "execution_count": 106,
     "metadata": {},
     "output_type": "execute_result"
    }
   ],
   "source": [
    "t2"
   ]
  },
  {
   "cell_type": "code",
   "execution_count": 108,
   "id": "559b6c3a",
   "metadata": {},
   "outputs": [],
   "source": [
    "t2[0]=10"
   ]
  },
  {
   "cell_type": "code",
   "execution_count": 109,
   "id": "87d2a8cd",
   "metadata": {},
   "outputs": [],
   "source": [
    "t2 = tuple(t2)"
   ]
  },
  {
   "cell_type": "code",
   "execution_count": 110,
   "id": "b41d8cef",
   "metadata": {},
   "outputs": [
    {
     "data": {
      "text/plain": [
       "(10, 2, 'a', 'b')"
      ]
     },
     "execution_count": 110,
     "metadata": {},
     "output_type": "execute_result"
    }
   ],
   "source": [
    "t2"
   ]
  },
  {
   "cell_type": "code",
   "execution_count": null,
   "id": "a1efc597",
   "metadata": {},
   "outputs": [],
   "source": []
  },
  {
   "cell_type": "code",
   "execution_count": 111,
   "id": "b98edaa3",
   "metadata": {},
   "outputs": [
    {
     "data": {
      "text/plain": [
       "(1, 2, 'a', 'b', 1, 2, 'a', 'b', 1, 2, 'a', 'b')"
      ]
     },
     "execution_count": 111,
     "metadata": {},
     "output_type": "execute_result"
    }
   ],
   "source": [
    "t1*3"
   ]
  },
  {
   "cell_type": "code",
   "execution_count": 112,
   "id": "d5d0b709",
   "metadata": {},
   "outputs": [
    {
     "data": {
      "text/plain": [
       "4"
      ]
     },
     "execution_count": 112,
     "metadata": {},
     "output_type": "execute_result"
    }
   ],
   "source": [
    "len(t1)"
   ]
  },
  {
   "cell_type": "markdown",
   "id": "24205dd1",
   "metadata": {},
   "source": [
    "## 딕셔너리 자료형\n",
    "\n",
    "- 키(key)와 값(value)을 한 쌍으로 저장합니다.\n",
    "- 사전에서 key는 단어, value는 단어의 의미와 같은 역할을 합니다.\n",
    "- key 하나 당 value 하나가 저장되고, key는 중복되어 사용할 수 없습니다."
   ]
  },
  {
   "cell_type": "code",
   "execution_count": 113,
   "id": "883f4661",
   "metadata": {},
   "outputs": [],
   "source": [
    "choi = {'birthday': 19950830 , 'phone': '010-5485-1637' , 'address': '631A'}"
   ]
  },
  {
   "cell_type": "code",
   "execution_count": 114,
   "id": "5d018e38",
   "metadata": {},
   "outputs": [
    {
     "data": {
      "text/plain": [
       "dict"
      ]
     },
     "execution_count": 114,
     "metadata": {},
     "output_type": "execute_result"
    }
   ],
   "source": [
    "type(choi)"
   ]
  },
  {
   "cell_type": "code",
   "execution_count": 115,
   "id": "19a5705d",
   "metadata": {},
   "outputs": [
    {
     "data": {
      "text/plain": [
       "19950830"
      ]
     },
     "execution_count": 115,
     "metadata": {},
     "output_type": "execute_result"
    }
   ],
   "source": [
    "choi['birthday']"
   ]
  },
  {
   "cell_type": "code",
   "execution_count": 116,
   "id": "92746c24",
   "metadata": {},
   "outputs": [
    {
     "ename": "KeyError",
     "evalue": "'height'",
     "output_type": "error",
     "traceback": [
      "\u001b[0;31m---------------------------------------------------------------------------\u001b[0m",
      "\u001b[0;31mKeyError\u001b[0m                                  Traceback (most recent call last)",
      "Cell \u001b[0;32mIn [116], line 1\u001b[0m\n\u001b[0;32m----> 1\u001b[0m \u001b[43mchoi\u001b[49m\u001b[43m[\u001b[49m\u001b[38;5;124;43m'\u001b[39;49m\u001b[38;5;124;43mheight\u001b[39;49m\u001b[38;5;124;43m'\u001b[39;49m\u001b[43m]\u001b[49m\n",
      "\u001b[0;31mKeyError\u001b[0m: 'height'"
     ]
    }
   ],
   "source": [
    "choi['height']"
   ]
  },
  {
   "cell_type": "code",
   "execution_count": 117,
   "id": "56e5ade1",
   "metadata": {},
   "outputs": [],
   "source": [
    "choi['gender'] = 'male'"
   ]
  },
  {
   "cell_type": "code",
   "execution_count": 118,
   "id": "397f38c7",
   "metadata": {},
   "outputs": [
    {
     "data": {
      "text/plain": [
       "{'birthday': 19950830,\n",
       " 'phone': '010-5485-1637',\n",
       " 'address': '631A',\n",
       " 'gender': 'male'}"
      ]
     },
     "execution_count": 118,
     "metadata": {},
     "output_type": "execute_result"
    }
   ],
   "source": [
    "choi"
   ]
  },
  {
   "cell_type": "code",
   "execution_count": 119,
   "id": "41d33885",
   "metadata": {},
   "outputs": [],
   "source": [
    "choi[1]= '2'"
   ]
  },
  {
   "cell_type": "code",
   "execution_count": 120,
   "id": "76d28318",
   "metadata": {},
   "outputs": [
    {
     "data": {
      "text/plain": [
       "{'birthday': 19950830,\n",
       " 'phone': '010-5485-1637',\n",
       " 'address': '631A',\n",
       " 'gender': 'male',\n",
       " 1: '2'}"
      ]
     },
     "execution_count": 120,
     "metadata": {},
     "output_type": "execute_result"
    }
   ],
   "source": [
    "choi"
   ]
  },
  {
   "cell_type": "code",
   "execution_count": 121,
   "id": "c2134437",
   "metadata": {},
   "outputs": [],
   "source": [
    "## 특정 key의 value 변경\n",
    "\n",
    "choi[1] = 'one'"
   ]
  },
  {
   "cell_type": "code",
   "execution_count": 122,
   "id": "2c127854",
   "metadata": {},
   "outputs": [
    {
     "data": {
      "text/plain": [
       "{'birthday': 19950830,\n",
       " 'phone': '010-5485-1637',\n",
       " 'address': '631A',\n",
       " 'gender': 'male',\n",
       " 1: 'one'}"
      ]
     },
     "execution_count": 122,
     "metadata": {},
     "output_type": "execute_result"
    }
   ],
   "source": [
    "choi"
   ]
  },
  {
   "cell_type": "code",
   "execution_count": 123,
   "id": "43dba4a5",
   "metadata": {},
   "outputs": [
    {
     "data": {
      "text/plain": [
       "dict_keys(['birthday', 'phone', 'address', 'gender', 1])"
      ]
     },
     "execution_count": 123,
     "metadata": {},
     "output_type": "execute_result"
    }
   ],
   "source": [
    "## Key, Value를 구할 때\n",
    "\n",
    "choi.keys()"
   ]
  },
  {
   "cell_type": "code",
   "execution_count": 124,
   "id": "9755cce2",
   "metadata": {},
   "outputs": [
    {
     "ename": "TypeError",
     "evalue": "'dict_keys' object is not subscriptable",
     "output_type": "error",
     "traceback": [
      "\u001b[0;31m---------------------------------------------------------------------------\u001b[0m",
      "\u001b[0;31mTypeError\u001b[0m                                 Traceback (most recent call last)",
      "Cell \u001b[0;32mIn [124], line 1\u001b[0m\n\u001b[0;32m----> 1\u001b[0m \u001b[43mchoi\u001b[49m\u001b[38;5;241;43m.\u001b[39;49m\u001b[43mkeys\u001b[49m\u001b[43m(\u001b[49m\u001b[43m)\u001b[49m\u001b[43m[\u001b[49m\u001b[38;5;241;43m0\u001b[39;49m\u001b[43m]\u001b[49m\n",
      "\u001b[0;31mTypeError\u001b[0m: 'dict_keys' object is not subscriptable"
     ]
    }
   ],
   "source": [
    "choi.keys()[0]"
   ]
  },
  {
   "cell_type": "code",
   "execution_count": 125,
   "id": "3d011e4f",
   "metadata": {},
   "outputs": [
    {
     "data": {
      "text/plain": [
       "['birthday', 'phone', 'address', 'gender', 1]"
      ]
     },
     "execution_count": 125,
     "metadata": {},
     "output_type": "execute_result"
    }
   ],
   "source": [
    "# 리스트로 변환하기 위해서는\n",
    "choi_keys_list=list(choi.keys())\n",
    "\n",
    "choi_keys_list"
   ]
  },
  {
   "cell_type": "code",
   "execution_count": 127,
   "id": "a2559b68",
   "metadata": {},
   "outputs": [
    {
     "name": "stdout",
     "output_type": "stream",
     "text": [
      "dict_values([19950830, '010-5485-1637', '631A', 'male', 'one'])\n"
     ]
    }
   ],
   "source": [
    "print(choi.values())"
   ]
  },
  {
   "cell_type": "code",
   "execution_count": 128,
   "id": "80517877",
   "metadata": {},
   "outputs": [
    {
     "name": "stdout",
     "output_type": "stream",
     "text": [
      "dict_items([('birthday', 19950830), ('phone', '010-5485-1637'), ('address', '631A'), ('gender', 'male'), (1, 'one')])\n"
     ]
    }
   ],
   "source": [
    "print(choi.items())"
   ]
  },
  {
   "cell_type": "markdown",
   "id": "d0975f03",
   "metadata": {},
   "source": [
    "## 집합 자료형\n",
    "\n",
    "- 수학에서 말하는 집합, set과 같은 역할을 합니다.\n",
    "    - 중복을 허용하지 않습니다.\n",
    "    - 순서가 없습니다. (unordered set)"
   ]
  },
  {
   "cell_type": "code",
   "execution_count": 129,
   "id": "cb7a2a93",
   "metadata": {},
   "outputs": [],
   "source": [
    "# Empty set\n",
    "\n",
    "empty = set()"
   ]
  },
  {
   "cell_type": "code",
   "execution_count": 130,
   "id": "f483a4ec",
   "metadata": {},
   "outputs": [
    {
     "data": {
      "text/plain": [
       "set()"
      ]
     },
     "execution_count": 130,
     "metadata": {},
     "output_type": "execute_result"
    }
   ],
   "source": [
    "empty"
   ]
  },
  {
   "cell_type": "code",
   "execution_count": 131,
   "id": "a79f9c82",
   "metadata": {},
   "outputs": [],
   "source": [
    "z = {}"
   ]
  },
  {
   "cell_type": "code",
   "execution_count": 132,
   "id": "ad768dde",
   "metadata": {},
   "outputs": [
    {
     "data": {
      "text/plain": [
       "dict"
      ]
     },
     "execution_count": 132,
     "metadata": {},
     "output_type": "execute_result"
    }
   ],
   "source": [
    "type(z)"
   ]
  },
  {
   "cell_type": "code",
   "execution_count": 133,
   "id": "54efbd50",
   "metadata": {},
   "outputs": [
    {
     "data": {
      "text/plain": [
       "set"
      ]
     },
     "execution_count": 133,
     "metadata": {},
     "output_type": "execute_result"
    }
   ],
   "source": [
    "type(empty)"
   ]
  },
  {
   "cell_type": "code",
   "execution_count": 134,
   "id": "6b2550c3",
   "metadata": {},
   "outputs": [],
   "source": [
    "s1 = set([1,4,2,3,3,5])"
   ]
  },
  {
   "cell_type": "code",
   "execution_count": 135,
   "id": "fb218937",
   "metadata": {},
   "outputs": [
    {
     "data": {
      "text/plain": [
       "{1, 2, 3, 4, 5}"
      ]
     },
     "execution_count": 135,
     "metadata": {},
     "output_type": "execute_result"
    }
   ],
   "source": [
    "s1"
   ]
  },
  {
   "cell_type": "code",
   "execution_count": 136,
   "id": "91e41be0",
   "metadata": {},
   "outputs": [],
   "source": [
    "s2 = set('MATHEMATICS')"
   ]
  },
  {
   "cell_type": "code",
   "execution_count": 137,
   "id": "0fe33287",
   "metadata": {},
   "outputs": [
    {
     "data": {
      "text/plain": [
       "{'A', 'C', 'E', 'H', 'I', 'M', 'S', 'T'}"
      ]
     },
     "execution_count": 137,
     "metadata": {},
     "output_type": "execute_result"
    }
   ],
   "source": [
    "s2"
   ]
  },
  {
   "cell_type": "code",
   "execution_count": 138,
   "id": "8bd9d63e",
   "metadata": {},
   "outputs": [
    {
     "ename": "TypeError",
     "evalue": "'set' object is not subscriptable",
     "output_type": "error",
     "traceback": [
      "\u001b[0;31m---------------------------------------------------------------------------\u001b[0m",
      "\u001b[0;31mTypeError\u001b[0m                                 Traceback (most recent call last)",
      "Cell \u001b[0;32mIn [138], line 1\u001b[0m\n\u001b[0;32m----> 1\u001b[0m \u001b[43ms2\u001b[49m\u001b[43m[\u001b[49m\u001b[38;5;241;43m0\u001b[39;49m\u001b[43m]\u001b[49m\n",
      "\u001b[0;31mTypeError\u001b[0m: 'set' object is not subscriptable"
     ]
    }
   ],
   "source": [
    "s2[0]"
   ]
  },
  {
   "cell_type": "markdown",
   "id": "9ec29baa",
   "metadata": {},
   "source": [
    "### 집합 연산\n",
    "\n",
    "- 합집합\n",
    "- 교집합\n",
    "- 차집합"
   ]
  },
  {
   "cell_type": "code",
   "execution_count": 139,
   "id": "ff86f454",
   "metadata": {},
   "outputs": [],
   "source": [
    "s1 = {1,2,3,4,5,6}\n",
    "s2 = {4,5,6,7,8,9}"
   ]
  },
  {
   "cell_type": "code",
   "execution_count": 140,
   "id": "0ecc973f",
   "metadata": {},
   "outputs": [
    {
     "name": "stdout",
     "output_type": "stream",
     "text": [
      "{1, 2, 3, 4, 5, 6, 7, 8, 9}\n",
      "{1, 2, 3, 4, 5, 6, 7, 8, 9}\n"
     ]
    }
   ],
   "source": [
    "print(s1 | s2)\n",
    "print(s1.union(s2))"
   ]
  },
  {
   "cell_type": "code",
   "execution_count": 141,
   "id": "f2d61cb0",
   "metadata": {},
   "outputs": [
    {
     "name": "stdout",
     "output_type": "stream",
     "text": [
      "{4, 5, 6}\n",
      "{4, 5, 6}\n"
     ]
    }
   ],
   "source": [
    "print(s1 & s2)\n",
    "print(s1.intersection(s2))"
   ]
  },
  {
   "cell_type": "code",
   "execution_count": 142,
   "id": "cb80f76e",
   "metadata": {},
   "outputs": [
    {
     "name": "stdout",
     "output_type": "stream",
     "text": [
      "{1, 2, 3}\n",
      "{1, 2, 3}\n"
     ]
    }
   ],
   "source": [
    "print(s1-s2)\n",
    "print(s1.difference(s2))"
   ]
  },
  {
   "cell_type": "markdown",
   "id": "8950fe5f",
   "metadata": {},
   "source": [
    "### 집합 관련 메소드\n",
    "\n",
    "- add (하나의 원소 추가)\n",
    "- update (여러개의 원소 추가)\n",
    "- remove (특정 원소 한 개 제거)"
   ]
  },
  {
   "cell_type": "code",
   "execution_count": 143,
   "id": "b006f546",
   "metadata": {},
   "outputs": [],
   "source": [
    "s1.add(10)"
   ]
  },
  {
   "cell_type": "code",
   "execution_count": 144,
   "id": "3d4f2b17",
   "metadata": {},
   "outputs": [
    {
     "data": {
      "text/plain": [
       "{1, 2, 3, 4, 5, 6, 10}"
      ]
     },
     "execution_count": 144,
     "metadata": {},
     "output_type": "execute_result"
    }
   ],
   "source": [
    "s1"
   ]
  },
  {
   "cell_type": "code",
   "execution_count": 145,
   "id": "089c4ebc",
   "metadata": {},
   "outputs": [],
   "source": [
    "s1.update([100,-10, 0])"
   ]
  },
  {
   "cell_type": "code",
   "execution_count": 146,
   "id": "f3b36626",
   "metadata": {},
   "outputs": [
    {
     "data": {
      "text/plain": [
       "{-10, 0, 1, 2, 3, 4, 5, 6, 10, 100}"
      ]
     },
     "execution_count": 146,
     "metadata": {},
     "output_type": "execute_result"
    }
   ],
   "source": [
    "s1"
   ]
  },
  {
   "cell_type": "code",
   "execution_count": 147,
   "id": "e8e600ca",
   "metadata": {},
   "outputs": [],
   "source": [
    "s1.remove(100)"
   ]
  },
  {
   "cell_type": "code",
   "execution_count": 148,
   "id": "dac8624f",
   "metadata": {},
   "outputs": [
    {
     "data": {
      "text/plain": [
       "{-10, 0, 1, 2, 3, 4, 5, 6, 10}"
      ]
     },
     "execution_count": 148,
     "metadata": {},
     "output_type": "execute_result"
    }
   ],
   "source": [
    "s1"
   ]
  },
  {
   "cell_type": "markdown",
   "id": "ece2d089",
   "metadata": {},
   "source": [
    "## 불 (Bool) 자료형\n",
    "\n",
    "- `True` or `False` 만을 나타내는 자료형입니다.\n",
    "- `bool()` 함수(기본 내장함수)를 통해 얻을 수 있습니다.\n",
    "- 조건문의 결과는 bool 자료형입니다."
   ]
  },
  {
   "cell_type": "code",
   "execution_count": 149,
   "id": "ae58e1c1",
   "metadata": {},
   "outputs": [],
   "source": [
    "math = True"
   ]
  },
  {
   "cell_type": "code",
   "execution_count": 150,
   "id": "d2020a61",
   "metadata": {},
   "outputs": [
    {
     "data": {
      "text/plain": [
       "bool"
      ]
     },
     "execution_count": 150,
     "metadata": {},
     "output_type": "execute_result"
    }
   ],
   "source": [
    "type(math)"
   ]
  },
  {
   "cell_type": "code",
   "execution_count": 151,
   "id": "f691f355",
   "metadata": {},
   "outputs": [
    {
     "data": {
      "text/plain": [
       "True"
      ]
     },
     "execution_count": 151,
     "metadata": {},
     "output_type": "execute_result"
    }
   ],
   "source": [
    "bool('False')"
   ]
  },
  {
   "cell_type": "code",
   "execution_count": 152,
   "id": "5e5b4b11",
   "metadata": {},
   "outputs": [
    {
     "data": {
      "text/plain": [
       "False"
      ]
     },
     "execution_count": 152,
     "metadata": {},
     "output_type": "execute_result"
    }
   ],
   "source": [
    "bool('')"
   ]
  },
  {
   "cell_type": "code",
   "execution_count": 154,
   "id": "298e9c1e",
   "metadata": {},
   "outputs": [
    {
     "data": {
      "text/plain": [
       "True"
      ]
     },
     "execution_count": 154,
     "metadata": {},
     "output_type": "execute_result"
    }
   ],
   "source": [
    "bool(10)"
   ]
  },
  {
   "cell_type": "code",
   "execution_count": 155,
   "id": "c434757f",
   "metadata": {},
   "outputs": [
    {
     "data": {
      "text/plain": [
       "False"
      ]
     },
     "execution_count": 155,
     "metadata": {},
     "output_type": "execute_result"
    }
   ],
   "source": [
    "bool(0)"
   ]
  },
  {
   "cell_type": "code",
   "execution_count": 156,
   "id": "be9bb3cd",
   "metadata": {},
   "outputs": [
    {
     "data": {
      "text/plain": [
       "False"
      ]
     },
     "execution_count": 156,
     "metadata": {},
     "output_type": "execute_result"
    }
   ],
   "source": [
    "bool([])"
   ]
  },
  {
   "cell_type": "code",
   "execution_count": 157,
   "id": "8cbb9692",
   "metadata": {},
   "outputs": [
    {
     "data": {
      "text/plain": [
       "True"
      ]
     },
     "execution_count": 157,
     "metadata": {},
     "output_type": "execute_result"
    }
   ],
   "source": [
    "bool([1,2,3])"
   ]
  },
  {
   "cell_type": "code",
   "execution_count": 158,
   "id": "b65755ed",
   "metadata": {},
   "outputs": [
    {
     "data": {
      "text/plain": [
       "False"
      ]
     },
     "execution_count": 158,
     "metadata": {},
     "output_type": "execute_result"
    }
   ],
   "source": [
    "bool({})"
   ]
  },
  {
   "cell_type": "code",
   "execution_count": 159,
   "id": "0d2f26a7",
   "metadata": {},
   "outputs": [
    {
     "data": {
      "text/plain": [
       "False"
      ]
     },
     "execution_count": 159,
     "metadata": {},
     "output_type": "execute_result"
    }
   ],
   "source": [
    "bool(())"
   ]
  },
  {
   "cell_type": "code",
   "execution_count": 160,
   "id": "e2880e4b",
   "metadata": {},
   "outputs": [
    {
     "data": {
      "text/plain": [
       "False"
      ]
     },
     "execution_count": 160,
     "metadata": {},
     "output_type": "execute_result"
    }
   ],
   "source": [
    "bool(None)"
   ]
  },
  {
   "cell_type": "code",
   "execution_count": 161,
   "id": "6a202e58",
   "metadata": {},
   "outputs": [
    {
     "data": {
      "text/plain": [
       "NoneType"
      ]
     },
     "execution_count": 161,
     "metadata": {},
     "output_type": "execute_result"
    }
   ],
   "source": [
    "## 참고: None은 NoneType 자료형의 유일한 객체입니다. \n",
    "\n",
    "type(None)"
   ]
  },
  {
   "cell_type": "markdown",
   "id": "7355a54c",
   "metadata": {},
   "source": [
    "## 조건문\n",
    "\n",
    "- 조건문의 결과는 항상 bool 형태로 나타납니다."
   ]
  },
  {
   "cell_type": "code",
   "execution_count": 162,
   "id": "fac8c726",
   "metadata": {},
   "outputs": [
    {
     "data": {
      "text/plain": [
       "True"
      ]
     },
     "execution_count": 162,
     "metadata": {},
     "output_type": "execute_result"
    }
   ],
   "source": [
    "5>3"
   ]
  },
  {
   "cell_type": "code",
   "execution_count": 163,
   "id": "25729e6a",
   "metadata": {},
   "outputs": [
    {
     "data": {
      "text/plain": [
       "False"
      ]
     },
     "execution_count": 163,
     "metadata": {},
     "output_type": "execute_result"
    }
   ],
   "source": [
    "7<1"
   ]
  },
  {
   "cell_type": "code",
   "execution_count": 165,
   "id": "17c29849",
   "metadata": {},
   "outputs": [
    {
     "data": {
      "text/plain": [
       "True"
      ]
     },
     "execution_count": 165,
     "metadata": {},
     "output_type": "execute_result"
    }
   ],
   "source": [
    "5<=5"
   ]
  },
  {
   "cell_type": "code",
   "execution_count": 166,
   "id": "eca7b481",
   "metadata": {},
   "outputs": [
    {
     "data": {
      "text/plain": [
       "False"
      ]
     },
     "execution_count": 166,
     "metadata": {},
     "output_type": "execute_result"
    }
   ],
   "source": [
    "a = [1,2,3]\n",
    "\n",
    "4 in a"
   ]
  },
  {
   "cell_type": "code",
   "execution_count": 167,
   "id": "9865acde",
   "metadata": {},
   "outputs": [
    {
     "ename": "SyntaxError",
     "evalue": "cannot assign to literal (1333926606.py, line 3)",
     "output_type": "error",
     "traceback": [
      "\u001b[0;36m  Cell \u001b[0;32mIn [167], line 3\u001b[0;36m\u001b[0m\n\u001b[0;31m    5 = 5\u001b[0m\n\u001b[0m    ^\u001b[0m\n\u001b[0;31mSyntaxError\u001b[0m\u001b[0;31m:\u001b[0m cannot assign to literal\n"
     ]
    }
   ],
   "source": [
    "## 주의!! 등호(=)는 좌변 변수에 우변에 있는 값을 대입할 때 쓰이는 문법입니다. 숫자는 변수가 될 수 없으므로 에러가 발생합니다.\n",
    "\n",
    "5 = 5"
   ]
  },
  {
   "cell_type": "code",
   "execution_count": 168,
   "id": "0ca9d600",
   "metadata": {},
   "outputs": [
    {
     "data": {
      "text/plain": [
       "False"
      ]
     },
     "execution_count": 168,
     "metadata": {},
     "output_type": "execute_result"
    }
   ],
   "source": [
    "## 서로 같은지를 물어보기 위해서는 등호 2개(==)를 사용해야 합니다.\n",
    "\n",
    "5 == 9"
   ]
  },
  {
   "cell_type": "code",
   "execution_count": 169,
   "id": "219bad4f",
   "metadata": {},
   "outputs": [
    {
     "data": {
      "text/plain": [
       "True"
      ]
     },
     "execution_count": 169,
     "metadata": {},
     "output_type": "execute_result"
    }
   ],
   "source": [
    "5 != 9"
   ]
  },
  {
   "cell_type": "markdown",
   "id": "c82eb3ac",
   "metadata": {},
   "source": [
    "## 변수에 대해서 조금만 더!"
   ]
  },
  {
   "cell_type": "code",
   "execution_count": 170,
   "id": "a1a8d9c3",
   "metadata": {},
   "outputs": [],
   "source": [
    "a = [1,2,3]"
   ]
  },
  {
   "cell_type": "markdown",
   "id": "c1f2c2e8",
   "metadata": {},
   "source": [
    "`a = [1, 2, 3]`을 실행하면 \n",
    "- `[1, 2, 3]` 값을 가지는 리스트 자료형(객체)이 자동으로 메모리에 생성되고\n",
    "- 변수 `a`는 `[1, 2, 3]` 리스트가 저장된 메모리의 주소를 가리키게 됩니다.\n",
    "- 메모리의 주소는 `id()`라는 함수를 통해 찾을 수 있습니다."
   ]
  },
  {
   "cell_type": "code",
   "execution_count": 172,
   "id": "29466b96",
   "metadata": {},
   "outputs": [
    {
     "data": {
      "text/plain": [
       "140453311166144"
      ]
     },
     "execution_count": 172,
     "metadata": {},
     "output_type": "execute_result"
    }
   ],
   "source": [
    "id(a)"
   ]
  },
  {
   "cell_type": "code",
   "execution_count": 173,
   "id": "311aa49f",
   "metadata": {},
   "outputs": [
    {
     "data": {
      "text/plain": [
       "140453311266688"
      ]
     },
     "execution_count": 173,
     "metadata": {},
     "output_type": "execute_result"
    }
   ],
   "source": [
    "# 그렇다면 동일한 값을 가지는 자료형를 다른 변수에 저장한다면?\n",
    "\n",
    "b = [1,2,3]\n",
    "\n",
    "id(b)"
   ]
  },
  {
   "cell_type": "markdown",
   "id": "a13e8ce3",
   "metadata": {},
   "source": [
    "서로 다른 집 주소에 동일한 형태의 집을 지은 것과 마찬가지이므로, 메모리의 주소는 다릅니다."
   ]
  },
  {
   "cell_type": "markdown",
   "id": "e1c1cf46",
   "metadata": {},
   "source": [
    "### 변수를 만들 때에 주의할 사항"
   ]
  },
  {
   "cell_type": "code",
   "execution_count": 174,
   "id": "ef75d673",
   "metadata": {},
   "outputs": [],
   "source": [
    "c = a"
   ]
  },
  {
   "cell_type": "code",
   "execution_count": 175,
   "id": "7edf209c",
   "metadata": {},
   "outputs": [
    {
     "data": {
      "text/plain": [
       "[1, 2, 3]"
      ]
     },
     "execution_count": 175,
     "metadata": {},
     "output_type": "execute_result"
    }
   ],
   "source": [
    "c"
   ]
  },
  {
   "cell_type": "code",
   "execution_count": 176,
   "id": "44085e7f",
   "metadata": {},
   "outputs": [
    {
     "data": {
      "text/plain": [
       "140453311166144"
      ]
     },
     "execution_count": 176,
     "metadata": {},
     "output_type": "execute_result"
    }
   ],
   "source": [
    "id(c)"
   ]
  },
  {
   "cell_type": "code",
   "execution_count": 177,
   "id": "cafc44df",
   "metadata": {},
   "outputs": [
    {
     "data": {
      "text/plain": [
       "140453311166144"
      ]
     },
     "execution_count": 177,
     "metadata": {},
     "output_type": "execute_result"
    }
   ],
   "source": [
    "id(a)"
   ]
  },
  {
   "cell_type": "markdown",
   "id": "87ae4048",
   "metadata": {},
   "source": [
    "변수 `c`를 변수 `a`가 갖고 있는 주소에 대응시킨 것이 됩니다."
   ]
  },
  {
   "cell_type": "code",
   "execution_count": 178,
   "id": "096a7a46",
   "metadata": {},
   "outputs": [
    {
     "data": {
      "text/plain": [
       "True"
      ]
     },
     "execution_count": 178,
     "metadata": {},
     "output_type": "execute_result"
    }
   ],
   "source": [
    "c is a"
   ]
  },
  {
   "cell_type": "code",
   "execution_count": 179,
   "id": "de92a5ff",
   "metadata": {},
   "outputs": [],
   "source": [
    "c[0]=10"
   ]
  },
  {
   "cell_type": "code",
   "execution_count": 180,
   "id": "c990c316",
   "metadata": {},
   "outputs": [
    {
     "data": {
      "text/plain": [
       "[10, 2, 3]"
      ]
     },
     "execution_count": 180,
     "metadata": {},
     "output_type": "execute_result"
    }
   ],
   "source": [
    "c"
   ]
  },
  {
   "cell_type": "code",
   "execution_count": 181,
   "id": "97ce427e",
   "metadata": {},
   "outputs": [
    {
     "data": {
      "text/plain": [
       "[10, 2, 3]"
      ]
     },
     "execution_count": 181,
     "metadata": {},
     "output_type": "execute_result"
    }
   ],
   "source": [
    "# 그렇다면 a는..?\n",
    "\n",
    "a"
   ]
  },
  {
   "cell_type": "markdown",
   "id": "a584834f",
   "metadata": {},
   "source": [
    "## 리스트 복사 방법\n",
    "\n",
    "- 슬라이싱 이용\n",
    "- copy 모듈 이용"
   ]
  },
  {
   "cell_type": "code",
   "execution_count": 183,
   "id": "1bd410b4",
   "metadata": {},
   "outputs": [
    {
     "data": {
      "text/plain": [
       "140453311166144"
      ]
     },
     "execution_count": 183,
     "metadata": {},
     "output_type": "execute_result"
    }
   ],
   "source": [
    "id(a)"
   ]
  },
  {
   "cell_type": "code",
   "execution_count": 182,
   "id": "97dabb0d",
   "metadata": {},
   "outputs": [
    {
     "data": {
      "text/plain": [
       "140453311316864"
      ]
     },
     "execution_count": 182,
     "metadata": {},
     "output_type": "execute_result"
    }
   ],
   "source": [
    "copy_a = a[:]\n",
    "\n",
    "id(copy_a)"
   ]
  },
  {
   "cell_type": "code",
   "execution_count": 184,
   "id": "e7aee50d",
   "metadata": {},
   "outputs": [
    {
     "data": {
      "text/plain": [
       "False"
      ]
     },
     "execution_count": 184,
     "metadata": {},
     "output_type": "execute_result"
    }
   ],
   "source": [
    "copy_a is a"
   ]
  },
  {
   "cell_type": "code",
   "execution_count": 185,
   "id": "c586ff04",
   "metadata": {},
   "outputs": [],
   "source": [
    "from copy import copy\n",
    "\n",
    "copy_a2 = copy(a)"
   ]
  },
  {
   "cell_type": "code",
   "execution_count": 186,
   "id": "94325a61",
   "metadata": {},
   "outputs": [
    {
     "data": {
      "text/plain": [
       "140453310952000"
      ]
     },
     "execution_count": 186,
     "metadata": {},
     "output_type": "execute_result"
    }
   ],
   "source": [
    "id(copy_a2)"
   ]
  },
  {
   "cell_type": "code",
   "execution_count": 187,
   "id": "51399907",
   "metadata": {},
   "outputs": [
    {
     "data": {
      "text/plain": [
       "True"
      ]
     },
     "execution_count": 187,
     "metadata": {},
     "output_type": "execute_result"
    }
   ],
   "source": [
    "copy_a2 is not a"
   ]
  },
  {
   "cell_type": "markdown",
   "id": "494ac1a9",
   "metadata": {},
   "source": [
    "### 변수 여러개 지정"
   ]
  },
  {
   "cell_type": "code",
   "execution_count": 188,
   "id": "2d8f91fe",
   "metadata": {},
   "outputs": [],
   "source": [
    "one,two=1,2"
   ]
  },
  {
   "cell_type": "code",
   "execution_count": 189,
   "id": "a09c5bfa",
   "metadata": {},
   "outputs": [],
   "source": [
    "x,y = (100,23)"
   ]
  },
  {
   "cell_type": "code",
   "execution_count": 190,
   "id": "0a55236f",
   "metadata": {},
   "outputs": [
    {
     "name": "stdout",
     "output_type": "stream",
     "text": [
      "100\n",
      "23\n"
     ]
    }
   ],
   "source": [
    "print(x)\n",
    "print(y)"
   ]
  },
  {
   "cell_type": "code",
   "execution_count": 191,
   "id": "614e0d0a",
   "metadata": {},
   "outputs": [],
   "source": [
    "a = b = 'math'"
   ]
  },
  {
   "cell_type": "code",
   "execution_count": 192,
   "id": "7287a0a3",
   "metadata": {},
   "outputs": [
    {
     "name": "stdout",
     "output_type": "stream",
     "text": [
      "math math\n"
     ]
    }
   ],
   "source": [
    "print(a, b)"
   ]
  },
  {
   "cell_type": "code",
   "execution_count": 193,
   "id": "c8352598",
   "metadata": {},
   "outputs": [
    {
     "data": {
      "text/plain": [
       "140453251718256"
      ]
     },
     "execution_count": 193,
     "metadata": {},
     "output_type": "execute_result"
    }
   ],
   "source": [
    "id(a)"
   ]
  },
  {
   "cell_type": "code",
   "execution_count": 194,
   "id": "d13b91d3",
   "metadata": {},
   "outputs": [
    {
     "data": {
      "text/plain": [
       "140453251718256"
      ]
     },
     "execution_count": 194,
     "metadata": {},
     "output_type": "execute_result"
    }
   ],
   "source": [
    "id(b)"
   ]
  },
  {
   "cell_type": "code",
   "execution_count": null,
   "id": "fc32b499",
   "metadata": {},
   "outputs": [],
   "source": []
  },
  {
   "cell_type": "code",
   "execution_count": null,
   "id": "51e038e5",
   "metadata": {},
   "outputs": [],
   "source": []
  }
 ],
 "metadata": {
  "kernelspec": {
   "display_name": "MathDLstudy",
   "language": "python",
   "name": "mathdl"
  },
  "language_info": {
   "codemirror_mode": {
    "name": "ipython",
    "version": 3
   },
   "file_extension": ".py",
   "mimetype": "text/x-python",
   "name": "python",
   "nbconvert_exporter": "python",
   "pygments_lexer": "ipython3",
   "version": "3.8.13"
  }
 },
 "nbformat": 4,
 "nbformat_minor": 5
}
