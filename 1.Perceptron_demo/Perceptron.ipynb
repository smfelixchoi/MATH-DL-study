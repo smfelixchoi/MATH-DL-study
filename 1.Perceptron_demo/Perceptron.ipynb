{
 "cells": [
  {
   "cell_type": "markdown",
   "id": "36e0e262",
   "metadata": {},
   "source": [
    "# Perceptron\n",
    "\n",
    "- Linear Separable Data"
   ]
  },
  {
   "cell_type": "code",
   "execution_count": null,
   "id": "e8857523",
   "metadata": {},
   "outputs": [],
   "source": []
  }
 ],
 "metadata": {
  "kernelspec": {
   "display_name": "MathDLstudy",
   "language": "python",
   "name": "mathdl"
  },
  "language_info": {
   "codemirror_mode": {
    "name": "ipython",
    "version": 3
   },
   "file_extension": ".py",
   "mimetype": "text/x-python",
   "name": "python",
   "nbconvert_exporter": "python",
   "pygments_lexer": "ipython3",
   "version": "3.8.13"
  }
 },
 "nbformat": 4,
 "nbformat_minor": 5
}
