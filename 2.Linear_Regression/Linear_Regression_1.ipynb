{
 "cells": [
  {
   "cell_type": "markdown",
   "id": "bf757074",
   "metadata": {},
   "source": [
    "# Linear Regression From Scratch"
   ]
  },
  {
   "cell_type": "code",
   "execution_count": 1,
   "id": "f2abb652",
   "metadata": {},
   "outputs": [],
   "source": [
    "import numpy as np\n",
    "import matplotlib.pyplot as plt\n",
    "from matplotlib import animation"
   ]
  },
  {
   "cell_type": "markdown",
   "id": "dc481628",
   "metadata": {},
   "source": [
    "## Plot With 1D data"
   ]
  },
  {
   "cell_type": "code",
   "execution_count": 2,
   "id": "5c5564ee",
   "metadata": {},
   "outputs": [],
   "source": [
    "import numpy as np"
   ]
  },
  {
   "cell_type": "code",
   "execution_count": 3,
   "id": "9e3a49e9",
   "metadata": {},
   "outputs": [],
   "source": [
    "def f(x):\n",
    "    return 5*x-2"
   ]
  },
  {
   "cell_type": "code",
   "execution_count": 4,
   "id": "1bcbdbc3",
   "metadata": {},
   "outputs": [],
   "source": [
    "x = np.linspace(-3, 3, 200)"
   ]
  },
  {
   "cell_type": "code",
   "execution_count": 5,
   "id": "d5d47f39",
   "metadata": {},
   "outputs": [],
   "source": [
    "e = np.random.randn(200)"
   ]
  },
  {
   "cell_type": "code",
   "execution_count": 6,
   "id": "d19d8b07",
   "metadata": {},
   "outputs": [],
   "source": [
    "y = f(x) + e"
   ]
  },
  {
   "cell_type": "code",
   "execution_count": 7,
   "id": "be8d63ba",
   "metadata": {},
   "outputs": [],
   "source": [
    "import matplotlib.pyplot as plt"
   ]
  },
  {
   "cell_type": "code",
   "execution_count": 8,
   "id": "b24baaf4",
   "metadata": {
    "scrolled": false
   },
   "outputs": [
    {
     "data": {
      "image/png": "[encoded data removed]",
      "text/plain": [
       "<Figure size 640x480 with 1 Axes>"
      ]
     },
     "metadata": {},
     "output_type": "display_data"
    }
   ],
   "source": [
    "plt.plot(x,y, 'o', markersize=1)\n",
    "plt.plot(x,f(x))\n",
    "plt.show()"
   ]
  },
  {
   "cell_type": "markdown",
   "id": "d3170d20",
   "metadata": {},
   "source": [
    "## Linear Regression Problem Statement & Solutions\n",
    "\n",
    "Given dataset $\\mathcal{D}=\\{(x^i,y^i)\\}_{i=1}^N$ where $x^i \\in \\mathbb{R}^d$ and $y^i \\in \\mathbb{R}$,\n",
    "we want to find $w = (w_0, w_1, w_2, \\dots, w_d)$ which minimizes \n",
    "$$ L(w) = \\frac{1}{2N}\\sum_{i=1}^N (y^i - f_w(x^i))^2 $$\n",
    "where $f_w(x) = w_0 + w_1 x_1 + w_2  x_2 + \\cdots + w_d  x_d$.\n"
   ]
  },
  {
   "cell_type": "markdown",
   "id": "bc0fc357",
   "metadata": {},
   "source": [
    "### 1. Analytic Solution\n",
    "\n",
    "Let $X \\in \\mathbb{R}^{(d+1) \\times N}$ be the ***design matrix*** of the data,\n",
    "that is, the $i$th row vector of $X$ is $\\hat{x^i} = (1, x^i)$.\n",
    "\n",
    "Let $y \\in \\mathbb{R}^N$ be the vector consisting of labels of data.\n",
    "\n",
    "Then, the loss function $L(w)$ can be written as the following vector notation:\n",
    "$$ L(w) = \\frac{1}{2N} \\| y- Xw \\|^2 = \\frac{1}{2N} (y-Xw)^\\top (y-Xw).$$\n",
    "\n",
    "Since the loss function is convex w.r.t $w$, we can find the minimum by differentiating the function w.r.t $w$.\n",
    "\n",
    "$$ \\frac{\\partial L}{\\partial w} (y^\\top y - 2y^\\top Xw + w^\\top X^\\top Xw) = -2X^\\top y + 2X^\\top X w = 0$$\n",
    "\n",
    "Therefore, if $X^\\top X$ is invertible, the analytic solution is\n",
    "$$ w = (X^\\top X)^{-1} (X^\\top y). $$"
   ]
  },
  {
   "cell_type": "markdown",
   "id": "0de00421",
   "metadata": {},
   "source": [
    "### 2. Numerical Solution using Gradient Descent\n",
    "\n",
    "$$ L(w) = \\frac{1}{2N}\\sum_{i=1}^N (y^i - f_w(x^i))^2 $$\n",
    "\n",
    "1. Initialize $w$ randomly. Set the learning rate $\\eta$.\n",
    "2. Repeat update until convergence:\n",
    "$$ w \\leftarrow w - \\eta\\,\\nabla_w L$$\n",
    "or\n",
    "$$ w_j \\leftarrow w_j - \\eta \\frac{\\partial L}{\\partial w_j} = w_j - \\frac{\\eta}{N} \\sum_{i=1}^N (f_w(x^i) - y_i) \\, x_j$$"
   ]
  },
  {
   "cell_type": "code",
   "execution_count": null,
   "id": "65798141",
   "metadata": {},
   "outputs": [],
   "source": []
  }
 ],
 "metadata": {
  "kernelspec": {
   "display_name": "MathDLstudy",
   "language": "python",
   "name": "mathdl"
  },
  "language_info": {
   "codemirror_mode": {
    "name": "ipython",
    "version": 3
   },
   "file_extension": ".py",
   "mimetype": "text/x-python",
   "name": "python",
   "nbconvert_exporter": "python",
   "pygments_lexer": "ipython3",
   "version": "3.8.13"
  }
 },
 "nbformat": 4,
 "nbformat_minor": 5
}
