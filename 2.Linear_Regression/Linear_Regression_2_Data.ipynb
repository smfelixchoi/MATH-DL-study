{
 "cells": [
  {
   "cell_type": "markdown",
   "id": "e198236b",
   "metadata": {},
   "source": [
    "# Linear Regression"
   ]
  },
  {
   "cell_type": "markdown",
   "id": "0b2bf3e1",
   "metadata": {},
   "source": [
    "## Generate Data "
   ]
  },
  {
   "cell_type": "code",
   "execution_count": 1,
   "id": "c6f9b6d5",
   "metadata": {},
   "outputs": [],
   "source": [
    "import numpy as np"
   ]
  },
  {
   "cell_type": "code",
   "execution_count": 2,
   "id": "af094432",
   "metadata": {},
   "outputs": [],
   "source": [
    "x1 = np.linspace(-3,1,6)\n",
    "x2 = np.linspace(-2,2,7)\n",
    "x3 = np.linspace(-1,3,8)\n",
    "x4 = np.linspace(-3.5,5,10)\n",
    "\n",
    "X = np.zeros((6*7*8*10, 4))\n",
    "\n",
    "k=0\n",
    "\n",
    "for a in range(6):\n",
    "    for b in range(7):\n",
    "        for c in range(8):\n",
    "            for d in range(10):\n",
    "                X[k] = np.array([x1[a], x2[b], x3[c], x4[d] ])\n",
    "                k+=1"
   ]
  },
  {
   "cell_type": "code",
   "execution_count": 3,
   "id": "d4a7cc1c",
   "metadata": {},
   "outputs": [
    {
     "data": {
      "text/plain": [
       "(3360, 4)"
      ]
     },
     "execution_count": 3,
     "metadata": {},
     "output_type": "execute_result"
    }
   ],
   "source": [
    "X.shape"
   ]
  },
  {
   "cell_type": "code",
   "execution_count": 4,
   "id": "fbddaa87",
   "metadata": {},
   "outputs": [],
   "source": [
    "def f(X):\n",
    "    n = X.shape[0]\n",
    "    y = np.zeros(n)\n",
    "    for i in range(n):\n",
    "        y[i] = 10 + 3*X[i,0] - 4*X[i,1] + X[i,2] - 7*X[i,3] \n",
    "    eps = np.random.randn(n)*2\n",
    "    return y + eps"
   ]
  },
  {
   "cell_type": "code",
   "execution_count": 5,
   "id": "a522596b",
   "metadata": {},
   "outputs": [],
   "source": [
    "y = f(X)"
   ]
  },
  {
   "cell_type": "code",
   "execution_count": 6,
   "id": "bee9c7ab",
   "metadata": {
    "scrolled": true
   },
   "outputs": [
    {
     "data": {
      "text/plain": [
       "(3360,)"
      ]
     },
     "execution_count": 6,
     "metadata": {},
     "output_type": "execute_result"
    }
   ],
   "source": [
    "y.shape"
   ]
  },
  {
   "cell_type": "code",
   "execution_count": 7,
   "id": "dff8ea54",
   "metadata": {},
   "outputs": [],
   "source": [
    "data = (X,y)"
   ]
  },
  {
   "cell_type": "code",
   "execution_count": 8,
   "id": "60f1a191",
   "metadata": {},
   "outputs": [],
   "source": [
    "import pickle"
   ]
  },
  {
   "cell_type": "code",
   "execution_count": 9,
   "id": "7776a0e2",
   "metadata": {},
   "outputs": [],
   "source": [
    "# save\n",
    "with open('data.pickle', 'wb') as f:\n",
    "    pickle.dump(data, f, pickle.HIGHEST_PROTOCOL)"
   ]
  },
  {
   "cell_type": "code",
   "execution_count": 29,
   "id": "2c61f7c2",
   "metadata": {},
   "outputs": [],
   "source": [
    "# load\n",
    "with open('data.pickle', 'rb') as f:\n",
    "    data_load = pickle.load(f)"
   ]
  },
  {
   "cell_type": "code",
   "execution_count": null,
   "id": "957dc65c",
   "metadata": {},
   "outputs": [],
   "source": []
  }
 ],
 "metadata": {
  "kernelspec": {
   "display_name": "MathDLstudy",
   "language": "python",
   "name": "mathdl"
  },
  "language_info": {
   "codemirror_mode": {
    "name": "ipython",
    "version": 3
   },
   "file_extension": ".py",
   "mimetype": "text/x-python",
   "name": "python",
   "nbconvert_exporter": "python",
   "pygments_lexer": "ipython3",
   "version": "3.8.13"
  }
 },
 "nbformat": 4,
 "nbformat_minor": 5
}
