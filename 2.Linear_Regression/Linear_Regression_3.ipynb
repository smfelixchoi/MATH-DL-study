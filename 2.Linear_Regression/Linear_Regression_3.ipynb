{
 "cells": [
  {
   "cell_type": "markdown",
   "id": "e198236b",
   "metadata": {},
   "source": [
    "# Solving Linear Regression "
   ]
  },
  {
   "cell_type": "code",
   "execution_count": 1,
   "id": "7776a0e2",
   "metadata": {},
   "outputs": [],
   "source": [
    "import numpy as np\n",
    "import pickle"
   ]
  },
  {
   "cell_type": "code",
   "execution_count": 2,
   "id": "2c61f7c2",
   "metadata": {},
   "outputs": [],
   "source": [
    "# load\n",
    "with open('data.pickle', 'rb') as f:\n",
    "    data_load = pickle.load(f)"
   ]
  },
  {
   "cell_type": "code",
   "execution_count": 5,
   "id": "2c039be9",
   "metadata": {},
   "outputs": [],
   "source": [
    "X, y = data_load"
   ]
  },
  {
   "cell_type": "markdown",
   "id": "74133960",
   "metadata": {},
   "source": [
    "### Analytic Solution"
   ]
  },
  {
   "cell_type": "code",
   "execution_count": 6,
   "id": "a14c104d",
   "metadata": {},
   "outputs": [],
   "source": [
    "w = np.linalg.solve(X.T@X, X.T@y)"
   ]
  },
  {
   "cell_type": "code",
   "execution_count": 7,
   "id": "b77c5209",
   "metadata": {},
   "outputs": [
    {
     "data": {
      "text/plain": [
       "array([ 0.52218765, -3.99766011,  3.65546651, -6.55236882])"
      ]
     },
     "execution_count": 7,
     "metadata": {},
     "output_type": "execute_result"
    }
   ],
   "source": [
    "w"
   ]
  },
  {
   "cell_type": "markdown",
   "id": "a038c189",
   "metadata": {},
   "source": [
    "It's Wrong!"
   ]
  },
  {
   "cell_type": "code",
   "execution_count": 8,
   "id": "4405c5c2",
   "metadata": {},
   "outputs": [],
   "source": [
    "Z = np.zeros((X.shape[0], X.shape[1]+1))"
   ]
  },
  {
   "cell_type": "code",
   "execution_count": 9,
   "id": "f7e9955e",
   "metadata": {},
   "outputs": [],
   "source": [
    "for i in range(X.shape[0]):\n",
    "    temp = list(X[i])\n",
    "    temp.insert(0, 1)  #List.insert(index, value) index에 value값을 넣기\n",
    "    Z[i] = np.array(temp)"
   ]
  },
  {
   "cell_type": "code",
   "execution_count": 10,
   "id": "1ffd4288",
   "metadata": {},
   "outputs": [],
   "source": [
    "w = np.linalg.solve(Z.T@Z, Z.T@y)"
   ]
  },
  {
   "cell_type": "code",
   "execution_count": 11,
   "id": "2eb3e16b",
   "metadata": {},
   "outputs": [
    {
     "data": {
      "text/plain": [
       "array([10.01038492,  2.96479233, -3.99766011,  0.99574142, -7.01707071])"
      ]
     },
     "execution_count": 11,
     "metadata": {},
     "output_type": "execute_result"
    }
   ],
   "source": [
    "w"
   ]
  },
  {
   "cell_type": "code",
   "execution_count": null,
   "id": "374de675",
   "metadata": {},
   "outputs": [],
   "source": []
  },
  {
   "cell_type": "markdown",
   "id": "7350d719",
   "metadata": {},
   "source": [
    "### Gradient Descent"
   ]
  },
  {
   "cell_type": "code",
   "execution_count": 33,
   "id": "b2f9b4d9",
   "metadata": {},
   "outputs": [],
   "source": [
    "EPOCHS=300\n",
    "lr=0.00001"
   ]
  },
  {
   "cell_type": "code",
   "execution_count": 34,
   "id": "10462beb",
   "metadata": {},
   "outputs": [
    {
     "data": {
      "text/plain": [
       "(3360, 5)"
      ]
     },
     "execution_count": 34,
     "metadata": {},
     "output_type": "execute_result"
    }
   ],
   "source": [
    "Z.shape"
   ]
  },
  {
   "cell_type": "code",
   "execution_count": 35,
   "id": "96c1a892",
   "metadata": {},
   "outputs": [],
   "source": [
    "weights = np.zeros(5)"
   ]
  },
  {
   "cell_type": "code",
   "execution_count": 36,
   "id": "dee581e8",
   "metadata": {},
   "outputs": [],
   "source": [
    "def forward_pass(X,w):\n",
    "    return X.dot(w)"
   ]
  },
  {
   "cell_type": "code",
   "execution_count": 37,
   "id": "e3d214be",
   "metadata": {},
   "outputs": [],
   "source": [
    "def compute_gradient(X,y,w):\n",
    "    y_hat = forward_pass(X,w)\n",
    "    return X.T@(y_hat-y)"
   ]
  },
  {
   "cell_type": "code",
   "execution_count": 38,
   "id": "15e95b90",
   "metadata": {},
   "outputs": [],
   "source": [
    "for _ in range(EPOCHS):\n",
    "    weights -= lr*compute_gradient(Z,y,weights)"
   ]
  },
  {
   "cell_type": "code",
   "execution_count": 39,
   "id": "a23605ab",
   "metadata": {},
   "outputs": [
    {
     "data": {
      "text/plain": [
       "array([ 9.84495223,  2.92013249, -3.99766007,  1.0455666 , -7.00999904])"
      ]
     },
     "execution_count": 39,
     "metadata": {},
     "output_type": "execute_result"
    }
   ],
   "source": [
    "weights"
   ]
  },
  {
   "cell_type": "code",
   "execution_count": null,
   "id": "957dc65c",
   "metadata": {},
   "outputs": [],
   "source": []
  }
 ],
 "metadata": {
  "kernelspec": {
   "display_name": "MathDLstudy",
   "language": "python",
   "name": "mathdl"
  },
  "language_info": {
   "codemirror_mode": {
    "name": "ipython",
    "version": 3
   },
   "file_extension": ".py",
   "mimetype": "text/x-python",
   "name": "python",
   "nbconvert_exporter": "python",
   "pygments_lexer": "ipython3",
   "version": "3.8.13"
  }
 },
 "nbformat": 4,
 "nbformat_minor": 5
}
